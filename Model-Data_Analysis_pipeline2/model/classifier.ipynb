{
 "cells": [
  {
   "cell_type": "code",
   "execution_count": 1,
   "metadata": {},
   "outputs": [],
   "source": [
    "import pandas as pd\n",
    "import numpy as np\n",
    "import torch"
   ]
  },
  {
   "cell_type": "code",
   "execution_count": 2,
   "metadata": {},
   "outputs": [],
   "source": [
    "import pickle"
   ]
  },
  {
   "cell_type": "markdown",
   "metadata": {},
   "source": [
    "<div class=\"alert alert-block alert-info\" style=\"color: #01571B; background-color: #C8E5C6;\">\n",
    "\n",
    "This notebook gets the embeddings provided by transE.ipynb and trains an MLP using those and the price group as the target."
   ]
  },
  {
   "cell_type": "markdown",
   "metadata": {},
   "source": [
    "First, we load the previous objects"
   ]
  },
  {
   "cell_type": "code",
   "execution_count": 4,
   "metadata": {},
   "outputs": [
    {
     "name": "stderr",
     "output_type": "stream",
     "text": [
      "C:\\Users\\sergi\\AppData\\Local\\Packages\\PythonSoftwareFoundation.Python.3.11_qbz5n2kfra8p0\\LocalCache\\local-packages\\Python311\\site-packages\\torchkge\\utils\\data_redundancy.py:11: TqdmWarning: IProgress not found. Please update jupyter and ipywidgets. See https://ipywidgets.readthedocs.io/en/stable/user_install.html\n",
      "  from tqdm.autonotebook import tqdm\n"
     ]
    }
   ],
   "source": [
    "with open('./objects/train.pkl', 'rb') as outp:\n",
    "    train = pickle.load(outp)\n",
    "\n",
    "with open('./objects/kg_train.pkl', 'rb') as outp:\n",
    "    kg_train = pickle.load(outp)\n",
    "\n",
    "with open('./objects/test_X.pkl', 'rb') as outp:\n",
    "    test_X = pickle.load(outp)\n",
    "\n",
    "with open('./objects/test_y.pkl', 'rb') as outp:\n",
    "    test_y = pickle.load(outp)\n",
    "\n",
    "with open('./objects/model.pkl', 'rb') as outp:\n",
    "    model = pickle.load(outp)"
   ]
  },
  {
   "cell_type": "markdown",
   "metadata": {},
   "source": [
    "Data Preparation"
   ]
  },
  {
   "cell_type": "code",
   "execution_count": 5,
   "metadata": {},
   "outputs": [],
   "source": [
    "batch_size = 1000  # Adjust batch size according to your memory capacity\n",
    "\n",
    "filtered_items = train[train['rel'] == 'http://example.org/apartment/price_discretized']['from']\n",
    "\n",
    "train_embedding_list = [np.load(f'./train_X/batch_{start}.npy') for start in range(0, len(filtered_items), batch_size)]\n",
    "train_embedding_list = np.concatenate(train_embedding_list, axis=0)\n",
    "train_embedding_tensor = torch.tensor(train_embedding_list, dtype=torch.float32)"
   ]
  },
  {
   "cell_type": "code",
   "execution_count": 6,
   "metadata": {},
   "outputs": [],
   "source": [
    "train_X = train_embedding_tensor\n",
    "train_y = train[train['rel'] == 'http://example.org/apartment/price_discretized']['to']\n",
    "train_y = torch.tensor(train_y.astype(float).array)"
   ]
  },
  {
   "cell_type": "code",
   "execution_count": 30,
   "metadata": {},
   "outputs": [],
   "source": [
    "batch_size = 500  # Adjust batch size according to your memory capacity\n",
    "\n",
    "filtered_items = test_X['from']\n",
    "\n",
    "test_embedding_list = [np.load(f'./test_X/batch_{start}.npy') for start in range(0, len(filtered_items), batch_size)]\n",
    "test_embedding_list = np.concatenate(test_embedding_list, axis=0)\n",
    "test_embedding_tensor = torch.tensor(test_embedding_list, dtype=torch.float32)"
   ]
  },
  {
   "cell_type": "code",
   "execution_count": 36,
   "metadata": {},
   "outputs": [],
   "source": [
    "test_X = test_embedding_tensor\n",
    "test_y = torch.tensor(test_y.astype(float).array)"
   ]
  },
  {
   "cell_type": "markdown",
   "metadata": {},
   "source": [
    "MLP Training"
   ]
  },
  {
   "cell_type": "code",
   "execution_count": 58,
   "metadata": {},
   "outputs": [
    {
     "name": "stdout",
     "output_type": "stream",
     "text": [
      "Epoch [2/80], Loss: 1.4082\n",
      "Epoch [4/80], Loss: 1.3870\n",
      "Epoch [6/80], Loss: 1.3665\n",
      "Epoch [8/80], Loss: 1.3459\n",
      "Epoch [10/80], Loss: 1.3240\n",
      "Epoch [12/80], Loss: 1.2999\n",
      "Epoch [14/80], Loss: 1.2733\n",
      "Epoch [16/80], Loss: 1.2439\n",
      "Epoch [18/80], Loss: 1.2124\n",
      "Epoch [20/80], Loss: 1.1801\n",
      "Epoch [22/80], Loss: 1.1497\n",
      "Epoch [24/80], Loss: 1.1243\n",
      "Epoch [26/80], Loss: 1.1072\n",
      "Epoch [28/80], Loss: 1.0996\n",
      "Epoch [30/80], Loss: 1.0990\n",
      "Epoch [32/80], Loss: 1.1009\n",
      "Epoch [34/80], Loss: 1.1014\n",
      "Epoch [36/80], Loss: 1.0986\n",
      "Epoch [38/80], Loss: 1.0927\n",
      "Epoch [40/80], Loss: 1.0855\n",
      "Epoch [42/80], Loss: 1.0791\n",
      "Epoch [44/80], Loss: 1.0746\n",
      "Epoch [46/80], Loss: 1.0717\n",
      "Epoch [48/80], Loss: 1.0695\n",
      "Epoch [50/80], Loss: 1.0671\n",
      "Epoch [52/80], Loss: 1.0640\n",
      "Epoch [54/80], Loss: 1.0601\n",
      "Epoch [56/80], Loss: 1.0557\n",
      "Epoch [58/80], Loss: 1.0510\n",
      "Epoch [60/80], Loss: 1.0464\n",
      "Epoch [62/80], Loss: 1.0419\n",
      "Epoch [64/80], Loss: 1.0374\n",
      "Epoch [66/80], Loss: 1.0329\n",
      "Epoch [68/80], Loss: 1.0283\n",
      "Epoch [70/80], Loss: 1.0238\n",
      "Epoch [72/80], Loss: 1.0194\n",
      "Epoch [74/80], Loss: 1.0154\n",
      "Epoch [76/80], Loss: 1.0119\n",
      "Epoch [78/80], Loss: 1.0089\n",
      "Epoch [80/80], Loss: 1.0063\n",
      "Train Accuracy: 55.09%\n",
      "Test Accuracy: 54.66%\n"
     ]
    }
   ],
   "source": [
    "import torch\n",
    "import torch.nn as nn\n",
    "import torch.optim as optim\n",
    "import torch.nn.functional as F\n",
    "from sklearn.metrics import accuracy_score\n",
    "\n",
    "# Definición del modelo MLP\n",
    "class MLPClassifier(nn.Module):\n",
    "    def __init__(self, input_size, hidden_size, output_size):\n",
    "        super(MLPClassifier, self).__init__()\n",
    "        self.fc1 = nn.Linear(input_size, hidden_size)\n",
    "        self.fc2 = nn.Linear(hidden_size, hidden_size)\n",
    "        self.fc3 = nn.Linear(hidden_size, output_size)\n",
    "\n",
    "    def forward(self, x):\n",
    "        x = F.relu(self.fc1(x))\n",
    "        x = F.relu(self.fc2(x))\n",
    "        x = self.fc3(x)\n",
    "        return x\n",
    "\n",
    "# Parámetros del modelo\n",
    "input_size = train_X.shape[1]\n",
    "hidden_size = 128\n",
    "output_size = 4 # ya que los posibles valores de test_y son 0, 1, 2, 3\n",
    "\n",
    "# Instanciar el modelo, el criterio de pérdida y el optimizador\n",
    "model = MLPClassifier(input_size, hidden_size, output_size)\n",
    "criterion = nn.CrossEntropyLoss()\n",
    "optimizer = optim.Adam(model.parameters(), lr=0.001)\n",
    "\n",
    "# Convertir train_y y test_y al tipo Long\n",
    "train_y = train_y.long()\n",
    "test_y = test_y.long()\n",
    "\n",
    "# Entrenamiento del modelo\n",
    "num_epochs = 80\n",
    "for epoch in range(num_epochs):\n",
    "    model.train()\n",
    "    optimizer.zero_grad()\n",
    "    outputs = model(train_X)\n",
    "    loss = criterion(outputs, train_y)\n",
    "    loss.backward()\n",
    "    optimizer.step()\n",
    "    \n",
    "    if (epoch+1) % 2 == 0:\n",
    "        print(f'Epoch [{epoch+1}/{num_epochs}], Loss: {loss.item():.4f}')\n",
    "\n",
    "# Evaluación del modelo\n",
    "model.eval()\n",
    "with torch.no_grad():\n",
    "    train_outputs = model(train_X)\n",
    "    train_predictions = torch.argmax(train_outputs, dim=1)\n",
    "    train_accuracy = accuracy_score(train_y.numpy(), train_predictions.numpy())\n",
    "\n",
    "    test_outputs = model(test_X)\n",
    "    test_predictions = torch.argmax(test_outputs, dim=1)\n",
    "    test_accuracy = accuracy_score(test_y.numpy(), test_predictions.numpy())\n",
    "\n",
    "print(f'Train Accuracy: {train_accuracy * 100:.2f}%')\n",
    "print(f'Test Accuracy: {test_accuracy * 100:.2f}%')\n"
   ]
  },
  {
   "cell_type": "code",
   "execution_count": 50,
   "metadata": {},
   "outputs": [],
   "source": [
    "x = pd.Series(test_predictions)"
   ]
  },
  {
   "cell_type": "code",
   "execution_count": 66,
   "metadata": {},
   "outputs": [
    {
     "data": {
      "text/plain": [
       "1    1065\n",
       "0     796\n",
       "2      85\n",
       "3      39\n",
       "dtype: int64"
      ]
     },
     "execution_count": 66,
     "metadata": {},
     "output_type": "execute_result"
    }
   ],
   "source": [
    "x.value_counts()"
   ]
  },
  {
   "cell_type": "code",
   "execution_count": 67,
   "metadata": {},
   "outputs": [
    {
     "data": {
      "image/png": "[encoded data removed]",
      "text/plain": [
       "<Figure size 1000x700 with 2 Axes>"
      ]
     },
     "metadata": {},
     "output_type": "display_data"
    }
   ],
   "source": [
    "import matplotlib.pyplot as plt\n",
    "import seaborn as sns\n",
    "from sklearn.metrics import confusion_matrix\n",
    "\n",
    "# Calculate confusion matrix\n",
    "cm = confusion_matrix(test_y, test_predictions)\n",
    "\n",
    "# Create a heatmap\n",
    "plt.figure(figsize=(10, 7))\n",
    "sns.heatmap(cm, annot=True, fmt='d', cmap='Blues')\n",
    "\n",
    "# Add labels to the plot\n",
    "plt.xlabel('Predicted')\n",
    "plt.ylabel('Actual')\n",
    "plt.title('Confusion Matrix')\n",
    "\n",
    "# Show the plot\n",
    "plt.show()"
   ]
  },
  {
   "cell_type": "markdown",
   "metadata": {},
   "source": [
    "As it is, the model is not the world's best predictor. Although it is better than the random baseline (which would be 25% accuracy), it rarely predicts the 2 most expensive classes and when it does it usually does it very badly. "
   ]
  },
  {
   "cell_type": "markdown",
   "metadata": {},
   "source": [
    "On experimentation, we have found that with the actual data, these are the best results before the model starts overfitting. This might be due to data unexplicability (not probable), not enoguh data instances, a bad embedder (TransE) caused by, for instance, a too little embedding dimension."
   ]
  },
  {
   "cell_type": "code",
   "execution_count": 62,
   "metadata": {},
   "outputs": [
    {
     "data": {
      "text/plain": [
       "<function sklearn.metrics._classification.confusion_matrix(y_true, y_pred, *, labels=None, sample_weight=None, normalize=None)>"
      ]
     },
     "execution_count": 62,
     "metadata": {},
     "output_type": "execute_result"
    }
   ],
   "source": [
    "confusion_matrix"
   ]
  }
 ],
 "metadata": {
  "kernelspec": {
   "display_name": "Python 3",
   "language": "python",
   "name": "python3"
  },
  "language_info": {
   "codemirror_mode": {
    "name": "ipython",
    "version": 3
   },
   "file_extension": ".py",
   "mimetype": "text/x-python",
   "name": "python",
   "nbconvert_exporter": "python",
   "pygments_lexer": "ipython3",
   "version": "3.11.9"
  }
 },
 "nbformat": 4,
 "nbformat_minor": 2
}
