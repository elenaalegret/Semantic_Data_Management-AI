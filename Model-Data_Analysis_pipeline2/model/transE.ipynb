{
 "cells": [
  {
   "cell_type": "code",
   "execution_count": 90,
   "metadata": {},
   "outputs": [],
   "source": [
    "\n",
    "from torch.optim import Adam\n",
    "\n",
    "from torchkge.evaluation import LinkPredictionEvaluator\n",
    "from torchkge.models import TransEModel\n",
    "from torchkge.utils.datasets import load_fb15k\n",
    "from torchkge.utils import Trainer, MarginLoss, DataLoader\n",
    "from torchkge.sampling import BernoulliNegativeSampler\n",
    "from torchkge.utils.pretrained_models import load_pretrained_transe\n",
    "\n",
    "\n",
    "\n",
    "from tqdm.autonotebook import tqdm"
   ]
  },
  {
   "cell_type": "code",
   "execution_count": 85,
   "metadata": {},
   "outputs": [],
   "source": [
    "import torch\n"
   ]
  },
  {
   "cell_type": "code",
   "execution_count": 86,
   "metadata": {},
   "outputs": [],
   "source": [
    "from torchkge.evaluation import TripletClassificationEvaluator"
   ]
  },
  {
   "cell_type": "code",
   "execution_count": 87,
   "metadata": {},
   "outputs": [],
   "source": [
    "from rdflib import Graph\n",
    "import pandas as pd\n",
    "from torchkge.data_structures import KnowledgeGraph"
   ]
  },
  {
   "cell_type": "markdown",
   "metadata": {},
   "source": [
    "<div class=\"alert alert-block alert-info\" style=\"color: #01571B; background-color: #C8E5C6;\">\n",
    "\n",
    "\n",
    "From the model prepared Turtle file we build the desired graph:"
   ]
  },
  {
   "cell_type": "code",
   "execution_count": 61,
   "metadata": {},
   "outputs": [],
   "source": [
    "\n",
    "\n",
    "# Load the graph from TTL file\n",
    "g = Graph()\n",
    "g.parse(\"./../../data/explotation_zone/RDFGraph_Model_emb.ttl\", format=\"ttl\")\n",
    "\n",
    "\n",
    "triples = []\n",
    "for s, p, o in g:\n",
    "    triples.append((str(s), str(p), str(o)))\n",
    "\n",
    "data = pd.DataFrame(triples)\n",
    "data.columns = ['from','rel','to']\n",
    "data = data[['from','to','rel']]\n",
    "\n"
   ]
  },
  {
   "cell_type": "code",
   "execution_count": 62,
   "metadata": {},
   "outputs": [
    {
     "data": {
      "text/html": [
       "<div>\n",
       "<style scoped>\n",
       "    .dataframe tbody tr th:only-of-type {\n",
       "        vertical-align: middle;\n",
       "    }\n",
       "\n",
       "    .dataframe tbody tr th {\n",
       "        vertical-align: top;\n",
       "    }\n",
       "\n",
       "    .dataframe thead th {\n",
       "        text-align: right;\n",
       "    }\n",
       "</style>\n",
       "<table border=\"1\" class=\"dataframe\">\n",
       "  <thead>\n",
       "    <tr style=\"text-align: right;\">\n",
       "      <th></th>\n",
       "      <th>from</th>\n",
       "      <th>to</th>\n",
       "      <th>rel</th>\n",
       "    </tr>\n",
       "  </thead>\n",
       "  <tbody>\n",
       "    <tr>\n",
       "      <th>25</th>\n",
       "      <td>http://example.org/apartment/apartment_4198</td>\n",
       "      <td>1.0</td>\n",
       "      <td>http://example.org/apartment/price_discretized</td>\n",
       "    </tr>\n",
       "    <tr>\n",
       "      <th>65</th>\n",
       "      <td>http://example.org/apartment/apartment_8904</td>\n",
       "      <td>1.0</td>\n",
       "      <td>http://example.org/apartment/price_discretized</td>\n",
       "    </tr>\n",
       "    <tr>\n",
       "      <th>66</th>\n",
       "      <td>http://example.org/apartment/apartment_9032</td>\n",
       "      <td>0.0</td>\n",
       "      <td>http://example.org/apartment/price_discretized</td>\n",
       "    </tr>\n",
       "    <tr>\n",
       "      <th>83</th>\n",
       "      <td>http://example.org/apartment/apartment_7323</td>\n",
       "      <td>1.0</td>\n",
       "      <td>http://example.org/apartment/price_discretized</td>\n",
       "    </tr>\n",
       "    <tr>\n",
       "      <th>93</th>\n",
       "      <td>http://example.org/apartment/apartment_7506</td>\n",
       "      <td>0.0</td>\n",
       "      <td>http://example.org/apartment/price_discretized</td>\n",
       "    </tr>\n",
       "    <tr>\n",
       "      <th>...</th>\n",
       "      <td>...</td>\n",
       "      <td>...</td>\n",
       "      <td>...</td>\n",
       "    </tr>\n",
       "    <tr>\n",
       "      <th>288210</th>\n",
       "      <td>http://example.org/apartment/apartment_8324</td>\n",
       "      <td>0.0</td>\n",
       "      <td>http://example.org/apartment/price_discretized</td>\n",
       "    </tr>\n",
       "    <tr>\n",
       "      <th>288323</th>\n",
       "      <td>http://example.org/apartment/apartment_8343</td>\n",
       "      <td>1.0</td>\n",
       "      <td>http://example.org/apartment/price_discretized</td>\n",
       "    </tr>\n",
       "    <tr>\n",
       "      <th>288365</th>\n",
       "      <td>http://example.org/apartment/apartment_8381</td>\n",
       "      <td>3.0</td>\n",
       "      <td>http://example.org/apartment/price_discretized</td>\n",
       "    </tr>\n",
       "    <tr>\n",
       "      <th>288373</th>\n",
       "      <td>http://example.org/apartment/apartment_3097</td>\n",
       "      <td>1.0</td>\n",
       "      <td>http://example.org/apartment/price_discretized</td>\n",
       "    </tr>\n",
       "    <tr>\n",
       "      <th>288375</th>\n",
       "      <td>http://example.org/apartment/apartment_5257</td>\n",
       "      <td>1.0</td>\n",
       "      <td>http://example.org/apartment/price_discretized</td>\n",
       "    </tr>\n",
       "  </tbody>\n",
       "</table>\n",
       "<p>9925 rows × 3 columns</p>\n",
       "</div>"
      ],
      "text/plain": [
       "                                               from   to  \\\n",
       "25      http://example.org/apartment/apartment_4198  1.0   \n",
       "65      http://example.org/apartment/apartment_8904  1.0   \n",
       "66      http://example.org/apartment/apartment_9032  0.0   \n",
       "83      http://example.org/apartment/apartment_7323  1.0   \n",
       "93      http://example.org/apartment/apartment_7506  0.0   \n",
       "...                                             ...  ...   \n",
       "288210  http://example.org/apartment/apartment_8324  0.0   \n",
       "288323  http://example.org/apartment/apartment_8343  1.0   \n",
       "288365  http://example.org/apartment/apartment_8381  3.0   \n",
       "288373  http://example.org/apartment/apartment_3097  1.0   \n",
       "288375  http://example.org/apartment/apartment_5257  1.0   \n",
       "\n",
       "                                                   rel  \n",
       "25      http://example.org/apartment/price_discretized  \n",
       "65      http://example.org/apartment/price_discretized  \n",
       "66      http://example.org/apartment/price_discretized  \n",
       "83      http://example.org/apartment/price_discretized  \n",
       "93      http://example.org/apartment/price_discretized  \n",
       "...                                                ...  \n",
       "288210  http://example.org/apartment/price_discretized  \n",
       "288323  http://example.org/apartment/price_discretized  \n",
       "288365  http://example.org/apartment/price_discretized  \n",
       "288373  http://example.org/apartment/price_discretized  \n",
       "288375  http://example.org/apartment/price_discretized  \n",
       "\n",
       "[9925 rows x 3 columns]"
      ]
     },
     "execution_count": 62,
     "metadata": {},
     "output_type": "execute_result"
    }
   ],
   "source": [
    "data[data['rel'] == 'http://example.org/apartment/price_discretized']"
   ]
  },
  {
   "cell_type": "markdown",
   "metadata": {},
   "source": [
    "<div class=\"alert alert-block alert-info\" style=\"color: #01571B; background-color: #C8E5C6;\">\n",
    "\n",
    "We split the data between train and test. Since we only want to predict the price of AirBNB apartments, only triples corresponding to the price relation are going to be evaluated. The model will still learn the relations between all nodes, including the nodes for which the later model will be predicting it's price group (although this relations has been erased)"
   ]
  },
  {
   "cell_type": "code",
   "execution_count": 65,
   "metadata": {},
   "outputs": [],
   "source": [
    "test = data[data['rel'] == 'http://example.org/apartment/price_discretized'].sample(frac = 0.2)\n",
    "train = data.drop(test.index)\n",
    "test_y = test['to']\n",
    "test_X = test.drop(columns = ['to'])"
   ]
  },
  {
   "cell_type": "markdown",
   "metadata": {},
   "source": [
    "Let's build the training graph"
   ]
  },
  {
   "cell_type": "code",
   "execution_count": 73,
   "metadata": {},
   "outputs": [],
   "source": [
    "kg_train = KnowledgeGraph(df=train)\n"
   ]
  },
  {
   "cell_type": "markdown",
   "metadata": {},
   "source": [
    "The model will be giving an output of 100 dimension embedding and will be trained with the parameters that can be seen in the code. The selected model is a TransE projection model. This selection has been made due to it's simplicity and therefore faster training."
   ]
  },
  {
   "cell_type": "code",
   "execution_count": 74,
   "metadata": {},
   "outputs": [],
   "source": [
    "emb_dim = 100\n",
    "model = TransEModel(emb_dim, kg_train.n_ent, kg_train.n_rel, dissimilarity_type='L2')"
   ]
  },
  {
   "cell_type": "code",
   "execution_count": 75,
   "metadata": {},
   "outputs": [],
   "source": [
    "lr = 0.0004\n",
    "margin = 0.5\n",
    "n_epochs = 1000\n",
    "b_size = 32768"
   ]
  },
  {
   "cell_type": "code",
   "execution_count": 76,
   "metadata": {},
   "outputs": [
    {
     "name": "stderr",
     "output_type": "stream",
     "text": [
      "  0%|          | 0/1000 [00:00<?, ?epoch/s]"
     ]
    },
    {
     "name": "stdout",
     "output_type": "stream",
     "text": [
      "epoch done! 0\n"
     ]
    },
    {
     "name": "stderr",
     "output_type": "stream",
     "text": [
      "Epoch 1 | mean loss: 15572.52072:   0%|          | 1/1000 [00:01<21:38,  1.30s/epoch]"
     ]
    },
    {
     "name": "stdout",
     "output_type": "stream",
     "text": [
      "epoch done! 1\n"
     ]
    },
    {
     "name": "stderr",
     "output_type": "stream",
     "text": [
      "Epoch 2 | mean loss: 13641.67893:   0%|          | 2/1000 [00:02<21:07,  1.27s/epoch]"
     ]
    },
    {
     "name": "stdout",
     "output_type": "stream",
     "text": [
      "epoch done! 2\n"
     ]
    },
    {
     "name": "stderr",
     "output_type": "stream",
     "text": [
      "Epoch 3 | mean loss: 11896.14182:   0%|          | 3/1000 [00:03<20:49,  1.25s/epoch]"
     ]
    },
    {
     "name": "stdout",
     "output_type": "stream",
     "text": [
      "epoch done! 3\n"
     ]
    },
    {
     "name": "stderr",
     "output_type": "stream",
     "text": [
      "Epoch 4 | mean loss: 10373.13851:   0%|          | 4/1000 [00:05<20:40,  1.25s/epoch]"
     ]
    },
    {
     "name": "stdout",
     "output_type": "stream",
     "text": [
      "epoch done! 4\n"
     ]
    },
    {
     "name": "stderr",
     "output_type": "stream",
     "text": [
      "Epoch 5 | mean loss: 9039.35314:   0%|          | 5/1000 [00:06<20:36,  1.24s/epoch] "
     ]
    },
    {
     "name": "stdout",
     "output_type": "stream",
     "text": [
      "epoch done! 5\n"
     ]
    },
    {
     "name": "stderr",
     "output_type": "stream",
     "text": [
      "Epoch 6 | mean loss: 7949.35661:   1%|          | 6/1000 [00:07<20:42,  1.25s/epoch]"
     ]
    },
    {
     "name": "stdout",
     "output_type": "stream",
     "text": [
      "epoch done! 6\n"
     ]
    },
    {
     "name": "stderr",
     "output_type": "stream",
     "text": [
      "Epoch 7 | mean loss: 7051.21989:   1%|          | 7/1000 [00:08<20:21,  1.23s/epoch]"
     ]
    },
    {
     "name": "stdout",
     "output_type": "stream",
     "text": [
      "epoch done! 7\n"
     ]
    },
    {
     "name": "stderr",
     "output_type": "stream",
     "text": [
      "Epoch 8 | mean loss: 6265.38786:   1%|          | 8/1000 [00:09<20:22,  1.23s/epoch]"
     ]
    },
    {
     "name": "stdout",
     "output_type": "stream",
     "text": [
      "epoch done! 8\n"
     ]
    },
    {
     "name": "stderr",
     "output_type": "stream",
     "text": [
      "Epoch 9 | mean loss: 5641.80024:   1%|          | 9/1000 [00:11<20:24,  1.24s/epoch]"
     ]
    },
    {
     "name": "stdout",
     "output_type": "stream",
     "text": [
      "epoch done! 9\n"
     ]
    },
    {
     "name": "stderr",
     "output_type": "stream",
     "text": [
      "Epoch 10 | mean loss: 5106.54956:   1%|          | 10/1000 [00:12<20:16,  1.23s/epoch]"
     ]
    },
    {
     "name": "stdout",
     "output_type": "stream",
     "text": [
      "epoch done! 10\n"
     ]
    },
    {
     "name": "stderr",
     "output_type": "stream",
     "text": [
      "Epoch 11 | mean loss: 4652.88886:   1%|          | 11/1000 [00:13<20:19,  1.23s/epoch]"
     ]
    },
    {
     "name": "stdout",
     "output_type": "stream",
     "text": [
      "epoch done! 11\n"
     ]
    },
    {
     "name": "stderr",
     "output_type": "stream",
     "text": [
      "Epoch 12 | mean loss: 4272.41496:   1%|          | 12/1000 [00:14<20:18,  1.23s/epoch]"
     ]
    },
    {
     "name": "stdout",
     "output_type": "stream",
     "text": [
      "epoch done! 12\n"
     ]
    },
    {
     "name": "stderr",
     "output_type": "stream",
     "text": [
      "Epoch 13 | mean loss: 3918.09654:   1%|▏         | 13/1000 [00:16<20:17,  1.23s/epoch]"
     ]
    },
    {
     "name": "stdout",
     "output_type": "stream",
     "text": [
      "epoch done! 13\n"
     ]
    },
    {
     "name": "stderr",
     "output_type": "stream",
     "text": [
      "Epoch 14 | mean loss: 3632.04454:   1%|▏         | 14/1000 [00:17<20:16,  1.23s/epoch]"
     ]
    },
    {
     "name": "stdout",
     "output_type": "stream",
     "text": [
      "epoch done! 14\n"
     ]
    },
    {
     "name": "stderr",
     "output_type": "stream",
     "text": [
      "Epoch 15 | mean loss: 3380.41151:   2%|▏         | 15/1000 [00:18<20:12,  1.23s/epoch]"
     ]
    },
    {
     "name": "stdout",
     "output_type": "stream",
     "text": [
      "epoch done! 15\n"
     ]
    },
    {
     "name": "stderr",
     "output_type": "stream",
     "text": [
      "Epoch 16 | mean loss: 3137.51817:   2%|▏         | 16/1000 [00:19<20:12,  1.23s/epoch]"
     ]
    },
    {
     "name": "stdout",
     "output_type": "stream",
     "text": [
      "epoch done! 16\n"
     ]
    },
    {
     "name": "stderr",
     "output_type": "stream",
     "text": [
      "Epoch 17 | mean loss: 2932.25410:   2%|▏         | 17/1000 [00:21<20:11,  1.23s/epoch]"
     ]
    },
    {
     "name": "stdout",
     "output_type": "stream",
     "text": [
      "epoch done! 17\n"
     ]
    },
    {
     "name": "stderr",
     "output_type": "stream",
     "text": [
      "Epoch 18 | mean loss: 2762.49509:   2%|▏         | 18/1000 [00:22<20:35,  1.26s/epoch]"
     ]
    },
    {
     "name": "stdout",
     "output_type": "stream",
     "text": [
      "epoch done! 18\n"
     ]
    },
    {
     "name": "stderr",
     "output_type": "stream",
     "text": [
      "Epoch 19 | mean loss: 2572.96682:   2%|▏         | 19/1000 [00:23<20:18,  1.24s/epoch]"
     ]
    },
    {
     "name": "stdout",
     "output_type": "stream",
     "text": [
      "epoch done! 19\n"
     ]
    },
    {
     "name": "stderr",
     "output_type": "stream",
     "text": [
      "Epoch 20 | mean loss: 2424.73199:   2%|▏         | 20/1000 [00:24<20:10,  1.24s/epoch]"
     ]
    },
    {
     "name": "stdout",
     "output_type": "stream",
     "text": [
      "epoch done! 20\n"
     ]
    },
    {
     "name": "stderr",
     "output_type": "stream",
     "text": [
      "Epoch 21 | mean loss: 2298.85982:   2%|▏         | 21/1000 [00:26<20:06,  1.23s/epoch]"
     ]
    },
    {
     "name": "stdout",
     "output_type": "stream",
     "text": [
      "epoch done! 21\n"
     ]
    },
    {
     "name": "stderr",
     "output_type": "stream",
     "text": [
      "Epoch 22 | mean loss: 2157.79980:   2%|▏         | 22/1000 [00:27<20:03,  1.23s/epoch]"
     ]
    },
    {
     "name": "stdout",
     "output_type": "stream",
     "text": [
      "epoch done! 22\n"
     ]
    },
    {
     "name": "stderr",
     "output_type": "stream",
     "text": [
      "Epoch 23 | mean loss: 2028.32060:   2%|▏         | 23/1000 [00:28<19:45,  1.21s/epoch]"
     ]
    },
    {
     "name": "stdout",
     "output_type": "stream",
     "text": [
      "epoch done! 23\n"
     ]
    },
    {
     "name": "stderr",
     "output_type": "stream",
     "text": [
      "Epoch 24 | mean loss: 1925.93320:   2%|▏         | 24/1000 [00:29<19:50,  1.22s/epoch]"
     ]
    },
    {
     "name": "stdout",
     "output_type": "stream",
     "text": [
      "epoch done! 24\n"
     ]
    },
    {
     "name": "stderr",
     "output_type": "stream",
     "text": [
      "Epoch 25 | mean loss: 1810.31569:   2%|▎         | 25/1000 [00:30<19:56,  1.23s/epoch]"
     ]
    },
    {
     "name": "stdout",
     "output_type": "stream",
     "text": [
      "epoch done! 25\n"
     ]
    },
    {
     "name": "stderr",
     "output_type": "stream",
     "text": [
      "Epoch 26 | mean loss: 1718.25719:   3%|▎         | 26/1000 [00:32<19:56,  1.23s/epoch]"
     ]
    },
    {
     "name": "stdout",
     "output_type": "stream",
     "text": [
      "epoch done! 26\n"
     ]
    },
    {
     "name": "stderr",
     "output_type": "stream",
     "text": [
      "Epoch 27 | mean loss: 1632.83921:   3%|▎         | 27/1000 [00:33<19:57,  1.23s/epoch]"
     ]
    },
    {
     "name": "stdout",
     "output_type": "stream",
     "text": [
      "epoch done! 27\n"
     ]
    },
    {
     "name": "stderr",
     "output_type": "stream",
     "text": [
      "Epoch 28 | mean loss: 1554.78349:   3%|▎         | 28/1000 [00:34<19:53,  1.23s/epoch]"
     ]
    },
    {
     "name": "stdout",
     "output_type": "stream",
     "text": [
      "epoch done! 28\n"
     ]
    },
    {
     "name": "stderr",
     "output_type": "stream",
     "text": [
      "Epoch 29 | mean loss: 1471.78347:   3%|▎         | 29/1000 [00:35<19:52,  1.23s/epoch]"
     ]
    },
    {
     "name": "stdout",
     "output_type": "stream",
     "text": [
      "epoch done! 29\n"
     ]
    },
    {
     "name": "stderr",
     "output_type": "stream",
     "text": [
      "Epoch 30 | mean loss: 1404.59711:   3%|▎         | 30/1000 [00:37<19:50,  1.23s/epoch]"
     ]
    },
    {
     "name": "stdout",
     "output_type": "stream",
     "text": [
      "epoch done! 30\n"
     ]
    },
    {
     "name": "stderr",
     "output_type": "stream",
     "text": [
      "Epoch 31 | mean loss: 1330.01398:   3%|▎         | 31/1000 [00:38<19:49,  1.23s/epoch]"
     ]
    },
    {
     "name": "stdout",
     "output_type": "stream",
     "text": [
      "epoch done! 31\n"
     ]
    },
    {
     "name": "stderr",
     "output_type": "stream",
     "text": [
      "Epoch 32 | mean loss: 1270.95540:   3%|▎         | 32/1000 [00:39<19:47,  1.23s/epoch]"
     ]
    },
    {
     "name": "stdout",
     "output_type": "stream",
     "text": [
      "epoch done! 32\n"
     ]
    },
    {
     "name": "stderr",
     "output_type": "stream",
     "text": [
      "Epoch 33 | mean loss: 1203.83264:   3%|▎         | 33/1000 [00:40<19:46,  1.23s/epoch]"
     ]
    },
    {
     "name": "stdout",
     "output_type": "stream",
     "text": [
      "epoch done! 33\n"
     ]
    },
    {
     "name": "stderr",
     "output_type": "stream",
     "text": [
      "Epoch 34 | mean loss: 1133.18511:   3%|▎         | 34/1000 [00:41<19:44,  1.23s/epoch]"
     ]
    },
    {
     "name": "stdout",
     "output_type": "stream",
     "text": [
      "epoch done! 34\n"
     ]
    },
    {
     "name": "stderr",
     "output_type": "stream",
     "text": [
      "Epoch 35 | mean loss: 1087.25140:   4%|▎         | 35/1000 [00:43<19:47,  1.23s/epoch]"
     ]
    },
    {
     "name": "stdout",
     "output_type": "stream",
     "text": [
      "epoch done! 35\n"
     ]
    },
    {
     "name": "stderr",
     "output_type": "stream",
     "text": [
      "Epoch 36 | mean loss: 1025.69678:   4%|▎         | 36/1000 [00:44<19:45,  1.23s/epoch]"
     ]
    },
    {
     "name": "stdout",
     "output_type": "stream",
     "text": [
      "epoch done! 36\n"
     ]
    },
    {
     "name": "stderr",
     "output_type": "stream",
     "text": [
      "Epoch 37 | mean loss: 981.53717:   4%|▎         | 37/1000 [00:45<19:41,  1.23s/epoch] "
     ]
    },
    {
     "name": "stdout",
     "output_type": "stream",
     "text": [
      "epoch done! 37\n"
     ]
    },
    {
     "name": "stderr",
     "output_type": "stream",
     "text": [
      "Epoch 38 | mean loss: 937.44740:   4%|▍         | 38/1000 [00:46<19:41,  1.23s/epoch]"
     ]
    },
    {
     "name": "stdout",
     "output_type": "stream",
     "text": [
      "epoch done! 38\n"
     ]
    },
    {
     "name": "stderr",
     "output_type": "stream",
     "text": [
      "Epoch 39 | mean loss: 901.27468:   4%|▍         | 39/1000 [00:48<19:44,  1.23s/epoch]"
     ]
    },
    {
     "name": "stdout",
     "output_type": "stream",
     "text": [
      "epoch done! 39\n"
     ]
    },
    {
     "name": "stderr",
     "output_type": "stream",
     "text": [
      "Epoch 40 | mean loss: 852.22594:   4%|▍         | 40/1000 [00:49<19:41,  1.23s/epoch]"
     ]
    },
    {
     "name": "stdout",
     "output_type": "stream",
     "text": [
      "epoch done! 40\n"
     ]
    },
    {
     "name": "stderr",
     "output_type": "stream",
     "text": [
      "Epoch 41 | mean loss: 807.49371:   4%|▍         | 41/1000 [00:50<19:40,  1.23s/epoch]"
     ]
    },
    {
     "name": "stdout",
     "output_type": "stream",
     "text": [
      "epoch done! 41\n"
     ]
    },
    {
     "name": "stderr",
     "output_type": "stream",
     "text": [
      "Epoch 42 | mean loss: 780.29608:   4%|▍         | 42/1000 [00:51<19:36,  1.23s/epoch]"
     ]
    },
    {
     "name": "stdout",
     "output_type": "stream",
     "text": [
      "epoch done! 42\n"
     ]
    },
    {
     "name": "stderr",
     "output_type": "stream",
     "text": [
      "Epoch 43 | mean loss: 752.49083:   4%|▍         | 43/1000 [00:53<19:41,  1.23s/epoch]"
     ]
    },
    {
     "name": "stdout",
     "output_type": "stream",
     "text": [
      "epoch done! 43\n"
     ]
    },
    {
     "name": "stderr",
     "output_type": "stream",
     "text": [
      "Epoch 44 | mean loss: 715.55396:   4%|▍         | 44/1000 [00:54<19:42,  1.24s/epoch]"
     ]
    },
    {
     "name": "stdout",
     "output_type": "stream",
     "text": [
      "epoch done! 44\n"
     ]
    },
    {
     "name": "stderr",
     "output_type": "stream",
     "text": [
      "Epoch 45 | mean loss: 688.92978:   4%|▍         | 45/1000 [00:55<19:38,  1.23s/epoch]"
     ]
    },
    {
     "name": "stdout",
     "output_type": "stream",
     "text": [
      "epoch done! 45\n"
     ]
    },
    {
     "name": "stderr",
     "output_type": "stream",
     "text": [
      "Epoch 46 | mean loss: 648.11503:   5%|▍         | 46/1000 [00:56<19:38,  1.23s/epoch]"
     ]
    },
    {
     "name": "stdout",
     "output_type": "stream",
     "text": [
      "epoch done! 46\n"
     ]
    },
    {
     "name": "stderr",
     "output_type": "stream",
     "text": [
      "Epoch 47 | mean loss: 618.20393:   5%|▍         | 47/1000 [00:57<19:33,  1.23s/epoch]"
     ]
    },
    {
     "name": "stdout",
     "output_type": "stream",
     "text": [
      "epoch done! 47\n"
     ]
    },
    {
     "name": "stderr",
     "output_type": "stream",
     "text": [
      "Epoch 48 | mean loss: 593.98382:   5%|▍         | 48/1000 [00:59<19:33,  1.23s/epoch]"
     ]
    },
    {
     "name": "stdout",
     "output_type": "stream",
     "text": [
      "epoch done! 48\n"
     ]
    },
    {
     "name": "stderr",
     "output_type": "stream",
     "text": [
      "Epoch 49 | mean loss: 568.10866:   5%|▍         | 49/1000 [01:00<19:29,  1.23s/epoch]"
     ]
    },
    {
     "name": "stdout",
     "output_type": "stream",
     "text": [
      "epoch done! 49\n"
     ]
    },
    {
     "name": "stderr",
     "output_type": "stream",
     "text": [
      "Epoch 50 | mean loss: 545.66926:   5%|▌         | 50/1000 [01:01<19:28,  1.23s/epoch]"
     ]
    },
    {
     "name": "stdout",
     "output_type": "stream",
     "text": [
      "epoch done! 50\n"
     ]
    },
    {
     "name": "stderr",
     "output_type": "stream",
     "text": [
      "Epoch 51 | mean loss: 520.80662:   5%|▌         | 51/1000 [01:02<19:51,  1.26s/epoch]"
     ]
    },
    {
     "name": "stdout",
     "output_type": "stream",
     "text": [
      "epoch done! 51\n"
     ]
    },
    {
     "name": "stderr",
     "output_type": "stream",
     "text": [
      "Epoch 52 | mean loss: 511.60655:   5%|▌         | 52/1000 [01:04<19:49,  1.25s/epoch]"
     ]
    },
    {
     "name": "stdout",
     "output_type": "stream",
     "text": [
      "epoch done! 52\n"
     ]
    },
    {
     "name": "stderr",
     "output_type": "stream",
     "text": [
      "Epoch 53 | mean loss: 484.03699:   5%|▌         | 53/1000 [01:05<19:44,  1.25s/epoch]"
     ]
    },
    {
     "name": "stdout",
     "output_type": "stream",
     "text": [
      "epoch done! 53\n"
     ]
    },
    {
     "name": "stderr",
     "output_type": "stream",
     "text": [
      "Epoch 54 | mean loss: 462.56659:   5%|▌         | 54/1000 [01:06<19:39,  1.25s/epoch]"
     ]
    },
    {
     "name": "stdout",
     "output_type": "stream",
     "text": [
      "epoch done! 54\n"
     ]
    },
    {
     "name": "stderr",
     "output_type": "stream",
     "text": [
      "Epoch 55 | mean loss: 448.93314:   6%|▌         | 55/1000 [01:07<19:37,  1.25s/epoch]"
     ]
    },
    {
     "name": "stdout",
     "output_type": "stream",
     "text": [
      "epoch done! 55\n"
     ]
    },
    {
     "name": "stderr",
     "output_type": "stream",
     "text": [
      "Epoch 56 | mean loss: 427.90516:   6%|▌         | 56/1000 [01:09<19:31,  1.24s/epoch]"
     ]
    },
    {
     "name": "stdout",
     "output_type": "stream",
     "text": [
      "epoch done! 56\n"
     ]
    },
    {
     "name": "stderr",
     "output_type": "stream",
     "text": [
      "Epoch 57 | mean loss: 417.78000:   6%|▌         | 57/1000 [01:10<19:27,  1.24s/epoch]"
     ]
    },
    {
     "name": "stdout",
     "output_type": "stream",
     "text": [
      "epoch done! 57\n"
     ]
    },
    {
     "name": "stderr",
     "output_type": "stream",
     "text": [
      "Epoch 58 | mean loss: 396.93990:   6%|▌         | 58/1000 [01:11<19:27,  1.24s/epoch]"
     ]
    },
    {
     "name": "stdout",
     "output_type": "stream",
     "text": [
      "epoch done! 58\n"
     ]
    },
    {
     "name": "stderr",
     "output_type": "stream",
     "text": [
      "Epoch 59 | mean loss: 378.73905:   6%|▌         | 59/1000 [01:12<19:28,  1.24s/epoch]"
     ]
    },
    {
     "name": "stdout",
     "output_type": "stream",
     "text": [
      "epoch done! 59\n"
     ]
    },
    {
     "name": "stderr",
     "output_type": "stream",
     "text": [
      "Epoch 60 | mean loss: 367.64111:   6%|▌         | 60/1000 [01:14<19:30,  1.25s/epoch]"
     ]
    },
    {
     "name": "stdout",
     "output_type": "stream",
     "text": [
      "epoch done! 60\n"
     ]
    },
    {
     "name": "stderr",
     "output_type": "stream",
     "text": [
      "Epoch 61 | mean loss: 360.04901:   6%|▌         | 61/1000 [01:15<19:28,  1.24s/epoch]"
     ]
    },
    {
     "name": "stdout",
     "output_type": "stream",
     "text": [
      "epoch done! 61\n"
     ]
    },
    {
     "name": "stderr",
     "output_type": "stream",
     "text": [
      "Epoch 62 | mean loss: 346.05466:   6%|▌         | 62/1000 [01:16<19:22,  1.24s/epoch]"
     ]
    },
    {
     "name": "stdout",
     "output_type": "stream",
     "text": [
      "epoch done! 62\n"
     ]
    },
    {
     "name": "stderr",
     "output_type": "stream",
     "text": [
      "Epoch 63 | mean loss: 341.47804:   6%|▋         | 63/1000 [01:17<19:17,  1.24s/epoch]"
     ]
    },
    {
     "name": "stdout",
     "output_type": "stream",
     "text": [
      "epoch done! 63\n"
     ]
    },
    {
     "name": "stderr",
     "output_type": "stream",
     "text": [
      "Epoch 64 | mean loss: 320.17706:   6%|▋         | 64/1000 [01:19<19:27,  1.25s/epoch]"
     ]
    },
    {
     "name": "stdout",
     "output_type": "stream",
     "text": [
      "epoch done! 64\n"
     ]
    },
    {
     "name": "stderr",
     "output_type": "stream",
     "text": [
      "Epoch 65 | mean loss: 317.64973:   6%|▋         | 65/1000 [01:20<19:21,  1.24s/epoch]"
     ]
    },
    {
     "name": "stdout",
     "output_type": "stream",
     "text": [
      "epoch done! 65\n"
     ]
    },
    {
     "name": "stderr",
     "output_type": "stream",
     "text": [
      "Epoch 66 | mean loss: 296.45838:   7%|▋         | 66/1000 [01:21<19:17,  1.24s/epoch]"
     ]
    },
    {
     "name": "stdout",
     "output_type": "stream",
     "text": [
      "epoch done! 66\n"
     ]
    },
    {
     "name": "stderr",
     "output_type": "stream",
     "text": [
      "Epoch 67 | mean loss: 291.48003:   7%|▋         | 67/1000 [01:22<19:16,  1.24s/epoch]"
     ]
    },
    {
     "name": "stdout",
     "output_type": "stream",
     "text": [
      "epoch done! 67\n"
     ]
    },
    {
     "name": "stderr",
     "output_type": "stream",
     "text": [
      "Epoch 68 | mean loss: 283.15365:   7%|▋         | 68/1000 [01:24<19:11,  1.24s/epoch]"
     ]
    },
    {
     "name": "stdout",
     "output_type": "stream",
     "text": [
      "epoch done! 68\n"
     ]
    },
    {
     "name": "stderr",
     "output_type": "stream",
     "text": [
      "Epoch 69 | mean loss: 279.11470:   7%|▋         | 69/1000 [01:25<19:06,  1.23s/epoch]"
     ]
    },
    {
     "name": "stdout",
     "output_type": "stream",
     "text": [
      "epoch done! 69\n"
     ]
    },
    {
     "name": "stderr",
     "output_type": "stream",
     "text": [
      "Epoch 70 | mean loss: 268.23466:   7%|▋         | 70/1000 [01:26<19:05,  1.23s/epoch]"
     ]
    },
    {
     "name": "stdout",
     "output_type": "stream",
     "text": [
      "epoch done! 70\n"
     ]
    },
    {
     "name": "stderr",
     "output_type": "stream",
     "text": [
      "Epoch 71 | mean loss: 258.12958:   7%|▋         | 71/1000 [01:27<19:03,  1.23s/epoch]"
     ]
    },
    {
     "name": "stdout",
     "output_type": "stream",
     "text": [
      "epoch done! 71\n"
     ]
    },
    {
     "name": "stderr",
     "output_type": "stream",
     "text": [
      "Epoch 72 | mean loss: 250.20668:   7%|▋         | 72/1000 [01:28<19:05,  1.23s/epoch]"
     ]
    },
    {
     "name": "stdout",
     "output_type": "stream",
     "text": [
      "epoch done! 72\n"
     ]
    },
    {
     "name": "stderr",
     "output_type": "stream",
     "text": [
      "Epoch 73 | mean loss: 249.63012:   7%|▋         | 73/1000 [01:30<19:05,  1.24s/epoch]"
     ]
    },
    {
     "name": "stdout",
     "output_type": "stream",
     "text": [
      "epoch done! 73\n"
     ]
    },
    {
     "name": "stderr",
     "output_type": "stream",
     "text": [
      "Epoch 74 | mean loss: 237.10930:   7%|▋         | 74/1000 [01:31<19:08,  1.24s/epoch]"
     ]
    },
    {
     "name": "stdout",
     "output_type": "stream",
     "text": [
      "epoch done! 74\n"
     ]
    },
    {
     "name": "stderr",
     "output_type": "stream",
     "text": [
      "Epoch 75 | mean loss: 233.89661:   8%|▊         | 75/1000 [01:32<19:02,  1.23s/epoch]"
     ]
    },
    {
     "name": "stdout",
     "output_type": "stream",
     "text": [
      "epoch done! 75\n"
     ]
    },
    {
     "name": "stderr",
     "output_type": "stream",
     "text": [
      "Epoch 76 | mean loss: 226.00816:   8%|▊         | 76/1000 [01:33<18:57,  1.23s/epoch]"
     ]
    },
    {
     "name": "stdout",
     "output_type": "stream",
     "text": [
      "epoch done! 76\n"
     ]
    },
    {
     "name": "stderr",
     "output_type": "stream",
     "text": [
      "Epoch 77 | mean loss: 225.85129:   8%|▊         | 77/1000 [01:35<18:57,  1.23s/epoch]"
     ]
    },
    {
     "name": "stdout",
     "output_type": "stream",
     "text": [
      "epoch done! 77\n"
     ]
    },
    {
     "name": "stderr",
     "output_type": "stream",
     "text": [
      "Epoch 78 | mean loss: 216.39354:   8%|▊         | 78/1000 [01:36<18:53,  1.23s/epoch]"
     ]
    },
    {
     "name": "stdout",
     "output_type": "stream",
     "text": [
      "epoch done! 78\n"
     ]
    },
    {
     "name": "stderr",
     "output_type": "stream",
     "text": [
      "Epoch 79 | mean loss: 210.96512:   8%|▊         | 79/1000 [01:37<19:22,  1.26s/epoch]"
     ]
    },
    {
     "name": "stdout",
     "output_type": "stream",
     "text": [
      "epoch done! 79\n"
     ]
    },
    {
     "name": "stderr",
     "output_type": "stream",
     "text": [
      "Epoch 80 | mean loss: 210.22803:   8%|▊         | 80/1000 [01:38<19:12,  1.25s/epoch]"
     ]
    },
    {
     "name": "stdout",
     "output_type": "stream",
     "text": [
      "epoch done! 80\n"
     ]
    },
    {
     "name": "stderr",
     "output_type": "stream",
     "text": [
      "Epoch 81 | mean loss: 200.35173:   8%|▊         | 81/1000 [01:40<19:06,  1.25s/epoch]"
     ]
    },
    {
     "name": "stdout",
     "output_type": "stream",
     "text": [
      "epoch done! 81\n"
     ]
    },
    {
     "name": "stderr",
     "output_type": "stream",
     "text": [
      "Epoch 82 | mean loss: 199.36707:   8%|▊         | 82/1000 [01:41<19:01,  1.24s/epoch]"
     ]
    },
    {
     "name": "stdout",
     "output_type": "stream",
     "text": [
      "epoch done! 82\n"
     ]
    },
    {
     "name": "stderr",
     "output_type": "stream",
     "text": [
      "Epoch 83 | mean loss: 196.11959:   8%|▊         | 83/1000 [01:42<18:59,  1.24s/epoch]"
     ]
    },
    {
     "name": "stdout",
     "output_type": "stream",
     "text": [
      "epoch done! 83\n"
     ]
    },
    {
     "name": "stderr",
     "output_type": "stream",
     "text": [
      "Epoch 84 | mean loss: 188.03490:   8%|▊         | 84/1000 [01:43<18:57,  1.24s/epoch]"
     ]
    },
    {
     "name": "stdout",
     "output_type": "stream",
     "text": [
      "epoch done! 84\n"
     ]
    },
    {
     "name": "stderr",
     "output_type": "stream",
     "text": [
      "Epoch 85 | mean loss: 182.76046:   8%|▊         | 85/1000 [01:45<18:53,  1.24s/epoch]"
     ]
    },
    {
     "name": "stdout",
     "output_type": "stream",
     "text": [
      "epoch done! 85\n"
     ]
    },
    {
     "name": "stderr",
     "output_type": "stream",
     "text": [
      "Epoch 86 | mean loss: 185.10813:   9%|▊         | 86/1000 [01:46<18:52,  1.24s/epoch]"
     ]
    },
    {
     "name": "stdout",
     "output_type": "stream",
     "text": [
      "epoch done! 86\n"
     ]
    },
    {
     "name": "stderr",
     "output_type": "stream",
     "text": [
      "Epoch 87 | mean loss: 177.81324:   9%|▊         | 87/1000 [01:47<18:50,  1.24s/epoch]"
     ]
    },
    {
     "name": "stdout",
     "output_type": "stream",
     "text": [
      "epoch done! 87\n"
     ]
    },
    {
     "name": "stderr",
     "output_type": "stream",
     "text": [
      "Epoch 88 | mean loss: 172.75908:   9%|▉         | 88/1000 [01:48<18:49,  1.24s/epoch]"
     ]
    },
    {
     "name": "stdout",
     "output_type": "stream",
     "text": [
      "epoch done! 88\n"
     ]
    },
    {
     "name": "stderr",
     "output_type": "stream",
     "text": [
      "Epoch 89 | mean loss: 168.11439:   9%|▉         | 89/1000 [01:50<18:50,  1.24s/epoch]"
     ]
    },
    {
     "name": "stdout",
     "output_type": "stream",
     "text": [
      "epoch done! 89\n"
     ]
    },
    {
     "name": "stderr",
     "output_type": "stream",
     "text": [
      "Epoch 90 | mean loss: 168.14769:   9%|▉         | 90/1000 [01:51<18:46,  1.24s/epoch]"
     ]
    },
    {
     "name": "stdout",
     "output_type": "stream",
     "text": [
      "epoch done! 90\n"
     ]
    },
    {
     "name": "stderr",
     "output_type": "stream",
     "text": [
      "Epoch 91 | mean loss: 164.08347:   9%|▉         | 91/1000 [01:52<18:55,  1.25s/epoch]"
     ]
    },
    {
     "name": "stdout",
     "output_type": "stream",
     "text": [
      "epoch done! 91\n"
     ]
    },
    {
     "name": "stderr",
     "output_type": "stream",
     "text": [
      "Epoch 92 | mean loss: 156.13128:   9%|▉         | 92/1000 [01:53<18:55,  1.25s/epoch]"
     ]
    },
    {
     "name": "stdout",
     "output_type": "stream",
     "text": [
      "epoch done! 92\n"
     ]
    },
    {
     "name": "stderr",
     "output_type": "stream",
     "text": [
      "Epoch 93 | mean loss: 158.54356:   9%|▉         | 93/1000 [01:55<18:50,  1.25s/epoch]"
     ]
    },
    {
     "name": "stdout",
     "output_type": "stream",
     "text": [
      "epoch done! 93\n"
     ]
    },
    {
     "name": "stderr",
     "output_type": "stream",
     "text": [
      "Epoch 94 | mean loss: 154.79633:   9%|▉         | 94/1000 [01:56<18:48,  1.25s/epoch]"
     ]
    },
    {
     "name": "stdout",
     "output_type": "stream",
     "text": [
      "epoch done! 94\n"
     ]
    },
    {
     "name": "stderr",
     "output_type": "stream",
     "text": [
      "Epoch 95 | mean loss: 150.73278:  10%|▉         | 95/1000 [01:57<18:48,  1.25s/epoch]"
     ]
    },
    {
     "name": "stdout",
     "output_type": "stream",
     "text": [
      "epoch done! 95\n"
     ]
    },
    {
     "name": "stderr",
     "output_type": "stream",
     "text": [
      "Epoch 96 | mean loss: 148.34953:  10%|▉         | 96/1000 [01:58<18:43,  1.24s/epoch]"
     ]
    },
    {
     "name": "stdout",
     "output_type": "stream",
     "text": [
      "epoch done! 96\n"
     ]
    },
    {
     "name": "stderr",
     "output_type": "stream",
     "text": [
      "Epoch 97 | mean loss: 145.48037:  10%|▉         | 97/1000 [02:00<18:43,  1.24s/epoch]"
     ]
    },
    {
     "name": "stdout",
     "output_type": "stream",
     "text": [
      "epoch done! 97\n"
     ]
    },
    {
     "name": "stderr",
     "output_type": "stream",
     "text": [
      "Epoch 98 | mean loss: 144.64480:  10%|▉         | 98/1000 [02:01<18:39,  1.24s/epoch]"
     ]
    },
    {
     "name": "stdout",
     "output_type": "stream",
     "text": [
      "epoch done! 98\n"
     ]
    },
    {
     "name": "stderr",
     "output_type": "stream",
     "text": [
      "Epoch 99 | mean loss: 140.87887:  10%|▉         | 99/1000 [02:02<18:36,  1.24s/epoch]"
     ]
    },
    {
     "name": "stdout",
     "output_type": "stream",
     "text": [
      "epoch done! 99\n"
     ]
    },
    {
     "name": "stderr",
     "output_type": "stream",
     "text": [
      "Epoch 100 | mean loss: 136.86884:  10%|█         | 100/1000 [02:03<18:35,  1.24s/epoch]"
     ]
    },
    {
     "name": "stdout",
     "output_type": "stream",
     "text": [
      "epoch done! 100\n"
     ]
    },
    {
     "name": "stderr",
     "output_type": "stream",
     "text": [
      "Epoch 101 | mean loss: 136.05197:  10%|█         | 101/1000 [02:04<18:32,  1.24s/epoch]"
     ]
    },
    {
     "name": "stdout",
     "output_type": "stream",
     "text": [
      "epoch done! 101\n"
     ]
    },
    {
     "name": "stderr",
     "output_type": "stream",
     "text": [
      "Epoch 102 | mean loss: 135.25120:  10%|█         | 102/1000 [02:06<18:33,  1.24s/epoch]"
     ]
    },
    {
     "name": "stdout",
     "output_type": "stream",
     "text": [
      "epoch done! 102\n"
     ]
    },
    {
     "name": "stderr",
     "output_type": "stream",
     "text": [
      "Epoch 103 | mean loss: 130.44202:  10%|█         | 103/1000 [02:07<18:55,  1.27s/epoch]"
     ]
    },
    {
     "name": "stdout",
     "output_type": "stream",
     "text": [
      "epoch done! 103\n"
     ]
    },
    {
     "name": "stderr",
     "output_type": "stream",
     "text": [
      "Epoch 104 | mean loss: 133.38221:  10%|█         | 104/1000 [02:08<18:51,  1.26s/epoch]"
     ]
    },
    {
     "name": "stdout",
     "output_type": "stream",
     "text": [
      "epoch done! 104\n"
     ]
    },
    {
     "name": "stderr",
     "output_type": "stream",
     "text": [
      "Epoch 105 | mean loss: 124.68085:  10%|█         | 105/1000 [02:10<18:43,  1.26s/epoch]"
     ]
    },
    {
     "name": "stdout",
     "output_type": "stream",
     "text": [
      "epoch done! 105\n"
     ]
    },
    {
     "name": "stderr",
     "output_type": "stream",
     "text": [
      "Epoch 106 | mean loss: 126.48314:  11%|█         | 106/1000 [02:11<18:33,  1.25s/epoch]"
     ]
    },
    {
     "name": "stdout",
     "output_type": "stream",
     "text": [
      "epoch done! 106\n"
     ]
    },
    {
     "name": "stderr",
     "output_type": "stream",
     "text": [
      "Epoch 107 | mean loss: 124.35994:  11%|█         | 107/1000 [02:12<18:29,  1.24s/epoch]"
     ]
    },
    {
     "name": "stdout",
     "output_type": "stream",
     "text": [
      "epoch done! 107\n"
     ]
    },
    {
     "name": "stderr",
     "output_type": "stream",
     "text": [
      "Epoch 108 | mean loss: 123.09686:  11%|█         | 108/1000 [02:13<18:26,  1.24s/epoch]"
     ]
    },
    {
     "name": "stdout",
     "output_type": "stream",
     "text": [
      "epoch done! 108\n"
     ]
    },
    {
     "name": "stderr",
     "output_type": "stream",
     "text": [
      "Epoch 109 | mean loss: 120.92545:  11%|█         | 109/1000 [02:14<18:23,  1.24s/epoch]"
     ]
    },
    {
     "name": "stdout",
     "output_type": "stream",
     "text": [
      "epoch done! 109\n"
     ]
    },
    {
     "name": "stderr",
     "output_type": "stream",
     "text": [
      "Epoch 110 | mean loss: 118.20262:  11%|█         | 110/1000 [02:16<18:24,  1.24s/epoch]"
     ]
    },
    {
     "name": "stdout",
     "output_type": "stream",
     "text": [
      "epoch done! 110\n"
     ]
    },
    {
     "name": "stderr",
     "output_type": "stream",
     "text": [
      "Epoch 111 | mean loss: 118.47001:  11%|█         | 111/1000 [02:17<18:25,  1.24s/epoch]"
     ]
    },
    {
     "name": "stdout",
     "output_type": "stream",
     "text": [
      "epoch done! 111\n"
     ]
    },
    {
     "name": "stderr",
     "output_type": "stream",
     "text": [
      "Epoch 112 | mean loss: 117.15535:  11%|█         | 112/1000 [02:18<18:21,  1.24s/epoch]"
     ]
    },
    {
     "name": "stdout",
     "output_type": "stream",
     "text": [
      "epoch done! 112\n"
     ]
    },
    {
     "name": "stderr",
     "output_type": "stream",
     "text": [
      "Epoch 113 | mean loss: 113.98751:  11%|█▏        | 113/1000 [02:19<18:17,  1.24s/epoch]"
     ]
    },
    {
     "name": "stdout",
     "output_type": "stream",
     "text": [
      "epoch done! 113\n"
     ]
    },
    {
     "name": "stderr",
     "output_type": "stream",
     "text": [
      "Epoch 114 | mean loss: 117.72546:  11%|█▏        | 114/1000 [02:21<18:13,  1.23s/epoch]"
     ]
    },
    {
     "name": "stdout",
     "output_type": "stream",
     "text": [
      "epoch done! 114\n"
     ]
    },
    {
     "name": "stderr",
     "output_type": "stream",
     "text": [
      "Epoch 115 | mean loss: 115.12877:  12%|█▏        | 115/1000 [02:22<18:20,  1.24s/epoch]"
     ]
    },
    {
     "name": "stdout",
     "output_type": "stream",
     "text": [
      "epoch done! 115\n"
     ]
    },
    {
     "name": "stderr",
     "output_type": "stream",
     "text": [
      "Epoch 116 | mean loss: 110.45866:  12%|█▏        | 116/1000 [02:23<18:18,  1.24s/epoch]"
     ]
    },
    {
     "name": "stdout",
     "output_type": "stream",
     "text": [
      "epoch done! 116\n"
     ]
    },
    {
     "name": "stderr",
     "output_type": "stream",
     "text": [
      "Epoch 117 | mean loss: 110.78490:  12%|█▏        | 117/1000 [02:24<18:15,  1.24s/epoch]"
     ]
    },
    {
     "name": "stdout",
     "output_type": "stream",
     "text": [
      "epoch done! 117\n"
     ]
    },
    {
     "name": "stderr",
     "output_type": "stream",
     "text": [
      "Epoch 118 | mean loss: 109.29556:  12%|█▏        | 118/1000 [02:26<18:14,  1.24s/epoch]"
     ]
    },
    {
     "name": "stdout",
     "output_type": "stream",
     "text": [
      "epoch done! 118\n"
     ]
    },
    {
     "name": "stderr",
     "output_type": "stream",
     "text": [
      "Epoch 119 | mean loss: 104.83014:  12%|█▏        | 119/1000 [02:27<18:12,  1.24s/epoch]"
     ]
    },
    {
     "name": "stdout",
     "output_type": "stream",
     "text": [
      "epoch done! 119\n"
     ]
    },
    {
     "name": "stderr",
     "output_type": "stream",
     "text": [
      "Epoch 120 | mean loss: 109.31708:  12%|█▏        | 120/1000 [02:28<18:09,  1.24s/epoch]"
     ]
    },
    {
     "name": "stdout",
     "output_type": "stream",
     "text": [
      "epoch done! 120\n"
     ]
    },
    {
     "name": "stderr",
     "output_type": "stream",
     "text": [
      "Epoch 121 | mean loss: 105.69886:  12%|█▏        | 121/1000 [02:29<18:10,  1.24s/epoch]"
     ]
    },
    {
     "name": "stdout",
     "output_type": "stream",
     "text": [
      "epoch done! 121\n"
     ]
    },
    {
     "name": "stderr",
     "output_type": "stream",
     "text": [
      "Epoch 122 | mean loss: 103.56876:  12%|█▏        | 122/1000 [02:31<18:07,  1.24s/epoch]"
     ]
    },
    {
     "name": "stdout",
     "output_type": "stream",
     "text": [
      "epoch done! 122\n"
     ]
    },
    {
     "name": "stderr",
     "output_type": "stream",
     "text": [
      "Epoch 123 | mean loss: 98.07330:  12%|█▏        | 123/1000 [02:32<18:03,  1.24s/epoch] "
     ]
    },
    {
     "name": "stdout",
     "output_type": "stream",
     "text": [
      "epoch done! 123\n"
     ]
    },
    {
     "name": "stderr",
     "output_type": "stream",
     "text": [
      "Epoch 124 | mean loss: 98.70454:  12%|█▏        | 124/1000 [02:33<18:04,  1.24s/epoch]"
     ]
    },
    {
     "name": "stdout",
     "output_type": "stream",
     "text": [
      "epoch done! 124\n"
     ]
    },
    {
     "name": "stderr",
     "output_type": "stream",
     "text": [
      "Epoch 125 | mean loss: 99.47291:  12%|█▎        | 125/1000 [02:34<18:00,  1.23s/epoch]"
     ]
    },
    {
     "name": "stdout",
     "output_type": "stream",
     "text": [
      "epoch done! 125\n"
     ]
    },
    {
     "name": "stderr",
     "output_type": "stream",
     "text": [
      "Epoch 126 | mean loss: 96.81009:  13%|█▎        | 126/1000 [02:36<17:59,  1.23s/epoch]"
     ]
    },
    {
     "name": "stdout",
     "output_type": "stream",
     "text": [
      "epoch done! 126\n"
     ]
    },
    {
     "name": "stderr",
     "output_type": "stream",
     "text": [
      "Epoch 127 | mean loss: 96.96366:  13%|█▎        | 127/1000 [02:37<18:18,  1.26s/epoch]"
     ]
    },
    {
     "name": "stdout",
     "output_type": "stream",
     "text": [
      "epoch done! 127\n"
     ]
    },
    {
     "name": "stderr",
     "output_type": "stream",
     "text": [
      "Epoch 128 | mean loss: 98.60539:  13%|█▎        | 128/1000 [02:38<18:22,  1.26s/epoch]"
     ]
    },
    {
     "name": "stdout",
     "output_type": "stream",
     "text": [
      "epoch done! 128\n"
     ]
    },
    {
     "name": "stderr",
     "output_type": "stream",
     "text": [
      "Epoch 129 | mean loss: 95.90283:  13%|█▎        | 129/1000 [02:39<18:10,  1.25s/epoch]"
     ]
    },
    {
     "name": "stdout",
     "output_type": "stream",
     "text": [
      "epoch done! 129\n"
     ]
    },
    {
     "name": "stderr",
     "output_type": "stream",
     "text": [
      "Epoch 130 | mean loss: 94.67632:  13%|█▎        | 130/1000 [02:41<18:07,  1.25s/epoch]"
     ]
    },
    {
     "name": "stdout",
     "output_type": "stream",
     "text": [
      "epoch done! 130\n"
     ]
    },
    {
     "name": "stderr",
     "output_type": "stream",
     "text": [
      "Epoch 131 | mean loss: 96.29555:  13%|█▎        | 131/1000 [02:42<18:03,  1.25s/epoch]"
     ]
    },
    {
     "name": "stdout",
     "output_type": "stream",
     "text": [
      "epoch done! 131\n"
     ]
    },
    {
     "name": "stderr",
     "output_type": "stream",
     "text": [
      "Epoch 132 | mean loss: 91.52578:  13%|█▎        | 132/1000 [02:43<18:00,  1.24s/epoch]"
     ]
    },
    {
     "name": "stdout",
     "output_type": "stream",
     "text": [
      "epoch done! 132\n"
     ]
    },
    {
     "name": "stderr",
     "output_type": "stream",
     "text": [
      "Epoch 133 | mean loss: 92.84404:  13%|█▎        | 133/1000 [02:44<17:55,  1.24s/epoch]"
     ]
    },
    {
     "name": "stdout",
     "output_type": "stream",
     "text": [
      "epoch done! 133\n"
     ]
    },
    {
     "name": "stderr",
     "output_type": "stream",
     "text": [
      "Epoch 134 | mean loss: 92.64030:  13%|█▎        | 134/1000 [02:46<17:50,  1.24s/epoch]"
     ]
    },
    {
     "name": "stdout",
     "output_type": "stream",
     "text": [
      "epoch done! 134\n"
     ]
    },
    {
     "name": "stderr",
     "output_type": "stream",
     "text": [
      "Epoch 135 | mean loss: 93.51255:  14%|█▎        | 135/1000 [02:47<17:50,  1.24s/epoch]"
     ]
    },
    {
     "name": "stdout",
     "output_type": "stream",
     "text": [
      "epoch done! 135\n"
     ]
    },
    {
     "name": "stderr",
     "output_type": "stream",
     "text": [
      "Epoch 136 | mean loss: 95.04741:  14%|█▎        | 136/1000 [02:48<17:49,  1.24s/epoch]"
     ]
    },
    {
     "name": "stdout",
     "output_type": "stream",
     "text": [
      "epoch done! 136\n"
     ]
    },
    {
     "name": "stderr",
     "output_type": "stream",
     "text": [
      "Epoch 137 | mean loss: 88.05483:  14%|█▎        | 137/1000 [02:49<17:48,  1.24s/epoch]"
     ]
    },
    {
     "name": "stdout",
     "output_type": "stream",
     "text": [
      "epoch done! 137\n"
     ]
    },
    {
     "name": "stderr",
     "output_type": "stream",
     "text": [
      "Epoch 138 | mean loss: 87.97133:  14%|█▍        | 138/1000 [02:50<17:48,  1.24s/epoch]"
     ]
    },
    {
     "name": "stdout",
     "output_type": "stream",
     "text": [
      "epoch done! 138\n"
     ]
    },
    {
     "name": "stderr",
     "output_type": "stream",
     "text": [
      "Epoch 139 | mean loss: 87.29453:  14%|█▍        | 139/1000 [02:52<17:44,  1.24s/epoch]"
     ]
    },
    {
     "name": "stdout",
     "output_type": "stream",
     "text": [
      "epoch done! 139\n"
     ]
    },
    {
     "name": "stderr",
     "output_type": "stream",
     "text": [
      "Epoch 140 | mean loss: 87.37750:  14%|█▍        | 140/1000 [02:53<17:47,  1.24s/epoch]"
     ]
    },
    {
     "name": "stdout",
     "output_type": "stream",
     "text": [
      "epoch done! 140\n"
     ]
    },
    {
     "name": "stderr",
     "output_type": "stream",
     "text": [
      "Epoch 141 | mean loss: 84.10721:  14%|█▍        | 141/1000 [02:54<17:46,  1.24s/epoch]"
     ]
    },
    {
     "name": "stdout",
     "output_type": "stream",
     "text": [
      "epoch done! 141\n"
     ]
    },
    {
     "name": "stderr",
     "output_type": "stream",
     "text": [
      "Epoch 142 | mean loss: 87.12199:  14%|█▍        | 142/1000 [02:55<17:43,  1.24s/epoch]"
     ]
    },
    {
     "name": "stdout",
     "output_type": "stream",
     "text": [
      "epoch done! 142\n"
     ]
    },
    {
     "name": "stderr",
     "output_type": "stream",
     "text": [
      "Epoch 143 | mean loss: 83.04177:  14%|█▍        | 143/1000 [02:57<17:41,  1.24s/epoch]"
     ]
    },
    {
     "name": "stdout",
     "output_type": "stream",
     "text": [
      "epoch done! 143\n"
     ]
    },
    {
     "name": "stderr",
     "output_type": "stream",
     "text": [
      "Epoch 144 | mean loss: 85.22092:  14%|█▍        | 144/1000 [02:58<17:40,  1.24s/epoch]"
     ]
    },
    {
     "name": "stdout",
     "output_type": "stream",
     "text": [
      "epoch done! 144\n"
     ]
    },
    {
     "name": "stderr",
     "output_type": "stream",
     "text": [
      "Epoch 145 | mean loss: 83.35884:  14%|█▍        | 145/1000 [02:59<17:33,  1.23s/epoch]"
     ]
    },
    {
     "name": "stdout",
     "output_type": "stream",
     "text": [
      "epoch done! 145\n"
     ]
    },
    {
     "name": "stderr",
     "output_type": "stream",
     "text": [
      "Epoch 146 | mean loss: 82.48405:  15%|█▍        | 146/1000 [03:00<17:33,  1.23s/epoch]"
     ]
    },
    {
     "name": "stdout",
     "output_type": "stream",
     "text": [
      "epoch done! 146\n"
     ]
    },
    {
     "name": "stderr",
     "output_type": "stream",
     "text": [
      "Epoch 147 | mean loss: 79.28493:  15%|█▍        | 147/1000 [03:02<17:37,  1.24s/epoch]"
     ]
    },
    {
     "name": "stdout",
     "output_type": "stream",
     "text": [
      "epoch done! 147\n"
     ]
    },
    {
     "name": "stderr",
     "output_type": "stream",
     "text": [
      "Epoch 148 | mean loss: 83.68602:  15%|█▍        | 148/1000 [03:03<17:38,  1.24s/epoch]"
     ]
    },
    {
     "name": "stdout",
     "output_type": "stream",
     "text": [
      "epoch done! 148\n"
     ]
    },
    {
     "name": "stderr",
     "output_type": "stream",
     "text": [
      "Epoch 149 | mean loss: 80.12634:  15%|█▍        | 149/1000 [03:04<17:56,  1.26s/epoch]"
     ]
    },
    {
     "name": "stdout",
     "output_type": "stream",
     "text": [
      "epoch done! 149\n"
     ]
    },
    {
     "name": "stderr",
     "output_type": "stream",
     "text": [
      "Epoch 150 | mean loss: 80.95635:  15%|█▌        | 150/1000 [03:05<17:46,  1.25s/epoch]"
     ]
    },
    {
     "name": "stdout",
     "output_type": "stream",
     "text": [
      "epoch done! 150\n"
     ]
    },
    {
     "name": "stderr",
     "output_type": "stream",
     "text": [
      "Epoch 151 | mean loss: 78.45757:  15%|█▌        | 151/1000 [03:07<17:41,  1.25s/epoch]"
     ]
    },
    {
     "name": "stdout",
     "output_type": "stream",
     "text": [
      "epoch done! 151\n"
     ]
    },
    {
     "name": "stderr",
     "output_type": "stream",
     "text": [
      "Epoch 152 | mean loss: 78.25475:  15%|█▌        | 152/1000 [03:08<17:36,  1.25s/epoch]"
     ]
    },
    {
     "name": "stdout",
     "output_type": "stream",
     "text": [
      "epoch done! 152\n"
     ]
    },
    {
     "name": "stderr",
     "output_type": "stream",
     "text": [
      "Epoch 153 | mean loss: 75.99141:  15%|█▌        | 153/1000 [03:09<17:34,  1.24s/epoch]"
     ]
    },
    {
     "name": "stdout",
     "output_type": "stream",
     "text": [
      "epoch done! 153\n"
     ]
    },
    {
     "name": "stderr",
     "output_type": "stream",
     "text": [
      "Epoch 154 | mean loss: 80.02417:  15%|█▌        | 154/1000 [03:10<17:29,  1.24s/epoch]"
     ]
    },
    {
     "name": "stdout",
     "output_type": "stream",
     "text": [
      "epoch done! 154\n"
     ]
    },
    {
     "name": "stderr",
     "output_type": "stream",
     "text": [
      "Epoch 155 | mean loss: 79.49620:  16%|█▌        | 155/1000 [03:12<17:24,  1.24s/epoch]"
     ]
    },
    {
     "name": "stdout",
     "output_type": "stream",
     "text": [
      "epoch done! 155\n"
     ]
    },
    {
     "name": "stderr",
     "output_type": "stream",
     "text": [
      "Epoch 156 | mean loss: 78.32716:  16%|█▌        | 156/1000 [03:13<17:24,  1.24s/epoch]"
     ]
    },
    {
     "name": "stdout",
     "output_type": "stream",
     "text": [
      "epoch done! 156\n"
     ]
    },
    {
     "name": "stderr",
     "output_type": "stream",
     "text": [
      "Epoch 157 | mean loss: 75.87555:  16%|█▌        | 157/1000 [03:14<17:25,  1.24s/epoch]"
     ]
    },
    {
     "name": "stdout",
     "output_type": "stream",
     "text": [
      "epoch done! 157\n"
     ]
    },
    {
     "name": "stderr",
     "output_type": "stream",
     "text": [
      "Epoch 158 | mean loss: 78.19283:  16%|█▌        | 158/1000 [03:15<17:23,  1.24s/epoch]"
     ]
    },
    {
     "name": "stdout",
     "output_type": "stream",
     "text": [
      "epoch done! 158\n"
     ]
    },
    {
     "name": "stderr",
     "output_type": "stream",
     "text": [
      "Epoch 159 | mean loss: 74.82038:  16%|█▌        | 159/1000 [03:17<17:19,  1.24s/epoch]"
     ]
    },
    {
     "name": "stdout",
     "output_type": "stream",
     "text": [
      "epoch done! 159\n"
     ]
    },
    {
     "name": "stderr",
     "output_type": "stream",
     "text": [
      "Epoch 160 | mean loss: 74.62784:  16%|█▌        | 160/1000 [03:18<17:16,  1.23s/epoch]"
     ]
    },
    {
     "name": "stdout",
     "output_type": "stream",
     "text": [
      "epoch done! 160\n"
     ]
    },
    {
     "name": "stderr",
     "output_type": "stream",
     "text": [
      "Epoch 161 | mean loss: 74.61973:  16%|█▌        | 161/1000 [03:19<17:13,  1.23s/epoch]"
     ]
    },
    {
     "name": "stdout",
     "output_type": "stream",
     "text": [
      "epoch done! 161\n"
     ]
    },
    {
     "name": "stderr",
     "output_type": "stream",
     "text": [
      "Epoch 162 | mean loss: 74.62233:  16%|█▌        | 162/1000 [03:20<17:15,  1.24s/epoch]"
     ]
    },
    {
     "name": "stdout",
     "output_type": "stream",
     "text": [
      "epoch done! 162\n"
     ]
    },
    {
     "name": "stderr",
     "output_type": "stream",
     "text": [
      "Epoch 163 | mean loss: 74.23090:  16%|█▋        | 163/1000 [03:21<17:13,  1.23s/epoch]"
     ]
    },
    {
     "name": "stdout",
     "output_type": "stream",
     "text": [
      "epoch done! 163\n"
     ]
    },
    {
     "name": "stderr",
     "output_type": "stream",
     "text": [
      "Epoch 164 | mean loss: 73.91032:  16%|█▋        | 164/1000 [03:23<17:14,  1.24s/epoch]"
     ]
    },
    {
     "name": "stdout",
     "output_type": "stream",
     "text": [
      "epoch done! 164\n"
     ]
    },
    {
     "name": "stderr",
     "output_type": "stream",
     "text": [
      "Epoch 165 | mean loss: 74.45639:  16%|█▋        | 165/1000 [03:24<17:13,  1.24s/epoch]"
     ]
    },
    {
     "name": "stdout",
     "output_type": "stream",
     "text": [
      "epoch done! 165\n"
     ]
    },
    {
     "name": "stderr",
     "output_type": "stream",
     "text": [
      "Epoch 166 | mean loss: 75.18379:  17%|█▋        | 166/1000 [03:25<17:08,  1.23s/epoch]"
     ]
    },
    {
     "name": "stdout",
     "output_type": "stream",
     "text": [
      "epoch done! 166\n"
     ]
    },
    {
     "name": "stderr",
     "output_type": "stream",
     "text": [
      "Epoch 167 | mean loss: 70.75655:  17%|█▋        | 167/1000 [03:26<17:06,  1.23s/epoch]"
     ]
    },
    {
     "name": "stdout",
     "output_type": "stream",
     "text": [
      "epoch done! 167\n"
     ]
    },
    {
     "name": "stderr",
     "output_type": "stream",
     "text": [
      "Epoch 168 | mean loss: 73.84044:  17%|█▋        | 168/1000 [03:28<17:04,  1.23s/epoch]"
     ]
    },
    {
     "name": "stdout",
     "output_type": "stream",
     "text": [
      "epoch done! 168\n"
     ]
    },
    {
     "name": "stderr",
     "output_type": "stream",
     "text": [
      "Epoch 169 | mean loss: 71.93916:  17%|█▋        | 169/1000 [03:29<16:59,  1.23s/epoch]"
     ]
    },
    {
     "name": "stdout",
     "output_type": "stream",
     "text": [
      "epoch done! 169\n"
     ]
    },
    {
     "name": "stderr",
     "output_type": "stream",
     "text": [
      "Epoch 170 | mean loss: 73.05671:  17%|█▋        | 170/1000 [03:30<17:18,  1.25s/epoch]"
     ]
    },
    {
     "name": "stdout",
     "output_type": "stream",
     "text": [
      "epoch done! 170\n"
     ]
    },
    {
     "name": "stderr",
     "output_type": "stream",
     "text": [
      "Epoch 171 | mean loss: 72.80724:  17%|█▋        | 171/1000 [03:31<17:15,  1.25s/epoch]"
     ]
    },
    {
     "name": "stdout",
     "output_type": "stream",
     "text": [
      "epoch done! 171\n"
     ]
    },
    {
     "name": "stderr",
     "output_type": "stream",
     "text": [
      "Epoch 172 | mean loss: 71.18236:  17%|█▋        | 172/1000 [03:33<17:10,  1.24s/epoch]"
     ]
    },
    {
     "name": "stdout",
     "output_type": "stream",
     "text": [
      "epoch done! 172\n"
     ]
    },
    {
     "name": "stderr",
     "output_type": "stream",
     "text": [
      "Epoch 173 | mean loss: 68.73259:  17%|█▋        | 173/1000 [03:34<17:05,  1.24s/epoch]"
     ]
    },
    {
     "name": "stdout",
     "output_type": "stream",
     "text": [
      "epoch done! 173\n"
     ]
    },
    {
     "name": "stderr",
     "output_type": "stream",
     "text": [
      "Epoch 174 | mean loss: 72.10097:  17%|█▋        | 174/1000 [03:35<17:05,  1.24s/epoch]"
     ]
    },
    {
     "name": "stdout",
     "output_type": "stream",
     "text": [
      "epoch done! 174\n"
     ]
    },
    {
     "name": "stderr",
     "output_type": "stream",
     "text": [
      "Epoch 175 | mean loss: 65.46686:  18%|█▊        | 175/1000 [03:36<17:02,  1.24s/epoch]"
     ]
    },
    {
     "name": "stdout",
     "output_type": "stream",
     "text": [
      "epoch done! 175\n"
     ]
    },
    {
     "name": "stderr",
     "output_type": "stream",
     "text": [
      "Epoch 176 | mean loss: 67.33750:  18%|█▊        | 176/1000 [03:38<17:02,  1.24s/epoch]"
     ]
    },
    {
     "name": "stdout",
     "output_type": "stream",
     "text": [
      "epoch done! 176\n"
     ]
    },
    {
     "name": "stderr",
     "output_type": "stream",
     "text": [
      "Epoch 177 | mean loss: 69.65989:  18%|█▊        | 177/1000 [03:39<17:00,  1.24s/epoch]"
     ]
    },
    {
     "name": "stdout",
     "output_type": "stream",
     "text": [
      "epoch done! 177\n"
     ]
    },
    {
     "name": "stderr",
     "output_type": "stream",
     "text": [
      "Epoch 178 | mean loss: 67.49077:  18%|█▊        | 178/1000 [03:40<17:01,  1.24s/epoch]"
     ]
    },
    {
     "name": "stdout",
     "output_type": "stream",
     "text": [
      "epoch done! 178\n"
     ]
    },
    {
     "name": "stderr",
     "output_type": "stream",
     "text": [
      "Epoch 179 | mean loss: 68.48105:  18%|█▊        | 179/1000 [03:41<16:56,  1.24s/epoch]"
     ]
    },
    {
     "name": "stdout",
     "output_type": "stream",
     "text": [
      "epoch done! 179\n"
     ]
    },
    {
     "name": "stderr",
     "output_type": "stream",
     "text": [
      "Epoch 180 | mean loss: 67.20457:  18%|█▊        | 180/1000 [03:43<16:56,  1.24s/epoch]"
     ]
    },
    {
     "name": "stdout",
     "output_type": "stream",
     "text": [
      "epoch done! 180\n"
     ]
    },
    {
     "name": "stderr",
     "output_type": "stream",
     "text": [
      "Epoch 181 | mean loss: 68.66298:  18%|█▊        | 181/1000 [03:44<16:54,  1.24s/epoch]"
     ]
    },
    {
     "name": "stdout",
     "output_type": "stream",
     "text": [
      "epoch done! 181\n"
     ]
    },
    {
     "name": "stderr",
     "output_type": "stream",
     "text": [
      "Epoch 182 | mean loss: 64.34421:  18%|█▊        | 182/1000 [03:45<16:50,  1.24s/epoch]"
     ]
    },
    {
     "name": "stdout",
     "output_type": "stream",
     "text": [
      "epoch done! 182\n"
     ]
    },
    {
     "name": "stderr",
     "output_type": "stream",
     "text": [
      "Epoch 183 | mean loss: 66.94905:  18%|█▊        | 183/1000 [03:46<16:51,  1.24s/epoch]"
     ]
    },
    {
     "name": "stdout",
     "output_type": "stream",
     "text": [
      "epoch done! 183\n"
     ]
    },
    {
     "name": "stderr",
     "output_type": "stream",
     "text": [
      "Epoch 184 | mean loss: 67.79248:  18%|█▊        | 184/1000 [03:48<16:49,  1.24s/epoch]"
     ]
    },
    {
     "name": "stdout",
     "output_type": "stream",
     "text": [
      "epoch done! 184\n"
     ]
    },
    {
     "name": "stderr",
     "output_type": "stream",
     "text": [
      "Epoch 185 | mean loss: 64.42576:  18%|█▊        | 185/1000 [03:49<16:48,  1.24s/epoch]"
     ]
    },
    {
     "name": "stdout",
     "output_type": "stream",
     "text": [
      "epoch done! 185\n"
     ]
    },
    {
     "name": "stderr",
     "output_type": "stream",
     "text": [
      "Epoch 186 | mean loss: 66.72548:  19%|█▊        | 186/1000 [03:50<16:47,  1.24s/epoch]"
     ]
    },
    {
     "name": "stdout",
     "output_type": "stream",
     "text": [
      "epoch done! 186\n"
     ]
    },
    {
     "name": "stderr",
     "output_type": "stream",
     "text": [
      "Epoch 187 | mean loss: 64.61374:  19%|█▊        | 187/1000 [03:51<16:46,  1.24s/epoch]"
     ]
    },
    {
     "name": "stdout",
     "output_type": "stream",
     "text": [
      "epoch done! 187\n"
     ]
    },
    {
     "name": "stderr",
     "output_type": "stream",
     "text": [
      "Epoch 188 | mean loss: 64.52743:  19%|█▉        | 188/1000 [03:52<16:45,  1.24s/epoch]"
     ]
    },
    {
     "name": "stdout",
     "output_type": "stream",
     "text": [
      "epoch done! 188\n"
     ]
    },
    {
     "name": "stderr",
     "output_type": "stream",
     "text": [
      "Epoch 189 | mean loss: 63.94583:  19%|█▉        | 189/1000 [03:54<16:48,  1.24s/epoch]"
     ]
    },
    {
     "name": "stdout",
     "output_type": "stream",
     "text": [
      "epoch done! 189\n"
     ]
    },
    {
     "name": "stderr",
     "output_type": "stream",
     "text": [
      "Epoch 190 | mean loss: 67.98952:  19%|█▉        | 190/1000 [03:55<17:04,  1.27s/epoch]"
     ]
    },
    {
     "name": "stdout",
     "output_type": "stream",
     "text": [
      "epoch done! 190\n"
     ]
    },
    {
     "name": "stderr",
     "output_type": "stream",
     "text": [
      "Epoch 191 | mean loss: 63.00306:  19%|█▉        | 191/1000 [03:56<16:59,  1.26s/epoch]"
     ]
    },
    {
     "name": "stdout",
     "output_type": "stream",
     "text": [
      "epoch done! 191\n"
     ]
    },
    {
     "name": "stderr",
     "output_type": "stream",
     "text": [
      "Epoch 192 | mean loss: 60.60410:  19%|█▉        | 192/1000 [03:58<16:53,  1.25s/epoch]"
     ]
    },
    {
     "name": "stdout",
     "output_type": "stream",
     "text": [
      "epoch done! 192\n"
     ]
    },
    {
     "name": "stderr",
     "output_type": "stream",
     "text": [
      "Epoch 193 | mean loss: 63.29641:  19%|█▉        | 193/1000 [03:59<16:43,  1.24s/epoch]"
     ]
    },
    {
     "name": "stdout",
     "output_type": "stream",
     "text": [
      "epoch done! 193\n"
     ]
    },
    {
     "name": "stderr",
     "output_type": "stream",
     "text": [
      "Epoch 194 | mean loss: 63.59055:  19%|█▉        | 194/1000 [04:00<16:36,  1.24s/epoch]"
     ]
    },
    {
     "name": "stdout",
     "output_type": "stream",
     "text": [
      "epoch done! 194\n"
     ]
    },
    {
     "name": "stderr",
     "output_type": "stream",
     "text": [
      "Epoch 195 | mean loss: 63.54928:  20%|█▉        | 195/1000 [04:01<16:36,  1.24s/epoch]"
     ]
    },
    {
     "name": "stdout",
     "output_type": "stream",
     "text": [
      "epoch done! 195\n"
     ]
    },
    {
     "name": "stderr",
     "output_type": "stream",
     "text": [
      "Epoch 196 | mean loss: 60.28672:  20%|█▉        | 196/1000 [04:02<16:33,  1.24s/epoch]"
     ]
    },
    {
     "name": "stdout",
     "output_type": "stream",
     "text": [
      "epoch done! 196\n"
     ]
    },
    {
     "name": "stderr",
     "output_type": "stream",
     "text": [
      "Epoch 197 | mean loss: 63.44243:  20%|█▉        | 197/1000 [04:04<16:32,  1.24s/epoch]"
     ]
    },
    {
     "name": "stdout",
     "output_type": "stream",
     "text": [
      "epoch done! 197\n"
     ]
    },
    {
     "name": "stderr",
     "output_type": "stream",
     "text": [
      "Epoch 198 | mean loss: 57.37506:  20%|█▉        | 198/1000 [04:05<16:30,  1.23s/epoch]"
     ]
    },
    {
     "name": "stdout",
     "output_type": "stream",
     "text": [
      "epoch done! 198\n"
     ]
    },
    {
     "name": "stderr",
     "output_type": "stream",
     "text": [
      "Epoch 199 | mean loss: 60.41577:  20%|█▉        | 199/1000 [04:06<16:26,  1.23s/epoch]"
     ]
    },
    {
     "name": "stdout",
     "output_type": "stream",
     "text": [
      "epoch done! 199\n"
     ]
    },
    {
     "name": "stderr",
     "output_type": "stream",
     "text": [
      "Epoch 200 | mean loss: 63.48101:  20%|██        | 200/1000 [04:07<16:24,  1.23s/epoch]"
     ]
    },
    {
     "name": "stdout",
     "output_type": "stream",
     "text": [
      "epoch done! 200\n"
     ]
    },
    {
     "name": "stderr",
     "output_type": "stream",
     "text": [
      "Epoch 201 | mean loss: 57.62123:  20%|██        | 201/1000 [04:09<16:23,  1.23s/epoch]"
     ]
    },
    {
     "name": "stdout",
     "output_type": "stream",
     "text": [
      "epoch done! 201\n"
     ]
    },
    {
     "name": "stderr",
     "output_type": "stream",
     "text": [
      "Epoch 202 | mean loss: 59.74476:  20%|██        | 202/1000 [04:10<16:24,  1.23s/epoch]"
     ]
    },
    {
     "name": "stdout",
     "output_type": "stream",
     "text": [
      "epoch done! 202\n"
     ]
    },
    {
     "name": "stderr",
     "output_type": "stream",
     "text": [
      "Epoch 203 | mean loss: 61.40615:  20%|██        | 203/1000 [04:11<16:27,  1.24s/epoch]"
     ]
    },
    {
     "name": "stdout",
     "output_type": "stream",
     "text": [
      "epoch done! 203\n"
     ]
    },
    {
     "name": "stderr",
     "output_type": "stream",
     "text": [
      "Epoch 204 | mean loss: 58.17338:  20%|██        | 204/1000 [04:12<16:23,  1.24s/epoch]"
     ]
    },
    {
     "name": "stdout",
     "output_type": "stream",
     "text": [
      "epoch done! 204\n"
     ]
    },
    {
     "name": "stderr",
     "output_type": "stream",
     "text": [
      "Epoch 205 | mean loss: 62.25707:  20%|██        | 205/1000 [04:14<16:19,  1.23s/epoch]"
     ]
    },
    {
     "name": "stdout",
     "output_type": "stream",
     "text": [
      "epoch done! 205\n"
     ]
    },
    {
     "name": "stderr",
     "output_type": "stream",
     "text": [
      "Epoch 206 | mean loss: 62.25119:  21%|██        | 206/1000 [04:15<16:18,  1.23s/epoch]"
     ]
    },
    {
     "name": "stdout",
     "output_type": "stream",
     "text": [
      "epoch done! 206\n"
     ]
    },
    {
     "name": "stderr",
     "output_type": "stream",
     "text": [
      "Epoch 207 | mean loss: 61.34680:  21%|██        | 207/1000 [04:16<16:18,  1.23s/epoch]"
     ]
    },
    {
     "name": "stdout",
     "output_type": "stream",
     "text": [
      "epoch done! 207\n"
     ]
    },
    {
     "name": "stderr",
     "output_type": "stream",
     "text": [
      "Epoch 208 | mean loss: 58.52778:  21%|██        | 208/1000 [04:17<16:15,  1.23s/epoch]"
     ]
    },
    {
     "name": "stdout",
     "output_type": "stream",
     "text": [
      "epoch done! 208\n"
     ]
    },
    {
     "name": "stderr",
     "output_type": "stream",
     "text": [
      "Epoch 209 | mean loss: 54.87644:  21%|██        | 209/1000 [04:18<16:13,  1.23s/epoch]"
     ]
    },
    {
     "name": "stdout",
     "output_type": "stream",
     "text": [
      "epoch done! 209\n"
     ]
    },
    {
     "name": "stderr",
     "output_type": "stream",
     "text": [
      "Epoch 210 | mean loss: 58.45861:  21%|██        | 210/1000 [04:20<16:13,  1.23s/epoch]"
     ]
    },
    {
     "name": "stdout",
     "output_type": "stream",
     "text": [
      "epoch done! 210\n"
     ]
    },
    {
     "name": "stderr",
     "output_type": "stream",
     "text": [
      "Epoch 211 | mean loss: 54.39632:  21%|██        | 211/1000 [04:21<16:35,  1.26s/epoch]"
     ]
    },
    {
     "name": "stdout",
     "output_type": "stream",
     "text": [
      "epoch done! 211\n"
     ]
    },
    {
     "name": "stderr",
     "output_type": "stream",
     "text": [
      "Epoch 212 | mean loss: 56.35396:  21%|██        | 212/1000 [04:22<16:26,  1.25s/epoch]"
     ]
    },
    {
     "name": "stdout",
     "output_type": "stream",
     "text": [
      "epoch done! 212\n"
     ]
    },
    {
     "name": "stderr",
     "output_type": "stream",
     "text": [
      "Epoch 213 | mean loss: 56.77062:  21%|██▏       | 213/1000 [04:23<16:23,  1.25s/epoch]"
     ]
    },
    {
     "name": "stdout",
     "output_type": "stream",
     "text": [
      "epoch done! 213\n"
     ]
    },
    {
     "name": "stderr",
     "output_type": "stream",
     "text": [
      "Epoch 214 | mean loss: 58.21591:  21%|██▏       | 214/1000 [04:25<16:19,  1.25s/epoch]"
     ]
    },
    {
     "name": "stdout",
     "output_type": "stream",
     "text": [
      "epoch done! 214\n"
     ]
    },
    {
     "name": "stderr",
     "output_type": "stream",
     "text": [
      "Epoch 215 | mean loss: 57.10940:  22%|██▏       | 215/1000 [04:26<16:16,  1.24s/epoch]"
     ]
    },
    {
     "name": "stdout",
     "output_type": "stream",
     "text": [
      "epoch done! 215\n"
     ]
    },
    {
     "name": "stderr",
     "output_type": "stream",
     "text": [
      "Epoch 216 | mean loss: 55.12827:  22%|██▏       | 216/1000 [04:27<16:13,  1.24s/epoch]"
     ]
    },
    {
     "name": "stdout",
     "output_type": "stream",
     "text": [
      "epoch done! 216\n"
     ]
    },
    {
     "name": "stderr",
     "output_type": "stream",
     "text": [
      "Epoch 217 | mean loss: 57.27117:  22%|██▏       | 217/1000 [04:28<16:11,  1.24s/epoch]"
     ]
    },
    {
     "name": "stdout",
     "output_type": "stream",
     "text": [
      "epoch done! 217\n"
     ]
    },
    {
     "name": "stderr",
     "output_type": "stream",
     "text": [
      "Epoch 218 | mean loss: 57.07135:  22%|██▏       | 218/1000 [04:30<16:10,  1.24s/epoch]"
     ]
    },
    {
     "name": "stdout",
     "output_type": "stream",
     "text": [
      "epoch done! 218\n"
     ]
    },
    {
     "name": "stderr",
     "output_type": "stream",
     "text": [
      "Epoch 219 | mean loss: 55.62189:  22%|██▏       | 219/1000 [04:31<16:09,  1.24s/epoch]"
     ]
    },
    {
     "name": "stdout",
     "output_type": "stream",
     "text": [
      "epoch done! 219\n"
     ]
    },
    {
     "name": "stderr",
     "output_type": "stream",
     "text": [
      "Epoch 220 | mean loss: 58.54861:  22%|██▏       | 220/1000 [04:32<16:06,  1.24s/epoch]"
     ]
    },
    {
     "name": "stdout",
     "output_type": "stream",
     "text": [
      "epoch done! 220\n"
     ]
    },
    {
     "name": "stderr",
     "output_type": "stream",
     "text": [
      "Epoch 221 | mean loss: 53.16755:  22%|██▏       | 221/1000 [04:33<16:02,  1.24s/epoch]"
     ]
    },
    {
     "name": "stdout",
     "output_type": "stream",
     "text": [
      "epoch done! 221\n"
     ]
    },
    {
     "name": "stderr",
     "output_type": "stream",
     "text": [
      "Epoch 222 | mean loss: 58.30233:  22%|██▏       | 222/1000 [04:35<15:59,  1.23s/epoch]"
     ]
    },
    {
     "name": "stdout",
     "output_type": "stream",
     "text": [
      "epoch done! 222\n"
     ]
    },
    {
     "name": "stderr",
     "output_type": "stream",
     "text": [
      "Epoch 223 | mean loss: 53.38102:  22%|██▏       | 223/1000 [04:36<15:58,  1.23s/epoch]"
     ]
    },
    {
     "name": "stdout",
     "output_type": "stream",
     "text": [
      "epoch done! 223\n"
     ]
    },
    {
     "name": "stderr",
     "output_type": "stream",
     "text": [
      "Epoch 224 | mean loss: 55.50253:  22%|██▏       | 224/1000 [04:37<15:57,  1.23s/epoch]"
     ]
    },
    {
     "name": "stdout",
     "output_type": "stream",
     "text": [
      "epoch done! 224\n"
     ]
    },
    {
     "name": "stderr",
     "output_type": "stream",
     "text": [
      "Epoch 225 | mean loss: 55.69418:  22%|██▎       | 225/1000 [04:38<15:58,  1.24s/epoch]"
     ]
    },
    {
     "name": "stdout",
     "output_type": "stream",
     "text": [
      "epoch done! 225\n"
     ]
    },
    {
     "name": "stderr",
     "output_type": "stream",
     "text": [
      "Epoch 226 | mean loss: 54.02146:  23%|██▎       | 226/1000 [04:40<15:57,  1.24s/epoch]"
     ]
    },
    {
     "name": "stdout",
     "output_type": "stream",
     "text": [
      "epoch done! 226\n"
     ]
    },
    {
     "name": "stderr",
     "output_type": "stream",
     "text": [
      "Epoch 227 | mean loss: 56.07178:  23%|██▎       | 227/1000 [04:41<15:55,  1.24s/epoch]"
     ]
    },
    {
     "name": "stdout",
     "output_type": "stream",
     "text": [
      "epoch done! 227\n"
     ]
    },
    {
     "name": "stderr",
     "output_type": "stream",
     "text": [
      "Epoch 228 | mean loss: 54.83713:  23%|██▎       | 228/1000 [04:42<16:14,  1.26s/epoch]"
     ]
    },
    {
     "name": "stdout",
     "output_type": "stream",
     "text": [
      "epoch done! 228\n"
     ]
    },
    {
     "name": "stderr",
     "output_type": "stream",
     "text": [
      "Epoch 229 | mean loss: 52.96916:  23%|██▎       | 229/1000 [04:43<16:05,  1.25s/epoch]"
     ]
    },
    {
     "name": "stdout",
     "output_type": "stream",
     "text": [
      "epoch done! 229\n"
     ]
    },
    {
     "name": "stderr",
     "output_type": "stream",
     "text": [
      "Epoch 230 | mean loss: 57.02108:  23%|██▎       | 230/1000 [04:45<15:57,  1.24s/epoch]"
     ]
    },
    {
     "name": "stdout",
     "output_type": "stream",
     "text": [
      "epoch done! 230\n"
     ]
    },
    {
     "name": "stderr",
     "output_type": "stream",
     "text": [
      "Epoch 231 | mean loss: 54.70653:  23%|██▎       | 231/1000 [04:46<15:54,  1.24s/epoch]"
     ]
    },
    {
     "name": "stdout",
     "output_type": "stream",
     "text": [
      "epoch done! 231\n"
     ]
    },
    {
     "name": "stderr",
     "output_type": "stream",
     "text": [
      "Epoch 232 | mean loss: 53.14153:  23%|██▎       | 232/1000 [04:47<15:51,  1.24s/epoch]"
     ]
    },
    {
     "name": "stdout",
     "output_type": "stream",
     "text": [
      "epoch done! 232\n"
     ]
    },
    {
     "name": "stderr",
     "output_type": "stream",
     "text": [
      "Epoch 233 | mean loss: 52.46016:  23%|██▎       | 233/1000 [04:48<16:00,  1.25s/epoch]"
     ]
    },
    {
     "name": "stdout",
     "output_type": "stream",
     "text": [
      "epoch done! 233\n"
     ]
    },
    {
     "name": "stderr",
     "output_type": "stream",
     "text": [
      "Epoch 234 | mean loss: 55.40318:  23%|██▎       | 234/1000 [04:50<15:59,  1.25s/epoch]"
     ]
    },
    {
     "name": "stdout",
     "output_type": "stream",
     "text": [
      "epoch done! 234\n"
     ]
    },
    {
     "name": "stderr",
     "output_type": "stream",
     "text": [
      "Epoch 235 | mean loss: 51.86960:  24%|██▎       | 235/1000 [04:51<15:56,  1.25s/epoch]"
     ]
    },
    {
     "name": "stdout",
     "output_type": "stream",
     "text": [
      "epoch done! 235\n"
     ]
    },
    {
     "name": "stderr",
     "output_type": "stream",
     "text": [
      "Epoch 236 | mean loss: 53.21661:  24%|██▎       | 236/1000 [04:52<15:55,  1.25s/epoch]"
     ]
    },
    {
     "name": "stdout",
     "output_type": "stream",
     "text": [
      "epoch done! 236\n"
     ]
    },
    {
     "name": "stderr",
     "output_type": "stream",
     "text": [
      "Epoch 237 | mean loss: 54.17367:  24%|██▎       | 237/1000 [04:53<15:52,  1.25s/epoch]"
     ]
    },
    {
     "name": "stdout",
     "output_type": "stream",
     "text": [
      "epoch done! 237\n"
     ]
    },
    {
     "name": "stderr",
     "output_type": "stream",
     "text": [
      "Epoch 238 | mean loss: 52.74262:  24%|██▍       | 238/1000 [04:55<15:46,  1.24s/epoch]"
     ]
    },
    {
     "name": "stdout",
     "output_type": "stream",
     "text": [
      "epoch done! 238\n"
     ]
    },
    {
     "name": "stderr",
     "output_type": "stream",
     "text": [
      "Epoch 239 | mean loss: 50.72589:  24%|██▍       | 239/1000 [04:56<15:44,  1.24s/epoch]"
     ]
    },
    {
     "name": "stdout",
     "output_type": "stream",
     "text": [
      "epoch done! 239\n"
     ]
    },
    {
     "name": "stderr",
     "output_type": "stream",
     "text": [
      "Epoch 240 | mean loss: 51.47016:  24%|██▍       | 240/1000 [04:57<15:44,  1.24s/epoch]"
     ]
    },
    {
     "name": "stdout",
     "output_type": "stream",
     "text": [
      "epoch done! 240\n"
     ]
    },
    {
     "name": "stderr",
     "output_type": "stream",
     "text": [
      "Epoch 241 | mean loss: 51.34718:  24%|██▍       | 241/1000 [04:58<15:40,  1.24s/epoch]"
     ]
    },
    {
     "name": "stdout",
     "output_type": "stream",
     "text": [
      "epoch done! 241\n"
     ]
    },
    {
     "name": "stderr",
     "output_type": "stream",
     "text": [
      "Epoch 242 | mean loss: 51.06727:  24%|██▍       | 242/1000 [04:59<15:38,  1.24s/epoch]"
     ]
    },
    {
     "name": "stdout",
     "output_type": "stream",
     "text": [
      "epoch done! 242\n"
     ]
    },
    {
     "name": "stderr",
     "output_type": "stream",
     "text": [
      "Epoch 243 | mean loss: 49.53694:  24%|██▍       | 243/1000 [05:01<15:36,  1.24s/epoch]"
     ]
    },
    {
     "name": "stdout",
     "output_type": "stream",
     "text": [
      "epoch done! 243\n"
     ]
    },
    {
     "name": "stderr",
     "output_type": "stream",
     "text": [
      "Epoch 244 | mean loss: 48.22041:  24%|██▍       | 244/1000 [05:02<16:00,  1.27s/epoch]"
     ]
    },
    {
     "name": "stdout",
     "output_type": "stream",
     "text": [
      "epoch done! 244\n"
     ]
    },
    {
     "name": "stderr",
     "output_type": "stream",
     "text": [
      "Epoch 245 | mean loss: 50.26843:  24%|██▍       | 245/1000 [05:03<15:48,  1.26s/epoch]"
     ]
    },
    {
     "name": "stdout",
     "output_type": "stream",
     "text": [
      "epoch done! 245\n"
     ]
    },
    {
     "name": "stderr",
     "output_type": "stream",
     "text": [
      "Epoch 246 | mean loss: 49.61955:  25%|██▍       | 246/1000 [05:05<15:43,  1.25s/epoch]"
     ]
    },
    {
     "name": "stdout",
     "output_type": "stream",
     "text": [
      "epoch done! 246\n"
     ]
    },
    {
     "name": "stderr",
     "output_type": "stream",
     "text": [
      "Epoch 247 | mean loss: 52.57324:  25%|██▍       | 247/1000 [05:06<15:39,  1.25s/epoch]"
     ]
    },
    {
     "name": "stdout",
     "output_type": "stream",
     "text": [
      "epoch done! 247\n"
     ]
    },
    {
     "name": "stderr",
     "output_type": "stream",
     "text": [
      "Epoch 248 | mean loss: 49.65394:  25%|██▍       | 248/1000 [05:07<15:33,  1.24s/epoch]"
     ]
    },
    {
     "name": "stdout",
     "output_type": "stream",
     "text": [
      "epoch done! 248\n"
     ]
    },
    {
     "name": "stderr",
     "output_type": "stream",
     "text": [
      "Epoch 249 | mean loss: 47.50272:  25%|██▍       | 249/1000 [05:08<15:29,  1.24s/epoch]"
     ]
    },
    {
     "name": "stdout",
     "output_type": "stream",
     "text": [
      "epoch done! 249\n"
     ]
    },
    {
     "name": "stderr",
     "output_type": "stream",
     "text": [
      "Epoch 250 | mean loss: 47.98547:  25%|██▌       | 250/1000 [05:09<15:25,  1.23s/epoch]"
     ]
    },
    {
     "name": "stdout",
     "output_type": "stream",
     "text": [
      "epoch done! 250\n"
     ]
    },
    {
     "name": "stderr",
     "output_type": "stream",
     "text": [
      "Epoch 251 | mean loss: 53.65784:  25%|██▌       | 251/1000 [05:11<15:26,  1.24s/epoch]"
     ]
    },
    {
     "name": "stdout",
     "output_type": "stream",
     "text": [
      "epoch done! 251\n"
     ]
    },
    {
     "name": "stderr",
     "output_type": "stream",
     "text": [
      "Epoch 252 | mean loss: 50.44316:  25%|██▌       | 252/1000 [05:12<15:28,  1.24s/epoch]"
     ]
    },
    {
     "name": "stdout",
     "output_type": "stream",
     "text": [
      "epoch done! 252\n"
     ]
    },
    {
     "name": "stderr",
     "output_type": "stream",
     "text": [
      "Epoch 253 | mean loss: 52.07441:  25%|██▌       | 253/1000 [05:13<15:25,  1.24s/epoch]"
     ]
    },
    {
     "name": "stdout",
     "output_type": "stream",
     "text": [
      "epoch done! 253\n"
     ]
    },
    {
     "name": "stderr",
     "output_type": "stream",
     "text": [
      "Epoch 254 | mean loss: 46.61558:  25%|██▌       | 254/1000 [05:14<15:25,  1.24s/epoch]"
     ]
    },
    {
     "name": "stdout",
     "output_type": "stream",
     "text": [
      "epoch done! 254\n"
     ]
    },
    {
     "name": "stderr",
     "output_type": "stream",
     "text": [
      "Epoch 255 | mean loss: 51.43586:  26%|██▌       | 255/1000 [05:16<15:22,  1.24s/epoch]"
     ]
    },
    {
     "name": "stdout",
     "output_type": "stream",
     "text": [
      "epoch done! 255\n"
     ]
    },
    {
     "name": "stderr",
     "output_type": "stream",
     "text": [
      "Epoch 256 | mean loss: 49.20334:  26%|██▌       | 256/1000 [05:17<15:21,  1.24s/epoch]"
     ]
    },
    {
     "name": "stdout",
     "output_type": "stream",
     "text": [
      "epoch done! 256\n"
     ]
    },
    {
     "name": "stderr",
     "output_type": "stream",
     "text": [
      "Epoch 257 | mean loss: 48.44794:  26%|██▌       | 257/1000 [05:18<15:18,  1.24s/epoch]"
     ]
    },
    {
     "name": "stdout",
     "output_type": "stream",
     "text": [
      "epoch done! 257\n"
     ]
    },
    {
     "name": "stderr",
     "output_type": "stream",
     "text": [
      "Epoch 258 | mean loss: 49.41851:  26%|██▌       | 258/1000 [05:19<15:16,  1.24s/epoch]"
     ]
    },
    {
     "name": "stdout",
     "output_type": "stream",
     "text": [
      "epoch done! 258\n"
     ]
    },
    {
     "name": "stderr",
     "output_type": "stream",
     "text": [
      "Epoch 259 | mean loss: 49.70797:  26%|██▌       | 259/1000 [05:21<15:15,  1.24s/epoch]"
     ]
    },
    {
     "name": "stdout",
     "output_type": "stream",
     "text": [
      "epoch done! 259\n"
     ]
    },
    {
     "name": "stderr",
     "output_type": "stream",
     "text": [
      "Epoch 260 | mean loss: 47.84242:  26%|██▌       | 260/1000 [05:22<15:16,  1.24s/epoch]"
     ]
    },
    {
     "name": "stdout",
     "output_type": "stream",
     "text": [
      "epoch done! 260\n"
     ]
    },
    {
     "name": "stderr",
     "output_type": "stream",
     "text": [
      "Epoch 261 | mean loss: 45.75030:  26%|██▌       | 261/1000 [05:23<15:31,  1.26s/epoch]"
     ]
    },
    {
     "name": "stdout",
     "output_type": "stream",
     "text": [
      "epoch done! 261\n"
     ]
    },
    {
     "name": "stderr",
     "output_type": "stream",
     "text": [
      "Epoch 262 | mean loss: 44.75825:  26%|██▌       | 262/1000 [05:24<15:26,  1.26s/epoch]"
     ]
    },
    {
     "name": "stdout",
     "output_type": "stream",
     "text": [
      "epoch done! 262\n"
     ]
    },
    {
     "name": "stderr",
     "output_type": "stream",
     "text": [
      "Epoch 263 | mean loss: 47.33433:  26%|██▋       | 263/1000 [05:26<15:22,  1.25s/epoch]"
     ]
    },
    {
     "name": "stdout",
     "output_type": "stream",
     "text": [
      "epoch done! 263\n"
     ]
    },
    {
     "name": "stderr",
     "output_type": "stream",
     "text": [
      "Epoch 264 | mean loss: 48.88924:  26%|██▋       | 264/1000 [05:27<15:16,  1.25s/epoch]"
     ]
    },
    {
     "name": "stdout",
     "output_type": "stream",
     "text": [
      "epoch done! 264\n"
     ]
    },
    {
     "name": "stderr",
     "output_type": "stream",
     "text": [
      "Epoch 265 | mean loss: 46.66416:  26%|██▋       | 265/1000 [05:28<15:13,  1.24s/epoch]"
     ]
    },
    {
     "name": "stdout",
     "output_type": "stream",
     "text": [
      "epoch done! 265\n"
     ]
    },
    {
     "name": "stderr",
     "output_type": "stream",
     "text": [
      "Epoch 266 | mean loss: 45.77486:  27%|██▋       | 266/1000 [05:29<15:07,  1.24s/epoch]"
     ]
    },
    {
     "name": "stdout",
     "output_type": "stream",
     "text": [
      "epoch done! 266\n"
     ]
    },
    {
     "name": "stderr",
     "output_type": "stream",
     "text": [
      "Epoch 267 | mean loss: 46.77639:  27%|██▋       | 267/1000 [05:31<15:06,  1.24s/epoch]"
     ]
    },
    {
     "name": "stdout",
     "output_type": "stream",
     "text": [
      "epoch done! 267\n"
     ]
    },
    {
     "name": "stderr",
     "output_type": "stream",
     "text": [
      "Epoch 268 | mean loss: 45.76742:  27%|██▋       | 268/1000 [05:32<15:05,  1.24s/epoch]"
     ]
    },
    {
     "name": "stdout",
     "output_type": "stream",
     "text": [
      "epoch done! 268\n"
     ]
    },
    {
     "name": "stderr",
     "output_type": "stream",
     "text": [
      "Epoch 269 | mean loss: 45.31513:  27%|██▋       | 269/1000 [05:33<15:05,  1.24s/epoch]"
     ]
    },
    {
     "name": "stdout",
     "output_type": "stream",
     "text": [
      "epoch done! 269\n"
     ]
    },
    {
     "name": "stderr",
     "output_type": "stream",
     "text": [
      "Epoch 270 | mean loss: 46.66249:  27%|██▋       | 270/1000 [05:34<15:04,  1.24s/epoch]"
     ]
    },
    {
     "name": "stdout",
     "output_type": "stream",
     "text": [
      "epoch done! 270\n"
     ]
    },
    {
     "name": "stderr",
     "output_type": "stream",
     "text": [
      "Epoch 271 | mean loss: 45.48949:  27%|██▋       | 271/1000 [05:36<15:04,  1.24s/epoch]"
     ]
    },
    {
     "name": "stdout",
     "output_type": "stream",
     "text": [
      "epoch done! 271\n"
     ]
    },
    {
     "name": "stderr",
     "output_type": "stream",
     "text": [
      "Epoch 272 | mean loss: 44.04177:  27%|██▋       | 272/1000 [05:37<14:59,  1.24s/epoch]"
     ]
    },
    {
     "name": "stdout",
     "output_type": "stream",
     "text": [
      "epoch done! 272\n"
     ]
    },
    {
     "name": "stderr",
     "output_type": "stream",
     "text": [
      "Epoch 273 | mean loss: 45.11214:  27%|██▋       | 273/1000 [05:38<14:57,  1.23s/epoch]"
     ]
    },
    {
     "name": "stdout",
     "output_type": "stream",
     "text": [
      "epoch done! 273\n"
     ]
    },
    {
     "name": "stderr",
     "output_type": "stream",
     "text": [
      "Epoch 274 | mean loss: 44.04124:  27%|██▋       | 274/1000 [05:39<14:57,  1.24s/epoch]"
     ]
    },
    {
     "name": "stdout",
     "output_type": "stream",
     "text": [
      "epoch done! 274\n"
     ]
    },
    {
     "name": "stderr",
     "output_type": "stream",
     "text": [
      "Epoch 275 | mean loss: 45.90862:  28%|██▊       | 275/1000 [05:40<14:57,  1.24s/epoch]"
     ]
    },
    {
     "name": "stdout",
     "output_type": "stream",
     "text": [
      "epoch done! 275\n"
     ]
    },
    {
     "name": "stderr",
     "output_type": "stream",
     "text": [
      "Epoch 276 | mean loss: 44.07418:  28%|██▊       | 276/1000 [05:42<14:54,  1.24s/epoch]"
     ]
    },
    {
     "name": "stdout",
     "output_type": "stream",
     "text": [
      "epoch done! 276\n"
     ]
    },
    {
     "name": "stderr",
     "output_type": "stream",
     "text": [
      "Epoch 277 | mean loss: 45.21386:  28%|██▊       | 277/1000 [05:43<14:53,  1.24s/epoch]"
     ]
    },
    {
     "name": "stdout",
     "output_type": "stream",
     "text": [
      "epoch done! 277\n"
     ]
    },
    {
     "name": "stderr",
     "output_type": "stream",
     "text": [
      "Epoch 278 | mean loss: 47.42344:  28%|██▊       | 278/1000 [05:44<15:10,  1.26s/epoch]"
     ]
    },
    {
     "name": "stdout",
     "output_type": "stream",
     "text": [
      "epoch done! 278\n"
     ]
    },
    {
     "name": "stderr",
     "output_type": "stream",
     "text": [
      "Epoch 279 | mean loss: 45.62952:  28%|██▊       | 279/1000 [05:46<15:04,  1.25s/epoch]"
     ]
    },
    {
     "name": "stdout",
     "output_type": "stream",
     "text": [
      "epoch done! 279\n"
     ]
    },
    {
     "name": "stderr",
     "output_type": "stream",
     "text": [
      "Epoch 280 | mean loss: 44.80283:  28%|██▊       | 280/1000 [05:47<15:00,  1.25s/epoch]"
     ]
    },
    {
     "name": "stdout",
     "output_type": "stream",
     "text": [
      "epoch done! 280\n"
     ]
    },
    {
     "name": "stderr",
     "output_type": "stream",
     "text": [
      "Epoch 281 | mean loss: 48.23361:  28%|██▊       | 281/1000 [05:48<14:54,  1.24s/epoch]"
     ]
    },
    {
     "name": "stdout",
     "output_type": "stream",
     "text": [
      "epoch done! 281\n"
     ]
    },
    {
     "name": "stderr",
     "output_type": "stream",
     "text": [
      "Epoch 282 | mean loss: 44.31307:  28%|██▊       | 282/1000 [05:49<14:51,  1.24s/epoch]"
     ]
    },
    {
     "name": "stdout",
     "output_type": "stream",
     "text": [
      "epoch done! 282\n"
     ]
    },
    {
     "name": "stderr",
     "output_type": "stream",
     "text": [
      "Epoch 283 | mean loss: 43.48277:  28%|██▊       | 283/1000 [05:50<14:50,  1.24s/epoch]"
     ]
    },
    {
     "name": "stdout",
     "output_type": "stream",
     "text": [
      "epoch done! 283\n"
     ]
    },
    {
     "name": "stderr",
     "output_type": "stream",
     "text": [
      "Epoch 284 | mean loss: 44.10741:  28%|██▊       | 284/1000 [05:52<14:47,  1.24s/epoch]"
     ]
    },
    {
     "name": "stdout",
     "output_type": "stream",
     "text": [
      "epoch done! 284\n"
     ]
    },
    {
     "name": "stderr",
     "output_type": "stream",
     "text": [
      "Epoch 285 | mean loss: 43.90492:  28%|██▊       | 285/1000 [05:53<14:45,  1.24s/epoch]"
     ]
    },
    {
     "name": "stdout",
     "output_type": "stream",
     "text": [
      "epoch done! 285\n"
     ]
    },
    {
     "name": "stderr",
     "output_type": "stream",
     "text": [
      "Epoch 286 | mean loss: 44.39324:  29%|██▊       | 286/1000 [05:54<14:43,  1.24s/epoch]"
     ]
    },
    {
     "name": "stdout",
     "output_type": "stream",
     "text": [
      "epoch done! 286\n"
     ]
    },
    {
     "name": "stderr",
     "output_type": "stream",
     "text": [
      "Epoch 287 | mean loss: 42.04601:  29%|██▊       | 287/1000 [05:55<14:39,  1.23s/epoch]"
     ]
    },
    {
     "name": "stdout",
     "output_type": "stream",
     "text": [
      "epoch done! 287\n"
     ]
    },
    {
     "name": "stderr",
     "output_type": "stream",
     "text": [
      "Epoch 288 | mean loss: 45.51138:  29%|██▉       | 288/1000 [05:57<14:33,  1.23s/epoch]"
     ]
    },
    {
     "name": "stdout",
     "output_type": "stream",
     "text": [
      "epoch done! 288\n"
     ]
    },
    {
     "name": "stderr",
     "output_type": "stream",
     "text": [
      "Epoch 289 | mean loss: 42.77798:  29%|██▉       | 289/1000 [05:58<14:33,  1.23s/epoch]"
     ]
    },
    {
     "name": "stdout",
     "output_type": "stream",
     "text": [
      "epoch done! 289\n"
     ]
    },
    {
     "name": "stderr",
     "output_type": "stream",
     "text": [
      "Epoch 290 | mean loss: 43.66511:  29%|██▉       | 290/1000 [05:59<14:35,  1.23s/epoch]"
     ]
    },
    {
     "name": "stdout",
     "output_type": "stream",
     "text": [
      "epoch done! 290\n"
     ]
    },
    {
     "name": "stderr",
     "output_type": "stream",
     "text": [
      "Epoch 291 | mean loss: 44.70404:  29%|██▉       | 291/1000 [06:00<14:32,  1.23s/epoch]"
     ]
    },
    {
     "name": "stdout",
     "output_type": "stream",
     "text": [
      "epoch done! 291\n"
     ]
    },
    {
     "name": "stderr",
     "output_type": "stream",
     "text": [
      "Epoch 292 | mean loss: 44.88419:  29%|██▉       | 292/1000 [06:02<14:31,  1.23s/epoch]"
     ]
    },
    {
     "name": "stdout",
     "output_type": "stream",
     "text": [
      "epoch done! 292\n"
     ]
    },
    {
     "name": "stderr",
     "output_type": "stream",
     "text": [
      "Epoch 293 | mean loss: 42.94960:  29%|██▉       | 293/1000 [06:03<14:30,  1.23s/epoch]"
     ]
    },
    {
     "name": "stdout",
     "output_type": "stream",
     "text": [
      "epoch done! 293\n"
     ]
    },
    {
     "name": "stderr",
     "output_type": "stream",
     "text": [
      "Epoch 294 | mean loss: 42.07310:  29%|██▉       | 294/1000 [06:04<14:47,  1.26s/epoch]"
     ]
    },
    {
     "name": "stdout",
     "output_type": "stream",
     "text": [
      "epoch done! 294\n"
     ]
    },
    {
     "name": "stderr",
     "output_type": "stream",
     "text": [
      "Epoch 295 | mean loss: 43.16155:  30%|██▉       | 295/1000 [06:05<14:40,  1.25s/epoch]"
     ]
    },
    {
     "name": "stdout",
     "output_type": "stream",
     "text": [
      "epoch done! 295\n"
     ]
    },
    {
     "name": "stderr",
     "output_type": "stream",
     "text": [
      "Epoch 296 | mean loss: 41.25970:  30%|██▉       | 296/1000 [06:07<14:32,  1.24s/epoch]"
     ]
    },
    {
     "name": "stdout",
     "output_type": "stream",
     "text": [
      "epoch done! 296\n"
     ]
    },
    {
     "name": "stderr",
     "output_type": "stream",
     "text": [
      "Epoch 297 | mean loss: 42.06138:  30%|██▉       | 297/1000 [06:08<14:35,  1.25s/epoch]"
     ]
    },
    {
     "name": "stdout",
     "output_type": "stream",
     "text": [
      "epoch done! 297\n"
     ]
    },
    {
     "name": "stderr",
     "output_type": "stream",
     "text": [
      "Epoch 298 | mean loss: 41.99271:  30%|██▉       | 298/1000 [06:09<14:33,  1.24s/epoch]"
     ]
    },
    {
     "name": "stdout",
     "output_type": "stream",
     "text": [
      "epoch done! 298\n"
     ]
    },
    {
     "name": "stderr",
     "output_type": "stream",
     "text": [
      "Epoch 299 | mean loss: 41.72726:  30%|██▉       | 299/1000 [06:10<14:29,  1.24s/epoch]"
     ]
    },
    {
     "name": "stdout",
     "output_type": "stream",
     "text": [
      "epoch done! 299\n"
     ]
    },
    {
     "name": "stderr",
     "output_type": "stream",
     "text": [
      "Epoch 300 | mean loss: 39.56931:  30%|███       | 300/1000 [06:12<14:29,  1.24s/epoch]"
     ]
    },
    {
     "name": "stdout",
     "output_type": "stream",
     "text": [
      "epoch done! 300\n"
     ]
    },
    {
     "name": "stderr",
     "output_type": "stream",
     "text": [
      "Epoch 301 | mean loss: 39.49325:  30%|███       | 301/1000 [06:13<14:15,  1.22s/epoch]"
     ]
    },
    {
     "name": "stdout",
     "output_type": "stream",
     "text": [
      "epoch done! 301\n"
     ]
    },
    {
     "name": "stderr",
     "output_type": "stream",
     "text": [
      "Epoch 302 | mean loss: 41.44055:  30%|███       | 302/1000 [06:14<14:16,  1.23s/epoch]"
     ]
    },
    {
     "name": "stdout",
     "output_type": "stream",
     "text": [
      "epoch done! 302\n"
     ]
    },
    {
     "name": "stderr",
     "output_type": "stream",
     "text": [
      "Epoch 303 | mean loss: 41.48043:  30%|███       | 303/1000 [06:15<14:17,  1.23s/epoch]"
     ]
    },
    {
     "name": "stdout",
     "output_type": "stream",
     "text": [
      "epoch done! 303\n"
     ]
    },
    {
     "name": "stderr",
     "output_type": "stream",
     "text": [
      "Epoch 304 | mean loss: 39.17318:  30%|███       | 304/1000 [06:16<14:17,  1.23s/epoch]"
     ]
    },
    {
     "name": "stdout",
     "output_type": "stream",
     "text": [
      "epoch done! 304\n"
     ]
    },
    {
     "name": "stderr",
     "output_type": "stream",
     "text": [
      "Epoch 305 | mean loss: 41.91517:  30%|███       | 305/1000 [06:18<14:18,  1.24s/epoch]"
     ]
    },
    {
     "name": "stdout",
     "output_type": "stream",
     "text": [
      "epoch done! 305\n"
     ]
    },
    {
     "name": "stderr",
     "output_type": "stream",
     "text": [
      "Epoch 306 | mean loss: 42.17449:  31%|███       | 306/1000 [06:19<14:17,  1.24s/epoch]"
     ]
    },
    {
     "name": "stdout",
     "output_type": "stream",
     "text": [
      "epoch done! 306\n"
     ]
    },
    {
     "name": "stderr",
     "output_type": "stream",
     "text": [
      "Epoch 307 | mean loss: 39.49666:  31%|███       | 307/1000 [06:20<14:17,  1.24s/epoch]"
     ]
    },
    {
     "name": "stdout",
     "output_type": "stream",
     "text": [
      "epoch done! 307\n"
     ]
    },
    {
     "name": "stderr",
     "output_type": "stream",
     "text": [
      "Epoch 308 | mean loss: 40.01918:  31%|███       | 308/1000 [06:21<14:17,  1.24s/epoch]"
     ]
    },
    {
     "name": "stdout",
     "output_type": "stream",
     "text": [
      "epoch done! 308\n"
     ]
    },
    {
     "name": "stderr",
     "output_type": "stream",
     "text": [
      "Epoch 309 | mean loss: 38.46142:  31%|███       | 309/1000 [06:23<14:38,  1.27s/epoch]"
     ]
    },
    {
     "name": "stdout",
     "output_type": "stream",
     "text": [
      "epoch done! 309\n"
     ]
    },
    {
     "name": "stderr",
     "output_type": "stream",
     "text": [
      "Epoch 310 | mean loss: 39.11739:  31%|███       | 310/1000 [06:24<14:29,  1.26s/epoch]"
     ]
    },
    {
     "name": "stdout",
     "output_type": "stream",
     "text": [
      "epoch done! 310\n"
     ]
    },
    {
     "name": "stderr",
     "output_type": "stream",
     "text": [
      "Epoch 311 | mean loss: 38.69178:  31%|███       | 311/1000 [06:25<14:18,  1.25s/epoch]"
     ]
    },
    {
     "name": "stdout",
     "output_type": "stream",
     "text": [
      "epoch done! 311\n"
     ]
    },
    {
     "name": "stderr",
     "output_type": "stream",
     "text": [
      "Epoch 312 | mean loss: 37.51660:  31%|███       | 312/1000 [06:26<14:15,  1.24s/epoch]"
     ]
    },
    {
     "name": "stdout",
     "output_type": "stream",
     "text": [
      "epoch done! 312\n"
     ]
    },
    {
     "name": "stderr",
     "output_type": "stream",
     "text": [
      "Epoch 313 | mean loss: 40.59141:  31%|███▏      | 313/1000 [06:28<14:14,  1.24s/epoch]"
     ]
    },
    {
     "name": "stdout",
     "output_type": "stream",
     "text": [
      "epoch done! 313\n"
     ]
    },
    {
     "name": "stderr",
     "output_type": "stream",
     "text": [
      "Epoch 314 | mean loss: 38.37145:  31%|███▏      | 314/1000 [06:29<14:09,  1.24s/epoch]"
     ]
    },
    {
     "name": "stdout",
     "output_type": "stream",
     "text": [
      "epoch done! 314\n"
     ]
    },
    {
     "name": "stderr",
     "output_type": "stream",
     "text": [
      "Epoch 315 | mean loss: 38.44226:  32%|███▏      | 315/1000 [06:30<14:05,  1.23s/epoch]"
     ]
    },
    {
     "name": "stdout",
     "output_type": "stream",
     "text": [
      "epoch done! 315\n"
     ]
    },
    {
     "name": "stderr",
     "output_type": "stream",
     "text": [
      "Epoch 316 | mean loss: 38.27928:  32%|███▏      | 316/1000 [06:31<14:03,  1.23s/epoch]"
     ]
    },
    {
     "name": "stdout",
     "output_type": "stream",
     "text": [
      "epoch done! 316\n"
     ]
    },
    {
     "name": "stderr",
     "output_type": "stream",
     "text": [
      "Epoch 317 | mean loss: 38.55577:  32%|███▏      | 317/1000 [06:33<14:02,  1.23s/epoch]"
     ]
    },
    {
     "name": "stdout",
     "output_type": "stream",
     "text": [
      "epoch done! 317\n"
     ]
    },
    {
     "name": "stderr",
     "output_type": "stream",
     "text": [
      "Epoch 318 | mean loss: 39.93826:  32%|███▏      | 318/1000 [06:34<14:01,  1.23s/epoch]"
     ]
    },
    {
     "name": "stdout",
     "output_type": "stream",
     "text": [
      "epoch done! 318\n"
     ]
    },
    {
     "name": "stderr",
     "output_type": "stream",
     "text": [
      "Epoch 319 | mean loss: 39.98829:  32%|███▏      | 319/1000 [06:35<14:02,  1.24s/epoch]"
     ]
    },
    {
     "name": "stdout",
     "output_type": "stream",
     "text": [
      "epoch done! 319\n"
     ]
    },
    {
     "name": "stderr",
     "output_type": "stream",
     "text": [
      "Epoch 320 | mean loss: 39.16586:  32%|███▏      | 320/1000 [06:36<13:56,  1.23s/epoch]"
     ]
    },
    {
     "name": "stdout",
     "output_type": "stream",
     "text": [
      "epoch done! 320\n"
     ]
    },
    {
     "name": "stderr",
     "output_type": "stream",
     "text": [
      "Epoch 321 | mean loss: 38.99002:  32%|███▏      | 321/1000 [06:37<13:58,  1.23s/epoch]"
     ]
    },
    {
     "name": "stdout",
     "output_type": "stream",
     "text": [
      "epoch done! 321\n"
     ]
    },
    {
     "name": "stderr",
     "output_type": "stream",
     "text": [
      "Epoch 322 | mean loss: 37.48403:  32%|███▏      | 322/1000 [06:39<13:57,  1.23s/epoch]"
     ]
    },
    {
     "name": "stdout",
     "output_type": "stream",
     "text": [
      "epoch done! 322\n"
     ]
    },
    {
     "name": "stderr",
     "output_type": "stream",
     "text": [
      "Epoch 323 | mean loss: 37.55415:  32%|███▏      | 323/1000 [06:40<13:54,  1.23s/epoch]"
     ]
    },
    {
     "name": "stdout",
     "output_type": "stream",
     "text": [
      "epoch done! 323\n"
     ]
    },
    {
     "name": "stderr",
     "output_type": "stream",
     "text": [
      "Epoch 324 | mean loss: 38.37399:  32%|███▏      | 324/1000 [06:41<14:11,  1.26s/epoch]"
     ]
    },
    {
     "name": "stdout",
     "output_type": "stream",
     "text": [
      "epoch done! 324\n"
     ]
    },
    {
     "name": "stderr",
     "output_type": "stream",
     "text": [
      "Epoch 325 | mean loss: 36.54836:  32%|███▎      | 325/1000 [06:43<14:09,  1.26s/epoch]"
     ]
    },
    {
     "name": "stdout",
     "output_type": "stream",
     "text": [
      "epoch done! 325\n"
     ]
    },
    {
     "name": "stderr",
     "output_type": "stream",
     "text": [
      "Epoch 326 | mean loss: 37.76563:  33%|███▎      | 326/1000 [06:44<14:05,  1.25s/epoch]"
     ]
    },
    {
     "name": "stdout",
     "output_type": "stream",
     "text": [
      "epoch done! 326\n"
     ]
    },
    {
     "name": "stderr",
     "output_type": "stream",
     "text": [
      "Epoch 327 | mean loss: 40.43530:  33%|███▎      | 327/1000 [06:45<13:58,  1.25s/epoch]"
     ]
    },
    {
     "name": "stdout",
     "output_type": "stream",
     "text": [
      "epoch done! 327\n"
     ]
    },
    {
     "name": "stderr",
     "output_type": "stream",
     "text": [
      "Epoch 328 | mean loss: 38.42126:  33%|███▎      | 328/1000 [06:46<13:51,  1.24s/epoch]"
     ]
    },
    {
     "name": "stdout",
     "output_type": "stream",
     "text": [
      "epoch done! 328\n"
     ]
    },
    {
     "name": "stderr",
     "output_type": "stream",
     "text": [
      "Epoch 329 | mean loss: 36.69007:  33%|███▎      | 329/1000 [06:47<13:49,  1.24s/epoch]"
     ]
    },
    {
     "name": "stdout",
     "output_type": "stream",
     "text": [
      "epoch done! 329\n"
     ]
    },
    {
     "name": "stderr",
     "output_type": "stream",
     "text": [
      "Epoch 330 | mean loss: 34.69692:  33%|███▎      | 330/1000 [06:49<13:49,  1.24s/epoch]"
     ]
    },
    {
     "name": "stdout",
     "output_type": "stream",
     "text": [
      "epoch done! 330\n"
     ]
    },
    {
     "name": "stderr",
     "output_type": "stream",
     "text": [
      "Epoch 331 | mean loss: 36.20498:  33%|███▎      | 331/1000 [06:50<13:48,  1.24s/epoch]"
     ]
    },
    {
     "name": "stdout",
     "output_type": "stream",
     "text": [
      "epoch done! 331\n"
     ]
    },
    {
     "name": "stderr",
     "output_type": "stream",
     "text": [
      "Epoch 332 | mean loss: 36.80668:  33%|███▎      | 332/1000 [06:51<13:48,  1.24s/epoch]"
     ]
    },
    {
     "name": "stdout",
     "output_type": "stream",
     "text": [
      "epoch done! 332\n"
     ]
    },
    {
     "name": "stderr",
     "output_type": "stream",
     "text": [
      "Epoch 333 | mean loss: 37.79580:  33%|███▎      | 333/1000 [06:52<13:48,  1.24s/epoch]"
     ]
    },
    {
     "name": "stdout",
     "output_type": "stream",
     "text": [
      "epoch done! 333\n"
     ]
    },
    {
     "name": "stderr",
     "output_type": "stream",
     "text": [
      "Epoch 334 | mean loss: 36.05184:  33%|███▎      | 334/1000 [06:54<13:52,  1.25s/epoch]"
     ]
    },
    {
     "name": "stdout",
     "output_type": "stream",
     "text": [
      "epoch done! 334\n"
     ]
    },
    {
     "name": "stderr",
     "output_type": "stream",
     "text": [
      "Epoch 335 | mean loss: 34.77532:  34%|███▎      | 335/1000 [06:55<13:47,  1.24s/epoch]"
     ]
    },
    {
     "name": "stdout",
     "output_type": "stream",
     "text": [
      "epoch done! 335\n"
     ]
    },
    {
     "name": "stderr",
     "output_type": "stream",
     "text": [
      "Epoch 336 | mean loss: 35.90686:  34%|███▎      | 336/1000 [06:56<13:45,  1.24s/epoch]"
     ]
    },
    {
     "name": "stdout",
     "output_type": "stream",
     "text": [
      "epoch done! 336\n"
     ]
    },
    {
     "name": "stderr",
     "output_type": "stream",
     "text": [
      "Epoch 337 | mean loss: 36.62160:  34%|███▎      | 337/1000 [06:57<13:40,  1.24s/epoch]"
     ]
    },
    {
     "name": "stdout",
     "output_type": "stream",
     "text": [
      "epoch done! 337\n"
     ]
    },
    {
     "name": "stderr",
     "output_type": "stream",
     "text": [
      "Epoch 338 | mean loss: 36.36181:  34%|███▍      | 338/1000 [06:59<13:35,  1.23s/epoch]"
     ]
    },
    {
     "name": "stdout",
     "output_type": "stream",
     "text": [
      "epoch done! 338\n"
     ]
    },
    {
     "name": "stderr",
     "output_type": "stream",
     "text": [
      "Epoch 339 | mean loss: 33.78123:  34%|███▍      | 339/1000 [07:00<13:53,  1.26s/epoch]"
     ]
    },
    {
     "name": "stdout",
     "output_type": "stream",
     "text": [
      "epoch done! 339\n"
     ]
    },
    {
     "name": "stderr",
     "output_type": "stream",
     "text": [
      "Epoch 340 | mean loss: 38.46256:  34%|███▍      | 340/1000 [07:01<13:45,  1.25s/epoch]"
     ]
    },
    {
     "name": "stdout",
     "output_type": "stream",
     "text": [
      "epoch done! 340\n"
     ]
    },
    {
     "name": "stderr",
     "output_type": "stream",
     "text": [
      "Epoch 341 | mean loss: 36.14825:  34%|███▍      | 341/1000 [07:02<13:41,  1.25s/epoch]"
     ]
    },
    {
     "name": "stdout",
     "output_type": "stream",
     "text": [
      "epoch done! 341\n"
     ]
    },
    {
     "name": "stderr",
     "output_type": "stream",
     "text": [
      "Epoch 342 | mean loss: 36.19568:  34%|███▍      | 342/1000 [07:04<13:37,  1.24s/epoch]"
     ]
    },
    {
     "name": "stdout",
     "output_type": "stream",
     "text": [
      "epoch done! 342\n"
     ]
    },
    {
     "name": "stderr",
     "output_type": "stream",
     "text": [
      "Epoch 343 | mean loss: 33.47003:  34%|███▍      | 343/1000 [07:05<13:35,  1.24s/epoch]"
     ]
    },
    {
     "name": "stdout",
     "output_type": "stream",
     "text": [
      "epoch done! 343\n"
     ]
    },
    {
     "name": "stderr",
     "output_type": "stream",
     "text": [
      "Epoch 344 | mean loss: 34.93774:  34%|███▍      | 344/1000 [07:06<13:32,  1.24s/epoch]"
     ]
    },
    {
     "name": "stdout",
     "output_type": "stream",
     "text": [
      "epoch done! 344\n"
     ]
    },
    {
     "name": "stderr",
     "output_type": "stream",
     "text": [
      "Epoch 345 | mean loss: 33.53168:  34%|███▍      | 345/1000 [07:07<13:30,  1.24s/epoch]"
     ]
    },
    {
     "name": "stdout",
     "output_type": "stream",
     "text": [
      "epoch done! 345\n"
     ]
    },
    {
     "name": "stderr",
     "output_type": "stream",
     "text": [
      "Epoch 346 | mean loss: 34.88007:  35%|███▍      | 346/1000 [07:09<13:28,  1.24s/epoch]"
     ]
    },
    {
     "name": "stdout",
     "output_type": "stream",
     "text": [
      "epoch done! 346\n"
     ]
    },
    {
     "name": "stderr",
     "output_type": "stream",
     "text": [
      "Epoch 347 | mean loss: 35.06452:  35%|███▍      | 347/1000 [07:10<13:28,  1.24s/epoch]"
     ]
    },
    {
     "name": "stdout",
     "output_type": "stream",
     "text": [
      "epoch done! 347\n"
     ]
    },
    {
     "name": "stderr",
     "output_type": "stream",
     "text": [
      "Epoch 348 | mean loss: 32.25938:  35%|███▍      | 348/1000 [07:11<13:26,  1.24s/epoch]"
     ]
    },
    {
     "name": "stdout",
     "output_type": "stream",
     "text": [
      "epoch done! 348\n"
     ]
    },
    {
     "name": "stderr",
     "output_type": "stream",
     "text": [
      "Epoch 349 | mean loss: 32.94152:  35%|███▍      | 349/1000 [07:12<13:24,  1.24s/epoch]"
     ]
    },
    {
     "name": "stdout",
     "output_type": "stream",
     "text": [
      "epoch done! 349\n"
     ]
    },
    {
     "name": "stderr",
     "output_type": "stream",
     "text": [
      "Epoch 350 | mean loss: 36.29896:  35%|███▌      | 350/1000 [07:14<13:24,  1.24s/epoch]"
     ]
    },
    {
     "name": "stdout",
     "output_type": "stream",
     "text": [
      "epoch done! 350\n"
     ]
    },
    {
     "name": "stderr",
     "output_type": "stream",
     "text": [
      "Epoch 351 | mean loss: 34.82112:  35%|███▌      | 351/1000 [07:15<13:24,  1.24s/epoch]"
     ]
    },
    {
     "name": "stdout",
     "output_type": "stream",
     "text": [
      "epoch done! 351\n"
     ]
    },
    {
     "name": "stderr",
     "output_type": "stream",
     "text": [
      "Epoch 352 | mean loss: 33.09338:  35%|███▌      | 352/1000 [07:16<13:41,  1.27s/epoch]"
     ]
    },
    {
     "name": "stdout",
     "output_type": "stream",
     "text": [
      "epoch done! 352\n"
     ]
    },
    {
     "name": "stderr",
     "output_type": "stream",
     "text": [
      "Epoch 353 | mean loss: 32.50099:  35%|███▌      | 353/1000 [07:17<13:32,  1.26s/epoch]"
     ]
    },
    {
     "name": "stdout",
     "output_type": "stream",
     "text": [
      "epoch done! 353\n"
     ]
    },
    {
     "name": "stderr",
     "output_type": "stream",
     "text": [
      "Epoch 354 | mean loss: 32.21582:  35%|███▌      | 354/1000 [07:19<13:24,  1.25s/epoch]"
     ]
    },
    {
     "name": "stdout",
     "output_type": "stream",
     "text": [
      "epoch done! 354\n"
     ]
    },
    {
     "name": "stderr",
     "output_type": "stream",
     "text": [
      "Epoch 355 | mean loss: 35.04497:  36%|███▌      | 355/1000 [07:20<13:22,  1.24s/epoch]"
     ]
    },
    {
     "name": "stdout",
     "output_type": "stream",
     "text": [
      "epoch done! 355\n"
     ]
    },
    {
     "name": "stderr",
     "output_type": "stream",
     "text": [
      "Epoch 356 | mean loss: 31.59426:  36%|███▌      | 356/1000 [07:21<13:19,  1.24s/epoch]"
     ]
    },
    {
     "name": "stdout",
     "output_type": "stream",
     "text": [
      "epoch done! 356\n"
     ]
    },
    {
     "name": "stderr",
     "output_type": "stream",
     "text": [
      "Epoch 357 | mean loss: 33.88990:  36%|███▌      | 357/1000 [07:22<13:16,  1.24s/epoch]"
     ]
    },
    {
     "name": "stdout",
     "output_type": "stream",
     "text": [
      "epoch done! 357\n"
     ]
    },
    {
     "name": "stderr",
     "output_type": "stream",
     "text": [
      "Epoch 358 | mean loss: 33.49210:  36%|███▌      | 358/1000 [07:23<13:14,  1.24s/epoch]"
     ]
    },
    {
     "name": "stdout",
     "output_type": "stream",
     "text": [
      "epoch done! 358\n"
     ]
    },
    {
     "name": "stderr",
     "output_type": "stream",
     "text": [
      "Epoch 359 | mean loss: 31.57351:  36%|███▌      | 359/1000 [07:25<13:13,  1.24s/epoch]"
     ]
    },
    {
     "name": "stdout",
     "output_type": "stream",
     "text": [
      "epoch done! 359\n"
     ]
    },
    {
     "name": "stderr",
     "output_type": "stream",
     "text": [
      "Epoch 360 | mean loss: 32.25191:  36%|███▌      | 360/1000 [07:26<13:10,  1.24s/epoch]"
     ]
    },
    {
     "name": "stdout",
     "output_type": "stream",
     "text": [
      "epoch done! 360\n"
     ]
    },
    {
     "name": "stderr",
     "output_type": "stream",
     "text": [
      "Epoch 361 | mean loss: 33.26530:  36%|███▌      | 361/1000 [07:27<13:08,  1.23s/epoch]"
     ]
    },
    {
     "name": "stdout",
     "output_type": "stream",
     "text": [
      "epoch done! 361\n"
     ]
    },
    {
     "name": "stderr",
     "output_type": "stream",
     "text": [
      "Epoch 362 | mean loss: 31.09215:  36%|███▌      | 362/1000 [07:28<13:08,  1.24s/epoch]"
     ]
    },
    {
     "name": "stdout",
     "output_type": "stream",
     "text": [
      "epoch done! 362\n"
     ]
    },
    {
     "name": "stderr",
     "output_type": "stream",
     "text": [
      "Epoch 363 | mean loss: 29.16144:  36%|███▋      | 363/1000 [07:30<13:07,  1.24s/epoch]"
     ]
    },
    {
     "name": "stdout",
     "output_type": "stream",
     "text": [
      "epoch done! 363\n"
     ]
    },
    {
     "name": "stderr",
     "output_type": "stream",
     "text": [
      "Epoch 364 | mean loss: 30.97213:  36%|███▋      | 364/1000 [07:31<13:08,  1.24s/epoch]"
     ]
    },
    {
     "name": "stdout",
     "output_type": "stream",
     "text": [
      "epoch done! 364\n"
     ]
    },
    {
     "name": "stderr",
     "output_type": "stream",
     "text": [
      "Epoch 365 | mean loss: 31.24577:  36%|███▋      | 365/1000 [07:32<13:06,  1.24s/epoch]"
     ]
    },
    {
     "name": "stdout",
     "output_type": "stream",
     "text": [
      "epoch done! 365\n"
     ]
    },
    {
     "name": "stderr",
     "output_type": "stream",
     "text": [
      "Epoch 366 | mean loss: 30.89692:  37%|███▋      | 366/1000 [07:33<13:03,  1.24s/epoch]"
     ]
    },
    {
     "name": "stdout",
     "output_type": "stream",
     "text": [
      "epoch done! 366\n"
     ]
    },
    {
     "name": "stderr",
     "output_type": "stream",
     "text": [
      "Epoch 367 | mean loss: 31.05946:  37%|███▋      | 367/1000 [07:35<13:22,  1.27s/epoch]"
     ]
    },
    {
     "name": "stdout",
     "output_type": "stream",
     "text": [
      "epoch done! 367\n"
     ]
    },
    {
     "name": "stderr",
     "output_type": "stream",
     "text": [
      "Epoch 368 | mean loss: 30.47956:  37%|███▋      | 368/1000 [07:36<13:12,  1.25s/epoch]"
     ]
    },
    {
     "name": "stdout",
     "output_type": "stream",
     "text": [
      "epoch done! 368\n"
     ]
    },
    {
     "name": "stderr",
     "output_type": "stream",
     "text": [
      "Epoch 369 | mean loss: 32.19941:  37%|███▋      | 369/1000 [07:37<13:08,  1.25s/epoch]"
     ]
    },
    {
     "name": "stdout",
     "output_type": "stream",
     "text": [
      "epoch done! 369\n"
     ]
    },
    {
     "name": "stderr",
     "output_type": "stream",
     "text": [
      "Epoch 370 | mean loss: 30.39960:  37%|███▋      | 370/1000 [07:38<13:05,  1.25s/epoch]"
     ]
    },
    {
     "name": "stdout",
     "output_type": "stream",
     "text": [
      "epoch done! 370\n"
     ]
    },
    {
     "name": "stderr",
     "output_type": "stream",
     "text": [
      "Epoch 371 | mean loss: 32.14303:  37%|███▋      | 371/1000 [07:40<13:03,  1.25s/epoch]"
     ]
    },
    {
     "name": "stdout",
     "output_type": "stream",
     "text": [
      "epoch done! 371\n"
     ]
    },
    {
     "name": "stderr",
     "output_type": "stream",
     "text": [
      "Epoch 372 | mean loss: 29.16313:  37%|███▋      | 372/1000 [07:41<13:00,  1.24s/epoch]"
     ]
    },
    {
     "name": "stdout",
     "output_type": "stream",
     "text": [
      "epoch done! 372\n"
     ]
    },
    {
     "name": "stderr",
     "output_type": "stream",
     "text": [
      "Epoch 373 | mean loss: 29.08263:  37%|███▋      | 373/1000 [07:42<12:58,  1.24s/epoch]"
     ]
    },
    {
     "name": "stdout",
     "output_type": "stream",
     "text": [
      "epoch done! 373\n"
     ]
    },
    {
     "name": "stderr",
     "output_type": "stream",
     "text": [
      "Epoch 374 | mean loss: 30.66696:  37%|███▋      | 374/1000 [07:43<12:58,  1.24s/epoch]"
     ]
    },
    {
     "name": "stdout",
     "output_type": "stream",
     "text": [
      "epoch done! 374\n"
     ]
    },
    {
     "name": "stderr",
     "output_type": "stream",
     "text": [
      "Epoch 375 | mean loss: 31.18059:  38%|███▊      | 375/1000 [07:45<12:54,  1.24s/epoch]"
     ]
    },
    {
     "name": "stdout",
     "output_type": "stream",
     "text": [
      "epoch done! 375\n"
     ]
    },
    {
     "name": "stderr",
     "output_type": "stream",
     "text": [
      "Epoch 376 | mean loss: 31.06967:  38%|███▊      | 376/1000 [07:46<12:52,  1.24s/epoch]"
     ]
    },
    {
     "name": "stdout",
     "output_type": "stream",
     "text": [
      "epoch done! 376\n"
     ]
    },
    {
     "name": "stderr",
     "output_type": "stream",
     "text": [
      "Epoch 377 | mean loss: 32.14812:  38%|███▊      | 377/1000 [07:47<12:51,  1.24s/epoch]"
     ]
    },
    {
     "name": "stdout",
     "output_type": "stream",
     "text": [
      "epoch done! 377\n"
     ]
    },
    {
     "name": "stderr",
     "output_type": "stream",
     "text": [
      "Epoch 378 | mean loss: 29.86794:  38%|███▊      | 378/1000 [07:48<12:47,  1.23s/epoch]"
     ]
    },
    {
     "name": "stdout",
     "output_type": "stream",
     "text": [
      "epoch done! 378\n"
     ]
    },
    {
     "name": "stderr",
     "output_type": "stream",
     "text": [
      "Epoch 379 | mean loss: 29.81142:  38%|███▊      | 379/1000 [07:50<12:45,  1.23s/epoch]"
     ]
    },
    {
     "name": "stdout",
     "output_type": "stream",
     "text": [
      "epoch done! 379\n"
     ]
    },
    {
     "name": "stderr",
     "output_type": "stream",
     "text": [
      "Epoch 380 | mean loss: 31.48678:  38%|███▊      | 380/1000 [07:51<12:45,  1.23s/epoch]"
     ]
    },
    {
     "name": "stdout",
     "output_type": "stream",
     "text": [
      "epoch done! 380\n"
     ]
    },
    {
     "name": "stderr",
     "output_type": "stream",
     "text": [
      "Epoch 381 | mean loss: 31.71648:  38%|███▊      | 381/1000 [07:52<13:01,  1.26s/epoch]"
     ]
    },
    {
     "name": "stdout",
     "output_type": "stream",
     "text": [
      "epoch done! 381\n"
     ]
    },
    {
     "name": "stderr",
     "output_type": "stream",
     "text": [
      "Epoch 382 | mean loss: 29.10644:  38%|███▊      | 382/1000 [07:53<12:57,  1.26s/epoch]"
     ]
    },
    {
     "name": "stdout",
     "output_type": "stream",
     "text": [
      "epoch done! 382\n"
     ]
    },
    {
     "name": "stderr",
     "output_type": "stream",
     "text": [
      "Epoch 383 | mean loss: 30.69927:  38%|███▊      | 383/1000 [07:55<12:54,  1.25s/epoch]"
     ]
    },
    {
     "name": "stdout",
     "output_type": "stream",
     "text": [
      "epoch done! 383\n"
     ]
    },
    {
     "name": "stderr",
     "output_type": "stream",
     "text": [
      "Epoch 384 | mean loss: 30.63701:  38%|███▊      | 384/1000 [07:56<12:48,  1.25s/epoch]"
     ]
    },
    {
     "name": "stdout",
     "output_type": "stream",
     "text": [
      "epoch done! 384\n"
     ]
    },
    {
     "name": "stderr",
     "output_type": "stream",
     "text": [
      "Epoch 385 | mean loss: 28.58196:  38%|███▊      | 385/1000 [07:57<12:45,  1.24s/epoch]"
     ]
    },
    {
     "name": "stdout",
     "output_type": "stream",
     "text": [
      "epoch done! 385\n"
     ]
    },
    {
     "name": "stderr",
     "output_type": "stream",
     "text": [
      "Epoch 386 | mean loss: 29.18658:  39%|███▊      | 386/1000 [07:58<12:42,  1.24s/epoch]"
     ]
    },
    {
     "name": "stdout",
     "output_type": "stream",
     "text": [
      "epoch done! 386\n"
     ]
    },
    {
     "name": "stderr",
     "output_type": "stream",
     "text": [
      "Epoch 387 | mean loss: 29.12248:  39%|███▊      | 387/1000 [08:00<12:41,  1.24s/epoch]"
     ]
    },
    {
     "name": "stdout",
     "output_type": "stream",
     "text": [
      "epoch done! 387\n"
     ]
    },
    {
     "name": "stderr",
     "output_type": "stream",
     "text": [
      "Epoch 388 | mean loss: 28.75736:  39%|███▉      | 388/1000 [08:01<12:40,  1.24s/epoch]"
     ]
    },
    {
     "name": "stdout",
     "output_type": "stream",
     "text": [
      "epoch done! 388\n"
     ]
    },
    {
     "name": "stderr",
     "output_type": "stream",
     "text": [
      "Epoch 389 | mean loss: 28.80895:  39%|███▉      | 389/1000 [08:02<12:37,  1.24s/epoch]"
     ]
    },
    {
     "name": "stdout",
     "output_type": "stream",
     "text": [
      "epoch done! 389\n"
     ]
    },
    {
     "name": "stderr",
     "output_type": "stream",
     "text": [
      "Epoch 390 | mean loss: 27.81420:  39%|███▉      | 390/1000 [08:03<12:31,  1.23s/epoch]"
     ]
    },
    {
     "name": "stdout",
     "output_type": "stream",
     "text": [
      "epoch done! 390\n"
     ]
    },
    {
     "name": "stderr",
     "output_type": "stream",
     "text": [
      "Epoch 391 | mean loss: 29.25917:  39%|███▉      | 391/1000 [08:04<12:31,  1.23s/epoch]"
     ]
    },
    {
     "name": "stdout",
     "output_type": "stream",
     "text": [
      "epoch done! 391\n"
     ]
    },
    {
     "name": "stderr",
     "output_type": "stream",
     "text": [
      "Epoch 392 | mean loss: 28.18144:  39%|███▉      | 392/1000 [08:06<12:30,  1.23s/epoch]"
     ]
    },
    {
     "name": "stdout",
     "output_type": "stream",
     "text": [
      "epoch done! 392\n"
     ]
    },
    {
     "name": "stderr",
     "output_type": "stream",
     "text": [
      "Epoch 393 | mean loss: 28.20749:  39%|███▉      | 393/1000 [08:07<12:28,  1.23s/epoch]"
     ]
    },
    {
     "name": "stdout",
     "output_type": "stream",
     "text": [
      "epoch done! 393\n"
     ]
    },
    {
     "name": "stderr",
     "output_type": "stream",
     "text": [
      "Epoch 394 | mean loss: 28.08498:  39%|███▉      | 394/1000 [08:08<12:30,  1.24s/epoch]"
     ]
    },
    {
     "name": "stdout",
     "output_type": "stream",
     "text": [
      "epoch done! 394\n"
     ]
    },
    {
     "name": "stderr",
     "output_type": "stream",
     "text": [
      "Epoch 395 | mean loss: 27.78468:  40%|███▉      | 395/1000 [08:10<12:46,  1.27s/epoch]"
     ]
    },
    {
     "name": "stdout",
     "output_type": "stream",
     "text": [
      "epoch done! 395\n"
     ]
    },
    {
     "name": "stderr",
     "output_type": "stream",
     "text": [
      "Epoch 396 | mean loss: 27.83320:  40%|███▉      | 396/1000 [08:11<12:41,  1.26s/epoch]"
     ]
    },
    {
     "name": "stdout",
     "output_type": "stream",
     "text": [
      "epoch done! 396\n"
     ]
    },
    {
     "name": "stderr",
     "output_type": "stream",
     "text": [
      "Epoch 397 | mean loss: 28.09920:  40%|███▉      | 397/1000 [08:12<12:34,  1.25s/epoch]"
     ]
    },
    {
     "name": "stdout",
     "output_type": "stream",
     "text": [
      "epoch done! 397\n"
     ]
    },
    {
     "name": "stderr",
     "output_type": "stream",
     "text": [
      "Epoch 398 | mean loss: 27.98590:  40%|███▉      | 398/1000 [08:13<12:32,  1.25s/epoch]"
     ]
    },
    {
     "name": "stdout",
     "output_type": "stream",
     "text": [
      "epoch done! 398\n"
     ]
    },
    {
     "name": "stderr",
     "output_type": "stream",
     "text": [
      "Epoch 399 | mean loss: 28.76994:  40%|███▉      | 399/1000 [08:14<12:27,  1.24s/epoch]"
     ]
    },
    {
     "name": "stdout",
     "output_type": "stream",
     "text": [
      "epoch done! 399\n"
     ]
    },
    {
     "name": "stderr",
     "output_type": "stream",
     "text": [
      "Epoch 400 | mean loss: 26.45086:  40%|████      | 400/1000 [08:16<12:24,  1.24s/epoch]"
     ]
    },
    {
     "name": "stdout",
     "output_type": "stream",
     "text": [
      "epoch done! 400\n"
     ]
    },
    {
     "name": "stderr",
     "output_type": "stream",
     "text": [
      "Epoch 401 | mean loss: 27.66487:  40%|████      | 401/1000 [08:17<12:23,  1.24s/epoch]"
     ]
    },
    {
     "name": "stdout",
     "output_type": "stream",
     "text": [
      "epoch done! 401\n"
     ]
    },
    {
     "name": "stderr",
     "output_type": "stream",
     "text": [
      "Epoch 402 | mean loss: 28.22458:  40%|████      | 402/1000 [08:18<12:21,  1.24s/epoch]"
     ]
    },
    {
     "name": "stdout",
     "output_type": "stream",
     "text": [
      "epoch done! 402\n"
     ]
    },
    {
     "name": "stderr",
     "output_type": "stream",
     "text": [
      "Epoch 403 | mean loss: 28.53359:  40%|████      | 403/1000 [08:19<12:18,  1.24s/epoch]"
     ]
    },
    {
     "name": "stdout",
     "output_type": "stream",
     "text": [
      "epoch done! 403\n"
     ]
    },
    {
     "name": "stderr",
     "output_type": "stream",
     "text": [
      "Epoch 404 | mean loss: 25.96006:  40%|████      | 404/1000 [08:21<12:18,  1.24s/epoch]"
     ]
    },
    {
     "name": "stdout",
     "output_type": "stream",
     "text": [
      "epoch done! 404\n"
     ]
    },
    {
     "name": "stderr",
     "output_type": "stream",
     "text": [
      "Epoch 405 | mean loss: 25.36015:  40%|████      | 405/1000 [08:22<12:15,  1.24s/epoch]"
     ]
    },
    {
     "name": "stdout",
     "output_type": "stream",
     "text": [
      "epoch done! 405\n"
     ]
    },
    {
     "name": "stderr",
     "output_type": "stream",
     "text": [
      "Epoch 406 | mean loss: 27.38963:  41%|████      | 406/1000 [08:23<12:18,  1.24s/epoch]"
     ]
    },
    {
     "name": "stdout",
     "output_type": "stream",
     "text": [
      "epoch done! 406\n"
     ]
    },
    {
     "name": "stderr",
     "output_type": "stream",
     "text": [
      "Epoch 407 | mean loss: 25.91071:  41%|████      | 407/1000 [08:24<12:33,  1.27s/epoch]"
     ]
    },
    {
     "name": "stdout",
     "output_type": "stream",
     "text": [
      "epoch done! 407\n"
     ]
    },
    {
     "name": "stderr",
     "output_type": "stream",
     "text": [
      "Epoch 408 | mean loss: 30.03709:  41%|████      | 408/1000 [08:26<12:24,  1.26s/epoch]"
     ]
    },
    {
     "name": "stdout",
     "output_type": "stream",
     "text": [
      "epoch done! 408\n"
     ]
    },
    {
     "name": "stderr",
     "output_type": "stream",
     "text": [
      "Epoch 409 | mean loss: 28.42940:  41%|████      | 409/1000 [08:27<12:19,  1.25s/epoch]"
     ]
    },
    {
     "name": "stdout",
     "output_type": "stream",
     "text": [
      "epoch done! 409\n"
     ]
    },
    {
     "name": "stderr",
     "output_type": "stream",
     "text": [
      "Epoch 410 | mean loss: 26.76057:  41%|████      | 410/1000 [08:28<12:15,  1.25s/epoch]"
     ]
    },
    {
     "name": "stdout",
     "output_type": "stream",
     "text": [
      "epoch done! 410\n"
     ]
    },
    {
     "name": "stderr",
     "output_type": "stream",
     "text": [
      "Epoch 411 | mean loss: 25.16197:  41%|████      | 411/1000 [08:29<12:11,  1.24s/epoch]"
     ]
    },
    {
     "name": "stdout",
     "output_type": "stream",
     "text": [
      "epoch done! 411\n"
     ]
    },
    {
     "name": "stderr",
     "output_type": "stream",
     "text": [
      "Epoch 412 | mean loss: 24.20217:  41%|████      | 412/1000 [08:31<12:09,  1.24s/epoch]"
     ]
    },
    {
     "name": "stdout",
     "output_type": "stream",
     "text": [
      "epoch done! 412\n"
     ]
    },
    {
     "name": "stderr",
     "output_type": "stream",
     "text": [
      "Epoch 413 | mean loss: 26.97984:  41%|████▏     | 413/1000 [08:32<12:07,  1.24s/epoch]"
     ]
    },
    {
     "name": "stdout",
     "output_type": "stream",
     "text": [
      "epoch done! 413\n"
     ]
    },
    {
     "name": "stderr",
     "output_type": "stream",
     "text": [
      "Epoch 414 | mean loss: 26.23802:  41%|████▏     | 414/1000 [08:33<12:07,  1.24s/epoch]"
     ]
    },
    {
     "name": "stdout",
     "output_type": "stream",
     "text": [
      "epoch done! 414\n"
     ]
    },
    {
     "name": "stderr",
     "output_type": "stream",
     "text": [
      "Epoch 415 | mean loss: 25.16301:  42%|████▏     | 415/1000 [08:34<12:05,  1.24s/epoch]"
     ]
    },
    {
     "name": "stdout",
     "output_type": "stream",
     "text": [
      "epoch done! 415\n"
     ]
    },
    {
     "name": "stderr",
     "output_type": "stream",
     "text": [
      "Epoch 416 | mean loss: 25.53097:  42%|████▏     | 416/1000 [08:36<12:04,  1.24s/epoch]"
     ]
    },
    {
     "name": "stdout",
     "output_type": "stream",
     "text": [
      "epoch done! 416\n"
     ]
    },
    {
     "name": "stderr",
     "output_type": "stream",
     "text": [
      "Epoch 417 | mean loss: 24.66255:  42%|████▏     | 417/1000 [08:37<12:02,  1.24s/epoch]"
     ]
    },
    {
     "name": "stdout",
     "output_type": "stream",
     "text": [
      "epoch done! 417\n"
     ]
    },
    {
     "name": "stderr",
     "output_type": "stream",
     "text": [
      "Epoch 418 | mean loss: 26.30259:  42%|████▏     | 418/1000 [08:38<11:58,  1.23s/epoch]"
     ]
    },
    {
     "name": "stdout",
     "output_type": "stream",
     "text": [
      "epoch done! 418\n"
     ]
    },
    {
     "name": "stderr",
     "output_type": "stream",
     "text": [
      "Epoch 419 | mean loss: 23.76930:  42%|████▏     | 419/1000 [08:39<11:57,  1.23s/epoch]"
     ]
    },
    {
     "name": "stdout",
     "output_type": "stream",
     "text": [
      "epoch done! 419\n"
     ]
    },
    {
     "name": "stderr",
     "output_type": "stream",
     "text": [
      "Epoch 420 | mean loss: 25.83011:  42%|████▏     | 420/1000 [08:41<11:54,  1.23s/epoch]"
     ]
    },
    {
     "name": "stdout",
     "output_type": "stream",
     "text": [
      "epoch done! 420\n"
     ]
    },
    {
     "name": "stderr",
     "output_type": "stream",
     "text": [
      "Epoch 421 | mean loss: 23.81335:  42%|████▏     | 421/1000 [08:42<12:10,  1.26s/epoch]"
     ]
    },
    {
     "name": "stdout",
     "output_type": "stream",
     "text": [
      "epoch done! 421\n"
     ]
    },
    {
     "name": "stderr",
     "output_type": "stream",
     "text": [
      "Epoch 422 | mean loss: 23.72307:  42%|████▏     | 422/1000 [08:43<12:07,  1.26s/epoch]"
     ]
    },
    {
     "name": "stdout",
     "output_type": "stream",
     "text": [
      "epoch done! 422\n"
     ]
    },
    {
     "name": "stderr",
     "output_type": "stream",
     "text": [
      "Epoch 423 | mean loss: 23.88658:  42%|████▏     | 423/1000 [08:44<12:04,  1.26s/epoch]"
     ]
    },
    {
     "name": "stdout",
     "output_type": "stream",
     "text": [
      "epoch done! 423\n"
     ]
    },
    {
     "name": "stderr",
     "output_type": "stream",
     "text": [
      "Epoch 424 | mean loss: 23.10794:  42%|████▏     | 424/1000 [08:46<12:00,  1.25s/epoch]"
     ]
    },
    {
     "name": "stdout",
     "output_type": "stream",
     "text": [
      "epoch done! 424\n"
     ]
    },
    {
     "name": "stderr",
     "output_type": "stream",
     "text": [
      "Epoch 425 | mean loss: 24.54666:  42%|████▎     | 425/1000 [08:47<11:56,  1.25s/epoch]"
     ]
    },
    {
     "name": "stdout",
     "output_type": "stream",
     "text": [
      "epoch done! 425\n"
     ]
    },
    {
     "name": "stderr",
     "output_type": "stream",
     "text": [
      "Epoch 426 | mean loss: 23.53426:  43%|████▎     | 426/1000 [08:48<11:53,  1.24s/epoch]"
     ]
    },
    {
     "name": "stdout",
     "output_type": "stream",
     "text": [
      "epoch done! 426\n"
     ]
    },
    {
     "name": "stderr",
     "output_type": "stream",
     "text": [
      "Epoch 427 | mean loss: 24.01444:  43%|████▎     | 427/1000 [08:49<11:52,  1.24s/epoch]"
     ]
    },
    {
     "name": "stdout",
     "output_type": "stream",
     "text": [
      "epoch done! 427\n"
     ]
    },
    {
     "name": "stderr",
     "output_type": "stream",
     "text": [
      "Epoch 428 | mean loss: 24.47860:  43%|████▎     | 428/1000 [08:51<11:50,  1.24s/epoch]"
     ]
    },
    {
     "name": "stdout",
     "output_type": "stream",
     "text": [
      "epoch done! 428\n"
     ]
    },
    {
     "name": "stderr",
     "output_type": "stream",
     "text": [
      "Epoch 429 | mean loss: 25.00045:  43%|████▎     | 429/1000 [08:52<11:48,  1.24s/epoch]"
     ]
    },
    {
     "name": "stdout",
     "output_type": "stream",
     "text": [
      "epoch done! 429\n"
     ]
    },
    {
     "name": "stderr",
     "output_type": "stream",
     "text": [
      "Epoch 430 | mean loss: 24.08042:  43%|████▎     | 430/1000 [08:53<11:45,  1.24s/epoch]"
     ]
    },
    {
     "name": "stdout",
     "output_type": "stream",
     "text": [
      "epoch done! 430\n"
     ]
    },
    {
     "name": "stderr",
     "output_type": "stream",
     "text": [
      "Epoch 431 | mean loss: 22.31145:  43%|████▎     | 431/1000 [08:54<11:48,  1.24s/epoch]"
     ]
    },
    {
     "name": "stdout",
     "output_type": "stream",
     "text": [
      "epoch done! 431\n"
     ]
    },
    {
     "name": "stderr",
     "output_type": "stream",
     "text": [
      "Epoch 432 | mean loss: 24.41417:  43%|████▎     | 432/1000 [08:56<11:44,  1.24s/epoch]"
     ]
    },
    {
     "name": "stdout",
     "output_type": "stream",
     "text": [
      "epoch done! 432\n"
     ]
    },
    {
     "name": "stderr",
     "output_type": "stream",
     "text": [
      "Epoch 433 | mean loss: 24.55656:  43%|████▎     | 433/1000 [08:57<11:58,  1.27s/epoch]"
     ]
    },
    {
     "name": "stdout",
     "output_type": "stream",
     "text": [
      "epoch done! 433\n"
     ]
    },
    {
     "name": "stderr",
     "output_type": "stream",
     "text": [
      "Epoch 434 | mean loss: 23.77689:  43%|████▎     | 434/1000 [08:58<11:50,  1.25s/epoch]"
     ]
    },
    {
     "name": "stdout",
     "output_type": "stream",
     "text": [
      "epoch done! 434\n"
     ]
    },
    {
     "name": "stderr",
     "output_type": "stream",
     "text": [
      "Epoch 435 | mean loss: 23.36742:  44%|████▎     | 435/1000 [08:59<11:45,  1.25s/epoch]"
     ]
    },
    {
     "name": "stdout",
     "output_type": "stream",
     "text": [
      "epoch done! 435\n"
     ]
    },
    {
     "name": "stderr",
     "output_type": "stream",
     "text": [
      "Epoch 436 | mean loss: 23.82929:  44%|████▎     | 436/1000 [09:01<11:42,  1.25s/epoch]"
     ]
    },
    {
     "name": "stdout",
     "output_type": "stream",
     "text": [
      "epoch done! 436\n"
     ]
    },
    {
     "name": "stderr",
     "output_type": "stream",
     "text": [
      "Epoch 437 | mean loss: 23.20990:  44%|████▎     | 437/1000 [09:02<11:40,  1.24s/epoch]"
     ]
    },
    {
     "name": "stdout",
     "output_type": "stream",
     "text": [
      "epoch done! 437\n"
     ]
    },
    {
     "name": "stderr",
     "output_type": "stream",
     "text": [
      "Epoch 438 | mean loss: 24.99999:  44%|████▍     | 438/1000 [09:03<11:38,  1.24s/epoch]"
     ]
    },
    {
     "name": "stdout",
     "output_type": "stream",
     "text": [
      "epoch done! 438\n"
     ]
    },
    {
     "name": "stderr",
     "output_type": "stream",
     "text": [
      "Epoch 439 | mean loss: 23.87647:  44%|████▍     | 439/1000 [09:04<11:35,  1.24s/epoch]"
     ]
    },
    {
     "name": "stdout",
     "output_type": "stream",
     "text": [
      "epoch done! 439\n"
     ]
    },
    {
     "name": "stderr",
     "output_type": "stream",
     "text": [
      "Epoch 440 | mean loss: 22.60044:  44%|████▍     | 440/1000 [09:06<11:34,  1.24s/epoch]"
     ]
    },
    {
     "name": "stdout",
     "output_type": "stream",
     "text": [
      "epoch done! 440\n"
     ]
    },
    {
     "name": "stderr",
     "output_type": "stream",
     "text": [
      "Epoch 441 | mean loss: 21.17385:  44%|████▍     | 441/1000 [09:07<11:32,  1.24s/epoch]"
     ]
    },
    {
     "name": "stdout",
     "output_type": "stream",
     "text": [
      "epoch done! 441\n"
     ]
    },
    {
     "name": "stderr",
     "output_type": "stream",
     "text": [
      "Epoch 442 | mean loss: 21.81753:  44%|████▍     | 442/1000 [09:08<11:32,  1.24s/epoch]"
     ]
    },
    {
     "name": "stdout",
     "output_type": "stream",
     "text": [
      "epoch done! 442\n"
     ]
    },
    {
     "name": "stderr",
     "output_type": "stream",
     "text": [
      "Epoch 443 | mean loss: 24.25039:  44%|████▍     | 443/1000 [09:09<11:30,  1.24s/epoch]"
     ]
    },
    {
     "name": "stdout",
     "output_type": "stream",
     "text": [
      "epoch done! 443\n"
     ]
    },
    {
     "name": "stderr",
     "output_type": "stream",
     "text": [
      "Epoch 444 | mean loss: 25.33548:  44%|████▍     | 444/1000 [09:10<11:30,  1.24s/epoch]"
     ]
    },
    {
     "name": "stdout",
     "output_type": "stream",
     "text": [
      "epoch done! 444\n"
     ]
    },
    {
     "name": "stderr",
     "output_type": "stream",
     "text": [
      "Epoch 445 | mean loss: 22.33805:  44%|████▍     | 445/1000 [09:12<11:44,  1.27s/epoch]"
     ]
    },
    {
     "name": "stdout",
     "output_type": "stream",
     "text": [
      "epoch done! 445\n"
     ]
    },
    {
     "name": "stderr",
     "output_type": "stream",
     "text": [
      "Epoch 446 | mean loss: 21.80426:  45%|████▍     | 446/1000 [09:13<11:39,  1.26s/epoch]"
     ]
    },
    {
     "name": "stdout",
     "output_type": "stream",
     "text": [
      "epoch done! 446\n"
     ]
    },
    {
     "name": "stderr",
     "output_type": "stream",
     "text": [
      "Epoch 447 | mean loss: 21.73879:  45%|████▍     | 447/1000 [09:14<11:35,  1.26s/epoch]"
     ]
    },
    {
     "name": "stdout",
     "output_type": "stream",
     "text": [
      "epoch done! 447\n"
     ]
    },
    {
     "name": "stderr",
     "output_type": "stream",
     "text": [
      "Epoch 448 | mean loss: 22.70535:  45%|████▍     | 448/1000 [09:16<11:34,  1.26s/epoch]"
     ]
    },
    {
     "name": "stdout",
     "output_type": "stream",
     "text": [
      "epoch done! 448\n"
     ]
    },
    {
     "name": "stderr",
     "output_type": "stream",
     "text": [
      "Epoch 449 | mean loss: 21.50084:  45%|████▍     | 449/1000 [09:17<11:29,  1.25s/epoch]"
     ]
    },
    {
     "name": "stdout",
     "output_type": "stream",
     "text": [
      "epoch done! 449\n"
     ]
    },
    {
     "name": "stderr",
     "output_type": "stream",
     "text": [
      "Epoch 450 | mean loss: 22.11256:  45%|████▌     | 450/1000 [09:18<11:26,  1.25s/epoch]"
     ]
    },
    {
     "name": "stdout",
     "output_type": "stream",
     "text": [
      "epoch done! 450\n"
     ]
    },
    {
     "name": "stderr",
     "output_type": "stream",
     "text": [
      "Epoch 451 | mean loss: 22.89309:  45%|████▌     | 451/1000 [09:19<11:22,  1.24s/epoch]"
     ]
    },
    {
     "name": "stdout",
     "output_type": "stream",
     "text": [
      "epoch done! 451\n"
     ]
    },
    {
     "name": "stderr",
     "output_type": "stream",
     "text": [
      "Epoch 452 | mean loss: 22.69742:  45%|████▌     | 452/1000 [09:21<11:21,  1.24s/epoch]"
     ]
    },
    {
     "name": "stdout",
     "output_type": "stream",
     "text": [
      "epoch done! 452\n"
     ]
    },
    {
     "name": "stderr",
     "output_type": "stream",
     "text": [
      "Epoch 453 | mean loss: 21.87481:  45%|████▌     | 453/1000 [09:22<11:19,  1.24s/epoch]"
     ]
    },
    {
     "name": "stdout",
     "output_type": "stream",
     "text": [
      "epoch done! 453\n"
     ]
    },
    {
     "name": "stderr",
     "output_type": "stream",
     "text": [
      "Epoch 454 | mean loss: 23.28230:  45%|████▌     | 454/1000 [09:23<11:14,  1.24s/epoch]"
     ]
    },
    {
     "name": "stdout",
     "output_type": "stream",
     "text": [
      "epoch done! 454\n"
     ]
    },
    {
     "name": "stderr",
     "output_type": "stream",
     "text": [
      "Epoch 455 | mean loss: 22.93242:  46%|████▌     | 455/1000 [09:24<11:12,  1.23s/epoch]"
     ]
    },
    {
     "name": "stdout",
     "output_type": "stream",
     "text": [
      "epoch done! 455\n"
     ]
    },
    {
     "name": "stderr",
     "output_type": "stream",
     "text": [
      "Epoch 456 | mean loss: 19.86650:  46%|████▌     | 456/1000 [09:25<11:11,  1.23s/epoch]"
     ]
    },
    {
     "name": "stdout",
     "output_type": "stream",
     "text": [
      "epoch done! 456\n"
     ]
    },
    {
     "name": "stderr",
     "output_type": "stream",
     "text": [
      "Epoch 457 | mean loss: 21.28048:  46%|████▌     | 457/1000 [09:27<11:26,  1.26s/epoch]"
     ]
    },
    {
     "name": "stdout",
     "output_type": "stream",
     "text": [
      "epoch done! 457\n"
     ]
    },
    {
     "name": "stderr",
     "output_type": "stream",
     "text": [
      "Epoch 458 | mean loss: 21.72132:  46%|████▌     | 458/1000 [09:28<11:20,  1.26s/epoch]"
     ]
    },
    {
     "name": "stdout",
     "output_type": "stream",
     "text": [
      "epoch done! 458\n"
     ]
    },
    {
     "name": "stderr",
     "output_type": "stream",
     "text": [
      "Epoch 459 | mean loss: 21.43592:  46%|████▌     | 459/1000 [09:29<11:16,  1.25s/epoch]"
     ]
    },
    {
     "name": "stdout",
     "output_type": "stream",
     "text": [
      "epoch done! 459\n"
     ]
    },
    {
     "name": "stderr",
     "output_type": "stream",
     "text": [
      "Epoch 460 | mean loss: 22.23802:  46%|████▌     | 460/1000 [09:30<11:11,  1.24s/epoch]"
     ]
    },
    {
     "name": "stdout",
     "output_type": "stream",
     "text": [
      "epoch done! 460\n"
     ]
    },
    {
     "name": "stderr",
     "output_type": "stream",
     "text": [
      "Epoch 461 | mean loss: 21.19665:  46%|████▌     | 461/1000 [09:32<11:09,  1.24s/epoch]"
     ]
    },
    {
     "name": "stdout",
     "output_type": "stream",
     "text": [
      "epoch done! 461\n"
     ]
    },
    {
     "name": "stderr",
     "output_type": "stream",
     "text": [
      "Epoch 462 | mean loss: 21.30051:  46%|████▌     | 462/1000 [09:33<11:07,  1.24s/epoch]"
     ]
    },
    {
     "name": "stdout",
     "output_type": "stream",
     "text": [
      "epoch done! 462\n"
     ]
    },
    {
     "name": "stderr",
     "output_type": "stream",
     "text": [
      "Epoch 463 | mean loss: 20.65696:  46%|████▋     | 463/1000 [09:34<11:05,  1.24s/epoch]"
     ]
    },
    {
     "name": "stdout",
     "output_type": "stream",
     "text": [
      "epoch done! 463\n"
     ]
    },
    {
     "name": "stderr",
     "output_type": "stream",
     "text": [
      "Epoch 464 | mean loss: 21.07358:  46%|████▋     | 464/1000 [09:35<11:06,  1.24s/epoch]"
     ]
    },
    {
     "name": "stdout",
     "output_type": "stream",
     "text": [
      "epoch done! 464\n"
     ]
    },
    {
     "name": "stderr",
     "output_type": "stream",
     "text": [
      "Epoch 465 | mean loss: 18.56429:  46%|████▋     | 465/1000 [09:37<11:02,  1.24s/epoch]"
     ]
    },
    {
     "name": "stdout",
     "output_type": "stream",
     "text": [
      "epoch done! 465\n"
     ]
    },
    {
     "name": "stderr",
     "output_type": "stream",
     "text": [
      "Epoch 466 | mean loss: 19.52450:  47%|████▋     | 466/1000 [09:38<11:00,  1.24s/epoch]"
     ]
    },
    {
     "name": "stdout",
     "output_type": "stream",
     "text": [
      "epoch done! 466\n"
     ]
    },
    {
     "name": "stderr",
     "output_type": "stream",
     "text": [
      "Epoch 467 | mean loss: 20.51285:  47%|████▋     | 467/1000 [09:39<10:59,  1.24s/epoch]"
     ]
    },
    {
     "name": "stdout",
     "output_type": "stream",
     "text": [
      "epoch done! 467\n"
     ]
    },
    {
     "name": "stderr",
     "output_type": "stream",
     "text": [
      "Epoch 468 | mean loss: 21.48131:  47%|████▋     | 468/1000 [09:40<10:59,  1.24s/epoch]"
     ]
    },
    {
     "name": "stdout",
     "output_type": "stream",
     "text": [
      "epoch done! 468\n"
     ]
    },
    {
     "name": "stderr",
     "output_type": "stream",
     "text": [
      "Epoch 469 | mean loss: 19.56972:  47%|████▋     | 469/1000 [09:42<11:12,  1.27s/epoch]"
     ]
    },
    {
     "name": "stdout",
     "output_type": "stream",
     "text": [
      "epoch done! 469\n"
     ]
    },
    {
     "name": "stderr",
     "output_type": "stream",
     "text": [
      "Epoch 470 | mean loss: 21.95297:  47%|████▋     | 470/1000 [09:43<11:03,  1.25s/epoch]"
     ]
    },
    {
     "name": "stdout",
     "output_type": "stream",
     "text": [
      "epoch done! 470\n"
     ]
    },
    {
     "name": "stderr",
     "output_type": "stream",
     "text": [
      "Epoch 471 | mean loss: 18.71085:  47%|████▋     | 471/1000 [09:44<11:00,  1.25s/epoch]"
     ]
    },
    {
     "name": "stdout",
     "output_type": "stream",
     "text": [
      "epoch done! 471\n"
     ]
    },
    {
     "name": "stderr",
     "output_type": "stream",
     "text": [
      "Epoch 472 | mean loss: 20.63925:  47%|████▋     | 472/1000 [09:45<10:58,  1.25s/epoch]"
     ]
    },
    {
     "name": "stdout",
     "output_type": "stream",
     "text": [
      "epoch done! 472\n"
     ]
    },
    {
     "name": "stderr",
     "output_type": "stream",
     "text": [
      "Epoch 473 | mean loss: 19.85319:  47%|████▋     | 473/1000 [09:47<10:55,  1.24s/epoch]"
     ]
    },
    {
     "name": "stdout",
     "output_type": "stream",
     "text": [
      "epoch done! 473\n"
     ]
    },
    {
     "name": "stderr",
     "output_type": "stream",
     "text": [
      "Epoch 474 | mean loss: 20.65909:  47%|████▋     | 474/1000 [09:48<10:53,  1.24s/epoch]"
     ]
    },
    {
     "name": "stdout",
     "output_type": "stream",
     "text": [
      "epoch done! 474\n"
     ]
    },
    {
     "name": "stderr",
     "output_type": "stream",
     "text": [
      "Epoch 475 | mean loss: 19.17120:  48%|████▊     | 475/1000 [09:49<10:52,  1.24s/epoch]"
     ]
    },
    {
     "name": "stdout",
     "output_type": "stream",
     "text": [
      "epoch done! 475\n"
     ]
    },
    {
     "name": "stderr",
     "output_type": "stream",
     "text": [
      "Epoch 476 | mean loss: 20.22278:  48%|████▊     | 476/1000 [09:50<10:49,  1.24s/epoch]"
     ]
    },
    {
     "name": "stdout",
     "output_type": "stream",
     "text": [
      "epoch done! 476\n"
     ]
    },
    {
     "name": "stderr",
     "output_type": "stream",
     "text": [
      "Epoch 477 | mean loss: 21.49425:  48%|████▊     | 477/1000 [09:52<10:50,  1.24s/epoch]"
     ]
    },
    {
     "name": "stdout",
     "output_type": "stream",
     "text": [
      "epoch done! 477\n"
     ]
    },
    {
     "name": "stderr",
     "output_type": "stream",
     "text": [
      "Epoch 478 | mean loss: 22.09299:  48%|████▊     | 478/1000 [09:53<10:49,  1.24s/epoch]"
     ]
    },
    {
     "name": "stdout",
     "output_type": "stream",
     "text": [
      "epoch done! 478\n"
     ]
    },
    {
     "name": "stderr",
     "output_type": "stream",
     "text": [
      "Epoch 479 | mean loss: 20.99410:  48%|████▊     | 479/1000 [09:54<10:47,  1.24s/epoch]"
     ]
    },
    {
     "name": "stdout",
     "output_type": "stream",
     "text": [
      "epoch done! 479\n"
     ]
    },
    {
     "name": "stderr",
     "output_type": "stream",
     "text": [
      "Epoch 480 | mean loss: 19.79495:  48%|████▊     | 480/1000 [09:55<10:59,  1.27s/epoch]"
     ]
    },
    {
     "name": "stdout",
     "output_type": "stream",
     "text": [
      "epoch done! 480\n"
     ]
    },
    {
     "name": "stderr",
     "output_type": "stream",
     "text": [
      "Epoch 481 | mean loss: 21.72806:  48%|████▊     | 481/1000 [09:57<10:56,  1.27s/epoch]"
     ]
    },
    {
     "name": "stdout",
     "output_type": "stream",
     "text": [
      "epoch done! 481\n"
     ]
    },
    {
     "name": "stderr",
     "output_type": "stream",
     "text": [
      "Epoch 482 | mean loss: 20.37364:  48%|████▊     | 482/1000 [09:58<10:50,  1.26s/epoch]"
     ]
    },
    {
     "name": "stdout",
     "output_type": "stream",
     "text": [
      "epoch done! 482\n"
     ]
    },
    {
     "name": "stderr",
     "output_type": "stream",
     "text": [
      "Epoch 483 | mean loss: 18.94509:  48%|████▊     | 483/1000 [09:59<10:44,  1.25s/epoch]"
     ]
    },
    {
     "name": "stdout",
     "output_type": "stream",
     "text": [
      "epoch done! 483\n"
     ]
    },
    {
     "name": "stderr",
     "output_type": "stream",
     "text": [
      "Epoch 484 | mean loss: 20.33941:  48%|████▊     | 484/1000 [10:00<10:39,  1.24s/epoch]"
     ]
    },
    {
     "name": "stdout",
     "output_type": "stream",
     "text": [
      "epoch done! 484\n"
     ]
    },
    {
     "name": "stderr",
     "output_type": "stream",
     "text": [
      "Epoch 485 | mean loss: 20.42253:  48%|████▊     | 485/1000 [10:02<10:39,  1.24s/epoch]"
     ]
    },
    {
     "name": "stdout",
     "output_type": "stream",
     "text": [
      "epoch done! 485\n"
     ]
    },
    {
     "name": "stderr",
     "output_type": "stream",
     "text": [
      "Epoch 486 | mean loss: 19.96729:  49%|████▊     | 486/1000 [10:03<10:39,  1.24s/epoch]"
     ]
    },
    {
     "name": "stdout",
     "output_type": "stream",
     "text": [
      "epoch done! 486\n"
     ]
    },
    {
     "name": "stderr",
     "output_type": "stream",
     "text": [
      "Epoch 487 | mean loss: 20.63461:  49%|████▊     | 487/1000 [10:04<10:32,  1.23s/epoch]"
     ]
    },
    {
     "name": "stdout",
     "output_type": "stream",
     "text": [
      "epoch done! 487\n"
     ]
    },
    {
     "name": "stderr",
     "output_type": "stream",
     "text": [
      "Epoch 488 | mean loss: 18.92636:  49%|████▉     | 488/1000 [10:05<10:03,  1.18s/epoch]"
     ]
    },
    {
     "name": "stdout",
     "output_type": "stream",
     "text": [
      "epoch done! 488\n"
     ]
    },
    {
     "name": "stderr",
     "output_type": "stream",
     "text": [
      "Epoch 489 | mean loss: 18.00798:  49%|████▉     | 489/1000 [10:06<09:47,  1.15s/epoch]"
     ]
    },
    {
     "name": "stdout",
     "output_type": "stream",
     "text": [
      "epoch done! 489\n"
     ]
    },
    {
     "name": "stderr",
     "output_type": "stream",
     "text": [
      "Epoch 490 | mean loss: 18.44647:  49%|████▉     | 490/1000 [10:07<09:38,  1.13s/epoch]"
     ]
    },
    {
     "name": "stdout",
     "output_type": "stream",
     "text": [
      "epoch done! 490\n"
     ]
    },
    {
     "name": "stderr",
     "output_type": "stream",
     "text": [
      "Epoch 491 | mean loss: 21.57774:  49%|████▉     | 491/1000 [10:08<09:32,  1.12s/epoch]"
     ]
    },
    {
     "name": "stdout",
     "output_type": "stream",
     "text": [
      "epoch done! 491\n"
     ]
    },
    {
     "name": "stderr",
     "output_type": "stream",
     "text": [
      "Epoch 492 | mean loss: 18.94521:  49%|████▉     | 492/1000 [10:10<09:29,  1.12s/epoch]"
     ]
    },
    {
     "name": "stdout",
     "output_type": "stream",
     "text": [
      "epoch done! 492\n"
     ]
    },
    {
     "name": "stderr",
     "output_type": "stream",
     "text": [
      "Epoch 493 | mean loss: 18.90514:  49%|████▉     | 493/1000 [10:11<09:45,  1.15s/epoch]"
     ]
    },
    {
     "name": "stdout",
     "output_type": "stream",
     "text": [
      "epoch done! 493\n"
     ]
    },
    {
     "name": "stderr",
     "output_type": "stream",
     "text": [
      "Epoch 494 | mean loss: 18.69815:  49%|████▉     | 494/1000 [10:12<09:34,  1.14s/epoch]"
     ]
    },
    {
     "name": "stdout",
     "output_type": "stream",
     "text": [
      "epoch done! 494\n"
     ]
    },
    {
     "name": "stderr",
     "output_type": "stream",
     "text": [
      "Epoch 495 | mean loss: 17.72099:  50%|████▉     | 495/1000 [10:13<09:28,  1.13s/epoch]"
     ]
    },
    {
     "name": "stdout",
     "output_type": "stream",
     "text": [
      "epoch done! 495\n"
     ]
    },
    {
     "name": "stderr",
     "output_type": "stream",
     "text": [
      "Epoch 496 | mean loss: 18.90086:  50%|████▉     | 496/1000 [10:14<09:21,  1.11s/epoch]"
     ]
    },
    {
     "name": "stdout",
     "output_type": "stream",
     "text": [
      "epoch done! 496\n"
     ]
    },
    {
     "name": "stderr",
     "output_type": "stream",
     "text": [
      "Epoch 497 | mean loss: 19.19314:  50%|████▉     | 497/1000 [10:15<09:18,  1.11s/epoch]"
     ]
    },
    {
     "name": "stdout",
     "output_type": "stream",
     "text": [
      "epoch done! 497\n"
     ]
    },
    {
     "name": "stderr",
     "output_type": "stream",
     "text": [
      "Epoch 498 | mean loss: 18.72765:  50%|████▉     | 498/1000 [10:16<09:38,  1.15s/epoch]"
     ]
    },
    {
     "name": "stdout",
     "output_type": "stream",
     "text": [
      "epoch done! 498\n"
     ]
    },
    {
     "name": "stderr",
     "output_type": "stream",
     "text": [
      "Epoch 499 | mean loss: 19.62875:  50%|████▉     | 499/1000 [10:17<09:27,  1.13s/epoch]"
     ]
    },
    {
     "name": "stdout",
     "output_type": "stream",
     "text": [
      "epoch done! 499\n"
     ]
    },
    {
     "name": "stderr",
     "output_type": "stream",
     "text": [
      "Epoch 500 | mean loss: 20.84548:  50%|█████     | 500/1000 [10:19<09:18,  1.12s/epoch]"
     ]
    },
    {
     "name": "stdout",
     "output_type": "stream",
     "text": [
      "epoch done! 500\n"
     ]
    },
    {
     "name": "stderr",
     "output_type": "stream",
     "text": [
      "Epoch 501 | mean loss: 18.45389:  50%|█████     | 501/1000 [10:20<09:14,  1.11s/epoch]"
     ]
    },
    {
     "name": "stdout",
     "output_type": "stream",
     "text": [
      "epoch done! 501\n"
     ]
    },
    {
     "name": "stderr",
     "output_type": "stream",
     "text": [
      "Epoch 502 | mean loss: 18.27717:  50%|█████     | 502/1000 [10:21<09:07,  1.10s/epoch]"
     ]
    },
    {
     "name": "stdout",
     "output_type": "stream",
     "text": [
      "epoch done! 502\n"
     ]
    },
    {
     "name": "stderr",
     "output_type": "stream",
     "text": [
      "Epoch 503 | mean loss: 19.74541:  50%|█████     | 503/1000 [10:22<08:58,  1.08s/epoch]"
     ]
    },
    {
     "name": "stdout",
     "output_type": "stream",
     "text": [
      "epoch done! 503\n"
     ]
    },
    {
     "name": "stderr",
     "output_type": "stream",
     "text": [
      "Epoch 504 | mean loss: 17.06162:  50%|█████     | 504/1000 [10:23<08:55,  1.08s/epoch]"
     ]
    },
    {
     "name": "stdout",
     "output_type": "stream",
     "text": [
      "epoch done! 504\n"
     ]
    },
    {
     "name": "stderr",
     "output_type": "stream",
     "text": [
      "Epoch 505 | mean loss: 17.78958:  50%|█████     | 505/1000 [10:24<08:59,  1.09s/epoch]"
     ]
    },
    {
     "name": "stdout",
     "output_type": "stream",
     "text": [
      "epoch done! 505\n"
     ]
    },
    {
     "name": "stderr",
     "output_type": "stream",
     "text": [
      "Epoch 506 | mean loss: 17.37033:  51%|█████     | 506/1000 [10:25<08:56,  1.09s/epoch]"
     ]
    },
    {
     "name": "stdout",
     "output_type": "stream",
     "text": [
      "epoch done! 506\n"
     ]
    },
    {
     "name": "stderr",
     "output_type": "stream",
     "text": [
      "Epoch 507 | mean loss: 18.94953:  51%|█████     | 507/1000 [10:26<08:51,  1.08s/epoch]"
     ]
    },
    {
     "name": "stdout",
     "output_type": "stream",
     "text": [
      "epoch done! 507\n"
     ]
    },
    {
     "name": "stderr",
     "output_type": "stream",
     "text": [
      "Epoch 508 | mean loss: 17.83054:  51%|█████     | 508/1000 [10:27<08:45,  1.07s/epoch]"
     ]
    },
    {
     "name": "stdout",
     "output_type": "stream",
     "text": [
      "epoch done! 508\n"
     ]
    },
    {
     "name": "stderr",
     "output_type": "stream",
     "text": [
      "Epoch 509 | mean loss: 17.14615:  51%|█████     | 509/1000 [10:28<08:43,  1.07s/epoch]"
     ]
    },
    {
     "name": "stdout",
     "output_type": "stream",
     "text": [
      "epoch done! 509\n"
     ]
    },
    {
     "name": "stderr",
     "output_type": "stream",
     "text": [
      "Epoch 510 | mean loss: 18.96344:  51%|█████     | 510/1000 [10:29<08:41,  1.07s/epoch]"
     ]
    },
    {
     "name": "stdout",
     "output_type": "stream",
     "text": [
      "epoch done! 510\n"
     ]
    },
    {
     "name": "stderr",
     "output_type": "stream",
     "text": [
      "Epoch 511 | mean loss: 18.33134:  51%|█████     | 511/1000 [10:30<08:36,  1.06s/epoch]"
     ]
    },
    {
     "name": "stdout",
     "output_type": "stream",
     "text": [
      "epoch done! 511\n"
     ]
    },
    {
     "name": "stderr",
     "output_type": "stream",
     "text": [
      "Epoch 512 | mean loss: 17.53532:  51%|█████     | 512/1000 [10:31<08:45,  1.08s/epoch]"
     ]
    },
    {
     "name": "stdout",
     "output_type": "stream",
     "text": [
      "epoch done! 512\n"
     ]
    },
    {
     "name": "stderr",
     "output_type": "stream",
     "text": [
      "Epoch 513 | mean loss: 16.93282:  51%|█████▏    | 513/1000 [10:33<08:49,  1.09s/epoch]"
     ]
    },
    {
     "name": "stdout",
     "output_type": "stream",
     "text": [
      "epoch done! 513\n"
     ]
    },
    {
     "name": "stderr",
     "output_type": "stream",
     "text": [
      "Epoch 514 | mean loss: 16.80470:  51%|█████▏    | 514/1000 [10:34<08:43,  1.08s/epoch]"
     ]
    },
    {
     "name": "stdout",
     "output_type": "stream",
     "text": [
      "epoch done! 514\n"
     ]
    },
    {
     "name": "stderr",
     "output_type": "stream",
     "text": [
      "Epoch 515 | mean loss: 16.40594:  52%|█████▏    | 515/1000 [10:35<08:44,  1.08s/epoch]"
     ]
    },
    {
     "name": "stdout",
     "output_type": "stream",
     "text": [
      "epoch done! 515\n"
     ]
    },
    {
     "name": "stderr",
     "output_type": "stream",
     "text": [
      "Epoch 516 | mean loss: 16.47482:  52%|█████▏    | 516/1000 [10:36<09:07,  1.13s/epoch]"
     ]
    },
    {
     "name": "stdout",
     "output_type": "stream",
     "text": [
      "epoch done! 516\n"
     ]
    },
    {
     "name": "stderr",
     "output_type": "stream",
     "text": [
      "Epoch 517 | mean loss: 17.21174:  52%|█████▏    | 517/1000 [10:37<09:29,  1.18s/epoch]"
     ]
    },
    {
     "name": "stdout",
     "output_type": "stream",
     "text": [
      "epoch done! 517\n"
     ]
    },
    {
     "name": "stderr",
     "output_type": "stream",
     "text": [
      "Epoch 518 | mean loss: 17.78705:  52%|█████▏    | 518/1000 [10:38<09:26,  1.18s/epoch]"
     ]
    },
    {
     "name": "stdout",
     "output_type": "stream",
     "text": [
      "epoch done! 518\n"
     ]
    },
    {
     "name": "stderr",
     "output_type": "stream",
     "text": [
      "Epoch 519 | mean loss: 16.49564:  52%|█████▏    | 519/1000 [10:40<09:36,  1.20s/epoch]"
     ]
    },
    {
     "name": "stdout",
     "output_type": "stream",
     "text": [
      "epoch done! 519\n"
     ]
    },
    {
     "name": "stderr",
     "output_type": "stream",
     "text": [
      "Epoch 520 | mean loss: 17.07080:  52%|█████▏    | 520/1000 [10:41<09:17,  1.16s/epoch]"
     ]
    },
    {
     "name": "stdout",
     "output_type": "stream",
     "text": [
      "epoch done! 520\n"
     ]
    },
    {
     "name": "stderr",
     "output_type": "stream",
     "text": [
      "Epoch 521 | mean loss: 17.36669:  52%|█████▏    | 521/1000 [10:42<09:05,  1.14s/epoch]"
     ]
    },
    {
     "name": "stdout",
     "output_type": "stream",
     "text": [
      "epoch done! 521\n"
     ]
    },
    {
     "name": "stderr",
     "output_type": "stream",
     "text": [
      "Epoch 522 | mean loss: 18.16794:  52%|█████▏    | 522/1000 [10:43<08:57,  1.13s/epoch]"
     ]
    },
    {
     "name": "stdout",
     "output_type": "stream",
     "text": [
      "epoch done! 522\n"
     ]
    },
    {
     "name": "stderr",
     "output_type": "stream",
     "text": [
      "Epoch 523 | mean loss: 16.79699:  52%|█████▏    | 523/1000 [10:44<08:54,  1.12s/epoch]"
     ]
    },
    {
     "name": "stdout",
     "output_type": "stream",
     "text": [
      "epoch done! 523\n"
     ]
    },
    {
     "name": "stderr",
     "output_type": "stream",
     "text": [
      "Epoch 524 | mean loss: 15.97883:  52%|█████▏    | 524/1000 [10:45<08:50,  1.11s/epoch]"
     ]
    },
    {
     "name": "stdout",
     "output_type": "stream",
     "text": [
      "epoch done! 524\n"
     ]
    },
    {
     "name": "stderr",
     "output_type": "stream",
     "text": [
      "Epoch 525 | mean loss: 17.30949:  52%|█████▎    | 525/1000 [10:46<08:47,  1.11s/epoch]"
     ]
    },
    {
     "name": "stdout",
     "output_type": "stream",
     "text": [
      "epoch done! 525\n"
     ]
    },
    {
     "name": "stderr",
     "output_type": "stream",
     "text": [
      "Epoch 526 | mean loss: 17.95845:  53%|█████▎    | 526/1000 [10:47<08:55,  1.13s/epoch]"
     ]
    },
    {
     "name": "stdout",
     "output_type": "stream",
     "text": [
      "epoch done! 526\n"
     ]
    },
    {
     "name": "stderr",
     "output_type": "stream",
     "text": [
      "Epoch 527 | mean loss: 16.05231:  53%|█████▎    | 527/1000 [10:48<08:49,  1.12s/epoch]"
     ]
    },
    {
     "name": "stdout",
     "output_type": "stream",
     "text": [
      "epoch done! 527\n"
     ]
    },
    {
     "name": "stderr",
     "output_type": "stream",
     "text": [
      "Epoch 528 | mean loss: 17.55591:  53%|█████▎    | 528/1000 [10:50<08:40,  1.10s/epoch]"
     ]
    },
    {
     "name": "stdout",
     "output_type": "stream",
     "text": [
      "epoch done! 528\n"
     ]
    },
    {
     "name": "stderr",
     "output_type": "stream",
     "text": [
      "Epoch 529 | mean loss: 16.85328:  53%|█████▎    | 529/1000 [10:51<08:35,  1.09s/epoch]"
     ]
    },
    {
     "name": "stdout",
     "output_type": "stream",
     "text": [
      "epoch done! 529\n"
     ]
    },
    {
     "name": "stderr",
     "output_type": "stream",
     "text": [
      "Epoch 530 | mean loss: 16.48180:  53%|█████▎    | 530/1000 [10:52<08:28,  1.08s/epoch]"
     ]
    },
    {
     "name": "stdout",
     "output_type": "stream",
     "text": [
      "epoch done! 530\n"
     ]
    },
    {
     "name": "stderr",
     "output_type": "stream",
     "text": [
      "Epoch 531 | mean loss: 17.53167:  53%|█████▎    | 531/1000 [10:53<08:22,  1.07s/epoch]"
     ]
    },
    {
     "name": "stdout",
     "output_type": "stream",
     "text": [
      "epoch done! 531\n"
     ]
    },
    {
     "name": "stderr",
     "output_type": "stream",
     "text": [
      "Epoch 532 | mean loss: 16.50683:  53%|█████▎    | 532/1000 [10:54<08:39,  1.11s/epoch]"
     ]
    },
    {
     "name": "stdout",
     "output_type": "stream",
     "text": [
      "epoch done! 532\n"
     ]
    },
    {
     "name": "stderr",
     "output_type": "stream",
     "text": [
      "Epoch 533 | mean loss: 16.53553:  53%|█████▎    | 533/1000 [10:55<08:56,  1.15s/epoch]"
     ]
    },
    {
     "name": "stdout",
     "output_type": "stream",
     "text": [
      "epoch done! 533\n"
     ]
    },
    {
     "name": "stderr",
     "output_type": "stream",
     "text": [
      "Epoch 534 | mean loss: 15.03982:  53%|█████▎    | 534/1000 [10:56<09:08,  1.18s/epoch]"
     ]
    },
    {
     "name": "stdout",
     "output_type": "stream",
     "text": [
      "epoch done! 534\n"
     ]
    },
    {
     "name": "stderr",
     "output_type": "stream",
     "text": [
      "Epoch 535 | mean loss: 16.10867:  54%|█████▎    | 535/1000 [10:58<09:38,  1.24s/epoch]"
     ]
    },
    {
     "name": "stdout",
     "output_type": "stream",
     "text": [
      "epoch done! 535\n"
     ]
    },
    {
     "name": "stderr",
     "output_type": "stream",
     "text": [
      "Epoch 536 | mean loss: 15.66162:  54%|█████▎    | 536/1000 [10:59<09:38,  1.25s/epoch]"
     ]
    },
    {
     "name": "stdout",
     "output_type": "stream",
     "text": [
      "epoch done! 536\n"
     ]
    },
    {
     "name": "stderr",
     "output_type": "stream",
     "text": [
      "Epoch 537 | mean loss: 17.37940:  54%|█████▎    | 537/1000 [11:00<09:38,  1.25s/epoch]"
     ]
    },
    {
     "name": "stdout",
     "output_type": "stream",
     "text": [
      "epoch done! 537\n"
     ]
    },
    {
     "name": "stderr",
     "output_type": "stream",
     "text": [
      "Epoch 538 | mean loss: 15.86819:  54%|█████▍    | 538/1000 [11:02<09:37,  1.25s/epoch]"
     ]
    },
    {
     "name": "stdout",
     "output_type": "stream",
     "text": [
      "epoch done! 538\n"
     ]
    },
    {
     "name": "stderr",
     "output_type": "stream",
     "text": [
      "Epoch 539 | mean loss: 17.99168:  54%|█████▍    | 539/1000 [11:03<09:32,  1.24s/epoch]"
     ]
    },
    {
     "name": "stdout",
     "output_type": "stream",
     "text": [
      "epoch done! 539\n"
     ]
    },
    {
     "name": "stderr",
     "output_type": "stream",
     "text": [
      "Epoch 540 | mean loss: 15.86415:  54%|█████▍    | 540/1000 [11:04<09:27,  1.23s/epoch]"
     ]
    },
    {
     "name": "stdout",
     "output_type": "stream",
     "text": [
      "epoch done! 540\n"
     ]
    },
    {
     "name": "stderr",
     "output_type": "stream",
     "text": [
      "Epoch 541 | mean loss: 16.46565:  54%|█████▍    | 541/1000 [11:05<09:27,  1.24s/epoch]"
     ]
    },
    {
     "name": "stdout",
     "output_type": "stream",
     "text": [
      "epoch done! 541\n"
     ]
    },
    {
     "name": "stderr",
     "output_type": "stream",
     "text": [
      "Epoch 542 | mean loss: 17.75779:  54%|█████▍    | 542/1000 [11:06<09:25,  1.23s/epoch]"
     ]
    },
    {
     "name": "stdout",
     "output_type": "stream",
     "text": [
      "epoch done! 542\n"
     ]
    },
    {
     "name": "stderr",
     "output_type": "stream",
     "text": [
      "Epoch 543 | mean loss: 16.94732:  54%|█████▍    | 543/1000 [11:08<09:24,  1.23s/epoch]"
     ]
    },
    {
     "name": "stdout",
     "output_type": "stream",
     "text": [
      "epoch done! 543\n"
     ]
    },
    {
     "name": "stderr",
     "output_type": "stream",
     "text": [
      "Epoch 544 | mean loss: 16.19373:  54%|█████▍    | 544/1000 [11:09<09:19,  1.23s/epoch]"
     ]
    },
    {
     "name": "stdout",
     "output_type": "stream",
     "text": [
      "epoch done! 544\n"
     ]
    },
    {
     "name": "stderr",
     "output_type": "stream",
     "text": [
      "Epoch 545 | mean loss: 17.02449:  55%|█████▍    | 545/1000 [11:10<09:17,  1.23s/epoch]"
     ]
    },
    {
     "name": "stdout",
     "output_type": "stream",
     "text": [
      "epoch done! 545\n"
     ]
    },
    {
     "name": "stderr",
     "output_type": "stream",
     "text": [
      "Epoch 546 | mean loss: 15.75205:  55%|█████▍    | 546/1000 [11:11<09:18,  1.23s/epoch]"
     ]
    },
    {
     "name": "stdout",
     "output_type": "stream",
     "text": [
      "epoch done! 546\n"
     ]
    },
    {
     "name": "stderr",
     "output_type": "stream",
     "text": [
      "Epoch 547 | mean loss: 14.88071:  55%|█████▍    | 547/1000 [11:13<09:31,  1.26s/epoch]"
     ]
    },
    {
     "name": "stdout",
     "output_type": "stream",
     "text": [
      "epoch done! 547\n"
     ]
    },
    {
     "name": "stderr",
     "output_type": "stream",
     "text": [
      "Epoch 548 | mean loss: 16.33811:  55%|█████▍    | 548/1000 [11:14<09:23,  1.25s/epoch]"
     ]
    },
    {
     "name": "stdout",
     "output_type": "stream",
     "text": [
      "epoch done! 548\n"
     ]
    },
    {
     "name": "stderr",
     "output_type": "stream",
     "text": [
      "Epoch 549 | mean loss: 16.57063:  55%|█████▍    | 549/1000 [11:15<09:20,  1.24s/epoch]"
     ]
    },
    {
     "name": "stdout",
     "output_type": "stream",
     "text": [
      "epoch done! 549\n"
     ]
    },
    {
     "name": "stderr",
     "output_type": "stream",
     "text": [
      "Epoch 550 | mean loss: 14.64664:  55%|█████▌    | 550/1000 [11:16<09:18,  1.24s/epoch]"
     ]
    },
    {
     "name": "stdout",
     "output_type": "stream",
     "text": [
      "epoch done! 550\n"
     ]
    },
    {
     "name": "stderr",
     "output_type": "stream",
     "text": [
      "Epoch 551 | mean loss: 15.22086:  55%|█████▌    | 551/1000 [11:18<09:17,  1.24s/epoch]"
     ]
    },
    {
     "name": "stdout",
     "output_type": "stream",
     "text": [
      "epoch done! 551\n"
     ]
    },
    {
     "name": "stderr",
     "output_type": "stream",
     "text": [
      "Epoch 552 | mean loss: 15.15864:  55%|█████▌    | 552/1000 [11:19<09:14,  1.24s/epoch]"
     ]
    },
    {
     "name": "stdout",
     "output_type": "stream",
     "text": [
      "epoch done! 552\n"
     ]
    },
    {
     "name": "stderr",
     "output_type": "stream",
     "text": [
      "Epoch 553 | mean loss: 16.74261:  55%|█████▌    | 553/1000 [11:20<09:11,  1.23s/epoch]"
     ]
    },
    {
     "name": "stdout",
     "output_type": "stream",
     "text": [
      "epoch done! 553\n"
     ]
    },
    {
     "name": "stderr",
     "output_type": "stream",
     "text": [
      "Epoch 554 | mean loss: 16.50418:  55%|█████▌    | 554/1000 [11:21<09:09,  1.23s/epoch]"
     ]
    },
    {
     "name": "stdout",
     "output_type": "stream",
     "text": [
      "epoch done! 554\n"
     ]
    },
    {
     "name": "stderr",
     "output_type": "stream",
     "text": [
      "Epoch 555 | mean loss: 14.10418:  56%|█████▌    | 555/1000 [11:23<09:06,  1.23s/epoch]"
     ]
    },
    {
     "name": "stdout",
     "output_type": "stream",
     "text": [
      "epoch done! 555\n"
     ]
    },
    {
     "name": "stderr",
     "output_type": "stream",
     "text": [
      "Epoch 556 | mean loss: 15.87179:  56%|█████▌    | 556/1000 [11:24<09:07,  1.23s/epoch]"
     ]
    },
    {
     "name": "stdout",
     "output_type": "stream",
     "text": [
      "epoch done! 556\n"
     ]
    },
    {
     "name": "stderr",
     "output_type": "stream",
     "text": [
      "Epoch 557 | mean loss: 14.24037:  56%|█████▌    | 557/1000 [11:25<09:15,  1.25s/epoch]"
     ]
    },
    {
     "name": "stdout",
     "output_type": "stream",
     "text": [
      "epoch done! 557\n"
     ]
    },
    {
     "name": "stderr",
     "output_type": "stream",
     "text": [
      "Epoch 558 | mean loss: 15.87637:  56%|█████▌    | 558/1000 [11:26<09:13,  1.25s/epoch]"
     ]
    },
    {
     "name": "stdout",
     "output_type": "stream",
     "text": [
      "epoch done! 558\n"
     ]
    },
    {
     "name": "stderr",
     "output_type": "stream",
     "text": [
      "Epoch 559 | mean loss: 15.37942:  56%|█████▌    | 559/1000 [11:28<09:09,  1.25s/epoch]"
     ]
    },
    {
     "name": "stdout",
     "output_type": "stream",
     "text": [
      "epoch done! 559\n"
     ]
    },
    {
     "name": "stderr",
     "output_type": "stream",
     "text": [
      "Epoch 560 | mean loss: 15.20164:  56%|█████▌    | 560/1000 [11:29<09:03,  1.23s/epoch]"
     ]
    },
    {
     "name": "stdout",
     "output_type": "stream",
     "text": [
      "epoch done! 560\n"
     ]
    },
    {
     "name": "stderr",
     "output_type": "stream",
     "text": [
      "Epoch 561 | mean loss: 16.03747:  56%|█████▌    | 561/1000 [11:30<09:01,  1.23s/epoch]"
     ]
    },
    {
     "name": "stdout",
     "output_type": "stream",
     "text": [
      "epoch done! 561\n"
     ]
    },
    {
     "name": "stderr",
     "output_type": "stream",
     "text": [
      "Epoch 562 | mean loss: 14.25745:  56%|█████▌    | 562/1000 [11:31<09:01,  1.24s/epoch]"
     ]
    },
    {
     "name": "stdout",
     "output_type": "stream",
     "text": [
      "epoch done! 562\n"
     ]
    },
    {
     "name": "stderr",
     "output_type": "stream",
     "text": [
      "Epoch 563 | mean loss: 15.17248:  56%|█████▋    | 563/1000 [11:32<08:58,  1.23s/epoch]"
     ]
    },
    {
     "name": "stdout",
     "output_type": "stream",
     "text": [
      "epoch done! 563\n"
     ]
    },
    {
     "name": "stderr",
     "output_type": "stream",
     "text": [
      "Epoch 564 | mean loss: 14.40711:  56%|█████▋    | 564/1000 [11:34<09:00,  1.24s/epoch]"
     ]
    },
    {
     "name": "stdout",
     "output_type": "stream",
     "text": [
      "epoch done! 564\n"
     ]
    },
    {
     "name": "stderr",
     "output_type": "stream",
     "text": [
      "Epoch 565 | mean loss: 14.57095:  56%|█████▋    | 565/1000 [11:35<08:58,  1.24s/epoch]"
     ]
    },
    {
     "name": "stdout",
     "output_type": "stream",
     "text": [
      "epoch done! 565\n"
     ]
    },
    {
     "name": "stderr",
     "output_type": "stream",
     "text": [
      "Epoch 566 | mean loss: 15.38945:  57%|█████▋    | 566/1000 [11:36<08:56,  1.24s/epoch]"
     ]
    },
    {
     "name": "stdout",
     "output_type": "stream",
     "text": [
      "epoch done! 566\n"
     ]
    },
    {
     "name": "stderr",
     "output_type": "stream",
     "text": [
      "Epoch 567 | mean loss: 15.86208:  57%|█████▋    | 567/1000 [11:37<08:56,  1.24s/epoch]"
     ]
    },
    {
     "name": "stdout",
     "output_type": "stream",
     "text": [
      "epoch done! 567\n"
     ]
    },
    {
     "name": "stderr",
     "output_type": "stream",
     "text": [
      "Epoch 568 | mean loss: 13.38593:  57%|█████▋    | 568/1000 [11:39<09:05,  1.26s/epoch]"
     ]
    },
    {
     "name": "stdout",
     "output_type": "stream",
     "text": [
      "epoch done! 568\n"
     ]
    },
    {
     "name": "stderr",
     "output_type": "stream",
     "text": [
      "Epoch 569 | mean loss: 13.99710:  57%|█████▋    | 569/1000 [11:40<09:00,  1.26s/epoch]"
     ]
    },
    {
     "name": "stdout",
     "output_type": "stream",
     "text": [
      "epoch done! 569\n"
     ]
    },
    {
     "name": "stderr",
     "output_type": "stream",
     "text": [
      "Epoch 570 | mean loss: 14.77664:  57%|█████▋    | 570/1000 [11:41<08:57,  1.25s/epoch]"
     ]
    },
    {
     "name": "stdout",
     "output_type": "stream",
     "text": [
      "epoch done! 570\n"
     ]
    },
    {
     "name": "stderr",
     "output_type": "stream",
     "text": [
      "Epoch 571 | mean loss: 16.09836:  57%|█████▋    | 571/1000 [11:42<08:53,  1.24s/epoch]"
     ]
    },
    {
     "name": "stdout",
     "output_type": "stream",
     "text": [
      "epoch done! 571\n"
     ]
    },
    {
     "name": "stderr",
     "output_type": "stream",
     "text": [
      "Epoch 572 | mean loss: 14.82245:  57%|█████▋    | 572/1000 [11:44<08:50,  1.24s/epoch]"
     ]
    },
    {
     "name": "stdout",
     "output_type": "stream",
     "text": [
      "epoch done! 572\n"
     ]
    },
    {
     "name": "stderr",
     "output_type": "stream",
     "text": [
      "Epoch 573 | mean loss: 13.88544:  57%|█████▋    | 573/1000 [11:45<08:50,  1.24s/epoch]"
     ]
    },
    {
     "name": "stdout",
     "output_type": "stream",
     "text": [
      "epoch done! 573\n"
     ]
    },
    {
     "name": "stderr",
     "output_type": "stream",
     "text": [
      "Epoch 574 | mean loss: 14.97391:  57%|█████▋    | 574/1000 [11:46<08:47,  1.24s/epoch]"
     ]
    },
    {
     "name": "stdout",
     "output_type": "stream",
     "text": [
      "epoch done! 574\n"
     ]
    },
    {
     "name": "stderr",
     "output_type": "stream",
     "text": [
      "Epoch 575 | mean loss: 13.71090:  57%|█████▊    | 575/1000 [11:47<08:46,  1.24s/epoch]"
     ]
    },
    {
     "name": "stdout",
     "output_type": "stream",
     "text": [
      "epoch done! 575\n"
     ]
    },
    {
     "name": "stderr",
     "output_type": "stream",
     "text": [
      "Epoch 576 | mean loss: 15.96675:  58%|█████▊    | 576/1000 [11:49<08:46,  1.24s/epoch]"
     ]
    },
    {
     "name": "stdout",
     "output_type": "stream",
     "text": [
      "epoch done! 576\n"
     ]
    },
    {
     "name": "stderr",
     "output_type": "stream",
     "text": [
      "Epoch 577 | mean loss: 14.87697:  58%|█████▊    | 577/1000 [11:50<08:55,  1.27s/epoch]"
     ]
    },
    {
     "name": "stdout",
     "output_type": "stream",
     "text": [
      "epoch done! 577\n"
     ]
    },
    {
     "name": "stderr",
     "output_type": "stream",
     "text": [
      "Epoch 578 | mean loss: 13.01109:  58%|█████▊    | 578/1000 [11:51<08:50,  1.26s/epoch]"
     ]
    },
    {
     "name": "stdout",
     "output_type": "stream",
     "text": [
      "epoch done! 578\n"
     ]
    },
    {
     "name": "stderr",
     "output_type": "stream",
     "text": [
      "Epoch 579 | mean loss: 15.56053:  58%|█████▊    | 579/1000 [11:52<08:48,  1.25s/epoch]"
     ]
    },
    {
     "name": "stdout",
     "output_type": "stream",
     "text": [
      "epoch done! 579\n"
     ]
    },
    {
     "name": "stderr",
     "output_type": "stream",
     "text": [
      "Epoch 580 | mean loss: 14.41412:  58%|█████▊    | 580/1000 [11:54<08:42,  1.24s/epoch]"
     ]
    },
    {
     "name": "stdout",
     "output_type": "stream",
     "text": [
      "epoch done! 580\n"
     ]
    },
    {
     "name": "stderr",
     "output_type": "stream",
     "text": [
      "Epoch 581 | mean loss: 18.11677:  58%|█████▊    | 581/1000 [11:55<08:44,  1.25s/epoch]"
     ]
    },
    {
     "name": "stdout",
     "output_type": "stream",
     "text": [
      "epoch done! 581\n"
     ]
    },
    {
     "name": "stderr",
     "output_type": "stream",
     "text": [
      "Epoch 582 | mean loss: 14.95133:  58%|█████▊    | 582/1000 [11:56<08:42,  1.25s/epoch]"
     ]
    },
    {
     "name": "stdout",
     "output_type": "stream",
     "text": [
      "epoch done! 582\n"
     ]
    },
    {
     "name": "stderr",
     "output_type": "stream",
     "text": [
      "Epoch 583 | mean loss: 13.76325:  58%|█████▊    | 583/1000 [11:57<08:40,  1.25s/epoch]"
     ]
    },
    {
     "name": "stdout",
     "output_type": "stream",
     "text": [
      "epoch done! 583\n"
     ]
    },
    {
     "name": "stderr",
     "output_type": "stream",
     "text": [
      "Epoch 584 | mean loss: 13.35205:  58%|█████▊    | 584/1000 [11:59<08:37,  1.24s/epoch]"
     ]
    },
    {
     "name": "stdout",
     "output_type": "stream",
     "text": [
      "epoch done! 584\n"
     ]
    },
    {
     "name": "stderr",
     "output_type": "stream",
     "text": [
      "Epoch 585 | mean loss: 13.58909:  58%|█████▊    | 585/1000 [12:00<08:36,  1.24s/epoch]"
     ]
    },
    {
     "name": "stdout",
     "output_type": "stream",
     "text": [
      "epoch done! 585\n"
     ]
    },
    {
     "name": "stderr",
     "output_type": "stream",
     "text": [
      "Epoch 586 | mean loss: 12.55043:  59%|█████▊    | 586/1000 [12:01<08:32,  1.24s/epoch]"
     ]
    },
    {
     "name": "stdout",
     "output_type": "stream",
     "text": [
      "epoch done! 586\n"
     ]
    },
    {
     "name": "stderr",
     "output_type": "stream",
     "text": [
      "Epoch 587 | mean loss: 14.87441:  59%|█████▊    | 587/1000 [12:02<08:31,  1.24s/epoch]"
     ]
    },
    {
     "name": "stdout",
     "output_type": "stream",
     "text": [
      "epoch done! 587\n"
     ]
    },
    {
     "name": "stderr",
     "output_type": "stream",
     "text": [
      "Epoch 588 | mean loss: 14.06124:  59%|█████▉    | 588/1000 [12:04<08:37,  1.26s/epoch]"
     ]
    },
    {
     "name": "stdout",
     "output_type": "stream",
     "text": [
      "epoch done! 588\n"
     ]
    },
    {
     "name": "stderr",
     "output_type": "stream",
     "text": [
      "Epoch 589 | mean loss: 14.87980:  59%|█████▉    | 589/1000 [12:05<08:35,  1.25s/epoch]"
     ]
    },
    {
     "name": "stdout",
     "output_type": "stream",
     "text": [
      "epoch done! 589\n"
     ]
    },
    {
     "name": "stderr",
     "output_type": "stream",
     "text": [
      "Epoch 590 | mean loss: 13.31414:  59%|█████▉    | 590/1000 [12:06<08:33,  1.25s/epoch]"
     ]
    },
    {
     "name": "stdout",
     "output_type": "stream",
     "text": [
      "epoch done! 590\n"
     ]
    },
    {
     "name": "stderr",
     "output_type": "stream",
     "text": [
      "Epoch 591 | mean loss: 15.89806:  59%|█████▉    | 591/1000 [12:07<08:30,  1.25s/epoch]"
     ]
    },
    {
     "name": "stdout",
     "output_type": "stream",
     "text": [
      "epoch done! 591\n"
     ]
    },
    {
     "name": "stderr",
     "output_type": "stream",
     "text": [
      "Epoch 592 | mean loss: 15.33277:  59%|█████▉    | 592/1000 [12:09<08:29,  1.25s/epoch]"
     ]
    },
    {
     "name": "stdout",
     "output_type": "stream",
     "text": [
      "epoch done! 592\n"
     ]
    },
    {
     "name": "stderr",
     "output_type": "stream",
     "text": [
      "Epoch 593 | mean loss: 13.08647:  59%|█████▉    | 593/1000 [12:10<08:26,  1.24s/epoch]"
     ]
    },
    {
     "name": "stdout",
     "output_type": "stream",
     "text": [
      "epoch done! 593\n"
     ]
    },
    {
     "name": "stderr",
     "output_type": "stream",
     "text": [
      "Epoch 594 | mean loss: 14.45339:  59%|█████▉    | 594/1000 [12:11<08:23,  1.24s/epoch]"
     ]
    },
    {
     "name": "stdout",
     "output_type": "stream",
     "text": [
      "epoch done! 594\n"
     ]
    },
    {
     "name": "stderr",
     "output_type": "stream",
     "text": [
      "Epoch 595 | mean loss: 12.02132:  60%|█████▉    | 595/1000 [12:12<08:23,  1.24s/epoch]"
     ]
    },
    {
     "name": "stdout",
     "output_type": "stream",
     "text": [
      "epoch done! 595\n"
     ]
    },
    {
     "name": "stderr",
     "output_type": "stream",
     "text": [
      "Epoch 596 | mean loss: 15.05762:  60%|█████▉    | 596/1000 [12:14<08:20,  1.24s/epoch]"
     ]
    },
    {
     "name": "stdout",
     "output_type": "stream",
     "text": [
      "epoch done! 596\n"
     ]
    },
    {
     "name": "stderr",
     "output_type": "stream",
     "text": [
      "Epoch 597 | mean loss: 14.45318:  60%|█████▉    | 597/1000 [12:15<08:20,  1.24s/epoch]"
     ]
    },
    {
     "name": "stdout",
     "output_type": "stream",
     "text": [
      "epoch done! 597\n"
     ]
    },
    {
     "name": "stderr",
     "output_type": "stream",
     "text": [
      "Epoch 598 | mean loss: 14.12934:  60%|█████▉    | 598/1000 [12:16<08:30,  1.27s/epoch]"
     ]
    },
    {
     "name": "stdout",
     "output_type": "stream",
     "text": [
      "epoch done! 598\n"
     ]
    },
    {
     "name": "stderr",
     "output_type": "stream",
     "text": [
      "Epoch 599 | mean loss: 13.05620:  60%|█████▉    | 599/1000 [12:17<08:26,  1.26s/epoch]"
     ]
    },
    {
     "name": "stdout",
     "output_type": "stream",
     "text": [
      "epoch done! 599\n"
     ]
    },
    {
     "name": "stderr",
     "output_type": "stream",
     "text": [
      "Epoch 600 | mean loss: 13.99933:  60%|██████    | 600/1000 [12:19<08:23,  1.26s/epoch]"
     ]
    },
    {
     "name": "stdout",
     "output_type": "stream",
     "text": [
      "epoch done! 600\n"
     ]
    },
    {
     "name": "stderr",
     "output_type": "stream",
     "text": [
      "Epoch 601 | mean loss: 13.00203:  60%|██████    | 601/1000 [12:20<08:19,  1.25s/epoch]"
     ]
    },
    {
     "name": "stdout",
     "output_type": "stream",
     "text": [
      "epoch done! 601\n"
     ]
    },
    {
     "name": "stderr",
     "output_type": "stream",
     "text": [
      "Epoch 602 | mean loss: 15.29749:  60%|██████    | 602/1000 [12:21<08:16,  1.25s/epoch]"
     ]
    },
    {
     "name": "stdout",
     "output_type": "stream",
     "text": [
      "epoch done! 602\n"
     ]
    },
    {
     "name": "stderr",
     "output_type": "stream",
     "text": [
      "Epoch 603 | mean loss: 13.50531:  60%|██████    | 603/1000 [12:22<08:15,  1.25s/epoch]"
     ]
    },
    {
     "name": "stdout",
     "output_type": "stream",
     "text": [
      "epoch done! 603\n"
     ]
    },
    {
     "name": "stderr",
     "output_type": "stream",
     "text": [
      "Epoch 604 | mean loss: 13.30203:  60%|██████    | 604/1000 [12:24<08:13,  1.25s/epoch]"
     ]
    },
    {
     "name": "stdout",
     "output_type": "stream",
     "text": [
      "epoch done! 604\n"
     ]
    },
    {
     "name": "stderr",
     "output_type": "stream",
     "text": [
      "Epoch 605 | mean loss: 13.58972:  60%|██████    | 605/1000 [12:25<08:10,  1.24s/epoch]"
     ]
    },
    {
     "name": "stdout",
     "output_type": "stream",
     "text": [
      "epoch done! 605\n"
     ]
    },
    {
     "name": "stderr",
     "output_type": "stream",
     "text": [
      "Epoch 606 | mean loss: 13.68551:  61%|██████    | 606/1000 [12:26<08:08,  1.24s/epoch]"
     ]
    },
    {
     "name": "stdout",
     "output_type": "stream",
     "text": [
      "epoch done! 606\n"
     ]
    },
    {
     "name": "stderr",
     "output_type": "stream",
     "text": [
      "Epoch 607 | mean loss: 14.10987:  61%|██████    | 607/1000 [12:27<08:15,  1.26s/epoch]"
     ]
    },
    {
     "name": "stdout",
     "output_type": "stream",
     "text": [
      "epoch done! 607\n"
     ]
    },
    {
     "name": "stderr",
     "output_type": "stream",
     "text": [
      "Epoch 608 | mean loss: 14.31208:  61%|██████    | 608/1000 [12:29<08:12,  1.26s/epoch]"
     ]
    },
    {
     "name": "stdout",
     "output_type": "stream",
     "text": [
      "epoch done! 608\n"
     ]
    },
    {
     "name": "stderr",
     "output_type": "stream",
     "text": [
      "Epoch 609 | mean loss: 12.75747:  61%|██████    | 609/1000 [12:30<08:09,  1.25s/epoch]"
     ]
    },
    {
     "name": "stdout",
     "output_type": "stream",
     "text": [
      "epoch done! 609\n"
     ]
    },
    {
     "name": "stderr",
     "output_type": "stream",
     "text": [
      "Epoch 610 | mean loss: 12.77046:  61%|██████    | 610/1000 [12:31<08:05,  1.24s/epoch]"
     ]
    },
    {
     "name": "stdout",
     "output_type": "stream",
     "text": [
      "epoch done! 610\n"
     ]
    },
    {
     "name": "stderr",
     "output_type": "stream",
     "text": [
      "Epoch 611 | mean loss: 13.67054:  61%|██████    | 611/1000 [12:32<08:02,  1.24s/epoch]"
     ]
    },
    {
     "name": "stdout",
     "output_type": "stream",
     "text": [
      "epoch done! 611\n"
     ]
    },
    {
     "name": "stderr",
     "output_type": "stream",
     "text": [
      "Epoch 612 | mean loss: 13.88150:  61%|██████    | 612/1000 [12:34<08:00,  1.24s/epoch]"
     ]
    },
    {
     "name": "stdout",
     "output_type": "stream",
     "text": [
      "epoch done! 612\n"
     ]
    },
    {
     "name": "stderr",
     "output_type": "stream",
     "text": [
      "Epoch 613 | mean loss: 13.54725:  61%|██████▏   | 613/1000 [12:35<08:00,  1.24s/epoch]"
     ]
    },
    {
     "name": "stdout",
     "output_type": "stream",
     "text": [
      "epoch done! 613\n"
     ]
    },
    {
     "name": "stderr",
     "output_type": "stream",
     "text": [
      "Epoch 614 | mean loss: 12.90669:  61%|██████▏   | 614/1000 [12:36<07:58,  1.24s/epoch]"
     ]
    },
    {
     "name": "stdout",
     "output_type": "stream",
     "text": [
      "epoch done! 614\n"
     ]
    },
    {
     "name": "stderr",
     "output_type": "stream",
     "text": [
      "Epoch 615 | mean loss: 11.92555:  62%|██████▏   | 615/1000 [12:37<07:55,  1.24s/epoch]"
     ]
    },
    {
     "name": "stdout",
     "output_type": "stream",
     "text": [
      "epoch done! 615\n"
     ]
    },
    {
     "name": "stderr",
     "output_type": "stream",
     "text": [
      "Epoch 616 | mean loss: 12.61573:  62%|██████▏   | 616/1000 [12:39<08:06,  1.27s/epoch]"
     ]
    },
    {
     "name": "stdout",
     "output_type": "stream",
     "text": [
      "epoch done! 616\n"
     ]
    },
    {
     "name": "stderr",
     "output_type": "stream",
     "text": [
      "Epoch 617 | mean loss: 13.44497:  62%|██████▏   | 617/1000 [12:40<08:02,  1.26s/epoch]"
     ]
    },
    {
     "name": "stdout",
     "output_type": "stream",
     "text": [
      "epoch done! 617\n"
     ]
    },
    {
     "name": "stderr",
     "output_type": "stream",
     "text": [
      "Epoch 618 | mean loss: 11.68276:  62%|██████▏   | 618/1000 [12:41<07:59,  1.26s/epoch]"
     ]
    },
    {
     "name": "stdout",
     "output_type": "stream",
     "text": [
      "epoch done! 618\n"
     ]
    },
    {
     "name": "stderr",
     "output_type": "stream",
     "text": [
      "Epoch 619 | mean loss: 12.66977:  62%|██████▏   | 619/1000 [12:42<07:57,  1.25s/epoch]"
     ]
    },
    {
     "name": "stdout",
     "output_type": "stream",
     "text": [
      "epoch done! 619\n"
     ]
    },
    {
     "name": "stderr",
     "output_type": "stream",
     "text": [
      "Epoch 620 | mean loss: 13.14460:  62%|██████▏   | 620/1000 [12:44<07:54,  1.25s/epoch]"
     ]
    },
    {
     "name": "stdout",
     "output_type": "stream",
     "text": [
      "epoch done! 620\n"
     ]
    },
    {
     "name": "stderr",
     "output_type": "stream",
     "text": [
      "Epoch 621 | mean loss: 12.46947:  62%|██████▏   | 621/1000 [12:45<07:52,  1.25s/epoch]"
     ]
    },
    {
     "name": "stdout",
     "output_type": "stream",
     "text": [
      "epoch done! 621\n"
     ]
    },
    {
     "name": "stderr",
     "output_type": "stream",
     "text": [
      "Epoch 622 | mean loss: 11.99340:  62%|██████▏   | 622/1000 [12:46<07:49,  1.24s/epoch]"
     ]
    },
    {
     "name": "stdout",
     "output_type": "stream",
     "text": [
      "epoch done! 622\n"
     ]
    },
    {
     "name": "stderr",
     "output_type": "stream",
     "text": [
      "Epoch 623 | mean loss: 13.49614:  62%|██████▏   | 623/1000 [12:47<07:47,  1.24s/epoch]"
     ]
    },
    {
     "name": "stdout",
     "output_type": "stream",
     "text": [
      "epoch done! 623\n"
     ]
    },
    {
     "name": "stderr",
     "output_type": "stream",
     "text": [
      "Epoch 624 | mean loss: 11.94695:  62%|██████▏   | 624/1000 [12:49<07:44,  1.24s/epoch]"
     ]
    },
    {
     "name": "stdout",
     "output_type": "stream",
     "text": [
      "epoch done! 624\n"
     ]
    },
    {
     "name": "stderr",
     "output_type": "stream",
     "text": [
      "Epoch 625 | mean loss: 14.44909:  62%|██████▎   | 625/1000 [12:50<07:44,  1.24s/epoch]"
     ]
    },
    {
     "name": "stdout",
     "output_type": "stream",
     "text": [
      "epoch done! 625\n"
     ]
    },
    {
     "name": "stderr",
     "output_type": "stream",
     "text": [
      "Epoch 626 | mean loss: 13.42736:  63%|██████▎   | 626/1000 [12:51<07:53,  1.26s/epoch]"
     ]
    },
    {
     "name": "stdout",
     "output_type": "stream",
     "text": [
      "epoch done! 626\n"
     ]
    },
    {
     "name": "stderr",
     "output_type": "stream",
     "text": [
      "Epoch 627 | mean loss: 13.05389:  63%|██████▎   | 627/1000 [12:52<07:50,  1.26s/epoch]"
     ]
    },
    {
     "name": "stdout",
     "output_type": "stream",
     "text": [
      "epoch done! 627\n"
     ]
    },
    {
     "name": "stderr",
     "output_type": "stream",
     "text": [
      "Epoch 628 | mean loss: 11.63354:  63%|██████▎   | 628/1000 [12:54<07:48,  1.26s/epoch]"
     ]
    },
    {
     "name": "stdout",
     "output_type": "stream",
     "text": [
      "epoch done! 628\n"
     ]
    },
    {
     "name": "stderr",
     "output_type": "stream",
     "text": [
      "Epoch 629 | mean loss: 13.48387:  63%|██████▎   | 629/1000 [12:55<07:45,  1.25s/epoch]"
     ]
    },
    {
     "name": "stdout",
     "output_type": "stream",
     "text": [
      "epoch done! 629\n"
     ]
    },
    {
     "name": "stderr",
     "output_type": "stream",
     "text": [
      "Epoch 630 | mean loss: 13.80038:  63%|██████▎   | 630/1000 [12:56<07:42,  1.25s/epoch]"
     ]
    },
    {
     "name": "stdout",
     "output_type": "stream",
     "text": [
      "epoch done! 630\n"
     ]
    },
    {
     "name": "stderr",
     "output_type": "stream",
     "text": [
      "Epoch 631 | mean loss: 13.69243:  63%|██████▎   | 631/1000 [12:57<07:40,  1.25s/epoch]"
     ]
    },
    {
     "name": "stdout",
     "output_type": "stream",
     "text": [
      "epoch done! 631\n"
     ]
    },
    {
     "name": "stderr",
     "output_type": "stream",
     "text": [
      "Epoch 632 | mean loss: 12.08871:  63%|██████▎   | 632/1000 [12:59<07:38,  1.24s/epoch]"
     ]
    },
    {
     "name": "stdout",
     "output_type": "stream",
     "text": [
      "epoch done! 632\n"
     ]
    },
    {
     "name": "stderr",
     "output_type": "stream",
     "text": [
      "Epoch 633 | mean loss: 12.16257:  63%|██████▎   | 633/1000 [13:00<07:35,  1.24s/epoch]"
     ]
    },
    {
     "name": "stdout",
     "output_type": "stream",
     "text": [
      "epoch done! 633\n"
     ]
    },
    {
     "name": "stderr",
     "output_type": "stream",
     "text": [
      "Epoch 634 | mean loss: 12.36037:  63%|██████▎   | 634/1000 [13:01<07:35,  1.24s/epoch]"
     ]
    },
    {
     "name": "stdout",
     "output_type": "stream",
     "text": [
      "epoch done! 634\n"
     ]
    },
    {
     "name": "stderr",
     "output_type": "stream",
     "text": [
      "Epoch 635 | mean loss: 12.42977:  64%|██████▎   | 635/1000 [13:02<07:44,  1.27s/epoch]"
     ]
    },
    {
     "name": "stdout",
     "output_type": "stream",
     "text": [
      "epoch done! 635\n"
     ]
    },
    {
     "name": "stderr",
     "output_type": "stream",
     "text": [
      "Epoch 636 | mean loss: 12.81517:  64%|██████▎   | 636/1000 [13:04<07:40,  1.27s/epoch]"
     ]
    },
    {
     "name": "stdout",
     "output_type": "stream",
     "text": [
      "epoch done! 636\n"
     ]
    },
    {
     "name": "stderr",
     "output_type": "stream",
     "text": [
      "Epoch 637 | mean loss: 12.77211:  64%|██████▎   | 637/1000 [13:05<07:35,  1.25s/epoch]"
     ]
    },
    {
     "name": "stdout",
     "output_type": "stream",
     "text": [
      "epoch done! 637\n"
     ]
    },
    {
     "name": "stderr",
     "output_type": "stream",
     "text": [
      "Epoch 638 | mean loss: 11.53756:  64%|██████▍   | 638/1000 [13:06<07:35,  1.26s/epoch]"
     ]
    },
    {
     "name": "stdout",
     "output_type": "stream",
     "text": [
      "epoch done! 638\n"
     ]
    },
    {
     "name": "stderr",
     "output_type": "stream",
     "text": [
      "Epoch 639 | mean loss: 11.52385:  64%|██████▍   | 639/1000 [13:07<07:31,  1.25s/epoch]"
     ]
    },
    {
     "name": "stdout",
     "output_type": "stream",
     "text": [
      "epoch done! 639\n"
     ]
    },
    {
     "name": "stderr",
     "output_type": "stream",
     "text": [
      "Epoch 640 | mean loss: 12.14635:  64%|██████▍   | 640/1000 [13:09<07:28,  1.25s/epoch]"
     ]
    },
    {
     "name": "stdout",
     "output_type": "stream",
     "text": [
      "epoch done! 640\n"
     ]
    },
    {
     "name": "stderr",
     "output_type": "stream",
     "text": [
      "Epoch 641 | mean loss: 11.54775:  64%|██████▍   | 641/1000 [13:10<07:27,  1.25s/epoch]"
     ]
    },
    {
     "name": "stdout",
     "output_type": "stream",
     "text": [
      "epoch done! 641\n"
     ]
    },
    {
     "name": "stderr",
     "output_type": "stream",
     "text": [
      "Epoch 642 | mean loss: 12.08518:  64%|██████▍   | 642/1000 [13:11<07:25,  1.24s/epoch]"
     ]
    },
    {
     "name": "stdout",
     "output_type": "stream",
     "text": [
      "epoch done! 642\n"
     ]
    },
    {
     "name": "stderr",
     "output_type": "stream",
     "text": [
      "Epoch 643 | mean loss: 12.04085:  64%|██████▍   | 643/1000 [13:12<07:23,  1.24s/epoch]"
     ]
    },
    {
     "name": "stdout",
     "output_type": "stream",
     "text": [
      "epoch done! 643\n"
     ]
    },
    {
     "name": "stderr",
     "output_type": "stream",
     "text": [
      "Epoch 644 | mean loss: 12.75705:  64%|██████▍   | 644/1000 [13:14<07:22,  1.24s/epoch]"
     ]
    },
    {
     "name": "stdout",
     "output_type": "stream",
     "text": [
      "epoch done! 644\n"
     ]
    },
    {
     "name": "stderr",
     "output_type": "stream",
     "text": [
      "Epoch 645 | mean loss: 12.01948:  64%|██████▍   | 645/1000 [13:15<07:31,  1.27s/epoch]"
     ]
    },
    {
     "name": "stdout",
     "output_type": "stream",
     "text": [
      "epoch done! 645\n"
     ]
    },
    {
     "name": "stderr",
     "output_type": "stream",
     "text": [
      "Epoch 646 | mean loss: 12.67749:  65%|██████▍   | 646/1000 [13:16<07:26,  1.26s/epoch]"
     ]
    },
    {
     "name": "stdout",
     "output_type": "stream",
     "text": [
      "epoch done! 646\n"
     ]
    },
    {
     "name": "stderr",
     "output_type": "stream",
     "text": [
      "Epoch 647 | mean loss: 11.99112:  65%|██████▍   | 647/1000 [13:17<07:23,  1.26s/epoch]"
     ]
    },
    {
     "name": "stdout",
     "output_type": "stream",
     "text": [
      "epoch done! 647\n"
     ]
    },
    {
     "name": "stderr",
     "output_type": "stream",
     "text": [
      "Epoch 648 | mean loss: 12.71353:  65%|██████▍   | 648/1000 [13:19<07:21,  1.25s/epoch]"
     ]
    },
    {
     "name": "stdout",
     "output_type": "stream",
     "text": [
      "epoch done! 648\n"
     ]
    },
    {
     "name": "stderr",
     "output_type": "stream",
     "text": [
      "Epoch 649 | mean loss: 13.13106:  65%|██████▍   | 649/1000 [13:20<07:17,  1.25s/epoch]"
     ]
    },
    {
     "name": "stdout",
     "output_type": "stream",
     "text": [
      "epoch done! 649\n"
     ]
    },
    {
     "name": "stderr",
     "output_type": "stream",
     "text": [
      "Epoch 650 | mean loss: 13.67824:  65%|██████▌   | 650/1000 [13:21<07:16,  1.25s/epoch]"
     ]
    },
    {
     "name": "stdout",
     "output_type": "stream",
     "text": [
      "epoch done! 650\n"
     ]
    },
    {
     "name": "stderr",
     "output_type": "stream",
     "text": [
      "Epoch 651 | mean loss: 11.99140:  65%|██████▌   | 651/1000 [13:22<07:13,  1.24s/epoch]"
     ]
    },
    {
     "name": "stdout",
     "output_type": "stream",
     "text": [
      "epoch done! 651\n"
     ]
    },
    {
     "name": "stderr",
     "output_type": "stream",
     "text": [
      "Epoch 652 | mean loss: 12.10753:  65%|██████▌   | 652/1000 [13:24<07:13,  1.25s/epoch]"
     ]
    },
    {
     "name": "stdout",
     "output_type": "stream",
     "text": [
      "epoch done! 652\n"
     ]
    },
    {
     "name": "stderr",
     "output_type": "stream",
     "text": [
      "Epoch 653 | mean loss: 11.86378:  65%|██████▌   | 653/1000 [13:25<07:06,  1.23s/epoch]"
     ]
    },
    {
     "name": "stdout",
     "output_type": "stream",
     "text": [
      "epoch done! 653\n"
     ]
    },
    {
     "name": "stderr",
     "output_type": "stream",
     "text": [
      "Epoch 654 | mean loss: 12.47646:  65%|██████▌   | 654/1000 [13:26<07:08,  1.24s/epoch]"
     ]
    },
    {
     "name": "stdout",
     "output_type": "stream",
     "text": [
      "epoch done! 654\n"
     ]
    },
    {
     "name": "stderr",
     "output_type": "stream",
     "text": [
      "Epoch 655 | mean loss: 13.17262:  66%|██████▌   | 655/1000 [13:27<07:17,  1.27s/epoch]"
     ]
    },
    {
     "name": "stdout",
     "output_type": "stream",
     "text": [
      "epoch done! 655\n"
     ]
    },
    {
     "name": "stderr",
     "output_type": "stream",
     "text": [
      "Epoch 656 | mean loss: 15.17415:  66%|██████▌   | 656/1000 [13:29<07:14,  1.26s/epoch]"
     ]
    },
    {
     "name": "stdout",
     "output_type": "stream",
     "text": [
      "epoch done! 656\n"
     ]
    },
    {
     "name": "stderr",
     "output_type": "stream",
     "text": [
      "Epoch 657 | mean loss: 11.72418:  66%|██████▌   | 657/1000 [13:30<07:10,  1.26s/epoch]"
     ]
    },
    {
     "name": "stdout",
     "output_type": "stream",
     "text": [
      "epoch done! 657\n"
     ]
    },
    {
     "name": "stderr",
     "output_type": "stream",
     "text": [
      "Epoch 658 | mean loss: 11.02919:  66%|██████▌   | 658/1000 [13:31<07:06,  1.25s/epoch]"
     ]
    },
    {
     "name": "stdout",
     "output_type": "stream",
     "text": [
      "epoch done! 658\n"
     ]
    },
    {
     "name": "stderr",
     "output_type": "stream",
     "text": [
      "Epoch 659 | mean loss: 12.55428:  66%|██████▌   | 659/1000 [13:32<07:05,  1.25s/epoch]"
     ]
    },
    {
     "name": "stdout",
     "output_type": "stream",
     "text": [
      "epoch done! 659\n"
     ]
    },
    {
     "name": "stderr",
     "output_type": "stream",
     "text": [
      "Epoch 660 | mean loss: 13.04197:  66%|██████▌   | 660/1000 [13:34<07:03,  1.25s/epoch]"
     ]
    },
    {
     "name": "stdout",
     "output_type": "stream",
     "text": [
      "epoch done! 660\n"
     ]
    },
    {
     "name": "stderr",
     "output_type": "stream",
     "text": [
      "Epoch 661 | mean loss: 11.68450:  66%|██████▌   | 661/1000 [13:35<07:02,  1.25s/epoch]"
     ]
    },
    {
     "name": "stdout",
     "output_type": "stream",
     "text": [
      "epoch done! 661\n"
     ]
    },
    {
     "name": "stderr",
     "output_type": "stream",
     "text": [
      "Epoch 662 | mean loss: 11.75505:  66%|██████▌   | 662/1000 [13:36<07:01,  1.25s/epoch]"
     ]
    },
    {
     "name": "stdout",
     "output_type": "stream",
     "text": [
      "epoch done! 662\n"
     ]
    },
    {
     "name": "stderr",
     "output_type": "stream",
     "text": [
      "Epoch 663 | mean loss: 11.67363:  66%|██████▋   | 663/1000 [13:37<07:01,  1.25s/epoch]"
     ]
    },
    {
     "name": "stdout",
     "output_type": "stream",
     "text": [
      "epoch done! 663\n"
     ]
    },
    {
     "name": "stderr",
     "output_type": "stream",
     "text": [
      "Epoch 664 | mean loss: 11.42126:  66%|██████▋   | 664/1000 [13:39<07:13,  1.29s/epoch]"
     ]
    },
    {
     "name": "stdout",
     "output_type": "stream",
     "text": [
      "epoch done! 664\n"
     ]
    },
    {
     "name": "stderr",
     "output_type": "stream",
     "text": [
      "Epoch 665 | mean loss: 10.26047:  66%|██████▋   | 665/1000 [13:40<07:05,  1.27s/epoch]"
     ]
    },
    {
     "name": "stdout",
     "output_type": "stream",
     "text": [
      "epoch done! 665\n"
     ]
    },
    {
     "name": "stderr",
     "output_type": "stream",
     "text": [
      "Epoch 666 | mean loss: 12.09487:  67%|██████▋   | 666/1000 [13:41<07:03,  1.27s/epoch]"
     ]
    },
    {
     "name": "stdout",
     "output_type": "stream",
     "text": [
      "epoch done! 666\n"
     ]
    },
    {
     "name": "stderr",
     "output_type": "stream",
     "text": [
      "Epoch 667 | mean loss: 11.87303:  67%|██████▋   | 667/1000 [13:43<07:00,  1.26s/epoch]"
     ]
    },
    {
     "name": "stdout",
     "output_type": "stream",
     "text": [
      "epoch done! 667\n"
     ]
    },
    {
     "name": "stderr",
     "output_type": "stream",
     "text": [
      "Epoch 668 | mean loss: 10.92880:  67%|██████▋   | 668/1000 [13:44<06:58,  1.26s/epoch]"
     ]
    },
    {
     "name": "stdout",
     "output_type": "stream",
     "text": [
      "epoch done! 668\n"
     ]
    },
    {
     "name": "stderr",
     "output_type": "stream",
     "text": [
      "Epoch 669 | mean loss: 12.58944:  67%|██████▋   | 669/1000 [13:45<06:56,  1.26s/epoch]"
     ]
    },
    {
     "name": "stdout",
     "output_type": "stream",
     "text": [
      "epoch done! 669\n"
     ]
    },
    {
     "name": "stderr",
     "output_type": "stream",
     "text": [
      "Epoch 670 | mean loss: 11.85254:  67%|██████▋   | 670/1000 [13:46<06:52,  1.25s/epoch]"
     ]
    },
    {
     "name": "stdout",
     "output_type": "stream",
     "text": [
      "epoch done! 670\n"
     ]
    },
    {
     "name": "stderr",
     "output_type": "stream",
     "text": [
      "Epoch 671 | mean loss: 11.98729:  67%|██████▋   | 671/1000 [13:48<06:51,  1.25s/epoch]"
     ]
    },
    {
     "name": "stdout",
     "output_type": "stream",
     "text": [
      "epoch done! 671\n"
     ]
    },
    {
     "name": "stderr",
     "output_type": "stream",
     "text": [
      "Epoch 672 | mean loss: 10.57240:  67%|██████▋   | 672/1000 [13:49<06:48,  1.25s/epoch]"
     ]
    },
    {
     "name": "stdout",
     "output_type": "stream",
     "text": [
      "epoch done! 672\n"
     ]
    },
    {
     "name": "stderr",
     "output_type": "stream",
     "text": [
      "Epoch 673 | mean loss: 11.44680:  67%|██████▋   | 673/1000 [13:50<06:56,  1.27s/epoch]"
     ]
    },
    {
     "name": "stdout",
     "output_type": "stream",
     "text": [
      "epoch done! 673\n"
     ]
    },
    {
     "name": "stderr",
     "output_type": "stream",
     "text": [
      "Epoch 674 | mean loss: 11.11733:  67%|██████▋   | 674/1000 [13:51<06:51,  1.26s/epoch]"
     ]
    },
    {
     "name": "stdout",
     "output_type": "stream",
     "text": [
      "epoch done! 674\n"
     ]
    },
    {
     "name": "stderr",
     "output_type": "stream",
     "text": [
      "Epoch 675 | mean loss: 12.07353:  68%|██████▊   | 675/1000 [13:53<06:48,  1.26s/epoch]"
     ]
    },
    {
     "name": "stdout",
     "output_type": "stream",
     "text": [
      "epoch done! 675\n"
     ]
    },
    {
     "name": "stderr",
     "output_type": "stream",
     "text": [
      "Epoch 676 | mean loss: 10.49865:  68%|██████▊   | 676/1000 [13:54<06:50,  1.27s/epoch]"
     ]
    },
    {
     "name": "stdout",
     "output_type": "stream",
     "text": [
      "epoch done! 676\n"
     ]
    },
    {
     "name": "stderr",
     "output_type": "stream",
     "text": [
      "Epoch 677 | mean loss: 11.64704:  68%|██████▊   | 677/1000 [13:55<06:46,  1.26s/epoch]"
     ]
    },
    {
     "name": "stdout",
     "output_type": "stream",
     "text": [
      "epoch done! 677\n"
     ]
    },
    {
     "name": "stderr",
     "output_type": "stream",
     "text": [
      "Epoch 678 | mean loss: 11.93916:  68%|██████▊   | 678/1000 [13:56<06:45,  1.26s/epoch]"
     ]
    },
    {
     "name": "stdout",
     "output_type": "stream",
     "text": [
      "epoch done! 678\n"
     ]
    },
    {
     "name": "stderr",
     "output_type": "stream",
     "text": [
      "Epoch 679 | mean loss: 11.88261:  68%|██████▊   | 679/1000 [13:58<06:42,  1.25s/epoch]"
     ]
    },
    {
     "name": "stdout",
     "output_type": "stream",
     "text": [
      "epoch done! 679\n"
     ]
    },
    {
     "name": "stderr",
     "output_type": "stream",
     "text": [
      "Epoch 680 | mean loss: 12.56355:  68%|██████▊   | 680/1000 [13:59<06:40,  1.25s/epoch]"
     ]
    },
    {
     "name": "stdout",
     "output_type": "stream",
     "text": [
      "epoch done! 680\n"
     ]
    },
    {
     "name": "stderr",
     "output_type": "stream",
     "text": [
      "Epoch 681 | mean loss: 11.42146:  68%|██████▊   | 681/1000 [14:00<06:36,  1.24s/epoch]"
     ]
    },
    {
     "name": "stdout",
     "output_type": "stream",
     "text": [
      "epoch done! 681\n"
     ]
    },
    {
     "name": "stderr",
     "output_type": "stream",
     "text": [
      "Epoch 682 | mean loss: 10.14429:  68%|██████▊   | 682/1000 [14:01<06:36,  1.25s/epoch]"
     ]
    },
    {
     "name": "stdout",
     "output_type": "stream",
     "text": [
      "epoch done! 682\n"
     ]
    },
    {
     "name": "stderr",
     "output_type": "stream",
     "text": [
      "Epoch 683 | mean loss: 12.87850:  68%|██████▊   | 683/1000 [14:03<06:44,  1.28s/epoch]"
     ]
    },
    {
     "name": "stdout",
     "output_type": "stream",
     "text": [
      "epoch done! 683\n"
     ]
    },
    {
     "name": "stderr",
     "output_type": "stream",
     "text": [
      "Epoch 684 | mean loss: 11.40280:  68%|██████▊   | 684/1000 [14:04<06:40,  1.27s/epoch]"
     ]
    },
    {
     "name": "stdout",
     "output_type": "stream",
     "text": [
      "epoch done! 684\n"
     ]
    },
    {
     "name": "stderr",
     "output_type": "stream",
     "text": [
      "Epoch 685 | mean loss: 10.39030:  68%|██████▊   | 685/1000 [14:05<06:37,  1.26s/epoch]"
     ]
    },
    {
     "name": "stdout",
     "output_type": "stream",
     "text": [
      "epoch done! 685\n"
     ]
    },
    {
     "name": "stderr",
     "output_type": "stream",
     "text": [
      "Epoch 686 | mean loss: 11.81133:  69%|██████▊   | 686/1000 [14:06<06:34,  1.25s/epoch]"
     ]
    },
    {
     "name": "stdout",
     "output_type": "stream",
     "text": [
      "epoch done! 686\n"
     ]
    },
    {
     "name": "stderr",
     "output_type": "stream",
     "text": [
      "Epoch 687 | mean loss: 10.81513:  69%|██████▊   | 687/1000 [14:08<06:32,  1.25s/epoch]"
     ]
    },
    {
     "name": "stdout",
     "output_type": "stream",
     "text": [
      "epoch done! 687\n"
     ]
    },
    {
     "name": "stderr",
     "output_type": "stream",
     "text": [
      "Epoch 688 | mean loss: 12.83208:  69%|██████▉   | 688/1000 [14:09<06:30,  1.25s/epoch]"
     ]
    },
    {
     "name": "stdout",
     "output_type": "stream",
     "text": [
      "epoch done! 688\n"
     ]
    },
    {
     "name": "stderr",
     "output_type": "stream",
     "text": [
      "Epoch 689 | mean loss: 11.06831:  69%|██████▉   | 689/1000 [14:10<06:30,  1.26s/epoch]"
     ]
    },
    {
     "name": "stdout",
     "output_type": "stream",
     "text": [
      "epoch done! 689\n"
     ]
    },
    {
     "name": "stderr",
     "output_type": "stream",
     "text": [
      "Epoch 690 | mean loss: 11.09374:  69%|██████▉   | 690/1000 [14:11<06:28,  1.25s/epoch]"
     ]
    },
    {
     "name": "stdout",
     "output_type": "stream",
     "text": [
      "epoch done! 690\n"
     ]
    },
    {
     "name": "stderr",
     "output_type": "stream",
     "text": [
      "Epoch 691 | mean loss: 11.08265:  69%|██████▉   | 691/1000 [14:13<06:34,  1.28s/epoch]"
     ]
    },
    {
     "name": "stdout",
     "output_type": "stream",
     "text": [
      "epoch done! 691\n"
     ]
    },
    {
     "name": "stderr",
     "output_type": "stream",
     "text": [
      "Epoch 692 | mean loss: 11.37827:  69%|██████▉   | 692/1000 [14:14<06:29,  1.26s/epoch]"
     ]
    },
    {
     "name": "stdout",
     "output_type": "stream",
     "text": [
      "epoch done! 692\n"
     ]
    },
    {
     "name": "stderr",
     "output_type": "stream",
     "text": [
      "Epoch 693 | mean loss: 10.36375:  69%|██████▉   | 693/1000 [14:15<06:26,  1.26s/epoch]"
     ]
    },
    {
     "name": "stdout",
     "output_type": "stream",
     "text": [
      "epoch done! 693\n"
     ]
    },
    {
     "name": "stderr",
     "output_type": "stream",
     "text": [
      "Epoch 694 | mean loss: 10.32924:  69%|██████▉   | 694/1000 [14:16<06:22,  1.25s/epoch]"
     ]
    },
    {
     "name": "stdout",
     "output_type": "stream",
     "text": [
      "epoch done! 694\n"
     ]
    },
    {
     "name": "stderr",
     "output_type": "stream",
     "text": [
      "Epoch 695 | mean loss: 11.56584:  70%|██████▉   | 695/1000 [14:18<06:20,  1.25s/epoch]"
     ]
    },
    {
     "name": "stdout",
     "output_type": "stream",
     "text": [
      "epoch done! 695\n"
     ]
    },
    {
     "name": "stderr",
     "output_type": "stream",
     "text": [
      "Epoch 696 | mean loss: 12.08292:  70%|██████▉   | 696/1000 [14:19<06:18,  1.24s/epoch]"
     ]
    },
    {
     "name": "stdout",
     "output_type": "stream",
     "text": [
      "epoch done! 696\n"
     ]
    },
    {
     "name": "stderr",
     "output_type": "stream",
     "text": [
      "Epoch 697 | mean loss: 10.07858:  70%|██████▉   | 697/1000 [14:20<06:17,  1.25s/epoch]"
     ]
    },
    {
     "name": "stdout",
     "output_type": "stream",
     "text": [
      "epoch done! 697\n"
     ]
    },
    {
     "name": "stderr",
     "output_type": "stream",
     "text": [
      "Epoch 698 | mean loss: 10.07954:  70%|██████▉   | 698/1000 [14:21<06:15,  1.24s/epoch]"
     ]
    },
    {
     "name": "stdout",
     "output_type": "stream",
     "text": [
      "epoch done! 698\n"
     ]
    },
    {
     "name": "stderr",
     "output_type": "stream",
     "text": [
      "Epoch 699 | mean loss: 11.77866:  70%|██████▉   | 699/1000 [14:23<06:13,  1.24s/epoch]"
     ]
    },
    {
     "name": "stdout",
     "output_type": "stream",
     "text": [
      "epoch done! 699\n"
     ]
    },
    {
     "name": "stderr",
     "output_type": "stream",
     "text": [
      "Epoch 700 | mean loss: 11.28270:  70%|███████   | 700/1000 [14:24<06:11,  1.24s/epoch]"
     ]
    },
    {
     "name": "stdout",
     "output_type": "stream",
     "text": [
      "epoch done! 700\n"
     ]
    },
    {
     "name": "stderr",
     "output_type": "stream",
     "text": [
      "Epoch 701 | mean loss: 11.39082:  70%|███████   | 701/1000 [14:25<06:18,  1.27s/epoch]"
     ]
    },
    {
     "name": "stdout",
     "output_type": "stream",
     "text": [
      "epoch done! 701\n"
     ]
    },
    {
     "name": "stderr",
     "output_type": "stream",
     "text": [
      "Epoch 702 | mean loss: 10.60522:  70%|███████   | 702/1000 [14:26<06:15,  1.26s/epoch]"
     ]
    },
    {
     "name": "stdout",
     "output_type": "stream",
     "text": [
      "epoch done! 702\n"
     ]
    },
    {
     "name": "stderr",
     "output_type": "stream",
     "text": [
      "Epoch 703 | mean loss: 11.03312:  70%|███████   | 703/1000 [14:28<06:11,  1.25s/epoch]"
     ]
    },
    {
     "name": "stdout",
     "output_type": "stream",
     "text": [
      "epoch done! 703\n"
     ]
    },
    {
     "name": "stderr",
     "output_type": "stream",
     "text": [
      "Epoch 704 | mean loss: 11.04984:  70%|███████   | 704/1000 [14:29<06:10,  1.25s/epoch]"
     ]
    },
    {
     "name": "stdout",
     "output_type": "stream",
     "text": [
      "epoch done! 704\n"
     ]
    },
    {
     "name": "stderr",
     "output_type": "stream",
     "text": [
      "Epoch 705 | mean loss: 13.16556:  70%|███████   | 705/1000 [14:30<06:08,  1.25s/epoch]"
     ]
    },
    {
     "name": "stdout",
     "output_type": "stream",
     "text": [
      "epoch done! 705\n"
     ]
    },
    {
     "name": "stderr",
     "output_type": "stream",
     "text": [
      "Epoch 706 | mean loss: 11.61840:  71%|███████   | 706/1000 [14:31<06:01,  1.23s/epoch]"
     ]
    },
    {
     "name": "stdout",
     "output_type": "stream",
     "text": [
      "epoch done! 706\n"
     ]
    },
    {
     "name": "stderr",
     "output_type": "stream",
     "text": [
      "Epoch 707 | mean loss: 10.43573:  71%|███████   | 707/1000 [14:33<06:02,  1.24s/epoch]"
     ]
    },
    {
     "name": "stdout",
     "output_type": "stream",
     "text": [
      "epoch done! 707\n"
     ]
    },
    {
     "name": "stderr",
     "output_type": "stream",
     "text": [
      "Epoch 708 | mean loss: 10.06789:  71%|███████   | 708/1000 [14:34<06:02,  1.24s/epoch]"
     ]
    },
    {
     "name": "stdout",
     "output_type": "stream",
     "text": [
      "epoch done! 708\n"
     ]
    },
    {
     "name": "stderr",
     "output_type": "stream",
     "text": [
      "Epoch 709 | mean loss: 12.09460:  71%|███████   | 709/1000 [14:35<06:01,  1.24s/epoch]"
     ]
    },
    {
     "name": "stdout",
     "output_type": "stream",
     "text": [
      "epoch done! 709\n"
     ]
    },
    {
     "name": "stderr",
     "output_type": "stream",
     "text": [
      "Epoch 710 | mean loss: 11.65727:  71%|███████   | 710/1000 [14:36<06:00,  1.24s/epoch]"
     ]
    },
    {
     "name": "stdout",
     "output_type": "stream",
     "text": [
      "epoch done! 710\n"
     ]
    },
    {
     "name": "stderr",
     "output_type": "stream",
     "text": [
      "Epoch 711 | mean loss: 11.17499:  71%|███████   | 711/1000 [14:38<06:07,  1.27s/epoch]"
     ]
    },
    {
     "name": "stdout",
     "output_type": "stream",
     "text": [
      "epoch done! 711\n"
     ]
    },
    {
     "name": "stderr",
     "output_type": "stream",
     "text": [
      "Epoch 712 | mean loss: 10.55073:  71%|███████   | 712/1000 [14:39<06:03,  1.26s/epoch]"
     ]
    },
    {
     "name": "stdout",
     "output_type": "stream",
     "text": [
      "epoch done! 712\n"
     ]
    },
    {
     "name": "stderr",
     "output_type": "stream",
     "text": [
      "Epoch 713 | mean loss: 11.02030:  71%|███████▏  | 713/1000 [14:40<05:59,  1.25s/epoch]"
     ]
    },
    {
     "name": "stdout",
     "output_type": "stream",
     "text": [
      "epoch done! 713\n"
     ]
    },
    {
     "name": "stderr",
     "output_type": "stream",
     "text": [
      "Epoch 714 | mean loss: 11.29862:  71%|███████▏  | 714/1000 [14:41<05:57,  1.25s/epoch]"
     ]
    },
    {
     "name": "stdout",
     "output_type": "stream",
     "text": [
      "epoch done! 714\n"
     ]
    },
    {
     "name": "stderr",
     "output_type": "stream",
     "text": [
      "Epoch 715 | mean loss: 11.05730:  72%|███████▏  | 715/1000 [14:43<05:55,  1.25s/epoch]"
     ]
    },
    {
     "name": "stdout",
     "output_type": "stream",
     "text": [
      "epoch done! 715\n"
     ]
    },
    {
     "name": "stderr",
     "output_type": "stream",
     "text": [
      "Epoch 716 | mean loss: 10.44871:  72%|███████▏  | 716/1000 [14:44<05:53,  1.25s/epoch]"
     ]
    },
    {
     "name": "stdout",
     "output_type": "stream",
     "text": [
      "epoch done! 716\n"
     ]
    },
    {
     "name": "stderr",
     "output_type": "stream",
     "text": [
      "Epoch 717 | mean loss: 11.58261:  72%|███████▏  | 717/1000 [14:45<05:52,  1.24s/epoch]"
     ]
    },
    {
     "name": "stdout",
     "output_type": "stream",
     "text": [
      "epoch done! 717\n"
     ]
    },
    {
     "name": "stderr",
     "output_type": "stream",
     "text": [
      "Epoch 718 | mean loss: 10.92917:  72%|███████▏  | 718/1000 [14:46<05:50,  1.24s/epoch]"
     ]
    },
    {
     "name": "stdout",
     "output_type": "stream",
     "text": [
      "epoch done! 718\n"
     ]
    },
    {
     "name": "stderr",
     "output_type": "stream",
     "text": [
      "Epoch 719 | mean loss: 10.87837:  72%|███████▏  | 719/1000 [14:48<05:50,  1.25s/epoch]"
     ]
    },
    {
     "name": "stdout",
     "output_type": "stream",
     "text": [
      "epoch done! 719\n"
     ]
    },
    {
     "name": "stderr",
     "output_type": "stream",
     "text": [
      "Epoch 720 | mean loss: 11.61867:  72%|███████▏  | 720/1000 [14:49<05:55,  1.27s/epoch]"
     ]
    },
    {
     "name": "stdout",
     "output_type": "stream",
     "text": [
      "epoch done! 720\n"
     ]
    },
    {
     "name": "stderr",
     "output_type": "stream",
     "text": [
      "Epoch 721 | mean loss: 11.17505:  72%|███████▏  | 721/1000 [14:50<05:52,  1.26s/epoch]"
     ]
    },
    {
     "name": "stdout",
     "output_type": "stream",
     "text": [
      "epoch done! 721\n"
     ]
    },
    {
     "name": "stderr",
     "output_type": "stream",
     "text": [
      "Epoch 722 | mean loss: 10.12350:  72%|███████▏  | 722/1000 [14:51<05:49,  1.26s/epoch]"
     ]
    },
    {
     "name": "stdout",
     "output_type": "stream",
     "text": [
      "epoch done! 722\n"
     ]
    },
    {
     "name": "stderr",
     "output_type": "stream",
     "text": [
      "Epoch 723 | mean loss: 11.32311:  72%|███████▏  | 723/1000 [14:53<05:47,  1.25s/epoch]"
     ]
    },
    {
     "name": "stdout",
     "output_type": "stream",
     "text": [
      "epoch done! 723\n"
     ]
    },
    {
     "name": "stderr",
     "output_type": "stream",
     "text": [
      "Epoch 724 | mean loss: 13.12735:  72%|███████▏  | 724/1000 [14:54<05:45,  1.25s/epoch]"
     ]
    },
    {
     "name": "stdout",
     "output_type": "stream",
     "text": [
      "epoch done! 724\n"
     ]
    },
    {
     "name": "stderr",
     "output_type": "stream",
     "text": [
      "Epoch 725 | mean loss: 10.81015:  72%|███████▎  | 725/1000 [14:55<05:44,  1.25s/epoch]"
     ]
    },
    {
     "name": "stdout",
     "output_type": "stream",
     "text": [
      "epoch done! 725\n"
     ]
    },
    {
     "name": "stderr",
     "output_type": "stream",
     "text": [
      "Epoch 726 | mean loss: 11.02460:  73%|███████▎  | 726/1000 [14:56<05:42,  1.25s/epoch]"
     ]
    },
    {
     "name": "stdout",
     "output_type": "stream",
     "text": [
      "epoch done! 726\n"
     ]
    },
    {
     "name": "stderr",
     "output_type": "stream",
     "text": [
      "Epoch 727 | mean loss: 8.83570:  73%|███████▎  | 727/1000 [14:58<05:40,  1.25s/epoch] "
     ]
    },
    {
     "name": "stdout",
     "output_type": "stream",
     "text": [
      "epoch done! 727\n"
     ]
    },
    {
     "name": "stderr",
     "output_type": "stream",
     "text": [
      "Epoch 728 | mean loss: 11.18842:  73%|███████▎  | 728/1000 [14:59<05:39,  1.25s/epoch]"
     ]
    },
    {
     "name": "stdout",
     "output_type": "stream",
     "text": [
      "epoch done! 728\n"
     ]
    },
    {
     "name": "stderr",
     "output_type": "stream",
     "text": [
      "Epoch 729 | mean loss: 10.40315:  73%|███████▎  | 729/1000 [15:00<05:44,  1.27s/epoch]"
     ]
    },
    {
     "name": "stdout",
     "output_type": "stream",
     "text": [
      "epoch done! 729\n"
     ]
    },
    {
     "name": "stderr",
     "output_type": "stream",
     "text": [
      "Epoch 730 | mean loss: 9.71972:  73%|███████▎  | 730/1000 [15:02<05:40,  1.26s/epoch] "
     ]
    },
    {
     "name": "stdout",
     "output_type": "stream",
     "text": [
      "epoch done! 730\n"
     ]
    },
    {
     "name": "stderr",
     "output_type": "stream",
     "text": [
      "Epoch 731 | mean loss: 11.66578:  73%|███████▎  | 731/1000 [15:03<05:37,  1.26s/epoch]"
     ]
    },
    {
     "name": "stdout",
     "output_type": "stream",
     "text": [
      "epoch done! 731\n"
     ]
    },
    {
     "name": "stderr",
     "output_type": "stream",
     "text": [
      "Epoch 732 | mean loss: 10.20655:  73%|███████▎  | 732/1000 [15:04<05:34,  1.25s/epoch]"
     ]
    },
    {
     "name": "stdout",
     "output_type": "stream",
     "text": [
      "epoch done! 732\n"
     ]
    },
    {
     "name": "stderr",
     "output_type": "stream",
     "text": [
      "Epoch 733 | mean loss: 10.52941:  73%|███████▎  | 733/1000 [15:05<05:33,  1.25s/epoch]"
     ]
    },
    {
     "name": "stdout",
     "output_type": "stream",
     "text": [
      "epoch done! 733\n"
     ]
    },
    {
     "name": "stderr",
     "output_type": "stream",
     "text": [
      "Epoch 734 | mean loss: 10.73020:  73%|███████▎  | 734/1000 [15:06<05:31,  1.25s/epoch]"
     ]
    },
    {
     "name": "stdout",
     "output_type": "stream",
     "text": [
      "epoch done! 734\n"
     ]
    },
    {
     "name": "stderr",
     "output_type": "stream",
     "text": [
      "Epoch 735 | mean loss: 10.29369:  74%|███████▎  | 735/1000 [15:08<05:29,  1.24s/epoch]"
     ]
    },
    {
     "name": "stdout",
     "output_type": "stream",
     "text": [
      "epoch done! 735\n"
     ]
    },
    {
     "name": "stderr",
     "output_type": "stream",
     "text": [
      "Epoch 736 | mean loss: 9.96350:  74%|███████▎  | 736/1000 [15:09<05:27,  1.24s/epoch] "
     ]
    },
    {
     "name": "stdout",
     "output_type": "stream",
     "text": [
      "epoch done! 736\n"
     ]
    },
    {
     "name": "stderr",
     "output_type": "stream",
     "text": [
      "Epoch 737 | mean loss: 10.42795:  74%|███████▎  | 737/1000 [15:10<05:33,  1.27s/epoch]"
     ]
    },
    {
     "name": "stdout",
     "output_type": "stream",
     "text": [
      "epoch done! 737\n"
     ]
    },
    {
     "name": "stderr",
     "output_type": "stream",
     "text": [
      "Epoch 738 | mean loss: 10.33637:  74%|███████▍  | 738/1000 [15:12<05:32,  1.27s/epoch]"
     ]
    },
    {
     "name": "stdout",
     "output_type": "stream",
     "text": [
      "epoch done! 738\n"
     ]
    },
    {
     "name": "stderr",
     "output_type": "stream",
     "text": [
      "Epoch 739 | mean loss: 9.01976:  74%|███████▍  | 739/1000 [15:13<05:29,  1.26s/epoch] "
     ]
    },
    {
     "name": "stdout",
     "output_type": "stream",
     "text": [
      "epoch done! 739\n"
     ]
    },
    {
     "name": "stderr",
     "output_type": "stream",
     "text": [
      "Epoch 740 | mean loss: 9.71671:  74%|███████▍  | 740/1000 [15:14<05:25,  1.25s/epoch]"
     ]
    },
    {
     "name": "stdout",
     "output_type": "stream",
     "text": [
      "epoch done! 740\n"
     ]
    },
    {
     "name": "stderr",
     "output_type": "stream",
     "text": [
      "Epoch 741 | mean loss: 11.37649:  74%|███████▍  | 741/1000 [15:15<05:23,  1.25s/epoch]"
     ]
    },
    {
     "name": "stdout",
     "output_type": "stream",
     "text": [
      "epoch done! 741\n"
     ]
    },
    {
     "name": "stderr",
     "output_type": "stream",
     "text": [
      "Epoch 742 | mean loss: 10.41254:  74%|███████▍  | 742/1000 [15:16<05:21,  1.25s/epoch]"
     ]
    },
    {
     "name": "stdout",
     "output_type": "stream",
     "text": [
      "epoch done! 742\n"
     ]
    },
    {
     "name": "stderr",
     "output_type": "stream",
     "text": [
      "Epoch 743 | mean loss: 9.74457:  74%|███████▍  | 743/1000 [15:18<05:20,  1.25s/epoch] "
     ]
    },
    {
     "name": "stdout",
     "output_type": "stream",
     "text": [
      "epoch done! 743\n"
     ]
    },
    {
     "name": "stderr",
     "output_type": "stream",
     "text": [
      "Epoch 744 | mean loss: 10.71553:  74%|███████▍  | 744/1000 [15:19<05:18,  1.24s/epoch]"
     ]
    },
    {
     "name": "stdout",
     "output_type": "stream",
     "text": [
      "epoch done! 744\n"
     ]
    },
    {
     "name": "stderr",
     "output_type": "stream",
     "text": [
      "Epoch 745 | mean loss: 9.35688:  74%|███████▍  | 745/1000 [15:20<05:17,  1.24s/epoch] "
     ]
    },
    {
     "name": "stdout",
     "output_type": "stream",
     "text": [
      "epoch done! 745\n"
     ]
    },
    {
     "name": "stderr",
     "output_type": "stream",
     "text": [
      "Epoch 746 | mean loss: 12.16854:  75%|███████▍  | 746/1000 [15:22<05:23,  1.28s/epoch]"
     ]
    },
    {
     "name": "stdout",
     "output_type": "stream",
     "text": [
      "epoch done! 746\n"
     ]
    },
    {
     "name": "stderr",
     "output_type": "stream",
     "text": [
      "Epoch 747 | mean loss: 9.12107:  75%|███████▍  | 747/1000 [15:23<05:18,  1.26s/epoch] "
     ]
    },
    {
     "name": "stdout",
     "output_type": "stream",
     "text": [
      "epoch done! 747\n"
     ]
    },
    {
     "name": "stderr",
     "output_type": "stream",
     "text": [
      "Epoch 748 | mean loss: 9.34973:  75%|███████▍  | 748/1000 [15:24<05:16,  1.26s/epoch]"
     ]
    },
    {
     "name": "stdout",
     "output_type": "stream",
     "text": [
      "epoch done! 748\n"
     ]
    },
    {
     "name": "stderr",
     "output_type": "stream",
     "text": [
      "Epoch 749 | mean loss: 10.70088:  75%|███████▍  | 749/1000 [15:25<05:13,  1.25s/epoch]"
     ]
    },
    {
     "name": "stdout",
     "output_type": "stream",
     "text": [
      "epoch done! 749\n"
     ]
    },
    {
     "name": "stderr",
     "output_type": "stream",
     "text": [
      "Epoch 750 | mean loss: 10.09684:  75%|███████▌  | 750/1000 [15:27<05:12,  1.25s/epoch]"
     ]
    },
    {
     "name": "stdout",
     "output_type": "stream",
     "text": [
      "epoch done! 750\n"
     ]
    },
    {
     "name": "stderr",
     "output_type": "stream",
     "text": [
      "Epoch 751 | mean loss: 9.91458:  75%|███████▌  | 751/1000 [15:28<05:11,  1.25s/epoch] "
     ]
    },
    {
     "name": "stdout",
     "output_type": "stream",
     "text": [
      "epoch done! 751\n"
     ]
    },
    {
     "name": "stderr",
     "output_type": "stream",
     "text": [
      "Epoch 752 | mean loss: 10.04610:  75%|███████▌  | 752/1000 [15:29<05:08,  1.25s/epoch]"
     ]
    },
    {
     "name": "stdout",
     "output_type": "stream",
     "text": [
      "epoch done! 752\n"
     ]
    },
    {
     "name": "stderr",
     "output_type": "stream",
     "text": [
      "Epoch 753 | mean loss: 10.32769:  75%|███████▌  | 753/1000 [15:30<05:07,  1.25s/epoch]"
     ]
    },
    {
     "name": "stdout",
     "output_type": "stream",
     "text": [
      "epoch done! 753\n"
     ]
    },
    {
     "name": "stderr",
     "output_type": "stream",
     "text": [
      "Epoch 754 | mean loss: 10.42077:  75%|███████▌  | 754/1000 [15:32<05:12,  1.27s/epoch]"
     ]
    },
    {
     "name": "stdout",
     "output_type": "stream",
     "text": [
      "epoch done! 754\n"
     ]
    },
    {
     "name": "stderr",
     "output_type": "stream",
     "text": [
      "Epoch 755 | mean loss: 9.12550:  76%|███████▌  | 755/1000 [15:33<05:09,  1.26s/epoch] "
     ]
    },
    {
     "name": "stdout",
     "output_type": "stream",
     "text": [
      "epoch done! 755\n"
     ]
    },
    {
     "name": "stderr",
     "output_type": "stream",
     "text": [
      "Epoch 756 | mean loss: 11.43775:  76%|███████▌  | 756/1000 [15:34<05:06,  1.25s/epoch]"
     ]
    },
    {
     "name": "stdout",
     "output_type": "stream",
     "text": [
      "epoch done! 756\n"
     ]
    },
    {
     "name": "stderr",
     "output_type": "stream",
     "text": [
      "Epoch 757 | mean loss: 9.54433:  76%|███████▌  | 757/1000 [15:35<05:03,  1.25s/epoch] "
     ]
    },
    {
     "name": "stdout",
     "output_type": "stream",
     "text": [
      "epoch done! 757\n"
     ]
    },
    {
     "name": "stderr",
     "output_type": "stream",
     "text": [
      "Epoch 758 | mean loss: 10.94050:  76%|███████▌  | 758/1000 [15:37<05:01,  1.25s/epoch]"
     ]
    },
    {
     "name": "stdout",
     "output_type": "stream",
     "text": [
      "epoch done! 758\n"
     ]
    },
    {
     "name": "stderr",
     "output_type": "stream",
     "text": [
      "Epoch 759 | mean loss: 9.71201:  76%|███████▌  | 759/1000 [15:38<05:00,  1.25s/epoch] "
     ]
    },
    {
     "name": "stdout",
     "output_type": "stream",
     "text": [
      "epoch done! 759\n"
     ]
    },
    {
     "name": "stderr",
     "output_type": "stream",
     "text": [
      "Epoch 760 | mean loss: 9.44454:  76%|███████▌  | 760/1000 [15:39<04:57,  1.24s/epoch]"
     ]
    },
    {
     "name": "stdout",
     "output_type": "stream",
     "text": [
      "epoch done! 760\n"
     ]
    },
    {
     "name": "stderr",
     "output_type": "stream",
     "text": [
      "Epoch 761 | mean loss: 10.89565:  76%|███████▌  | 761/1000 [15:40<04:57,  1.25s/epoch]"
     ]
    },
    {
     "name": "stdout",
     "output_type": "stream",
     "text": [
      "epoch done! 761\n"
     ]
    },
    {
     "name": "stderr",
     "output_type": "stream",
     "text": [
      "Epoch 762 | mean loss: 9.33067:  76%|███████▌  | 762/1000 [15:42<04:57,  1.25s/epoch] "
     ]
    },
    {
     "name": "stdout",
     "output_type": "stream",
     "text": [
      "epoch done! 762\n"
     ]
    },
    {
     "name": "stderr",
     "output_type": "stream",
     "text": [
      "Epoch 763 | mean loss: 10.85697:  76%|███████▋  | 763/1000 [15:43<04:55,  1.25s/epoch]"
     ]
    },
    {
     "name": "stdout",
     "output_type": "stream",
     "text": [
      "epoch done! 763\n"
     ]
    },
    {
     "name": "stderr",
     "output_type": "stream",
     "text": [
      "Epoch 764 | mean loss: 10.15573:  76%|███████▋  | 764/1000 [15:44<05:00,  1.27s/epoch]"
     ]
    },
    {
     "name": "stdout",
     "output_type": "stream",
     "text": [
      "epoch done! 764\n"
     ]
    },
    {
     "name": "stderr",
     "output_type": "stream",
     "text": [
      "Epoch 765 | mean loss: 11.74588:  76%|███████▋  | 765/1000 [15:45<04:57,  1.26s/epoch]"
     ]
    },
    {
     "name": "stdout",
     "output_type": "stream",
     "text": [
      "epoch done! 765\n"
     ]
    },
    {
     "name": "stderr",
     "output_type": "stream",
     "text": [
      "Epoch 766 | mean loss: 9.78985:  77%|███████▋  | 766/1000 [15:47<04:53,  1.26s/epoch] "
     ]
    },
    {
     "name": "stdout",
     "output_type": "stream",
     "text": [
      "epoch done! 766\n"
     ]
    },
    {
     "name": "stderr",
     "output_type": "stream",
     "text": [
      "Epoch 767 | mean loss: 9.62249:  77%|███████▋  | 767/1000 [15:48<04:52,  1.25s/epoch]"
     ]
    },
    {
     "name": "stdout",
     "output_type": "stream",
     "text": [
      "epoch done! 767\n"
     ]
    },
    {
     "name": "stderr",
     "output_type": "stream",
     "text": [
      "Epoch 768 | mean loss: 10.40297:  77%|███████▋  | 768/1000 [15:49<04:49,  1.25s/epoch]"
     ]
    },
    {
     "name": "stdout",
     "output_type": "stream",
     "text": [
      "epoch done! 768\n"
     ]
    },
    {
     "name": "stderr",
     "output_type": "stream",
     "text": [
      "Epoch 769 | mean loss: 10.91003:  77%|███████▋  | 769/1000 [15:50<04:46,  1.24s/epoch]"
     ]
    },
    {
     "name": "stdout",
     "output_type": "stream",
     "text": [
      "epoch done! 769\n"
     ]
    },
    {
     "name": "stderr",
     "output_type": "stream",
     "text": [
      "Epoch 770 | mean loss: 11.37481:  77%|███████▋  | 770/1000 [15:52<04:46,  1.24s/epoch]"
     ]
    },
    {
     "name": "stdout",
     "output_type": "stream",
     "text": [
      "epoch done! 770\n"
     ]
    },
    {
     "name": "stderr",
     "output_type": "stream",
     "text": [
      "Epoch 771 | mean loss: 9.98380:  77%|███████▋  | 771/1000 [15:53<04:51,  1.27s/epoch] "
     ]
    },
    {
     "name": "stdout",
     "output_type": "stream",
     "text": [
      "epoch done! 771\n"
     ]
    },
    {
     "name": "stderr",
     "output_type": "stream",
     "text": [
      "Epoch 772 | mean loss: 11.15921:  77%|███████▋  | 772/1000 [15:54<04:47,  1.26s/epoch]"
     ]
    },
    {
     "name": "stdout",
     "output_type": "stream",
     "text": [
      "epoch done! 772\n"
     ]
    },
    {
     "name": "stderr",
     "output_type": "stream",
     "text": [
      "Epoch 773 | mean loss: 9.66358:  77%|███████▋  | 773/1000 [15:55<04:44,  1.25s/epoch] "
     ]
    },
    {
     "name": "stdout",
     "output_type": "stream",
     "text": [
      "epoch done! 773\n"
     ]
    },
    {
     "name": "stderr",
     "output_type": "stream",
     "text": [
      "Epoch 774 | mean loss: 9.87046:  77%|███████▋  | 774/1000 [15:57<04:41,  1.25s/epoch]"
     ]
    },
    {
     "name": "stdout",
     "output_type": "stream",
     "text": [
      "epoch done! 774\n"
     ]
    },
    {
     "name": "stderr",
     "output_type": "stream",
     "text": [
      "Epoch 775 | mean loss: 10.87410:  78%|███████▊  | 775/1000 [15:58<04:40,  1.25s/epoch]"
     ]
    },
    {
     "name": "stdout",
     "output_type": "stream",
     "text": [
      "epoch done! 775\n"
     ]
    },
    {
     "name": "stderr",
     "output_type": "stream",
     "text": [
      "Epoch 776 | mean loss: 10.42931:  78%|███████▊  | 776/1000 [15:59<04:38,  1.24s/epoch]"
     ]
    },
    {
     "name": "stdout",
     "output_type": "stream",
     "text": [
      "epoch done! 776\n"
     ]
    },
    {
     "name": "stderr",
     "output_type": "stream",
     "text": [
      "Epoch 777 | mean loss: 9.68838:  78%|███████▊  | 777/1000 [16:00<04:37,  1.24s/epoch] "
     ]
    },
    {
     "name": "stdout",
     "output_type": "stream",
     "text": [
      "epoch done! 777\n"
     ]
    },
    {
     "name": "stderr",
     "output_type": "stream",
     "text": [
      "Epoch 778 | mean loss: 10.69106:  78%|███████▊  | 778/1000 [16:02<04:32,  1.23s/epoch]"
     ]
    },
    {
     "name": "stdout",
     "output_type": "stream",
     "text": [
      "epoch done! 778\n"
     ]
    },
    {
     "name": "stderr",
     "output_type": "stream",
     "text": [
      "Epoch 779 | mean loss: 11.42418:  78%|███████▊  | 779/1000 [16:03<04:31,  1.23s/epoch]"
     ]
    },
    {
     "name": "stdout",
     "output_type": "stream",
     "text": [
      "epoch done! 779\n"
     ]
    },
    {
     "name": "stderr",
     "output_type": "stream",
     "text": [
      "Epoch 780 | mean loss: 9.46940:  78%|███████▊  | 780/1000 [16:04<04:36,  1.26s/epoch] "
     ]
    },
    {
     "name": "stdout",
     "output_type": "stream",
     "text": [
      "epoch done! 780\n"
     ]
    },
    {
     "name": "stderr",
     "output_type": "stream",
     "text": [
      "Epoch 781 | mean loss: 9.75214:  78%|███████▊  | 781/1000 [16:05<04:34,  1.25s/epoch]"
     ]
    },
    {
     "name": "stdout",
     "output_type": "stream",
     "text": [
      "epoch done! 781\n"
     ]
    },
    {
     "name": "stderr",
     "output_type": "stream",
     "text": [
      "Epoch 782 | mean loss: 10.24261:  78%|███████▊  | 782/1000 [16:07<04:32,  1.25s/epoch]"
     ]
    },
    {
     "name": "stdout",
     "output_type": "stream",
     "text": [
      "epoch done! 782\n"
     ]
    },
    {
     "name": "stderr",
     "output_type": "stream",
     "text": [
      "Epoch 783 | mean loss: 9.68675:  78%|███████▊  | 783/1000 [16:08<04:30,  1.25s/epoch] "
     ]
    },
    {
     "name": "stdout",
     "output_type": "stream",
     "text": [
      "epoch done! 783\n"
     ]
    },
    {
     "name": "stderr",
     "output_type": "stream",
     "text": [
      "Epoch 784 | mean loss: 11.04599:  78%|███████▊  | 784/1000 [16:09<04:29,  1.25s/epoch]"
     ]
    },
    {
     "name": "stdout",
     "output_type": "stream",
     "text": [
      "epoch done! 784\n"
     ]
    },
    {
     "name": "stderr",
     "output_type": "stream",
     "text": [
      "Epoch 785 | mean loss: 9.86029:  78%|███████▊  | 785/1000 [16:10<04:27,  1.25s/epoch] "
     ]
    },
    {
     "name": "stdout",
     "output_type": "stream",
     "text": [
      "epoch done! 785\n"
     ]
    },
    {
     "name": "stderr",
     "output_type": "stream",
     "text": [
      "Epoch 786 | mean loss: 10.08770:  79%|███████▊  | 786/1000 [16:12<04:26,  1.24s/epoch]"
     ]
    },
    {
     "name": "stdout",
     "output_type": "stream",
     "text": [
      "epoch done! 786\n"
     ]
    },
    {
     "name": "stderr",
     "output_type": "stream",
     "text": [
      "Epoch 787 | mean loss: 9.36776:  79%|███████▊  | 787/1000 [16:13<04:25,  1.25s/epoch] "
     ]
    },
    {
     "name": "stdout",
     "output_type": "stream",
     "text": [
      "epoch done! 787\n"
     ]
    },
    {
     "name": "stderr",
     "output_type": "stream",
     "text": [
      "Epoch 788 | mean loss: 9.46197:  79%|███████▉  | 788/1000 [16:14<04:29,  1.27s/epoch]"
     ]
    },
    {
     "name": "stdout",
     "output_type": "stream",
     "text": [
      "epoch done! 788\n"
     ]
    },
    {
     "name": "stderr",
     "output_type": "stream",
     "text": [
      "Epoch 789 | mean loss: 9.49827:  79%|███████▉  | 789/1000 [16:15<04:26,  1.26s/epoch]"
     ]
    },
    {
     "name": "stdout",
     "output_type": "stream",
     "text": [
      "epoch done! 789\n"
     ]
    },
    {
     "name": "stderr",
     "output_type": "stream",
     "text": [
      "Epoch 790 | mean loss: 9.73818:  79%|███████▉  | 790/1000 [16:17<04:24,  1.26s/epoch]"
     ]
    },
    {
     "name": "stdout",
     "output_type": "stream",
     "text": [
      "epoch done! 790\n"
     ]
    },
    {
     "name": "stderr",
     "output_type": "stream",
     "text": [
      "Epoch 791 | mean loss: 10.63077:  79%|███████▉  | 791/1000 [16:18<04:21,  1.25s/epoch]"
     ]
    },
    {
     "name": "stdout",
     "output_type": "stream",
     "text": [
      "epoch done! 791\n"
     ]
    },
    {
     "name": "stderr",
     "output_type": "stream",
     "text": [
      "Epoch 792 | mean loss: 10.39204:  79%|███████▉  | 792/1000 [16:19<04:18,  1.24s/epoch]"
     ]
    },
    {
     "name": "stdout",
     "output_type": "stream",
     "text": [
      "epoch done! 792\n"
     ]
    },
    {
     "name": "stderr",
     "output_type": "stream",
     "text": [
      "Epoch 793 | mean loss: 9.74619:  79%|███████▉  | 793/1000 [16:20<04:16,  1.24s/epoch] "
     ]
    },
    {
     "name": "stdout",
     "output_type": "stream",
     "text": [
      "epoch done! 793\n"
     ]
    },
    {
     "name": "stderr",
     "output_type": "stream",
     "text": [
      "Epoch 794 | mean loss: 9.90462:  79%|███████▉  | 794/1000 [16:22<04:15,  1.24s/epoch]"
     ]
    },
    {
     "name": "stdout",
     "output_type": "stream",
     "text": [
      "epoch done! 794\n"
     ]
    },
    {
     "name": "stderr",
     "output_type": "stream",
     "text": [
      "Epoch 795 | mean loss: 9.63107:  80%|███████▉  | 795/1000 [16:23<04:13,  1.24s/epoch]"
     ]
    },
    {
     "name": "stdout",
     "output_type": "stream",
     "text": [
      "epoch done! 795\n"
     ]
    },
    {
     "name": "stderr",
     "output_type": "stream",
     "text": [
      "Epoch 796 | mean loss: 10.27011:  80%|███████▉  | 796/1000 [16:24<04:12,  1.24s/epoch]"
     ]
    },
    {
     "name": "stdout",
     "output_type": "stream",
     "text": [
      "epoch done! 796\n"
     ]
    },
    {
     "name": "stderr",
     "output_type": "stream",
     "text": [
      "Epoch 797 | mean loss: 11.11794:  80%|███████▉  | 797/1000 [16:25<04:16,  1.26s/epoch]"
     ]
    },
    {
     "name": "stdout",
     "output_type": "stream",
     "text": [
      "epoch done! 797\n"
     ]
    },
    {
     "name": "stderr",
     "output_type": "stream",
     "text": [
      "Epoch 798 | mean loss: 10.09413:  80%|███████▉  | 798/1000 [16:27<04:14,  1.26s/epoch]"
     ]
    },
    {
     "name": "stdout",
     "output_type": "stream",
     "text": [
      "epoch done! 798\n"
     ]
    },
    {
     "name": "stderr",
     "output_type": "stream",
     "text": [
      "Epoch 799 | mean loss: 8.78921:  80%|███████▉  | 799/1000 [16:28<04:11,  1.25s/epoch] "
     ]
    },
    {
     "name": "stdout",
     "output_type": "stream",
     "text": [
      "epoch done! 799\n"
     ]
    },
    {
     "name": "stderr",
     "output_type": "stream",
     "text": [
      "Epoch 800 | mean loss: 8.36577:  80%|████████  | 800/1000 [16:29<04:09,  1.25s/epoch]"
     ]
    },
    {
     "name": "stdout",
     "output_type": "stream",
     "text": [
      "epoch done! 800\n"
     ]
    },
    {
     "name": "stderr",
     "output_type": "stream",
     "text": [
      "Epoch 801 | mean loss: 9.32189:  80%|████████  | 801/1000 [16:30<04:08,  1.25s/epoch]"
     ]
    },
    {
     "name": "stdout",
     "output_type": "stream",
     "text": [
      "epoch done! 801\n"
     ]
    },
    {
     "name": "stderr",
     "output_type": "stream",
     "text": [
      "Epoch 802 | mean loss: 9.77998:  80%|████████  | 802/1000 [16:32<04:07,  1.25s/epoch]"
     ]
    },
    {
     "name": "stdout",
     "output_type": "stream",
     "text": [
      "epoch done! 802\n"
     ]
    },
    {
     "name": "stderr",
     "output_type": "stream",
     "text": [
      "Epoch 803 | mean loss: 8.26329:  80%|████████  | 803/1000 [16:33<04:05,  1.25s/epoch]"
     ]
    },
    {
     "name": "stdout",
     "output_type": "stream",
     "text": [
      "epoch done! 803\n"
     ]
    },
    {
     "name": "stderr",
     "output_type": "stream",
     "text": [
      "Epoch 804 | mean loss: 9.12375:  80%|████████  | 804/1000 [16:34<04:07,  1.26s/epoch]"
     ]
    },
    {
     "name": "stdout",
     "output_type": "stream",
     "text": [
      "epoch done! 804\n"
     ]
    },
    {
     "name": "stderr",
     "output_type": "stream",
     "text": [
      "Epoch 805 | mean loss: 9.48485:  80%|████████  | 805/1000 [16:35<04:05,  1.26s/epoch]"
     ]
    },
    {
     "name": "stdout",
     "output_type": "stream",
     "text": [
      "epoch done! 805\n"
     ]
    },
    {
     "name": "stderr",
     "output_type": "stream",
     "text": [
      "Epoch 806 | mean loss: 9.62919:  81%|████████  | 806/1000 [16:37<04:03,  1.25s/epoch]"
     ]
    },
    {
     "name": "stdout",
     "output_type": "stream",
     "text": [
      "epoch done! 806\n"
     ]
    },
    {
     "name": "stderr",
     "output_type": "stream",
     "text": [
      "Epoch 807 | mean loss: 9.98884:  81%|████████  | 807/1000 [16:38<04:01,  1.25s/epoch]"
     ]
    },
    {
     "name": "stdout",
     "output_type": "stream",
     "text": [
      "epoch done! 807\n"
     ]
    },
    {
     "name": "stderr",
     "output_type": "stream",
     "text": [
      "Epoch 808 | mean loss: 9.55058:  81%|████████  | 808/1000 [16:39<03:59,  1.25s/epoch]"
     ]
    },
    {
     "name": "stdout",
     "output_type": "stream",
     "text": [
      "epoch done! 808\n"
     ]
    },
    {
     "name": "stderr",
     "output_type": "stream",
     "text": [
      "Epoch 809 | mean loss: 10.00533:  81%|████████  | 809/1000 [16:40<03:56,  1.24s/epoch]"
     ]
    },
    {
     "name": "stdout",
     "output_type": "stream",
     "text": [
      "epoch done! 809\n"
     ]
    },
    {
     "name": "stderr",
     "output_type": "stream",
     "text": [
      "Epoch 810 | mean loss: 10.23266:  81%|████████  | 810/1000 [16:42<03:55,  1.24s/epoch]"
     ]
    },
    {
     "name": "stdout",
     "output_type": "stream",
     "text": [
      "epoch done! 810\n"
     ]
    },
    {
     "name": "stderr",
     "output_type": "stream",
     "text": [
      "Epoch 811 | mean loss: 9.17686:  81%|████████  | 811/1000 [16:43<03:54,  1.24s/epoch] "
     ]
    },
    {
     "name": "stdout",
     "output_type": "stream",
     "text": [
      "epoch done! 811\n"
     ]
    },
    {
     "name": "stderr",
     "output_type": "stream",
     "text": [
      "Epoch 812 | mean loss: 8.92837:  81%|████████  | 812/1000 [16:44<03:58,  1.27s/epoch]"
     ]
    },
    {
     "name": "stdout",
     "output_type": "stream",
     "text": [
      "epoch done! 812\n"
     ]
    },
    {
     "name": "stderr",
     "output_type": "stream",
     "text": [
      "Epoch 813 | mean loss: 8.61163:  81%|████████▏ | 813/1000 [16:45<03:54,  1.25s/epoch]"
     ]
    },
    {
     "name": "stdout",
     "output_type": "stream",
     "text": [
      "epoch done! 813\n"
     ]
    },
    {
     "name": "stderr",
     "output_type": "stream",
     "text": [
      "Epoch 814 | mean loss: 9.10810:  81%|████████▏ | 814/1000 [16:47<03:51,  1.25s/epoch]"
     ]
    },
    {
     "name": "stdout",
     "output_type": "stream",
     "text": [
      "epoch done! 814\n"
     ]
    },
    {
     "name": "stderr",
     "output_type": "stream",
     "text": [
      "Epoch 815 | mean loss: 8.85557:  82%|████████▏ | 815/1000 [16:48<03:49,  1.24s/epoch]"
     ]
    },
    {
     "name": "stdout",
     "output_type": "stream",
     "text": [
      "epoch done! 815\n"
     ]
    },
    {
     "name": "stderr",
     "output_type": "stream",
     "text": [
      "Epoch 816 | mean loss: 8.70944:  82%|████████▏ | 816/1000 [16:49<03:48,  1.24s/epoch]"
     ]
    },
    {
     "name": "stdout",
     "output_type": "stream",
     "text": [
      "epoch done! 816\n"
     ]
    },
    {
     "name": "stderr",
     "output_type": "stream",
     "text": [
      "Epoch 817 | mean loss: 9.95738:  82%|████████▏ | 817/1000 [16:50<03:47,  1.24s/epoch]"
     ]
    },
    {
     "name": "stdout",
     "output_type": "stream",
     "text": [
      "epoch done! 817\n"
     ]
    },
    {
     "name": "stderr",
     "output_type": "stream",
     "text": [
      "Epoch 818 | mean loss: 8.82553:  82%|████████▏ | 818/1000 [16:52<03:47,  1.25s/epoch]"
     ]
    },
    {
     "name": "stdout",
     "output_type": "stream",
     "text": [
      "epoch done! 818\n"
     ]
    },
    {
     "name": "stderr",
     "output_type": "stream",
     "text": [
      "Epoch 819 | mean loss: 9.96171:  82%|████████▏ | 819/1000 [16:53<03:45,  1.25s/epoch]"
     ]
    },
    {
     "name": "stdout",
     "output_type": "stream",
     "text": [
      "epoch done! 819\n"
     ]
    },
    {
     "name": "stderr",
     "output_type": "stream",
     "text": [
      "Epoch 820 | mean loss: 9.94596:  82%|████████▏ | 820/1000 [16:54<03:48,  1.27s/epoch]"
     ]
    },
    {
     "name": "stdout",
     "output_type": "stream",
     "text": [
      "epoch done! 820\n"
     ]
    },
    {
     "name": "stderr",
     "output_type": "stream",
     "text": [
      "Epoch 821 | mean loss: 9.25733:  82%|████████▏ | 821/1000 [16:55<03:45,  1.26s/epoch]"
     ]
    },
    {
     "name": "stdout",
     "output_type": "stream",
     "text": [
      "epoch done! 821\n"
     ]
    },
    {
     "name": "stderr",
     "output_type": "stream",
     "text": [
      "Epoch 822 | mean loss: 10.48110:  82%|████████▏ | 822/1000 [16:57<03:43,  1.26s/epoch]"
     ]
    },
    {
     "name": "stdout",
     "output_type": "stream",
     "text": [
      "epoch done! 822\n"
     ]
    },
    {
     "name": "stderr",
     "output_type": "stream",
     "text": [
      "Epoch 823 | mean loss: 9.85778:  82%|████████▏ | 823/1000 [16:58<03:41,  1.25s/epoch] "
     ]
    },
    {
     "name": "stdout",
     "output_type": "stream",
     "text": [
      "epoch done! 823\n"
     ]
    },
    {
     "name": "stderr",
     "output_type": "stream",
     "text": [
      "Epoch 824 | mean loss: 8.82455:  82%|████████▏ | 824/1000 [16:59<03:39,  1.25s/epoch]"
     ]
    },
    {
     "name": "stdout",
     "output_type": "stream",
     "text": [
      "epoch done! 824\n"
     ]
    },
    {
     "name": "stderr",
     "output_type": "stream",
     "text": [
      "Epoch 825 | mean loss: 9.64902:  82%|████████▎ | 825/1000 [17:00<03:37,  1.24s/epoch]"
     ]
    },
    {
     "name": "stdout",
     "output_type": "stream",
     "text": [
      "epoch done! 825\n"
     ]
    },
    {
     "name": "stderr",
     "output_type": "stream",
     "text": [
      "Epoch 826 | mean loss: 7.98007:  83%|████████▎ | 826/1000 [17:02<03:35,  1.24s/epoch]"
     ]
    },
    {
     "name": "stdout",
     "output_type": "stream",
     "text": [
      "epoch done! 826\n"
     ]
    },
    {
     "name": "stderr",
     "output_type": "stream",
     "text": [
      "Epoch 827 | mean loss: 9.70892:  83%|████████▎ | 827/1000 [17:03<03:34,  1.24s/epoch]"
     ]
    },
    {
     "name": "stdout",
     "output_type": "stream",
     "text": [
      "epoch done! 827\n"
     ]
    },
    {
     "name": "stderr",
     "output_type": "stream",
     "text": [
      "Epoch 828 | mean loss: 9.45280:  83%|████████▎ | 828/1000 [17:04<03:37,  1.26s/epoch]"
     ]
    },
    {
     "name": "stdout",
     "output_type": "stream",
     "text": [
      "epoch done! 828\n"
     ]
    },
    {
     "name": "stderr",
     "output_type": "stream",
     "text": [
      "Epoch 829 | mean loss: 9.66461:  83%|████████▎ | 829/1000 [17:05<03:34,  1.26s/epoch]"
     ]
    },
    {
     "name": "stdout",
     "output_type": "stream",
     "text": [
      "epoch done! 829\n"
     ]
    },
    {
     "name": "stderr",
     "output_type": "stream",
     "text": [
      "Epoch 830 | mean loss: 8.83938:  83%|████████▎ | 830/1000 [17:07<03:33,  1.25s/epoch]"
     ]
    },
    {
     "name": "stdout",
     "output_type": "stream",
     "text": [
      "epoch done! 830\n"
     ]
    },
    {
     "name": "stderr",
     "output_type": "stream",
     "text": [
      "Epoch 831 | mean loss: 9.14810:  83%|████████▎ | 831/1000 [17:08<03:30,  1.25s/epoch]"
     ]
    },
    {
     "name": "stdout",
     "output_type": "stream",
     "text": [
      "epoch done! 831\n"
     ]
    },
    {
     "name": "stderr",
     "output_type": "stream",
     "text": [
      "Epoch 832 | mean loss: 9.98385:  83%|████████▎ | 832/1000 [17:09<03:28,  1.24s/epoch]"
     ]
    },
    {
     "name": "stdout",
     "output_type": "stream",
     "text": [
      "epoch done! 832\n"
     ]
    },
    {
     "name": "stderr",
     "output_type": "stream",
     "text": [
      "Epoch 833 | mean loss: 9.38427:  83%|████████▎ | 833/1000 [17:10<03:28,  1.25s/epoch]"
     ]
    },
    {
     "name": "stdout",
     "output_type": "stream",
     "text": [
      "epoch done! 833\n"
     ]
    },
    {
     "name": "stderr",
     "output_type": "stream",
     "text": [
      "Epoch 834 | mean loss: 8.48643:  83%|████████▎ | 834/1000 [17:12<03:25,  1.24s/epoch]"
     ]
    },
    {
     "name": "stdout",
     "output_type": "stream",
     "text": [
      "epoch done! 834\n"
     ]
    },
    {
     "name": "stderr",
     "output_type": "stream",
     "text": [
      "Epoch 835 | mean loss: 10.41077:  84%|████████▎ | 835/1000 [17:13<03:24,  1.24s/epoch]"
     ]
    },
    {
     "name": "stdout",
     "output_type": "stream",
     "text": [
      "epoch done! 835\n"
     ]
    },
    {
     "name": "stderr",
     "output_type": "stream",
     "text": [
      "Epoch 836 | mean loss: 9.40046:  84%|████████▎ | 836/1000 [17:14<03:23,  1.24s/epoch] "
     ]
    },
    {
     "name": "stdout",
     "output_type": "stream",
     "text": [
      "epoch done! 836\n"
     ]
    },
    {
     "name": "stderr",
     "output_type": "stream",
     "text": [
      "Epoch 837 | mean loss: 8.66651:  84%|████████▎ | 837/1000 [17:15<03:26,  1.27s/epoch]"
     ]
    },
    {
     "name": "stdout",
     "output_type": "stream",
     "text": [
      "epoch done! 837\n"
     ]
    },
    {
     "name": "stderr",
     "output_type": "stream",
     "text": [
      "Epoch 838 | mean loss: 8.68369:  84%|████████▍ | 838/1000 [17:17<03:24,  1.26s/epoch]"
     ]
    },
    {
     "name": "stdout",
     "output_type": "stream",
     "text": [
      "epoch done! 838\n"
     ]
    },
    {
     "name": "stderr",
     "output_type": "stream",
     "text": [
      "Epoch 839 | mean loss: 10.55028:  84%|████████▍ | 839/1000 [17:18<03:21,  1.25s/epoch]"
     ]
    },
    {
     "name": "stdout",
     "output_type": "stream",
     "text": [
      "epoch done! 839\n"
     ]
    },
    {
     "name": "stderr",
     "output_type": "stream",
     "text": [
      "Epoch 840 | mean loss: 9.01846:  84%|████████▍ | 840/1000 [17:19<03:19,  1.24s/epoch] "
     ]
    },
    {
     "name": "stdout",
     "output_type": "stream",
     "text": [
      "epoch done! 840\n"
     ]
    },
    {
     "name": "stderr",
     "output_type": "stream",
     "text": [
      "Epoch 841 | mean loss: 9.51871:  84%|████████▍ | 841/1000 [17:20<03:17,  1.24s/epoch]"
     ]
    },
    {
     "name": "stdout",
     "output_type": "stream",
     "text": [
      "epoch done! 841\n"
     ]
    },
    {
     "name": "stderr",
     "output_type": "stream",
     "text": [
      "Epoch 842 | mean loss: 8.19768:  84%|████████▍ | 842/1000 [17:21<03:15,  1.24s/epoch]"
     ]
    },
    {
     "name": "stdout",
     "output_type": "stream",
     "text": [
      "epoch done! 842\n"
     ]
    },
    {
     "name": "stderr",
     "output_type": "stream",
     "text": [
      "Epoch 843 | mean loss: 9.69085:  84%|████████▍ | 843/1000 [17:23<03:13,  1.23s/epoch]"
     ]
    },
    {
     "name": "stdout",
     "output_type": "stream",
     "text": [
      "epoch done! 843\n"
     ]
    },
    {
     "name": "stderr",
     "output_type": "stream",
     "text": [
      "Epoch 844 | mean loss: 10.00839:  84%|████████▍ | 844/1000 [17:24<03:12,  1.24s/epoch]"
     ]
    },
    {
     "name": "stdout",
     "output_type": "stream",
     "text": [
      "epoch done! 844\n"
     ]
    },
    {
     "name": "stderr",
     "output_type": "stream",
     "text": [
      "Epoch 845 | mean loss: 9.40115:  84%|████████▍ | 845/1000 [17:25<03:16,  1.27s/epoch] "
     ]
    },
    {
     "name": "stdout",
     "output_type": "stream",
     "text": [
      "epoch done! 845\n"
     ]
    },
    {
     "name": "stderr",
     "output_type": "stream",
     "text": [
      "Epoch 846 | mean loss: 8.88471:  85%|████████▍ | 846/1000 [17:27<03:13,  1.26s/epoch]"
     ]
    },
    {
     "name": "stdout",
     "output_type": "stream",
     "text": [
      "epoch done! 846\n"
     ]
    },
    {
     "name": "stderr",
     "output_type": "stream",
     "text": [
      "Epoch 847 | mean loss: 10.19503:  85%|████████▍ | 847/1000 [17:28<03:11,  1.25s/epoch]"
     ]
    },
    {
     "name": "stdout",
     "output_type": "stream",
     "text": [
      "epoch done! 847\n"
     ]
    },
    {
     "name": "stderr",
     "output_type": "stream",
     "text": [
      "Epoch 848 | mean loss: 9.52870:  85%|████████▍ | 848/1000 [17:29<03:09,  1.24s/epoch] "
     ]
    },
    {
     "name": "stdout",
     "output_type": "stream",
     "text": [
      "epoch done! 848\n"
     ]
    },
    {
     "name": "stderr",
     "output_type": "stream",
     "text": [
      "Epoch 849 | mean loss: 8.82957:  85%|████████▍ | 849/1000 [17:30<03:07,  1.24s/epoch]"
     ]
    },
    {
     "name": "stdout",
     "output_type": "stream",
     "text": [
      "epoch done! 849\n"
     ]
    },
    {
     "name": "stderr",
     "output_type": "stream",
     "text": [
      "Epoch 850 | mean loss: 7.86379:  85%|████████▌ | 850/1000 [17:31<03:06,  1.24s/epoch]"
     ]
    },
    {
     "name": "stdout",
     "output_type": "stream",
     "text": [
      "epoch done! 850\n"
     ]
    },
    {
     "name": "stderr",
     "output_type": "stream",
     "text": [
      "Epoch 851 | mean loss: 10.20177:  85%|████████▌ | 851/1000 [17:33<03:03,  1.23s/epoch]"
     ]
    },
    {
     "name": "stdout",
     "output_type": "stream",
     "text": [
      "epoch done! 851\n"
     ]
    },
    {
     "name": "stderr",
     "output_type": "stream",
     "text": [
      "Epoch 852 | mean loss: 10.47803:  85%|████████▌ | 852/1000 [17:34<03:02,  1.24s/epoch]"
     ]
    },
    {
     "name": "stdout",
     "output_type": "stream",
     "text": [
      "epoch done! 852\n"
     ]
    },
    {
     "name": "stderr",
     "output_type": "stream",
     "text": [
      "Epoch 853 | mean loss: 9.04024:  85%|████████▌ | 853/1000 [17:35<03:05,  1.26s/epoch] "
     ]
    },
    {
     "name": "stdout",
     "output_type": "stream",
     "text": [
      "epoch done! 853\n"
     ]
    },
    {
     "name": "stderr",
     "output_type": "stream",
     "text": [
      "Epoch 854 | mean loss: 9.07307:  85%|████████▌ | 854/1000 [17:36<03:03,  1.26s/epoch]"
     ]
    },
    {
     "name": "stdout",
     "output_type": "stream",
     "text": [
      "epoch done! 854\n"
     ]
    },
    {
     "name": "stderr",
     "output_type": "stream",
     "text": [
      "Epoch 855 | mean loss: 9.38408:  86%|████████▌ | 855/1000 [17:38<03:00,  1.25s/epoch]"
     ]
    },
    {
     "name": "stdout",
     "output_type": "stream",
     "text": [
      "epoch done! 855\n"
     ]
    },
    {
     "name": "stderr",
     "output_type": "stream",
     "text": [
      "Epoch 856 | mean loss: 8.61485:  86%|████████▌ | 856/1000 [17:39<02:59,  1.25s/epoch]"
     ]
    },
    {
     "name": "stdout",
     "output_type": "stream",
     "text": [
      "epoch done! 856\n"
     ]
    },
    {
     "name": "stderr",
     "output_type": "stream",
     "text": [
      "Epoch 857 | mean loss: 7.80899:  86%|████████▌ | 857/1000 [17:40<02:57,  1.24s/epoch]"
     ]
    },
    {
     "name": "stdout",
     "output_type": "stream",
     "text": [
      "epoch done! 857\n"
     ]
    },
    {
     "name": "stderr",
     "output_type": "stream",
     "text": [
      "Epoch 858 | mean loss: 9.55824:  86%|████████▌ | 858/1000 [17:41<02:57,  1.25s/epoch]"
     ]
    },
    {
     "name": "stdout",
     "output_type": "stream",
     "text": [
      "epoch done! 858\n"
     ]
    },
    {
     "name": "stderr",
     "output_type": "stream",
     "text": [
      "Epoch 859 | mean loss: 8.44096:  86%|████████▌ | 859/1000 [17:43<02:55,  1.25s/epoch]"
     ]
    },
    {
     "name": "stdout",
     "output_type": "stream",
     "text": [
      "epoch done! 859\n"
     ]
    },
    {
     "name": "stderr",
     "output_type": "stream",
     "text": [
      "Epoch 860 | mean loss: 10.42418:  86%|████████▌ | 860/1000 [17:44<02:54,  1.25s/epoch]"
     ]
    },
    {
     "name": "stdout",
     "output_type": "stream",
     "text": [
      "epoch done! 860\n"
     ]
    },
    {
     "name": "stderr",
     "output_type": "stream",
     "text": [
      "Epoch 861 | mean loss: 10.36768:  86%|████████▌ | 861/1000 [17:45<02:57,  1.28s/epoch]"
     ]
    },
    {
     "name": "stdout",
     "output_type": "stream",
     "text": [
      "epoch done! 861\n"
     ]
    },
    {
     "name": "stderr",
     "output_type": "stream",
     "text": [
      "Epoch 862 | mean loss: 10.22583:  86%|████████▌ | 862/1000 [17:47<02:53,  1.26s/epoch]"
     ]
    },
    {
     "name": "stdout",
     "output_type": "stream",
     "text": [
      "epoch done! 862\n"
     ]
    },
    {
     "name": "stderr",
     "output_type": "stream",
     "text": [
      "Epoch 863 | mean loss: 9.70342:  86%|████████▋ | 863/1000 [17:48<02:51,  1.25s/epoch] "
     ]
    },
    {
     "name": "stdout",
     "output_type": "stream",
     "text": [
      "epoch done! 863\n"
     ]
    },
    {
     "name": "stderr",
     "output_type": "stream",
     "text": [
      "Epoch 864 | mean loss: 7.83905:  86%|████████▋ | 864/1000 [17:49<02:50,  1.25s/epoch]"
     ]
    },
    {
     "name": "stdout",
     "output_type": "stream",
     "text": [
      "epoch done! 864\n"
     ]
    },
    {
     "name": "stderr",
     "output_type": "stream",
     "text": [
      "Epoch 865 | mean loss: 7.65928:  86%|████████▋ | 865/1000 [17:50<02:48,  1.25s/epoch]"
     ]
    },
    {
     "name": "stdout",
     "output_type": "stream",
     "text": [
      "epoch done! 865\n"
     ]
    },
    {
     "name": "stderr",
     "output_type": "stream",
     "text": [
      "Epoch 866 | mean loss: 8.47719:  87%|████████▋ | 866/1000 [17:51<02:47,  1.25s/epoch]"
     ]
    },
    {
     "name": "stdout",
     "output_type": "stream",
     "text": [
      "epoch done! 866\n"
     ]
    },
    {
     "name": "stderr",
     "output_type": "stream",
     "text": [
      "Epoch 867 | mean loss: 10.17453:  87%|████████▋ | 867/1000 [17:53<02:45,  1.24s/epoch]"
     ]
    },
    {
     "name": "stdout",
     "output_type": "stream",
     "text": [
      "epoch done! 867\n"
     ]
    },
    {
     "name": "stderr",
     "output_type": "stream",
     "text": [
      "Epoch 868 | mean loss: 9.40600:  87%|████████▋ | 868/1000 [17:54<02:43,  1.24s/epoch] "
     ]
    },
    {
     "name": "stdout",
     "output_type": "stream",
     "text": [
      "epoch done! 868\n"
     ]
    },
    {
     "name": "stderr",
     "output_type": "stream",
     "text": [
      "Epoch 869 | mean loss: 8.93666:  87%|████████▋ | 869/1000 [17:55<02:46,  1.27s/epoch]"
     ]
    },
    {
     "name": "stdout",
     "output_type": "stream",
     "text": [
      "epoch done! 869\n"
     ]
    },
    {
     "name": "stderr",
     "output_type": "stream",
     "text": [
      "Epoch 870 | mean loss: 9.12268:  87%|████████▋ | 870/1000 [17:57<02:44,  1.26s/epoch]"
     ]
    },
    {
     "name": "stdout",
     "output_type": "stream",
     "text": [
      "epoch done! 870\n"
     ]
    },
    {
     "name": "stderr",
     "output_type": "stream",
     "text": [
      "Epoch 871 | mean loss: 9.19614:  87%|████████▋ | 871/1000 [17:58<02:41,  1.25s/epoch]"
     ]
    },
    {
     "name": "stdout",
     "output_type": "stream",
     "text": [
      "epoch done! 871\n"
     ]
    },
    {
     "name": "stderr",
     "output_type": "stream",
     "text": [
      "Epoch 872 | mean loss: 9.64906:  87%|████████▋ | 872/1000 [17:59<02:39,  1.25s/epoch]"
     ]
    },
    {
     "name": "stdout",
     "output_type": "stream",
     "text": [
      "epoch done! 872\n"
     ]
    },
    {
     "name": "stderr",
     "output_type": "stream",
     "text": [
      "Epoch 873 | mean loss: 10.56206:  87%|████████▋ | 873/1000 [18:00<02:38,  1.24s/epoch]"
     ]
    },
    {
     "name": "stdout",
     "output_type": "stream",
     "text": [
      "epoch done! 873\n"
     ]
    },
    {
     "name": "stderr",
     "output_type": "stream",
     "text": [
      "Epoch 874 | mean loss: 9.35854:  87%|████████▋ | 874/1000 [18:01<02:35,  1.24s/epoch] "
     ]
    },
    {
     "name": "stdout",
     "output_type": "stream",
     "text": [
      "epoch done! 874\n"
     ]
    },
    {
     "name": "stderr",
     "output_type": "stream",
     "text": [
      "Epoch 875 | mean loss: 9.42452:  88%|████████▊ | 875/1000 [18:03<02:34,  1.24s/epoch]"
     ]
    },
    {
     "name": "stdout",
     "output_type": "stream",
     "text": [
      "epoch done! 875\n"
     ]
    },
    {
     "name": "stderr",
     "output_type": "stream",
     "text": [
      "Epoch 876 | mean loss: 10.13894:  88%|████████▊ | 876/1000 [18:04<02:33,  1.24s/epoch]"
     ]
    },
    {
     "name": "stdout",
     "output_type": "stream",
     "text": [
      "epoch done! 876\n"
     ]
    },
    {
     "name": "stderr",
     "output_type": "stream",
     "text": [
      "Epoch 877 | mean loss: 9.03659:  88%|████████▊ | 877/1000 [18:05<02:32,  1.24s/epoch] "
     ]
    },
    {
     "name": "stdout",
     "output_type": "stream",
     "text": [
      "epoch done! 877\n"
     ]
    },
    {
     "name": "stderr",
     "output_type": "stream",
     "text": [
      "Epoch 878 | mean loss: 8.80306:  88%|████████▊ | 878/1000 [18:07<02:34,  1.26s/epoch]"
     ]
    },
    {
     "name": "stdout",
     "output_type": "stream",
     "text": [
      "epoch done! 878\n"
     ]
    },
    {
     "name": "stderr",
     "output_type": "stream",
     "text": [
      "Epoch 879 | mean loss: 7.66132:  88%|████████▊ | 879/1000 [18:08<02:31,  1.25s/epoch]"
     ]
    },
    {
     "name": "stdout",
     "output_type": "stream",
     "text": [
      "epoch done! 879\n"
     ]
    },
    {
     "name": "stderr",
     "output_type": "stream",
     "text": [
      "Epoch 880 | mean loss: 7.87498:  88%|████████▊ | 880/1000 [18:09<02:29,  1.25s/epoch]"
     ]
    },
    {
     "name": "stdout",
     "output_type": "stream",
     "text": [
      "epoch done! 880\n"
     ]
    },
    {
     "name": "stderr",
     "output_type": "stream",
     "text": [
      "Epoch 881 | mean loss: 9.29051:  88%|████████▊ | 881/1000 [18:10<02:27,  1.24s/epoch]"
     ]
    },
    {
     "name": "stdout",
     "output_type": "stream",
     "text": [
      "epoch done! 881\n"
     ]
    },
    {
     "name": "stderr",
     "output_type": "stream",
     "text": [
      "Epoch 882 | mean loss: 9.73581:  88%|████████▊ | 882/1000 [18:11<02:26,  1.24s/epoch]"
     ]
    },
    {
     "name": "stdout",
     "output_type": "stream",
     "text": [
      "epoch done! 882\n"
     ]
    },
    {
     "name": "stderr",
     "output_type": "stream",
     "text": [
      "Epoch 883 | mean loss: 9.52991:  88%|████████▊ | 883/1000 [18:13<02:23,  1.23s/epoch]"
     ]
    },
    {
     "name": "stdout",
     "output_type": "stream",
     "text": [
      "epoch done! 883\n"
     ]
    },
    {
     "name": "stderr",
     "output_type": "stream",
     "text": [
      "Epoch 884 | mean loss: 9.75301:  88%|████████▊ | 884/1000 [18:14<02:22,  1.23s/epoch]"
     ]
    },
    {
     "name": "stdout",
     "output_type": "stream",
     "text": [
      "epoch done! 884\n"
     ]
    },
    {
     "name": "stderr",
     "output_type": "stream",
     "text": [
      "Epoch 885 | mean loss: 10.29272:  88%|████████▊ | 885/1000 [18:15<02:21,  1.23s/epoch]"
     ]
    },
    {
     "name": "stdout",
     "output_type": "stream",
     "text": [
      "epoch done! 885\n"
     ]
    },
    {
     "name": "stderr",
     "output_type": "stream",
     "text": [
      "Epoch 886 | mean loss: 8.76182:  89%|████████▊ | 886/1000 [18:16<02:20,  1.24s/epoch] "
     ]
    },
    {
     "name": "stdout",
     "output_type": "stream",
     "text": [
      "epoch done! 886\n"
     ]
    },
    {
     "name": "stderr",
     "output_type": "stream",
     "text": [
      "Epoch 887 | mean loss: 8.49891:  89%|████████▊ | 887/1000 [18:18<02:23,  1.27s/epoch]"
     ]
    },
    {
     "name": "stdout",
     "output_type": "stream",
     "text": [
      "epoch done! 887\n"
     ]
    },
    {
     "name": "stderr",
     "output_type": "stream",
     "text": [
      "Epoch 888 | mean loss: 8.84867:  89%|████████▉ | 888/1000 [18:19<02:21,  1.26s/epoch]"
     ]
    },
    {
     "name": "stdout",
     "output_type": "stream",
     "text": [
      "epoch done! 888\n"
     ]
    },
    {
     "name": "stderr",
     "output_type": "stream",
     "text": [
      "Epoch 889 | mean loss: 9.18587:  89%|████████▉ | 889/1000 [18:20<02:19,  1.26s/epoch]"
     ]
    },
    {
     "name": "stdout",
     "output_type": "stream",
     "text": [
      "epoch done! 889\n"
     ]
    },
    {
     "name": "stderr",
     "output_type": "stream",
     "text": [
      "Epoch 890 | mean loss: 8.72841:  89%|████████▉ | 890/1000 [18:21<02:17,  1.25s/epoch]"
     ]
    },
    {
     "name": "stdout",
     "output_type": "stream",
     "text": [
      "epoch done! 890\n"
     ]
    },
    {
     "name": "stderr",
     "output_type": "stream",
     "text": [
      "Epoch 891 | mean loss: 9.42442:  89%|████████▉ | 891/1000 [18:23<02:15,  1.25s/epoch]"
     ]
    },
    {
     "name": "stdout",
     "output_type": "stream",
     "text": [
      "epoch done! 891\n"
     ]
    },
    {
     "name": "stderr",
     "output_type": "stream",
     "text": [
      "Epoch 892 | mean loss: 8.63217:  89%|████████▉ | 892/1000 [18:24<02:14,  1.24s/epoch]"
     ]
    },
    {
     "name": "stdout",
     "output_type": "stream",
     "text": [
      "epoch done! 892\n"
     ]
    },
    {
     "name": "stderr",
     "output_type": "stream",
     "text": [
      "Epoch 893 | mean loss: 8.79279:  89%|████████▉ | 893/1000 [18:25<02:13,  1.24s/epoch]"
     ]
    },
    {
     "name": "stdout",
     "output_type": "stream",
     "text": [
      "epoch done! 893\n"
     ]
    },
    {
     "name": "stderr",
     "output_type": "stream",
     "text": [
      "Epoch 894 | mean loss: 8.80299:  89%|████████▉ | 894/1000 [18:26<02:14,  1.27s/epoch]"
     ]
    },
    {
     "name": "stdout",
     "output_type": "stream",
     "text": [
      "epoch done! 894\n"
     ]
    },
    {
     "name": "stderr",
     "output_type": "stream",
     "text": [
      "Epoch 895 | mean loss: 9.59010:  90%|████████▉ | 895/1000 [18:28<02:12,  1.26s/epoch]"
     ]
    },
    {
     "name": "stdout",
     "output_type": "stream",
     "text": [
      "epoch done! 895\n"
     ]
    },
    {
     "name": "stderr",
     "output_type": "stream",
     "text": [
      "Epoch 896 | mean loss: 8.81089:  90%|████████▉ | 896/1000 [18:29<02:10,  1.25s/epoch]"
     ]
    },
    {
     "name": "stdout",
     "output_type": "stream",
     "text": [
      "epoch done! 896\n"
     ]
    },
    {
     "name": "stderr",
     "output_type": "stream",
     "text": [
      "Epoch 897 | mean loss: 7.91985:  90%|████████▉ | 897/1000 [18:30<02:08,  1.25s/epoch]"
     ]
    },
    {
     "name": "stdout",
     "output_type": "stream",
     "text": [
      "epoch done! 897\n"
     ]
    },
    {
     "name": "stderr",
     "output_type": "stream",
     "text": [
      "Epoch 898 | mean loss: 9.09725:  90%|████████▉ | 898/1000 [18:31<02:07,  1.25s/epoch]"
     ]
    },
    {
     "name": "stdout",
     "output_type": "stream",
     "text": [
      "epoch done! 898\n"
     ]
    },
    {
     "name": "stderr",
     "output_type": "stream",
     "text": [
      "Epoch 899 | mean loss: 8.67184:  90%|████████▉ | 899/1000 [18:33<02:05,  1.25s/epoch]"
     ]
    },
    {
     "name": "stdout",
     "output_type": "stream",
     "text": [
      "epoch done! 899\n"
     ]
    },
    {
     "name": "stderr",
     "output_type": "stream",
     "text": [
      "Epoch 900 | mean loss: 8.59368:  90%|█████████ | 900/1000 [18:34<02:04,  1.24s/epoch]"
     ]
    },
    {
     "name": "stdout",
     "output_type": "stream",
     "text": [
      "epoch done! 900\n"
     ]
    },
    {
     "name": "stderr",
     "output_type": "stream",
     "text": [
      "Epoch 901 | mean loss: 8.32699:  90%|█████████ | 901/1000 [18:35<02:02,  1.24s/epoch]"
     ]
    },
    {
     "name": "stdout",
     "output_type": "stream",
     "text": [
      "epoch done! 901\n"
     ]
    },
    {
     "name": "stderr",
     "output_type": "stream",
     "text": [
      "Epoch 902 | mean loss: 8.80727:  90%|█████████ | 902/1000 [18:37<02:04,  1.27s/epoch]"
     ]
    },
    {
     "name": "stdout",
     "output_type": "stream",
     "text": [
      "epoch done! 902\n"
     ]
    },
    {
     "name": "stderr",
     "output_type": "stream",
     "text": [
      "Epoch 903 | mean loss: 8.28559:  90%|█████████ | 903/1000 [18:38<02:02,  1.26s/epoch]"
     ]
    },
    {
     "name": "stdout",
     "output_type": "stream",
     "text": [
      "epoch done! 903\n"
     ]
    },
    {
     "name": "stderr",
     "output_type": "stream",
     "text": [
      "Epoch 904 | mean loss: 9.22884:  90%|█████████ | 904/1000 [18:39<02:00,  1.26s/epoch]"
     ]
    },
    {
     "name": "stdout",
     "output_type": "stream",
     "text": [
      "epoch done! 904\n"
     ]
    },
    {
     "name": "stderr",
     "output_type": "stream",
     "text": [
      "Epoch 905 | mean loss: 9.43830:  90%|█████████ | 905/1000 [18:40<01:58,  1.25s/epoch]"
     ]
    },
    {
     "name": "stdout",
     "output_type": "stream",
     "text": [
      "epoch done! 905\n"
     ]
    },
    {
     "name": "stderr",
     "output_type": "stream",
     "text": [
      "Epoch 906 | mean loss: 8.47280:  91%|█████████ | 906/1000 [18:41<01:57,  1.25s/epoch]"
     ]
    },
    {
     "name": "stdout",
     "output_type": "stream",
     "text": [
      "epoch done! 906\n"
     ]
    },
    {
     "name": "stderr",
     "output_type": "stream",
     "text": [
      "Epoch 907 | mean loss: 9.73013:  91%|█████████ | 907/1000 [18:43<01:55,  1.25s/epoch]"
     ]
    },
    {
     "name": "stdout",
     "output_type": "stream",
     "text": [
      "epoch done! 907\n"
     ]
    },
    {
     "name": "stderr",
     "output_type": "stream",
     "text": [
      "Epoch 908 | mean loss: 8.40113:  91%|█████████ | 908/1000 [18:44<01:54,  1.24s/epoch]"
     ]
    },
    {
     "name": "stdout",
     "output_type": "stream",
     "text": [
      "epoch done! 908\n"
     ]
    },
    {
     "name": "stderr",
     "output_type": "stream",
     "text": [
      "Epoch 909 | mean loss: 8.18286:  91%|█████████ | 909/1000 [18:45<01:53,  1.24s/epoch]"
     ]
    },
    {
     "name": "stdout",
     "output_type": "stream",
     "text": [
      "epoch done! 909\n"
     ]
    },
    {
     "name": "stderr",
     "output_type": "stream",
     "text": [
      "Epoch 910 | mean loss: 8.91455:  91%|█████████ | 910/1000 [18:47<01:55,  1.28s/epoch]"
     ]
    },
    {
     "name": "stdout",
     "output_type": "stream",
     "text": [
      "epoch done! 910\n"
     ]
    },
    {
     "name": "stderr",
     "output_type": "stream",
     "text": [
      "Epoch 911 | mean loss: 9.14029:  91%|█████████ | 911/1000 [18:48<01:52,  1.27s/epoch]"
     ]
    },
    {
     "name": "stdout",
     "output_type": "stream",
     "text": [
      "epoch done! 911\n"
     ]
    },
    {
     "name": "stderr",
     "output_type": "stream",
     "text": [
      "Epoch 912 | mean loss: 9.26271:  91%|█████████ | 912/1000 [18:49<01:50,  1.26s/epoch]"
     ]
    },
    {
     "name": "stdout",
     "output_type": "stream",
     "text": [
      "epoch done! 912\n"
     ]
    },
    {
     "name": "stderr",
     "output_type": "stream",
     "text": [
      "Epoch 913 | mean loss: 8.11106:  91%|█████████▏| 913/1000 [18:50<01:48,  1.25s/epoch]"
     ]
    },
    {
     "name": "stdout",
     "output_type": "stream",
     "text": [
      "epoch done! 913\n"
     ]
    },
    {
     "name": "stderr",
     "output_type": "stream",
     "text": [
      "Epoch 914 | mean loss: 8.58144:  91%|█████████▏| 914/1000 [18:51<01:47,  1.25s/epoch]"
     ]
    },
    {
     "name": "stdout",
     "output_type": "stream",
     "text": [
      "epoch done! 914\n"
     ]
    },
    {
     "name": "stderr",
     "output_type": "stream",
     "text": [
      "Epoch 915 | mean loss: 9.19343:  92%|█████████▏| 915/1000 [18:53<01:45,  1.24s/epoch]"
     ]
    },
    {
     "name": "stdout",
     "output_type": "stream",
     "text": [
      "epoch done! 915\n"
     ]
    },
    {
     "name": "stderr",
     "output_type": "stream",
     "text": [
      "Epoch 916 | mean loss: 8.68642:  92%|█████████▏| 916/1000 [18:54<01:47,  1.28s/epoch]"
     ]
    },
    {
     "name": "stdout",
     "output_type": "stream",
     "text": [
      "epoch done! 916\n"
     ]
    },
    {
     "name": "stderr",
     "output_type": "stream",
     "text": [
      "Epoch 917 | mean loss: 8.89070:  92%|█████████▏| 917/1000 [18:55<01:45,  1.27s/epoch]"
     ]
    },
    {
     "name": "stdout",
     "output_type": "stream",
     "text": [
      "epoch done! 917\n"
     ]
    },
    {
     "name": "stderr",
     "output_type": "stream",
     "text": [
      "Epoch 918 | mean loss: 8.17567:  92%|█████████▏| 918/1000 [18:57<01:43,  1.26s/epoch]"
     ]
    },
    {
     "name": "stdout",
     "output_type": "stream",
     "text": [
      "epoch done! 918\n"
     ]
    },
    {
     "name": "stderr",
     "output_type": "stream",
     "text": [
      "Epoch 919 | mean loss: 8.58674:  92%|█████████▏| 919/1000 [18:58<01:42,  1.26s/epoch]"
     ]
    },
    {
     "name": "stdout",
     "output_type": "stream",
     "text": [
      "epoch done! 919\n"
     ]
    },
    {
     "name": "stderr",
     "output_type": "stream",
     "text": [
      "Epoch 920 | mean loss: 8.75650:  92%|█████████▏| 920/1000 [18:59<01:40,  1.25s/epoch]"
     ]
    },
    {
     "name": "stdout",
     "output_type": "stream",
     "text": [
      "epoch done! 920\n"
     ]
    },
    {
     "name": "stderr",
     "output_type": "stream",
     "text": [
      "Epoch 921 | mean loss: 9.53726:  92%|█████████▏| 921/1000 [19:00<01:38,  1.25s/epoch]"
     ]
    },
    {
     "name": "stdout",
     "output_type": "stream",
     "text": [
      "epoch done! 921\n"
     ]
    },
    {
     "name": "stderr",
     "output_type": "stream",
     "text": [
      "Epoch 922 | mean loss: 9.15118:  92%|█████████▏| 922/1000 [19:02<01:36,  1.24s/epoch]"
     ]
    },
    {
     "name": "stdout",
     "output_type": "stream",
     "text": [
      "epoch done! 922\n"
     ]
    },
    {
     "name": "stderr",
     "output_type": "stream",
     "text": [
      "Epoch 923 | mean loss: 8.77975:  92%|█████████▏| 923/1000 [19:03<01:35,  1.24s/epoch]"
     ]
    },
    {
     "name": "stdout",
     "output_type": "stream",
     "text": [
      "epoch done! 923\n"
     ]
    },
    {
     "name": "stderr",
     "output_type": "stream",
     "text": [
      "Epoch 924 | mean loss: 8.28580:  92%|█████████▏| 924/1000 [19:04<01:36,  1.27s/epoch]"
     ]
    },
    {
     "name": "stdout",
     "output_type": "stream",
     "text": [
      "epoch done! 924\n"
     ]
    },
    {
     "name": "stderr",
     "output_type": "stream",
     "text": [
      "Epoch 925 | mean loss: 8.99593:  92%|█████████▎| 925/1000 [19:05<01:34,  1.26s/epoch]"
     ]
    },
    {
     "name": "stdout",
     "output_type": "stream",
     "text": [
      "epoch done! 925\n"
     ]
    },
    {
     "name": "stderr",
     "output_type": "stream",
     "text": [
      "Epoch 926 | mean loss: 9.48717:  93%|█████████▎| 926/1000 [19:07<01:32,  1.25s/epoch]"
     ]
    },
    {
     "name": "stdout",
     "output_type": "stream",
     "text": [
      "epoch done! 926\n"
     ]
    },
    {
     "name": "stderr",
     "output_type": "stream",
     "text": [
      "Epoch 927 | mean loss: 10.25180:  93%|█████████▎| 927/1000 [19:08<01:31,  1.25s/epoch]"
     ]
    },
    {
     "name": "stdout",
     "output_type": "stream",
     "text": [
      "epoch done! 927\n"
     ]
    },
    {
     "name": "stderr",
     "output_type": "stream",
     "text": [
      "Epoch 928 | mean loss: 8.68652:  93%|█████████▎| 928/1000 [19:09<01:29,  1.25s/epoch] "
     ]
    },
    {
     "name": "stdout",
     "output_type": "stream",
     "text": [
      "epoch done! 928\n"
     ]
    },
    {
     "name": "stderr",
     "output_type": "stream",
     "text": [
      "Epoch 929 | mean loss: 8.28566:  93%|█████████▎| 929/1000 [19:10<01:28,  1.24s/epoch]"
     ]
    },
    {
     "name": "stdout",
     "output_type": "stream",
     "text": [
      "epoch done! 929\n"
     ]
    },
    {
     "name": "stderr",
     "output_type": "stream",
     "text": [
      "Epoch 930 | mean loss: 9.04123:  93%|█████████▎| 930/1000 [19:12<01:26,  1.24s/epoch]"
     ]
    },
    {
     "name": "stdout",
     "output_type": "stream",
     "text": [
      "epoch done! 930\n"
     ]
    },
    {
     "name": "stderr",
     "output_type": "stream",
     "text": [
      "Epoch 931 | mean loss: 9.67246:  93%|█████████▎| 931/1000 [19:13<01:25,  1.24s/epoch]"
     ]
    },
    {
     "name": "stdout",
     "output_type": "stream",
     "text": [
      "epoch done! 931\n"
     ]
    },
    {
     "name": "stderr",
     "output_type": "stream",
     "text": [
      "Epoch 932 | mean loss: 9.46223:  93%|█████████▎| 932/1000 [19:14<01:24,  1.24s/epoch]"
     ]
    },
    {
     "name": "stdout",
     "output_type": "stream",
     "text": [
      "epoch done! 932\n"
     ]
    },
    {
     "name": "stderr",
     "output_type": "stream",
     "text": [
      "Epoch 933 | mean loss: 9.46576:  93%|█████████▎| 933/1000 [19:15<01:25,  1.27s/epoch]"
     ]
    },
    {
     "name": "stdout",
     "output_type": "stream",
     "text": [
      "epoch done! 933\n"
     ]
    },
    {
     "name": "stderr",
     "output_type": "stream",
     "text": [
      "Epoch 934 | mean loss: 8.39327:  93%|█████████▎| 934/1000 [19:17<01:23,  1.26s/epoch]"
     ]
    },
    {
     "name": "stdout",
     "output_type": "stream",
     "text": [
      "epoch done! 934\n"
     ]
    },
    {
     "name": "stderr",
     "output_type": "stream",
     "text": [
      "Epoch 935 | mean loss: 8.36207:  94%|█████████▎| 935/1000 [19:18<01:21,  1.26s/epoch]"
     ]
    },
    {
     "name": "stdout",
     "output_type": "stream",
     "text": [
      "epoch done! 935\n"
     ]
    },
    {
     "name": "stderr",
     "output_type": "stream",
     "text": [
      "Epoch 936 | mean loss: 9.06359:  94%|█████████▎| 936/1000 [19:19<01:20,  1.25s/epoch]"
     ]
    },
    {
     "name": "stdout",
     "output_type": "stream",
     "text": [
      "epoch done! 936\n"
     ]
    },
    {
     "name": "stderr",
     "output_type": "stream",
     "text": [
      "Epoch 937 | mean loss: 8.29933:  94%|█████████▎| 937/1000 [19:20<01:18,  1.25s/epoch]"
     ]
    },
    {
     "name": "stdout",
     "output_type": "stream",
     "text": [
      "epoch done! 937\n"
     ]
    },
    {
     "name": "stderr",
     "output_type": "stream",
     "text": [
      "Epoch 938 | mean loss: 7.80638:  94%|█████████▍| 938/1000 [19:22<01:17,  1.24s/epoch]"
     ]
    },
    {
     "name": "stdout",
     "output_type": "stream",
     "text": [
      "epoch done! 938\n"
     ]
    },
    {
     "name": "stderr",
     "output_type": "stream",
     "text": [
      "Epoch 939 | mean loss: 9.20906:  94%|█████████▍| 939/1000 [19:23<01:15,  1.24s/epoch]"
     ]
    },
    {
     "name": "stdout",
     "output_type": "stream",
     "text": [
      "epoch done! 939\n"
     ]
    },
    {
     "name": "stderr",
     "output_type": "stream",
     "text": [
      "Epoch 940 | mean loss: 8.02199:  94%|█████████▍| 940/1000 [19:24<01:14,  1.24s/epoch]"
     ]
    },
    {
     "name": "stdout",
     "output_type": "stream",
     "text": [
      "epoch done! 940\n"
     ]
    },
    {
     "name": "stderr",
     "output_type": "stream",
     "text": [
      "Epoch 941 | mean loss: 9.51348:  94%|█████████▍| 941/1000 [19:25<01:14,  1.27s/epoch]"
     ]
    },
    {
     "name": "stdout",
     "output_type": "stream",
     "text": [
      "epoch done! 941\n"
     ]
    },
    {
     "name": "stderr",
     "output_type": "stream",
     "text": [
      "Epoch 942 | mean loss: 9.04058:  94%|█████████▍| 942/1000 [19:27<01:13,  1.26s/epoch]"
     ]
    },
    {
     "name": "stdout",
     "output_type": "stream",
     "text": [
      "epoch done! 942\n"
     ]
    },
    {
     "name": "stderr",
     "output_type": "stream",
     "text": [
      "Epoch 943 | mean loss: 9.18152:  94%|█████████▍| 943/1000 [19:28<01:11,  1.26s/epoch]"
     ]
    },
    {
     "name": "stdout",
     "output_type": "stream",
     "text": [
      "epoch done! 943\n"
     ]
    },
    {
     "name": "stderr",
     "output_type": "stream",
     "text": [
      "Epoch 944 | mean loss: 9.13888:  94%|█████████▍| 944/1000 [19:29<01:09,  1.25s/epoch]"
     ]
    },
    {
     "name": "stdout",
     "output_type": "stream",
     "text": [
      "epoch done! 944\n"
     ]
    },
    {
     "name": "stderr",
     "output_type": "stream",
     "text": [
      "Epoch 945 | mean loss: 9.91535:  94%|█████████▍| 945/1000 [19:30<01:08,  1.25s/epoch]"
     ]
    },
    {
     "name": "stdout",
     "output_type": "stream",
     "text": [
      "epoch done! 945\n"
     ]
    },
    {
     "name": "stderr",
     "output_type": "stream",
     "text": [
      "Epoch 946 | mean loss: 7.36343:  95%|█████████▍| 946/1000 [19:32<01:07,  1.25s/epoch]"
     ]
    },
    {
     "name": "stdout",
     "output_type": "stream",
     "text": [
      "epoch done! 946\n"
     ]
    },
    {
     "name": "stderr",
     "output_type": "stream",
     "text": [
      "Epoch 947 | mean loss: 8.20447:  95%|█████████▍| 947/1000 [19:33<01:06,  1.25s/epoch]"
     ]
    },
    {
     "name": "stdout",
     "output_type": "stream",
     "text": [
      "epoch done! 947\n"
     ]
    },
    {
     "name": "stderr",
     "output_type": "stream",
     "text": [
      "Epoch 948 | mean loss: 7.64718:  95%|█████████▍| 948/1000 [19:34<01:04,  1.24s/epoch]"
     ]
    },
    {
     "name": "stdout",
     "output_type": "stream",
     "text": [
      "epoch done! 948\n"
     ]
    },
    {
     "name": "stderr",
     "output_type": "stream",
     "text": [
      "Epoch 949 | mean loss: 8.56082:  95%|█████████▍| 949/1000 [19:35<01:04,  1.27s/epoch]"
     ]
    },
    {
     "name": "stdout",
     "output_type": "stream",
     "text": [
      "epoch done! 949\n"
     ]
    },
    {
     "name": "stderr",
     "output_type": "stream",
     "text": [
      "Epoch 950 | mean loss: 7.47079:  95%|█████████▌| 950/1000 [19:37<01:03,  1.26s/epoch]"
     ]
    },
    {
     "name": "stdout",
     "output_type": "stream",
     "text": [
      "epoch done! 950\n"
     ]
    },
    {
     "name": "stderr",
     "output_type": "stream",
     "text": [
      "Epoch 951 | mean loss: 8.84009:  95%|█████████▌| 951/1000 [19:38<01:01,  1.25s/epoch]"
     ]
    },
    {
     "name": "stdout",
     "output_type": "stream",
     "text": [
      "epoch done! 951\n"
     ]
    },
    {
     "name": "stderr",
     "output_type": "stream",
     "text": [
      "Epoch 952 | mean loss: 8.61751:  95%|█████████▌| 952/1000 [19:39<01:00,  1.25s/epoch]"
     ]
    },
    {
     "name": "stdout",
     "output_type": "stream",
     "text": [
      "epoch done! 952\n"
     ]
    },
    {
     "name": "stderr",
     "output_type": "stream",
     "text": [
      "Epoch 953 | mean loss: 9.24582:  95%|█████████▌| 953/1000 [19:40<00:58,  1.25s/epoch]"
     ]
    },
    {
     "name": "stdout",
     "output_type": "stream",
     "text": [
      "epoch done! 953\n"
     ]
    },
    {
     "name": "stderr",
     "output_type": "stream",
     "text": [
      "Epoch 954 | mean loss: 7.91860:  95%|█████████▌| 954/1000 [19:42<00:57,  1.25s/epoch]"
     ]
    },
    {
     "name": "stdout",
     "output_type": "stream",
     "text": [
      "epoch done! 954\n"
     ]
    },
    {
     "name": "stderr",
     "output_type": "stream",
     "text": [
      "Epoch 955 | mean loss: 7.20481:  96%|█████████▌| 955/1000 [19:43<00:57,  1.27s/epoch]"
     ]
    },
    {
     "name": "stdout",
     "output_type": "stream",
     "text": [
      "epoch done! 955\n"
     ]
    },
    {
     "name": "stderr",
     "output_type": "stream",
     "text": [
      "Epoch 956 | mean loss: 8.19483:  96%|█████████▌| 956/1000 [19:44<00:55,  1.26s/epoch]"
     ]
    },
    {
     "name": "stdout",
     "output_type": "stream",
     "text": [
      "epoch done! 956\n"
     ]
    },
    {
     "name": "stderr",
     "output_type": "stream",
     "text": [
      "Epoch 957 | mean loss: 7.75707:  96%|█████████▌| 957/1000 [19:45<00:53,  1.25s/epoch]"
     ]
    },
    {
     "name": "stdout",
     "output_type": "stream",
     "text": [
      "epoch done! 957\n"
     ]
    },
    {
     "name": "stderr",
     "output_type": "stream",
     "text": [
      "Epoch 958 | mean loss: 10.23880:  96%|█████████▌| 958/1000 [19:47<00:52,  1.25s/epoch]"
     ]
    },
    {
     "name": "stdout",
     "output_type": "stream",
     "text": [
      "epoch done! 958\n"
     ]
    },
    {
     "name": "stderr",
     "output_type": "stream",
     "text": [
      "Epoch 959 | mean loss: 8.80832:  96%|█████████▌| 959/1000 [19:48<00:51,  1.25s/epoch] "
     ]
    },
    {
     "name": "stdout",
     "output_type": "stream",
     "text": [
      "epoch done! 959\n"
     ]
    },
    {
     "name": "stderr",
     "output_type": "stream",
     "text": [
      "Epoch 960 | mean loss: 9.15830:  96%|█████████▌| 960/1000 [19:49<00:49,  1.25s/epoch]"
     ]
    },
    {
     "name": "stdout",
     "output_type": "stream",
     "text": [
      "epoch done! 960\n"
     ]
    },
    {
     "name": "stderr",
     "output_type": "stream",
     "text": [
      "Epoch 961 | mean loss: 8.76404:  96%|█████████▌| 961/1000 [19:50<00:48,  1.25s/epoch]"
     ]
    },
    {
     "name": "stdout",
     "output_type": "stream",
     "text": [
      "epoch done! 961\n"
     ]
    },
    {
     "name": "stderr",
     "output_type": "stream",
     "text": [
      "Epoch 962 | mean loss: 8.28124:  96%|█████████▌| 962/1000 [19:52<00:48,  1.28s/epoch]"
     ]
    },
    {
     "name": "stdout",
     "output_type": "stream",
     "text": [
      "epoch done! 962\n"
     ]
    },
    {
     "name": "stderr",
     "output_type": "stream",
     "text": [
      "Epoch 963 | mean loss: 8.52947:  96%|█████████▋| 963/1000 [19:53<00:46,  1.26s/epoch]"
     ]
    },
    {
     "name": "stdout",
     "output_type": "stream",
     "text": [
      "epoch done! 963\n"
     ]
    },
    {
     "name": "stderr",
     "output_type": "stream",
     "text": [
      "Epoch 964 | mean loss: 8.95893:  96%|█████████▋| 964/1000 [19:54<00:45,  1.26s/epoch]"
     ]
    },
    {
     "name": "stdout",
     "output_type": "stream",
     "text": [
      "epoch done! 964\n"
     ]
    },
    {
     "name": "stderr",
     "output_type": "stream",
     "text": [
      "Epoch 965 | mean loss: 8.72187:  96%|█████████▋| 965/1000 [19:55<00:43,  1.25s/epoch]"
     ]
    },
    {
     "name": "stdout",
     "output_type": "stream",
     "text": [
      "epoch done! 965\n"
     ]
    },
    {
     "name": "stderr",
     "output_type": "stream",
     "text": [
      "Epoch 966 | mean loss: 7.87832:  97%|█████████▋| 966/1000 [19:57<00:42,  1.24s/epoch]"
     ]
    },
    {
     "name": "stdout",
     "output_type": "stream",
     "text": [
      "epoch done! 966\n"
     ]
    },
    {
     "name": "stderr",
     "output_type": "stream",
     "text": [
      "Epoch 967 | mean loss: 9.00342:  97%|█████████▋| 967/1000 [19:58<00:41,  1.24s/epoch]"
     ]
    },
    {
     "name": "stdout",
     "output_type": "stream",
     "text": [
      "epoch done! 967\n"
     ]
    },
    {
     "name": "stderr",
     "output_type": "stream",
     "text": [
      "Epoch 968 | mean loss: 9.25191:  97%|█████████▋| 968/1000 [19:59<00:39,  1.23s/epoch]"
     ]
    },
    {
     "name": "stdout",
     "output_type": "stream",
     "text": [
      "epoch done! 968\n"
     ]
    },
    {
     "name": "stderr",
     "output_type": "stream",
     "text": [
      "Epoch 969 | mean loss: 7.28027:  97%|█████████▋| 969/1000 [20:00<00:38,  1.24s/epoch]"
     ]
    },
    {
     "name": "stdout",
     "output_type": "stream",
     "text": [
      "epoch done! 969\n"
     ]
    },
    {
     "name": "stderr",
     "output_type": "stream",
     "text": [
      "Epoch 970 | mean loss: 8.38986:  97%|█████████▋| 970/1000 [20:02<00:37,  1.24s/epoch]"
     ]
    },
    {
     "name": "stdout",
     "output_type": "stream",
     "text": [
      "epoch done! 970\n"
     ]
    },
    {
     "name": "stderr",
     "output_type": "stream",
     "text": [
      "Epoch 971 | mean loss: 9.17126:  97%|█████████▋| 971/1000 [20:03<00:36,  1.27s/epoch]"
     ]
    },
    {
     "name": "stdout",
     "output_type": "stream",
     "text": [
      "epoch done! 971\n"
     ]
    },
    {
     "name": "stderr",
     "output_type": "stream",
     "text": [
      "Epoch 972 | mean loss: 8.44123:  97%|█████████▋| 972/1000 [20:04<00:35,  1.26s/epoch]"
     ]
    },
    {
     "name": "stdout",
     "output_type": "stream",
     "text": [
      "epoch done! 972\n"
     ]
    },
    {
     "name": "stderr",
     "output_type": "stream",
     "text": [
      "Epoch 973 | mean loss: 8.52016:  97%|█████████▋| 973/1000 [20:05<00:33,  1.25s/epoch]"
     ]
    },
    {
     "name": "stdout",
     "output_type": "stream",
     "text": [
      "epoch done! 973\n"
     ]
    },
    {
     "name": "stderr",
     "output_type": "stream",
     "text": [
      "Epoch 974 | mean loss: 8.95537:  97%|█████████▋| 974/1000 [20:07<00:32,  1.25s/epoch]"
     ]
    },
    {
     "name": "stdout",
     "output_type": "stream",
     "text": [
      "epoch done! 974\n"
     ]
    },
    {
     "name": "stderr",
     "output_type": "stream",
     "text": [
      "Epoch 975 | mean loss: 7.41551:  98%|█████████▊| 975/1000 [20:08<00:31,  1.25s/epoch]"
     ]
    },
    {
     "name": "stdout",
     "output_type": "stream",
     "text": [
      "epoch done! 975\n"
     ]
    },
    {
     "name": "stderr",
     "output_type": "stream",
     "text": [
      "Epoch 976 | mean loss: 7.89365:  98%|█████████▊| 976/1000 [20:09<00:29,  1.25s/epoch]"
     ]
    },
    {
     "name": "stdout",
     "output_type": "stream",
     "text": [
      "epoch done! 976\n"
     ]
    },
    {
     "name": "stderr",
     "output_type": "stream",
     "text": [
      "Epoch 977 | mean loss: 7.31269:  98%|█████████▊| 977/1000 [20:10<00:28,  1.25s/epoch]"
     ]
    },
    {
     "name": "stdout",
     "output_type": "stream",
     "text": [
      "epoch done! 977\n"
     ]
    },
    {
     "name": "stderr",
     "output_type": "stream",
     "text": [
      "Epoch 978 | mean loss: 8.84087:  98%|█████████▊| 978/1000 [20:12<00:28,  1.27s/epoch]"
     ]
    },
    {
     "name": "stdout",
     "output_type": "stream",
     "text": [
      "epoch done! 978\n"
     ]
    },
    {
     "name": "stderr",
     "output_type": "stream",
     "text": [
      "Epoch 979 | mean loss: 8.50393:  98%|█████████▊| 979/1000 [20:13<00:26,  1.27s/epoch]"
     ]
    },
    {
     "name": "stdout",
     "output_type": "stream",
     "text": [
      "epoch done! 979\n"
     ]
    },
    {
     "name": "stderr",
     "output_type": "stream",
     "text": [
      "Epoch 980 | mean loss: 8.99600:  98%|█████████▊| 980/1000 [20:14<00:25,  1.26s/epoch]"
     ]
    },
    {
     "name": "stdout",
     "output_type": "stream",
     "text": [
      "epoch done! 980\n"
     ]
    },
    {
     "name": "stderr",
     "output_type": "stream",
     "text": [
      "Epoch 981 | mean loss: 8.59418:  98%|█████████▊| 981/1000 [20:16<00:24,  1.27s/epoch]"
     ]
    },
    {
     "name": "stdout",
     "output_type": "stream",
     "text": [
      "epoch done! 981\n"
     ]
    },
    {
     "name": "stderr",
     "output_type": "stream",
     "text": [
      "Epoch 982 | mean loss: 9.46742:  98%|█████████▊| 982/1000 [20:17<00:22,  1.26s/epoch]"
     ]
    },
    {
     "name": "stdout",
     "output_type": "stream",
     "text": [
      "epoch done! 982\n"
     ]
    },
    {
     "name": "stderr",
     "output_type": "stream",
     "text": [
      "Epoch 983 | mean loss: 8.43315:  98%|█████████▊| 983/1000 [20:18<00:21,  1.27s/epoch]"
     ]
    },
    {
     "name": "stdout",
     "output_type": "stream",
     "text": [
      "epoch done! 983\n"
     ]
    },
    {
     "name": "stderr",
     "output_type": "stream",
     "text": [
      "Epoch 984 | mean loss: 8.49479:  98%|█████████▊| 984/1000 [20:19<00:20,  1.27s/epoch]"
     ]
    },
    {
     "name": "stdout",
     "output_type": "stream",
     "text": [
      "epoch done! 984\n"
     ]
    },
    {
     "name": "stderr",
     "output_type": "stream",
     "text": [
      "Epoch 985 | mean loss: 9.11994:  98%|█████████▊| 985/1000 [20:21<00:19,  1.30s/epoch]"
     ]
    },
    {
     "name": "stdout",
     "output_type": "stream",
     "text": [
      "epoch done! 985\n"
     ]
    },
    {
     "name": "stderr",
     "output_type": "stream",
     "text": [
      "Epoch 986 | mean loss: 7.65372:  99%|█████████▊| 986/1000 [20:22<00:18,  1.29s/epoch]"
     ]
    },
    {
     "name": "stdout",
     "output_type": "stream",
     "text": [
      "epoch done! 986\n"
     ]
    },
    {
     "name": "stderr",
     "output_type": "stream",
     "text": [
      "Epoch 987 | mean loss: 7.73869:  99%|█████████▊| 987/1000 [20:23<00:16,  1.28s/epoch]"
     ]
    },
    {
     "name": "stdout",
     "output_type": "stream",
     "text": [
      "epoch done! 987\n"
     ]
    },
    {
     "name": "stderr",
     "output_type": "stream",
     "text": [
      "Epoch 988 | mean loss: 8.48430:  99%|█████████▉| 988/1000 [20:25<00:15,  1.28s/epoch]"
     ]
    },
    {
     "name": "stdout",
     "output_type": "stream",
     "text": [
      "epoch done! 988\n"
     ]
    },
    {
     "name": "stderr",
     "output_type": "stream",
     "text": [
      "Epoch 989 | mean loss: 9.34233:  99%|█████████▉| 989/1000 [20:26<00:14,  1.28s/epoch]"
     ]
    },
    {
     "name": "stdout",
     "output_type": "stream",
     "text": [
      "epoch done! 989\n"
     ]
    },
    {
     "name": "stderr",
     "output_type": "stream",
     "text": [
      "Epoch 990 | mean loss: 8.77682:  99%|█████████▉| 990/1000 [20:27<00:12,  1.28s/epoch]"
     ]
    },
    {
     "name": "stdout",
     "output_type": "stream",
     "text": [
      "epoch done! 990\n"
     ]
    },
    {
     "name": "stderr",
     "output_type": "stream",
     "text": [
      "Epoch 991 | mean loss: 7.81398:  99%|█████████▉| 991/1000 [20:28<00:11,  1.28s/epoch]"
     ]
    },
    {
     "name": "stdout",
     "output_type": "stream",
     "text": [
      "epoch done! 991\n"
     ]
    },
    {
     "name": "stderr",
     "output_type": "stream",
     "text": [
      "Epoch 992 | mean loss: 10.00347:  99%|█████████▉| 992/1000 [20:30<00:10,  1.30s/epoch]"
     ]
    },
    {
     "name": "stdout",
     "output_type": "stream",
     "text": [
      "epoch done! 992\n"
     ]
    },
    {
     "name": "stderr",
     "output_type": "stream",
     "text": [
      "Epoch 993 | mean loss: 8.53762:  99%|█████████▉| 993/1000 [20:31<00:08,  1.28s/epoch] "
     ]
    },
    {
     "name": "stdout",
     "output_type": "stream",
     "text": [
      "epoch done! 993\n"
     ]
    },
    {
     "name": "stderr",
     "output_type": "stream",
     "text": [
      "Epoch 994 | mean loss: 7.54108:  99%|█████████▉| 994/1000 [20:32<00:07,  1.27s/epoch]"
     ]
    },
    {
     "name": "stdout",
     "output_type": "stream",
     "text": [
      "epoch done! 994\n"
     ]
    },
    {
     "name": "stderr",
     "output_type": "stream",
     "text": [
      "Epoch 995 | mean loss: 7.95447: 100%|█████████▉| 995/1000 [20:33<00:06,  1.26s/epoch]"
     ]
    },
    {
     "name": "stdout",
     "output_type": "stream",
     "text": [
      "epoch done! 995\n"
     ]
    },
    {
     "name": "stderr",
     "output_type": "stream",
     "text": [
      "Epoch 996 | mean loss: 9.62612: 100%|█████████▉| 996/1000 [20:35<00:05,  1.25s/epoch]"
     ]
    },
    {
     "name": "stdout",
     "output_type": "stream",
     "text": [
      "epoch done! 996\n"
     ]
    },
    {
     "name": "stderr",
     "output_type": "stream",
     "text": [
      "Epoch 997 | mean loss: 7.48609: 100%|█████████▉| 997/1000 [20:36<00:03,  1.25s/epoch]"
     ]
    },
    {
     "name": "stdout",
     "output_type": "stream",
     "text": [
      "epoch done! 997\n"
     ]
    },
    {
     "name": "stderr",
     "output_type": "stream",
     "text": [
      "Epoch 998 | mean loss: 8.24851: 100%|█████████▉| 998/1000 [20:37<00:02,  1.23s/epoch]"
     ]
    },
    {
     "name": "stdout",
     "output_type": "stream",
     "text": [
      "epoch done! 998\n"
     ]
    },
    {
     "name": "stderr",
     "output_type": "stream",
     "text": [
      "Epoch 999 | mean loss: 7.63405: 100%|█████████▉| 999/1000 [20:38<00:01,  1.24s/epoch]"
     ]
    },
    {
     "name": "stdout",
     "output_type": "stream",
     "text": [
      "epoch done! 999\n"
     ]
    },
    {
     "name": "stderr",
     "output_type": "stream",
     "text": [
      "Epoch 1000 | mean loss: 8.81968: 100%|██████████| 1000/1000 [20:40<00:00,  1.24s/epoch]\n"
     ]
    }
   ],
   "source": [
    "optimizer = Adam(model.parameters(), lr=lr, weight_decay=1e-5)\n",
    "criterion = MarginLoss(margin)\n",
    "sampler = BernoulliNegativeSampler(kg_train)\n",
    "dataloader = DataLoader(kg_train, batch_size=b_size, use_cuda=None)\n",
    "\n",
    "iterator = tqdm(range(n_epochs), unit='epoch')\n",
    "c = 0\n",
    "for epoch in iterator:\n",
    "    print(f'epoch done! {c}')\n",
    "    running_loss = 0.0\n",
    "    for i, batch in enumerate(dataloader):\n",
    "        h, t, r = batch[0], batch[1], batch[2]\n",
    "        n_h, n_t = sampler.corrupt_batch(h, t, r)\n",
    "\n",
    "        optimizer.zero_grad()\n",
    "\n",
    "        # forward + backward + optimize\n",
    "        pos, neg = model(h, t, r, n_h, n_t)\n",
    "        loss = criterion(pos, neg)\n",
    "        loss.backward()\n",
    "        optimizer.step()\n",
    "\n",
    "        running_loss += loss.item()\n",
    "    iterator.set_description(\n",
    "        'Epoch {} | mean loss: {:.5f}'.format(epoch + 1,\n",
    "                                              running_loss / len(dataloader)))\n",
    "    c += 1\n",
    "\n",
    "model.normalize_parameters()"
   ]
  },
  {
   "cell_type": "code",
   "execution_count": 80,
   "metadata": {},
   "outputs": [],
   "source": [
    "import pickle"
   ]
  },
  {
   "cell_type": "markdown",
   "metadata": {},
   "source": [
    "The following cell is used as a mere checkpoint for the notebook"
   ]
  },
  {
   "cell_type": "code",
   "execution_count": 81,
   "metadata": {},
   "outputs": [],
   "source": [
    "'''\n",
    "with open('train.pkl', 'wb') as outp:\n",
    "    pickle.dump(train, outp, pickle.HIGHEST_PROTOCOL)\n",
    "\n",
    "with open('kg_train.pkl', 'wb') as outp:\n",
    "    pickle.dump(kg_train, outp, pickle.HIGHEST_PROTOCOL)\n",
    "\n",
    "with open('test_X.pkl', 'wb') as outp:\n",
    "    pickle.dump(test_X, outp, pickle.HIGHEST_PROTOCOL)\n",
    "\n",
    "with open('test_y.pkl', 'wb') as outp:\n",
    "    pickle.dump(test_y, outp, pickle.HIGHEST_PROTOCOL)\n",
    "\n",
    "with open('model.pkl', 'wb') as outp:\n",
    "    pickle.dump(model, outp, pickle.HIGHEST_PROTOCOL)'''"
   ]
  },
  {
   "cell_type": "code",
   "execution_count": 89,
   "metadata": {},
   "outputs": [],
   "source": [
    "with open('train.pkl', 'rb') as outp:\n",
    "    train = pickle.load(outp)\n",
    "\n",
    "with open('kg_train.pkl', 'rb') as outp:\n",
    "    kg_train = pickle.load(outp)\n",
    "\n",
    "with open('test_X.pkl', 'rb') as outp:\n",
    "    test_X = pickle.load(outp)\n",
    "\n",
    "with open('test_y.pkl', 'rb') as outp:\n",
    "    test_y = pickle.load(outp)\n",
    "\n",
    "with open('model.pkl', 'rb') as outp:\n",
    "    model = pickle.load(outp)\n"
   ]
  },
  {
   "cell_type": "code",
   "execution_count": 92,
   "metadata": {},
   "outputs": [
    {
     "data": {
      "text/html": [
       "<div>\n",
       "<style scoped>\n",
       "    .dataframe tbody tr th:only-of-type {\n",
       "        vertical-align: middle;\n",
       "    }\n",
       "\n",
       "    .dataframe tbody tr th {\n",
       "        vertical-align: top;\n",
       "    }\n",
       "\n",
       "    .dataframe thead th {\n",
       "        text-align: right;\n",
       "    }\n",
       "</style>\n",
       "<table border=\"1\" class=\"dataframe\">\n",
       "  <thead>\n",
       "    <tr style=\"text-align: right;\">\n",
       "      <th></th>\n",
       "      <th>from</th>\n",
       "      <th>rel</th>\n",
       "    </tr>\n",
       "  </thead>\n",
       "  <tbody>\n",
       "    <tr>\n",
       "      <th>29095</th>\n",
       "      <td>http://example.org/apartment/apartment_7211</td>\n",
       "      <td>http://example.org/apartment/price_discretized</td>\n",
       "    </tr>\n",
       "    <tr>\n",
       "      <th>203629</th>\n",
       "      <td>http://example.org/apartment/apartment_108</td>\n",
       "      <td>http://example.org/apartment/price_discretized</td>\n",
       "    </tr>\n",
       "    <tr>\n",
       "      <th>263343</th>\n",
       "      <td>http://example.org/apartment/apartment_4408</td>\n",
       "      <td>http://example.org/apartment/price_discretized</td>\n",
       "    </tr>\n",
       "    <tr>\n",
       "      <th>147769</th>\n",
       "      <td>http://example.org/apartment/apartment_6169</td>\n",
       "      <td>http://example.org/apartment/price_discretized</td>\n",
       "    </tr>\n",
       "    <tr>\n",
       "      <th>224995</th>\n",
       "      <td>http://example.org/apartment/apartment_5027</td>\n",
       "      <td>http://example.org/apartment/price_discretized</td>\n",
       "    </tr>\n",
       "    <tr>\n",
       "      <th>...</th>\n",
       "      <td>...</td>\n",
       "      <td>...</td>\n",
       "    </tr>\n",
       "    <tr>\n",
       "      <th>64726</th>\n",
       "      <td>http://example.org/apartment/apartment_4196</td>\n",
       "      <td>http://example.org/apartment/price_discretized</td>\n",
       "    </tr>\n",
       "    <tr>\n",
       "      <th>280219</th>\n",
       "      <td>http://example.org/apartment/apartment_267</td>\n",
       "      <td>http://example.org/apartment/price_discretized</td>\n",
       "    </tr>\n",
       "    <tr>\n",
       "      <th>131051</th>\n",
       "      <td>http://example.org/apartment/apartment_2304</td>\n",
       "      <td>http://example.org/apartment/price_discretized</td>\n",
       "    </tr>\n",
       "    <tr>\n",
       "      <th>87592</th>\n",
       "      <td>http://example.org/apartment/apartment_8099</td>\n",
       "      <td>http://example.org/apartment/price_discretized</td>\n",
       "    </tr>\n",
       "    <tr>\n",
       "      <th>238380</th>\n",
       "      <td>http://example.org/apartment/apartment_3604</td>\n",
       "      <td>http://example.org/apartment/price_discretized</td>\n",
       "    </tr>\n",
       "  </tbody>\n",
       "</table>\n",
       "<p>1985 rows × 2 columns</p>\n",
       "</div>"
      ],
      "text/plain": [
       "                                               from  \\\n",
       "29095   http://example.org/apartment/apartment_7211   \n",
       "203629   http://example.org/apartment/apartment_108   \n",
       "263343  http://example.org/apartment/apartment_4408   \n",
       "147769  http://example.org/apartment/apartment_6169   \n",
       "224995  http://example.org/apartment/apartment_5027   \n",
       "...                                             ...   \n",
       "64726   http://example.org/apartment/apartment_4196   \n",
       "280219   http://example.org/apartment/apartment_267   \n",
       "131051  http://example.org/apartment/apartment_2304   \n",
       "87592   http://example.org/apartment/apartment_8099   \n",
       "238380  http://example.org/apartment/apartment_3604   \n",
       "\n",
       "                                                   rel  \n",
       "29095   http://example.org/apartment/price_discretized  \n",
       "203629  http://example.org/apartment/price_discretized  \n",
       "263343  http://example.org/apartment/price_discretized  \n",
       "147769  http://example.org/apartment/price_discretized  \n",
       "224995  http://example.org/apartment/price_discretized  \n",
       "...                                                ...  \n",
       "64726   http://example.org/apartment/price_discretized  \n",
       "280219  http://example.org/apartment/price_discretized  \n",
       "131051  http://example.org/apartment/price_discretized  \n",
       "87592   http://example.org/apartment/price_discretized  \n",
       "238380  http://example.org/apartment/price_discretized  \n",
       "\n",
       "[1985 rows x 2 columns]"
      ]
     },
     "execution_count": 92,
     "metadata": {},
     "output_type": "execute_result"
    }
   ],
   "source": [
    "test_X"
   ]
  },
  {
   "cell_type": "markdown",
   "metadata": {},
   "source": [
    "<div class=\"alert alert-block alert-info\" style=\"color: #01571B; background-color: #C8E5C6;\">\n",
    "\n",
    "Now, and using batch-processing to not overload the memory, we will get the embedding for each apartment in the training and test datasets separately. This will be later loaded in a torch tensor to train a future network."
   ]
  },
  {
   "cell_type": "markdown",
   "metadata": {},
   "source": [
    "Train"
   ]
  },
  {
   "cell_type": "code",
   "execution_count": 83,
   "metadata": {},
   "outputs": [],
   "source": [
    "import numpy as np\n",
    "\n",
    "train_embedding_list = []\n",
    "batch_size = 1000  # Adjust batch size according to your memory capacity\n",
    "\n",
    "filtered_items = train[train['rel'] == 'http://example.org/apartment/price_discretized']['from']\n",
    "\n",
    "for start in range(0, len(filtered_items), batch_size):\n",
    "    batch = filtered_items[start:start + batch_size]\n",
    "    batch_embeddings = []\n",
    "    for item in batch:\n",
    "        i = kg_train.ent2ix[item]\n",
    "        embedding = model.get_embeddings()[0][i]\n",
    "        if isinstance(embedding, np.ndarray):\n",
    "            batch_embeddings.append(embedding)\n",
    "        else:\n",
    "            batch_embeddings.append(np.array(embedding))  # Ensure it is a NumPy array\n",
    "    \n",
    "    # Convert batch_embeddings to a NumPy array\n",
    "    batch_embeddings = np.stack(batch_embeddings)\n",
    "    \n",
    "    # Save intermediate results to disk\n",
    "    np.save(f'batch_{start}.npy', batch_embeddings)\n",
    "\n"
   ]
  },
  {
   "cell_type": "markdown",
   "metadata": {},
   "source": [
    "Test"
   ]
  },
  {
   "cell_type": "code",
   "execution_count": 96,
   "metadata": {},
   "outputs": [],
   "source": [
    "\n",
    "train_embedding_list = []\n",
    "batch_size = 500  # Adjust batch size according to your memory capacity\n",
    "\n",
    "filtered_items = test_X['from']\n",
    "\n",
    "for start in range(0, len(filtered_items), batch_size):\n",
    "    batch = filtered_items[start:start + batch_size]\n",
    "    batch_embeddings = []\n",
    "    for item in batch:\n",
    "        i = kg_train.ent2ix[item]\n",
    "        embedding = model.get_embeddings()[0][i]\n",
    "        if isinstance(embedding, np.ndarray):\n",
    "            batch_embeddings.append(embedding)\n",
    "        else:\n",
    "            batch_embeddings.append(np.array(embedding))  # Ensure it is a NumPy array\n",
    "    \n",
    "    # Convert batch_embeddings to a NumPy array\n",
    "    batch_embeddings = np.stack(batch_embeddings)\n",
    "    \n",
    "    # Save intermediate results to disk\n",
    "    np.save(f'./test_X/batch_{start}.npy', batch_embeddings)\n",
    "\n"
   ]
  }
 ],
 "metadata": {
  "kernelspec": {
   "display_name": "Python 3",
   "language": "python",
   "name": "python3"
  },
  "language_info": {
   "codemirror_mode": {
    "name": "ipython",
    "version": 3
   },
   "file_extension": ".py",
   "mimetype": "text/x-python",
   "name": "python",
   "nbconvert_exporter": "python",
   "pygments_lexer": "ipython3",
   "version": "3.11.9"
  }
 },
 "nbformat": 4,
 "nbformat_minor": 2
}
