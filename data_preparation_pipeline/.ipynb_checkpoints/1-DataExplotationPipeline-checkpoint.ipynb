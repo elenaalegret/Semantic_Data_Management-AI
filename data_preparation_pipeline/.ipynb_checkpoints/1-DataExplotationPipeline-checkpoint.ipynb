{
 "cells": [
  {
   "cell_type": "markdown",
   "metadata": {},
   "source": [
    "___\n",
    "\n",
    "<div style=\"text-align: center;\">\n",
    "  <span style=\"font-family: 'Playfair Display', serif; font-size: 24px; font-weight: bold;\">\n",
    "    Dataset Explotation\n",
    "  </span>\n",
    "</div>\n",
    "\n",
    "___\n",
    "\n",
    "\n",
    "In this notebook, the **Dataset Exploration** section aims to provide an in-depth analysis of the dataset. It does an identification and selection of columns that are most relevant for the analysis, discarding those that do not contribute to the visualization or modeling goals."
   ]
  },
  {
   "cell_type": "code",
   "execution_count": 23,
   "metadata": {},
   "outputs": [],
   "source": [
    "# Imports\n",
    "import duckdb\n",
    "from pyspark.sql import SparkSession\n",
    "import warnings\n",
    "warnings.filterwarnings(\"ignore\")\n",
    "\n",
    "import sys\n",
    "import os\n",
    "current_dir = os.path.dirname(os.path.abspath('__file__'))\n",
    "parent_dir = os.path.abspath(os.path.join(current_dir, os.pardir))\n",
    "\n",
    "# Agregate the dic to sys.path\n",
    "if parent_dir not in sys.path:\n",
    "    sys.path.append(parent_dir)\n",
    "import utils\n",
    "\n",
    "## Connection to formatted database\n",
    "jdbc_url = 'jdbc:duckdb:./../data/trusted_zone/barcelona_processed.db'\n",
    "driver = \"org.duckdb.DuckDBDriver\"\n",
    "\n",
    "# SparkSession inicialitzation\n",
    "spark = SparkSession.builder\\\n",
    "    .config(\"spark.jars\", \"./../lib/duckdb.jar\") \\\n",
    "    .appName(\"DataExplotation\") \\\n",
    "    .getOrCreate()"
   ]
  },
  {
   "cell_type": "markdown",
   "metadata": {},
   "source": [
    "---\n",
    "\n",
    "### $\\Rightarrow$ Criminal Dataset\n",
    "---\n",
    "**DataFrame Schema**\n",
    "\n",
    "The DataFrame comprises various groups of columns, each providing distinct details related to property listings:\n",
    "\n",
    " - **any**: decimal(20,0) (nullable = true)\n",
    " - **num_mes**: decimal(20,0) (nullable = true)\n",
    " - **nom_mes**: string (nullable = true)\n",
    " - **regio_policial**: string (nullable = true)\n",
    " - **neighbourhood**: string (nullable = true)\n",
    " - **provincia**: string (nullable = true)\n",
    " - **comarca**: string (nullable = true)\n",
    " - **municipi**: string (nullable = true)\n",
    " - **tipus_de_lloc_dels_fets**: string (nullable = true)\n",
    " - **canal_dels_fets**: string (nullable = true)\n",
    " - **tipus_de_fet**: string (nullable = true)\n",
    " - **titol_del_fet_codi_penal**: string (nullable = true)\n",
    " - **tipus_de_fet_codi_penal**: string (nullable = true)\n",
    " - **ambit_fet**: string (nullable = true)\n",
    " - **nombre_fets_o_infraccions**: decimal(20,0) (nullable = true)\n",
    " - **nombre_victimes**: double (nullable = true)\n",
    "</div>"
   ]
  },
  {
   "cell_type": "code",
   "execution_count": 24,
   "metadata": {},
   "outputs": [],
   "source": [
    "df_criminal = spark.read \\\n",
    "  .format(\"jdbc\") \\\n",
    "  .option(\"url\", jdbc_url) \\\n",
    "  .option(\"driver\", driver) \\\n",
    "  .option(\"query\", \"SELECT * FROM df_criminal_dataset\") \\\n",
    "  .load()"
   ]
  },
  {
   "cell_type": "markdown",
   "metadata": {},
   "source": [
    "\n",
    "**Remove redundant columns**: \n",
    "\n",
    "In this step, we remove the redundant columns from the DataFrame that are not of interest for our analysis. These columns include: \n",
    "\n",
    "1. **provincia, comarca, municipi, regio_policial**: \n",
    "    - Provide geographical information already captured in the `neighbourhood` column. Retaining these columns would add redundancy to our data without providing additional relevant information for our analysis.\n",
    "\n",
    "2. **nombre_fets_o_infraccions**: \n",
    "    - With the same value ('1') across all rows, this column lacks of useful information for our analysis. Its removal simplifies our data without losing relevant information about the occurrence of events.\n",
    "\n",
    "3. **tipus_de_fet**: \n",
    "    - While this column categorizes incidents into different categories such as 'Delictes' (crimes) and 'Infraccio administrativa' (administrative infractions), these categories do not significantly contribute to our analysis focused on criminality by neighborhood and a more specific type of crime.\n",
    "\n",
    "4. **canal_dels_fets**: \n",
    "    - The classification of incident reporting modes is not essential for our analysis of criminality by neighborhood and type of crime. Its removal simplifies our data by eliminating details that do not directly impact our research.\n",
    "\n",
    "5. **titol_del_fet_codi_penal**: \n",
    "    - Titles associated with the criminal code lack structure and specificity, making them less useful for understanding the precise nature of incidents. By removing this column, we reduce noise in our data and focus on variables more relevant to our analysis.\n",
    "\n",
    "6. **any, num_mes**: \n",
    "    - These columns do not provide relevant information for our analysis objective and are not used in our analysis. Removing them simplifies our dataset without losing any meaningful insights.\n",
    "    - **nom_mes**: This column will provide information of the visualitzation part of the project. \n",
    "\n",
    "7. **tipus_de_lloc_dels_fets**: \n",
    "    - This column does not provide important information for calculating the crime index. Its removal streamlines our dataset without impacting our ability to analyze criminality by neighborhood and month.\n",
    "\n",
    "8. **titol_del_fet_codi_penal, tipus_de_fet_codi_penal**: \n",
    "    - These columns also do not provide significant information for calculating the crime index. Removing them reduces noise in our dataset and allows us to focus on variables more directly related to our analysis objective."
   ]
  },
  {
   "cell_type": "code",
   "execution_count": 25,
   "metadata": {},
   "outputs": [],
   "source": [
    "columns_to_drop = ['provincia', 'comarca', 'municipi', 'regio_policial', 'nombre_fets_o_infraccions', \n",
    "                   'tipus_de_fet', 'canal_dels_fets', 'titol_del_fet_codi_penal', 'any','num_mes', \n",
    "                'tipus_de_lloc_dels_fets', 'titol_del_fet_codi_penal', 'tipus_de_fet_codi_penal']\n",
    "df_criminal = df_criminal.drop(*columns_to_drop)"
   ]
  },
  {
   "cell_type": "code",
   "execution_count": 26,
   "metadata": {},
   "outputs": [
    {
     "data": {
      "text/html": [
       "<div>\n",
       "<style scoped>\n",
       "    .dataframe tbody tr th:only-of-type {\n",
       "        vertical-align: middle;\n",
       "    }\n",
       "\n",
       "    .dataframe tbody tr th {\n",
       "        vertical-align: top;\n",
       "    }\n",
       "\n",
       "    .dataframe thead th {\n",
       "        text-align: right;\n",
       "    }\n",
       "</style>\n",
       "<table border=\"1\" class=\"dataframe\">\n",
       "  <thead>\n",
       "    <tr style=\"text-align: right;\">\n",
       "      <th></th>\n",
       "      <th>nom_mes</th>\n",
       "      <th>neighbourhood</th>\n",
       "      <th>type_crime</th>\n",
       "      <th>nombre_victimes</th>\n",
       "    </tr>\n",
       "  </thead>\n",
       "  <tbody>\n",
       "    <tr>\n",
       "      <th>0</th>\n",
       "      <td>Juny</td>\n",
       "      <td>Nou Barris</td>\n",
       "      <td>Political orientation</td>\n",
       "      <td>1.0</td>\n",
       "    </tr>\n",
       "  </tbody>\n",
       "</table>\n",
       "</div>"
      ],
      "text/plain": [
       "  nom_mes neighbourhood             type_crime  nombre_victimes\n",
       "0    Juny    Nou Barris  Political orientation              1.0"
      ]
     },
     "execution_count": 26,
     "metadata": {},
     "output_type": "execute_result"
    }
   ],
   "source": [
    "df_criminal.limit(1).toPandas()"
   ]
  },
  {
   "cell_type": "code",
   "execution_count": 27,
   "metadata": {},
   "outputs": [
    {
     "name": "stdout",
     "output_type": "stream",
     "text": [
      "Total Index: 0.8770226537216829\n"
     ]
    }
   ],
   "source": [
    "# Aplica la función y muestra algunos resultados para verificar\n",
    "df_criminal = utils.calculate_index_criminality(df_criminal)\n",
    "total_index = df_criminal.select('criminality_index').distinct().rdd.map(lambda row: row['criminality_index']).sum()\n",
    "print(f\"Total Index: {total_index}\")"
   ]
  },
  {
   "cell_type": "code",
   "execution_count": 28,
   "metadata": {},
   "outputs": [
    {
     "name": "stdout",
     "output_type": "stream",
     "text": [
      "root\n",
      " |-- nom_mes: string (nullable = true)\n",
      " |-- neighbourhood: string (nullable = true)\n",
      " |-- type_crime: string (nullable = true)\n",
      " |-- nombre_victimes: double (nullable = true)\n",
      " |-- criminality_index: double (nullable = true)\n",
      "\n"
     ]
    },
    {
     "data": {
      "text/html": [
       "<div>\n",
       "<style scoped>\n",
       "    .dataframe tbody tr th:only-of-type {\n",
       "        vertical-align: middle;\n",
       "    }\n",
       "\n",
       "    .dataframe tbody tr th {\n",
       "        vertical-align: top;\n",
       "    }\n",
       "\n",
       "    .dataframe thead th {\n",
       "        text-align: right;\n",
       "    }\n",
       "</style>\n",
       "<table border=\"1\" class=\"dataframe\">\n",
       "  <thead>\n",
       "    <tr style=\"text-align: right;\">\n",
       "      <th></th>\n",
       "      <th>nom_mes</th>\n",
       "      <th>neighbourhood</th>\n",
       "      <th>type_crime</th>\n",
       "      <th>nombre_victimes</th>\n",
       "      <th>criminality_index</th>\n",
       "    </tr>\n",
       "  </thead>\n",
       "  <tbody>\n",
       "    <tr>\n",
       "      <th>0</th>\n",
       "      <td>Juny</td>\n",
       "      <td>Nou Barris</td>\n",
       "      <td>Political orientation</td>\n",
       "      <td>1.0</td>\n",
       "      <td>0.053398</td>\n",
       "    </tr>\n",
       "  </tbody>\n",
       "</table>\n",
       "</div>"
      ],
      "text/plain": [
       "  nom_mes neighbourhood             type_crime  nombre_victimes  \\\n",
       "0    Juny    Nou Barris  Political orientation              1.0   \n",
       "\n",
       "   criminality_index  \n",
       "0           0.053398  "
      ]
     },
     "execution_count": 28,
     "metadata": {},
     "output_type": "execute_result"
    }
   ],
   "source": [
    "df_criminal.printSchema()\n",
    "df_criminal.limit(1).toPandas()"
   ]
  },
  {
   "cell_type": "markdown",
   "metadata": {},
   "source": [
    "---\n",
    "\n",
    "### $\\Rightarrow$ Airbnb Dataset\n",
    "---\n",
    "**DataFrame Schema**\n",
    "\n",
    "The DataFrame comprises various groups of columns, each providing distinct details related to property listings:\n",
    "\n",
    " - name: string (nullable = true)\n",
    " - summary: string (nullable = true)\n",
    " - host_id: string (nullable = true)\n",
    " - host_url: string (nullable = true)\n",
    " - host_name: string (nullable = true)\n",
    " - host_since: string (nullable = true)\n",
    " - host_location: string (nullable = true)\n",
    " - host_thumbnail_url: string (nullable = true)\n",
    " - host_picture_url: string (nullable = true)\n",
    " - host_listings_count: double (nullable = true)\n",
    " - host_total_listings_count: double (nullable = true)\n",
    " - host_verifications: string (nullable = true)\n",
    " - neighbourhood_cleansed: string (nullable = true)\n",
    " - neighbourhood: string (nullable = true)\n",
    " - city: string (nullable = true)\n",
    " - market: string (nullable = true)\n",
    " - smart_location: string (nullable = true)\n",
    " - country_code: string (nullable = true)\n",
    " - country: string (nullable = true)\n",
    " - latitude: string (nullable = true)\n",
    " - longitude: string (nullable = true)\n",
    " - property_type: string (nullable = true)\n",
    " - room_type: string (nullable = true)\n",
    " - accommodates: decimal(20,0) (nullable = true)\n",
    " - bathrooms: double (nullable = true)\n",
    " - bedrooms: double (nullable = true)\n",
    " - beds: double (nullable = true)\n",
    " - bed_type: string (nullable = true)\n",
    " - price: double (nullable = true)\n",
    " - security_deposit: double (nullable = true)\n",
    " - cleaning_fee: double (nullable = true)\n",
    " - guests_included: decimal(20,0) (nullable = true)\n",
    " - extra_people: decimal(20,0) (nullable = true)\n",
    " - minimum_nights: decimal(20,0) (nullable = true)\n",
    " - maximum_nights: decimal(20,0) (nullable = true)\n",
    " - calendar_updated: string (nullable = true)\n",
    " - availability_30: decimal(20,0) (nullable = true)\n",
    " - availability_60: decimal(20,0) (nullable = true)\n",
    " - availability_90: decimal(20,0) (nullable = true)\n",
    " - availability_365: decimal(20,0) (nullable = true)\n",
    " - calendar_last_scraped: string (nullable = true)\n",
    " - number_of_reviews: decimal(20,0) (nullable = true)\n",
    " - cancellation_policy: string (nullable = true)\n",
    " - features: string (nullable = true)\n"
   ]
  },
  {
   "cell_type": "code",
   "execution_count": 29,
   "metadata": {},
   "outputs": [],
   "source": [
    "df_airbnb = spark.read \\\n",
    "  .format(\"jdbc\") \\\n",
    "  .option(\"url\", jdbc_url) \\\n",
    "  .option(\"driver\", driver) \\\n",
    "  .option(\"query\", \"SELECT * FROM df_airbnb_listings\") \\\n",
    "  .load()"
   ]
  },
  {
   "cell_type": "markdown",
   "metadata": {},
   "source": [
    "**Remove redundant columns**: \n",
    "\n",
    "In this step, we remove the redundant columns from the DataFrame that are not of interest for our analysis. These columns include: \n",
    "\n",
    "1. Host Information: **host_url, host_name, host_location, host_thumbnail_url, host_picture_url, host_listings_count**\n",
    "    - These columns contain specific information about the host that does not directly influence the price of the accommodation. The host's location or image does not affect the value of the property itself.\n",
    "\n",
    "2. Location Data: **neighbourhood_cleansed, city, market, smart_location, country_code, country**\n",
    "    - These columns contain location data that might be redundant. For example, the city or country is not as specific as other location data already present that directly affects the price, such as the neighborhood, latitude and longitude.\n",
    "\n",
    "3. Availability and Calendar Data: **calendar_updated, availability_30, availability_60, availability_90, availability_365, calendar_last_scraped**\n",
    "    - These fields refer to the availability of the Airbnb and the frequency with which the calendar is updated. While they might provide information about supply and demand, they do not directly affect the price of the property. The price is more influenced by the physical characteristics and location of the property.\n",
    "\n",
    "4. Other Irrelevant Data: **summary, features**\n",
    "    - These columns contain general descriptions or additional features that do not have a direct and quantifiable impact on the rental price. The summary might be a written description that is not useful for predictive models, and features might contain redundant information for the analysis."
   ]
  },
  {
   "cell_type": "code",
   "execution_count": 30,
   "metadata": {},
   "outputs": [],
   "source": [
    "columns_to_drop = [\n",
    "    'summary',\n",
    "    'host_url',\n",
    "    'host_name',\n",
    "    'host_location',\n",
    "    'host_thumbnail_url',\n",
    "    'host_picture_url',\n",
    "    'host_listings_count',\n",
    "    'neighbourhood_cleansed',\n",
    "    'city',\n",
    "    'market',\n",
    "    'smart_location',\n",
    "    'country_code',\n",
    "    'country',\n",
    "    'calendar_updated',\n",
    "    'availability_30',\n",
    "    'availability_60',\n",
    "    'availability_90',\n",
    "    'availability_365',\n",
    "    'calendar_last_scraped',\n",
    "    'features'\n",
    "]\n",
    "\n",
    "df_airbnb = df_airbnb.drop(*columns_to_drop)"
   ]
  },
  {
   "cell_type": "code",
   "execution_count": 31,
   "metadata": {},
   "outputs": [
    {
     "name": "stdout",
     "output_type": "stream",
     "text": [
      "root\n",
      " |-- name: string (nullable = true)\n",
      " |-- host_id: string (nullable = true)\n",
      " |-- host_since: string (nullable = true)\n",
      " |-- host_total_listings_count: double (nullable = true)\n",
      " |-- host_verifications: string (nullable = true)\n",
      " |-- neighbourhood: string (nullable = true)\n",
      " |-- latitude: string (nullable = true)\n",
      " |-- longitude: string (nullable = true)\n",
      " |-- property_type: string (nullable = true)\n",
      " |-- room_type: string (nullable = true)\n",
      " |-- accommodates: decimal(20,0) (nullable = true)\n",
      " |-- bathrooms: double (nullable = true)\n",
      " |-- bedrooms: double (nullable = true)\n",
      " |-- beds: double (nullable = true)\n",
      " |-- bed_type: string (nullable = true)\n",
      " |-- price: double (nullable = true)\n",
      " |-- security_deposit: double (nullable = true)\n",
      " |-- cleaning_fee: double (nullable = true)\n",
      " |-- guests_included: decimal(20,0) (nullable = true)\n",
      " |-- extra_people: decimal(20,0) (nullable = true)\n",
      " |-- minimum_nights: decimal(20,0) (nullable = true)\n",
      " |-- maximum_nights: decimal(20,0) (nullable = true)\n",
      " |-- number_of_reviews: decimal(20,0) (nullable = true)\n",
      " |-- cancellation_policy: string (nullable = true)\n",
      "\n"
     ]
    },
    {
     "data": {
      "text/html": [
       "<div>\n",
       "<style scoped>\n",
       "    .dataframe tbody tr th:only-of-type {\n",
       "        vertical-align: middle;\n",
       "    }\n",
       "\n",
       "    .dataframe tbody tr th {\n",
       "        vertical-align: top;\n",
       "    }\n",
       "\n",
       "    .dataframe thead th {\n",
       "        text-align: right;\n",
       "    }\n",
       "</style>\n",
       "<table border=\"1\" class=\"dataframe\">\n",
       "  <thead>\n",
       "    <tr style=\"text-align: right;\">\n",
       "      <th></th>\n",
       "      <th>name</th>\n",
       "      <th>host_id</th>\n",
       "      <th>host_since</th>\n",
       "      <th>host_total_listings_count</th>\n",
       "      <th>host_verifications</th>\n",
       "      <th>neighbourhood</th>\n",
       "      <th>latitude</th>\n",
       "      <th>longitude</th>\n",
       "      <th>property_type</th>\n",
       "      <th>room_type</th>\n",
       "      <th>...</th>\n",
       "      <th>bed_type</th>\n",
       "      <th>price</th>\n",
       "      <th>security_deposit</th>\n",
       "      <th>cleaning_fee</th>\n",
       "      <th>guests_included</th>\n",
       "      <th>extra_people</th>\n",
       "      <th>minimum_nights</th>\n",
       "      <th>maximum_nights</th>\n",
       "      <th>number_of_reviews</th>\n",
       "      <th>cancellation_policy</th>\n",
       "    </tr>\n",
       "  </thead>\n",
       "  <tbody>\n",
       "    <tr>\n",
       "      <th>0</th>\n",
       "      <td>Piso cerca del Cam Nou</td>\n",
       "      <td>38925857</td>\n",
       "      <td>2015-07-19</td>\n",
       "      <td>1.0</td>\n",
       "      <td>email, phone, reviews, jumio</td>\n",
       "      <td>Les Corts</td>\n",
       "      <td>41.378150177192396</td>\n",
       "      <td>2.122075545481956</td>\n",
       "      <td>Apartment</td>\n",
       "      <td>Private room</td>\n",
       "      <td>...</td>\n",
       "      <td>Real Bed</td>\n",
       "      <td>21.0</td>\n",
       "      <td>0.0</td>\n",
       "      <td>0.0</td>\n",
       "      <td>1</td>\n",
       "      <td>7</td>\n",
       "      <td>1</td>\n",
       "      <td>1125</td>\n",
       "      <td>1</td>\n",
       "      <td>moderate</td>\n",
       "    </tr>\n",
       "  </tbody>\n",
       "</table>\n",
       "<p>1 rows × 24 columns</p>\n",
       "</div>"
      ],
      "text/plain": [
       "                     name   host_id  host_since  host_total_listings_count  \\\n",
       "0  Piso cerca del Cam Nou  38925857  2015-07-19                        1.0   \n",
       "\n",
       "             host_verifications neighbourhood            latitude  \\\n",
       "0  email, phone, reviews, jumio     Les Corts  41.378150177192396   \n",
       "\n",
       "           longitude property_type     room_type  ...  bed_type  price  \\\n",
       "0  2.122075545481956     Apartment  Private room  ...  Real Bed   21.0   \n",
       "\n",
       "   security_deposit  cleaning_fee guests_included  extra_people  \\\n",
       "0               0.0           0.0               1             7   \n",
       "\n",
       "   minimum_nights  maximum_nights number_of_reviews cancellation_policy  \n",
       "0               1            1125                 1            moderate  \n",
       "\n",
       "[1 rows x 24 columns]"
      ]
     },
     "execution_count": 31,
     "metadata": {},
     "output_type": "execute_result"
    }
   ],
   "source": [
    "df_airbnb.printSchema()\n",
    "df_airbnb.limit(1).toPandas()"
   ]
  },
  {
   "cell_type": "markdown",
   "metadata": {},
   "source": [
    "---\n",
    "### $\\Rightarrow$ Locations TripAvisor Dataset\n",
    "---\n",
    "**DataFrame Schema**\n",
    "\n",
    "The DataFrame comprises various groups of columns, each providing distinct details related to property listings:\n",
    "\n",
    " - location_id: string (nullable = true)\n",
    " - name: string (nullable = true)\n",
    " - distance: string (nullable = true)\n",
    " - bearing: string (nullable = true)\n",
    " - address_obj_city: string (nullable = true)\n",
    " - address_obj_state: string (nullable = true)\n",
    " - address_obj_country: string (nullable = true)\n",
    " - address_obj_address_string: string (nullable = true)\n",
    " - type: string (nullable = true)\n",
    " - neighbourhood: string (nullable = true)\n",
    " - __index_level_0__: decimal(20,0) (nullable = true)\n",
    " - latitude: float (nullable = true)\n",
    " - longitude: float (nullable = true)\n"
   ]
  },
  {
   "cell_type": "code",
   "execution_count": 32,
   "metadata": {},
   "outputs": [
    {
     "data": {
      "text/html": [
       "<div>\n",
       "<style scoped>\n",
       "    .dataframe tbody tr th:only-of-type {\n",
       "        vertical-align: middle;\n",
       "    }\n",
       "\n",
       "    .dataframe tbody tr th {\n",
       "        vertical-align: top;\n",
       "    }\n",
       "\n",
       "    .dataframe thead th {\n",
       "        text-align: right;\n",
       "    }\n",
       "</style>\n",
       "<table border=\"1\" class=\"dataframe\">\n",
       "  <thead>\n",
       "    <tr style=\"text-align: right;\">\n",
       "      <th></th>\n",
       "      <th>location_id</th>\n",
       "      <th>name</th>\n",
       "      <th>distance</th>\n",
       "      <th>bearing</th>\n",
       "      <th>address_obj_city</th>\n",
       "      <th>address_obj_state</th>\n",
       "      <th>address_obj_country</th>\n",
       "      <th>address_obj_address_string</th>\n",
       "      <th>type</th>\n",
       "      <th>neighbourhood</th>\n",
       "      <th>__index_level_0__</th>\n",
       "      <th>latitude</th>\n",
       "      <th>longitude</th>\n",
       "    </tr>\n",
       "  </thead>\n",
       "  <tbody>\n",
       "    <tr>\n",
       "      <th>0</th>\n",
       "      <td>27200794</td>\n",
       "      <td>Anna Subirats Xarcuteria</td>\n",
       "      <td>0.03857963183663804</td>\n",
       "      <td>east</td>\n",
       "      <td>Barcelona</td>\n",
       "      <td>Province of Barcelona</td>\n",
       "      <td>Spain</td>\n",
       "      <td>Carrer De Sepulveda, 167, 08011 Barcelona Spain</td>\n",
       "      <td>restaurant</td>\n",
       "      <td>Eixample</td>\n",
       "      <td>190</td>\n",
       "      <td>41.383205</td>\n",
       "      <td>2.162197</td>\n",
       "    </tr>\n",
       "  </tbody>\n",
       "</table>\n",
       "</div>"
      ],
      "text/plain": [
       "  location_id                      name             distance bearing  \\\n",
       "0    27200794  Anna Subirats Xarcuteria  0.03857963183663804    east   \n",
       "\n",
       "  address_obj_city      address_obj_state address_obj_country  \\\n",
       "0        Barcelona  Province of Barcelona               Spain   \n",
       "\n",
       "                        address_obj_address_string        type neighbourhood  \\\n",
       "0  Carrer De Sepulveda, 167, 08011 Barcelona Spain  restaurant      Eixample   \n",
       "\n",
       "  __index_level_0__   latitude  longitude  \n",
       "0               190  41.383205   2.162197  "
      ]
     },
     "execution_count": 32,
     "metadata": {},
     "output_type": "execute_result"
    }
   ],
   "source": [
    "df_locations = spark.read \\\n",
    "  .format(\"jdbc\") \\\n",
    "  .option(\"url\", jdbc_url) \\\n",
    "  .option(\"driver\", driver) \\\n",
    "  .option(\"query\", \"SELECT * FROM df_tripadvisor_locations\") \\\n",
    "  .load()\n",
    "df_locations.limit(1).toPandas()"
   ]
  },
  {
   "cell_type": "markdown",
   "metadata": {},
   "source": [
    "Remove redundant columns: \n",
    "\n",
    "In this step, we remove the redundant columns from the DataFrame that are not of interest for our analysis. These columns include: \n",
    "\n",
    "1. **distance**:\n",
    "    - While distance might seem useful at first glance, the format of this data can be inconsistent or unclear without a unit of measurement (e.g., meters, kilometers). Additionally, if precise geolocation (latitude and longitude) is available, distance can be calculated more accurately and consistently using those values.\n",
    "\n",
    "2. **bearing**: \n",
    "    - Indicates the direction to the attraction from a reference point, but without specific context, it doesn't provide meaningful information about proximity. It is also less intuitive for most users compared to geolocation.\n",
    "\n",
    "3. **address_obj_city**:\n",
    "    - This field indicates the city of the address object. It is too general to be useful for identifying nearby attractions, as it does not provide specific proximity information. Attractions within the same city can still be far apart.\n",
    "\n",
    "4. **address_obj_state**:\n",
    "    - Similar to the city, the state information is too broad and does not help in determining what attractions are nearby an Airbnb.\n",
    "\n",
    "5. **address_obj_country**:\n",
    "    - Country information is even more general than state or city and is not useful for determining proximity to nearby attractions.\n",
    "\n",
    "6. **address_obj_address_string**:\n",
    "    - This is a textual representation of the address which can be useful for human reading but not for computational proximity analysis. Latitude and longitude coordinates are far more precise for identifying nearby attractions.\n",
    "\n",
    "7. **__index_level_0__**:\n",
    "    - This column appears to be an internal or indexing column from tripadvisor that does not provide any useful information about the proximity of attractions."
   ]
  },
  {
   "cell_type": "code",
   "execution_count": 33,
   "metadata": {},
   "outputs": [],
   "source": [
    "columns_to_drop = [\n",
    "    'distance',\n",
    "    'bearing',\n",
    "    'address_obj_city',\n",
    "    'address_obj_state',\n",
    "    'address_obj_country',\n",
    "    'address_obj_address_string',\n",
    "    '__index_level_0__',\n",
    "]\n",
    "\n",
    "df_locations = df_locations.drop(*columns_to_drop)"
   ]
  },
  {
   "cell_type": "code",
   "execution_count": 34,
   "metadata": {},
   "outputs": [
    {
     "name": "stdout",
     "output_type": "stream",
     "text": [
      "root\n",
      " |-- location_id: string (nullable = true)\n",
      " |-- name: string (nullable = true)\n",
      " |-- type: string (nullable = true)\n",
      " |-- neighbourhood: string (nullable = true)\n",
      " |-- latitude: float (nullable = true)\n",
      " |-- longitude: float (nullable = true)\n",
      "\n"
     ]
    },
    {
     "data": {
      "text/html": [
       "<div>\n",
       "<style scoped>\n",
       "    .dataframe tbody tr th:only-of-type {\n",
       "        vertical-align: middle;\n",
       "    }\n",
       "\n",
       "    .dataframe tbody tr th {\n",
       "        vertical-align: top;\n",
       "    }\n",
       "\n",
       "    .dataframe thead th {\n",
       "        text-align: right;\n",
       "    }\n",
       "</style>\n",
       "<table border=\"1\" class=\"dataframe\">\n",
       "  <thead>\n",
       "    <tr style=\"text-align: right;\">\n",
       "      <th></th>\n",
       "      <th>location_id</th>\n",
       "      <th>name</th>\n",
       "      <th>type</th>\n",
       "      <th>neighbourhood</th>\n",
       "      <th>latitude</th>\n",
       "      <th>longitude</th>\n",
       "    </tr>\n",
       "  </thead>\n",
       "  <tbody>\n",
       "    <tr>\n",
       "      <th>0</th>\n",
       "      <td>27200794</td>\n",
       "      <td>Anna Subirats Xarcuteria</td>\n",
       "      <td>restaurant</td>\n",
       "      <td>Eixample</td>\n",
       "      <td>41.383205</td>\n",
       "      <td>2.162197</td>\n",
       "    </tr>\n",
       "  </tbody>\n",
       "</table>\n",
       "</div>"
      ],
      "text/plain": [
       "  location_id                      name        type neighbourhood   latitude  \\\n",
       "0    27200794  Anna Subirats Xarcuteria  restaurant      Eixample  41.383205   \n",
       "\n",
       "   longitude  \n",
       "0   2.162197  "
      ]
     },
     "execution_count": 34,
     "metadata": {},
     "output_type": "execute_result"
    }
   ],
   "source": [
    "df_locations.printSchema()\n",
    "df_locations.limit(1).toPandas()"
   ]
  },
  {
   "cell_type": "markdown",
   "metadata": {},
   "source": [
    "---\n",
    "\n",
    "### $\\Rightarrow$  Reviews TripAvisor Dataset\n",
    "---\n",
    "**DataFrame Schema**\n",
    "\n",
    "The DataFrame comprises various groups of columns, each providing distinct details related to property listings:\n",
    "\n",
    " - id: decimal(20,0) (nullable = true)\n",
    " - lang: string (nullable = true)\n",
    " - location_id: decimal(20,0) (nullable = true)\n",
    " - published_date: string (nullable = true)\n",
    " - rating: decimal(20,0) (nullable = true)\n",
    " - helpful_votes: decimal(20,0) (nullable = true)\n",
    " - rating_image_url: string (nullable = true)\n",
    " - url: string (nullable = true)\n",
    " - text: string (nullable = true)\n",
    " - title: string (nullable = true)\n",
    " - user_username: string (nullable = true)\n",
    " - user_user_location_id: string (nullable = true)"
   ]
  },
  {
   "cell_type": "code",
   "execution_count": 35,
   "metadata": {},
   "outputs": [],
   "source": [
    "df_reviews = spark.read \\\n",
    "  .format(\"jdbc\") \\\n",
    "  .option(\"url\", jdbc_url) \\\n",
    "  .option(\"driver\", driver) \\\n",
    "  .option(\"query\", \"SELECT * FROM df_tripadvisor_reviews\") \\\n",
    "  .load()"
   ]
  },
  {
   "cell_type": "markdown",
   "metadata": {},
   "source": [
    "**Remove redundant columns**: \n",
    "\n",
    "In this step, we remove the redundant columns from the DataFrame that are not of interest for our analysis. These columns include: \n",
    "\n",
    "1. Review Metadata: **id, url, user_username, user_user_location_id**\n",
    "    - These columns contain specific information about the review and the user who wrote it. They are useful for identifying and referencing reviews but do not provide any information about the proximity of attractions.\n",
    "\n",
    "2. Review Context: **lang, published_date**\n",
    "    - These columns provide context about the review, such as the language in which it is written and the publication date. They are useful for filtering and understanding the context of the reviews but do not offer spatial information about nearby attractions.\n",
    "\n",
    "3. User Interaction: **helpful_votes, rating_image_url**\n",
    "    - These columns indicate user interaction and the visual representation of the rating. While they are useful for measuring the usefulness and visual perception of the review, they do not contain any location data."
   ]
  },
  {
   "cell_type": "code",
   "execution_count": 36,
   "metadata": {},
   "outputs": [],
   "source": [
    "columns_to_drop = [\n",
    "    'id',\n",
    "    'lang',\n",
    "    'published_date',\n",
    "    'helpful_votes',\n",
    "    'rating_image_url',\n",
    "    'url',\n",
    "    'user_username',\n",
    "    'user_user_location_id'\n",
    "]\n",
    "\n",
    "df_reviews = df_reviews.drop(*columns_to_drop)"
   ]
  },
  {
   "cell_type": "code",
   "execution_count": 37,
   "metadata": {},
   "outputs": [
    {
     "name": "stdout",
     "output_type": "stream",
     "text": [
      "root\n",
      " |-- location_id: decimal(20,0) (nullable = true)\n",
      " |-- rating: decimal(20,0) (nullable = true)\n",
      " |-- text: string (nullable = true)\n",
      " |-- title: string (nullable = true)\n",
      "\n"
     ]
    },
    {
     "data": {
      "text/html": [
       "<div>\n",
       "<style scoped>\n",
       "    .dataframe tbody tr th:only-of-type {\n",
       "        vertical-align: middle;\n",
       "    }\n",
       "\n",
       "    .dataframe tbody tr th {\n",
       "        vertical-align: top;\n",
       "    }\n",
       "\n",
       "    .dataframe thead th {\n",
       "        text-align: right;\n",
       "    }\n",
       "</style>\n",
       "<table border=\"1\" class=\"dataframe\">\n",
       "  <thead>\n",
       "    <tr style=\"text-align: right;\">\n",
       "      <th></th>\n",
       "      <th>location_id</th>\n",
       "      <th>rating</th>\n",
       "      <th>text</th>\n",
       "      <th>title</th>\n",
       "    </tr>\n",
       "  </thead>\n",
       "  <tbody>\n",
       "    <tr>\n",
       "      <th>0</th>\n",
       "      <td>8821646</td>\n",
       "      <td>5</td>\n",
       "      <td>Stopped for a light bites chicken, chips, rice...</td>\n",
       "      <td>Good value tasty food.</td>\n",
       "    </tr>\n",
       "  </tbody>\n",
       "</table>\n",
       "</div>"
      ],
      "text/plain": [
       "  location_id rating                                               text  \\\n",
       "0     8821646      5  Stopped for a light bites chicken, chips, rice...   \n",
       "\n",
       "                    title  \n",
       "0  Good value tasty food.  "
      ]
     },
     "execution_count": 37,
     "metadata": {},
     "output_type": "execute_result"
    }
   ],
   "source": [
    "df_reviews.printSchema()\n",
    "df_reviews.limit(1).toPandas()"
   ]
  },
  {
   "cell_type": "markdown",
   "metadata": {},
   "source": [
    "---\n",
    "### $\\Rightarrow$  Store data to the explotation zone\n",
    "---"
   ]
  },
  {
   "cell_type": "code",
   "execution_count": 38,
   "metadata": {},
   "outputs": [
    {
     "name": "stdout",
     "output_type": "stream",
     "text": [
      "Writting tables...\n",
      "    - Criminal table\n"
     ]
    },
    {
     "name": "stdout",
     "output_type": "stream",
     "text": [
      "    - Aribnb table\n"
     ]
    },
    {
     "name": "stderr",
     "output_type": "stream",
     "text": [
      "                                                                                \r"
     ]
    },
    {
     "name": "stdout",
     "output_type": "stream",
     "text": [
      "    - Tripadvisor Locations table\n"
     ]
    },
    {
     "name": "stderr",
     "output_type": "stream",
     "text": [
      "                                                                                \r"
     ]
    },
    {
     "name": "stdout",
     "output_type": "stream",
     "text": [
      "    - Tripadvisor Reviews table\n"
     ]
    },
    {
     "name": "stderr",
     "output_type": "stream",
     "text": [
      "                                                                                \r"
     ]
    }
   ],
   "source": [
    "# Prepare the DuckDB connection\n",
    "con = duckdb.connect(database='./../data/explotation_zone/barcelona_processed.db', read_only=False)\n",
    "con.close()\n",
    "\n",
    "## Write on the tables \n",
    "print('Writting tables...')\n",
    "jdbc_url = 'jdbc:duckdb:./../data/explotation_zone/barcelona_processed.db'\n",
    "driver = \"org.duckdb.DuckDBDriver\"\n",
    "\n",
    "print('    - Criminal table')\n",
    "df_criminal.write \\\n",
    "    .format(\"jdbc\") \\\n",
    "    .option(\"url\", jdbc_url) \\\n",
    "    .option(\"dbtable\", \"df_criminal_dataset\") \\\n",
    "    .option(\"driver\", driver) \\\n",
    "    .mode(\"overwrite\") \\\n",
    "    .save()\n",
    "\n",
    "print('    - Aribnb table')\n",
    "df_airbnb.write \\\n",
    "    .format(\"jdbc\") \\\n",
    "    .option(\"url\", jdbc_url) \\\n",
    "    .option(\"dbtable\", \"df_airbnb_listings\") \\\n",
    "    .option(\"driver\", driver) \\\n",
    "    .mode(\"overwrite\") \\\n",
    "    .save()\n",
    "\n",
    "print('    - Tripadvisor Locations table')\n",
    "df_locations.write \\\n",
    "    .format(\"jdbc\") \\\n",
    "    .option(\"url\", jdbc_url) \\\n",
    "    .option(\"dbtable\", \"df_tripadvisor_locations\") \\\n",
    "    .option(\"driver\", driver) \\\n",
    "    .mode(\"overwrite\") \\\n",
    "    .save()\n",
    "\n",
    "print('    - Tripadvisor Reviews table')\n",
    "df_reviews.write \\\n",
    "    .format(\"jdbc\") \\\n",
    "    .option(\"url\", jdbc_url) \\\n",
    "    .option(\"dbtable\", \"df_tripadvisor_reviews\") \\\n",
    "    .option(\"driver\", driver) \\\n",
    "    .mode(\"overwrite\") \\\n",
    "    .save()\n",
    "\n",
    "spark.stop()\n",
    "con.close()"
   ]
  }
 ],
 "metadata": {
  "kernelspec": {
   "display_name": "Python 3 (ipykernel)",
   "language": "python",
   "name": "python3"
  },
  "language_info": {
   "codemirror_mode": {
    "name": "ipython",
    "version": 3
   },
   "file_extension": ".py",
   "mimetype": "text/x-python",
   "name": "python",
   "nbconvert_exporter": "python",
   "pygments_lexer": "ipython3",
   "version": "3.12.3"
  }
 },
 "nbformat": 4,
 "nbformat_minor": 4
}
