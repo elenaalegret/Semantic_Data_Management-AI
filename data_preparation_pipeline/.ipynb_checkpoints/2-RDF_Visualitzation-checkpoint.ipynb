{
 "cells": [
  {
   "cell_type": "markdown",
   "metadata": {},
   "source": [
    "___\n",
    "\n",
    "<div style=\"text-align: center;\">\n",
    "  <span style=\"font-family: 'Playfair Display', serif; font-size: 24px; font-weight: bold;\">\n",
    "Schema Definition for RDF Graph  </span>\n",
    "</div>\n",
    "\n",
    "___\n",
    "\n",
    "\n",
    "In this notebook, we define the schema for an RDF graph based on the data sources. This involves outlining the structure and relationships of the data to be used in constructing a semantic knowledge graph. The main steps include:\n",
    "\n",
    "- Schema Design: We design the RDF schema, identifying key entities, attributes, and relationships that will form the basis of the knowledge graph.\n",
    "- Mapping Data to RDF: We map the cleaned data to the RDF schema, converting it into RDF triples (subject-predicate-object format), as it can be seen in the `KnowledgeGraph.py`.\n",
    "- Validation: We validate the generated RDF data to ensure it adheres to the defined schema and accurately represents the original data.\n",
    "- Integration and Storage: Finally, we integrate the RDF data into a triple store or RDF database for further querying and analysis."
   ]
  },
  {
   "cell_type": "code",
   "execution_count": null,
   "metadata": {},
   "outputs": [],
   "source": [
    "#!pip install networkx pyvis rdflib ipython numpy matplotlib pygraphviz"
   ]
  },
  {
   "cell_type": "code",
   "execution_count": 1,
   "metadata": {},
   "outputs": [],
   "source": [
    "import networkx as nx\n",
    "from rdflib import Graph, Namespace, Literal\n",
    "from rdflib.namespace import RDF, RDFS, XSD\n",
    "import matplotlib.pyplot as plt\n",
    "from networkx.drawing.nx_agraph import graphviz_layout\n",
    "from rdflib.plugins.sparql import prepareQuery\n",
    "import duckdb\n",
    "import sys\n",
    "import os\n",
    "\n",
    "# Path to root direct\n",
    "project_root = './..'\n",
    "sys.path.append(project_root)\n",
    "import utils"
   ]
  },
  {
   "cell_type": "code",
   "execution_count": 2,
   "metadata": {},
   "outputs": [],
   "source": [
    "# Create RDF\n",
    "g = Graph()\n",
    "\n",
    "# Define Namespaces\n",
    "ex = Namespace('http://example.org/')\n",
    "loc = Namespace('http://example.org/location/')\n",
    "ent = Namespace('http://example.org/entertainment/')\n",
    "apt = Namespace('http://example.org/apartment/')\n",
    "inc = Namespace('http://example.org/incident/')\n",
    "schema = Namespace('http://schema.org/')\n",
    "\n",
    "# Vinculate Namespaces to graph RDF\n",
    "g.bind('ex', ex)\n",
    "g.bind('loc', loc)\n",
    "g.bind('ent', ent)\n",
    "g.bind('apt', apt)\n",
    "g.bind('inc', inc)\n",
    "g.bind('schema', schema)"
   ]
  },
  {
   "cell_type": "markdown",
   "metadata": {},
   "source": [
    "## General Schema Definition"
   ]
  },
  {
   "cell_type": "code",
   "execution_count": 3,
   "metadata": {},
   "outputs": [
    {
     "data": {
      "text/plain": [
       "<Graph identifier=N9d39ce420e8b4c878eefd5af25fed3c1 (<class 'rdflib.graph.Graph'>)>"
      ]
     },
     "execution_count": 3,
     "metadata": {},
     "output_type": "execute_result"
    }
   ],
   "source": [
    "# Define Classes\n",
    "g.add((loc.Locations, RDF.type, RDFS.Class))\n",
    "g.add((loc.District, RDF.type, RDFS.Class))\n",
    "g.add((inc.Incident, RDF.type, RDFS.Class))\n",
    "\n",
    "# Define Locations subclases\n",
    "g.add((ent.Entertainment, RDF.type, RDFS.Class))\n",
    "g.add((ent.Entertainment, RDFS.subClassOf, loc.Locations))\n",
    "\n",
    "g.add((apt.Apartment, RDF.type, RDFS.Class))\n",
    "g.add((apt.Apartment, RDFS.subClassOf, loc.Locations))\n",
    "\n",
    "# Define isinDistrict propiety \n",
    "g.add((loc.isinDistrict, RDF.type, RDF.Property))\n",
    "g.add((loc.isinDistrict, RDFS.domain, loc.Locations))\n",
    "g.add((loc.isinDistrict, RDFS.range, loc.District))\n",
    "\n",
    "# Define hasLocation for apt\n",
    "g.add((apt.hasLocation, RDF.type, RDF.Property))\n",
    "g.add((apt.hasLocation, RDFS.domain, apt.Apartment))\n",
    "g.add((apt.hasLocation, RDFS.range, loc.Locations))\n",
    "\n",
    "# Define hasLocation for entertainment\n",
    "g.add((ent.hasLocation, RDF.type, RDF.Property))\n",
    "g.add((ent.hasLocation, RDFS.domain, ent.Entertainment))\n",
    "g.add((ent.hasLocation, RDFS.range, loc.Locations))\n",
    "\n",
    "# Define Longitude propiety\n",
    "g.add((loc.Longitude, RDF.type, RDF.Property))\n",
    "g.add((loc.Longitude, RDFS.domain, loc.Locations))\n",
    "g.add((loc.Longitude, RDFS.range, XSD.float))\n",
    "\n",
    "# Define Latitude propiety\n",
    "g.add((loc.Latitude, RDF.type, RDF.Property))\n",
    "g.add((loc.Latitude, RDFS.domain, loc.Locations))\n",
    "g.add((loc.Latitude, RDFS.range, XSD.float))\n",
    "\n",
    "# Define IndexCriminality propiety\n",
    "g.add((loc.criminalityIndex, RDF.type, RDF.Property))\n",
    "g.add((loc.criminalityIndex, RDFS.domain, loc.District))\n",
    "g.add((loc.criminalityIndex, RDFS.range, XSD.float))"
   ]
  },
  {
   "cell_type": "markdown",
   "metadata": {},
   "source": [
    "### Incident Schema Definition: \n",
    "\n",
    "For the incident schema, the variables that will be needed are: \n",
    "\n",
    "- nom_mes: nameMonth\n",
    "- neighbourhood: Reference the District Class (neighbourhood).\n",
    "- type_crime: incidentType\n",
    "- nombre_victimes: numberVictims\n",
    "\n",
    "An example of an instance is: \n",
    "- nom_mes: Juny\n",
    "- neighbourhood: Nou Barris\n",
    "- type_crime:  Political orientation\t\n",
    "- nombre_victimes: 1.0"
   ]
  },
  {
   "cell_type": "code",
   "execution_count": 4,
   "metadata": {},
   "outputs": [
    {
     "data": {
      "text/plain": [
       "<Graph identifier=N9d39ce420e8b4c878eefd5af25fed3c1 (<class 'rdflib.graph.Graph'>)>"
      ]
     },
     "execution_count": 4,
     "metadata": {},
     "output_type": "execute_result"
    }
   ],
   "source": [
    "# Define happenedAt\n",
    "g.add((inc.happenedAt, RDF.type, RDF.Property))\n",
    "g.add((inc.happenedAt, RDFS.domain, inc.Incident))\n",
    "g.add((inc.happenedAt, RDFS.range, loc.District))\n",
    "\n",
    "\"\"\"# Define year\n",
    "g.add((inc.year, RDF.type, RDF.Property))\n",
    "g.add((inc.year, RDFS.domain, inc.Incident))\n",
    "g.add((inc.year, RDFS.range, XSD.integer))\n",
    "\n",
    "# Define numberMonth\n",
    "g.add((inc.numberMonth, RDF.type, RDF.Property))\n",
    "g.add((inc.numberMonth, RDFS.domain, inc.Incident))\n",
    "g.add((inc.numberMonth, RDFS.range, XSD.integer))\n",
    "\n",
    "# Define typePenalCode\n",
    "g.add((inc.typePenalCode, RDF.type, RDF.Property))\n",
    "g.add((inc.typePenalCode, RDFS.domain, inc.Incident))\n",
    "g.add((inc.typePenalCode, RDFS.range, XSD.string))\n",
    "\n",
    "# Define wherePenalCode\n",
    "g.add((inc.wherePenalCode, RDF.type, RDF.Property))\n",
    "g.add((inc.wherePenalCode, RDFS.domain, inc.Incident))\n",
    "g.add((inc.wherePenalCode, RDFS.range, XSD.string))\n",
    "\"\"\"\n",
    "\n",
    "# Define nameMonth\n",
    "g.add((inc.nameMonth, RDF.type, RDF.Property))\n",
    "g.add((inc.nameMonth, RDFS.domain, inc.Incident))\n",
    "g.add((inc.nameMonth, RDFS.range, XSD.string))\n",
    "\n",
    "# Define incidentType \n",
    "g.add((inc.incidentType, RDF.type, RDF.Property))\n",
    "g.add((inc.incidentType, RDFS.domain, inc.Incident))\n",
    "g.add((inc.incidentType, RDFS.range, XSD.string))\n",
    "\n",
    "# Define numberVictims\n",
    "g.add((inc.numberVictims, RDF.type, RDF.Property))\n",
    "g.add((inc.numberVictims, RDFS.domain, inc.Incident))\n",
    "g.add((inc.numberVictims, RDFS.range, XSD.float))\n",
    "\n",
    "# Define criminalityIndex\n",
    "# g.add((inc.criminalityIndex, RDF.type, RDF.Property))\n",
    "# g.add((inc.criminalityIndex, RDFS.domain, inc.Incident))\n",
    "# g.add((inc.criminalityIndex, RDFS.range, XSD.float))"
   ]
  },
  {
   "cell_type": "markdown",
   "metadata": {},
   "source": [
    "## Airbnb Schema Definition\n",
    "\n",
    "For the Airbnb schema, the variables that will be needed are: \n",
    "\n",
    "- name: name\n",
    "- host_id: hostId\n",
    "- host_since: hostSince\n",
    "- host_total_listings_count: hostTotalListingsCount\n",
    "- host_verifications: hostVerifications\n",
    "- neighbourhood: Reference the District Class (neighbourhood).\n",
    "- latitude: Reference the Latitude domain.\n",
    "- longitude: Reference the Longitude domain.\n",
    "- property_type: propertyType\n",
    "- room_type: roomType\n",
    "- accommodates: accommodates\n",
    "- bathrooms: bathrooms\n",
    "- bedrooms: bedrooms\n",
    "- beds: beds\n",
    "- bed_type: bedType\n",
    "- price (x night): price\n",
    "- security_deposit: securityDeposit\n",
    "- cleaning_fee: cleaningFee\n",
    "- guests_included: guestsIncluded\n",
    "- extra_people: extraPeople\n",
    "- minimum_nights: minimumNights\n",
    "- maximum_nights: maximumNights\n",
    "- number_of_reviews: numberOfReviews\n",
    "- cancellation_policy: cancellationPolicy\n",
    "\n",
    "\n",
    "An example of an instance is: \n",
    "\n",
    "- name: Piso cerca del Cam Nou.\n",
    "- host_id: 38925857\n",
    "- host_since: 2015-07-19\n",
    "- host_total_listings_count: 1.0\n",
    "- host_verifications: email, phone, reviews, jumio\n",
    "- neighbourhood: Les Corts\n",
    "- latitude: 41.378150177192396\n",
    "- longitude: 2.122075545481956\n",
    "- property_type: Apartment\n",
    "- room_type: Private room\n",
    "- accommodates: 2\n",
    "- bathrooms: 2.0\n",
    "- bedrooms: 1.0\n",
    "- beds: 2.0\n",
    "- bed_type: Real Bed\n",
    "- price (x night): 21.0\n",
    "- security_deposit: 123.0\n",
    "- cleaning_fee: 54.0\n",
    "- guests_included: 1\n",
    "- extra_people: 7\n",
    "- minimum_nights: 1\n",
    "- maximum_nights: 1125\n",
    "- number_of_reviews: 1\n",
    "- cancellation_policy: moderate\t"
   ]
  },
  {
   "cell_type": "code",
   "execution_count": 5,
   "metadata": {},
   "outputs": [
    {
     "data": {
      "text/plain": [
       "<Graph identifier=N9d39ce420e8b4c878eefd5af25fed3c1 (<class 'rdflib.graph.Graph'>)>"
      ]
     },
     "execution_count": 5,
     "metadata": {},
     "output_type": "execute_result"
    }
   ],
   "source": [
    "# Define name\n",
    "g.add((apt.name, RDF.type, RDF.Property))\n",
    "g.add((apt.name, RDFS.domain, apt.Apartment))\n",
    "g.add((apt.name, RDFS.range, XSD.string))\n",
    "\n",
    "# Define hostId\n",
    "g.add((apt.hostId, RDF.type, RDF.Property))\n",
    "g.add((apt.hostId, RDFS.domain, apt.Apartment))\n",
    "g.add((apt.hostId, RDFS.range, XSD.integer))\n",
    "\n",
    "# Define hostSince\n",
    "g.add((apt.hostSince, RDF.type, RDF.Property))\n",
    "g.add((apt.hostSince, RDFS.domain, apt.Apartment))\n",
    "g.add((apt.hostSince, RDFS.range, XSD.string))\n",
    "\n",
    "# Define hostTotalListingsCount\n",
    "g.add((apt.hostTotalListingsCount, RDF.type, RDF.Property))\n",
    "g.add((apt.hostTotalListingsCount, RDFS.domain, apt.Apartment))\n",
    "g.add((apt.hostTotalListingsCount, RDFS.range, XSD.float))\n",
    "\n",
    "# Define hostVerifications\n",
    "g.add((apt.hostVerifications, RDF.type, RDF.Property))\n",
    "g.add((apt.hostVerifications, RDFS.domain, apt.Apartment))\n",
    "g.add((apt.hostVerifications, RDFS.range, XSD.string))\n",
    "\n",
    "# Define propertyType\n",
    "g.add((apt.propertyType, RDF.type, RDF.Property))\n",
    "g.add((apt.propertyType, RDFS.domain, apt.Apartment))\n",
    "g.add((apt.propertyType, RDFS.range, XSD.string))\n",
    "\n",
    "# Define roomType\n",
    "g.add((apt.roomType, RDF.type, RDF.Property))\n",
    "g.add((apt.roomType, RDFS.domain, apt.Apartment))\n",
    "g.add((apt.roomType, RDFS.range, XSD.string))\n",
    "\n",
    "# Define accommodates\n",
    "g.add((apt.accommodates, RDF.type, RDF.Property))\n",
    "g.add((apt.accommodates, RDFS.domain, apt.Apartment))\n",
    "g.add((apt.accommodates, RDFS.range, XSD.integer))\n",
    "\n",
    "# Define bathrooms\n",
    "g.add((apt.bathrooms, RDF.type, RDF.Property))\n",
    "g.add((apt.bathrooms, RDFS.domain, apt.Apartment))\n",
    "g.add((apt.bathrooms, RDFS.range, XSD.integer))\n",
    "\n",
    "# Define bedrooms\n",
    "g.add((apt.bedrooms, RDF.type, RDF.Property))\n",
    "g.add((apt.bedrooms, RDFS.domain, apt.Apartment))\n",
    "g.add((apt.bedrooms, RDFS.range, XSD.integer))\n",
    "\n",
    "# Define beds\n",
    "g.add((apt.beds, RDF.type, RDF.Property))\n",
    "g.add((apt.beds, RDFS.domain, apt.Apartment))\n",
    "g.add((apt.beds, RDFS.range, XSD.integer))\n",
    "\n",
    "# Define bedType\n",
    "g.add((apt.bedType, RDF.type, RDF.Property))\n",
    "g.add((apt.bedType, RDFS.domain, apt.Apartment))\n",
    "g.add((apt.bedType, RDFS.range, XSD.string))\n",
    "\n",
    "# Define price\n",
    "g.add((apt.price, RDF.type, RDF.Property))\n",
    "g.add((apt.price, RDFS.domain, apt.Apartment))\n",
    "g.add((apt.price, RDFS.range, XSD.float))\n",
    "\n",
    "# Define securityDeposit\n",
    "g.add((apt.securityDeposit, RDF.type, RDF.Property))\n",
    "g.add((apt.securityDeposit, RDFS.domain, apt.Apartment))\n",
    "g.add((apt.securityDeposit, RDFS.range, XSD.float))\n",
    "\n",
    "# Define cleaningFee\n",
    "g.add((apt.cleaningFee, RDF.type, RDF.Property))\n",
    "g.add((apt.cleaningFee, RDFS.domain, apt.Apartment))\n",
    "g.add((apt.cleaningFee, RDFS.range, XSD.float))\n",
    "\n",
    "# Define guestsIncluded\n",
    "g.add((apt.guestsIncluded, RDF.type, RDF.Property))\n",
    "g.add((apt.guestsIncluded, RDFS.domain, apt.Apartment))\n",
    "g.add((apt.guestsIncluded, RDFS.range, XSD.integer))\n",
    "\n",
    "# Define extraPeople\n",
    "g.add((apt.extraPeople, RDF.type, RDF.Property))\n",
    "g.add((apt.extraPeople, RDFS.domain, apt.Apartment))\n",
    "g.add((apt.extraPeople, RDFS.range, XSD.integer))\n",
    "\n",
    "# Define minimumNights\n",
    "g.add((apt.minimumNights, RDF.type, RDF.Property))\n",
    "g.add((apt.minimumNights, RDFS.domain, apt.Apartment))\n",
    "g.add((apt.minimumNights, RDFS.range, XSD.integer))\n",
    "\n",
    "# Define maximumNights\n",
    "g.add((apt.maximumNights, RDF.type, RDF.Property))\n",
    "g.add((apt.maximumNights, RDFS.domain, apt.Apartment))\n",
    "g.add((apt.maximumNights, RDFS.range, XSD.integer))\n",
    "\n",
    "# Define numberOfReviews\n",
    "g.add((apt.numberOfReviews, RDF.type, RDF.Property))\n",
    "g.add((apt.numberOfReviews, RDFS.domain, apt.Apartment))\n",
    "g.add((apt.numberOfReviews, RDFS.range, XSD.integer)) \n",
    "\n",
    "# Define cancellationPolicy\n",
    "g.add((apt.cancellationPolicy, RDF.type, RDF.Property))\n",
    "g.add((apt.cancellationPolicy, RDFS.domain, apt.Apartment))\n",
    "g.add((apt.cancellationPolicy, RDFS.range, XSD.string))"
   ]
  },
  {
   "cell_type": "markdown",
   "metadata": {},
   "source": [
    "## Tripadvisor Locations Schema Definition\n",
    "\n",
    "For the Tripadvisor Locations schema, the variables that will be needed are: \n",
    "\n",
    "- location_id: locationId\n",
    "- name: name\n",
    "- type: type\n",
    "- neighbourhood: Reference the District Class (neighbourhood).\n",
    "- latitude: Reference the Latitude domain.\n",
    "- longitude: Reference the Longitude domain.\n",
    "\n",
    "An example of an instance is: \n",
    "\n",
    "- location_id: 27200794\n",
    "- name: Anna Subirats Xarcuteria\n",
    "- type: restaurant\n",
    "- neighbourhood: Eixample\n",
    "- latitude: 41.383205\n",
    "- longitude: 2.162197"
   ]
  },
  {
   "cell_type": "code",
   "execution_count": 6,
   "metadata": {},
   "outputs": [
    {
     "data": {
      "text/plain": [
       "<Graph identifier=N9d39ce420e8b4c878eefd5af25fed3c1 (<class 'rdflib.graph.Graph'>)>"
      ]
     },
     "execution_count": 6,
     "metadata": {},
     "output_type": "execute_result"
    }
   ],
   "source": [
    "# Define locationID\n",
    "g.add((ent.locationID, RDF.type, RDF.Property))\n",
    "g.add((ent.locationID, RDFS.domain, ent.Entertainment))\n",
    "g.add((ent.locationID, RDFS.range, XSD.integer))\n",
    "\n",
    "# Define name\n",
    "g.add((ent.name, RDF.type, RDF.Property))\n",
    "g.add((ent.name, RDFS.domain, ent.Entertainment))\n",
    "g.add((ent.name, RDFS.range, XSD.string))\n",
    "\n",
    "# Define typeEnt\n",
    "g.add((ent.typeEnt, RDF.type, RDF.Property))\n",
    "g.add((ent.typeEnt, RDFS.domain, ent.Entertainment))\n",
    "g.add((ent.typeEnt, RDFS.range, XSD.string))\n",
    "\n",
    "# Define typeEnt\n",
    "g.add((ent.avgrating, RDF.type, RDF.Property))\n",
    "g.add((ent.avgrating, RDFS.domain, ent.Entertainment))\n",
    "g.add((ent.avgrating, RDFS.range, XSD.float))"
   ]
  },
  {
   "cell_type": "markdown",
   "metadata": {},
   "source": [
    "## Tripadvisor Reviews Schema Definition\n",
    "\n",
    "For the Tripadvisor Locations schema, the variables that will be needed are: \n",
    "\n",
    "- location_id: locationId\n",
    "- rating: rating\n",
    "- text: text\n",
    "- title: title\n",
    "\n",
    "An example of an instance is: \n",
    "\n",
    "- location_id: 8821646\n",
    "- rating: 5\n",
    "- text: Stopped for a light bites chicken, chips, rice...\n",
    "- title: Good value tasty food."
   ]
  },
  {
   "cell_type": "code",
   "execution_count": 7,
   "metadata": {},
   "outputs": [
    {
     "data": {
      "text/plain": [
       "<Graph identifier=N9d39ce420e8b4c878eefd5af25fed3c1 (<class 'rdflib.graph.Graph'>)>"
      ]
     },
     "execution_count": 7,
     "metadata": {},
     "output_type": "execute_result"
    }
   ],
   "source": [
    "# Define rating\n",
    "g.add((ent.rating, RDF.type, RDF.Property))\n",
    "g.add((ent.rating, RDFS.domain, ent.Entertainment))\n",
    "g.add((ent.rating, RDFS.range, XSD.float))\n",
    "\n",
    "# Define text\n",
    "g.add((ent.text, RDF.type, RDF.Property))\n",
    "g.add((ent.text, RDFS.domain, ent.Entertainment))\n",
    "g.add((ent.text, RDFS.range, XSD.string))\n",
    "\n",
    "# Define title\n",
    "g.add((ent.title, RDF.type, RDF.Property))\n",
    "g.add((ent.title, RDFS.domain, ent.Entertainment))\n",
    "g.add((ent.title, RDFS.range, XSD.string))"
   ]
  },
  {
   "cell_type": "markdown",
   "metadata": {},
   "source": [
    " Instances Generator: Add the instances from the DuckDB to RDF"
   ]
  },
  {
   "cell_type": "code",
   "execution_count": 8,
   "metadata": {},
   "outputs": [],
   "source": [
    "# Connection to trusted database\n",
    "con = duckdb.connect(database='./../data/explotation_zone/barcelona_processed.db')"
   ]
  },
  {
   "cell_type": "markdown",
   "metadata": {},
   "source": [
    "- Criminal Instances"
   ]
  },
  {
   "cell_type": "code",
   "execution_count": 9,
   "metadata": {},
   "outputs": [],
   "source": [
    "# Connection to database\n",
    "df_criminal = con.execute(\"SELECT * FROM df_criminal_dataset\").fetchdf()\n",
    "utils.add_criminal_instances(g, loc, inc, ex, df_criminal)"
   ]
  },
  {
   "cell_type": "markdown",
   "metadata": {},
   "source": [
    "- Airbnb Dataset"
   ]
  },
  {
   "cell_type": "code",
   "execution_count": 10,
   "metadata": {},
   "outputs": [],
   "source": [
    "# Connection to database         \n",
    "df_airbnb = con.execute(\"SELECT * FROM df_airbnb_listings\").fetchdf()\n",
    "utils.add_airbnb_instances(g, loc, apt, df_airbnb)"
   ]
  },
  {
   "cell_type": "markdown",
   "metadata": {},
   "source": [
    "- Tripadvisor Datasets: Locations and Restaurants"
   ]
  },
  {
   "cell_type": "code",
   "execution_count": 11,
   "metadata": {},
   "outputs": [],
   "source": [
    "# Connection to databases\n",
    "df_tripadvisor_locations = con.execute(\"SELECT * FROM df_tripadvisor_locations\").fetchdf()\n",
    "df_tripadvisor_reviews = con.execute(\"SELECT * FROM df_tripadvisor_reviews\").fetchdf()\n",
    "utils.add_entertainment_instances(g, loc, ent, df_tripadvisor_locations, 'loc')\n",
    "utils.add_entertainment_instances(g, loc, ent, df_tripadvisor_reviews, 'rev')"
   ]
  },
  {
   "cell_type": "markdown",
   "metadata": {},
   "source": [
    "Store the RDF dataset into Turtle format"
   ]
  },
  {
   "cell_type": "code",
   "execution_count": 12,
   "metadata": {},
   "outputs": [
    {
     "data": {
      "text/plain": [
       "<Graph identifier=N9d39ce420e8b4c878eefd5af25fed3c1 (<class 'rdflib.graph.Graph'>)>"
      ]
     },
     "execution_count": 12,
     "metadata": {},
     "output_type": "execute_result"
    }
   ],
   "source": [
    "g.serialize(destination='./../data/explotation_zone/RDFGraph_Visualitzation.ttl', format='turtle')"
   ]
  },
  {
   "cell_type": "code",
   "execution_count": 12,
   "metadata": {},
   "outputs": [],
   "source": [
    "con.close()"
   ]
  },
  {
   "cell_type": "markdown",
   "metadata": {},
   "source": [
    "Sanity Check: Verify if the instances are well added"
   ]
  },
  {
   "cell_type": "code",
   "execution_count": 124,
   "metadata": {},
   "outputs": [
    {
     "name": "stdout",
     "output_type": "stream",
     "text": [
      "\n",
      "Random instance of type http://example.org/apartment/Apartment: http://example.org/apartment/apartment_7761\n",
      "Properties of the selected instance:\n",
      "  rdf:type: apt:Apartment (URI)\n",
      "  apt:hasLocation: loc:location_apt_7761 (URI)\n",
      "  apt:name: Affordable Private rooms (Literal)\n",
      "  apt:hostId: 38172980 (Literal)\n",
      "  apt:hostSince: 2015-07-11 (Literal)\n",
      "  apt:hostVerifications: email, phone, reviews, jumio (Literal)\n",
      "  apt:price: 25.0 (Literal)\n",
      "  apt:hostTotalListingsCount: 5.0 (Literal)\n",
      "  apt:propertyType: Bed & Breakfast (Literal)\n",
      "  apt:roomType: Private room (Literal)\n",
      "  apt:accommodates: 2.0 (Literal)\n",
      "  apt:bathrooms: 1.0 (Literal)\n",
      "  apt:bedrooms: 1.0 (Literal)\n",
      "  apt:beds: 2.0 (Literal)\n",
      "  apt:bedType: Real Bed (Literal)\n",
      "  apt:securityDeposit: 0.0 (Literal)\n",
      "  apt:cleaningFee: 0.0 (Literal)\n",
      "  apt:guestsIncluded: 1.0 (Literal)\n",
      "  apt:extraPeople: 35.0 (Literal)\n",
      "  apt:minimumNights: 1.0 (Literal)\n",
      "  apt:maximumNights: 1125.0 (Literal)\n",
      "  apt:numberOfReviews: 0.0 (Literal)\n",
      "  apt:cancellationPolicy: strict (Literal)\n",
      "\n",
      "Related instances and their properties:\n",
      "\n",
      "Properties of apt:Apartment:\n",
      "  rdf:type: rdfs:Class (URI)\n",
      "  rdfs:subClassOf: loc:Locations (URI)\n",
      "\n",
      "Properties of loc:location_apt_7761:\n",
      "  rdf:type: loc:Location (URI)\n",
      "  loc:isinDistrict: loc:Sants-Montjuïc (URI)\n",
      "  loc:Latitude: 41.37949224324187 (Literal)\n",
      "  loc:Longitude: 2.1327645619305406 (Literal)\n"
     ]
    }
   ],
   "source": [
    "utils.print_random_detailed_instance(g, apt.Apartment)"
   ]
  },
  {
   "cell_type": "code",
   "execution_count": 165,
   "metadata": {},
   "outputs": [],
   "source": [
    "def filter_apartments(neighborhoods, price_max=None, selected_room_types=None, bathrooms_min=None, beds_min=None, min_nights=None, num_samples=None):\n",
    "    #  SPARQL dynamic query\n",
    "    query = \"\"\"\n",
    "    PREFIX apt: <http://example.org/apartment/>\n",
    "    PREFIX loc: <http://example.org/location/>\n",
    "\n",
    "    SELECT ?apartment ?name ?district ?price ?room_type ?bathrooms ?beds ?minimum_nights ?bed_type ?latitude ?longitude\n",
    "    WHERE {\n",
    "        ?apartment apt:hasLocation ?location .\n",
    "        ?apartment apt:name ?name .\n",
    "        ?location loc:isinDistrict ?district .\n",
    "        ?apartment apt:bedType ?bed_type .\n",
    "        ?apartment apt:price ?price .\n",
    "        ?apartment apt:roomType ?room_type .\n",
    "        ?apartment apt:bathrooms ?bathrooms .\n",
    "        ?apartment apt:beds ?beds .\n",
    "        ?apartment apt:minimumNights ?minimum_nights .\n",
    "        ?location loc:Latitude ?latitude .\n",
    "        ?location loc:Longitude ?longitude .\n",
    "    \"\"\"\n",
    "    \n",
    "    if neighborhoods:\n",
    "        neighborhoods_filter = \" || \".join([f'?district = loc:{neigh.replace(\" \", \"_\")}' for neigh in neighborhoods])\n",
    "        query += f\"FILTER ({neighborhoods_filter}) .\\n\"\n",
    "\n",
    "    if price_max is not None:\n",
    "        query += f\"FILTER (?price <= {price_max}) .\\n\"\n",
    "\n",
    "    if selected_room_types:\n",
    "        room_types_filter = \" || \".join([f'?room_type = \"{rt}\"' for rt in selected_room_types])\n",
    "        query += f\"FILTER ({room_types_filter}) .\\n\"\n",
    "\n",
    "    if bathrooms_min is not None:\n",
    "        query += f\"FILTER (?bathrooms >= {bathrooms_min}) .\\n\"\n",
    "\n",
    "    if beds_min is not None:\n",
    "        query += f\"FILTER (?beds >= {beds_min}) .\\n\"\n",
    "\n",
    "    if min_nights is not None:\n",
    "        query += f\"FILTER (?minimum_nights >= {min_nights}) .\\n\"\n",
    "\n",
    "    query += \"}\"\n",
    "    \n",
    "    results = g.query(query)\n",
    "\n",
    "    # For injecting the data in folium map -> We need a tabular format\n",
    "    df_filtered_apartments = pd.DataFrame(results, columns=list(results.vars))\n",
    "    \n",
    "    if num_samples:\n",
    "      # In case of wanting more resources change 1000 to 100\n",
    "      df_filtered_apartments = pd.DataFrame(df_filtered_apartments.sample(frac=num_samples/100, random_state=42))\n",
    "\n",
    "\n",
    "    return df_filtered_apartments"
   ]
  },
  {
   "cell_type": "code",
   "execution_count": 168,
   "metadata": {},
   "outputs": [
    {
     "name": "stdout",
     "output_type": "stream",
     "text": [
      "Columnas del DataFrame: Index(['apartment', 'name', 'district', 'price', 'room_type', 'bathrooms',\n",
      "       'beds', 'minimum_nights', 'bed_type', 'latitude', 'longitude'],\n",
      "      dtype='object')\n"
     ]
    },
    {
     "ename": "KeyError",
     "evalue": "'district'",
     "output_type": "error",
     "traceback": [
      "\u001b[0;31m---------------------------------------------------------------------------\u001b[0m",
      "\u001b[0;31mKeyError\u001b[0m                                  Traceback (most recent call last)",
      "File \u001b[0;32m~/env/lib/python3.12/site-packages/pandas/core/indexes/base.py:3791\u001b[0m, in \u001b[0;36mIndex.get_loc\u001b[0;34m(self, key)\u001b[0m\n\u001b[1;32m   3790\u001b[0m \u001b[38;5;28;01mtry\u001b[39;00m:\n\u001b[0;32m-> 3791\u001b[0m     \u001b[38;5;28;01mreturn\u001b[39;00m \u001b[38;5;28;43mself\u001b[39;49m\u001b[38;5;241;43m.\u001b[39;49m\u001b[43m_engine\u001b[49m\u001b[38;5;241;43m.\u001b[39;49m\u001b[43mget_loc\u001b[49m\u001b[43m(\u001b[49m\u001b[43mcasted_key\u001b[49m\u001b[43m)\u001b[49m\n\u001b[1;32m   3792\u001b[0m \u001b[38;5;28;01mexcept\u001b[39;00m \u001b[38;5;167;01mKeyError\u001b[39;00m \u001b[38;5;28;01mas\u001b[39;00m err:\n",
      "File \u001b[0;32mindex.pyx:152\u001b[0m, in \u001b[0;36mpandas._libs.index.IndexEngine.get_loc\u001b[0;34m()\u001b[0m\n",
      "File \u001b[0;32mindex.pyx:181\u001b[0m, in \u001b[0;36mpandas._libs.index.IndexEngine.get_loc\u001b[0;34m()\u001b[0m\n",
      "File \u001b[0;32mpandas/_libs/hashtable_class_helper.pxi:7080\u001b[0m, in \u001b[0;36mpandas._libs.hashtable.PyObjectHashTable.get_item\u001b[0;34m()\u001b[0m\n",
      "File \u001b[0;32mpandas/_libs/hashtable_class_helper.pxi:7088\u001b[0m, in \u001b[0;36mpandas._libs.hashtable.PyObjectHashTable.get_item\u001b[0;34m()\u001b[0m\n",
      "\u001b[0;31mKeyError\u001b[0m: 'district'",
      "\nThe above exception was the direct cause of the following exception:\n",
      "\u001b[0;31mKeyError\u001b[0m                                  Traceback (most recent call last)",
      "Cell \u001b[0;32mIn[168], line 2\u001b[0m\n\u001b[1;32m      1\u001b[0m d \u001b[38;5;241m=\u001b[39m filter_apartments(neighborhoods\u001b[38;5;241m=\u001b[39m{\u001b[38;5;124m'\u001b[39m\u001b[38;5;124mGràcia\u001b[39m\u001b[38;5;124m'\u001b[39m,\u001b[38;5;124m'\u001b[39m\u001b[38;5;124mSant Martí\u001b[39m\u001b[38;5;124m'\u001b[39m}, price_max\u001b[38;5;241m=\u001b[39m\u001b[38;5;241m90.0\u001b[39m, bathrooms_min\u001b[38;5;241m=\u001b[39m\u001b[38;5;241m2.0\u001b[39m,  min_nights\u001b[38;5;241m=\u001b[39m\u001b[38;5;28;01mNone\u001b[39;00m, num_samples\u001b[38;5;241m=\u001b[39m\u001b[38;5;241m88\u001b[39m)\n\u001b[0;32m----> 2\u001b[0m \u001b[43md\u001b[49m\u001b[43m[\u001b[49m\u001b[38;5;124;43m'\u001b[39;49m\u001b[38;5;124;43mdistrict\u001b[39;49m\u001b[38;5;124;43m'\u001b[39;49m\u001b[43m]\u001b[49m\n",
      "File \u001b[0;32m~/env/lib/python3.12/site-packages/pandas/core/frame.py:3893\u001b[0m, in \u001b[0;36mDataFrame.__getitem__\u001b[0;34m(self, key)\u001b[0m\n\u001b[1;32m   3891\u001b[0m \u001b[38;5;28;01mif\u001b[39;00m \u001b[38;5;28mself\u001b[39m\u001b[38;5;241m.\u001b[39mcolumns\u001b[38;5;241m.\u001b[39mnlevels \u001b[38;5;241m>\u001b[39m \u001b[38;5;241m1\u001b[39m:\n\u001b[1;32m   3892\u001b[0m     \u001b[38;5;28;01mreturn\u001b[39;00m \u001b[38;5;28mself\u001b[39m\u001b[38;5;241m.\u001b[39m_getitem_multilevel(key)\n\u001b[0;32m-> 3893\u001b[0m indexer \u001b[38;5;241m=\u001b[39m \u001b[38;5;28;43mself\u001b[39;49m\u001b[38;5;241;43m.\u001b[39;49m\u001b[43mcolumns\u001b[49m\u001b[38;5;241;43m.\u001b[39;49m\u001b[43mget_loc\u001b[49m\u001b[43m(\u001b[49m\u001b[43mkey\u001b[49m\u001b[43m)\u001b[49m\n\u001b[1;32m   3894\u001b[0m \u001b[38;5;28;01mif\u001b[39;00m is_integer(indexer):\n\u001b[1;32m   3895\u001b[0m     indexer \u001b[38;5;241m=\u001b[39m [indexer]\n",
      "File \u001b[0;32m~/env/lib/python3.12/site-packages/pandas/core/indexes/base.py:3798\u001b[0m, in \u001b[0;36mIndex.get_loc\u001b[0;34m(self, key)\u001b[0m\n\u001b[1;32m   3793\u001b[0m     \u001b[38;5;28;01mif\u001b[39;00m \u001b[38;5;28misinstance\u001b[39m(casted_key, \u001b[38;5;28mslice\u001b[39m) \u001b[38;5;129;01mor\u001b[39;00m (\n\u001b[1;32m   3794\u001b[0m         \u001b[38;5;28misinstance\u001b[39m(casted_key, abc\u001b[38;5;241m.\u001b[39mIterable)\n\u001b[1;32m   3795\u001b[0m         \u001b[38;5;129;01mand\u001b[39;00m \u001b[38;5;28many\u001b[39m(\u001b[38;5;28misinstance\u001b[39m(x, \u001b[38;5;28mslice\u001b[39m) \u001b[38;5;28;01mfor\u001b[39;00m x \u001b[38;5;129;01min\u001b[39;00m casted_key)\n\u001b[1;32m   3796\u001b[0m     ):\n\u001b[1;32m   3797\u001b[0m         \u001b[38;5;28;01mraise\u001b[39;00m InvalidIndexError(key)\n\u001b[0;32m-> 3798\u001b[0m     \u001b[38;5;28;01mraise\u001b[39;00m \u001b[38;5;167;01mKeyError\u001b[39;00m(key) \u001b[38;5;28;01mfrom\u001b[39;00m \u001b[38;5;21;01merr\u001b[39;00m\n\u001b[1;32m   3799\u001b[0m \u001b[38;5;28;01mexcept\u001b[39;00m \u001b[38;5;167;01mTypeError\u001b[39;00m:\n\u001b[1;32m   3800\u001b[0m     \u001b[38;5;66;03m# If we have a listlike key, _check_indexing_error will raise\u001b[39;00m\n\u001b[1;32m   3801\u001b[0m     \u001b[38;5;66;03m#  InvalidIndexError. Otherwise we fall through and re-raise\u001b[39;00m\n\u001b[1;32m   3802\u001b[0m     \u001b[38;5;66;03m#  the TypeError.\u001b[39;00m\n\u001b[1;32m   3803\u001b[0m     \u001b[38;5;28mself\u001b[39m\u001b[38;5;241m.\u001b[39m_check_indexing_error(key)\n",
      "\u001b[0;31mKeyError\u001b[0m: 'district'"
     ]
    }
   ],
   "source": [
    "d = filter_apartments(neighborhoods={'Gràcia','Sant Martí'}, price_max=90.0, bathrooms_min=2.0,  min_nights=None, num_samples=88)\n",
    "d['district']"
   ]
  },
  {
   "cell_type": "code",
   "execution_count": null,
   "metadata": {},
   "outputs": [],
   "source": []
  },
  {
   "cell_type": "code",
   "execution_count": 162,
   "metadata": {},
   "outputs": [
    {
     "ename": "AttributeError",
     "evalue": "'DataFrame' object has no attribute 'district'",
     "output_type": "error",
     "traceback": [
      "\u001b[0;31m---------------------------------------------------------------------------\u001b[0m",
      "\u001b[0;31mAttributeError\u001b[0m                            Traceback (most recent call last)",
      "\u001b[0;32m/var/folders/gp/7c5pyxzs20n2216j80q3qg9m0000gn/T/ipykernel_37336/1865564546.py\u001b[0m in \u001b[0;36m?\u001b[0;34m()\u001b[0m\n\u001b[0;32m----> 1\u001b[0;31m \u001b[0;32mfor\u001b[0m \u001b[0mindex\u001b[0m \u001b[0;32min\u001b[0m \u001b[0md\u001b[0m\u001b[0;34m.\u001b[0m\u001b[0mdistrict\u001b[0m\u001b[0;34m:\u001b[0m\u001b[0;34m\u001b[0m\u001b[0;34m\u001b[0m\u001b[0m\n\u001b[0m\u001b[1;32m      2\u001b[0m     \u001b[0mprint\u001b[0m\u001b[0;34m(\u001b[0m\u001b[0mindex\u001b[0m\u001b[0;34m)\u001b[0m\u001b[0;34m\u001b[0m\u001b[0;34m\u001b[0m\u001b[0m\n",
      "\u001b[0;32m~/env/lib/python3.12/site-packages/pandas/core/generic.py\u001b[0m in \u001b[0;36m?\u001b[0;34m(self, name)\u001b[0m\n\u001b[1;32m   6200\u001b[0m             \u001b[0;32mand\u001b[0m \u001b[0mname\u001b[0m \u001b[0;32mnot\u001b[0m \u001b[0;32min\u001b[0m \u001b[0mself\u001b[0m\u001b[0;34m.\u001b[0m\u001b[0m_accessors\u001b[0m\u001b[0;34m\u001b[0m\u001b[0;34m\u001b[0m\u001b[0m\n\u001b[1;32m   6201\u001b[0m             \u001b[0;32mand\u001b[0m \u001b[0mself\u001b[0m\u001b[0;34m.\u001b[0m\u001b[0m_info_axis\u001b[0m\u001b[0;34m.\u001b[0m\u001b[0m_can_hold_identifiers_and_holds_name\u001b[0m\u001b[0;34m(\u001b[0m\u001b[0mname\u001b[0m\u001b[0;34m)\u001b[0m\u001b[0;34m\u001b[0m\u001b[0;34m\u001b[0m\u001b[0m\n\u001b[1;32m   6202\u001b[0m         \u001b[0;34m)\u001b[0m\u001b[0;34m:\u001b[0m\u001b[0;34m\u001b[0m\u001b[0;34m\u001b[0m\u001b[0m\n\u001b[1;32m   6203\u001b[0m             \u001b[0;32mreturn\u001b[0m \u001b[0mself\u001b[0m\u001b[0;34m[\u001b[0m\u001b[0mname\u001b[0m\u001b[0;34m]\u001b[0m\u001b[0;34m\u001b[0m\u001b[0;34m\u001b[0m\u001b[0m\n\u001b[0;32m-> 6204\u001b[0;31m         \u001b[0;32mreturn\u001b[0m \u001b[0mobject\u001b[0m\u001b[0;34m.\u001b[0m\u001b[0m__getattribute__\u001b[0m\u001b[0;34m(\u001b[0m\u001b[0mself\u001b[0m\u001b[0;34m,\u001b[0m \u001b[0mname\u001b[0m\u001b[0;34m)\u001b[0m\u001b[0;34m\u001b[0m\u001b[0;34m\u001b[0m\u001b[0m\n\u001b[0m",
      "\u001b[0;31mAttributeError\u001b[0m: 'DataFrame' object has no attribute 'district'"
     ]
    }
   ],
   "source": [
    "for index in d.district:\n",
    "    print(index)"
   ]
  },
  {
   "cell_type": "markdown",
   "metadata": {},
   "source": [
    "RDF Graph Visualitzation"
   ]
  },
  {
   "cell_type": "code",
   "execution_count": null,
   "metadata": {},
   "outputs": [],
   "source": [
    "#g = Graph()\n",
    "#g.parse(\"./../data_preparation_pipeline/RDFGraph.ttl\", format=\"turtle\")\n",
    "#visualize_rdf_graph(g)"
   ]
  },
  {
   "cell_type": "code",
   "execution_count": null,
   "metadata": {},
   "outputs": [],
   "source": [
    "#g = Graph()\n",
    "#g.parse(\"./../data_preparation_pipeline/RDFGraph.ttl\", format=\"turtle\")\n",
    "#visualize_hierarchical_rdf_graph(g)"
   ]
  }
 ],
 "metadata": {
  "kernelspec": {
   "display_name": "Python 3 (ipykernel)",
   "language": "python",
   "name": "python3"
  },
  "language_info": {
   "codemirror_mode": {
    "name": "ipython",
    "version": 3
   },
   "file_extension": ".py",
   "mimetype": "text/x-python",
   "name": "python",
   "nbconvert_exporter": "python",
   "pygments_lexer": "ipython3",
   "version": "3.12.3"
  }
 },
 "nbformat": 4,
 "nbformat_minor": 4
}
