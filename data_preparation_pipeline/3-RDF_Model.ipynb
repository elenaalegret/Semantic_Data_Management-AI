{
 "cells": [
  {
   "cell_type": "markdown",
   "metadata": {},
   "source": [
    "---\n",
    "<div style=\"text-align: center;\">\n",
    "  <span style=\"font-family: 'Playfair Display', serif; font-size: 24px; font-weight: bold;\">\n",
    "Schema Definition for RDF Graph - Model  </span>\n",
    "</div>\n",
    "\n",
    "---\n",
    "\n",
    "In this notebook, we define the schema for an RDF graph based on the data sources. This involves outlining the structure and relationships of the data to be used in constructing a semantic knowledge graph. The main steps include:\n",
    "\n",
    "- Schema Design: We design the RDF schema, identifying key entities, attributes, and relationships that will form the basis of the knowledge graph.\n",
    "- Mapping Data to RDF: We map the cleaned data to the RDF schema, converting it into RDF triples (subject-predicate-object format), as it can be seen in the `KnowledgeGraph.py`.\n",
    "- Validation: We validate the generated RDF data to ensure it adheres to the defined schema and accurately represents the original data.\n",
    "- Integration and Storage: Finally, we integrate the RDF data into a triple store or RDF database for further querying and analysis."
   ]
  },
  {
   "cell_type": "code",
   "execution_count": 5,
   "metadata": {},
   "outputs": [],
   "source": [
    "#!pip install networkx pyvis rdflib ipython numpy matplotlib pygraphviz"
   ]
  },
  {
   "cell_type": "code",
   "execution_count": 6,
   "metadata": {},
   "outputs": [],
   "source": [
    "import networkx as nx\n",
    "from rdflib import Graph, Namespace, Literal\n",
    "from rdflib.namespace import RDF, RDFS, XSD\n",
    "import matplotlib.pyplot as plt\n",
    "from networkx.drawing.nx_agraph import graphviz_layout\n",
    "from rdflib.plugins.sparql import prepareQuery\n",
    "import duckdb\n",
    "import sys\n",
    "import os\n",
    "\n",
    "# Path to root direct\n",
    "project_root = './..'\n",
    "sys.path.append(project_root)\n",
    "from utils import *"
   ]
  },
  {
   "cell_type": "code",
   "execution_count": 7,
   "metadata": {},
   "outputs": [],
   "source": [
    "# Create RDF\n",
    "g = Graph()\n",
    "\n",
    "# Define Namespaces\n",
    "ex = Namespace('http://example.org/')\n",
    "loc = Namespace('http://example.org/location/')\n",
    "ent = Namespace('http://example.org/entertainment/')\n",
    "apt = Namespace('http://example.org/apartment/')\n",
    "inc = Namespace('http://example.org/incident/')\n",
    "schema = Namespace('http://schema.org/')\n",
    "\n",
    "# Vinculate Namespaces to graph RDF\n",
    "g.bind('ex', ex)\n",
    "g.bind('loc', loc)\n",
    "g.bind('ent', ent)\n",
    "g.bind('apt', apt)\n",
    "g.bind('inc', inc)\n",
    "g.bind('schema', schema)"
   ]
  },
  {
   "cell_type": "markdown",
   "metadata": {},
   "source": [
    "General Schema Definition"
   ]
  },
  {
   "cell_type": "code",
   "execution_count": 8,
   "metadata": {},
   "outputs": [
    {
     "data": {
      "text/plain": [
       "<Graph identifier=Ncac53ed5b8cd4347a423e12edff4d9d7 (<class 'rdflib.graph.Graph'>)>"
      ]
     },
     "execution_count": 8,
     "metadata": {},
     "output_type": "execute_result"
    }
   ],
   "source": [
    "# Define Classes\n",
    "g.add((loc.Locations, RDF.type, RDFS.Class))\n",
    "g.add((loc.District, RDF.type, RDFS.Class))\n",
    "g.add((inc.Incident, RDF.type, RDFS.Class))\n",
    "\n",
    "# Define Locations subclases\n",
    "g.add((ent.Entertainment, RDF.type, RDFS.Class))\n",
    "g.add((ent.Entertainment, RDFS.subClassOf, loc.Locations))\n",
    "\n",
    "g.add((apt.Apartment, RDF.type, RDFS.Class))\n",
    "g.add((apt.Apartment, RDFS.subClassOf, loc.Locations))\n",
    "\n",
    "# Define isinDistrict propiety \n",
    "g.add((loc.isinDistrict, RDF.type, RDF.Property))\n",
    "g.add((loc.isinDistrict, RDFS.domain, loc.Locations))\n",
    "g.add((loc.isinDistrict, RDFS.range, loc.District))\n",
    "\n",
    "# Define Longitude propiety\n",
    "g.add((loc.Longitude, RDF.type, RDF.Property))\n",
    "g.add((loc.Longitude, RDFS.domain, loc.Locations))\n",
    "g.add((loc.Longitude, RDFS.range, XSD.float))\n",
    "\n",
    "# Define Latitude propiety\n",
    "g.add((loc.Latitude, RDF.type, RDF.Property))\n",
    "g.add((loc.Latitude, RDFS.domain, loc.Locations))\n",
    "g.add((loc.Latitude, RDFS.range, XSD.float))"
   ]
  },
  {
   "cell_type": "markdown",
   "metadata": {},
   "source": [
    "Incident Schema Definition: \n",
    "\n",
    "For the incident schema, the variables that will be needed are: \n",
    "\n",
    "- nom_mes: nameMonth\n",
    "- neighbourhood: Reference the District Class (neighbourhood).\n",
    "- type_crime: incidentType\n",
    "- nombre_victimes: numberVictims\n",
    "- criminality_index: criminalityIndex\n",
    "\n",
    "An example of an instance is: \n",
    "- nom_mes: Juny\n",
    "- neighbourhood: Nou Barris\n",
    "- type_crime:  Political orientation\t\n",
    "- nombre_victimes: 1.0\n",
    "- criminality_index: 0.053398"
   ]
  },
  {
   "cell_type": "code",
   "execution_count": 9,
   "metadata": {},
   "outputs": [
    {
     "data": {
      "text/plain": [
       "<Graph identifier=Ncac53ed5b8cd4347a423e12edff4d9d7 (<class 'rdflib.graph.Graph'>)>"
      ]
     },
     "execution_count": 9,
     "metadata": {},
     "output_type": "execute_result"
    }
   ],
   "source": [
    "# Define happenedAt\n",
    "g.add((inc.happenedAt, RDF.type, RDF.Property))\n",
    "g.add((inc.happenedAt, RDFS.domain, inc.Incident))\n",
    "g.add((inc.happenedAt, RDFS.range, loc.District))\n",
    "\n",
    "# Define criminalityIndex\n",
    "g.add((apt.criminalityIndex, RDF.type, RDF.Property))\n",
    "g.add((apt.criminalityIndex, RDFS.domain, inc.Incident))\n",
    "g.add((apt.criminalityIndex, RDFS.range, XSD.float))"
   ]
  },
  {
   "cell_type": "markdown",
   "metadata": {},
   "source": [
    "Airbnb Schema Definition\n",
    "\n",
    "For the Airbnb schema, the variables that will be needed are: \n",
    "\n",
    "- name: name\n",
    "- host_id: hostId\n",
    "- host_since: hostSince\n",
    "- host_total_listings_count: hostTotalListingsCount\n",
    "- host_verifications: hostVerifications\n",
    "- neighbourhood: Reference the District Class (neighbourhood).\n",
    "- latitude: Reference the Latitude domain.\n",
    "- longitude: Reference the Longitude domain.\n",
    "- property_type: propertyType\n",
    "- room_type: roomType\n",
    "- accommodates: accommodates\n",
    "- bathrooms: bathrooms\n",
    "- bedrooms: bedrooms\n",
    "- beds: beds\n",
    "- bed_type: bedType\n",
    "- price (x night): price\n",
    "- security_deposit: securityDeposit\n",
    "- cleaning_fee: cleaningFee\n",
    "- guests_included: guestsIncluded\n",
    "- extra_people: extraPeople\n",
    "- minimum_nights: minimumNights\n",
    "- maximum_nights: maximumNights\n",
    "- number_of_reviews: numberOfReviews\n",
    "- cancellation_policy: cancellationPolicy\n",
    "\n",
    "\n",
    "An example of an instance is: \n",
    "\n",
    "- name: Piso cerca del Cam Nou.\n",
    "- host_id: 38925857\n",
    "- host_since: 2015-07-19\n",
    "- host_total_listings_count: 1.0\n",
    "- host_verifications: email, phone, reviews, jumio\n",
    "- neighbourhood: Les Corts\n",
    "- latitude: 41.378150177192396\n",
    "- longitude: 2.122075545481956\n",
    "- property_type: Apartment\n",
    "- room_type: Private room\n",
    "- accommodates: 2\n",
    "- bathrooms: 2.0\n",
    "- bedrooms: 1.0\n",
    "- beds: 2.0\n",
    "- bed_type: Real Bed\n",
    "- price (x night): 21.0\n",
    "- security_deposit: 123.0\n",
    "- cleaning_fee: 54.0\n",
    "- guests_included: 1\n",
    "- extra_people: 7\n",
    "- minimum_nights: 1\n",
    "- maximum_nights: 1125\n",
    "- number_of_reviews: 1\n",
    "- cancellation_policy: moderate\t"
   ]
  },
  {
   "cell_type": "code",
   "execution_count": 10,
   "metadata": {},
   "outputs": [
    {
     "data": {
      "text/plain": [
       "<Graph identifier=Ncac53ed5b8cd4347a423e12edff4d9d7 (<class 'rdflib.graph.Graph'>)>"
      ]
     },
     "execution_count": 10,
     "metadata": {},
     "output_type": "execute_result"
    }
   ],
   "source": [
    "# Define hostSince\n",
    "g.add((apt.hostSince, RDF.type, RDF.Property))\n",
    "g.add((apt.hostSince, RDFS.domain, apt.Apartment))\n",
    "g.add((apt.hostSince, RDFS.range, XSD.string))\n",
    "\n",
    "# Define hostTotalListingsCount\n",
    "g.add((apt.hostTotalListingsCount, RDF.type, RDF.Property))\n",
    "g.add((apt.hostTotalListingsCount, RDFS.domain, apt.Apartment))\n",
    "g.add((apt.hostTotalListingsCount, RDFS.range, XSD.float))\n",
    "\n",
    "# Define hostVerifications\n",
    "g.add((apt.hostVerifications, RDF.type, RDF.Property))\n",
    "g.add((apt.hostVerifications, RDFS.domain, apt.Apartment))\n",
    "g.add((apt.hostVerifications, RDFS.range, XSD.string))\n",
    "\n",
    "# Define propertyType\n",
    "g.add((apt.propertyType, RDF.type, RDF.Property))\n",
    "g.add((apt.propertyType, RDFS.domain, apt.Apartment))\n",
    "g.add((apt.propertyType, RDFS.range, XSD.string))\n",
    "\n",
    "# Define roomType\n",
    "g.add((apt.roomType, RDF.type, RDF.Property))\n",
    "g.add((apt.roomType, RDFS.domain, apt.Apartment))\n",
    "g.add((apt.roomType, RDFS.range, XSD.string))\n",
    "\n",
    "# Define accommodates\n",
    "g.add((apt.accommodates, RDF.type, RDF.Property))\n",
    "g.add((apt.accommodates, RDFS.domain, apt.Apartment))\n",
    "g.add((apt.accommodates, RDFS.range, XSD.integer))\n",
    "\n",
    "# Define bathrooms\n",
    "g.add((apt.bathrooms, RDF.type, RDF.Property))\n",
    "g.add((apt.bathrooms, RDFS.domain, apt.Apartment))\n",
    "g.add((apt.bathrooms, RDFS.range, XSD.integer))\n",
    "\n",
    "# Define bedrooms\n",
    "g.add((apt.bedrooms, RDF.type, RDF.Property))\n",
    "g.add((apt.bedrooms, RDFS.domain, apt.Apartment))\n",
    "g.add((apt.bedrooms, RDFS.range, XSD.integer))\n",
    "\n",
    "# Define beds\n",
    "g.add((apt.beds, RDF.type, RDF.Property))\n",
    "g.add((apt.beds, RDFS.domain, apt.Apartment))\n",
    "g.add((apt.beds, RDFS.range, XSD.integer))\n",
    "\n",
    "# Define bedType\n",
    "g.add((apt.bedType, RDF.type, RDF.Property))\n",
    "g.add((apt.bedType, RDFS.domain, apt.Apartment))\n",
    "g.add((apt.bedType, RDFS.range, XSD.string))\n",
    "\n",
    "# Define price\n",
    "g.add((apt.price, RDF.type, RDF.Property))\n",
    "g.add((apt.price, RDFS.domain, apt.Apartment))\n",
    "g.add((apt.price, RDFS.range, XSD.float))\n",
    "\n",
    "# Define securityDeposit\n",
    "g.add((apt.securityDeposit, RDF.type, RDF.Property))\n",
    "g.add((apt.securityDeposit, RDFS.domain, apt.Apartment))\n",
    "g.add((apt.securityDeposit, RDFS.range, XSD.float))\n",
    "\n",
    "# Define cleaningFee\n",
    "g.add((apt.cleaningFee, RDF.type, RDF.Property))\n",
    "g.add((apt.cleaningFee, RDFS.domain, apt.Apartment))\n",
    "g.add((apt.cleaningFee, RDFS.range, XSD.float))\n",
    "\n",
    "# Define guestsIncluded\n",
    "g.add((apt.guestsIncluded, RDF.type, RDF.Property))\n",
    "g.add((apt.guestsIncluded, RDFS.domain, apt.Apartment))\n",
    "g.add((apt.guestsIncluded, RDFS.range, XSD.integer))\n",
    "\n",
    "# Define extraPeople\n",
    "g.add((apt.extraPeople, RDF.type, RDF.Property))\n",
    "g.add((apt.extraPeople, RDFS.domain, apt.Apartment))\n",
    "g.add((apt.extraPeople, RDFS.range, XSD.integer))\n",
    "\n",
    "# Define minimumNights\n",
    "g.add((apt.minimumNights, RDF.type, RDF.Property))\n",
    "g.add((apt.minimumNights, RDFS.domain, apt.Apartment))\n",
    "g.add((apt.minimumNights, RDFS.range, XSD.integer))\n",
    "\n",
    "# Define maximumNights\n",
    "g.add((apt.maximumNights, RDF.type, RDF.Property))\n",
    "g.add((apt.maximumNights, RDFS.domain, apt.Apartment))\n",
    "g.add((apt.maximumNights, RDFS.range, XSD.integer))\n",
    "\n",
    "# Define numberOfReviews\n",
    "g.add((apt.numberOfReviews, RDF.type, RDF.Property))\n",
    "g.add((apt.numberOfReviews, RDFS.domain, apt.Apartment))\n",
    "g.add((apt.numberOfReviews, RDFS.range, XSD.integer)) \n",
    "\n",
    "# Define cancellationPolicy\n",
    "g.add((apt.cancellationPolicy, RDF.type, RDF.Property))\n",
    "g.add((apt.cancellationPolicy, RDFS.domain, apt.Apartment))\n",
    "g.add((apt.cancellationPolicy, RDFS.range, XSD.string))"
   ]
  },
  {
   "cell_type": "markdown",
   "metadata": {},
   "source": [
    "Tripadvisor Locations Schema Definition\n",
    "\n",
    "For the Tripadvisor Locations schema, the variables that will be needed are: \n",
    "\n",
    "- location_id: locationId\n",
    "- name: name\n",
    "- type: type\n",
    "- neighbourhood: Reference the District Class (neighbourhood).\n",
    "- latitude: Reference the Latitude domain.\n",
    "- longitude: Reference the Longitude domain.\n",
    "\n",
    "An example of an instance is: \n",
    "\n",
    "- location_id: 27200794\n",
    "- name: Anna Subirats Xarcuteria\n",
    "- type: restaurant\n",
    "- neighbourhood: Eixample\n",
    "- latitude: 41.383205\n",
    "- longitude: 2.162197"
   ]
  },
  {
   "cell_type": "code",
   "execution_count": 11,
   "metadata": {},
   "outputs": [
    {
     "data": {
      "text/plain": [
       "<Graph identifier=Ncac53ed5b8cd4347a423e12edff4d9d7 (<class 'rdflib.graph.Graph'>)>"
      ]
     },
     "execution_count": 11,
     "metadata": {},
     "output_type": "execute_result"
    }
   ],
   "source": [
    "# Define locationID\n",
    "g.add((ent.locationID, RDF.type, RDF.Property))\n",
    "g.add((ent.locationID, RDFS.domain, ent.Entertainment))\n",
    "g.add((ent.locationID, RDFS.range, XSD.integer))\n",
    "\n",
    "# Define typeEnt\n",
    "g.add((ent.typeEnt, RDF.type, RDF.Property))\n",
    "g.add((ent.typeEnt, RDFS.domain, ent.Entertainment))\n",
    "g.add((ent.typeEnt, RDFS.range, XSD.string))"
   ]
  },
  {
   "cell_type": "markdown",
   "metadata": {},
   "source": [
    "Tripadvisor Reviews Schema Definition\n",
    "\n",
    "For the Tripadvisor Locations schema, the variables that will be needed are: \n",
    "\n",
    "- location_id: locationId\n",
    "- rating: rating\n",
    "- text: text\n",
    "- title: title\n",
    "\n",
    "An example of an instance is: \n",
    "\n",
    "- location_id: 8821646\n",
    "- rating: 5\n",
    "- text: Stopped for a light bites chicken, chips, rice...\n",
    "- title: Good value tasty food."
   ]
  },
  {
   "cell_type": "code",
   "execution_count": 12,
   "metadata": {},
   "outputs": [
    {
     "data": {
      "text/plain": [
       "<Graph identifier=Ncac53ed5b8cd4347a423e12edff4d9d7 (<class 'rdflib.graph.Graph'>)>"
      ]
     },
     "execution_count": 12,
     "metadata": {},
     "output_type": "execute_result"
    }
   ],
   "source": [
    "# Define rating\n",
    "g.add((ent.rating, RDF.type, RDF.Property))\n",
    "g.add((ent.rating, RDFS.domain, ent.Entertainment))\n",
    "g.add((ent.rating, RDFS.range, XSD.float))"
   ]
  },
  {
   "cell_type": "markdown",
   "metadata": {},
   "source": [
    " Instances Generator: Add the instances from the DuckDB to RDF"
   ]
  },
  {
   "cell_type": "code",
   "execution_count": 13,
   "metadata": {},
   "outputs": [],
   "source": [
    "# Connection to trusted database\n",
    "con = duckdb.connect(database='./../data/explotation_zone/barcelona_processed.db')"
   ]
  },
  {
   "cell_type": "markdown",
   "metadata": {},
   "source": [
    "- Criminal Instances"
   ]
  },
  {
   "cell_type": "code",
   "execution_count": 14,
   "metadata": {},
   "outputs": [],
   "source": [
    "# Connection to database\n",
    "df_criminal = con.execute(\"SELECT * FROM df_criminal_dataset\").fetchdf()\n",
    "add_criminal_instances(g, loc, inc, ex, df_criminal)"
   ]
  },
  {
   "cell_type": "markdown",
   "metadata": {},
   "source": [
    "- Airbnb Dataset"
   ]
  },
  {
   "cell_type": "code",
   "execution_count": 15,
   "metadata": {},
   "outputs": [],
   "source": [
    "# Connection to database         \n",
    "df_airbnb = con.execute(\"SELECT * FROM df_airbnb_listings\").fetchdf()\n",
    "add_airbnb_instances(g, loc, apt, df_airbnb)"
   ]
  },
  {
   "cell_type": "markdown",
   "metadata": {},
   "source": [
    "- Tripadvisor Datasets: Locations and Restaurants"
   ]
  },
  {
   "cell_type": "code",
   "execution_count": 16,
   "metadata": {},
   "outputs": [],
   "source": [
    "# Connection to databases\n",
    "df_tripadvisor_locations = con.execute(\"SELECT * FROM df_tripadvisor_locations\").fetchdf()\n",
    "##df_tripadvisor_reviews = con.execute(\"SELECT * FROM df_tripadvisor_reviews\").fetchdf()\n",
    "add_entertainment_instances(g, loc, ent, df_tripadvisor_locations, 0)\n",
    "#add_entertainment_instances(g, loc, ent, df_tripadvisor_reviews, 1)"
   ]
  },
  {
   "cell_type": "markdown",
   "metadata": {},
   "source": [
    "Store the RDF dataset into Turtle format"
   ]
  },
  {
   "cell_type": "code",
   "execution_count": 17,
   "metadata": {},
   "outputs": [
    {
     "data": {
      "text/plain": [
       "<Graph identifier=Ncac53ed5b8cd4347a423e12edff4d9d7 (<class 'rdflib.graph.Graph'>)>"
      ]
     },
     "execution_count": 17,
     "metadata": {},
     "output_type": "execute_result"
    }
   ],
   "source": [
    "g.serialize(destination='./../data/explotation_zone/RDFGraph_Model.ttl', format='turtle')"
   ]
  },
  {
   "cell_type": "markdown",
   "metadata": {},
   "source": [
    "Sanity Check: Verify if the instances are well added"
   ]
  },
  {
   "cell_type": "code",
   "execution_count": 18,
   "metadata": {},
   "outputs": [
    {
     "name": "stdout",
     "output_type": "stream",
     "text": [
      "\n",
      "Random instance of type http://example.org/incident/Incident: http://example.org/incident_411\n",
      "  22-rdf-syntax-ns#type: http://example.org/incident/Incident\n",
      "  happenedAt: http://example.org/location/Horta-Guinardó\n",
      "  nameMonth: desembre\n",
      "  incidentType: Ethnic/national/racial origin\n",
      "  numberVictims: 1.0\n",
      "  criminalityIndex: 0.06957928802588997\n"
     ]
    }
   ],
   "source": [
    "print_random_instance(g, inc.Incident)"
   ]
  },
  {
   "cell_type": "code",
   "execution_count": 19,
   "metadata": {},
   "outputs": [],
   "source": [
    "con.close()"
   ]
  },
  {
   "cell_type": "markdown",
   "metadata": {},
   "source": [
    "RDF Graph Visualitzation"
   ]
  },
  {
   "cell_type": "code",
   "execution_count": 20,
   "metadata": {},
   "outputs": [
    {
     "ename": "KeyboardInterrupt",
     "evalue": "",
     "output_type": "error",
     "traceback": [
      "\u001b[1;31m---------------------------------------------------------------------------\u001b[0m",
      "\u001b[1;31mKeyboardInterrupt\u001b[0m                         Traceback (most recent call last)",
      "Cell \u001b[1;32mIn[20], line 2\u001b[0m\n\u001b[0;32m      1\u001b[0m g \u001b[38;5;241m=\u001b[39m Graph()\n\u001b[1;32m----> 2\u001b[0m \u001b[43mg\u001b[49m\u001b[38;5;241;43m.\u001b[39;49m\u001b[43mparse\u001b[49m\u001b[43m(\u001b[49m\u001b[38;5;124;43m\"\u001b[39;49m\u001b[38;5;124;43m./../data/explotation_zone/RDFGraph_Visualitzation.ttl\u001b[39;49m\u001b[38;5;124;43m\"\u001b[39;49m\u001b[43m,\u001b[49m\u001b[43m \u001b[49m\u001b[38;5;28;43mformat\u001b[39;49m\u001b[38;5;241;43m=\u001b[39;49m\u001b[38;5;124;43m\"\u001b[39;49m\u001b[38;5;124;43mturtle\u001b[39;49m\u001b[38;5;124;43m\"\u001b[39;49m\u001b[43m)\u001b[49m\n\u001b[0;32m      3\u001b[0m visualize_rdf_graph(g)\n",
      "File \u001b[1;32m~\\AppData\\Local\\Packages\\PythonSoftwareFoundation.Python.3.11_qbz5n2kfra8p0\\LocalCache\\local-packages\\Python311\\site-packages\\rdflib\\graph.py:1492\u001b[0m, in \u001b[0;36mGraph.parse\u001b[1;34m(self, source, publicID, format, location, file, data, **args)\u001b[0m\n\u001b[0;32m   1489\u001b[0m parser \u001b[38;5;241m=\u001b[39m plugin\u001b[38;5;241m.\u001b[39mget(\u001b[38;5;28mformat\u001b[39m, Parser)()\n\u001b[0;32m   1490\u001b[0m \u001b[38;5;28;01mtry\u001b[39;00m:\n\u001b[0;32m   1491\u001b[0m     \u001b[38;5;66;03m# TODO FIXME: Parser.parse should have **kwargs argument.\u001b[39;00m\n\u001b[1;32m-> 1492\u001b[0m     \u001b[43mparser\u001b[49m\u001b[38;5;241;43m.\u001b[39;49m\u001b[43mparse\u001b[49m\u001b[43m(\u001b[49m\u001b[43msource\u001b[49m\u001b[43m,\u001b[49m\u001b[43m \u001b[49m\u001b[38;5;28;43mself\u001b[39;49m\u001b[43m,\u001b[49m\u001b[43m \u001b[49m\u001b[38;5;241;43m*\u001b[39;49m\u001b[38;5;241;43m*\u001b[39;49m\u001b[43margs\u001b[49m\u001b[43m)\u001b[49m\n\u001b[0;32m   1493\u001b[0m \u001b[38;5;28;01mexcept\u001b[39;00m \u001b[38;5;167;01mSyntaxError\u001b[39;00m \u001b[38;5;28;01mas\u001b[39;00m se:\n\u001b[0;32m   1494\u001b[0m     \u001b[38;5;28;01mif\u001b[39;00m could_not_guess_format:\n",
      "File \u001b[1;32m~\\AppData\\Local\\Packages\\PythonSoftwareFoundation.Python.3.11_qbz5n2kfra8p0\\LocalCache\\local-packages\\Python311\\site-packages\\rdflib\\plugins\\parsers\\notation3.py:2021\u001b[0m, in \u001b[0;36mTurtleParser.parse\u001b[1;34m(self, source, graph, encoding, turtle)\u001b[0m\n\u001b[0;32m   2019\u001b[0m \u001b[38;5;28;01mif\u001b[39;00m \u001b[38;5;129;01mnot\u001b[39;00m stream:\n\u001b[0;32m   2020\u001b[0m     stream \u001b[38;5;241m=\u001b[39m source\u001b[38;5;241m.\u001b[39mgetByteStream()\n\u001b[1;32m-> 2021\u001b[0m \u001b[43mp\u001b[49m\u001b[38;5;241;43m.\u001b[39;49m\u001b[43mloadStream\u001b[49m\u001b[43m(\u001b[49m\u001b[43mstream\u001b[49m\u001b[43m)\u001b[49m\n\u001b[0;32m   2023\u001b[0m \u001b[38;5;28;01mfor\u001b[39;00m prefix, namespace \u001b[38;5;129;01min\u001b[39;00m p\u001b[38;5;241m.\u001b[39m_bindings\u001b[38;5;241m.\u001b[39mitems():\n\u001b[0;32m   2024\u001b[0m     graph\u001b[38;5;241m.\u001b[39mbind(prefix, namespace)\n",
      "File \u001b[1;32m~\\AppData\\Local\\Packages\\PythonSoftwareFoundation.Python.3.11_qbz5n2kfra8p0\\LocalCache\\local-packages\\Python311\\site-packages\\rdflib\\plugins\\parsers\\notation3.py:479\u001b[0m, in \u001b[0;36mSinkParser.loadStream\u001b[1;34m(self, stream)\u001b[0m\n\u001b[0;32m    478\u001b[0m \u001b[38;5;28;01mdef\u001b[39;00m \u001b[38;5;21mloadStream\u001b[39m(\u001b[38;5;28mself\u001b[39m, stream: Union[IO[\u001b[38;5;28mstr\u001b[39m], IO[\u001b[38;5;28mbytes\u001b[39m]]) \u001b[38;5;241m-\u001b[39m\u001b[38;5;241m>\u001b[39m Optional[\u001b[38;5;124m\"\u001b[39m\u001b[38;5;124mFormula\u001b[39m\u001b[38;5;124m\"\u001b[39m]:\n\u001b[1;32m--> 479\u001b[0m     \u001b[38;5;28;01mreturn\u001b[39;00m \u001b[38;5;28;43mself\u001b[39;49m\u001b[38;5;241;43m.\u001b[39;49m\u001b[43mloadBuf\u001b[49m\u001b[43m(\u001b[49m\u001b[43mstream\u001b[49m\u001b[38;5;241;43m.\u001b[39;49m\u001b[43mread\u001b[49m\u001b[43m(\u001b[49m\u001b[43m)\u001b[49m\u001b[43m)\u001b[49m\n",
      "File \u001b[1;32m~\\AppData\\Local\\Packages\\PythonSoftwareFoundation.Python.3.11_qbz5n2kfra8p0\\LocalCache\\local-packages\\Python311\\site-packages\\rdflib\\plugins\\parsers\\notation3.py:485\u001b[0m, in \u001b[0;36mSinkParser.loadBuf\u001b[1;34m(self, buf)\u001b[0m\n\u001b[0;32m    482\u001b[0m \u001b[38;5;250m\u001b[39m\u001b[38;5;124;03m\"\"\"Parses a buffer and returns its top level formula\"\"\"\u001b[39;00m\n\u001b[0;32m    483\u001b[0m \u001b[38;5;28mself\u001b[39m\u001b[38;5;241m.\u001b[39mstartDoc()\n\u001b[1;32m--> 485\u001b[0m \u001b[38;5;28;43mself\u001b[39;49m\u001b[38;5;241;43m.\u001b[39;49m\u001b[43mfeed\u001b[49m\u001b[43m(\u001b[49m\u001b[43mbuf\u001b[49m\u001b[43m)\u001b[49m\n\u001b[0;32m    486\u001b[0m \u001b[38;5;28;01mreturn\u001b[39;00m \u001b[38;5;28mself\u001b[39m\u001b[38;5;241m.\u001b[39mendDoc()\n",
      "File \u001b[1;32m~\\AppData\\Local\\Packages\\PythonSoftwareFoundation.Python.3.11_qbz5n2kfra8p0\\LocalCache\\local-packages\\Python311\\site-packages\\rdflib\\plugins\\parsers\\notation3.py:511\u001b[0m, in \u001b[0;36mSinkParser.feed\u001b[1;34m(self, octets)\u001b[0m\n\u001b[0;32m    508\u001b[0m \u001b[38;5;28;01mif\u001b[39;00m j \u001b[38;5;241m<\u001b[39m \u001b[38;5;241m0\u001b[39m:\n\u001b[0;32m    509\u001b[0m     \u001b[38;5;28;01mreturn\u001b[39;00m\n\u001b[1;32m--> 511\u001b[0m i \u001b[38;5;241m=\u001b[39m \u001b[38;5;28;43mself\u001b[39;49m\u001b[38;5;241;43m.\u001b[39;49m\u001b[43mdirectiveOrStatement\u001b[49m\u001b[43m(\u001b[49m\u001b[43ms\u001b[49m\u001b[43m,\u001b[49m\u001b[43m \u001b[49m\u001b[43mj\u001b[49m\u001b[43m)\u001b[49m\n\u001b[0;32m    512\u001b[0m \u001b[38;5;28;01mif\u001b[39;00m i \u001b[38;5;241m<\u001b[39m \u001b[38;5;241m0\u001b[39m:\n\u001b[0;32m    513\u001b[0m     \u001b[38;5;66;03m# print(\"# next char: %s\" % s[j])\u001b[39;00m\n\u001b[0;32m    514\u001b[0m     \u001b[38;5;28mself\u001b[39m\u001b[38;5;241m.\u001b[39mBadSyntax(s, j, \u001b[38;5;124m\"\u001b[39m\u001b[38;5;124mexpected directive or statement\u001b[39m\u001b[38;5;124m\"\u001b[39m)\n",
      "File \u001b[1;32m~\\AppData\\Local\\Packages\\PythonSoftwareFoundation.Python.3.11_qbz5n2kfra8p0\\LocalCache\\local-packages\\Python311\\site-packages\\rdflib\\plugins\\parsers\\notation3.py:530\u001b[0m, in \u001b[0;36mSinkParser.directiveOrStatement\u001b[1;34m(self, argstr, h)\u001b[0m\n\u001b[0;32m    527\u001b[0m \u001b[38;5;28;01mif\u001b[39;00m j \u001b[38;5;241m>\u001b[39m\u001b[38;5;241m=\u001b[39m \u001b[38;5;241m0\u001b[39m:\n\u001b[0;32m    528\u001b[0m     \u001b[38;5;28;01mreturn\u001b[39;00m \u001b[38;5;28mself\u001b[39m\u001b[38;5;241m.\u001b[39mcheckDot(argstr, j)\n\u001b[1;32m--> 530\u001b[0m j \u001b[38;5;241m=\u001b[39m \u001b[38;5;28;43mself\u001b[39;49m\u001b[38;5;241;43m.\u001b[39;49m\u001b[43mstatement\u001b[49m\u001b[43m(\u001b[49m\u001b[43margstr\u001b[49m\u001b[43m,\u001b[49m\u001b[43m \u001b[49m\u001b[43mi\u001b[49m\u001b[43m)\u001b[49m\n\u001b[0;32m    531\u001b[0m \u001b[38;5;28;01mif\u001b[39;00m j \u001b[38;5;241m>\u001b[39m\u001b[38;5;241m=\u001b[39m \u001b[38;5;241m0\u001b[39m:\n\u001b[0;32m    532\u001b[0m     \u001b[38;5;28;01mreturn\u001b[39;00m \u001b[38;5;28mself\u001b[39m\u001b[38;5;241m.\u001b[39mcheckDot(argstr, j)\n",
      "File \u001b[1;32m~\\AppData\\Local\\Packages\\PythonSoftwareFoundation.Python.3.11_qbz5n2kfra8p0\\LocalCache\\local-packages\\Python311\\site-packages\\rdflib\\plugins\\parsers\\notation3.py:778\u001b[0m, in \u001b[0;36mSinkParser.statement\u001b[1;34m(self, argstr, i)\u001b[0m\n\u001b[0;32m    775\u001b[0m \u001b[38;5;28;01mif\u001b[39;00m i \u001b[38;5;241m<\u001b[39m \u001b[38;5;241m0\u001b[39m:\n\u001b[0;32m    776\u001b[0m     \u001b[38;5;28;01mreturn\u001b[39;00m i\n\u001b[1;32m--> 778\u001b[0m j \u001b[38;5;241m=\u001b[39m \u001b[38;5;28;43mself\u001b[39;49m\u001b[38;5;241;43m.\u001b[39;49m\u001b[43mproperty_list\u001b[49m\u001b[43m(\u001b[49m\u001b[43margstr\u001b[49m\u001b[43m,\u001b[49m\u001b[43m \u001b[49m\u001b[43mi\u001b[49m\u001b[43m,\u001b[49m\u001b[43m \u001b[49m\u001b[43mr\u001b[49m\u001b[43m[\u001b[49m\u001b[38;5;241;43m0\u001b[39;49m\u001b[43m]\u001b[49m\u001b[43m)\u001b[49m\n\u001b[0;32m    780\u001b[0m \u001b[38;5;28;01mif\u001b[39;00m j \u001b[38;5;241m<\u001b[39m \u001b[38;5;241m0\u001b[39m:\n\u001b[0;32m    781\u001b[0m     \u001b[38;5;28mself\u001b[39m\u001b[38;5;241m.\u001b[39mBadSyntax(argstr, i, \u001b[38;5;124m\"\u001b[39m\u001b[38;5;124mexpected propertylist\u001b[39m\u001b[38;5;124m\"\u001b[39m)\n",
      "File \u001b[1;32m~\\AppData\\Local\\Packages\\PythonSoftwareFoundation.Python.3.11_qbz5n2kfra8p0\\LocalCache\\local-packages\\Python311\\site-packages\\rdflib\\plugins\\parsers\\notation3.py:1146\u001b[0m, in \u001b[0;36mSinkParser.property_list\u001b[1;34m(self, argstr, i, subj)\u001b[0m\n\u001b[0;32m   1144\u001b[0m dira, sym \u001b[38;5;241m=\u001b[39m v[\u001b[38;5;241m0\u001b[39m]\n\u001b[0;32m   1145\u001b[0m \u001b[38;5;28;01mif\u001b[39;00m dira \u001b[38;5;241m==\u001b[39m \u001b[38;5;124m\"\u001b[39m\u001b[38;5;124m->\u001b[39m\u001b[38;5;124m\"\u001b[39m:\n\u001b[1;32m-> 1146\u001b[0m     \u001b[38;5;28;43mself\u001b[39;49m\u001b[38;5;241;43m.\u001b[39;49m\u001b[43mmakeStatement\u001b[49m\u001b[43m(\u001b[49m\u001b[43m(\u001b[49m\u001b[38;5;28;43mself\u001b[39;49m\u001b[38;5;241;43m.\u001b[39;49m\u001b[43m_context\u001b[49m\u001b[43m,\u001b[49m\u001b[43m \u001b[49m\u001b[43msym\u001b[49m\u001b[43m,\u001b[49m\u001b[43m \u001b[49m\u001b[43msubj\u001b[49m\u001b[43m,\u001b[49m\u001b[43m \u001b[49m\u001b[43mobj\u001b[49m\u001b[43m)\u001b[49m\u001b[43m)\u001b[49m\n\u001b[0;32m   1147\u001b[0m \u001b[38;5;28;01melse\u001b[39;00m:\n\u001b[0;32m   1148\u001b[0m     \u001b[38;5;28mself\u001b[39m\u001b[38;5;241m.\u001b[39mmakeStatement((\u001b[38;5;28mself\u001b[39m\u001b[38;5;241m.\u001b[39m_context, sym, obj, subj))\n",
      "File \u001b[1;32m~\\AppData\\Local\\Packages\\PythonSoftwareFoundation.Python.3.11_qbz5n2kfra8p0\\LocalCache\\local-packages\\Python311\\site-packages\\rdflib\\plugins\\parsers\\notation3.py:770\u001b[0m, in \u001b[0;36mSinkParser.makeStatement\u001b[1;34m(self, quadruple)\u001b[0m\n\u001b[0;32m    767\u001b[0m \u001b[38;5;28;01mdef\u001b[39;00m \u001b[38;5;21mmakeStatement\u001b[39m(\u001b[38;5;28mself\u001b[39m, quadruple) \u001b[38;5;241m-\u001b[39m\u001b[38;5;241m>\u001b[39m \u001b[38;5;28;01mNone\u001b[39;00m:\n\u001b[0;32m    768\u001b[0m     \u001b[38;5;66;03m# $$$$$$$$$$$$$$$$$$$$$\u001b[39;00m\n\u001b[0;32m    769\u001b[0m     \u001b[38;5;66;03m# print \"# Parser output: \", `quadruple`\u001b[39;00m\n\u001b[1;32m--> 770\u001b[0m     \u001b[38;5;28;43mself\u001b[39;49m\u001b[38;5;241;43m.\u001b[39;49m\u001b[43m_store\u001b[49m\u001b[38;5;241;43m.\u001b[39;49m\u001b[43mmakeStatement\u001b[49m\u001b[43m(\u001b[49m\u001b[43mquadruple\u001b[49m\u001b[43m,\u001b[49m\u001b[43m \u001b[49m\u001b[43mwhy\u001b[49m\u001b[38;5;241;43m=\u001b[39;49m\u001b[38;5;28;43mself\u001b[39;49m\u001b[38;5;241;43m.\u001b[39;49m\u001b[43m_reason2\u001b[49m\u001b[43m)\u001b[49m\n",
      "File \u001b[1;32m~\\AppData\\Local\\Packages\\PythonSoftwareFoundation.Python.3.11_qbz5n2kfra8p0\\LocalCache\\local-packages\\Python311\\site-packages\\rdflib\\plugins\\parsers\\notation3.py:1902\u001b[0m, in \u001b[0;36mRDFSink.makeStatement\u001b[1;34m(self, quadruple, why)\u001b[0m\n\u001b[0;32m   1898\u001b[0m o \u001b[38;5;241m=\u001b[39m \u001b[38;5;28mself\u001b[39m\u001b[38;5;241m.\u001b[39mnormalise(f, o)  \u001b[38;5;66;03m# type: ignore[arg-type]\u001b[39;00m\n\u001b[0;32m   1900\u001b[0m \u001b[38;5;28;01mif\u001b[39;00m f \u001b[38;5;241m==\u001b[39m \u001b[38;5;28mself\u001b[39m\u001b[38;5;241m.\u001b[39mrootFormula:\n\u001b[0;32m   1901\u001b[0m     \u001b[38;5;66;03m# print s, p, o, '.'\u001b[39;00m\n\u001b[1;32m-> 1902\u001b[0m     \u001b[38;5;28;43mself\u001b[39;49m\u001b[38;5;241;43m.\u001b[39;49m\u001b[43mgraph\u001b[49m\u001b[38;5;241;43m.\u001b[39;49m\u001b[43madd\u001b[49m\u001b[43m(\u001b[49m\u001b[43m(\u001b[49m\u001b[43ms\u001b[49m\u001b[43m,\u001b[49m\u001b[43m \u001b[49m\u001b[43mp\u001b[49m\u001b[43m,\u001b[49m\u001b[43m \u001b[49m\u001b[43mo\u001b[49m\u001b[43m)\u001b[49m\u001b[43m)\u001b[49m\n\u001b[0;32m   1903\u001b[0m \u001b[38;5;28;01melif\u001b[39;00m \u001b[38;5;28misinstance\u001b[39m(f, Formula):\n\u001b[0;32m   1904\u001b[0m     f\u001b[38;5;241m.\u001b[39mquotedgraph\u001b[38;5;241m.\u001b[39madd((s, p, o))\n",
      "File \u001b[1;32m~\\AppData\\Local\\Packages\\PythonSoftwareFoundation.Python.3.11_qbz5n2kfra8p0\\LocalCache\\local-packages\\Python311\\site-packages\\rdflib\\graph.py:533\u001b[0m, in \u001b[0;36mGraph.add\u001b[1;34m(self, triple)\u001b[0m\n\u001b[0;32m    531\u001b[0m \u001b[38;5;28;01massert\u001b[39;00m \u001b[38;5;28misinstance\u001b[39m(p, Node), \u001b[38;5;124m\"\u001b[39m\u001b[38;5;124mPredicate \u001b[39m\u001b[38;5;132;01m%s\u001b[39;00m\u001b[38;5;124m must be an rdflib term\u001b[39m\u001b[38;5;124m\"\u001b[39m \u001b[38;5;241m%\u001b[39m (p,)\n\u001b[0;32m    532\u001b[0m \u001b[38;5;28;01massert\u001b[39;00m \u001b[38;5;28misinstance\u001b[39m(o, Node), \u001b[38;5;124m\"\u001b[39m\u001b[38;5;124mObject \u001b[39m\u001b[38;5;132;01m%s\u001b[39;00m\u001b[38;5;124m must be an rdflib term\u001b[39m\u001b[38;5;124m\"\u001b[39m \u001b[38;5;241m%\u001b[39m (o,)\n\u001b[1;32m--> 533\u001b[0m \u001b[38;5;28;43mself\u001b[39;49m\u001b[38;5;241;43m.\u001b[39;49m\u001b[43m__store\u001b[49m\u001b[38;5;241;43m.\u001b[39;49m\u001b[43madd\u001b[49m\u001b[43m(\u001b[49m\u001b[43m(\u001b[49m\u001b[43ms\u001b[49m\u001b[43m,\u001b[49m\u001b[43m \u001b[49m\u001b[43mp\u001b[49m\u001b[43m,\u001b[49m\u001b[43m \u001b[49m\u001b[43mo\u001b[49m\u001b[43m)\u001b[49m\u001b[43m,\u001b[49m\u001b[43m \u001b[49m\u001b[38;5;28;43mself\u001b[39;49m\u001b[43m,\u001b[49m\u001b[43m \u001b[49m\u001b[43mquoted\u001b[49m\u001b[38;5;241;43m=\u001b[39;49m\u001b[38;5;28;43;01mFalse\u001b[39;49;00m\u001b[43m)\u001b[49m\n\u001b[0;32m    534\u001b[0m \u001b[38;5;28;01mreturn\u001b[39;00m \u001b[38;5;28mself\u001b[39m\n",
      "File \u001b[1;32m~\\AppData\\Local\\Packages\\PythonSoftwareFoundation.Python.3.11_qbz5n2kfra8p0\\LocalCache\\local-packages\\Python311\\site-packages\\rdflib\\plugins\\stores\\memory.py:329\u001b[0m, in \u001b[0;36mMemory.add\u001b[1;34m(self, triple, context, quoted)\u001b[0m\n\u001b[0;32m    323\u001b[0m \u001b[38;5;250m\u001b[39m\u001b[38;5;124;03m\"\"\"\\\u001b[39;00m\n\u001b[0;32m    324\u001b[0m \u001b[38;5;124;03mAdd a triple to the store of triples.\u001b[39;00m\n\u001b[0;32m    325\u001b[0m \u001b[38;5;124;03m\"\"\"\u001b[39;00m\n\u001b[0;32m    326\u001b[0m \u001b[38;5;66;03m# add dictionary entries for spo[s][p][p] = 1 and pos[p][o][s]\u001b[39;00m\n\u001b[0;32m    327\u001b[0m \u001b[38;5;66;03m# = 1, creating the nested dictionaries where they do not yet\u001b[39;00m\n\u001b[0;32m    328\u001b[0m \u001b[38;5;66;03m# exits.\u001b[39;00m\n\u001b[1;32m--> 329\u001b[0m \u001b[43mStore\u001b[49m\u001b[38;5;241;43m.\u001b[39;49m\u001b[43madd\u001b[49m\u001b[43m(\u001b[49m\u001b[38;5;28;43mself\u001b[39;49m\u001b[43m,\u001b[49m\u001b[43m \u001b[49m\u001b[43mtriple\u001b[49m\u001b[43m,\u001b[49m\u001b[43m \u001b[49m\u001b[43mcontext\u001b[49m\u001b[43m,\u001b[49m\u001b[43m \u001b[49m\u001b[43mquoted\u001b[49m\u001b[38;5;241;43m=\u001b[39;49m\u001b[43mquoted\u001b[49m\u001b[43m)\u001b[49m\n\u001b[0;32m    330\u001b[0m \u001b[38;5;28;01mif\u001b[39;00m context \u001b[38;5;129;01mis\u001b[39;00m \u001b[38;5;129;01mnot\u001b[39;00m \u001b[38;5;28;01mNone\u001b[39;00m:\n\u001b[0;32m    331\u001b[0m     \u001b[38;5;28mself\u001b[39m\u001b[38;5;241m.\u001b[39m__all_contexts\u001b[38;5;241m.\u001b[39madd(context)\n",
      "File \u001b[1;32m~\\AppData\\Local\\Packages\\PythonSoftwareFoundation.Python.3.11_qbz5n2kfra8p0\\LocalCache\\local-packages\\Python311\\site-packages\\rdflib\\store.py:243\u001b[0m, in \u001b[0;36mStore.add\u001b[1;34m(self, triple, context, quoted)\u001b[0m\n\u001b[0;32m    240\u001b[0m     \u001b[38;5;28;01mpass\u001b[39;00m\n\u001b[0;32m    242\u001b[0m \u001b[38;5;66;03m# RDF APIs\u001b[39;00m\n\u001b[1;32m--> 243\u001b[0m \u001b[38;5;28;01mdef\u001b[39;00m \u001b[38;5;21madd\u001b[39m(\n\u001b[0;32m    244\u001b[0m     \u001b[38;5;28mself\u001b[39m,\n\u001b[0;32m    245\u001b[0m     triple: \u001b[38;5;124m\"\u001b[39m\u001b[38;5;124m_TripleType\u001b[39m\u001b[38;5;124m\"\u001b[39m,\n\u001b[0;32m    246\u001b[0m     context: \u001b[38;5;124m\"\u001b[39m\u001b[38;5;124m_ContextType\u001b[39m\u001b[38;5;124m\"\u001b[39m,\n\u001b[0;32m    247\u001b[0m     quoted: \u001b[38;5;28mbool\u001b[39m \u001b[38;5;241m=\u001b[39m \u001b[38;5;28;01mFalse\u001b[39;00m,\n\u001b[0;32m    248\u001b[0m ) \u001b[38;5;241m-\u001b[39m\u001b[38;5;241m>\u001b[39m \u001b[38;5;28;01mNone\u001b[39;00m:\n\u001b[0;32m    249\u001b[0m \u001b[38;5;250m    \u001b[39m\u001b[38;5;124;03m\"\"\"\u001b[39;00m\n\u001b[0;32m    250\u001b[0m \u001b[38;5;124;03m    Adds the given statement to a specific context or to the model. The\u001b[39;00m\n\u001b[0;32m    251\u001b[0m \u001b[38;5;124;03m    quoted argument is interpreted by formula-aware stores to indicate\u001b[39;00m\n\u001b[1;32m   (...)\u001b[0m\n\u001b[0;32m    255\u001b[0m \u001b[38;5;124;03m    formula-aware.\u001b[39;00m\n\u001b[0;32m    256\u001b[0m \u001b[38;5;124;03m    \"\"\"\u001b[39;00m\n\u001b[0;32m    257\u001b[0m     \u001b[38;5;28mself\u001b[39m\u001b[38;5;241m.\u001b[39mdispatcher\u001b[38;5;241m.\u001b[39mdispatch(TripleAddedEvent(triple\u001b[38;5;241m=\u001b[39mtriple, context\u001b[38;5;241m=\u001b[39mcontext))\n",
      "\u001b[1;31mKeyboardInterrupt\u001b[0m: "
     ]
    }
   ],
   "source": [
    "g = Graph()\n",
    "g.parse(\"./../data/explotation_zone/RDFGraph_Visualitzation.ttl\", format=\"turtle\")\n",
    "visualize_rdf_graph(g)"
   ]
  },
  {
   "cell_type": "code",
   "execution_count": null,
   "metadata": {},
   "outputs": [],
   "source": [
    "#g = Graph()\n",
    "#g.parse(\"./../data_preparation_pipeline/RDFGraph.ttl\", format=\"turtle\")\n",
    "#visualize_hierarchical_rdf_graph(g)"
   ]
  }
 ],
 "metadata": {
  "kernelspec": {
   "display_name": "Python 3 (ipykernel)",
   "language": "python",
   "name": "python3"
  },
  "language_info": {
   "codemirror_mode": {
    "name": "ipython",
    "version": 3
   },
   "file_extension": ".py",
   "mimetype": "text/x-python",
   "name": "python",
   "nbconvert_exporter": "python",
   "pygments_lexer": "ipython3",
   "version": "3.12.3"
  }
 },
 "nbformat": 4,
 "nbformat_minor": 4
}
