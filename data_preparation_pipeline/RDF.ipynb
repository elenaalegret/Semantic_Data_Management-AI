{
 "cells": [
  {
   "cell_type": "markdown",
   "metadata": {},
   "source": [
    "---\n",
    "\n",
    "Schema Definition for RDF Graph\n",
    "\n",
    "---\n",
    "\n",
    "In this notebook, we define the schema for an RDF graph based on the data sources. This involves outlining the structure and relationships of the data to be used in constructing a semantic knowledge graph. The main steps include:\n",
    "\n",
    "- Schema Design: We design the RDF schema, identifying key entities, attributes, and relationships that will form the basis of the knowledge graph.\n",
    "- Mapping Data to RDF: We map the cleaned data to the RDF schema, converting it into RDF triples (subject-predicate-object format), as it can be seen in the `KnowledgeGraph.py`.\n",
    "- Validation: We validate the generated RDF data to ensure it adheres to the defined schema and accurately represents the original data.\n",
    "- Integration and Storage: Finally, we integrate the RDF data into a triple store or RDF database for further querying and analysis."
   ]
  },
  {
   "cell_type": "code",
   "execution_count": 23,
   "metadata": {},
   "outputs": [],
   "source": [
    "#!pip install networkx pyvis rdflib ipython numpy matplotlib pygraphviz"
   ]
  },
  {
   "cell_type": "code",
   "execution_count": 1,
   "metadata": {},
   "outputs": [],
   "source": [
    "import networkx as nx\n",
    "from rdflib import Graph, Namespace, Literal\n",
    "from rdflib.namespace import RDF, RDFS, XSD\n",
    "import matplotlib.pyplot as plt\n",
    "from networkx.drawing.nx_agraph import graphviz_layout\n",
    "from rdflib.plugins.sparql import prepareQuery\n",
    "import duckdb\n",
    "import sys\n",
    "import os\n",
    "\n",
    "# Path to root direct\n",
    "project_root = './..'\n",
    "sys.path.append(project_root)\n",
    "from utils import *"
   ]
  },
  {
   "cell_type": "code",
   "execution_count": 25,
   "metadata": {},
   "outputs": [],
   "source": [
    "# Crear un grafo RDF\n",
    "g = Graph()\n",
    "\n",
    "# Definir los Namespaces\n",
    "ex = Namespace('http://example.org/')\n",
    "loc = Namespace('http://example.org/location/')\n",
    "ent = Namespace('http://example.org/entertainment/')\n",
    "apt = Namespace('http://example.org/apartment/')\n",
    "inc = Namespace('http://example.org/incident/')\n",
    "schema = Namespace('http://schema.org/')\n",
    "# Vinculate Namespaces to graph RDF\n",
    "g.bind('ex', ex)\n",
    "g.bind('loc', loc)\n",
    "g.bind('ent', ent)\n",
    "g.bind('apt', apt)\n",
    "g.bind('inc', inc)\n",
    "g.bind('schema', schema)"
   ]
  },
  {
   "cell_type": "markdown",
   "metadata": {},
   "source": [
    "General Schema Definition"
   ]
  },
  {
   "cell_type": "code",
   "execution_count": 26,
   "metadata": {},
   "outputs": [
    {
     "data": {
      "text/plain": [
       "<Graph identifier=Nd153756c57f1489f84295873535b3786 (<class 'rdflib.graph.Graph'>)>"
      ]
     },
     "execution_count": 26,
     "metadata": {},
     "output_type": "execute_result"
    }
   ],
   "source": [
    "# Define Classes\n",
    "g.add((loc.Locations, RDF.type, RDFS.Class))\n",
    "g.add((loc.District, RDF.type, RDFS.Class))\n",
    "g.add((inc.Incident, RDF.type, RDFS.Class))\n",
    "\n",
    "# Define Locations subclases\n",
    "g.add((ent.Entertainment, RDF.type, RDFS.Class))\n",
    "g.add((ent.Entertainment, RDFS.subClassOf, loc.Locations))\n",
    "\n",
    "g.add((apt.Apartment, RDF.type, RDFS.Class))\n",
    "g.add((apt.Apartment, RDFS.subClassOf, loc.Locations))\n",
    "\n",
    "# Define isinDistrict propiety \n",
    "g.add((loc.isinDistrict, RDF.type, RDF.Property))\n",
    "g.add((loc.isinDistrict, RDFS.domain, loc.Locations))\n",
    "g.add((loc.isinDistrict, RDFS.range, loc.District))\n",
    "\n",
    "# Define Longitude propiety\n",
    "g.add((loc.Longitude, RDF.type, RDF.Property))\n",
    "g.add((loc.Longitude, RDFS.domain, loc.Locations))\n",
    "g.add((loc.Longitude, RDFS.range, XSD.float))\n",
    "\n",
    "# Define Latitude propiety\n",
    "g.add((loc.Latitude, RDF.type, RDF.Property))\n",
    "g.add((loc.Latitude, RDFS.domain, loc.Locations))\n",
    "g.add((loc.Latitude, RDFS.range, XSD.float))"
   ]
  },
  {
   "cell_type": "markdown",
   "metadata": {},
   "source": [
    "Incident Schema Definition: \n",
    "\n",
    "For the incident schema, the variables that will be needed are: \n",
    "\n",
    "- any: year\n",
    "- num_mes: numberMonth\n",
    "- nom_mes: nameMonth\n",
    "- area_basica_policial: Reference the District Class (neighbourhood).\n",
    "- tipus_de_lloc_dels_fets: wherePenalCode\n",
    "- tipus_de_fet_codi_penal: typePenalCode\n",
    "- ambit_fet: incidentType\n",
    "- nombre_victimes: numberVictims\n",
    "\n",
    "An example of an instance is: \n",
    "- any: 2021\n",
    "- num_mes: 6\n",
    "- nom_mes: Juny\n",
    "- area_basica_policial: Nou Barris\n",
    "- tipus_de_lloc_dels_fets: Via pública urbana\n",
    "- tipus_de_fet_codi_penal: Amenaces\n",
    "- ambit_fet:  Political orientation\t\n",
    "- nombre_victimes: 1.0"
   ]
  },
  {
   "cell_type": "code",
   "execution_count": 27,
   "metadata": {},
   "outputs": [
    {
     "data": {
      "text/plain": [
       "<Graph identifier=Nd153756c57f1489f84295873535b3786 (<class 'rdflib.graph.Graph'>)>"
      ]
     },
     "execution_count": 27,
     "metadata": {},
     "output_type": "execute_result"
    }
   ],
   "source": [
    "# Define happenedAt\n",
    "g.add((inc.happenedAt, RDF.type, RDF.Property))\n",
    "g.add((inc.happenedAt, RDFS.domain, inc.Incident))\n",
    "g.add((inc.happenedAt, RDFS.range, loc.District))\n",
    "\n",
    "# Define year\n",
    "g.add((inc.year, RDF.type, RDF.Property))\n",
    "g.add((inc.year, RDFS.domain, inc.Incident))\n",
    "g.add((inc.year, RDFS.range, XSD.integer))\n",
    "\n",
    "# Define numberMonth\n",
    "g.add((inc.numberMonth, RDF.type, RDF.Property))\n",
    "g.add((inc.numberMonth, RDFS.domain, inc.Incident))\n",
    "g.add((inc.numberMonth, RDFS.range, XSD.integer))\n",
    "\n",
    "# Define nameMonth\n",
    "g.add((inc.nameMonth, RDF.type, RDF.Property))\n",
    "g.add((inc.nameMonth, RDFS.domain, inc.Incident))\n",
    "g.add((inc.nameMonth, RDFS.range, XSD.string))\n",
    "\n",
    "# Define typePenalCode\n",
    "g.add((inc.typePenalCode, RDF.type, RDF.Property))\n",
    "g.add((inc.typePenalCode, RDFS.domain, inc.Incident))\n",
    "g.add((inc.typePenalCode, RDFS.range, XSD.string))\n",
    "\n",
    "# Define wherePenalCode\n",
    "g.add((inc.wherePenalCode, RDF.type, RDF.Property))\n",
    "g.add((inc.wherePenalCode, RDFS.domain, inc.Incident))\n",
    "g.add((inc.wherePenalCode, RDFS.range, XSD.string))\n",
    "\n",
    "# Define incidentType \n",
    "g.add((inc.incidentType, RDF.type, RDF.Property))\n",
    "g.add((inc.incidentType, RDFS.domain, inc.Incident))\n",
    "g.add((inc.incidentType, RDFS.range, XSD.string))\n",
    "\n",
    "# Define numberVictims\n",
    "g.add((inc.numberVictims, RDF.type, RDF.Property))\n",
    "g.add((inc.numberVictims, RDFS.domain, inc.Incident))\n",
    "g.add((inc.numberVictims, RDFS.range, XSD.float))"
   ]
  },
  {
   "cell_type": "markdown",
   "metadata": {},
   "source": [
    "Airbnb Schema Definition\n",
    "\n",
    "For the Airbnb schema, the variables that will be needed are: \n",
    "\n",
    "- neighbourhood: Reference the District Class (neighbourhood).\n",
    "- latitude: Reference the Latitude domain.\n",
    "- longitude: Reference the Longitude domain.\n",
    "- criminality index: criminalityIndex\n",
    "- extra_people: extraPeople\n",
    "- property_type: propertyType\n",
    "- room_type: roomType\n",
    "- accommodates: accommodates\n",
    "- bathrooms: bathrooms\n",
    "- bedrooms: bedrooms\n",
    "- beds: beds\n",
    "- bed_type: bedType\n",
    "- price (x night): price\n",
    "- security_deposit: securityDeposit\n",
    "- cleaning_fee: cleaningFee\n",
    "- guests_included: guestsIncluded\n",
    "- review_scores_location (0-10): reviewScoresLocation\n",
    "- cancellation_policy: cancellationPolicy\n",
    "\n",
    "\n",
    "An example of an instance is: \n",
    "\n",
    "- neighbourhood: Reference the District Class (neighbourhood).\n",
    "- latitude: Reference the Latitude domain.\n",
    "- longitude: Reference the Longitude domain.\n",
    "- criminality index: criminalityIndex\n",
    "- extra_people: extraPeople\n",
    "- property_type: Apartment\n",
    "- room_type: Private room\n",
    "- accommodates: 2\n",
    "- bathrooms: 2.0\n",
    "- bedrooms: 1.0\n",
    "- beds: 2.0\n",
    "- bed_type: Real Bed\n",
    "- price (x night): 21.0\n",
    "- security_deposit: 123.0\n",
    "- cleaning_fee: 54.0\n",
    "- guests_included: 1\n",
    "- review_scores_location (0-10): 100.0\t\n",
    "- cancellation_policy: moderate\t"
   ]
  },
  {
   "cell_type": "code",
   "execution_count": 28,
   "metadata": {},
   "outputs": [
    {
     "data": {
      "text/plain": [
       "'# Define reviewScoresLocation\\ng.add((apt.reviewScoresLocation, RDF.type, RDF.Property))\\ng.add((apt.reviewScoresLocation, RDFS.domain, apt.Apartment))\\ng.add((apt.reviewScoresLocation, RDFS.range, XSD.integer))  '"
      ]
     },
     "execution_count": 28,
     "metadata": {},
     "output_type": "execute_result"
    }
   ],
   "source": [
    "# Define criminalityIndex\n",
    "g.add((apt.criminalityIndex, RDF.type, RDF.Property))\n",
    "g.add((apt.criminalityIndex, RDFS.domain, apt.Apartment))\n",
    "g.add((apt.criminalityIndex, RDFS.range, XSD.float))\n",
    "\n",
    "# Define extraPeople\n",
    "g.add((apt.extraPeople, RDF.type, RDF.Property))\n",
    "g.add((apt.extraPeople, RDFS.domain, apt.Apartment))\n",
    "g.add((apt.extraPeople, RDFS.range, XSD.integer))\n",
    "\n",
    "# Define propertyType\n",
    "g.add((apt.propertyType, RDF.type, RDF.Property))\n",
    "g.add((apt.propertyType, RDFS.domain, apt.Apartment))\n",
    "g.add((apt.propertyType, RDFS.range, XSD.string))\n",
    "\n",
    "# Define roomType\n",
    "g.add((apt.roomType, RDF.type, RDF.Property))\n",
    "g.add((apt.roomType, RDFS.domain, apt.Apartment))\n",
    "g.add((apt.roomType, RDFS.range, XSD.string))\n",
    "\n",
    "# Define accommodates\n",
    "g.add((apt.accommodates, RDF.type, RDF.Property))\n",
    "g.add((apt.accommodates, RDFS.domain, apt.Apartment))\n",
    "g.add((apt.accommodates, RDFS.range, XSD.integer))\n",
    "\n",
    "# Define bathrooms\n",
    "g.add((apt.bathrooms, RDF.type, RDF.Property))\n",
    "g.add((apt.bathrooms, RDFS.domain, apt.Apartment))\n",
    "g.add((apt.bathrooms, RDFS.range, XSD.integer))\n",
    "\n",
    "# Define bedrooms\n",
    "g.add((apt.bedrooms, RDF.type, RDF.Property))\n",
    "g.add((apt.bedrooms, RDFS.domain, apt.Apartment))\n",
    "g.add((apt.bedrooms, RDFS.range, XSD.integer))\n",
    "\n",
    "# Define beds\n",
    "g.add((apt.beds, RDF.type, RDF.Property))\n",
    "g.add((apt.beds, RDFS.domain, apt.Apartment))\n",
    "g.add((apt.beds, RDFS.range, XSD.integer))\n",
    "\n",
    "# Define bedType\n",
    "g.add((apt.bedType, RDF.type, RDF.Property))\n",
    "g.add((apt.bedType, RDFS.domain, apt.Apartment))\n",
    "g.add((apt.bedType, RDFS.range, XSD.string))\n",
    "\n",
    "# Define price\n",
    "g.add((apt.price, RDF.type, RDF.Property))\n",
    "g.add((apt.price, RDFS.domain, apt.Apartment))\n",
    "g.add((apt.price, RDFS.range, XSD.float))\n",
    "\n",
    "# Define securityDeposit\n",
    "g.add((apt.securityDeposit, RDF.type, RDF.Property))\n",
    "g.add((apt.securityDeposit, RDFS.domain, apt.Apartment))\n",
    "g.add((apt.securityDeposit, RDFS.range, XSD.float))\n",
    "\n",
    "# Define cleaningFee\n",
    "g.add((apt.cleaningFee, RDF.type, RDF.Property))\n",
    "g.add((apt.cleaningFee, RDFS.domain, apt.Apartment))\n",
    "g.add((apt.cleaningFee, RDFS.range, XSD.float))\n",
    "\n",
    "# Define guestsIncluded\n",
    "g.add((apt.guestsIncluded, RDF.type, RDF.Property))\n",
    "g.add((apt.guestsIncluded, RDFS.domain, apt.Apartment))\n",
    "g.add((apt.guestsIncluded, RDFS.range, XSD.integer))\n",
    "\n",
    "# Define cancellationPolicy\n",
    "g.add((apt.cancellationPolicy, RDF.type, RDF.Property))\n",
    "g.add((apt.cancellationPolicy, RDFS.domain, apt.Apartment))\n",
    "g.add((apt.cancellationPolicy, RDFS.range, XSD.string))\n",
    "\n",
    "\"\"\"# Define reviewScoresLocation\n",
    "g.add((apt.reviewScoresLocation, RDF.type, RDF.Property))\n",
    "g.add((apt.reviewScoresLocation, RDFS.domain, apt.Apartment))\n",
    "g.add((apt.reviewScoresLocation, RDFS.range, XSD.integer))  \"\"\""
   ]
  },
  {
   "cell_type": "markdown",
   "metadata": {},
   "source": [
    "Tripadvisor Locations Schema Definition\n",
    "\n",
    "For the Tripadvisor Locations schema, the variables that will be needed are: \n",
    "\n",
    "- location_id: S'HAURIA DE TREURE POTSER?\n",
    "\n",
    "- neighbourhood: Reference the District Class (neighbourhood).\n",
    "- latitude: Reference the Latitude domain.\n",
    "- longitude: Reference the Longitude domain.\n",
    "- name: name\n",
    "- address_obj_address_string: adress\n",
    "- type: type\n",
    "- neighbourhood: Reference the District Class (neighbourhood).\n",
    "- latitude: Reference the Latitude domain.\n",
    "- longitude: Reference the Longitude domain.\n",
    "\n",
    "An example of an instance is: \n",
    "\n",
    "- neighbourhood: Eixample\n",
    "- latitude: 41.383205\n",
    "- longitude: 2.162197\n",
    "- name: Anna Subirats Xarcuteria\n",
    "- address_obj_address_string: Carrer De Sepulveda, 167, 08011 Barcelona Spain\n",
    "- type: restaurant"
   ]
  },
  {
   "cell_type": "code",
   "execution_count": 29,
   "metadata": {},
   "outputs": [
    {
     "data": {
      "text/plain": [
       "<Graph identifier=Nd153756c57f1489f84295873535b3786 (<class 'rdflib.graph.Graph'>)>"
      ]
     },
     "execution_count": 29,
     "metadata": {},
     "output_type": "execute_result"
    }
   ],
   "source": [
    "# Define name\n",
    "g.add((ent.name, RDF.type, RDF.Property))\n",
    "g.add((ent.name, RDFS.domain, ent.Entertainment))\n",
    "g.add((ent.name, RDFS.range, XSD.string))\n",
    "\n",
    "# Define adress\n",
    "g.add((ent.adress, RDF.type, RDF.Property))\n",
    "g.add((ent.adress, RDFS.domain, ent.Entertainment))\n",
    "g.add((ent.adress, RDFS.range, XSD.string))\n",
    "\n",
    "# Define typeEnt\n",
    "g.add((ent.typeEnt, RDF.type, RDF.Property))\n",
    "g.add((ent.typeEnt, RDFS.domain, ent.Entertainment))\n",
    "g.add((ent.typeEnt, RDFS.range, XSD.string))"
   ]
  },
  {
   "cell_type": "markdown",
   "metadata": {},
   "source": [
    " Instances Generator: Add the instances from the DuckDB to RDF"
   ]
  },
  {
   "cell_type": "code",
   "execution_count": 30,
   "metadata": {},
   "outputs": [],
   "source": [
    "# Connection to trusted database\n",
    "con = duckdb.connect(database='./../data/trusted_zone/barcelona_processed.db')"
   ]
  },
  {
   "cell_type": "markdown",
   "metadata": {},
   "source": [
    "- Criminal Instances"
   ]
  },
  {
   "cell_type": "code",
   "execution_count": 31,
   "metadata": {},
   "outputs": [],
   "source": [
    "# Connection to database\n",
    "df_criminal = con.execute(\"SELECT * FROM df_criminal_dataset\").fetchdf()\n",
    "add_criminal_instances(g, loc, inc, ex, df_criminal)"
   ]
  },
  {
   "cell_type": "markdown",
   "metadata": {},
   "source": [
    "- Airbnb Dataset"
   ]
  },
  {
   "cell_type": "code",
   "execution_count": 32,
   "metadata": {},
   "outputs": [],
   "source": [
    "# Connection to database         \n",
    "\n",
    "df_airbnb = con.execute(\"SELECT * FROM df_airbnb_listings\").fetchdf()\n",
    "add_airbnb_instances(g, apt, df_airbnb)"
   ]
  },
  {
   "cell_type": "markdown",
   "metadata": {},
   "source": [
    "- Tripadvisor Datasets: Locations and Restaurants"
   ]
  },
  {
   "cell_type": "code",
   "execution_count": 33,
   "metadata": {},
   "outputs": [],
   "source": [
    "# Connection to databases --> NO FUNCIONA\n",
    "#df_tripadvisor_locations = con.execute(\"SELECT * FROM df_tripadvisor_locations\").fetchdf()\n",
    "#df_tripadvisor_reviews = con.execute(\"SELECT * FROM df_tripadvisor_reviews\").fetchdf()\n",
    "#add_entertainment_instances(g, ent, df_tripadvisor_reviews, 'locations')\n",
    "#add_entertainment_instances(g, ent, df_tripadvisor_locations, 'restaurants')"
   ]
  },
  {
   "cell_type": "markdown",
   "metadata": {},
   "source": [
    "Store the RDF dataset into Turtle format"
   ]
  },
  {
   "cell_type": "code",
   "execution_count": 39,
   "metadata": {},
   "outputs": [
    {
     "data": {
      "text/plain": [
       "<Graph identifier=Nd153756c57f1489f84295873535b3786 (<class 'rdflib.graph.Graph'>)>"
      ]
     },
     "execution_count": 39,
     "metadata": {},
     "output_type": "execute_result"
    }
   ],
   "source": [
    "g.serialize(destination='./../data/explotation_zone/RDFGraph.ttl', format='turtle')"
   ]
  },
  {
   "cell_type": "markdown",
   "metadata": {},
   "source": [
    "Sanity Check: Verify if the instances are well added"
   ]
  },
  {
   "cell_type": "code",
   "execution_count": 35,
   "metadata": {},
   "outputs": [
    {
     "name": "stdout",
     "output_type": "stream",
     "text": [
      "\n",
      "Random instance of type http://example.org/incident/Incident: http://example.org/incident_0\n",
      "  22-rdf-syntax-ns#type: http://example.org/incident/Incident\n",
      "  happenedAt: http://example.org/location/Nou_Barris\n",
      "  year: 2021.0\n",
      "  numberMonth: 6.0\n",
      "  nameMonth: Juny\n",
      "  typePenalCode: Amenaces\n",
      "  wherePenalCode: Via pública urbana\n",
      "  incidentType: Political orientation\n",
      "  numberVictims: 1.0\n"
     ]
    }
   ],
   "source": [
    "print_random_instance(g, inc.Incident)"
   ]
  },
  {
   "cell_type": "code",
   "execution_count": 36,
   "metadata": {},
   "outputs": [],
   "source": [
    "con.close()"
   ]
  },
  {
   "cell_type": "markdown",
   "metadata": {},
   "source": [
    "RDF Graph Visualitzation"
   ]
  },
  {
   "cell_type": "code",
   "execution_count": 37,
   "metadata": {},
   "outputs": [],
   "source": [
    "#g = Graph()\n",
    "#g.parse(\"./../data_preparation_pipeline/RDFGraph.ttl\", format=\"turtle\")\n",
    "#visualize_rdf_graph(g)"
   ]
  },
  {
   "cell_type": "code",
   "execution_count": 38,
   "metadata": {},
   "outputs": [],
   "source": [
    "#g = Graph()\n",
    "#g.parse(\"./../data_preparation_pipeline/RDFGraph.ttl\", format=\"turtle\")\n",
    "#visualize_hierarchical_rdf_graph(g)"
   ]
  }
 ],
 "metadata": {
  "kernelspec": {
   "display_name": "bda",
   "language": "python",
   "name": "python3"
  },
  "language_info": {
   "codemirror_mode": {
    "name": "ipython",
    "version": 3
   },
   "file_extension": ".py",
   "mimetype": "text/x-python",
   "name": "python",
   "nbconvert_exporter": "python",
   "pygments_lexer": "ipython3",
   "version": "3.9.7"
  }
 },
 "nbformat": 4,
 "nbformat_minor": 2
}
