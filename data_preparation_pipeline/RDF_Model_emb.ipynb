{
 "cells": [
  {
   "cell_type": "markdown",
   "metadata": {},
   "source": [
    "___\n",
    "\n",
    "<div style=\"text-align: center;\">\n",
    "  <span style=\"font-family: 'Playfair Display', serif; font-size: 24px; font-weight: bold;\">\n",
    "    Schema Definition for RDF Graph -> Model Embedding\n",
    "  </span>\n",
    "</div>\n",
    "\n",
    "___\n",
    "\n",
    "In this notebook, we define the schema for an RDF graph based on the data sources. This involves outlining the structure and relationships of the data to be used in constructing a semantic knowledge graph. The main steps include:\n",
    "\n",
    "- Schema Design: We design the RDF schema, identifying key entities, attributes, and relationships that will form the basis of the knowledge graph.\n",
    "- Mapping Data to RDF: We map the cleaned data to the RDF schema, converting it into RDF triples (subject-predicate-object format), as it can be seen in the `KnowledgeGraph.py`.\n",
    "- Validation: We validate the generated RDF data to ensure it adheres to the defined schema and accurately represents the original data.\n",
    "- Integration and Storage: Finally, we integrate the RDF data into a triple store or RDF database for further querying and analysis."
   ]
  },
  {
   "cell_type": "code",
   "execution_count": 1,
   "metadata": {},
   "outputs": [],
   "source": [
    "#!pip install networkx pyvis rdflib ipython numpy matplotlib pygraphviz"
   ]
  },
  {
   "cell_type": "code",
   "execution_count": 2,
   "metadata": {},
   "outputs": [],
   "source": [
    "import networkx as nx\n",
    "from rdflib import Graph, Namespace, Literal\n",
    "from rdflib.namespace import RDF, RDFS, XSD\n",
    "import matplotlib.pyplot as plt\n",
    "from networkx.drawing.nx_agraph import graphviz_layout\n",
    "from rdflib.plugins.sparql import prepareQuery\n",
    "import duckdb\n",
    "import sys\n",
    "import os\n",
    "\n",
    "# Path to root direct\n",
    "project_root = './..'\n",
    "sys.path.append(project_root)\n",
    "import utils"
   ]
  },
  {
   "cell_type": "code",
   "execution_count": 3,
   "metadata": {},
   "outputs": [],
   "source": [
    "# Create RDF\n",
    "g = Graph()\n",
    "\n",
    "# Define Namespaces\n",
    "ex = Namespace('http://example.org/')\n",
    "loc = Namespace('http://example.org/location/')\n",
    "ent = Namespace('http://example.org/entertainment/')\n",
    "apt = Namespace('http://example.org/apartment/')\n",
    "inc = Namespace('http://example.org/incident/')\n",
    "schema = Namespace('http://schema.org/')\n",
    "\n",
    "# Vinculate Namespaces to graph RDF\n",
    "g.bind('ex', ex)\n",
    "g.bind('loc', loc)\n",
    "g.bind('ent', ent)\n",
    "g.bind('apt', apt)\n",
    "g.bind('inc', inc)\n",
    "g.bind('schema', schema)"
   ]
  },
  {
   "cell_type": "markdown",
   "metadata": {},
   "source": [
    "### General Schema Definition"
   ]
  },
  {
   "cell_type": "code",
   "execution_count": 4,
   "metadata": {},
   "outputs": [
    {
     "data": {
      "text/plain": [
       "<Graph identifier=N22212a1ddc3b4c018e42dd540a06f7b4 (<class 'rdflib.graph.Graph'>)>"
      ]
     },
     "execution_count": 4,
     "metadata": {},
     "output_type": "execute_result"
    }
   ],
   "source": [
    "# Define Classes\n",
    "g.add((loc.Locations, RDF.type, RDFS.Class))\n",
    "g.add((loc.District, RDF.type, RDFS.Class))\n",
    "g.add((inc.Incident, RDF.type, RDFS.Class))\n",
    "\n",
    "# Define Locations subclases\n",
    "g.add((ent.Entertainment, RDF.type, RDFS.Class))\n",
    "g.add((ent.Entertainment, RDFS.subClassOf, loc.Locations))\n",
    "\n",
    "g.add((apt.Apartment, RDF.type, RDFS.Class))\n",
    "g.add((apt.Apartment, RDFS.subClassOf, loc.Locations))\n",
    "\n",
    "# Define isinDistrict propiety \n",
    "g.add((loc.isinDistrict, RDF.type, RDF.Property))\n",
    "g.add((loc.isinDistrict, RDFS.domain, loc.Locations))\n",
    "g.add((loc.isinDistrict, RDFS.range, loc.District))\n",
    "\n",
    "# Define hasLocation for apt\n",
    "g.add((apt.hasLocation, RDF.type, RDF.Property))\n",
    "g.add((apt.hasLocation, RDFS.domain, apt.Apartment))\n",
    "g.add((apt.hasLocation, RDFS.range, loc.Locations))\n",
    "\n",
    "# Define hasLocation for entertainment\n",
    "g.add((ent.hasLocation, RDF.type, RDF.Property))\n",
    "g.add((ent.hasLocation, RDFS.domain, ent.Entertainment))\n",
    "g.add((ent.hasLocation, RDFS.range, loc.Locations))\n",
    "\n",
    "# Define Longitude propiety\n",
    "g.add((loc.Longitude, RDF.type, RDF.Property))\n",
    "g.add((loc.Longitude, RDFS.domain, loc.Locations))\n",
    "g.add((loc.Longitude, RDFS.range, XSD.float))\n",
    "\n",
    "# Define Latitude propiety\n",
    "g.add((loc.Latitude, RDF.type, RDF.Property))\n",
    "g.add((loc.Latitude, RDFS.domain, loc.Locations))\n",
    "g.add((loc.Latitude, RDFS.range, XSD.float))"
   ]
  },
  {
   "cell_type": "markdown",
   "metadata": {},
   "source": [
    "### Incident Schema Definition\n",
    "\n",
    "For the incident schema, the variables that will be needed are: \n",
    "\n",
    "- nom_mes: nameMonth\n",
    "- neighbourhood: Reference the District Class (neighbourhood).\n",
    "- type_crime: incidentType\n",
    "- nombre_victimes: numberVictims\n",
    "- criminality_index: criminalityIndex\n",
    "\n",
    "An example of an instance is: \n",
    "- nom_mes: Juny\n",
    "- neighbourhood: Nou Barris\n",
    "- type_crime:  Political orientation\t\n",
    "- nombre_victimes: 1.0\n",
    "- criminality_index: 0.053398"
   ]
  },
  {
   "cell_type": "code",
   "execution_count": 5,
   "metadata": {},
   "outputs": [
    {
     "data": {
      "text/plain": [
       "<Graph identifier=N22212a1ddc3b4c018e42dd540a06f7b4 (<class 'rdflib.graph.Graph'>)>"
      ]
     },
     "execution_count": 5,
     "metadata": {},
     "output_type": "execute_result"
    }
   ],
   "source": [
    "# Define happenedAt\n",
    "g.add((inc.happenedAt, RDF.type, RDF.Property))\n",
    "g.add((inc.happenedAt, RDFS.domain, inc.Incident))\n",
    "g.add((inc.happenedAt, RDFS.range, loc.District))\n",
    "\n",
    "\"\"\"# Define year\n",
    "g.add((inc.year, RDF.type, RDF.Property))\n",
    "g.add((inc.year, RDFS.domain, inc.Incident))\n",
    "g.add((inc.year, RDFS.range, XSD.integer))\n",
    "\n",
    "# Define numberMonth\n",
    "g.add((inc.numberMonth, RDF.type, RDF.Property))\n",
    "g.add((inc.numberMonth, RDFS.domain, inc.Incident))\n",
    "g.add((inc.numberMonth, RDFS.range, XSD.integer))\n",
    "\n",
    "# Define typePenalCode\n",
    "g.add((inc.typePenalCode, RDF.type, RDF.Property))\n",
    "g.add((inc.typePenalCode, RDFS.domain, inc.Incident))\n",
    "g.add((inc.typePenalCode, RDFS.range, XSD.string))\n",
    "\n",
    "# Define wherePenalCode\n",
    "g.add((inc.wherePenalCode, RDF.type, RDF.Property))\n",
    "g.add((inc.wherePenalCode, RDFS.domain, inc.Incident))\n",
    "g.add((inc.wherePenalCode, RDFS.range, XSD.string))\n",
    "\"\"\"\n",
    "\n",
    "# Define nameMonth\n",
    "g.add((inc.nameMonth, RDF.type, RDF.Property))\n",
    "g.add((inc.nameMonth, RDFS.domain, inc.Incident))\n",
    "g.add((inc.nameMonth, RDFS.range, XSD.string))\n",
    "\n",
    "# Define incidentType \n",
    "g.add((inc.incidentType, RDF.type, RDF.Property))\n",
    "g.add((inc.incidentType, RDFS.domain, inc.Incident))\n",
    "g.add((inc.incidentType, RDFS.range, XSD.string))\n",
    "\n",
    "# Define numberVictims\n",
    "g.add((inc.numberVictims, RDF.type, RDF.Property))\n",
    "g.add((inc.numberVictims, RDFS.domain, inc.Incident))\n",
    "g.add((inc.numberVictims, RDFS.range, XSD.float))\n",
    "\n",
    "# Define criminalityIndex\n",
    "g.add((inc.criminalityIndex, RDF.type, RDF.Property))\n",
    "g.add((inc.criminalityIndex, RDFS.domain, inc.Incident))\n",
    "g.add((inc.criminalityIndex, RDFS.range, XSD.float))"
   ]
  },
  {
   "cell_type": "markdown",
   "metadata": {},
   "source": [
    "### Airbnb Schema Definition\n",
    "\n",
    "For the Airbnb schema, the variables that will be needed are: \n",
    "\n",
    "- name: name\n",
    "- host_id: hostId\n",
    "- host_since: hostSince\n",
    "- host_total_listings_count: hostTotalListingsCount\n",
    "- host_verifications: hostVerifications\n",
    "- neighbourhood: Reference the District Class (neighbourhood).\n",
    "- latitude: Reference the Latitude domain.\n",
    "- longitude: Reference the Longitude domain.\n",
    "- property_type: propertyType\n",
    "- room_type: roomType\n",
    "- accommodates: accommodates\n",
    "- bathrooms: bathrooms\n",
    "- bedrooms: bedrooms\n",
    "- beds: beds\n",
    "- bed_type: bedType\n",
    "- price (x night): price\n",
    "- security_deposit: securityDeposit\n",
    "- cleaning_fee: cleaningFee\n",
    "- guests_included: guestsIncluded\n",
    "- extra_people: extraPeople\n",
    "- minimum_nights: minimumNights\n",
    "- maximum_nights: maximumNights\n",
    "- number_of_reviews: numberOfReviews\n",
    "- cancellation_policy: cancellationPolicy\n",
    "\n",
    "\n",
    "An example of an instance is: \n",
    "\n",
    "- name: Piso cerca del Cam Nou.\n",
    "- host_id: 38925857\n",
    "- host_since: 2015-07-19\n",
    "- host_total_listings_count: 1.0\n",
    "- host_verifications: email, phone, reviews, jumio\n",
    "- neighbourhood: Les Corts\n",
    "- latitude: 41.378150177192396\n",
    "- longitude: 2.122075545481956\n",
    "- property_type: Apartment\n",
    "- room_type: Private room\n",
    "- accommodates: 2\n",
    "- bathrooms: 2.0\n",
    "- bedrooms: 1.0\n",
    "- beds: 2.0\n",
    "- bed_type: Real Bed\n",
    "- price (x night): 21.0\n",
    "- security_deposit: 123.0\n",
    "- cleaning_fee: 54.0\n",
    "- guests_included: 1\n",
    "- extra_people: 7\n",
    "- minimum_nights: 1\n",
    "- maximum_nights: 1125\n",
    "- number_of_reviews: 1\n",
    "- cancellation_policy: moderate\t"
   ]
  },
  {
   "cell_type": "code",
   "execution_count": 6,
   "metadata": {},
   "outputs": [
    {
     "data": {
      "text/plain": [
       "<Graph identifier=N22212a1ddc3b4c018e42dd540a06f7b4 (<class 'rdflib.graph.Graph'>)>"
      ]
     },
     "execution_count": 6,
     "metadata": {},
     "output_type": "execute_result"
    }
   ],
   "source": [
    "# Define name\n",
    "g.add((apt.name, RDF.type, RDF.Property))\n",
    "g.add((apt.name, RDFS.domain, apt.Apartment))\n",
    "g.add((apt.name, RDFS.range, XSD.string))\n",
    "\n",
    "# Define hostId\n",
    "g.add((apt.hostId, RDF.type, RDF.Property))\n",
    "g.add((apt.hostId, RDFS.domain, apt.Apartment))\n",
    "g.add((apt.hostId, RDFS.range, XSD.integer))\n",
    "\n",
    "# Define hostSince\n",
    "g.add((apt.hostSince, RDF.type, RDF.Property))\n",
    "g.add((apt.hostSince, RDFS.domain, apt.Apartment))\n",
    "g.add((apt.hostSince, RDFS.range, XSD.string))\n",
    "\n",
    "# Define hostTotalListingsCount\n",
    "g.add((apt.hostTotalListingsCount, RDF.type, RDF.Property))\n",
    "g.add((apt.hostTotalListingsCount, RDFS.domain, apt.Apartment))\n",
    "g.add((apt.hostTotalListingsCount, RDFS.range, XSD.float))\n",
    "\n",
    "# Define hostVerifications\n",
    "g.add((apt.hostVerifications, RDF.type, RDF.Property))\n",
    "g.add((apt.hostVerifications, RDFS.domain, apt.Apartment))\n",
    "g.add((apt.hostVerifications, RDFS.range, XSD.string))\n",
    "\n",
    "# Define propertyType\n",
    "g.add((apt.propertyType, RDF.type, RDF.Property))\n",
    "g.add((apt.propertyType, RDFS.domain, apt.Apartment))\n",
    "g.add((apt.propertyType, RDFS.range, XSD.string))\n",
    "\n",
    "# Define roomType\n",
    "g.add((apt.roomType, RDF.type, RDF.Property))\n",
    "g.add((apt.roomType, RDFS.domain, apt.Apartment))\n",
    "g.add((apt.roomType, RDFS.range, XSD.string))\n",
    "\n",
    "# Define accommodates\n",
    "g.add((apt.accommodates, RDF.type, RDF.Property))\n",
    "g.add((apt.accommodates, RDFS.domain, apt.Apartment))\n",
    "g.add((apt.accommodates, RDFS.range, XSD.integer))\n",
    "\n",
    "# Define bathrooms\n",
    "g.add((apt.bathrooms, RDF.type, RDF.Property))\n",
    "g.add((apt.bathrooms, RDFS.domain, apt.Apartment))\n",
    "g.add((apt.bathrooms, RDFS.range, XSD.integer))\n",
    "\n",
    "# Define bedrooms\n",
    "g.add((apt.bedrooms, RDF.type, RDF.Property))\n",
    "g.add((apt.bedrooms, RDFS.domain, apt.Apartment))\n",
    "g.add((apt.bedrooms, RDFS.range, XSD.integer))\n",
    "\n",
    "# Define beds\n",
    "g.add((apt.beds, RDF.type, RDF.Property))\n",
    "g.add((apt.beds, RDFS.domain, apt.Apartment))\n",
    "g.add((apt.beds, RDFS.range, XSD.integer))\n",
    "\n",
    "# Define bedType\n",
    "g.add((apt.bedType, RDF.type, RDF.Property))\n",
    "g.add((apt.bedType, RDFS.domain, apt.Apartment))\n",
    "g.add((apt.bedType, RDFS.range, XSD.string))\n",
    "\n",
    "# Define price\n",
    "g.add((apt.price, RDF.type, RDF.Property))\n",
    "g.add((apt.price, RDFS.domain, apt.Apartment))\n",
    "g.add((apt.price, RDFS.range, XSD.string))\n",
    "\n",
    "# Define securityDeposit\n",
    "g.add((apt.securityDeposit, RDF.type, RDF.Property))\n",
    "g.add((apt.securityDeposit, RDFS.domain, apt.Apartment))\n",
    "g.add((apt.securityDeposit, RDFS.range, XSD.float))\n",
    "\n",
    "# Define cleaningFee\n",
    "g.add((apt.cleaningFee, RDF.type, RDF.Property))\n",
    "g.add((apt.cleaningFee, RDFS.domain, apt.Apartment))\n",
    "g.add((apt.cleaningFee, RDFS.range, XSD.float))\n",
    "\n",
    "# Define guestsIncluded\n",
    "g.add((apt.guestsIncluded, RDF.type, RDF.Property))\n",
    "g.add((apt.guestsIncluded, RDFS.domain, apt.Apartment))\n",
    "g.add((apt.guestsIncluded, RDFS.range, XSD.integer))\n",
    "\n",
    "# Define extraPeople\n",
    "g.add((apt.extraPeople, RDF.type, RDF.Property))\n",
    "g.add((apt.extraPeople, RDFS.domain, apt.Apartment))\n",
    "g.add((apt.extraPeople, RDFS.range, XSD.integer))\n",
    "\n",
    "# Define minimumNights\n",
    "g.add((apt.minimumNights, RDF.type, RDF.Property))\n",
    "g.add((apt.minimumNights, RDFS.domain, apt.Apartment))\n",
    "g.add((apt.minimumNights, RDFS.range, XSD.integer))\n",
    "\n",
    "# Define maximumNights\n",
    "g.add((apt.maximumNights, RDF.type, RDF.Property))\n",
    "g.add((apt.maximumNights, RDFS.domain, apt.Apartment))\n",
    "g.add((apt.maximumNights, RDFS.range, XSD.integer))\n",
    "\n",
    "# Define numberOfReviews\n",
    "g.add((apt.numberOfReviews, RDF.type, RDF.Property))\n",
    "g.add((apt.numberOfReviews, RDFS.domain, apt.Apartment))\n",
    "g.add((apt.numberOfReviews, RDFS.range, XSD.integer)) \n",
    "\n",
    "# Define cancellationPolicy\n",
    "g.add((apt.cancellationPolicy, RDF.type, RDF.Property))\n",
    "g.add((apt.cancellationPolicy, RDFS.domain, apt.Apartment))\n",
    "g.add((apt.cancellationPolicy, RDFS.range, XSD.string))"
   ]
  },
  {
   "cell_type": "markdown",
   "metadata": {},
   "source": [
    "### Tripadvisor Locations Schema Definition\n",
    "\n",
    "For the Tripadvisor Locations schema, the variables that will be needed are: \n",
    "\n",
    "- location_id: locationId\n",
    "- name: name\n",
    "- type: type\n",
    "- neighbourhood: Reference the District Class (neighbourhood).\n",
    "- latitude: Reference the Latitude domain.\n",
    "- longitude: Reference the Longitude domain.\n",
    "\n",
    "An example of an instance is: \n",
    "\n",
    "- location_id: 27200794\n",
    "- name: Anna Subirats Xarcuteria\n",
    "- type: restaurant\n",
    "- neighbourhood: Eixample\n",
    "- latitude: 41.383205\n",
    "- longitude: 2.162197"
   ]
  },
  {
   "cell_type": "code",
   "execution_count": 7,
   "metadata": {},
   "outputs": [
    {
     "data": {
      "text/plain": [
       "<Graph identifier=N22212a1ddc3b4c018e42dd540a06f7b4 (<class 'rdflib.graph.Graph'>)>"
      ]
     },
     "execution_count": 7,
     "metadata": {},
     "output_type": "execute_result"
    }
   ],
   "source": [
    "# Define locationID\n",
    "g.add((ent.locationID, RDF.type, RDF.Property))\n",
    "g.add((ent.locationID, RDFS.domain, ent.Entertainment))\n",
    "g.add((ent.locationID, RDFS.range, XSD.integer))\n",
    "\n",
    "# Define name\n",
    "g.add((ent.name, RDF.type, RDF.Property))\n",
    "g.add((ent.name, RDFS.domain, ent.Entertainment))\n",
    "g.add((ent.name, RDFS.range, XSD.string))\n",
    "\n",
    "# Define typeEnt\n",
    "g.add((ent.typeEnt, RDF.type, RDF.Property))\n",
    "g.add((ent.typeEnt, RDFS.domain, ent.Entertainment))\n",
    "g.add((ent.typeEnt, RDFS.range, XSD.string))"
   ]
  },
  {
   "cell_type": "markdown",
   "metadata": {},
   "source": [
    "### Tripadvisor Reviews Schema Definition\n",
    "\n",
    "For the Tripadvisor Locations schema, the variables that will be needed are: \n",
    "\n",
    "- location_id: locationId\n",
    "- rating: rating\n",
    "- text: text\n",
    "- title: title\n",
    "\n",
    "An example of an instance is: \n",
    "\n",
    "- location_id: 8821646\n",
    "- rating: 5\n",
    "- text: Stopped for a light bites chicken, chips, rice...\n",
    "- title: Good value tasty food."
   ]
  },
  {
   "cell_type": "code",
   "execution_count": 8,
   "metadata": {},
   "outputs": [
    {
     "data": {
      "text/plain": [
       "<Graph identifier=N22212a1ddc3b4c018e42dd540a06f7b4 (<class 'rdflib.graph.Graph'>)>"
      ]
     },
     "execution_count": 8,
     "metadata": {},
     "output_type": "execute_result"
    }
   ],
   "source": [
    "# Define rating\n",
    "g.add((ent.rating, RDF.type, RDF.Property))\n",
    "g.add((ent.rating, RDFS.domain, ent.Entertainment))\n",
    "g.add((ent.rating, RDFS.range, XSD.float))\n",
    "\n",
    "# Define text\n",
    "g.add((ent.text, RDF.type, RDF.Property))\n",
    "g.add((ent.text, RDFS.domain, ent.Entertainment))\n",
    "g.add((ent.text, RDFS.range, XSD.string))\n",
    "\n",
    "# Define title\n",
    "g.add((ent.title, RDF.type, RDF.Property))\n",
    "g.add((ent.title, RDFS.domain, ent.Entertainment))\n",
    "g.add((ent.title, RDFS.range, XSD.string))"
   ]
  },
  {
   "cell_type": "markdown",
   "metadata": {},
   "source": [
    " Instances Generator: Add the instances from the DuckDB to RDF"
   ]
  },
  {
   "cell_type": "code",
   "execution_count": 9,
   "metadata": {},
   "outputs": [],
   "source": [
    "# Connection to trusted database\n",
    "con = duckdb.connect(database='./../data/explotation_zone/barcelona_processed_emb.db')"
   ]
  },
  {
   "cell_type": "markdown",
   "metadata": {},
   "source": [
    "- Criminal Instances"
   ]
  },
  {
   "cell_type": "code",
   "execution_count": 10,
   "metadata": {},
   "outputs": [],
   "source": [
    "# Connection to database\n",
    "df_criminal = con.execute(\"SELECT * FROM df_criminal_dataset\").fetchdf()\n",
    "utils.add_criminal_instances(g, loc, inc, ex, df_criminal)"
   ]
  },
  {
   "cell_type": "markdown",
   "metadata": {},
   "source": [
    "- Airbnb Dataset"
   ]
  },
  {
   "cell_type": "code",
   "execution_count": 11,
   "metadata": {},
   "outputs": [],
   "source": [
    "# Connection to database         \n",
    "df_airbnb = con.execute(\"SELECT * FROM df_airbnb_listings\").fetchdf()\n",
    "utils.add_airbnb_instances(g, loc, apt, df_airbnb, mode = 'model')"
   ]
  },
  {
   "cell_type": "markdown",
   "metadata": {},
   "source": [
    "- Tripadvisor Datasets: Locations and Restaurants"
   ]
  },
  {
   "cell_type": "code",
   "execution_count": 12,
   "metadata": {},
   "outputs": [],
   "source": [
    "# Connection to databases\n",
    "df_tripadvisor_locations = con.execute(\"SELECT * FROM df_tripadvisor_locations\").fetchdf()\n",
    "df_tripadvisor_reviews = con.execute(\"SELECT * FROM df_tripadvisor_reviews\").fetchdf()\n",
    "utils.add_entertainment_instances(g, loc, ent, df_tripadvisor_locations, 'loc')\n",
    "utils.add_entertainment_instances(g, loc, ent, df_tripadvisor_reviews, 'rev')"
   ]
  },
  {
   "cell_type": "markdown",
   "metadata": {},
   "source": [
    "Store the RDF dataset into Turtle format"
   ]
  },
  {
   "cell_type": "code",
   "execution_count": 13,
   "metadata": {},
   "outputs": [
    {
     "data": {
      "text/plain": [
       "<Graph identifier=N22212a1ddc3b4c018e42dd540a06f7b4 (<class 'rdflib.graph.Graph'>)>"
      ]
     },
     "execution_count": 13,
     "metadata": {},
     "output_type": "execute_result"
    }
   ],
   "source": [
    "g.serialize(destination='./../data/explotation_zone/RDFGraph_Model_emb.ttl', format='turtle')"
   ]
  },
  {
   "cell_type": "code",
   "execution_count": 14,
   "metadata": {},
   "outputs": [],
   "source": [
    "con.close()"
   ]
  },
  {
   "cell_type": "markdown",
   "metadata": {},
   "source": [
    "Sanity Check: Verify if the instances are well added"
   ]
  },
  {
   "cell_type": "code",
   "execution_count": 18,
   "metadata": {},
   "outputs": [
    {
     "name": "stdout",
     "output_type": "stream",
     "text": [
      "\n",
      "Random instance of type http://example.org/incident/Incident: http://example.org/incident_122\n",
      "Properties of the selected instance:\n",
      "  rdf:type: inc:Incident (URI)\n",
      "  inc:happenedAt: loc:Eixample (URI)\n",
      "  inc:nameMonth: Març (Literal)\n",
      "  inc:incidentType: LGBTI-phobia (Literal)\n",
      "  inc:numberVictims: 1.0 (Literal)\n",
      "  inc:criminalityIndex: 0.1925566343042071 (Literal)\n",
      "\n",
      "Related instances and their properties:\n",
      "\n",
      "Properties of inc:Incident:\n",
      "  rdf:type: rdfs:Class (URI)\n",
      "\n",
      "Properties of loc:Eixample:\n",
      "  rdf:type: loc:District (URI)\n",
      "  rdfs:label: Eixample (Literal)\n"
     ]
    }
   ],
   "source": [
    "utils.print_random_detailed_instance(g, inc.Incident)"
   ]
  },
  {
   "cell_type": "markdown",
   "metadata": {},
   "source": [
    "### RDF Graph Visualitzation"
   ]
  },
  {
   "cell_type": "code",
   "execution_count": 16,
   "metadata": {},
   "outputs": [],
   "source": [
    "#g = Graph()\n",
    "#g.parse(\"./../data_preparation_pipeline/RDFGraph.ttl\", format=\"turtle\")\n",
    "#visualize_rdf_graph(g)"
   ]
  },
  {
   "cell_type": "code",
   "execution_count": 17,
   "metadata": {},
   "outputs": [],
   "source": [
    "#g = Graph()\n",
    "#g.parse(\"./../data_preparation_pipeline/RDFGraph.ttl\", format=\"turtle\")\n",
    "#visualize_hierarchical_rdf_graph(g)"
   ]
  }
 ],
 "metadata": {
  "kernelspec": {
   "display_name": "Python 3 (ipykernel)",
   "language": "python",
   "name": "python3"
  },
  "language_info": {
   "codemirror_mode": {
    "name": "ipython",
    "version": 3
   },
   "file_extension": ".py",
   "mimetype": "text/x-python",
   "name": "python",
   "nbconvert_exporter": "python",
   "pygments_lexer": "ipython3",
   "version": "3.12.3"
  }
 },
 "nbformat": 4,
 "nbformat_minor": 4
}
