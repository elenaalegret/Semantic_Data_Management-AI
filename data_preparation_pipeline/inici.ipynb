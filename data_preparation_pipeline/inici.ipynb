{
 "cells": [
  {
   "cell_type": "code",
   "execution_count": 13,
   "metadata": {},
   "outputs": [],
   "source": [
    "#!pip install pandas duckdb\n",
    "#!pip install \n",
    "\n",
    "import pandas as pd\n",
    "import duckdb\n",
    "db_path = '../data/trusted_zone/barcelona_processed.db'"
   ]
  },
  {
   "cell_type": "markdown",
   "metadata": {},
   "source": [
    "COLUMNES: \n",
    "- df_airbnb_listings\n",
    "    - [neighbourhood, Name, summary, space, neighborhood_overview, notes, transit, access, interaction, house_rules, host_id, host_name, host_since, host_location, host_about, host_response_time, host_response_rate, host_verifications, street, latitude, longitude, property_type, room_type, accommodates, bathrooms, bedrooms, beds, bed_type, amenities, price, weekly_price, monthly_price, security_deposit, cleaning_fee, guests_included, extra_people, minimum_nights, maximum_nights, availability_30, availability_60, availability_90, availability_365, number_of_reviews, review_scores_rating, review_scores_accuracy, review_scores_cleanliness, review_scores_checkin, review_scores_communication, review_scores_location, review_scores_value, cancellation_policy, reviews_per_month, features, id]\n",
    "\n",
    "- df_criminal_dataset: \n",
    "    - [any, num_mes, nom_mes, area_basica_policial, tipus_de_lloc_dels_fets, tipus_de_fet_codi_penal, ambit_fet, nombre_victimes] --> Restriccio??\n",
    "\n",
    "- df_tripadvisor_locations: \n",
    "    - [location_id, name, address_obj_address_string, type, neighbourhood, latitude, longitude]\n",
    "\n",
    "- df_tripadvisor_reviews\n",
    "    - [location_id, id, lang, published_date, rating, helpful_votes, rating_image_url, url, text, title, trip_type, travel_date, user_username, user_user_location_id, user_avatar_thumbnail, user_avatar_small, user_avatar_medium, user_avatar_large, user_avatar_original, name, address_obj_address_string, type, neighbourhood, latitude, longitude]"
   ]
  },
  {
   "cell_type": "markdown",
   "metadata": {},
   "source": [
    "------\n",
    "MODELS: \n",
    "- F: Predir el preu de un Airbnb nou (donar carcteristiques daquest).  -> ML justet. Model que vol PETAR. \n",
    "    - Input: **\n",
    "    - Output: Retornar preu/mes. \n",
    "**Columnes: \n",
    "- neighbourhood -> substituir per index_criminalitat. dades es tenen encompte latitud longitud. \n",
    "- transit -> mirar si pots agafar el L-integer\n",
    "- amenities -> dividir amb noves variables dummies.\n",
    "- extra_people. \n",
    "- review_scores_location -> ?? agafar els 4 dpt mes propers.\n",
    "- cancellation_policy -> dummy\n",
    "\n",
    "\n",
    "- transit, latitude, longitude, property_type, room_type, accommodates, bathrooms, bedrooms, beds, bed_type, amenities, price (x nit), security_deposit, cleaning_fee, guests_included, review_scores_location (0-10), cancellation_policy\n",
    "\n",
    "- Afegir taxa de criminalitat/barri.\n",
    "\n",
    "------\n",
    "- Addicions: \n",
    "    - Fer index de criminalitat/mes. \n",
    "    - Fer 4 restaurants mes propers a la zona.  \n",
    "------"
   ]
  },
  {
   "cell_type": "code",
   "execution_count": 51,
   "metadata": {},
   "outputs": [
    {
     "name": "stdout",
     "output_type": "stream",
     "text": [
      "\n",
      "Tabla: df_airbnb_listings\n"
     ]
    }
   ],
   "source": [
    "# Conectar a la base de datos DuckDB\n",
    "conn = duckdb.connect(db_path)\n",
    "\n",
    "tables_query = \"SHOW TABLES\"\n",
    "tables = conn.execute(tables_query).fetchall()\n",
    "\n",
    "for table in tables:\n",
    "    table_name = table[0]\n",
    "    if table_name == 'df_airbnb_listings': \n",
    "        print(f\"\\nTabla: {table_name}\")\n",
    "        \n",
    "        # Obtener solo tres filas de la tabla\n",
    "        query = f\"SELECT * FROM {table_name} LIMIT 3\"\n",
    "        df = conn.execute(query).fetchdf()\n",
    "\n",
    "pd.options.display.max_columns = None\n",
    "df"
   ]
  },
  {
   "cell_type": "code",
   "execution_count": null,
   "metadata": {},
   "outputs": [],
   "source": []
  },
  {
   "cell_type": "code",
   "execution_count": null,
   "metadata": {},
   "outputs": [],
   "source": []
  }
 ],
 "metadata": {
  "kernelspec": {
   "display_name": "bda",
   "language": "python",
   "name": "python3"
  },
  "language_info": {
   "codemirror_mode": {
    "name": "ipython",
    "version": 3
   },
   "file_extension": ".py",
   "mimetype": "text/x-python",
   "name": "python",
   "nbconvert_exporter": "python",
   "pygments_lexer": "ipython3",
   "version": "3.8.19"
  }
 },
 "nbformat": 4,
 "nbformat_minor": 2
}
