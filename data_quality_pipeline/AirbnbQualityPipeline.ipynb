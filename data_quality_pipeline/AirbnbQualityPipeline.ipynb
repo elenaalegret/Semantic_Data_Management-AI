{
 "cells": [
  {
   "cell_type": "markdown",
   "metadata": {},
   "source": [
    "___\n",
    "\n",
    "<div style=\"text-align: center;\">\n",
    "  <span style=\"font-family: 'Playfair Display', serif; font-size: 24px; font-weight: bold;\">\n",
    "Dataset Exploration\n",
    "  </span>\n",
    "</div>\n",
    "\n",
    "___\n",
    "\n",
    "\n",
    "In this notebook, we will explore four datasets stored in DuckDB using PySpark. The datasets include the Criminal Dataset, Airbnb Listings, TripAdvisor Attractions, and Restaurants. \n",
    "\n",
    "The exploration will involve:\n",
    "\n",
    "<li>Identification of Data Quality rules on the datasets</li>\n",
    "<li>Assessment of the Quality of the Data</li>\n",
    "<li>Application of Data Cleaning processes (individually per dataset)</li>\n",
    "<li>Expression of Data quality rules as Denial Constraints</li>\n",
    "<li>Storage of the improved quality tables in the Trusted Zone, mirroring the tables in the Formatted Zone</li>"
   ]
  },
  {
   "cell_type": "code",
   "execution_count": 1,
   "metadata": {},
   "outputs": [],
   "source": [
    "#%pip install duckdb pyspark folium geopy wordcloud unidecode rdflib \n",
    "#!sudo -u postgres psql -U postgres -c \"ALTER USER postgres PASSWORD 'postgres';\"\n",
    "#!sudo -u postgres psql -U postgres -c 'DROP DATABASE IF EXISTS pyspark_postgres;'\n",
    "#!sudo -u postgres psql -U postgres -c 'CREATE DATABASE pyspark_postgres;'\n",
    "#!wget -O \"postgresql.jar\" \"https://repo1.maven.org/maven2/org/postgresql/postgresql/42.7.3/postgresql-42.7.3.jar\"\n",
    "#!wget -O \"duckdb.jar\" \"https://repo1.maven.org/maven2/org/duckdb/duckdb_jdbc/0.10.1/duckdb_jdbc-0.10.1.jar\""
   ]
  },
  {
   "cell_type": "code",
   "execution_count": 2,
   "metadata": {},
   "outputs": [
    {
     "name": "stderr",
     "output_type": "stream",
     "text": [
      "24/06/03 17:45:07 WARN NativeCodeLoader: Unable to load native-hadoop library for your platform... using builtin-java classes where applicable\n",
      "Setting default log level to \"WARN\".\n",
      "To adjust logging level use sc.setLogLevel(newLevel). For SparkR, use setLogLevel(newLevel).\n",
      "24/06/03 17:45:08 WARN Utils: Service 'SparkUI' could not bind on port 4040. Attempting port 4041.\n"
     ]
    }
   ],
   "source": [
    "## Imports\n",
    "import duckdb\n",
    "import warnings\n",
    "import matplotlib.pyplot as plt\n",
    "from pyspark.sql import SparkSession\n",
    "from pyspark.sql.functions import isnan, col, count, isnan, when\n",
    "warnings.filterwarnings(\"ignore\")\n",
    "\n",
    "import sys\n",
    "import os\n",
    "\n",
    "current_dir = os.path.dirname(os.path.abspath('__file__'))\n",
    "parent_dir = os.path.abspath(os.path.join(current_dir, os.pardir))\n",
    "\n",
    "# Agregate the dic to sys.path\n",
    "if parent_dir not in sys.path:\n",
    "    sys.path.append(parent_dir)\n",
    "import utils\n",
    "\n",
    "## Connection to formatted database\n",
    "jdbc_url = 'jdbc:duckdb:./../data/formatted_zone/barcelona.db'\n",
    "driver = \"org.duckdb.DuckDBDriver\"\n",
    "\n",
    "# SparkSession inicialitzation\n",
    "spark = SparkSession.builder\\\n",
    "    .config(\"spark.jars\", \"./../lib/duckdb.jar\") \\\n",
    "    .appName(\"DataExploration\") \\\n",
    "    .getOrCreate()"
   ]
  },
  {
   "cell_type": "markdown",
   "metadata": {},
   "source": [
    "<div style=\"background-color:#F2F2F2; padding: 10px;\">\n",
    "    <div style=\"text-align: center;\">\n",
    "        <span style=\"font-family: 'Playfair Display', serif; font-size: 20px; font-weight: bold; color: black;\">\n",
    "            Airbnb Dataset\n",
    "        </span>\n",
    "    </div>\n",
    "</div>\n",
    "\n",
    "#### DataFrame Schema\n",
    "\n",
    "<div class=\"alert alert-block alert-info\" style=\"color: #01571B; background-color: #C8E5C6;\">\n",
    "    \n",
    "The DataFrame comprises various groups of columns, each providing distinct details related to property listings:\n",
    "\n",
    "- The DataFrame has **9999 rows** and **54 columns**.\n",
    "\n",
    "**Property Information:**\n",
    "- **name:** A string indicating the name of the property.\n",
    "- **summary:** A string providing a brief overview of the property.\n",
    "- **space:** A string describing the available space within the property.\n",
    "- **neighborhood_overview:** A string offering insights into the neighborhood surrounding the property.\n",
    "- **notes:** Additional notes or remarks about the property.\n",
    "\n",
    "**Host Information:**\n",
    "- **host_id:** An identifier for the host of the property.\n",
    "- **host_name:** The name of the host.\n",
    "- **host_since:** The date when the host joined the platform.\n",
    "- **host_location:** The location of the host.\n",
    "- **host_about:** Information or description about the host.\n",
    "\n",
    "**Host Response Details:**\n",
    "- **host_response_time:** The typical response time of the host.\n",
    "- **host_response_rate:** The rate of responses from the host, represented as a double.\n",
    "- **host_verifications:** Methods used to verify the host's identity.\n",
    "\n",
    "**Location Details:**\n",
    "- **street:** The street address of the property.\n",
    "- **neighbourhood:** The name of the neighborhood where the property is located.\n",
    "- **latitude:** The latitude coordinate of the property.\n",
    "- **longitude:** The longitude coordinate of the property.\n",
    "\n",
    "**Property Details:**\n",
    "- **property_type:** The type or category of the property.\n",
    "- **room_type:** The type of room available in the property (e.g., entire home, private room, shared room).\n",
    "- **accommodates:** The maximum number of guests the property can accommodate, represented as a decimal.\n",
    "- **bathrooms:** The number of bathrooms in the property, represented as a double.\n",
    "- **bedrooms:** The number of bedrooms in the property, represented as a double.\n",
    "- **beds:** The number of beds available in the property, represented as a double.\n",
    "- **bed_type:** The type of bed(s) available in the property.\n",
    "</div>\n",
    "\n",
    "\n",
    "Remove Columns:\n",
    "\n",
    "These following columns are being removed due to their limited relevance in predicting Airbnb rental prices, as they either provide redundant information:\n",
    "\n",
    "- neighbourhood: The neighborhood is being removed due to redundancy with Latitude and Longitude.\n",
    "- Name: Name does not provide relevant information.\n",
    "- summary, space, neighborhood_overview, notes, access, interaction, house_rules: These attributes are subjective and difficult to quantify, making them unsuitable as predictors of rental price.\n",
    "- host_id, host_name, host_since, host_location, host_about, host_response_time, host_response_rate, host_verifications: Host information does not directly influence rental price.\n",
    "street: The specific property address is not a direct predictor of rental price.\n",
    "weekly_price, monthly_price, minimum_nights, maximum_nights, availability_30, availability_60, availability_90, availability_365, number_of_reviews, review_scores_rating, review_scores_accuracy, review_scores_cleanliness, review_scores_checkin, review_scores_communication, review_scores_value, reviews_per_month: These attributes are not relevant for predicting rental price or are difficult to quantify.\n",
    "- features, id: They do not provide relevant information for predicting rental price.\n"
   ]
  },
  {
   "cell_type": "code",
   "execution_count": 3,
   "metadata": {},
   "outputs": [
    {
     "name": "stderr",
     "output_type": "stream",
     "text": [
      "24/06/03 17:45:15 WARN SparkStringUtils: Truncated the string representation of a plan since it was too large. This behavior can be adjusted by setting 'spark.sql.debug.maxToStringFields'.\n",
      "                                                                                \r"
     ]
    },
    {
     "data": {
      "text/html": [
       "<div>\n",
       "<style scoped>\n",
       "    .dataframe tbody tr th:only-of-type {\n",
       "        vertical-align: middle;\n",
       "    }\n",
       "\n",
       "    .dataframe tbody tr th {\n",
       "        vertical-align: top;\n",
       "    }\n",
       "\n",
       "    .dataframe thead th {\n",
       "        text-align: right;\n",
       "    }\n",
       "</style>\n",
       "<table border=\"1\" class=\"dataframe\">\n",
       "  <thead>\n",
       "    <tr style=\"text-align: right;\">\n",
       "      <th></th>\n",
       "      <th>id</th>\n",
       "      <th>listing_url</th>\n",
       "      <th>scrape_id</th>\n",
       "      <th>last_scraped</th>\n",
       "      <th>name</th>\n",
       "      <th>summary</th>\n",
       "      <th>space</th>\n",
       "      <th>description</th>\n",
       "      <th>experiences_offered</th>\n",
       "      <th>neighborhood_overview</th>\n",
       "      <th>...</th>\n",
       "      <th>review_scores_value</th>\n",
       "      <th>license</th>\n",
       "      <th>jurisdiction_names</th>\n",
       "      <th>cancellation_policy</th>\n",
       "      <th>calculated_host_listings_count</th>\n",
       "      <th>reviews_per_month</th>\n",
       "      <th>features</th>\n",
       "      <th>geolocation.lon</th>\n",
       "      <th>geolocation.lat</th>\n",
       "      <th>__index_level_0__</th>\n",
       "    </tr>\n",
       "  </thead>\n",
       "  <tbody>\n",
       "    <tr>\n",
       "      <th>0</th>\n",
       "      <td>14618223</td>\n",
       "      <td>https://www.airbnb.com/rooms/14618223</td>\n",
       "      <td>20170407214050</td>\n",
       "      <td>2017-04-08</td>\n",
       "      <td>Piso cerca del Cam Nou</td>\n",
       "      <td>Acogedor y juvenil piso bien comunicado y en u...</td>\n",
       "      <td>Somos 2 chicos jóvenes y trabajadores que segu...</td>\n",
       "      <td>Acogedor y juvenil piso bien comunicado y en u...</td>\n",
       "      <td>none</td>\n",
       "      <td>None</td>\n",
       "      <td>...</td>\n",
       "      <td>10.0</td>\n",
       "      <td>None</td>\n",
       "      <td>NaN</td>\n",
       "      <td>moderate</td>\n",
       "      <td>1</td>\n",
       "      <td>0.13</td>\n",
       "      <td>Host Has Profile Pic, Host Identity Verified, ...</td>\n",
       "      <td>2.122076</td>\n",
       "      <td>41.37815</td>\n",
       "      <td>0</td>\n",
       "    </tr>\n",
       "  </tbody>\n",
       "</table>\n",
       "<p>1 rows × 91 columns</p>\n",
       "</div>"
      ],
      "text/plain": [
       "         id                            listing_url       scrape_id  \\\n",
       "0  14618223  https://www.airbnb.com/rooms/14618223  20170407214050   \n",
       "\n",
       "  last_scraped                    name  \\\n",
       "0   2017-04-08  Piso cerca del Cam Nou   \n",
       "\n",
       "                                             summary  \\\n",
       "0  Acogedor y juvenil piso bien comunicado y en u...   \n",
       "\n",
       "                                               space  \\\n",
       "0  Somos 2 chicos jóvenes y trabajadores que segu...   \n",
       "\n",
       "                                         description experiences_offered  \\\n",
       "0  Acogedor y juvenil piso bien comunicado y en u...                none   \n",
       "\n",
       "  neighborhood_overview  ... review_scores_value license jurisdiction_names  \\\n",
       "0                  None  ...                10.0    None                NaN   \n",
       "\n",
       "  cancellation_policy calculated_host_listings_count reviews_per_month  \\\n",
       "0            moderate                              1              0.13   \n",
       "\n",
       "                                            features  geolocation.lon  \\\n",
       "0  Host Has Profile Pic, Host Identity Verified, ...         2.122076   \n",
       "\n",
       "  geolocation.lat __index_level_0__  \n",
       "0        41.37815                 0  \n",
       "\n",
       "[1 rows x 91 columns]"
      ]
     },
     "execution_count": 3,
     "metadata": {},
     "output_type": "execute_result"
    }
   ],
   "source": [
    "df_airbnb = spark.read \\\n",
    "  .format(\"jdbc\") \\\n",
    "  .option(\"url\", jdbc_url) \\\n",
    "  .option(\"driver\", driver) \\\n",
    "  .option(\"query\", \"SELECT * FROM df_airbnb_listings\") \\\n",
    "  .load()\n",
    "\n",
    "df_airbnb.limit(1).toPandas()"
   ]
  },
  {
   "cell_type": "code",
   "execution_count": 4,
   "metadata": {},
   "outputs": [
    {
     "name": "stderr",
     "output_type": "stream",
     "text": [
      "                                                                                \r"
     ]
    },
    {
     "data": {
      "text/html": [
       "<div>\n",
       "<style scoped>\n",
       "    .dataframe tbody tr th:only-of-type {\n",
       "        vertical-align: middle;\n",
       "    }\n",
       "\n",
       "    .dataframe tbody tr th {\n",
       "        vertical-align: top;\n",
       "    }\n",
       "\n",
       "    .dataframe thead th {\n",
       "        text-align: right;\n",
       "    }\n",
       "</style>\n",
       "<table border=\"1\" class=\"dataframe\">\n",
       "  <thead>\n",
       "    <tr style=\"text-align: right;\">\n",
       "      <th></th>\n",
       "      <th>name</th>\n",
       "      <th>summary</th>\n",
       "      <th>host_id</th>\n",
       "      <th>host_url</th>\n",
       "      <th>host_name</th>\n",
       "      <th>host_since</th>\n",
       "      <th>host_location</th>\n",
       "      <th>host_thumbnail_url</th>\n",
       "      <th>host_picture_url</th>\n",
       "      <th>host_listings_count</th>\n",
       "      <th>...</th>\n",
       "      <th>availability_30</th>\n",
       "      <th>availability_60</th>\n",
       "      <th>availability_90</th>\n",
       "      <th>availability_365</th>\n",
       "      <th>calendar_last_scraped</th>\n",
       "      <th>number_of_reviews</th>\n",
       "      <th>cancellation_policy</th>\n",
       "      <th>features</th>\n",
       "      <th>geolocation.lon</th>\n",
       "      <th>geolocation.lat</th>\n",
       "    </tr>\n",
       "  </thead>\n",
       "  <tbody>\n",
       "    <tr>\n",
       "      <th>0</th>\n",
       "      <td>Piso cerca del Cam Nou</td>\n",
       "      <td>Acogedor y juvenil piso bien comunicado y en u...</td>\n",
       "      <td>38925857</td>\n",
       "      <td>https://www.airbnb.com/users/show/38925857</td>\n",
       "      <td>Javier</td>\n",
       "      <td>2015-07-19</td>\n",
       "      <td>Toledo, Castile-La Mancha, Spain</td>\n",
       "      <td>https://a0.muscache.com/im/pictures/c4b46d10-2...</td>\n",
       "      <td>https://a0.muscache.com/im/pictures/c4b46d10-2...</td>\n",
       "      <td>1.0</td>\n",
       "      <td>...</td>\n",
       "      <td>0</td>\n",
       "      <td>4</td>\n",
       "      <td>34</td>\n",
       "      <td>309</td>\n",
       "      <td>2017-04-07</td>\n",
       "      <td>1</td>\n",
       "      <td>moderate</td>\n",
       "      <td>Host Has Profile Pic, Host Identity Verified, ...</td>\n",
       "      <td>2.122076</td>\n",
       "      <td>41.37815</td>\n",
       "    </tr>\n",
       "  </tbody>\n",
       "</table>\n",
       "<p>1 rows × 46 columns</p>\n",
       "</div>"
      ],
      "text/plain": [
       "                     name                                            summary  \\\n",
       "0  Piso cerca del Cam Nou  Acogedor y juvenil piso bien comunicado y en u...   \n",
       "\n",
       "    host_id                                    host_url host_name  host_since  \\\n",
       "0  38925857  https://www.airbnb.com/users/show/38925857    Javier  2015-07-19   \n",
       "\n",
       "                      host_location  \\\n",
       "0  Toledo, Castile-La Mancha, Spain   \n",
       "\n",
       "                                  host_thumbnail_url  \\\n",
       "0  https://a0.muscache.com/im/pictures/c4b46d10-2...   \n",
       "\n",
       "                                    host_picture_url  host_listings_count  \\\n",
       "0  https://a0.muscache.com/im/pictures/c4b46d10-2...                  1.0   \n",
       "\n",
       "   ...  availability_30 availability_60 availability_90 availability_365  \\\n",
       "0  ...                0               4              34              309   \n",
       "\n",
       "  calendar_last_scraped number_of_reviews cancellation_policy  \\\n",
       "0            2017-04-07                 1            moderate   \n",
       "\n",
       "                                            features geolocation.lon  \\\n",
       "0  Host Has Profile Pic, Host Identity Verified, ...        2.122076   \n",
       "\n",
       "  geolocation.lat  \n",
       "0        41.37815  \n",
       "\n",
       "[1 rows x 46 columns]"
      ]
     },
     "execution_count": 4,
     "metadata": {},
     "output_type": "execute_result"
    }
   ],
   "source": [
    "columns_to_drop = [ 'neighbourhood', \"space\", 'neighborhood_overview', 'transit', 'notes', 'access', 'interaction', 'house_rules', \n",
    "                    'host_about', 'host_response_time', 'host_response_rate', 'street', 'weekly_price', 'monthly_price', \n",
    "                    'review_scores_rating', 'review_scores_accuracy', 'review_scores_value', 'review_scores_cleanliness', \n",
    "                    'review_scores_checkin', 'review_scores_communication', 'reviews_per_month', 'id', \"listing_url\", 'amenities', \n",
    "                    'square_feet', \"Description\", \"experiences_offered\", \"scrape_id\", \"last_scraped\", \"jurisdiction_names\", \n",
    "                    \"thumbnail_url\", \"host_acceptance_rate\", \"xl_picture_url\",\"picture_url\",  \"host_neighbourhood\", \"medium_url\", \n",
    "                    \"__index_level_0__\", \"state\", \"license\", \"calculated_host_listings_count\", \"first_review\", \"last_review\", \n",
    "                    \"has_availability\", \"zipcode\", \"review_scores_location\"]\n",
    "\n",
    "df_airbnb = df_airbnb.drop(*columns_to_drop)\n",
    "df_airbnb.limit(1).toPandas() "
   ]
  },
  {
   "cell_type": "markdown",
   "metadata": {},
   "source": [
    "Location Features Unification\n",
    "\n",
    "<div class=\"alert alert-block alert-warning\" style=\"color: #FFB300; background-color: #FFF9C4;\">\n",
    "All the apartments are located in Barcelona. \n",
    "\n",
    "- Remove the redundant cols in location stage that are the same: `['market', \"city\", \"smart_location\", \"country\", \"country_code\", \"zipcode\", ]\n",
    "    \n",
    "    - **Market**: Remove the ones that are not in Barcelona.\n",
    "    - **Country**: Remove because they are the same. \n",
    "    - `Zip Code`: Redundance because it is the same as Geolocation data. \n",
    "    - `geolocation.lon`, `geolocation.lat`: Remove because has same information than `Latitud`, `Longitud`.\n",
    "        - Are the same values?  Relation data `neighbourhood` features & `criminal_dataset`\n",
    "    - `neighbourhood_cleansed`: Remove because has same informatin as `Latitud`, `Longitud`.\n",
    "    - `neighbourhood_group_cleansed`: Keep in order to match with criminal dataset. Change name to `neighbourhood`.\n",
    "</div>"
   ]
  },
  {
   "cell_type": "code",
   "execution_count": 5,
   "metadata": {},
   "outputs": [
    {
     "name": "stderr",
     "output_type": "stream",
     "text": [
      "                                                                                \r"
     ]
    },
    {
     "name": "stdout",
     "output_type": "stream",
     "text": [
      "+----------------+\n",
      "|          market|\n",
      "+----------------+\n",
      "|       Barcelona|\n",
      "|    Buenos Aires|\n",
      "|Costa Brava Nord|\n",
      "|        Valencia|\n",
      "|            NULL|\n",
      "+----------------+\n",
      "\n"
     ]
    }
   ],
   "source": [
    "# Remove instances market is not Barcelona\n",
    "df_airbnb.select(\"market\").distinct().show()\n",
    "df_airbnb = df_airbnb.filter(df_airbnb['market'] == 'Barcelona')"
   ]
  },
  {
   "cell_type": "code",
   "execution_count": 6,
   "metadata": {},
   "outputs": [
    {
     "name": "stdout",
     "output_type": "stream",
     "text": [
      "+------------------+------------------+------------------+------------------+\n",
      "|   geolocation_lon|   geolocation_lat|          latitude|         longitude|\n",
      "+------------------+------------------+------------------+------------------+\n",
      "| 2.122075545481956|41.378150177192396|41.378150177192396| 2.122075545481956|\n",
      "|2.1049250609405097|  41.4148655885311|  41.4148655885311|2.1049250609405097|\n",
      "|2.1407658129075626|41.410925919974986|41.410925919974986|2.1407658129075626|\n",
      "|2.1578867703448044| 41.40097836628479| 41.40097836628479|2.1578867703448044|\n",
      "| 2.208579360995987| 41.42119449770243| 41.42119449770243| 2.208579360995987|\n",
      "+------------------+------------------+------------------+------------------+\n",
      "\n"
     ]
    }
   ],
   "source": [
    "# Location change name -- solving text issues\n",
    "df_airbnb = df_airbnb.withColumnRenamed('neighbourhood_group_cleansed', 'neighbourhood')\n",
    "column_mapping = dict(zip(df_airbnb.columns[-2:], [\"geolocation_lon\", \"geolocation_lat\"]))\n",
    "\n",
    "for old_name, new_name in column_mapping.items():\n",
    "    df_airbnb = df_airbnb.withColumnRenamed(old_name, new_name)\n",
    "\n",
    "location = df_airbnb.select(\"geolocation_lon\", \"geolocation_lat\", \"latitude\", \"longitude\").limit(5)\n",
    "location.show()\n",
    "\n",
    "# Same values -- Drop geolocation_lon and geolocation_lon\n",
    "columns_to_drop = [\"geolocation_lon\", \"geolocation_lat\"]\n",
    "df_airbnb = df_airbnb.drop(*columns_to_drop)"
   ]
  },
  {
   "cell_type": "markdown",
   "metadata": {},
   "source": [
    "NULL Values \n",
    "\n",
    "<div class=\"alert alert-block alert-warning\" style=\"color: #C23B22; background-color: #f8c3c0;\">\n",
    "\n",
    "- **square_feet**: Remove because has a wide range of Null values.\n",
    "- **security_deposit** & **cleaning_fee**: Replace the NULL to 0 (assumed that there are 0).\n",
    "- **review_scores_location**: Replace Null Values with \n",
    "</div>\n"
   ]
  },
  {
   "cell_type": "code",
   "execution_count": 7,
   "metadata": {},
   "outputs": [
    {
     "name": "stderr",
     "output_type": "stream",
     "text": [
      "                                                                                \r"
     ]
    },
    {
     "data": {
      "text/html": [
       "<div>\n",
       "<style scoped>\n",
       "    .dataframe tbody tr th:only-of-type {\n",
       "        vertical-align: middle;\n",
       "    }\n",
       "\n",
       "    .dataframe tbody tr th {\n",
       "        vertical-align: top;\n",
       "    }\n",
       "\n",
       "    .dataframe thead th {\n",
       "        text-align: right;\n",
       "    }\n",
       "</style>\n",
       "<table border=\"1\" class=\"dataframe\">\n",
       "  <thead>\n",
       "    <tr style=\"text-align: right;\">\n",
       "      <th></th>\n",
       "      <th>name</th>\n",
       "      <th>summary</th>\n",
       "      <th>host_id</th>\n",
       "      <th>host_url</th>\n",
       "      <th>host_name</th>\n",
       "      <th>host_since</th>\n",
       "      <th>host_location</th>\n",
       "      <th>host_thumbnail_url</th>\n",
       "      <th>host_picture_url</th>\n",
       "      <th>host_listings_count</th>\n",
       "      <th>...</th>\n",
       "      <th>maximum_nights</th>\n",
       "      <th>calendar_updated</th>\n",
       "      <th>availability_30</th>\n",
       "      <th>availability_60</th>\n",
       "      <th>availability_90</th>\n",
       "      <th>availability_365</th>\n",
       "      <th>calendar_last_scraped</th>\n",
       "      <th>number_of_reviews</th>\n",
       "      <th>cancellation_policy</th>\n",
       "      <th>features</th>\n",
       "    </tr>\n",
       "  </thead>\n",
       "  <tbody>\n",
       "    <tr>\n",
       "      <th>0</th>\n",
       "      <td>1</td>\n",
       "      <td>0</td>\n",
       "      <td>0</td>\n",
       "      <td>0</td>\n",
       "      <td>4</td>\n",
       "      <td>4</td>\n",
       "      <td>30</td>\n",
       "      <td>4</td>\n",
       "      <td>4</td>\n",
       "      <td>4</td>\n",
       "      <td>...</td>\n",
       "      <td>0</td>\n",
       "      <td>0</td>\n",
       "      <td>0</td>\n",
       "      <td>0</td>\n",
       "      <td>0</td>\n",
       "      <td>0</td>\n",
       "      <td>0</td>\n",
       "      <td>0</td>\n",
       "      <td>0</td>\n",
       "      <td>0</td>\n",
       "    </tr>\n",
       "  </tbody>\n",
       "</table>\n",
       "<p>1 rows × 44 columns</p>\n",
       "</div>"
      ],
      "text/plain": [
       "   name  summary  host_id  host_url  host_name  host_since  host_location  \\\n",
       "0     1        0        0         0          4           4             30   \n",
       "\n",
       "   host_thumbnail_url  host_picture_url  host_listings_count  ...  \\\n",
       "0                   4                 4                    4  ...   \n",
       "\n",
       "   maximum_nights  calendar_updated  availability_30  availability_60  \\\n",
       "0               0                 0                0                0   \n",
       "\n",
       "   availability_90  availability_365  calendar_last_scraped  \\\n",
       "0                0                 0                      0   \n",
       "\n",
       "   number_of_reviews  cancellation_policy  features  \n",
       "0                  0                    0         0  \n",
       "\n",
       "[1 rows x 44 columns]"
      ]
     },
     "execution_count": 7,
     "metadata": {},
     "output_type": "execute_result"
    }
   ],
   "source": [
    "nan_counts = df_airbnb.select([count(when(isnan(c) | col(c).isNull(), c)).alias(c) for c in df_airbnb.columns])\n",
    "total_nan_count = sum(nan_counts.collect()[0])\n",
    "nan_counts.toPandas()"
   ]
  },
  {
   "cell_type": "code",
   "execution_count": 8,
   "metadata": {},
   "outputs": [],
   "source": [
    "df_airbnb = df_airbnb.filter(df_airbnb.host_name.isNotNull())\n",
    "df_airbnb = df_airbnb.filter(df_airbnb.name.isNotNull())\n",
    "df_airbnb = df_airbnb.filter(df_airbnb.host_thumbnail_url.isNotNull())\n",
    "df_airbnb = df_airbnb.filter(df_airbnb.host_picture_url.isNotNull())\n",
    "df_airbnb = df_airbnb.filter(df_airbnb.host_listings_count.isNotNull())\n",
    "df_airbnb = df_airbnb.filter(df_airbnb.host_total_listings_count.isNotNull())\n",
    "df_airbnb = df_airbnb.filter(df_airbnb.host_verifications.isNotNull())\n",
    "df_airbnb = df_airbnb.filter(df_airbnb.host_location.isNotNull())\n",
    "df_airbnb = df_airbnb.filter(df_airbnb.price.isNotNull())"
   ]
  },
  {
   "cell_type": "code",
   "execution_count": 9,
   "metadata": {},
   "outputs": [
    {
     "name": "stderr",
     "output_type": "stream",
     "text": [
      "                                                                                \r"
     ]
    },
    {
     "data": {
      "text/html": [
       "<div>\n",
       "<style scoped>\n",
       "    .dataframe tbody tr th:only-of-type {\n",
       "        vertical-align: middle;\n",
       "    }\n",
       "\n",
       "    .dataframe tbody tr th {\n",
       "        vertical-align: top;\n",
       "    }\n",
       "\n",
       "    .dataframe thead th {\n",
       "        text-align: right;\n",
       "    }\n",
       "</style>\n",
       "<table border=\"1\" class=\"dataframe\">\n",
       "  <thead>\n",
       "    <tr style=\"text-align: right;\">\n",
       "      <th></th>\n",
       "      <th>name</th>\n",
       "      <th>summary</th>\n",
       "      <th>host_id</th>\n",
       "      <th>host_url</th>\n",
       "      <th>host_name</th>\n",
       "      <th>host_since</th>\n",
       "      <th>host_location</th>\n",
       "      <th>host_thumbnail_url</th>\n",
       "      <th>host_picture_url</th>\n",
       "      <th>host_listings_count</th>\n",
       "      <th>...</th>\n",
       "      <th>maximum_nights</th>\n",
       "      <th>calendar_updated</th>\n",
       "      <th>availability_30</th>\n",
       "      <th>availability_60</th>\n",
       "      <th>availability_90</th>\n",
       "      <th>availability_365</th>\n",
       "      <th>calendar_last_scraped</th>\n",
       "      <th>number_of_reviews</th>\n",
       "      <th>cancellation_policy</th>\n",
       "      <th>features</th>\n",
       "    </tr>\n",
       "  </thead>\n",
       "  <tbody>\n",
       "    <tr>\n",
       "      <th>0</th>\n",
       "      <td>0</td>\n",
       "      <td>0</td>\n",
       "      <td>0</td>\n",
       "      <td>0</td>\n",
       "      <td>0</td>\n",
       "      <td>0</td>\n",
       "      <td>0</td>\n",
       "      <td>0</td>\n",
       "      <td>0</td>\n",
       "      <td>0</td>\n",
       "      <td>...</td>\n",
       "      <td>0</td>\n",
       "      <td>0</td>\n",
       "      <td>0</td>\n",
       "      <td>0</td>\n",
       "      <td>0</td>\n",
       "      <td>0</td>\n",
       "      <td>0</td>\n",
       "      <td>0</td>\n",
       "      <td>0</td>\n",
       "      <td>0</td>\n",
       "    </tr>\n",
       "  </tbody>\n",
       "</table>\n",
       "<p>1 rows × 44 columns</p>\n",
       "</div>"
      ],
      "text/plain": [
       "   name  summary  host_id  host_url  host_name  host_since  host_location  \\\n",
       "0     0        0        0         0          0           0              0   \n",
       "\n",
       "   host_thumbnail_url  host_picture_url  host_listings_count  ...  \\\n",
       "0                   0                 0                    0  ...   \n",
       "\n",
       "   maximum_nights  calendar_updated  availability_30  availability_60  \\\n",
       "0               0                 0                0                0   \n",
       "\n",
       "   availability_90  availability_365  calendar_last_scraped  \\\n",
       "0                0                 0                      0   \n",
       "\n",
       "   number_of_reviews  cancellation_policy  features  \n",
       "0                  0                    0         0  \n",
       "\n",
       "[1 rows x 44 columns]"
      ]
     },
     "execution_count": 9,
     "metadata": {},
     "output_type": "execute_result"
    }
   ],
   "source": [
    "nan_counts = df_airbnb.select([count(when(isnan(c) | col(c).isNull(), c)).alias(c) for c in df_airbnb.columns])\n",
    "total_nan_count = sum(nan_counts.collect()[0])\n",
    "nan_counts.toPandas()"
   ]
  },
  {
   "cell_type": "code",
   "execution_count": 10,
   "metadata": {},
   "outputs": [
    {
     "data": {
      "text/plain": [
       "Index(['bathrooms', 'bedrooms', 'beds', 'security_deposit', 'cleaning_fee'], dtype='object')"
      ]
     },
     "execution_count": 10,
     "metadata": {},
     "output_type": "execute_result"
    }
   ],
   "source": [
    "columns_with_values_greater_than_zero = nan_counts.toPandas().columns[nan_counts.toPandas().iloc[0] > 0]\n",
    "columns_with_values_greater_than_zero"
   ]
  },
  {
   "cell_type": "code",
   "execution_count": 11,
   "metadata": {},
   "outputs": [],
   "source": [
    "# Data Cleaning for NULL values\n",
    "df_airbnb = df_airbnb.fillna({'security_deposit': 0})\n",
    "df_airbnb = df_airbnb.fillna({'cleaning_fee': 0})"
   ]
  },
  {
   "cell_type": "code",
   "execution_count": 12,
   "metadata": {},
   "outputs": [
    {
     "name": "stderr",
     "output_type": "stream",
     "text": [
      "                                                                                \r"
     ]
    },
    {
     "data": {
      "text/html": [
       "<div>\n",
       "<style scoped>\n",
       "    .dataframe tbody tr th:only-of-type {\n",
       "        vertical-align: middle;\n",
       "    }\n",
       "\n",
       "    .dataframe tbody tr th {\n",
       "        vertical-align: top;\n",
       "    }\n",
       "\n",
       "    .dataframe thead th {\n",
       "        text-align: right;\n",
       "    }\n",
       "</style>\n",
       "<table border=\"1\" class=\"dataframe\">\n",
       "  <thead>\n",
       "    <tr style=\"text-align: right;\">\n",
       "      <th></th>\n",
       "      <th>name</th>\n",
       "      <th>summary</th>\n",
       "      <th>host_id</th>\n",
       "      <th>host_url</th>\n",
       "      <th>host_name</th>\n",
       "      <th>host_since</th>\n",
       "      <th>host_location</th>\n",
       "      <th>host_thumbnail_url</th>\n",
       "      <th>host_picture_url</th>\n",
       "      <th>host_listings_count</th>\n",
       "      <th>...</th>\n",
       "      <th>maximum_nights</th>\n",
       "      <th>calendar_updated</th>\n",
       "      <th>availability_30</th>\n",
       "      <th>availability_60</th>\n",
       "      <th>availability_90</th>\n",
       "      <th>availability_365</th>\n",
       "      <th>calendar_last_scraped</th>\n",
       "      <th>number_of_reviews</th>\n",
       "      <th>cancellation_policy</th>\n",
       "      <th>features</th>\n",
       "    </tr>\n",
       "  </thead>\n",
       "  <tbody>\n",
       "    <tr>\n",
       "      <th>0</th>\n",
       "      <td>0</td>\n",
       "      <td>0</td>\n",
       "      <td>0</td>\n",
       "      <td>0</td>\n",
       "      <td>0</td>\n",
       "      <td>0</td>\n",
       "      <td>0</td>\n",
       "      <td>0</td>\n",
       "      <td>0</td>\n",
       "      <td>0</td>\n",
       "      <td>...</td>\n",
       "      <td>0</td>\n",
       "      <td>0</td>\n",
       "      <td>0</td>\n",
       "      <td>0</td>\n",
       "      <td>0</td>\n",
       "      <td>0</td>\n",
       "      <td>0</td>\n",
       "      <td>0</td>\n",
       "      <td>0</td>\n",
       "      <td>0</td>\n",
       "    </tr>\n",
       "  </tbody>\n",
       "</table>\n",
       "<p>1 rows × 44 columns</p>\n",
       "</div>"
      ],
      "text/plain": [
       "   name  summary  host_id  host_url  host_name  host_since  host_location  \\\n",
       "0     0        0        0         0          0           0              0   \n",
       "\n",
       "   host_thumbnail_url  host_picture_url  host_listings_count  ...  \\\n",
       "0                   0                 0                    0  ...   \n",
       "\n",
       "   maximum_nights  calendar_updated  availability_30  availability_60  \\\n",
       "0               0                 0                0                0   \n",
       "\n",
       "   availability_90  availability_365  calendar_last_scraped  \\\n",
       "0                0                 0                      0   \n",
       "\n",
       "   number_of_reviews  cancellation_policy  features  \n",
       "0                  0                    0         0  \n",
       "\n",
       "[1 rows x 44 columns]"
      ]
     },
     "execution_count": 12,
     "metadata": {},
     "output_type": "execute_result"
    }
   ],
   "source": [
    "# Checking again the NULL values\n",
    "nan_counts = df_airbnb.select([count(when(isnan(c) | col(c).isNull(), c)).alias(c) for c in df_airbnb.columns])\n",
    "total_nan_count = sum(nan_counts.collect()[0])\n",
    "nan_counts.toPandas()"
   ]
  },
  {
   "cell_type": "markdown",
   "metadata": {},
   "source": [
    "<div class=\"alert alert-block alert-warning\" style=\"color: #C23B22; background-color: #f8c3c0;\">\n",
    "\n",
    "- **Majority of NULLs resolved**\n",
    "- `bedrooms` (9 samples) and `beds` (16 samples): Manual handling required.\n",
    "- `price` (7 samples): Manual handling required.\n",
    "</div>"
   ]
  },
  {
   "cell_type": "markdown",
   "metadata": {},
   "source": [
    "Handling Missing Values of `bathrooms`, `bedrooms` y `beds`\n",
    "\n",
    "<div class=\"alert alert-block alert-info\" style=\"color: #01571B; background-color: #C8E5C6;\">\n",
    "    \n",
    "+ Manual Processing for each feature looking to other values.\n",
    "</div>"
   ]
  },
  {
   "cell_type": "code",
   "execution_count": 13,
   "metadata": {},
   "outputs": [
    {
     "name": "stderr",
     "output_type": "stream",
     "text": [
      "                                                                                \r"
     ]
    },
    {
     "data": {
      "text/html": [
       "<div>\n",
       "<style scoped>\n",
       "    .dataframe tbody tr th:only-of-type {\n",
       "        vertical-align: middle;\n",
       "    }\n",
       "\n",
       "    .dataframe tbody tr th {\n",
       "        vertical-align: top;\n",
       "    }\n",
       "\n",
       "    .dataframe thead th {\n",
       "        text-align: right;\n",
       "    }\n",
       "</style>\n",
       "<table border=\"1\" class=\"dataframe\">\n",
       "  <thead>\n",
       "    <tr style=\"text-align: right;\">\n",
       "      <th></th>\n",
       "      <th>name</th>\n",
       "      <th>summary</th>\n",
       "      <th>host_id</th>\n",
       "      <th>host_url</th>\n",
       "      <th>host_name</th>\n",
       "      <th>host_since</th>\n",
       "      <th>host_location</th>\n",
       "      <th>host_thumbnail_url</th>\n",
       "      <th>host_picture_url</th>\n",
       "      <th>host_listings_count</th>\n",
       "      <th>...</th>\n",
       "      <th>maximum_nights</th>\n",
       "      <th>calendar_updated</th>\n",
       "      <th>availability_30</th>\n",
       "      <th>availability_60</th>\n",
       "      <th>availability_90</th>\n",
       "      <th>availability_365</th>\n",
       "      <th>calendar_last_scraped</th>\n",
       "      <th>number_of_reviews</th>\n",
       "      <th>cancellation_policy</th>\n",
       "      <th>features</th>\n",
       "    </tr>\n",
       "  </thead>\n",
       "  <tbody>\n",
       "    <tr>\n",
       "      <th>0</th>\n",
       "      <td>0</td>\n",
       "      <td>0</td>\n",
       "      <td>0</td>\n",
       "      <td>0</td>\n",
       "      <td>0</td>\n",
       "      <td>0</td>\n",
       "      <td>0</td>\n",
       "      <td>0</td>\n",
       "      <td>0</td>\n",
       "      <td>0</td>\n",
       "      <td>...</td>\n",
       "      <td>0</td>\n",
       "      <td>0</td>\n",
       "      <td>0</td>\n",
       "      <td>0</td>\n",
       "      <td>0</td>\n",
       "      <td>0</td>\n",
       "      <td>0</td>\n",
       "      <td>0</td>\n",
       "      <td>0</td>\n",
       "      <td>0</td>\n",
       "    </tr>\n",
       "  </tbody>\n",
       "</table>\n",
       "<p>1 rows × 44 columns</p>\n",
       "</div>"
      ],
      "text/plain": [
       "   name  summary  host_id  host_url  host_name  host_since  host_location  \\\n",
       "0     0        0        0         0          0           0              0   \n",
       "\n",
       "   host_thumbnail_url  host_picture_url  host_listings_count  ...  \\\n",
       "0                   0                 0                    0  ...   \n",
       "\n",
       "   maximum_nights  calendar_updated  availability_30  availability_60  \\\n",
       "0               0                 0                0                0   \n",
       "\n",
       "   availability_90  availability_365  calendar_last_scraped  \\\n",
       "0                0                 0                      0   \n",
       "\n",
       "   number_of_reviews  cancellation_policy  features  \n",
       "0                  0                    0         0  \n",
       "\n",
       "[1 rows x 44 columns]"
      ]
     },
     "execution_count": 13,
     "metadata": {},
     "output_type": "execute_result"
    }
   ],
   "source": [
    "# Checking again the NULL values\n",
    "nan_counts = df_airbnb.select([count(when(isnan(c) | col(c).isNull(), c)).alias(c) for c in df_airbnb.columns])\n",
    "total_nan_count = sum(nan_counts.collect()[0])\n",
    "nan_counts.toPandas()"
   ]
  },
  {
   "cell_type": "code",
   "execution_count": 14,
   "metadata": {},
   "outputs": [
    {
     "data": {
      "text/plain": [
       "Index(['bathrooms', 'bedrooms', 'beds'], dtype='object')"
      ]
     },
     "execution_count": 14,
     "metadata": {},
     "output_type": "execute_result"
    }
   ],
   "source": [
    "columns_with_values_greater_than_zero = nan_counts.toPandas().columns[nan_counts.toPandas().iloc[0] > 0]\n",
    "columns_with_values_greater_than_zero"
   ]
  },
  {
   "cell_type": "code",
   "execution_count": 15,
   "metadata": {},
   "outputs": [],
   "source": [
    "df_airbnb = df_airbnb.withColumn('bathrooms', when(col('bathrooms').isNull(), 1).otherwise(col('bathrooms')))\n",
    "df_airbnb = df_airbnb.withColumn('bedrooms', when(col('bedrooms').isNull(), 1).otherwise(col('bedrooms')))\n",
    "df_airbnb = df_airbnb.withColumn('beds', when(col('beds').isNull(), 1).otherwise(col('beds')))"
   ]
  },
  {
   "cell_type": "markdown",
   "metadata": {},
   "source": [
    "<div class=\"alert alert-block alert-info\" style=\"color: #01571B; background-color: #C8E5C6;\">\n",
    "    \n",
    "+ NULL values == 0\n",
    "</div>\n",
    "\n",
    "Categorical Features Distributions Insights\n",
    "\n",
    "<div class=\"alert alert-block alert-info\" style=\"color: #01579B; background-color: #E1F5FE; border-color: #01579B;\">\n",
    "\n",
    "+ All features have been processed; no further data cleaning is required.\n",
    "+ The majority of cancellation policies are strict.\n",
    "+ There are three types of accommodations: entire apartments, private rooms within an apartment (with a amount similar to entire apartments), and a few samples of shared rooms.\n",
    "</div>"
   ]
  },
  {
   "cell_type": "code",
   "execution_count": 16,
   "metadata": {},
   "outputs": [
    {
     "name": "stderr",
     "output_type": "stream",
     "text": [
      "                                                                                \r"
     ]
    },
    {
     "data": {
      "image/png": "[encoded data removed]",
      "text/plain": [
       "<Figure size 648x720 with 4 Axes>"
      ]
     },
     "metadata": {
      "needs_background": "light"
     },
     "output_type": "display_data"
    }
   ],
   "source": [
    "# Categorical features \n",
    "categorical_columns = ['property_type',\t'room_type','bed_type', 'cancellation_policy']\n",
    "\n",
    "fig, axs = plt.subplots(2, 2, figsize=(9, 10))  \n",
    "color_palette = ['skyblue', 'salmon', 'lightgreen', 'orange']\n",
    "axs = axs.flatten() \n",
    "\n",
    "for i, column in enumerate(categorical_columns):\n",
    "    ax = axs[i]  \n",
    "    color = color_palette[i % len(color_palette)]  \n",
    "    utils.plot_categorical_distribution(df_airbnb, column, ax, color)\n",
    "\n",
    "plt.tight_layout()\n",
    "plt.show()"
   ]
  },
  {
   "cell_type": "markdown",
   "metadata": {},
   "source": [
    "Sampling and Mapping Airbnb Listings in Barcelona\n",
    "\n",
    "<div class=\"alert alert-block alert-info\" style=\"color: #01571B; background-color: #C8E5C6;\">\n",
    "\n",
    "+ A sample of the Airbnb dataset is being visualized on a map of Barcelona.\n",
    "    + Due to rendering constraints, only a subset of the data is displayed.\n",
    "+ Each marker represents a listing, with its location indicated by latitude and longitude coordinates.\n",
    "+ The map is centered on Barcelona, providing an overview of the spatial distribution of Airbnb listings in the city. Distibuted locations.\n",
    "</div>\n",
    "\n",
    "Replace Concellation_policy for dummy variable: \n",
    "\n",
    "- Unique values: [flexible, super_strict_60, strict, super_strict_30, moderate]"
   ]
  },
  {
   "cell_type": "code",
   "execution_count": 17,
   "metadata": {},
   "outputs": [
    {
     "data": {
      "text/plain": [
       "['Apartment',\n",
       " 'Bed & Breakfast',\n",
       " 'Guest suite',\n",
       " 'Timeshare',\n",
       " 'Camper/RV',\n",
       " 'Boutique hotel',\n",
       " 'Loft',\n",
       " 'Guesthouse',\n",
       " 'Hostel',\n",
       " 'Villa',\n",
       " 'Other',\n",
       " 'Nature lodge',\n",
       " 'Dorm',\n",
       " 'Condominium',\n",
       " 'House',\n",
       " 'Tent',\n",
       " 'Train',\n",
       " 'Boat',\n",
       " 'Casa particular',\n",
       " 'Cabin']"
      ]
     },
     "execution_count": 17,
     "metadata": {},
     "output_type": "execute_result"
    }
   ],
   "source": [
    "[row['property_type'] for row in df_airbnb.select('property_type').distinct().collect()]"
   ]
  },
  {
   "cell_type": "code",
   "execution_count": 18,
   "metadata": {},
   "outputs": [
    {
     "data": {
      "text/plain": [
       "['Airbed', 'Futon', 'Pull-out Sofa', 'Couch', 'Real Bed']"
      ]
     },
     "execution_count": 18,
     "metadata": {},
     "output_type": "execute_result"
    }
   ],
   "source": [
    "[row['bed_type'] for row in df_airbnb.select('bed_type').distinct().collect()]"
   ]
  },
  {
   "cell_type": "code",
   "execution_count": 19,
   "metadata": {},
   "outputs": [
    {
     "name": "stdout",
     "output_type": "stream",
     "text": [
      "root\n",
      " |-- name: string (nullable = true)\n",
      " |-- summary: string (nullable = true)\n",
      " |-- host_id: string (nullable = true)\n",
      " |-- host_url: string (nullable = true)\n",
      " |-- host_name: string (nullable = true)\n",
      " |-- host_since: string (nullable = true)\n",
      " |-- host_location: string (nullable = true)\n",
      " |-- host_thumbnail_url: string (nullable = true)\n",
      " |-- host_picture_url: string (nullable = true)\n",
      " |-- host_listings_count: double (nullable = true)\n",
      " |-- host_total_listings_count: double (nullable = true)\n",
      " |-- host_verifications: string (nullable = true)\n",
      " |-- neighbourhood_cleansed: string (nullable = true)\n",
      " |-- neighbourhood: string (nullable = true)\n",
      " |-- city: string (nullable = true)\n",
      " |-- market: string (nullable = true)\n",
      " |-- smart_location: string (nullable = true)\n",
      " |-- country_code: string (nullable = true)\n",
      " |-- country: string (nullable = true)\n",
      " |-- latitude: string (nullable = true)\n",
      " |-- longitude: string (nullable = true)\n",
      " |-- property_type: string (nullable = true)\n",
      " |-- room_type: string (nullable = true)\n",
      " |-- accommodates: decimal(20,0) (nullable = true)\n",
      " |-- bathrooms: double (nullable = true)\n",
      " |-- bedrooms: double (nullable = true)\n",
      " |-- beds: double (nullable = true)\n",
      " |-- bed_type: string (nullable = true)\n",
      " |-- price: double (nullable = true)\n",
      " |-- security_deposit: double (nullable = false)\n",
      " |-- cleaning_fee: double (nullable = false)\n",
      " |-- guests_included: decimal(20,0) (nullable = true)\n",
      " |-- extra_people: decimal(20,0) (nullable = true)\n",
      " |-- minimum_nights: decimal(20,0) (nullable = true)\n",
      " |-- maximum_nights: decimal(20,0) (nullable = true)\n",
      " |-- calendar_updated: string (nullable = true)\n",
      " |-- availability_30: decimal(20,0) (nullable = true)\n",
      " |-- availability_60: decimal(20,0) (nullable = true)\n",
      " |-- availability_90: decimal(20,0) (nullable = true)\n",
      " |-- availability_365: decimal(20,0) (nullable = true)\n",
      " |-- calendar_last_scraped: string (nullable = true)\n",
      " |-- number_of_reviews: decimal(20,0) (nullable = true)\n",
      " |-- cancellation_policy: string (nullable = true)\n",
      " |-- features: string (nullable = true)\n",
      "\n"
     ]
    },
    {
     "name": "stderr",
     "output_type": "stream",
     "text": [
      "                                                                                \r"
     ]
    },
    {
     "data": {
      "text/html": [
       "<div>\n",
       "<style scoped>\n",
       "    .dataframe tbody tr th:only-of-type {\n",
       "        vertical-align: middle;\n",
       "    }\n",
       "\n",
       "    .dataframe tbody tr th {\n",
       "        vertical-align: top;\n",
       "    }\n",
       "\n",
       "    .dataframe thead th {\n",
       "        text-align: right;\n",
       "    }\n",
       "</style>\n",
       "<table border=\"1\" class=\"dataframe\">\n",
       "  <thead>\n",
       "    <tr style=\"text-align: right;\">\n",
       "      <th></th>\n",
       "      <th>name</th>\n",
       "      <th>summary</th>\n",
       "      <th>host_id</th>\n",
       "      <th>host_url</th>\n",
       "      <th>host_name</th>\n",
       "      <th>host_since</th>\n",
       "      <th>host_location</th>\n",
       "      <th>host_thumbnail_url</th>\n",
       "      <th>host_picture_url</th>\n",
       "      <th>host_listings_count</th>\n",
       "      <th>...</th>\n",
       "      <th>maximum_nights</th>\n",
       "      <th>calendar_updated</th>\n",
       "      <th>availability_30</th>\n",
       "      <th>availability_60</th>\n",
       "      <th>availability_90</th>\n",
       "      <th>availability_365</th>\n",
       "      <th>calendar_last_scraped</th>\n",
       "      <th>number_of_reviews</th>\n",
       "      <th>cancellation_policy</th>\n",
       "      <th>features</th>\n",
       "    </tr>\n",
       "  </thead>\n",
       "  <tbody>\n",
       "    <tr>\n",
       "      <th>0</th>\n",
       "      <td>Piso cerca del Cam Nou</td>\n",
       "      <td>Acogedor y juvenil piso bien comunicado y en u...</td>\n",
       "      <td>38925857</td>\n",
       "      <td>https://www.airbnb.com/users/show/38925857</td>\n",
       "      <td>Javier</td>\n",
       "      <td>2015-07-19</td>\n",
       "      <td>Toledo, Castile-La Mancha, Spain</td>\n",
       "      <td>https://a0.muscache.com/im/pictures/c4b46d10-2...</td>\n",
       "      <td>https://a0.muscache.com/im/pictures/c4b46d10-2...</td>\n",
       "      <td>1.0</td>\n",
       "      <td>...</td>\n",
       "      <td>1125</td>\n",
       "      <td>yesterday</td>\n",
       "      <td>0</td>\n",
       "      <td>4</td>\n",
       "      <td>34</td>\n",
       "      <td>309</td>\n",
       "      <td>2017-04-07</td>\n",
       "      <td>1</td>\n",
       "      <td>moderate</td>\n",
       "      <td>Host Has Profile Pic, Host Identity Verified, ...</td>\n",
       "    </tr>\n",
       "  </tbody>\n",
       "</table>\n",
       "<p>1 rows × 44 columns</p>\n",
       "</div>"
      ],
      "text/plain": [
       "                     name                                            summary  \\\n",
       "0  Piso cerca del Cam Nou  Acogedor y juvenil piso bien comunicado y en u...   \n",
       "\n",
       "    host_id                                    host_url host_name  host_since  \\\n",
       "0  38925857  https://www.airbnb.com/users/show/38925857    Javier  2015-07-19   \n",
       "\n",
       "                      host_location  \\\n",
       "0  Toledo, Castile-La Mancha, Spain   \n",
       "\n",
       "                                  host_thumbnail_url  \\\n",
       "0  https://a0.muscache.com/im/pictures/c4b46d10-2...   \n",
       "\n",
       "                                    host_picture_url  host_listings_count  \\\n",
       "0  https://a0.muscache.com/im/pictures/c4b46d10-2...                  1.0   \n",
       "\n",
       "   ...  maximum_nights calendar_updated availability_30 availability_60  \\\n",
       "0  ...            1125        yesterday               0               4   \n",
       "\n",
       "  availability_90 availability_365 calendar_last_scraped number_of_reviews  \\\n",
       "0              34              309            2017-04-07                 1   \n",
       "\n",
       "  cancellation_policy                                           features  \n",
       "0            moderate  Host Has Profile Pic, Host Identity Verified, ...  \n",
       "\n",
       "[1 rows x 44 columns]"
      ]
     },
     "execution_count": 19,
     "metadata": {},
     "output_type": "execute_result"
    }
   ],
   "source": [
    "df_airbnb.printSchema()\n",
    "df_airbnb.limit(1).toPandas()"
   ]
  },
  {
   "cell_type": "code",
   "execution_count": 20,
   "metadata": {},
   "outputs": [
    {
     "name": "stdout",
     "output_type": "stream",
     "text": [
      "Writting tables...\n",
      "    - Aribnb table\n"
     ]
    },
    {
     "name": "stderr",
     "output_type": "stream",
     "text": [
      "                                                                                \r"
     ]
    }
   ],
   "source": [
    "# Prepare the DuckDB connection\n",
    "con = duckdb.connect(database='./../data/trusted_zone/barcelona_processed.db', read_only=False)\n",
    "con.close()\n",
    "\n",
    "## Write on the tables \n",
    "print('Writting tables...')\n",
    "jdbc_url = 'jdbc:duckdb:./../data/trusted_zone/barcelona_processed.db'\n",
    "driver = \"org.duckdb.DuckDBDriver\"\n",
    "\n",
    "print('    - Aribnb table')\n",
    "df_airbnb.write \\\n",
    "    .format(\"jdbc\") \\\n",
    "    .option(\"url\", jdbc_url) \\\n",
    "    .option(\"dbtable\", \"df_airbnb_listings\") \\\n",
    "    .option(\"driver\", driver) \\\n",
    "    .mode(\"overwrite\") \\\n",
    "    .save()\n",
    "\n",
    "spark.stop()\n",
    "con.close()"
   ]
  }
 ],
 "metadata": {
  "kernelspec": {
   "display_name": "Python 3 (ipykernel)",
   "language": "python",
   "name": "python3"
  },
  "language_info": {
   "codemirror_mode": {
    "name": "ipython",
    "version": 3
   },
   "file_extension": ".py",
   "mimetype": "text/x-python",
   "name": "python",
   "nbconvert_exporter": "python",
   "pygments_lexer": "ipython3",
   "version": "3.9.7"
  }
 },
 "nbformat": 4,
 "nbformat_minor": 4
}
