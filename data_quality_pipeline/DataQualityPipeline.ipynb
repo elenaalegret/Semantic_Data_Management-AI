{
 "cells": [
  {
   "cell_type": "markdown",
   "metadata": {},
   "source": [
    "___\n",
    "\n",
    "<div style=\"text-align: center;\">\n",
    "  <span style=\"font-family: 'Playfair Display', serif; font-size: 24px; font-weight: bold;\">\n",
    "Dataset Exploration\n",
    "  </span>\n",
    "</div>\n",
    "\n",
    "___\n",
    "\n",
    "\n",
    "In this notebook, we will explore four datasets stored in DuckDB using PySpark. The datasets include the Criminal Dataset, Airbnb Listings, TripAdvisor Attractions, and Restaurants. \n",
    "\n",
    "The exploration will involve:\n",
    "\n",
    "<li>Identification of Data Quality rules on the datasets</li>\n",
    "<li>Assessment of the Quality of the Data</li>\n",
    "<li>Application of Data Cleaning processes (individually per dataset)</li>\n",
    "<li>Expression of Data quality rules as Denial Constraints</li>\n",
    "<li>Storage of the improved quality tables in the Trusted Zone, mirroring the tables in the Formatted Zone</li>"
   ]
  },
  {
   "cell_type": "code",
   "execution_count": 3,
   "metadata": {},
   "outputs": [],
   "source": [
    "#%pip install duckdb pyspark folium geopy wordcloud unidecode rdflib \n",
    "#!sudo -u postgres psql -U postgres -c \"ALTER USER postgres PASSWORD 'postgres';\"\n",
    "#!sudo -u postgres psql -U postgres -c 'DROP DATABASE IF EXISTS pyspark_postgres;'\n",
    "#!sudo -u postgres psql -U postgres -c 'CREATE DATABASE pyspark_postgres;'\n",
    "#!wget -O \"postgresql.jar\" \"https://repo1.maven.org/maven2/org/postgresql/postgresql/42.7.3/postgresql-42.7.3.jar\"\n",
    "#!wget -O \"duckdb.jar\" \"https://repo1.maven.org/maven2/org/duckdb/duckdb_jdbc/0.10.1/duckdb_jdbc-0.10.1.jar\""
   ]
  },
  {
   "cell_type": "code",
   "execution_count": 4,
   "metadata": {},
   "outputs": [],
   "source": [
    "## Imports\n",
    "import duckdb\n",
    "import pickle\n",
    "import folium\n",
    "import warnings\n",
    "import pandas as pd\n",
    "import unidecode\n",
    "import matplotlib.pyplot as plt\n",
    "from pyspark.sql import SparkSession\n",
    "from pyspark.sql.functions import monotonically_increasing_id, isnan, concat_ws, split, regexp_replace, col, count, isnan, when, create_map, lit\n",
    "warnings.filterwarnings(\"ignore\")\n",
    "\n",
    "import sys\n",
    "import os\n",
    "\n",
    "current_dir = os.path.dirname(os.path.abspath('__file__'))\n",
    "parent_dir = os.path.abspath(os.path.join(current_dir, os.pardir))\n",
    "\n",
    "# Agregate the dic to sys.path\n",
    "if parent_dir not in sys.path:\n",
    "    sys.path.append(parent_dir)\n",
    "import utils\n",
    "\n",
    "## Connection to formatted database\n",
    "jdbc_url = 'jdbc:duckdb:./../data/formatted_zone/barcelona.db'\n",
    "driver = \"org.duckdb.DuckDBDriver\"\n",
    "\n",
    "# SparkSession inicialitzation\n",
    "spark = SparkSession.builder\\\n",
    "    .config(\"spark.jars\", \"duckdb.jar\") \\\n",
    "    .appName(\"DataExploration\") \\\n",
    "    .getOrCreate()"
   ]
  },
  {
   "cell_type": "markdown",
   "metadata": {},
   "source": [
    "<div style=\"background-color:#F2F2F2; padding: 10px;\">\n",
    "    <div style=\"text-align: center;\">\n",
    "        <span style=\"font-family: 'Playfair Display', serif; font-size: 20px; font-weight: bold; color: black;\">\n",
    "            Criminal Dataset\n",
    "        </span>\n",
    "    </div>\n",
    "</div>\n",
    "\n",
    "\n",
    "\n",
    "#### DataFrame Schema\n",
    "\n",
    "<div class=\"alert alert-block alert-info\" style=\"color: #01571B; background-color: #C8E5C6;\">\n",
    "    \n",
    "The DataFrame comprises various groups of columns, each providing distinct details related to property listings:\n",
    "\n",
    "- The DataFrame has **2289 rows** and **16 columns**. \n",
    "\n",
    "\n",
    " - **any**: decimal(20,0) (nullable = true)\n",
    " - **num_mes**: decimal(20,0) (nullable = true)\n",
    " - **nom_mes**: string (nullable = true)\n",
    " - **regio_policial**: string (nullable = true)\n",
    " - **area_basica_policial**: string (nullable = true)\n",
    " - **provincia**: string (nullable = true)\n",
    " - **comarca**: string (nullable = true)\n",
    " - **municipi**: string (nullable = true)\n",
    " - **tipus_de_lloc_dels_fets**: string (nullable = true)\n",
    " - **canal_dels_fets**: string (nullable = true)\n",
    " - **tipus_de_fet**: string (nullable = true)\n",
    " - **titol_del_fet_codi_penal**: string (nullable = true)\n",
    " - **tipus_de_fet_codi_penal**: string (nullable = true)\n",
    " - **ambit_fet**: string (nullable = true)\n",
    " - **nombre_fets_o_infraccions**: decimal(20,0) (nullable = true)\n",
    " - **nombre_victimes**: double (nullable = true)\n",
    "</div>"
   ]
  },
  {
   "cell_type": "code",
   "execution_count": 5,
   "metadata": {},
   "outputs": [
    {
     "name": "stdout",
     "output_type": "stream",
     "text": [
      "The DataFrame has 2289 rows and 16 columns. \n",
      "\n"
     ]
    }
   ],
   "source": [
    "df_criminal = spark.read \\\n",
    "  .format(\"jdbc\") \\\n",
    "  .option(\"url\", jdbc_url) \\\n",
    "  .option(\"driver\", driver) \\\n",
    "  .option(\"query\", \"SELECT * FROM df_criminal_dataset\") \\\n",
    "  .load()\n",
    "\n",
    "exprs = [f\"`{col_name}` as `{col_name.replace('.', '_')}`\" for col_name in df_criminal.columns]\n",
    "df_criminal= df_criminal.selectExpr(exprs)\n",
    "print(\"The DataFrame has {} rows and {} columns. \\n\".format(df_criminal.count(), len(df_criminal.columns)))"
   ]
  },
  {
   "cell_type": "code",
   "execution_count": 6,
   "metadata": {},
   "outputs": [
    {
     "data": {
      "text/html": [
       "<div>\n",
       "<style scoped>\n",
       "    .dataframe tbody tr th:only-of-type {\n",
       "        vertical-align: middle;\n",
       "    }\n",
       "\n",
       "    .dataframe tbody tr th {\n",
       "        vertical-align: top;\n",
       "    }\n",
       "\n",
       "    .dataframe thead th {\n",
       "        text-align: right;\n",
       "    }\n",
       "</style>\n",
       "<table border=\"1\" class=\"dataframe\">\n",
       "  <thead>\n",
       "    <tr style=\"text-align: right;\">\n",
       "      <th></th>\n",
       "      <th>any</th>\n",
       "      <th>n_m_mes</th>\n",
       "      <th>nom_mes</th>\n",
       "      <th>regi_policial_rp</th>\n",
       "      <th>rea_b_sica_policial_abp</th>\n",
       "      <th>prov_ncia</th>\n",
       "      <th>comarca</th>\n",
       "      <th>municipi</th>\n",
       "      <th>tipus_de_lloc_dels_fets</th>\n",
       "      <th>canal_dels_fets</th>\n",
       "      <th>tipus_de_fet</th>\n",
       "      <th>t_tol_del_fet_codi_penal</th>\n",
       "      <th>tipus_de_fet_codi_penal_o</th>\n",
       "      <th>mbit_fet</th>\n",
       "      <th>nombre_fets_o_infraccions</th>\n",
       "      <th>nombre_v_ctimes</th>\n",
       "    </tr>\n",
       "  </thead>\n",
       "  <tbody>\n",
       "    <tr>\n",
       "      <th>0</th>\n",
       "      <td>2021</td>\n",
       "      <td>12</td>\n",
       "      <td>Desembre</td>\n",
       "      <td>RP  Metropolitana Nord</td>\n",
       "      <td>ABP Badalona</td>\n",
       "      <td>Barcelona</td>\n",
       "      <td>Barcelonès</td>\n",
       "      <td>Badalona</td>\n",
       "      <td>Via pública urbana</td>\n",
       "      <td>Presencial</td>\n",
       "      <td>Delictes</td>\n",
       "      <td>De les lesions</td>\n",
       "      <td>Lesions</td>\n",
       "      <td>Sexisme</td>\n",
       "      <td>1</td>\n",
       "      <td>1.0</td>\n",
       "    </tr>\n",
       "  </tbody>\n",
       "</table>\n",
       "</div>"
      ],
      "text/plain": [
       "    any n_m_mes   nom_mes        regi_policial_rp rea_b_sica_policial_abp  \\\n",
       "0  2021      12  Desembre  RP  Metropolitana Nord            ABP Badalona   \n",
       "\n",
       "   prov_ncia     comarca  municipi tipus_de_lloc_dels_fets canal_dels_fets  \\\n",
       "0  Barcelona  Barcelonès  Badalona      Via pública urbana      Presencial   \n",
       "\n",
       "  tipus_de_fet t_tol_del_fet_codi_penal tipus_de_fet_codi_penal_o mbit_fet  \\\n",
       "0     Delictes           De les lesions                   Lesions  Sexisme   \n",
       "\n",
       "  nombre_fets_o_infraccions  nombre_v_ctimes  \n",
       "0                         1              1.0  "
      ]
     },
     "execution_count": 6,
     "metadata": {},
     "output_type": "execute_result"
    }
   ],
   "source": [
    "df_criminal.limit(1).toPandas() "
   ]
  },
  {
   "cell_type": "markdown",
   "metadata": {},
   "source": [
    "Correct Column names: \n",
    "\n",
    "- `n_m_mes` -> `num_mes`\n",
    "\n",
    "- `regi_policial_rp` -> `regio_policial`\n",
    "\n",
    "- `rea_b_sica_policial_abp` -> `area_basica_policial`\n",
    "\n",
    "- `t_tol_del_fet_codi_penal` -> `titol_del_fet_codi_penal`\n",
    "\n",
    "- `tipus_de_fet_codi_penal_o` -> `tipus_de_fet_codi_penal`\n",
    "\n",
    "- `mbit_fet` -> `ambit_fet`\n",
    "\n",
    "- `prov_ncia` -> `provincia`"
   ]
  },
  {
   "cell_type": "code",
   "execution_count": 7,
   "metadata": {},
   "outputs": [],
   "source": [
    "df_criminal = df_criminal.withColumnRenamed(\"n_m_mes\", \"num_mes\") \\\n",
    "       .withColumnRenamed(\"regi_policial_rp\", \"regio_policial\") \\\n",
    "       .withColumnRenamed(\"rea_b_sica_policial_abp\", \"area_basica_policial\") \\\n",
    "       .withColumnRenamed(\"t_tol_del_fet_codi_penal\", \"titol_del_fet_codi_penal\") \\\n",
    "       .withColumnRenamed(\"tipus_de_fet_codi_penal_o\", \"tipus_de_fet_codi_penal\") \\\n",
    "       .withColumnRenamed(\"mbit_fet\", \"ambit_fet\") \\\n",
    "       .withColumnRenamed(\"prov_ncia\", \"provincia\") \\\n",
    "       .withColumnRenamed(\"nombre_v_ctimes\", \"nombre_victimes\")"
   ]
  },
  {
   "cell_type": "markdown",
   "metadata": {},
   "source": [
    "Summary Observations of the dataset:\n",
    "\n",
    "<div class=\"alert alert-block alert-info\" style=\"color: #01579B; background-color: #E1F5FE; border-color: #01579B;\">\n",
    "\n",
    "- **Count**: 2289 records for all columns except for \"tipus_de_lloc_dels_fets\" which has 2288 records.\n",
    "- **num_mes**: The mean value of approximately 6.71, indicating that the data spans multiple months.\n",
    "- **nombre_victimes**: There are 863 records with values, suggesting incidents involving victims.\n",
    "</div>"
   ]
  },
  {
   "cell_type": "code",
   "execution_count": 8,
   "metadata": {},
   "outputs": [
    {
     "name": "stderr",
     "output_type": "stream",
     "text": [
      "24/06/03 10:31:06 WARN SparkStringUtils: Truncated the string representation of a plan since it was too large. This behavior can be adjusted by setting 'spark.sql.debug.maxToStringFields'.\n",
      "                                                                                \r"
     ]
    },
    {
     "data": {
      "text/html": [
       "<div>\n",
       "<style scoped>\n",
       "    .dataframe tbody tr th:only-of-type {\n",
       "        vertical-align: middle;\n",
       "    }\n",
       "\n",
       "    .dataframe tbody tr th {\n",
       "        vertical-align: top;\n",
       "    }\n",
       "\n",
       "    .dataframe thead th {\n",
       "        text-align: right;\n",
       "    }\n",
       "</style>\n",
       "<table border=\"1\" class=\"dataframe\">\n",
       "  <thead>\n",
       "    <tr style=\"text-align: right;\">\n",
       "      <th></th>\n",
       "      <th>summary</th>\n",
       "      <th>any</th>\n",
       "      <th>num_mes</th>\n",
       "      <th>nom_mes</th>\n",
       "      <th>regio_policial</th>\n",
       "      <th>area_basica_policial</th>\n",
       "      <th>provincia</th>\n",
       "      <th>comarca</th>\n",
       "      <th>municipi</th>\n",
       "      <th>tipus_de_lloc_dels_fets</th>\n",
       "      <th>canal_dels_fets</th>\n",
       "      <th>tipus_de_fet</th>\n",
       "      <th>titol_del_fet_codi_penal</th>\n",
       "      <th>tipus_de_fet_codi_penal</th>\n",
       "      <th>ambit_fet</th>\n",
       "      <th>nombre_fets_o_infraccions</th>\n",
       "      <th>nombre_victimes</th>\n",
       "    </tr>\n",
       "  </thead>\n",
       "  <tbody>\n",
       "    <tr>\n",
       "      <th>0</th>\n",
       "      <td>count</td>\n",
       "      <td>2289</td>\n",
       "      <td>2289</td>\n",
       "      <td>2289</td>\n",
       "      <td>2289</td>\n",
       "      <td>2289</td>\n",
       "      <td>2289</td>\n",
       "      <td>2289</td>\n",
       "      <td>2289</td>\n",
       "      <td>2288</td>\n",
       "      <td>2289</td>\n",
       "      <td>2289</td>\n",
       "      <td>2289</td>\n",
       "      <td>2289</td>\n",
       "      <td>2289</td>\n",
       "      <td>2289</td>\n",
       "      <td>863</td>\n",
       "    </tr>\n",
       "    <tr>\n",
       "      <th>1</th>\n",
       "      <td>mean</td>\n",
       "      <td>2021.7741</td>\n",
       "      <td>6.7051</td>\n",
       "      <td>None</td>\n",
       "      <td>None</td>\n",
       "      <td>None</td>\n",
       "      <td>None</td>\n",
       "      <td>None</td>\n",
       "      <td>None</td>\n",
       "      <td>None</td>\n",
       "      <td>None</td>\n",
       "      <td>None</td>\n",
       "      <td>None</td>\n",
       "      <td>None</td>\n",
       "      <td>None</td>\n",
       "      <td>1.0000</td>\n",
       "      <td>1.2966396292004636</td>\n",
       "    </tr>\n",
       "    <tr>\n",
       "      <th>2</th>\n",
       "      <td>stddev</td>\n",
       "      <td>1.0871606296548673</td>\n",
       "      <td>3.2524835989513767</td>\n",
       "      <td>None</td>\n",
       "      <td>None</td>\n",
       "      <td>None</td>\n",
       "      <td>None</td>\n",
       "      <td>None</td>\n",
       "      <td>None</td>\n",
       "      <td>None</td>\n",
       "      <td>None</td>\n",
       "      <td>None</td>\n",
       "      <td>None</td>\n",
       "      <td>None</td>\n",
       "      <td>None</td>\n",
       "      <td>0.0</td>\n",
       "      <td>0.7321425942635059</td>\n",
       "    </tr>\n",
       "    <tr>\n",
       "      <th>3</th>\n",
       "      <td>min</td>\n",
       "      <td>2020</td>\n",
       "      <td>1</td>\n",
       "      <td>Abril</td>\n",
       "      <td>RP  Metropolitana Nord</td>\n",
       "      <td>ABP Alt Camp - C. de Barberà</td>\n",
       "      <td>Barcelona</td>\n",
       "      <td>ABP Tarragonès</td>\n",
       "      <td>ABP el Prat de Llobregat</td>\n",
       "      <td>AERO - Altres comerços T1-Arribades</td>\n",
       "      <td>Int. i/o Xarxes</td>\n",
       "      <td>ALTRES</td>\n",
       "      <td>01.-DE L'HOMICIDI I LES SEVES FORMES</td>\n",
       "      <td>Abusos sexuals</td>\n",
       "      <td>Antigitanisme</td>\n",
       "      <td>1</td>\n",
       "      <td>0.0</td>\n",
       "    </tr>\n",
       "    <tr>\n",
       "      <th>4</th>\n",
       "      <td>max</td>\n",
       "      <td>2023</td>\n",
       "      <td>12</td>\n",
       "      <td>setembre</td>\n",
       "      <td>RP Terres de l'Ebre</td>\n",
       "      <td>Unitat d'informació RPMB</td>\n",
       "      <td>Tarragona</td>\n",
       "      <td>Vic</td>\n",
       "      <td>Àger</td>\n",
       "      <td>Zona/Eix comercial</td>\n",
       "      <td>Presencial</td>\n",
       "      <td>Infracció administrativa</td>\n",
       "      <td>NORMATIVA ESPORT: DLEG 1/00 I LLEIS 10/90 I 19/07</td>\n",
       "      <td>Violència física o psíquica habitual en l'àmbi...</td>\n",
       "      <td>Ètnic/origen nacional/origen racial</td>\n",
       "      <td>1</td>\n",
       "      <td>7.0</td>\n",
       "    </tr>\n",
       "  </tbody>\n",
       "</table>\n",
       "</div>"
      ],
      "text/plain": [
       "  summary                 any             num_mes   nom_mes  \\\n",
       "0   count                2289                2289      2289   \n",
       "1    mean           2021.7741              6.7051      None   \n",
       "2  stddev  1.0871606296548673  3.2524835989513767      None   \n",
       "3     min                2020                   1     Abril   \n",
       "4     max                2023                  12  setembre   \n",
       "\n",
       "           regio_policial          area_basica_policial  provincia  \\\n",
       "0                    2289                          2289       2289   \n",
       "1                    None                          None       None   \n",
       "2                    None                          None       None   \n",
       "3  RP  Metropolitana Nord  ABP Alt Camp - C. de Barberà  Barcelona   \n",
       "4     RP Terres de l'Ebre      Unitat d'informació RPMB  Tarragona   \n",
       "\n",
       "          comarca                  municipi  \\\n",
       "0            2289                      2289   \n",
       "1            None                      None   \n",
       "2            None                      None   \n",
       "3  ABP Tarragonès  ABP el Prat de Llobregat   \n",
       "4             Vic                      Àger   \n",
       "\n",
       "               tipus_de_lloc_dels_fets  canal_dels_fets  \\\n",
       "0                                 2288             2289   \n",
       "1                                 None             None   \n",
       "2                                 None             None   \n",
       "3  AERO - Altres comerços T1-Arribades  Int. i/o Xarxes   \n",
       "4                   Zona/Eix comercial       Presencial   \n",
       "\n",
       "               tipus_de_fet  \\\n",
       "0                      2289   \n",
       "1                      None   \n",
       "2                      None   \n",
       "3                    ALTRES   \n",
       "4  Infracció administrativa   \n",
       "\n",
       "                            titol_del_fet_codi_penal  \\\n",
       "0                                               2289   \n",
       "1                                               None   \n",
       "2                                               None   \n",
       "3               01.-DE L'HOMICIDI I LES SEVES FORMES   \n",
       "4  NORMATIVA ESPORT: DLEG 1/00 I LLEIS 10/90 I 19/07   \n",
       "\n",
       "                             tipus_de_fet_codi_penal  \\\n",
       "0                                               2289   \n",
       "1                                               None   \n",
       "2                                               None   \n",
       "3                                     Abusos sexuals   \n",
       "4  Violència física o psíquica habitual en l'àmbi...   \n",
       "\n",
       "                             ambit_fet nombre_fets_o_infraccions  \\\n",
       "0                                 2289                      2289   \n",
       "1                                 None                    1.0000   \n",
       "2                                 None                       0.0   \n",
       "3                        Antigitanisme                         1   \n",
       "4  Ètnic/origen nacional/origen racial                         1   \n",
       "\n",
       "      nombre_victimes  \n",
       "0                 863  \n",
       "1  1.2966396292004636  \n",
       "2  0.7321425942635059  \n",
       "3                 0.0  \n",
       "4                 7.0  "
      ]
     },
     "execution_count": 8,
     "metadata": {},
     "output_type": "execute_result"
    }
   ],
   "source": [
    "df_criminal.describe().toPandas() "
   ]
  },
  {
   "cell_type": "markdown",
   "metadata": {},
   "source": [
    "Null Values\n",
    "\n",
    "<div class=\"alert alert-block alert-warning\" style=\"color: #C23B22; background-color: #f8c3c0;\">\n",
    "\n",
    "+ No Null Values detected: No need to apply changes\n",
    "</div>"
   ]
  },
  {
   "cell_type": "code",
   "execution_count": 9,
   "metadata": {},
   "outputs": [
    {
     "data": {
      "text/html": [
       "<div>\n",
       "<style scoped>\n",
       "    .dataframe tbody tr th:only-of-type {\n",
       "        vertical-align: middle;\n",
       "    }\n",
       "\n",
       "    .dataframe tbody tr th {\n",
       "        vertical-align: top;\n",
       "    }\n",
       "\n",
       "    .dataframe thead th {\n",
       "        text-align: right;\n",
       "    }\n",
       "</style>\n",
       "<table border=\"1\" class=\"dataframe\">\n",
       "  <thead>\n",
       "    <tr style=\"text-align: right;\">\n",
       "      <th></th>\n",
       "      <th>any</th>\n",
       "      <th>num_mes</th>\n",
       "      <th>nom_mes</th>\n",
       "      <th>regio_policial</th>\n",
       "      <th>area_basica_policial</th>\n",
       "      <th>provincia</th>\n",
       "      <th>comarca</th>\n",
       "      <th>municipi</th>\n",
       "      <th>tipus_de_lloc_dels_fets</th>\n",
       "      <th>canal_dels_fets</th>\n",
       "      <th>tipus_de_fet</th>\n",
       "      <th>titol_del_fet_codi_penal</th>\n",
       "      <th>tipus_de_fet_codi_penal</th>\n",
       "      <th>ambit_fet</th>\n",
       "      <th>nombre_fets_o_infraccions</th>\n",
       "      <th>nombre_victimes</th>\n",
       "    </tr>\n",
       "  </thead>\n",
       "  <tbody>\n",
       "    <tr>\n",
       "      <th>0</th>\n",
       "      <td>0</td>\n",
       "      <td>0</td>\n",
       "      <td>0</td>\n",
       "      <td>0</td>\n",
       "      <td>0</td>\n",
       "      <td>0</td>\n",
       "      <td>0</td>\n",
       "      <td>0</td>\n",
       "      <td>0</td>\n",
       "      <td>0</td>\n",
       "      <td>0</td>\n",
       "      <td>0</td>\n",
       "      <td>0</td>\n",
       "      <td>0</td>\n",
       "      <td>0</td>\n",
       "      <td>0</td>\n",
       "    </tr>\n",
       "  </tbody>\n",
       "</table>\n",
       "</div>"
      ],
      "text/plain": [
       "   any  num_mes  nom_mes  regio_policial  area_basica_policial  provincia  \\\n",
       "0    0        0        0               0                     0          0   \n",
       "\n",
       "   comarca  municipi  tipus_de_lloc_dels_fets  canal_dels_fets  tipus_de_fet  \\\n",
       "0        0         0                        0                0             0   \n",
       "\n",
       "   titol_del_fet_codi_penal  tipus_de_fet_codi_penal  ambit_fet  \\\n",
       "0                         0                        0          0   \n",
       "\n",
       "   nombre_fets_o_infraccions  nombre_victimes  \n",
       "0                          0                0  "
      ]
     },
     "execution_count": 9,
     "metadata": {},
     "output_type": "execute_result"
    }
   ],
   "source": [
    "# Counting the NaN values\n",
    "nan_counts = df_criminal.select([count(when(isnan(c), c)).alias(c) for c in df_criminal.columns])\n",
    "nan_counts.toPandas()"
   ]
  },
  {
   "cell_type": "markdown",
   "metadata": {},
   "source": [
    "Filter by region in Barcelona: \n",
    "\n",
    "+ **area_basica_policial**: Variable that defines the barcelona neighbourhood where the crime has taken place. \n",
    "    \n",
    "    + The name will be change to **neighbourhood** to a more comprensive vision. \n",
    "    + IMPORTANT: Only the rows with neighbourhood value situated in Barcelona will be collected. "
   ]
  },
  {
   "cell_type": "code",
   "execution_count": 10,
   "metadata": {},
   "outputs": [
    {
     "data": {
      "text/plain": [
       "['CD Caldes de Montbui',\n",
       " 'ABP Hospitalet de Llobregat',\n",
       " 'ABP Horta-Guinardó',\n",
       " 'ABP Berguedà',\n",
       " 'ABP Barcelona',\n",
       " 'ABP Les Corts',\n",
       " 'ABP Premià de Mar',\n",
       " 'ABP Tarragona',\n",
       " 'ABP Sant Feliu de Llobregat',\n",
       " 'ABP Girona',\n",
       " 'ABP Selva Litoral',\n",
       " 'ABP Terrassa',\n",
       " 'ABP Solsonès',\n",
       " 'ABP Sant Boi de Llobregat',\n",
       " 'ABP Sant Vicenç dels Horts',\n",
       " 'ABP Tortosa',\n",
       " \"Unitat d'informació RPMB\",\n",
       " 'ABP Osona',\n",
       " 'ABP Pineda de Mar',\n",
       " 'ABP Vendrell',\n",
       " 'ABP Anoia',\n",
       " 'ABP Eixample',\n",
       " 'ABP Lloret de Mar',\n",
       " 'ABP Arenys de Mar',\n",
       " 'ABP Sants-Montjuïc',\n",
       " \"ABP Gironès - Pla de l'Estany\",\n",
       " 'ABP Noguera',\n",
       " 'ABP Rubí',\n",
       " 'ABP Badalona',\n",
       " 'ABP Tarragonès',\n",
       " 'ABP Baix Empordà - La Bisbal',\n",
       " 'GUB Badalona',\n",
       " 'ABP Alt Penedès',\n",
       " 'ABP Segarra - Urgell',\n",
       " 'ABP Martorell',\n",
       " 'ABP Granollers',\n",
       " 'ABP el Prat de Llobregat',\n",
       " \"ABP Segrià - Garrigues - Pla d'Urgell\",\n",
       " 'ABP Cornellà de Llobregat',\n",
       " 'GUB Lleida',\n",
       " \"ABP Terra Alta - Ribera d'Ebre\",\n",
       " 'UI Martorell',\n",
       " 'ABP Bages',\n",
       " 'ABP Garraf',\n",
       " 'ABP Gavà',\n",
       " 'ABP Esplugues de Llobregat',\n",
       " 'ABP Sant Adrià del Besòs',\n",
       " 'ABP Sant Andreu',\n",
       " 'ABP Ripollès',\n",
       " 'ABP Cambrils',\n",
       " 'ABP Pallars Jussà - Pallars Sobirà',\n",
       " 'ABP CIUTAT VELLA',\n",
       " 'ABP Santa Coloma de Gramenet',\n",
       " 'ABP Selva Interior',\n",
       " 'ABP Alt Empordà - Figueres',\n",
       " 'Pl Mataró',\n",
       " 'ABP Lleida',\n",
       " 'ABP Sant Feliu de Guixols',\n",
       " 'ABP Mollet del Vallès',\n",
       " 'ABP Sabadell',\n",
       " 'PL Girona',\n",
       " 'ABP Alt Empordà - Roses',\n",
       " 'ABP Montcada i Reixac',\n",
       " 'ABP Cerdanya',\n",
       " 'ABP Cornellà',\n",
       " 'ABP Sant Martí',\n",
       " 'ABP Nou Barris',\n",
       " 'UINF Girona',\n",
       " 'ABP TORTOSA',\n",
       " 'ABP Berga',\n",
       " 'ABP Ciutat Vella',\n",
       " \"ABP l'Hospitalet de Llobregat\",\n",
       " \"ABP Vall d'Aran - Alta Ribagorça\",\n",
       " 'ABP Mataró',\n",
       " 'ABP Cerdanyola',\n",
       " 'ABP Gràcia',\n",
       " 'ABP Garrotxa',\n",
       " 'ABP Baix Penedès',\n",
       " 'ABP Baix Empordà - Sant Feliu',\n",
       " 'PL Granollers',\n",
       " 'Fet fora de Catalunya',\n",
       " 'ABP Sarrià-Sant Gervasi',\n",
       " 'ABP Alt Camp - C. de Barberà',\n",
       " 'ABP Baix Camp - Priorat',\n",
       " 'ABP Montsià',\n",
       " 'ABP Alt Urgell',\n",
       " 'ABP Baix Ebre',\n",
       " 'ABP Manresa']"
      ]
     },
     "execution_count": 10,
     "metadata": {},
     "output_type": "execute_result"
    }
   ],
   "source": [
    "[row['area_basica_policial'] for row in df_criminal.select('area_basica_policial').distinct().collect()]"
   ]
  },
  {
   "cell_type": "code",
   "execution_count": 11,
   "metadata": {},
   "outputs": [
    {
     "data": {
      "text/html": [
       "<div>\n",
       "<style scoped>\n",
       "    .dataframe tbody tr th:only-of-type {\n",
       "        vertical-align: middle;\n",
       "    }\n",
       "\n",
       "    .dataframe tbody tr th {\n",
       "        vertical-align: top;\n",
       "    }\n",
       "\n",
       "    .dataframe thead th {\n",
       "        text-align: right;\n",
       "    }\n",
       "</style>\n",
       "<table border=\"1\" class=\"dataframe\">\n",
       "  <thead>\n",
       "    <tr style=\"text-align: right;\">\n",
       "      <th></th>\n",
       "      <th>any</th>\n",
       "      <th>num_mes</th>\n",
       "      <th>nom_mes</th>\n",
       "      <th>regio_policial</th>\n",
       "      <th>neighbourhood</th>\n",
       "      <th>provincia</th>\n",
       "      <th>comarca</th>\n",
       "      <th>municipi</th>\n",
       "      <th>tipus_de_lloc_dels_fets</th>\n",
       "      <th>canal_dels_fets</th>\n",
       "      <th>tipus_de_fet</th>\n",
       "      <th>titol_del_fet_codi_penal</th>\n",
       "      <th>tipus_de_fet_codi_penal</th>\n",
       "      <th>ambit_fet</th>\n",
       "      <th>nombre_fets_o_infraccions</th>\n",
       "      <th>nombre_victimes</th>\n",
       "    </tr>\n",
       "  </thead>\n",
       "  <tbody>\n",
       "    <tr>\n",
       "      <th>0</th>\n",
       "      <td>2021</td>\n",
       "      <td>6</td>\n",
       "      <td>Juny</td>\n",
       "      <td>RP Metropolitana Barcelona</td>\n",
       "      <td>Nou Barris</td>\n",
       "      <td>Barcelona</td>\n",
       "      <td>Barcelonès</td>\n",
       "      <td>Barcelona</td>\n",
       "      <td>Via pública urbana</td>\n",
       "      <td>Presencial</td>\n",
       "      <td>Delictes</td>\n",
       "      <td>Delictes contra la llibertat</td>\n",
       "      <td>Amenaces</td>\n",
       "      <td>Orientació política</td>\n",
       "      <td>1</td>\n",
       "      <td>1.0</td>\n",
       "    </tr>\n",
       "  </tbody>\n",
       "</table>\n",
       "</div>"
      ],
      "text/plain": [
       "    any num_mes nom_mes              regio_policial neighbourhood  provincia  \\\n",
       "0  2021       6    Juny  RP Metropolitana Barcelona    Nou Barris  Barcelona   \n",
       "\n",
       "      comarca   municipi tipus_de_lloc_dels_fets canal_dels_fets tipus_de_fet  \\\n",
       "0  Barcelonès  Barcelona      Via pública urbana      Presencial     Delictes   \n",
       "\n",
       "       titol_del_fet_codi_penal tipus_de_fet_codi_penal            ambit_fet  \\\n",
       "0  Delictes contra la llibertat                Amenaces  Orientació política   \n",
       "\n",
       "  nombre_fets_o_infraccions  nombre_victimes  \n",
       "0                         1              1.0  "
      ]
     },
     "execution_count": 11,
     "metadata": {},
     "output_type": "execute_result"
    }
   ],
   "source": [
    "df_criminal = df_criminal.filter(df_criminal[\"area_basica_policial\"].isin(\"ABP Eixample\", \"ABP Sants-Montjuïc\", \"ABP Les Corts\", \"ABP Horta-Guinardó\", \n",
    "                                                        \"ABP Sant Martí\", \"ABP Nou Barris\", \"ABP Sarrià-Sant Gervasi\",\"ABP Gràcia\", \"ABP Sant Andreu\", \"ABP CIUTAT VELLA\", \"ABP Ciutat Vella\"))\n",
    "\n",
    "df_criminal = df_criminal.withColumn(\"area_basica_policial\", regexp_replace(\"area_basica_policial\", \"^ABP \", \"\"))\n",
    "df_criminal = df_criminal.withColumnRenamed(\"area_basica_policial\", \"neighbourhood\")\n",
    "df_criminal.limit(1).toPandas()"
   ]
  },
  {
   "cell_type": "markdown",
   "metadata": {},
   "source": [
    "Numeric Features Distributions Insights:\n",
    "\n",
    "<div class=\"alert alert-block alert-info\" style=\"color: #01579B; background-color: #E1F5FE; border-color: #01579B;\">\n",
    "\n",
    "- **nombre_fets_o_infraccions**: All the values concentrated in 1\n",
    "- **nombre_victimes**: Replace None Values with 0. \n",
    "  - We assume that there is not a victim in the crime. \n",
    "\n",
    "- More criminality acts in 2023:\n",
    "  - May and July: Months with more criminal acts in Barcelona. \n",
    "  - December: Month with less criminal acts in Barcelona. \n",
    "  - Most criminal cases have 1 victim and a maximum of 7 victims with a low concentration.\n",
    "</div>"
   ]
  },
  {
   "cell_type": "code",
   "execution_count": 12,
   "metadata": {},
   "outputs": [],
   "source": [
    "# Replace each None -> 1 victims (minimum per dencuncia)\n",
    "df_criminal = df_criminal.withColumn('nombre_victimes', when(col('nombre_victimes').isNull(), 1).otherwise(col('nombre_victimes')))"
   ]
  },
  {
   "cell_type": "code",
   "execution_count": 13,
   "metadata": {},
   "outputs": [
    {
     "name": "stderr",
     "output_type": "stream",
     "text": [
      "                                                                                \r"
     ]
    },
    {
     "data": {
      "image/png": "[encoded data removed]",
      "text/plain": [
       "<Figure size 864x720 with 4 Axes>"
      ]
     },
     "metadata": {
      "needs_background": "light"
     },
     "output_type": "display_data"
    }
   ],
   "source": [
    "numeric_columns = ['any', 'num_mes', 'nombre_fets_o_infraccions', 'nombre_victimes']\n",
    "utils.plot_numeric_histograms(df_criminal, numeric_columns)"
   ]
  },
  {
   "cell_type": "markdown",
   "metadata": {},
   "source": [
    "Categorical Features Distributions Insights:\n",
    "\n",
    "<div class=\"alert alert-block alert-info\" style=\"color: #01579B; background-color: #E1F5FE; border-color: #01579B;\">\n",
    "\n",
    "+ **area_basica_policial**: \n",
    "    - Technical data cleaning improvements where the `Ciutat Vella` basic police area is inconsistently spelled in uppercase and lowercase → unify.\n",
    "    - Interestingly, `Eixample` and `Ciutat Vella` are the regions where hate crimes occur most frequently.\n",
    "    \n",
    "- **tipus_de_fet**: The majority of incidents are crimes, but the variable itself is redundant for our study → drop.\n",
    "- **ambit_fet**: Indicates the type of crime, with hate crimes based on LGTBI-fobia standing out significantly with a much higher ratio than others.\n",
    "- **canal_dels_fets**: Indicates whether incidents were reported through social channels or in person. Since our study focuses on street incidents in Barcelona, non-face-to-face criminal acts will not be considered.\n",
    "</div>"
   ]
  },
  {
   "cell_type": "code",
   "execution_count": 14,
   "metadata": {},
   "outputs": [
    {
     "data": {
      "image/png": "[encoded data removed]",
      "text/plain": [
       "<Figure size 648x720 with 4 Axes>"
      ]
     },
     "metadata": {
      "needs_background": "light"
     },
     "output_type": "display_data"
    }
   ],
   "source": [
    "# Categorical features \n",
    "categorical_columns = ['neighbourhood', 'tipus_de_fet', 'ambit_fet', 'canal_dels_fets']\n",
    "\n",
    "fig, axs = plt.subplots(2, 2, figsize=(9, 10))  \n",
    "axs = axs.flatten()  # Aplanar la matriz de subplots\n",
    "color_palette = ['skyblue', 'salmon', 'lightgreen', 'orange'] # Paleta de colores\n",
    "\n",
    "for i, column in enumerate(categorical_columns):\n",
    "    ax = axs[i]  \n",
    "    color = color_palette[i % len(color_palette)]  \n",
    "    utils.plot_categorical_distribution(df_criminal, column, ax, color)\n",
    "\n",
    "plt.tight_layout()\n",
    "plt.show()"
   ]
  },
  {
   "cell_type": "code",
   "execution_count": 15,
   "metadata": {
    "scrolled": true
   },
   "outputs": [
    {
     "name": "stdout",
     "output_type": "stream",
     "text": [
      "+--------------------+\n",
      "|           ambit_fet|\n",
      "+--------------------+\n",
      "|Discapacitat psíq...|\n",
      "|Discapacitat inte...|\n",
      "| Orientació política|\n",
      "|Ètnic/origen naci...|\n",
      "|             Sexisme|\n",
      "|Discapacitat físi...|\n",
      "|          Aporofòbia|\n",
      "|Discapacitat físi...|\n",
      "|         Islamofòbia|\n",
      "|Ètnia/origen naci...|\n",
      "|Etnic/origen naci...|\n",
      "|          Antisemita|\n",
      "|         LGTBI-fòbia|\n",
      "|       Antigitanisme|\n",
      "|Ètnic, origen nac...|\n",
      "|            Malaltia|\n",
      "|            Religiós|\n",
      "+--------------------+\n",
      "\n",
      "+--------------------+\n",
      "|           ambit_fet|\n",
      "+--------------------+\n",
      "|Ethnic/national/r...|\n",
      "|        Antisemitism|\n",
      "|        Islamophobia|\n",
      "|Intellectual disa...|\n",
      "|Political orienta...|\n",
      "|        LGBTI-phobia|\n",
      "|       Anti-gypsyism|\n",
      "|Psychological dis...|\n",
      "|         Aporophobia|\n",
      "|           Religious|\n",
      "|Physical/sensory ...|\n",
      "|             Illness|\n",
      "|              Sexism|\n",
      "+--------------------+\n",
      "\n"
     ]
    }
   ],
   "source": [
    "## Unify the col values in English for visualization\n",
    "df_criminal.select(\"ambit_fet\").distinct().show()\n",
    "\n",
    "value_translation = {\n",
    "    \"Discapacitat psíquica/mental\": \"Psychological disability\",\n",
    "    \"Discapacitat intel·lectual/mental\": \"Intellectual disability\",\n",
    "    \"Orientació política\": \"Political orientation\",\n",
    "    \"Ètnic/origen nacional/origen racial\": \"Ethnic/national/racial origin\",\n",
    "    \"Sexisme\": \"Sexism\",\n",
    "    \"Discapacitat física/sensorial\": \"Physical/sensory disability\",\n",
    "    \"Discapacitat físic/sensorial\": \"Physical/sensory disability\",    \n",
    "    \"Aporofòbia\": \"Aporophobia\",\n",
    "    \"Discapacitat física/sensorial\": \"Physical/sensory disability\",\n",
    "    \"Islamofòbia\": \"Islamophobia\",\n",
    "    \"Ètnia/origen nacional/origen racial\": \"Ethnic/national/racial origin\",\n",
    "    \"Etnic/origen nacional/origen racial\": \"Ethnic/national/racial origin\",\n",
    "    \"Antisemita\": \"Antisemitism\",\n",
    "    \"LGTBI-fòbia\": \"LGBTI-phobia\",\n",
    "    \"Antigitanisme\": \"Anti-gypsyism\",\n",
    "    \"Ètnic, origen nacional i/o racial\": \"Ethnic/national/racial origin\",\n",
    "    \"Malaltia\": \"Illness\",\n",
    "    \"Religiós\": \"Religious\"\n",
    "}\n",
    "\n",
    "for original, translated in value_translation.items():\n",
    "    df_criminal = df_criminal.withColumn(\"ambit_fet\", when(df_criminal[\"ambit_fet\"] == original, translated).otherwise(df_criminal[\"ambit_fet\"]))\n",
    "df_criminal.select(\"ambit_fet\").distinct().show()"
   ]
  },
  {
   "cell_type": "markdown",
   "metadata": {},
   "source": [
    "Categorical Data Cleaning\n",
    "\n",
    "+ canal_dels_fets: Take the ones that have happened presential. \n",
    "\n",
    "+  Word Cloud: \n",
    "    - **titol_de_fet_codi_penal**: Not relevant for visualizing the results for our study -- Legislative.\n",
    "+ **Tipus_de_codi_penal**: Requires preprocessing before the variable can be useful for the study.\n",
    "+ **Tipus_de_lloc_dels_fets**: It highlights that the majority of crimes occur in public places, also inside residential premises (apartments, houses), as well as in building entrances or public transport.\n",
    "\n"
   ]
  },
  {
   "cell_type": "code",
   "execution_count": 16,
   "metadata": {},
   "outputs": [],
   "source": [
    "# Replace Ciutat Vella uppercase\n",
    "df_criminal = df_criminal.withColumn(\"neighbourhood\", regexp_replace(df_criminal[\"neighbourhood\"], \"CIUTAT VELLA\", \"Ciutat Vella\"))"
   ]
  },
  {
   "cell_type": "code",
   "execution_count": 33,
   "metadata": {},
   "outputs": [
    {
     "ename": "ValueError",
     "evalue": "Only supported for TrueType fonts",
     "output_type": "error",
     "traceback": [
      "\u001b[0;31m---------------------------------------------------------------------------\u001b[0m",
      "\u001b[0;31mValueError\u001b[0m                                Traceback (most recent call last)",
      "\u001b[0;32m/var/folders/zw/r9ly271s6rq9xxqqj4ldc_740000gn/T/ipykernel_98546/3384852661.py\u001b[0m in \u001b[0;36m<module>\u001b[0;34m\u001b[0m\n\u001b[1;32m      8\u001b[0m \u001b[0;32mfor\u001b[0m \u001b[0mcolumn\u001b[0m\u001b[0;34m,\u001b[0m \u001b[0mtitle\u001b[0m \u001b[0;32min\u001b[0m \u001b[0mcolumns_and_titles\u001b[0m\u001b[0;34m.\u001b[0m\u001b[0mitems\u001b[0m\u001b[0;34m(\u001b[0m\u001b[0;34m)\u001b[0m\u001b[0;34m:\u001b[0m\u001b[0;34m\u001b[0m\u001b[0;34m\u001b[0m\u001b[0m\n\u001b[1;32m      9\u001b[0m     \u001b[0mvalues\u001b[0m \u001b[0;34m=\u001b[0m \u001b[0mdf_criminal\u001b[0m\u001b[0;34m.\u001b[0m\u001b[0mselect\u001b[0m\u001b[0;34m(\u001b[0m\u001b[0mcolumn\u001b[0m\u001b[0;34m)\u001b[0m\u001b[0;34m.\u001b[0m\u001b[0mrdd\u001b[0m\u001b[0;34m.\u001b[0m\u001b[0mflatMap\u001b[0m\u001b[0;34m(\u001b[0m\u001b[0;32mlambda\u001b[0m \u001b[0mx\u001b[0m\u001b[0;34m:\u001b[0m \u001b[0mx\u001b[0m\u001b[0;34m)\u001b[0m\u001b[0;34m.\u001b[0m\u001b[0mfilter\u001b[0m\u001b[0;34m(\u001b[0m\u001b[0;32mlambda\u001b[0m \u001b[0mx\u001b[0m\u001b[0;34m:\u001b[0m \u001b[0mx\u001b[0m \u001b[0;32mis\u001b[0m \u001b[0;32mnot\u001b[0m \u001b[0;32mNone\u001b[0m\u001b[0;34m)\u001b[0m\u001b[0;34m.\u001b[0m\u001b[0mcollect\u001b[0m\u001b[0;34m(\u001b[0m\u001b[0;34m)\u001b[0m\u001b[0;34m\u001b[0m\u001b[0;34m\u001b[0m\u001b[0m\n\u001b[0;32m---> 10\u001b[0;31m     \u001b[0mutils\u001b[0m\u001b[0;34m.\u001b[0m\u001b[0mgenerate_word_cloud\u001b[0m\u001b[0;34m(\u001b[0m\u001b[0mvalues\u001b[0m\u001b[0;34m,\u001b[0m \u001b[0mtitle\u001b[0m\u001b[0;34m)\u001b[0m\u001b[0;34m\u001b[0m\u001b[0;34m\u001b[0m\u001b[0m\n\u001b[0m",
      "\u001b[0;32m~/Desktop/en_curs/Semantic_Data_Management-AI/utils.py\u001b[0m in \u001b[0;36mgenerate_word_cloud\u001b[0;34m(values, title)\u001b[0m\n\u001b[1;32m     46\u001b[0m \u001b[0;32mdef\u001b[0m \u001b[0mgenerate_word_cloud\u001b[0m\u001b[0;34m(\u001b[0m\u001b[0mvalues\u001b[0m\u001b[0;34m,\u001b[0m \u001b[0mtitle\u001b[0m\u001b[0;34m)\u001b[0m\u001b[0;34m:\u001b[0m\u001b[0;34m\u001b[0m\u001b[0;34m\u001b[0m\u001b[0m\n\u001b[1;32m     47\u001b[0m     \u001b[0mtext\u001b[0m \u001b[0;34m=\u001b[0m \u001b[0;34m\" \"\u001b[0m\u001b[0;34m.\u001b[0m\u001b[0mjoin\u001b[0m\u001b[0;34m(\u001b[0m\u001b[0mvalue\u001b[0m\u001b[0;34m.\u001b[0m\u001b[0mlower\u001b[0m\u001b[0;34m(\u001b[0m\u001b[0;34m)\u001b[0m \u001b[0;32mfor\u001b[0m \u001b[0mvalue\u001b[0m \u001b[0;32min\u001b[0m \u001b[0mvalues\u001b[0m\u001b[0;34m)\u001b[0m \u001b[0;31m# Unifquem en minuscuels y sense accents x treure + insides\u001b[0m\u001b[0;34m\u001b[0m\u001b[0;34m\u001b[0m\u001b[0m\n\u001b[0;32m---> 48\u001b[0;31m     \u001b[0mwordcloud\u001b[0m \u001b[0;34m=\u001b[0m \u001b[0mWordCloud\u001b[0m\u001b[0;34m(\u001b[0m\u001b[0mwidth\u001b[0m\u001b[0;34m=\u001b[0m\u001b[0;36m800\u001b[0m\u001b[0;34m,\u001b[0m \u001b[0mheight\u001b[0m\u001b[0;34m=\u001b[0m\u001b[0;36m400\u001b[0m\u001b[0;34m,\u001b[0m \u001b[0mbackground_color\u001b[0m\u001b[0;34m=\u001b[0m\u001b[0;34m'white'\u001b[0m\u001b[0;34m)\u001b[0m\u001b[0;34m.\u001b[0m\u001b[0mgenerate\u001b[0m\u001b[0;34m(\u001b[0m\u001b[0mtext\u001b[0m\u001b[0;34m)\u001b[0m\u001b[0;34m\u001b[0m\u001b[0;34m\u001b[0m\u001b[0m\n\u001b[0m\u001b[1;32m     49\u001b[0m     \u001b[0mplt\u001b[0m\u001b[0;34m.\u001b[0m\u001b[0mfigure\u001b[0m\u001b[0;34m(\u001b[0m\u001b[0mfigsize\u001b[0m\u001b[0;34m=\u001b[0m\u001b[0;34m(\u001b[0m\u001b[0;36m10\u001b[0m\u001b[0;34m,\u001b[0m \u001b[0;36m6\u001b[0m\u001b[0;34m)\u001b[0m\u001b[0;34m)\u001b[0m\u001b[0;34m\u001b[0m\u001b[0;34m\u001b[0m\u001b[0m\n\u001b[1;32m     50\u001b[0m     \u001b[0mplt\u001b[0m\u001b[0;34m.\u001b[0m\u001b[0mimshow\u001b[0m\u001b[0;34m(\u001b[0m\u001b[0mwordcloud\u001b[0m\u001b[0;34m,\u001b[0m \u001b[0minterpolation\u001b[0m\u001b[0;34m=\u001b[0m\u001b[0;34m'bilinear'\u001b[0m\u001b[0;34m)\u001b[0m\u001b[0;34m\u001b[0m\u001b[0;34m\u001b[0m\u001b[0m\n",
      "\u001b[0;32m/Library/Frameworks/Python.framework/Versions/3.9/lib/python3.9/site-packages/wordcloud/wordcloud.py\u001b[0m in \u001b[0;36mgenerate\u001b[0;34m(self, text)\u001b[0m\n\u001b[1;32m    640\u001b[0m         \u001b[0mself\u001b[0m\u001b[0;34m\u001b[0m\u001b[0;34m\u001b[0m\u001b[0m\n\u001b[1;32m    641\u001b[0m         \"\"\"\n\u001b[0;32m--> 642\u001b[0;31m         \u001b[0;32mreturn\u001b[0m \u001b[0mself\u001b[0m\u001b[0;34m.\u001b[0m\u001b[0mgenerate_from_text\u001b[0m\u001b[0;34m(\u001b[0m\u001b[0mtext\u001b[0m\u001b[0;34m)\u001b[0m\u001b[0;34m\u001b[0m\u001b[0;34m\u001b[0m\u001b[0m\n\u001b[0m\u001b[1;32m    643\u001b[0m \u001b[0;34m\u001b[0m\u001b[0m\n\u001b[1;32m    644\u001b[0m     \u001b[0;32mdef\u001b[0m \u001b[0m_check_generated\u001b[0m\u001b[0;34m(\u001b[0m\u001b[0mself\u001b[0m\u001b[0;34m)\u001b[0m\u001b[0;34m:\u001b[0m\u001b[0;34m\u001b[0m\u001b[0;34m\u001b[0m\u001b[0m\n",
      "\u001b[0;32m/Library/Frameworks/Python.framework/Versions/3.9/lib/python3.9/site-packages/wordcloud/wordcloud.py\u001b[0m in \u001b[0;36mgenerate_from_text\u001b[0;34m(self, text)\u001b[0m\n\u001b[1;32m    622\u001b[0m         \"\"\"\n\u001b[1;32m    623\u001b[0m         \u001b[0mwords\u001b[0m \u001b[0;34m=\u001b[0m \u001b[0mself\u001b[0m\u001b[0;34m.\u001b[0m\u001b[0mprocess_text\u001b[0m\u001b[0;34m(\u001b[0m\u001b[0mtext\u001b[0m\u001b[0;34m)\u001b[0m\u001b[0;34m\u001b[0m\u001b[0;34m\u001b[0m\u001b[0m\n\u001b[0;32m--> 624\u001b[0;31m         \u001b[0mself\u001b[0m\u001b[0;34m.\u001b[0m\u001b[0mgenerate_from_frequencies\u001b[0m\u001b[0;34m(\u001b[0m\u001b[0mwords\u001b[0m\u001b[0;34m)\u001b[0m\u001b[0;34m\u001b[0m\u001b[0;34m\u001b[0m\u001b[0m\n\u001b[0m\u001b[1;32m    625\u001b[0m         \u001b[0;32mreturn\u001b[0m \u001b[0mself\u001b[0m\u001b[0;34m\u001b[0m\u001b[0;34m\u001b[0m\u001b[0m\n\u001b[1;32m    626\u001b[0m \u001b[0;34m\u001b[0m\u001b[0m\n",
      "\u001b[0;32m/Library/Frameworks/Python.framework/Versions/3.9/lib/python3.9/site-packages/wordcloud/wordcloud.py\u001b[0m in \u001b[0;36mgenerate_from_frequencies\u001b[0;34m(self, frequencies, max_font_size)\u001b[0m\n\u001b[1;32m    451\u001b[0m                 \u001b[0mfont_size\u001b[0m \u001b[0;34m=\u001b[0m \u001b[0mself\u001b[0m\u001b[0;34m.\u001b[0m\u001b[0mheight\u001b[0m\u001b[0;34m\u001b[0m\u001b[0;34m\u001b[0m\u001b[0m\n\u001b[1;32m    452\u001b[0m             \u001b[0;32melse\u001b[0m\u001b[0;34m:\u001b[0m\u001b[0;34m\u001b[0m\u001b[0;34m\u001b[0m\u001b[0m\n\u001b[0;32m--> 453\u001b[0;31m                 self.generate_from_frequencies(dict(frequencies[:2]),\n\u001b[0m\u001b[1;32m    454\u001b[0m                                                max_font_size=self.height)\n\u001b[1;32m    455\u001b[0m                 \u001b[0;31m# find font sizes\u001b[0m\u001b[0;34m\u001b[0m\u001b[0;34m\u001b[0m\u001b[0m\n",
      "\u001b[0;32m/Library/Frameworks/Python.framework/Versions/3.9/lib/python3.9/site-packages/wordcloud/wordcloud.py\u001b[0m in \u001b[0;36mgenerate_from_frequencies\u001b[0;34m(self, frequencies, max_font_size)\u001b[0m\n\u001b[1;32m    509\u001b[0m                     font, orientation=orientation)\n\u001b[1;32m    510\u001b[0m                 \u001b[0;31m# get size of resulting text\u001b[0m\u001b[0;34m\u001b[0m\u001b[0;34m\u001b[0m\u001b[0m\n\u001b[0;32m--> 511\u001b[0;31m                 \u001b[0mbox_size\u001b[0m \u001b[0;34m=\u001b[0m \u001b[0mdraw\u001b[0m\u001b[0;34m.\u001b[0m\u001b[0mtextbbox\u001b[0m\u001b[0;34m(\u001b[0m\u001b[0;34m(\u001b[0m\u001b[0;36m0\u001b[0m\u001b[0;34m,\u001b[0m \u001b[0;36m0\u001b[0m\u001b[0;34m)\u001b[0m\u001b[0;34m,\u001b[0m \u001b[0mword\u001b[0m\u001b[0;34m,\u001b[0m \u001b[0mfont\u001b[0m\u001b[0;34m=\u001b[0m\u001b[0mtransposed_font\u001b[0m\u001b[0;34m,\u001b[0m \u001b[0manchor\u001b[0m\u001b[0;34m=\u001b[0m\u001b[0;34m\"lt\"\u001b[0m\u001b[0;34m)\u001b[0m\u001b[0;34m\u001b[0m\u001b[0;34m\u001b[0m\u001b[0m\n\u001b[0m\u001b[1;32m    512\u001b[0m                 \u001b[0;31m# find possible places using integral image:\u001b[0m\u001b[0;34m\u001b[0m\u001b[0;34m\u001b[0m\u001b[0m\n\u001b[1;32m    513\u001b[0m                 result = occupancy.sample_position(box_size[3] + self.margin,\n",
      "\u001b[0;32m/Library/Frameworks/Python.framework/Versions/3.9/lib/python3.9/site-packages/PIL/ImageDraw.py\u001b[0m in \u001b[0;36mtextbbox\u001b[0;34m(self, xy, text, font, anchor, spacing, align, direction, features, language, stroke_width, embedded_color)\u001b[0m\n\u001b[1;32m    669\u001b[0m             \u001b[0mfont\u001b[0m \u001b[0;34m=\u001b[0m \u001b[0mself\u001b[0m\u001b[0;34m.\u001b[0m\u001b[0mgetfont\u001b[0m\u001b[0;34m(\u001b[0m\u001b[0;34m)\u001b[0m\u001b[0;34m\u001b[0m\u001b[0;34m\u001b[0m\u001b[0m\n\u001b[1;32m    670\u001b[0m         \u001b[0;32mif\u001b[0m \u001b[0;32mnot\u001b[0m \u001b[0misinstance\u001b[0m\u001b[0;34m(\u001b[0m\u001b[0mfont\u001b[0m\u001b[0;34m,\u001b[0m \u001b[0mImageFont\u001b[0m\u001b[0;34m.\u001b[0m\u001b[0mFreeTypeFont\u001b[0m\u001b[0;34m)\u001b[0m\u001b[0;34m:\u001b[0m\u001b[0;34m\u001b[0m\u001b[0;34m\u001b[0m\u001b[0m\n\u001b[0;32m--> 671\u001b[0;31m             \u001b[0;32mraise\u001b[0m \u001b[0mValueError\u001b[0m\u001b[0;34m(\u001b[0m\u001b[0;34m\"Only supported for TrueType fonts\"\u001b[0m\u001b[0;34m)\u001b[0m\u001b[0;34m\u001b[0m\u001b[0;34m\u001b[0m\u001b[0m\n\u001b[0m\u001b[1;32m    672\u001b[0m         \u001b[0mmode\u001b[0m \u001b[0;34m=\u001b[0m \u001b[0;34m\"RGBA\"\u001b[0m \u001b[0;32mif\u001b[0m \u001b[0membedded_color\u001b[0m \u001b[0;32melse\u001b[0m \u001b[0mself\u001b[0m\u001b[0;34m.\u001b[0m\u001b[0mfontmode\u001b[0m\u001b[0;34m\u001b[0m\u001b[0;34m\u001b[0m\u001b[0m\n\u001b[1;32m    673\u001b[0m         bbox = font.getbbox(\n",
      "\u001b[0;31mValueError\u001b[0m: Only supported for TrueType fonts"
     ]
    }
   ],
   "source": [
    "# Textual cols\n",
    "columns_and_titles = {\n",
    "    \"tipus_de_fet_codi_penal\": \"Word Cloud for tipus_de_fet_codi_penal\",\n",
    "    \"titol_del_fet_codi_penal\": \"Word Cloud for titol_del_fet_codi_penal\",\n",
    "    \"tipus_de_lloc_dels_fets\": \"Word Cloud for tipus_de_lloc_dels_fets\"\n",
    "}\n",
    "\n",
    "for column, title in columns_and_titles.items():\n",
    "    values = df_criminal.select(column).rdd.flatMap(lambda x: x).filter(lambda x: x is not None).collect()\n",
    "    utils.generate_word_cloud(values, title)"
   ]
  },
  {
   "cell_type": "code",
   "execution_count": 26,
   "metadata": {},
   "outputs": [
    {
     "data": {
      "text/plain": [
       "[None]"
      ]
     },
     "execution_count": 26,
     "metadata": {},
     "output_type": "execute_result"
    }
   ],
   "source": [
    "# Preprocessing --> tipus_de_lloc_dels_fets\n",
    "tipus_de_lloc_dels_fets_values = df_criminal.select(\"tipus_de_lloc_dels_fets\").rdd.flatMap(lambda x: x).filter(lambda x: x is  None).collect()\n",
    "tipus_de_lloc_dels_fets_values # Nomes hi ha un none drop la mostra"
   ]
  },
  {
   "cell_type": "code",
   "execution_count": 27,
   "metadata": {},
   "outputs": [],
   "source": [
    "df_criminal = df_criminal.filter(df_criminal.tipus_de_lloc_dels_fets.isNotNull())"
   ]
  },
  {
   "cell_type": "code",
   "execution_count": 28,
   "metadata": {},
   "outputs": [
    {
     "name": "stdout",
     "output_type": "stream",
     "text": [
      "root\n",
      " |-- any: decimal(20,0) (nullable = true)\n",
      " |-- num_mes: decimal(20,0) (nullable = true)\n",
      " |-- nom_mes: string (nullable = true)\n",
      " |-- regio_policial: string (nullable = true)\n",
      " |-- neighbourhood: string (nullable = true)\n",
      " |-- provincia: string (nullable = true)\n",
      " |-- comarca: string (nullable = true)\n",
      " |-- municipi: string (nullable = true)\n",
      " |-- tipus_de_lloc_dels_fets: string (nullable = true)\n",
      " |-- canal_dels_fets: string (nullable = true)\n",
      " |-- tipus_de_fet: string (nullable = true)\n",
      " |-- titol_del_fet_codi_penal: string (nullable = true)\n",
      " |-- tipus_de_fet_codi_penal: string (nullable = true)\n",
      " |-- ambit_fet: string (nullable = true)\n",
      " |-- nombre_fets_o_infraccions: decimal(20,0) (nullable = true)\n",
      " |-- nombre_victimes: double (nullable = true)\n",
      "\n"
     ]
    },
    {
     "data": {
      "text/html": [
       "<div>\n",
       "<style scoped>\n",
       "    .dataframe tbody tr th:only-of-type {\n",
       "        vertical-align: middle;\n",
       "    }\n",
       "\n",
       "    .dataframe tbody tr th {\n",
       "        vertical-align: top;\n",
       "    }\n",
       "\n",
       "    .dataframe thead th {\n",
       "        text-align: right;\n",
       "    }\n",
       "</style>\n",
       "<table border=\"1\" class=\"dataframe\">\n",
       "  <thead>\n",
       "    <tr style=\"text-align: right;\">\n",
       "      <th></th>\n",
       "      <th>any</th>\n",
       "      <th>num_mes</th>\n",
       "      <th>nom_mes</th>\n",
       "      <th>regio_policial</th>\n",
       "      <th>neighbourhood</th>\n",
       "      <th>provincia</th>\n",
       "      <th>comarca</th>\n",
       "      <th>municipi</th>\n",
       "      <th>tipus_de_lloc_dels_fets</th>\n",
       "      <th>canal_dels_fets</th>\n",
       "      <th>tipus_de_fet</th>\n",
       "      <th>titol_del_fet_codi_penal</th>\n",
       "      <th>tipus_de_fet_codi_penal</th>\n",
       "      <th>ambit_fet</th>\n",
       "      <th>nombre_fets_o_infraccions</th>\n",
       "      <th>nombre_victimes</th>\n",
       "    </tr>\n",
       "  </thead>\n",
       "  <tbody>\n",
       "    <tr>\n",
       "      <th>0</th>\n",
       "      <td>2021</td>\n",
       "      <td>6</td>\n",
       "      <td>Juny</td>\n",
       "      <td>RP Metropolitana Barcelona</td>\n",
       "      <td>Nou Barris</td>\n",
       "      <td>Barcelona</td>\n",
       "      <td>Barcelonès</td>\n",
       "      <td>Barcelona</td>\n",
       "      <td>Via pública urbana</td>\n",
       "      <td>Presencial</td>\n",
       "      <td>Delictes</td>\n",
       "      <td>Delictes contra la llibertat</td>\n",
       "      <td>Amenaces</td>\n",
       "      <td>Political orientation</td>\n",
       "      <td>1</td>\n",
       "      <td>1.0</td>\n",
       "    </tr>\n",
       "  </tbody>\n",
       "</table>\n",
       "</div>"
      ],
      "text/plain": [
       "    any num_mes nom_mes              regio_policial neighbourhood  provincia  \\\n",
       "0  2021       6    Juny  RP Metropolitana Barcelona    Nou Barris  Barcelona   \n",
       "\n",
       "      comarca   municipi tipus_de_lloc_dels_fets canal_dels_fets tipus_de_fet  \\\n",
       "0  Barcelonès  Barcelona      Via pública urbana      Presencial     Delictes   \n",
       "\n",
       "       titol_del_fet_codi_penal tipus_de_fet_codi_penal  \\\n",
       "0  Delictes contra la llibertat                Amenaces   \n",
       "\n",
       "               ambit_fet nombre_fets_o_infraccions  nombre_victimes  \n",
       "0  Political orientation                         1              1.0  "
      ]
     },
     "execution_count": 28,
     "metadata": {},
     "output_type": "execute_result"
    }
   ],
   "source": [
    "# ----------------- Final Schema and instance example -----------------\n",
    "df_criminal.printSchema()\n",
    "df_criminal.limit(1).toPandas() "
   ]
  },
  {
   "cell_type": "markdown",
   "metadata": {},
   "source": [
    "<div style=\"background-color:#F2F2F2; padding: 10px;\">\n",
    "    <div style=\"text-align: center;\">\n",
    "        <span style=\"font-family: 'Playfair Display', serif; font-size: 20px; font-weight: bold; color: black;\">\n",
    "            Airbnb Dataset\n",
    "        </span>\n",
    "    </div>\n",
    "</div>\n",
    "\n",
    "#### DataFrame Schema\n",
    "\n",
    "<div class=\"alert alert-block alert-info\" style=\"color: #01571B; background-color: #C8E5C6;\">\n",
    "    \n",
    "The DataFrame comprises various groups of columns, each providing distinct details related to property listings:\n",
    "\n",
    "- The DataFrame has **9999 rows** and **54 columns**.\n",
    "\n",
    "**Property Information:**\n",
    "- **name:** A string indicating the name of the property.\n",
    "- **summary:** A string providing a brief overview of the property.\n",
    "- **space:** A string describing the available space within the property.\n",
    "- **neighborhood_overview:** A string offering insights into the neighborhood surrounding the property.\n",
    "- **notes:** Additional notes or remarks about the property.\n",
    "\n",
    "**Host Information:**\n",
    "- **host_id:** An identifier for the host of the property.\n",
    "- **host_name:** The name of the host.\n",
    "- **host_since:** The date when the host joined the platform.\n",
    "- **host_location:** The location of the host.\n",
    "- **host_about:** Information or description about the host.\n",
    "\n",
    "**Host Response Details:**\n",
    "- **host_response_time:** The typical response time of the host.\n",
    "- **host_response_rate:** The rate of responses from the host, represented as a double.\n",
    "- **host_verifications:** Methods used to verify the host's identity.\n",
    "\n",
    "**Location Details:**\n",
    "- **street:** The street address of the property.\n",
    "- **neighbourhood:** The name of the neighborhood where the property is located.\n",
    "- **latitude:** The latitude coordinate of the property.\n",
    "- **longitude:** The longitude coordinate of the property.\n",
    "\n",
    "**Property Details:**\n",
    "- **property_type:** The type or category of the property.\n",
    "- **room_type:** The type of room available in the property (e.g., entire home, private room, shared room).\n",
    "- **accommodates:** The maximum number of guests the property can accommodate, represented as a decimal.\n",
    "- **bathrooms:** The number of bathrooms in the property, represented as a double.\n",
    "- **bedrooms:** The number of bedrooms in the property, represented as a double.\n",
    "- **beds:** The number of beds available in the property, represented as a double.\n",
    "- **bed_type:** The type of bed(s) available in the property.\n",
    "</div>\n",
    "\n",
    "\n",
    "Remove Redundant Columns:\n",
    "\n",
    "These following columns are being removed due to their limited relevance in predicting Airbnb rental prices, as they either provide redundant information:\n",
    "\n",
    "- neighbourhood: The neighborhood is being removed due to redundancy with Latitude and Longitude.\n",
    "- Name: Name does not provide relevant information.\n",
    "- summary, space, neighborhood_overview, notes, access, interaction, house_rules: These attributes are subjective and difficult to quantify, making them unsuitable as predictors of rental price.\n",
    "- host_id, host_name, host_since, host_location, host_about, host_response_time, host_response_rate, host_verifications: Host information does not directly influence rental price.\n",
    "street: The specific property address is not a direct predictor of rental price.\n",
    "weekly_price, monthly_price, minimum_nights, maximum_nights, availability_30, availability_60, availability_90, availability_365, number_of_reviews, review_scores_rating, review_scores_accuracy, review_scores_cleanliness, review_scores_checkin, review_scores_communication, review_scores_value, reviews_per_month: These attributes are not relevant for predicting rental price or are difficult to quantify.\n",
    "- features, id: They do not provide relevant information for predicting rental price.\n"
   ]
  },
  {
   "cell_type": "code",
   "execution_count": null,
   "metadata": {},
   "outputs": [],
   "source": [
    "df_airbnb = spark.read \\\n",
    "  .format(\"jdbc\") \\\n",
    "  .option(\"url\", jdbc_url) \\\n",
    "  .option(\"driver\", driver) \\\n",
    "  .option(\"query\", \"SELECT * FROM df_airbnb_listings\") \\\n",
    "  .load()\n",
    "\n",
    "df_airbnb.limit(1).toPandas()"
   ]
  },
  {
   "cell_type": "code",
   "execution_count": null,
   "metadata": {},
   "outputs": [],
   "source": [
    "columns_to_drop = [ 'neighbourhood', \"Name\", \"summary\", \"space\", 'neighborhood_overview', 'notes', 'access', 'interaction', 'house_rules', 'host_id', 'host_name', 'host_since', \n",
    "                   'host_location', 'host_about', 'host_response_time', 'host_response_rate', 'host_verifications', 'street', 'weekly_price', 'monthly_price', 'minimum_nights', \n",
    "                   'maximum_nights', 'availability_30', 'availability_60', 'availability_90', 'availability_365', 'number_of_reviews', 'review_scores_rating', 'review_scores_accuracy', \n",
    "                   'review_scores_cleanliness', 'review_scores_checkin', 'review_scores_communication', 'reviews_per_month', 'features', 'id', \"listing_url\", \n",
    "                   \"Description\", \"experiences_offered\", \"scrape_id\", \"last_scraped\", \"jurisdiction_names\", \"thumbnail_url\", \"host_acceptance_rate\", \"host_thumbnail_url\",\n",
    "                   \"host_picture_url\", \"xl_picture_url\",\"picture_url\", \"host_thumbnail_url\", \"host_neighbourhood\", \"host_url\", \"medium_url\", \"host_listings_count\", \"host_total_listings_count\", \n",
    "                   \"__index_level_0__\", \"state\", \"license\", \"calendar_last_scraped\", \"calculated_host_listings_count\", \"first_review\", \"last_review\", \"has_availability\", \"calendar_updated\"]\n",
    "\n",
    "df_airbnb = df_airbnb.drop(*columns_to_drop)\n",
    "df_airbnb.limit(1).toPandas()"
   ]
  },
  {
   "cell_type": "markdown",
   "metadata": {},
   "source": [
    "Location Features Unification\n",
    "\n",
    "<div class=\"alert alert-block alert-warning\" style=\"color: #FFB300; background-color: #FFF9C4;\">\n",
    "All the apartments are located in Barcelona. \n",
    "\n",
    "- Remove the redundant cols in location stage that are the same: `['market', \"city\", \"smart_location\", \"country\", \"country_code\", \"zipcode\", ]\n",
    "    \n",
    "    - `Market`: Remove the ones that are not in Barcelona.\n",
    "    - `Country` and `City`: Remove because they are the same. \n",
    "    - `Zip Code`: Redundance because it is the same as Geolocation data. \n",
    "    - `geolocation.lon`, `geolocation.lat`: Remove because has same information than `Latitud`, `Longitud`.\n",
    "        - Are the same values?  Relation data `neighbourhood` features & `criminal_dataset`\n",
    "    - `neighbourhood_cleansed`: Remove because has same informatin as `Latitud`, `Longitud`.\n",
    "    - `neighbourhood_group_cleansed`: Keep in order to match with criminal dataset. Change name to `neighbourhood`.\n",
    "</div>"
   ]
  },
  {
   "cell_type": "code",
   "execution_count": null,
   "metadata": {},
   "outputs": [],
   "source": [
    "# Remove instances market is not Barcelona\n",
    "df_airbnb.select(\"market\").distinct().show()\n",
    "df_airbnb = df_airbnb.filter(df_airbnb['market'] == 'Barcelona')"
   ]
  },
  {
   "cell_type": "code",
   "execution_count": null,
   "metadata": {},
   "outputs": [],
   "source": [
    "df_airbnb.select(\"city\").distinct().show()\n",
    "df_airbnb.select(\"smart_location\").distinct().show()\n",
    "df_airbnb.select(\"country\").distinct().show()\n",
    "df_airbnb.select(\"country_code\").distinct().show()\n",
    "\n",
    "columns_to_drop = [\"city\", \"zipcode\", \"smart_location\", \"country\", \"country_code\", \"market\", 'neighbourhood_cleansed']\n",
    "df_airbnb = df_airbnb.drop(*columns_to_drop)"
   ]
  },
  {
   "cell_type": "code",
   "execution_count": null,
   "metadata": {},
   "outputs": [],
   "source": [
    "# Location change name -- solving text issues\n",
    "df_airbnb = df_airbnb.withColumnRenamed('neighbourhood_group_cleansed', 'neighbourhood')\n",
    "column_mapping = dict(zip(df_airbnb.columns[-2:], [\"geolocation_lon\", \"geolocation_lat\"]))\n",
    "\n",
    "for old_name, new_name in column_mapping.items():\n",
    "    df_airbnb = df_airbnb.withColumnRenamed(old_name, new_name)\n",
    "\n",
    "location = df_airbnb.select(\"geolocation_lon\", \"geolocation_lat\", \"latitude\", \"longitude\").limit(5)\n",
    "location.show()\n",
    "\n",
    "# Same values -- Drop geolocation_lon and geolocation_lon\n",
    "columns_to_drop = [\"geolocation_lon\", \"geolocation_lat\"]\n",
    "df_airbnb = df_airbnb.drop(*columns_to_drop)"
   ]
  },
  {
   "cell_type": "markdown",
   "metadata": {},
   "source": [
    "NULL Values \n",
    "\n",
    "<div class=\"alert alert-block alert-warning\" style=\"color: #C23B22; background-color: #f8c3c0;\">\n",
    "\n",
    "- `square_feet`: Remove because has a wide range of Null values.\n",
    "- `security deposit` & `cleaning_fee`: Replace the NULL to 0 (assumed that there are 0).\n",
    "- `review_scores_location`: Replace Null Values with \n",
    "</div>\n"
   ]
  },
  {
   "cell_type": "code",
   "execution_count": null,
   "metadata": {},
   "outputs": [],
   "source": [
    "nan_counts = df_airbnb.select([count(when(isnan(c) | col(c).isNull(), c)).alias(c) for c in df_airbnb.columns])\n",
    "total_nan_count = sum(nan_counts.collect()[0])\n",
    "nan_counts.toPandas()"
   ]
  },
  {
   "cell_type": "code",
   "execution_count": null,
   "metadata": {},
   "outputs": [],
   "source": [
    "# Data Cleaning for NULL values\n",
    "df_airbnb = df_airbnb.drop('square_feet')\n",
    "df_airbnb = df_airbnb.drop('transit')\n",
    "df_airbnb = df_airbnb.fillna({'security_deposit': 0})\n",
    "df_airbnb = df_airbnb.fillna({'cleaning_fee': 0})"
   ]
  },
  {
   "cell_type": "code",
   "execution_count": null,
   "metadata": {},
   "outputs": [],
   "source": [
    "# Replacing missing values in review score location with review_scores_value\n",
    "df_airbnb = df_airbnb.withColumn('review_scores_location', when(col('review_scores_location').isNull(), col(\"review_scores_value\")).otherwise(col('review_scores_location')))\n",
    "df_airbnb = df_airbnb.withColumn('review_scores_location', when(col('review_scores_location').isNull(), 0))\n",
    "df_airbnb = df_airbnb.drop('review_scores_value')"
   ]
  },
  {
   "cell_type": "code",
   "execution_count": null,
   "metadata": {},
   "outputs": [],
   "source": [
    "# Checking again the NULL values\n",
    "nan_counts = df_airbnb.select([count(when(isnan(c) | col(c).isNull(), c)).alias(c) for c in df_airbnb.columns])\n",
    "total_nan_count = sum(nan_counts.collect()[0])\n",
    "nan_counts.toPandas()"
   ]
  },
  {
   "cell_type": "code",
   "execution_count": null,
   "metadata": {},
   "outputs": [],
   "source": [
    "df_airbnb = df_airbnb.drop('review_scores_location')"
   ]
  },
  {
   "cell_type": "markdown",
   "metadata": {},
   "source": [
    "<div class=\"alert alert-block alert-warning\" style=\"color: #C23B22; background-color: #f8c3c0;\">\n",
    "\n",
    "- **Majority of NULLs resolved**\n",
    "- `bedrooms` (9 samples) and `beds` (16 samples): Manual handling required.\n",
    "- `price` (7 samples): Manual handling required.\n",
    "</div>"
   ]
  },
  {
   "cell_type": "code",
   "execution_count": null,
   "metadata": {},
   "outputs": [],
   "source": [
    "df_airbnb = df_airbnb.filter(col(\"price\").isNotNull()) # Not extract information from other columns"
   ]
  },
  {
   "cell_type": "markdown",
   "metadata": {},
   "source": [
    "Handling Missing Values of `bathrooms`, `bedrooms` y `beds`\n",
    "\n",
    "<div class=\"alert alert-block alert-info\" style=\"color: #01571B; background-color: #C8E5C6;\">\n",
    "    \n",
    "+ Manual Processing for each feature looking to other values.\n",
    "</div>"
   ]
  },
  {
   "cell_type": "code",
   "execution_count": null,
   "metadata": {},
   "outputs": [],
   "source": [
    "df_airbnb = df_airbnb.withColumn(\"id\", monotonically_increasing_id())"
   ]
  },
  {
   "cell_type": "markdown",
   "metadata": {},
   "source": [
    "`bedrooms`"
   ]
  },
  {
   "cell_type": "code",
   "execution_count": null,
   "metadata": {},
   "outputs": [],
   "source": [
    "null_prices = df_airbnb.filter(df_airbnb['bedrooms'].isNull())\n",
    "#null_prices.toPandas().iloc[0] # Beedrooms --> 1 --> id: 340\n",
    "#null_prices.toPandas().iloc[1] # Beedrooms --> 1, bed --> 1 --> id:8589934645\n",
    "#null_prices.toPandas().iloc[2] # Beedrooms --> 1, bed --> 2 ---> id:8589935428\n",
    "#null_prices.toPandas().iloc[3] # Beedrooms --> 1, bed --> 1 ---> id:17179869227\n",
    "#null_prices.toPandas().iloc[4] # Beedrooms --> 3, id:25769804406\n",
    "#null_prices.toPandas().iloc[5] # Beedrooms --> 1, id:17179869830\n",
    "#null_prices.toPandas().iloc[6] # Beedrooms --> 1, bed --> 1, id:34359739217\n",
    "#null_prices.toPandas().iloc[7] # Beedrooms --> 1 --> id:42949673002"
   ]
  },
  {
   "cell_type": "markdown",
   "metadata": {},
   "source": [
    "`beds`"
   ]
  },
  {
   "cell_type": "code",
   "execution_count": null,
   "metadata": {},
   "outputs": [],
   "source": [
    "null_beds = df_airbnb.filter(df_airbnb['beds'].isNull())\n",
    "#null_beds.toPandas().iloc[0] # bed --> 1 id: 468\n",
    "#null_beds.toPandas().iloc[1] # bed --> 1 id: 8589935377\n",
    "#null_beds.toPandas().iloc[2] # bed --> 1 id: 17179869602\n",
    "#null_beds.toPandas().iloc[3] # bed --> 1, bathroom --> 1  id: 25769804176\n",
    "#null_beds.toPandas().iloc[4] # bed --> 1, bathroom --> 1  id: 34359738631\n",
    "#null_beds.toPandas().iloc[5] # bed --> 3, bathroom --> 2  id: 34359738928\n",
    "#null_beds.toPandas().iloc[6] # bed --> 1  id: 42949673153\n",
    "#null_beds.toPandas().iloc[7] # bed --> 1  id: 42949673810\n",
    "#null_beds.toPandas().iloc[8] # bed --> 1  id: 51539608080\n",
    "#null_beds.toPandas().iloc[9] # bed --> 1  id: 51539608320"
   ]
  },
  {
   "cell_type": "markdown",
   "metadata": {},
   "source": [
    "`bathrooms`"
   ]
  },
  {
   "cell_type": "code",
   "execution_count": null,
   "metadata": {},
   "outputs": [],
   "source": [
    "null_bathrooms = df_airbnb.filter(df_airbnb['bathrooms'].isNull())\n",
    "#null_bathrooms.toPandas().iloc[0] # bathrooms --> 2 id:149\n",
    "#null_bathrooms.toPandas().iloc[1] # bathrooms --> 1 id:17179869331\n",
    "#null_bathrooms.toPandas().iloc[2] # bathrooms --> 1 id:25769804030\n",
    "#null_bathrooms.toPandas().iloc[3] # bathrooms --> 1 id:42949673312\n",
    "#null_bathrooms.toPandas().iloc[4] # bathrooms --> 1 id:51539607636\n",
    "#null_bathrooms.toPandas().iloc[5] # bathrooms --> 1 id:51539607684\n",
    "#null_bathrooms.toPandas().iloc[6] # bathrooms --> 3 id:51539607896\n",
    "#null_bathrooms.toPandas().iloc[7] # bathrooms --> 1 id:60129542275"
   ]
  },
  {
   "cell_type": "code",
   "execution_count": null,
   "metadata": {},
   "outputs": [],
   "source": [
    "ids_and_values = [\n",
    "    (340, {\"bedrooms\": 1}),\n",
    "    (8589934645, {\"bedrooms\": 1, \"beds\": 1}),\n",
    "    (8589935428, {\"bedrooms\": 1, \"beds\": 2}),\n",
    "    (17179869227, {\"bedrooms\": 1, \"beds\": 1}),\n",
    "    (25769804406, {\"bedrooms\": 3}),\n",
    "    (17179869830, {\"bedrooms\": 1}),\n",
    "    (34359739217, {\"bedrooms\": 1, \"beds\": 1}),\n",
    "    (42949673002, {\"bedrooms\": 1}),\n",
    "    (468, {\"beds\": 1}),\n",
    "    (8589935377, {\"beds\": 1}),\n",
    "    (17179869602, {\"beds\": 1}),\n",
    "    (25769804176, {\"beds\": 1, \"bathrooms\": 1}),\n",
    "    (34359738631, {\"beds\": 1, \"bathrooms\": 1}),\n",
    "    (34359738928, {\"beds\": 3, \"bathrooms\": 2}),\n",
    "    (42949673153, {\"beds\": 1}),\n",
    "    (42949673810, {\"beds\": 1}),\n",
    "    (51539608080, {\"beds\": 1}),\n",
    "    (51539608320, {\"beds\": 1}),\n",
    "    (149, {\"bathrooms\": 2}),\n",
    "    (17179869331, {\"bathrooms\": 1}),\n",
    "    (25769804030, {\"bathrooms\": 1}),\n",
    "    (42949673312, {\"bathrooms\": 1}),\n",
    "    (51539607636, {\"bathrooms\": 1}),\n",
    "    (51539607684, {\"bathrooms\": 1}),\n",
    "    (51539607896, {\"bathrooms\": 3}),\n",
    "    (60129542275, {\"bathrooms\": 1})\n",
    "]\n",
    "\n",
    "for id, values in ids_and_values:\n",
    "    if \"bedrooms\" in values:\n",
    "        df_airbnb = df_airbnb.withColumn(\"bedrooms\", when(df_airbnb[\"id\"] == id, values[\"bedrooms\"]).otherwise(df_airbnb[\"bedrooms\"]))\n",
    "    if \"beds\" in values:\n",
    "        df_airbnb = df_airbnb.withColumn(\"beds\", when(df_airbnb[\"id\"] == id, values.get(\"beds\", df_airbnb[\"beds\"])).otherwise(df_airbnb[\"beds\"]))\n",
    "    if \"bathrooms\" in values:\n",
    "        df_airbnb = df_airbnb.withColumn(\"bathrooms\", when(df_airbnb[\"id\"] == id, values.get(\"bathrooms\", df_airbnb[\"bathrooms\"])).otherwise(df_airbnb[\"bathrooms\"]))"
   ]
  },
  {
   "cell_type": "code",
   "execution_count": null,
   "metadata": {},
   "outputs": [],
   "source": [
    "# Checking again the NULL values\n",
    "nan_counts = df_airbnb.select([count(when(isnan(c) | col(c).isNull(), c)).alias(c) for c in df_airbnb.columns])\n",
    "total_nan_count = sum(nan_counts.collect()[0])\n",
    "nan_counts.toPandas()\n"
   ]
  },
  {
   "cell_type": "code",
   "execution_count": null,
   "metadata": {},
   "outputs": [],
   "source": [
    "df_airbnb = df_airbnb.withColumn('bathrooms', when(col('bathrooms').isNull(), 1).otherwise(col('bathrooms')))\n",
    "df_airbnb = df_airbnb.withColumn('bedrooms', when(col('bedrooms').isNull(), 1).otherwise(col('bedrooms')))\n",
    "df_airbnb = df_airbnb.withColumn('beds', when(col('beds').isNull(), 1).otherwise(col('beds')))\n"
   ]
  },
  {
   "cell_type": "markdown",
   "metadata": {},
   "source": [
    "<div class=\"alert alert-block alert-info\" style=\"color: #01571B; background-color: #C8E5C6;\">\n",
    "    \n",
    "+ NULL values == 0\n",
    "</div>\n",
    "\n",
    "Categorical Features Distributions Insights\n",
    "\n",
    "<div class=\"alert alert-block alert-info\" style=\"color: #01579B; background-color: #E1F5FE; border-color: #01579B;\">\n",
    "\n",
    "+ All features have been processed; no further data cleaning is required.\n",
    "+ The majority of cancellation policies are strict.\n",
    "+ There are three types of accommodations: entire apartments, private rooms within an apartment (with a amount similar to entire apartments), and a few samples of shared rooms.\n",
    "</div>"
   ]
  },
  {
   "cell_type": "code",
   "execution_count": null,
   "metadata": {},
   "outputs": [],
   "source": [
    "# Categorical features \n",
    "categorical_columns = ['property_type',\t'room_type','bed_type', 'cancellation_policy']\n",
    "\n",
    "fig, axs = plt.subplots(2, 2, figsize=(9, 10))  \n",
    "axs = axs.flatten() \n",
    "\n",
    "for i, column in enumerate(categorical_columns):\n",
    "    ax = axs[i]  \n",
    "    color = color_palette[i % len(color_palette)]  \n",
    "    plot_categorical_distribution(df_airbnb, column, ax, color)\n",
    "\n",
    "plt.tight_layout()\n",
    "plt.show()"
   ]
  },
  {
   "cell_type": "markdown",
   "metadata": {},
   "source": [
    "Sampling and Mapping Airbnb Listings in Barcelona\n",
    "\n",
    "<div class=\"alert alert-block alert-info\" style=\"color: #01571B; background-color: #C8E5C6;\">\n",
    "\n",
    "+ A sample of the Airbnb dataset is being visualized on a map of Barcelona.\n",
    "    + Due to rendering constraints, only a subset of the data is displayed.\n",
    "+ Each marker represents a listing, with its location indicated by latitude and longitude coordinates.\n",
    "+ The map is centered on Barcelona, providing an overview of the spatial distribution of Airbnb listings in the city. Distibuted locations.\n",
    "</div>\n",
    "\n",
    "Replace Concellation_policy for dummy variable: \n",
    "\n",
    "- Unique values: [flexible, super_strict_60, strict, super_strict_30, moderate]"
   ]
  },
  {
   "cell_type": "code",
   "execution_count": null,
   "metadata": {},
   "outputs": [],
   "source": [
    "def create_dummies_variables(column, df=df_airbnb):\n",
    "    unique_values = [row[column] for row in df.select(column).distinct().collect()]\n",
    "\n",
    "    for unique_value in unique_values:\n",
    "        column_name = 'has_' + str(unique_value).replace(' ', '_')\n",
    "        df = df.withColumn(column_name, when(col(column) == unique_value, 1).otherwise(0))\n",
    "    #df = df.drop(column)\n",
    "    return df"
   ]
  },
  {
   "cell_type": "code",
   "execution_count": null,
   "metadata": {},
   "outputs": [],
   "source": [
    "[row[column] for row in df_airbnb.select('cancellation_policy').distinct().collect()]\n",
    "df_airbnb = create_dummies_variables('cancellation_policy', df_airbnb)"
   ]
  },
  {
   "cell_type": "markdown",
   "metadata": {},
   "source": [
    "Add index_criminality for neighbourhood"
   ]
  },
  {
   "cell_type": "code",
   "execution_count": null,
   "metadata": {},
   "outputs": [],
   "source": [
    "def calculate_index_criminality(df_criminal, df, column):\n",
    "    neighbourhoods = [row['area_basica_policial'] for row in df_criminal.select('area_basica_policial').distinct().collect()]\n",
    "    total_crimes = df_criminal.count()\n",
    "    total_crimes_per_neighbourhood = {neighbourhood: 0 for neighbourhood in neighbourhoods}\n",
    "\n",
    "    for neighbourhood in neighbourhoods:\n",
    "        crimes_in_neighbourhood = df_criminal.filter(col('area_basica_policial') == neighbourhood).count()\n",
    "        if total_crimes > 0: \n",
    "            total_crimes_per_neighbourhood[neighbourhood] = crimes_in_neighbourhood / total_crimes\n",
    "\n",
    "    mapping_expr = create_map(*[item for sublist in [[lit(k), lit(v)] for k, v in total_crimes_per_neighbourhood.items()] for item in sublist])\n",
    "    df = df.withColumn('criminality_index', mapping_expr.getItem(col(column)))\n",
    "    return df"
   ]
  },
  {
   "cell_type": "code",
   "execution_count": null,
   "metadata": {},
   "outputs": [],
   "source": [
    "df_airbnb = calculate_index_criminality(df_criminal, df_airbnb, 'neighbourhood')"
   ]
  },
  {
   "cell_type": "code",
   "execution_count": null,
   "metadata": {},
   "outputs": [],
   "source": [
    "[row['property_type'] for row in df_airbnb.select('property_type').distinct().collect()]\n"
   ]
  },
  {
   "cell_type": "code",
   "execution_count": null,
   "metadata": {},
   "outputs": [],
   "source": [
    "[row['bed_type'] for row in df_airbnb.select('bed_type').distinct().collect()]\n"
   ]
  },
  {
   "cell_type": "code",
   "execution_count": null,
   "metadata": {},
   "outputs": [],
   "source": [
    "df_airbnb.printSchema()"
   ]
  },
  {
   "cell_type": "code",
   "execution_count": null,
   "metadata": {},
   "outputs": [],
   "source": [
    "df_airbnb.limit(1).toPandas()"
   ]
  },
  {
   "cell_type": "markdown",
   "metadata": {},
   "source": [
    "<div style=\"background-color:#F2F2F2; padding: 10px;\">\n",
    "    <div style=\"text-align: center;\">\n",
    "        <span style=\"font-family: 'Playfair Display', serif; font-size: 20px; font-weight: bold; color: black;\">\n",
    "            TripAdvisor Locations Dataset\n",
    "        </span>\n",
    "    </div>\n",
    "</div>\n",
    "\n",
    "\n",
    "#### DataFrame Schema\n",
    "\n",
    "<div class=\"alert alert-block alert-info\" style=\"color: #01571B; background-color: #C8E5C6;\">\n",
    "    \n",
    "The DataFrame comprises various columns, each providing distinct details related to property listings:\n",
    "\n",
    "The DataFrame has **2493 rows** and **14 columns**. \n",
    "\n",
    "- **location_id**: string (nullable = true)\n",
    "- **name**: string (nullable = true)\n",
    "- **distance**: string (nullable = true)\n",
    "- **bearing**: string (nullable = true)\n",
    "- **address_obj.street1**: string (nullable = true)\n",
    "- **address_obj.city**: string (nullable = true)\n",
    "- **address_obj.state**: string (nullable = true)\n",
    "- **address_obj.country**: string (nullable = true)\n",
    "- **address_obj.postalcode**: string (nullable = true)\n",
    "- **address_obj.address_string**: string (nullable = true)\n",
    "- **address_obj.street2**: string (nullable = true)\n",
    "- **type**: string (nullable = true)\n",
    "- **district**: string (nullable = true)\n",
    "- **__index_level_0__**: decimal(20,0) (nullable = true)\n",
    "</div>"
   ]
  },
  {
   "cell_type": "code",
   "execution_count": null,
   "metadata": {},
   "outputs": [],
   "source": [
    "df_locations = spark.read \\\n",
    "  .format(\"jdbc\") \\\n",
    "  .option(\"url\", jdbc_url) \\\n",
    "  .option(\"driver\", driver) \\\n",
    "  .option(\"query\", \"SELECT * FROM df_tripadvisor_locations\") \\\n",
    "  .load()"
   ]
  },
  {
   "cell_type": "markdown",
   "metadata": {},
   "source": [
    "Replace names with points"
   ]
  },
  {
   "cell_type": "code",
   "execution_count": null,
   "metadata": {},
   "outputs": [],
   "source": [
    "exprs = [f\"`{col_name}` as `{col_name.replace('.', '_')}`\" for col_name in df_locations.columns]\n",
    "df_locations = df_locations.selectExpr(exprs)\n",
    "\n",
    "print(\"The DataFrame has {} rows and {} columns. \\n\".format(df_locations.count(), len(df_locations.columns)))"
   ]
  },
  {
   "cell_type": "markdown",
   "metadata": {},
   "source": [
    "Count Null Values"
   ]
  },
  {
   "cell_type": "code",
   "execution_count": null,
   "metadata": {},
   "outputs": [],
   "source": [
    "nan_counts = df_locations.select([count(when(isnan(c) | col(c).isNull(), c)).alias(c) for c in df_locations.columns])\n",
    "total_nan_count = sum(nan_counts.collect()[0])\n",
    "nan_counts.toPandas()"
   ]
  },
  {
   "cell_type": "markdown",
   "metadata": {},
   "source": [
    "The columns that have directly unimputable NA will be simply removed from the data. We will do not want to use them anyway. \n",
    "<div class=\"alert alert-block alert-warning\" style=\"color: #FFB300; background-color: #FFF9C4;\">\n",
    "\n",
    "+ adress_obj_street1, address_obj_postalcode, address_obj_street2 -> These are niether useful or complete; since we will be using coordinates for localization in the future, they will be erased\n",
    "</div>\n",
    "\n"
   ]
  },
  {
   "cell_type": "code",
   "execution_count": null,
   "metadata": {},
   "outputs": [],
   "source": [
    "columns_to_drop = [\"address_obj_street2\", \"address_obj_postalcode\", \"address_obj_street1\"]\n",
    "df_locations = df_locations.drop(*columns_to_drop)"
   ]
  },
  {
   "cell_type": "markdown",
   "metadata": {},
   "source": [
    "<div class=\"alert alert-block alert-info\" style=\"color: #01571B; background-color: #C8E5C6;\">\n",
    "We know that all restaurants are in the Province of Barcelona, so the 1 NA value we have in the address_obj_state column can be filled with this information\n",
    "\n",
    "</div>"
   ]
  },
  {
   "cell_type": "code",
   "execution_count": null,
   "metadata": {},
   "outputs": [],
   "source": [
    "df_locations = df_locations.fillna({\"address_obj_state\": \"Province of Barcelona\"})\n"
   ]
  },
  {
   "cell_type": "markdown",
   "metadata": {},
   "source": [
    "<div class=\"alert alert-block alert-info\" style=\"color: #01571B; background-color: #C8E5C6;\">\n",
    "For some reason, the TripAdvisor API also included come cities which were not in Barcelona, we will remove those instances\n",
    "</div>\n"
   ]
  },
  {
   "cell_type": "code",
   "execution_count": null,
   "metadata": {},
   "outputs": [],
   "source": [
    "df_locations.select(\"address_obj_city\").distinct().show()\n",
    "df_locations = df_locations.filter(df_locations['address_obj_city'] == 'Barcelona')"
   ]
  },
  {
   "cell_type": "markdown",
   "metadata": {},
   "source": [
    "Geolocalization function. Since the adress is not complete in all cases and we want to place all locations in a map, we will also be using data from google maps to exactly localize each establishment. This is probably a step that should be done in the data collection pipeline but since it is a problem we have faced along the way, we will be adressing it here.\n",
    "\n",
    "<div class=\"alert alert-block alert-info\" style=\"color: #1E88E5; background-color: #B2EBF2;\">\n",
    "\n",
    "+ We've crafted a geolocation function called `geolocalization_with_retry` to pinpoint addresses using the **Google Maps API** and `address_obj_address_string` feature. This function has the ability to retry geolocation several times in case of initial failure due to errors or timeouts. If successful, it returns the latitude and longitude coordinates of the provided address.\n",
    "\n",
    "+ We've implemented a mechanism to avoid re-executing the geolocation code for addresses that have already been matched. This is achieved by saving the geolocation results to a file (`coordinates_dict.pkl`) and loading them from there for subsequent executions, preventing unnecessary repetition of the geocoding process.\n",
    "\n",
    "\n",
    "+ We plotted the geolocations to visually identify any outliers. Then, we defined a square area to limit the zone of Barcelona, excluding any points that fall outside of this area.\n",
    "\n",
    "</div>\n"
   ]
  },
  {
   "cell_type": "code",
   "execution_count": null,
   "metadata": {},
   "outputs": [],
   "source": [
    "# As it takes too long, it will be saved to a file for separate loading\n",
    "import requests\n",
    "import time\n",
    "\n",
    "def geolocalization_with_retry(address, retries=3, sleep_time=5):\n",
    "    api_key = '{your_key ;)}'\n",
    "    url = f\"https://maps.googleapis.com/maps/api/geocode/json?address={address}&key={api_key}\"\n",
    "\n",
    "    for attempt in range(retries):\n",
    "        response = requests.get(url)\n",
    "        if response.status_code == 200:\n",
    "            data = response.json()\n",
    "            if data['status'] == 'OK':\n",
    "                lat = data['results'][0]['geometry']['location']['lat']\n",
    "                lng = data['results'][0]['geometry']['location']['lng']\n",
    "                return (lat, lng)\n",
    "        time.sleep(sleep_time)  # Espera antes de reintentar\n",
    "    return None"
   ]
  },
  {
   "cell_type": "code",
   "execution_count": null,
   "metadata": {},
   "outputs": [],
   "source": [
    "file_name = \"coordinates_dict.pkl\"\n",
    "\n",
    "# Load de retrieved dict\n",
    "with open(file_name, \"rb\") as file:\n",
    "    coordinates_dict = pickle.load(file)"
   ]
  },
  {
   "cell_type": "code",
   "execution_count": null,
   "metadata": {},
   "outputs": [],
   "source": [
    "df_coordenadas = spark.createDataFrame(list(coordinates_dict.items()), ['location_id', 'coordinates'])\n",
    "df_locations = df_locations.join(df_coordenadas, on='location_id', how='left')"
   ]
  },
  {
   "cell_type": "code",
   "execution_count": null,
   "metadata": {},
   "outputs": [],
   "source": [
    "df_locations = df_locations \\\n",
    "    .withColumn('coordinates_str', concat_ws(',', col('coordinates._1'), col('coordinates._2'))) \\\n",
    "    .withColumn('latitude', split(col('coordinates_str'), ',').getItem(0).cast('float')) \\\n",
    "    .withColumn('longitude', split(col('coordinates_str'), ',').getItem(1).cast('float')) \\\n",
    "    .drop(*['coordinates_str', 'coordinates'])  \n",
    "\n",
    "df_locations.limit(2).toPandas()"
   ]
  },
  {
   "cell_type": "code",
   "execution_count": null,
   "metadata": {},
   "outputs": [],
   "source": [
    "# Limits of Barcelona\n",
    "barcelona_lat_min = 41.33\n",
    "barcelona_lat_max = 41.45\n",
    "barcelona_lng_min = 2.10\n",
    "barcelona_lng_max = 2.24\n",
    "\n",
    "map_barcelona = folium.Map(location=[(barcelona_lat_min + barcelona_lat_max) / 2,\n",
    "                                     (barcelona_lng_min + barcelona_lng_max) / 2], zoom_start=12)\n",
    "\n",
    "# Square to paint\n",
    "bounds = [(barcelona_lat_min, barcelona_lng_min),\n",
    "          (barcelona_lat_min, barcelona_lng_max),\n",
    "          (barcelona_lat_max, barcelona_lng_max),\n",
    "          (barcelona_lat_max, barcelona_lng_min),\n",
    "          (barcelona_lat_min, barcelona_lng_min)]\n",
    "\n",
    "folium.Polygon(bounds, color='red', fill=True, fill_color='red', fill_opacity=0.5).add_to(map_barcelona)\n",
    "map_barcelona"
   ]
  },
  {
   "cell_type": "code",
   "execution_count": null,
   "metadata": {},
   "outputs": [],
   "source": [
    "# Apply the square\n",
    "df_barcelona = df_locations[(df_locations['latitude'] >= barcelona_lat_min) & \n",
    "                            (df_locations['latitude'] <= barcelona_lat_max) &\n",
    "                            (df_locations['longitude'] >= barcelona_lng_min) & \n",
    "                            (df_locations['longitude'] <= barcelona_lng_max)]"
   ]
  },
  {
   "cell_type": "code",
   "execution_count": null,
   "metadata": {},
   "outputs": [],
   "source": [
    "df_barcelona.select(\"type\").distinct().show()\n",
    "df_barcelona.select(\"district\").distinct().show()\n",
    "# rename district to match to the other dfs\n",
    "df_barcelona = df_barcelona.withColumnRenamed(\"district\", \"neighbourhood\")"
   ]
  },
  {
   "cell_type": "markdown",
   "metadata": {},
   "source": [
    "Categorical Features Distributions Insights\n",
    "<div class=\"alert alert-block alert-info\" style=\"color: #01579B; background-color: #E1F5FE; border-color: #01579B;\">\n",
    "\n",
    "+ The majority of restaurants and attractions are located between Ciutat Vella and Example, where the highest volume of tourists is found.\n",
    "+ We have slightly more restaurants than attractions, but the difference is fairly balanced.\n",
    "</div>"
   ]
  },
  {
   "cell_type": "code",
   "execution_count": null,
   "metadata": {},
   "outputs": [],
   "source": [
    "fig, axs = plt.subplots(1, 2, figsize=(9, 5))  \n",
    "axs = axs.flatten() \n",
    "\n",
    "for i, column in enumerate([\"neighbourhood\", \"type\"]):\n",
    "    ax = axs[i]  \n",
    "    color = color_palette[i % len(color_palette)]  \n",
    "    plot_categorical_distribution(df_barcelona, column, ax, color)\n",
    "\n",
    "plt.tight_layout()\n",
    "plt.show()"
   ]
  },
  {
   "cell_type": "code",
   "execution_count": null,
   "metadata": {},
   "outputs": [],
   "source": [
    "df_barcelona.printSchema()"
   ]
  },
  {
   "cell_type": "code",
   "execution_count": null,
   "metadata": {},
   "outputs": [],
   "source": [
    "nan_counts = df_barcelona.select([count(when(isnan(c) | col(c).isNull(), c)).alias(c) for c in df_barcelona.columns])\n",
    "total_nan_count = sum(nan_counts.collect()[0])\n",
    "nan_counts.toPandas()"
   ]
  },
  {
   "cell_type": "code",
   "execution_count": null,
   "metadata": {},
   "outputs": [],
   "source": [
    "df_barcelona.limit(1).toPandas() "
   ]
  },
  {
   "cell_type": "markdown",
   "metadata": {},
   "source": [
    "<div style=\"background-color:#F2F2F2; padding: 10px;\">\n",
    "    <div style=\"text-align: center;\">\n",
    "        <span style=\"font-family: 'Playfair Display', serif; font-size: 20px; font-weight: bold; color: black;\">\n",
    "            TripAdvisor Reviews Datasets\n",
    "        </span>\n",
    "    </div>\n",
    "</div>\n",
    "\n",
    "\n",
    "\n",
    "#### DataFrame Schema\n",
    "\n",
    "<div class=\"alert alert-block alert-info\" style=\"color: #01571B; background-color: #C8E5C6;\">\n",
    "    \n",
    "The DataFrame comprises various columns, each providing distinct details related to property listings:\n",
    "\n",
    "- The DataFrame has **5449 rows** and **48 columns**. \n",
    "\n",
    "- **location_id**: decimal(20,0) (nullable = true)\n",
    "- **id**: decimal(20,0) (nullable = true)\n",
    "- **lang**: string (nullable = true)\n",
    "- **published_date**: string (nullable = true)\n",
    "- **rating**: decimal(20,0) (nullable = true)\n",
    "- **helpful_votes**: decimal(20,0) (nullable = true)\n",
    "- **rating_image_url**: string (nullable = true)\n",
    "- **url**: string (nullable = true)\n",
    "- **text**: string (nullable = true)\n",
    "- **title**: string (nullable = true)\n",
    "- **trip_type**: string (nullable = true)\n",
    "- **travel_date**: string (nullable = true)\n",
    "- **user_username**: string (nullable = true)\n",
    "- **user_user_location_id**: string (nullable = true)\n",
    "- **user_avatar_thumbnail**: string (nullable = true)\n",
    "- **user_avatar_small**: string (nullable = true)\n",
    "- **user_avatar_medium**: string (nullable = true)\n",
    "- **user_avatar_large**: string (nullable = true)\n",
    "- **user_avatar_original**: string (nullable = true)\n",
    "- **name**: string (nullable = true)\n",
    "- **address_obj_address_string**: string (nullable = true)\n",
    "- **type**: string (nullable = true)\n",
    "- **neighbourhood**: string (nullable = true)\n",
    "- **latitude**: float (nullable = true)\n",
    "- **longitude**: float (nullable = true)\n",
    "</div>\n"
   ]
  },
  {
   "cell_type": "code",
   "execution_count": null,
   "metadata": {},
   "outputs": [],
   "source": [
    "df_reviews = spark.read \\\n",
    "  .format(\"jdbc\") \\\n",
    "  .option(\"url\", jdbc_url) \\\n",
    "  .option(\"driver\", driver) \\\n",
    "  .option(\"query\", \"SELECT * FROM df_tripadvisor_reviews\") \\\n",
    "  .load()"
   ]
  },
  {
   "cell_type": "markdown",
   "metadata": {},
   "source": [
    "Replace names with points"
   ]
  },
  {
   "cell_type": "code",
   "execution_count": null,
   "metadata": {},
   "outputs": [],
   "source": [
    "exprs = [f\"`{col_name}` as `{col_name.replace('.', '_')}`\" for col_name in df_reviews.columns]\n",
    "df_reviews = df_reviews.selectExpr(exprs)"
   ]
  },
  {
   "cell_type": "markdown",
   "metadata": {},
   "source": [
    "Explanation for Join Operation\n",
    "\n",
    "<div class=\"alert alert-block alert-info\" style=\"color: #01579B; background-color: #E1F5FE; border-color: #01579B;\">\n",
    "\n",
    "We are performing a join operation between `df_reviews` and `df_barcelona` DataFrames on the 'location_id' column. This is done to filter `df_reviews` to only include rows corresponding to locations that are present in `df_barcelona`. By using an inner join (`how='inner'`), we ensure that only matching rows from both DataFrames are retained, effectively restricting our analysis to reviews for locations within Barcelona.\n",
    "</div>\n"
   ]
  },
  {
   "cell_type": "code",
   "execution_count": null,
   "metadata": {},
   "outputs": [],
   "source": [
    "df_reviews_barcelona = df_reviews.join(df_barcelona, on='location_id', how='inner')\n",
    "print(\"The DataFrame has {} rows and {} columns. \\n\".format(df_reviews_barcelona.count(), len(df_reviews_barcelona.columns)))"
   ]
  },
  {
   "cell_type": "markdown",
   "metadata": {},
   "source": [
    "Count the Null Values"
   ]
  },
  {
   "cell_type": "code",
   "execution_count": null,
   "metadata": {},
   "outputs": [],
   "source": [
    "nan_counts = df_reviews_barcelona.select([count(when(isnan(c) | col(c).isNull(), c)).alias(c) for c in df_reviews_barcelona.columns])\n",
    "total_nan_count = sum(nan_counts.collect()[0])\n",
    "nan_counts.toPandas()"
   ]
  },
  {
   "cell_type": "markdown",
   "metadata": {},
   "source": [
    "Remove redundant columns\n",
    "\n",
    "<div class=\"alert alert-block alert-info\" style=\"color: #01579B; background-color: #E1F5FE; border-color: #01579B;\">\n",
    "\n",
    "+ Values with lots of NaN --> drop\n",
    "\n",
    "We mainly will be only using the scoring of the reviews.\n",
    "</div>"
   ]
  },
  {
   "cell_type": "code",
   "execution_count": null,
   "metadata": {},
   "outputs": [],
   "source": [
    "columns_to_drop = [\n",
    "    \"subratings_0_name\",\n",
    "    \"subratings_0_rating_image_url\",\n",
    "    \"subratings_0_value\",\n",
    "    \"subratings_0_localized_name\",\n",
    "    \"subratings_1_name\",\n",
    "    \"subratings_1_rating_image_url\",\n",
    "    \"subratings_1_value\",\n",
    "    \"subratings_1_localized_name\",\n",
    "    \"subratings_2_name\",\n",
    "    \"subratings_2_rating_image_url\",\n",
    "    \"subratings_2_value\",\n",
    "    \"subratings_2_localized_name\",\n",
    "    \"subratings_3_name\",\n",
    "    \"subratings_3_rating_image_url\",\n",
    "    \"subratings_3_value\",\n",
    "    \"subratings_3_localized_name\",\n",
    "    \"owner_response_id\",\n",
    "    \"owner_response_title\",\n",
    "    \"owner_response_text\",\n",
    "    \"owner_response_lang\",\n",
    "    \"owner_response_author\",\n",
    "    \"owner_response_published_date\",\n",
    "    \"user_user_location_name\"\n",
    "]\n",
    "df_reviews_barcelona = df_reviews_barcelona.drop(*columns_to_drop)"
   ]
  },
  {
   "cell_type": "markdown",
   "metadata": {},
   "source": [
    "<div class=\"alert alert-block alert-info\" style=\"color: #01579B; background-color: #E1F5FE; border-color: #01579B;\">\n",
    "\n",
    "Some of the other ones could be saved and imputed. For instance \"user.user_location.name\" could go look the name of the location on the location table. But since we will not be using those, the easiest way to deal with those is by removing them.\n",
    "</div>"
   ]
  },
  {
   "cell_type": "code",
   "execution_count": null,
   "metadata": {},
   "outputs": [],
   "source": [
    "columns_to_drop = [\n",
    "'trip_type '\n",
    "'travel_date'\n",
    "'user.user_location.name'\n",
    "'user.avatar.thumbnail'\n",
    "'user.avatar.small'\n",
    "'user.avatar.medium'\n",
    "'user.avatar.large'\n",
    "'user.avatar.original'\n",
    "]\n",
    "df_reviews_barcelona = df_reviews_barcelona.drop(*columns_to_drop)"
   ]
  },
  {
   "cell_type": "code",
   "execution_count": null,
   "metadata": {},
   "outputs": [],
   "source": [
    "df_reviews_barcelona.printSchema()"
   ]
  },
  {
   "cell_type": "code",
   "execution_count": null,
   "metadata": {},
   "outputs": [],
   "source": [
    "nan_counts = df_reviews_barcelona.select([count(when(isnan(c) | col(c).isNull(), c)).alias(c) for c in df_reviews_barcelona.columns])\n",
    "total_nan_count = sum(nan_counts.collect()[0])\n",
    "nan_counts.toPandas()"
   ]
  },
  {
   "cell_type": "code",
   "execution_count": null,
   "metadata": {},
   "outputs": [],
   "source": [
    "df_reviews_barcelona.limit(1).toPandas()"
   ]
  },
  {
   "cell_type": "code",
   "execution_count": null,
   "metadata": {},
   "outputs": [],
   "source": [
    "## Prepare the DuckDB connection\n",
    "con = duckdb.connect(database='./../data/trusted_zone/barcelona_processed.db', read_only=False)\n",
    "con.close()\n",
    "\n",
    "## Write on the tables \n",
    "print('Writting tables...')\n",
    "jdbc_url = 'jdbc:duckdb:./../data/trusted_zone/barcelona_processed.db'\n",
    "driver = \"org.duckdb.DuckDBDriver\"\n",
    "\n",
    "print('    - Aribnb table')\n",
    "df_airbnb.write \\\n",
    "    .format(\"jdbc\") \\\n",
    "    .option(\"url\", jdbc_url) \\\n",
    "    .option(\"dbtable\", \"df_airbnb_listings\") \\\n",
    "    .option(\"driver\", driver) \\\n",
    "    .mode(\"overwrite\") \\\n",
    "    .save()\n",
    "\n",
    "print('    - Criminal table')\n",
    "df_criminal.write \\\n",
    "    .format(\"jdbc\") \\\n",
    "    .option(\"url\", jdbc_url) \\\n",
    "    .option(\"dbtable\", \"df_criminal_dataset\") \\\n",
    "    .option(\"driver\", driver) \\\n",
    "    .mode(\"overwrite\") \\\n",
    "    .save()\n",
    "\n",
    "print('    - Tripadvisor Locations table')\n",
    "df_barcelona.write \\\n",
    "    .format(\"jdbc\") \\\n",
    "    .option(\"url\", jdbc_url) \\\n",
    "    .option(\"dbtable\", \"df_tripadvisor_locations\") \\\n",
    "    .option(\"driver\", driver) \\\n",
    "    .mode(\"overwrite\") \\\n",
    "    .save()\n",
    "\n",
    "print('    - Tripadvisor Reviews table')\n",
    "df_reviews_barcelona.write \\\n",
    "    .format(\"jdbc\") \\\n",
    "    .option(\"url\", jdbc_url) \\\n",
    "    .option(\"dbtable\", \"df_tripadvisor_reviews\") \\\n",
    "    .option(\"driver\", driver) \\\n",
    "    .mode(\"overwrite\") \\\n",
    "    .save()\n",
    "\n",
    "spark.stop()\n",
    "con.close()"
   ]
  }
 ],
 "metadata": {
  "kernelspec": {
   "display_name": "Python 3 (ipykernel)",
   "language": "python",
   "name": "python3"
  },
  "language_info": {
   "codemirror_mode": {
    "name": "ipython",
    "version": 3
   },
   "file_extension": ".py",
   "mimetype": "text/x-python",
   "name": "python",
   "nbconvert_exporter": "python",
   "pygments_lexer": "ipython3",
   "version": "3.9.7"
  }
 },
 "nbformat": 4,
 "nbformat_minor": 4
}
