{
 "cells": [
  {
   "cell_type": "markdown",
   "metadata": {},
   "source": [
    "___\n",
    "\n",
    "<div style=\"text-align: center;\">\n",
    "  <span style=\"font-family: 'Playfair Display', serif; font-size: 24px; font-weight: bold;\">\n",
    "Dataset Exploration\n",
    "  </span>\n",
    "</div>\n",
    "\n",
    "___\n",
    "\n",
    "\n",
    "In this notebook, we will explore four datasets stored in DuckDB using PySpark. The datasets include the Criminal Dataset, Airbnb Listings, TripAdvisor Attractions, and Restaurants. \n",
    "\n",
    "The exploration will involve:\n",
    "\n",
    "<li>Identification of Data Quality rules on the datasets</li>\n",
    "<li>Assessment of the Quality of the Data</li>\n",
    "<li>Application of Data Cleaning processes (individually per dataset)</li>\n",
    "<li>Expression of Data quality rules as Denial Constraints</li>\n",
    "<li>Storage of the improved quality tables in the Trusted Zone, mirroring the tables in the Formatted Zone</li>"
   ]
  },
  {
   "cell_type": "code",
   "execution_count": 60,
   "metadata": {},
   "outputs": [],
   "source": [
    "#%pip install duckdb pyspark folium geopy wordcloud unidecode rdflib \n",
    "#!sudo -u postgres psql -U postgres -c \"ALTER USER postgres PASSWORD 'postgres';\"\n",
    "#!sudo -u postgres psql -U postgres -c 'DROP DATABASE IF EXISTS pyspark_postgres;'\n",
    "#!sudo -u postgres psql -U postgres -c 'CREATE DATABASE pyspark_postgres;'\n",
    "#!wget -O \"postgresql.jar\" \"https://repo1.maven.org/maven2/org/postgresql/postgresql/42.7.3/postgresql-42.7.3.jar\"\n",
    "#!wget -O \"duckdb.jar\" \"https://repo1.maven.org/maven2/org/duckdb/duckdb_jdbc/0.10.1/duckdb_jdbc-0.10.1.jar\""
   ]
  },
  {
   "cell_type": "code",
   "execution_count": 61,
   "metadata": {},
   "outputs": [
    {
     "name": "stderr",
     "output_type": "stream",
     "text": [
      "24/06/03 17:26:01 WARN Utils: Service 'SparkUI' could not bind on port 4040. Attempting port 4041.\n"
     ]
    }
   ],
   "source": [
    "## Imports\n",
    "import duckdb\n",
    "import pickle\n",
    "import folium\n",
    "import warnings\n",
    "import pandas as pd\n",
    "import unidecode\n",
    "import matplotlib.pyplot as plt\n",
    "from pyspark.sql import SparkSession\n",
    "from pyspark.sql.functions import monotonically_increasing_id, isnan, concat_ws, split, regexp_replace, col, count, isnan, when, create_map, lit\n",
    "warnings.filterwarnings(\"ignore\")\n",
    "\n",
    "import sys\n",
    "import os\n",
    "\n",
    "current_dir = os.path.dirname(os.path.abspath('__file__'))\n",
    "parent_dir = os.path.abspath(os.path.join(current_dir, os.pardir))\n",
    "\n",
    "# Agregate the dic to sys.path\n",
    "if parent_dir not in sys.path:\n",
    "    sys.path.append(parent_dir)\n",
    "import utils\n",
    "\n",
    "## Connection to formatted database\n",
    "jdbc_url = 'jdbc:duckdb:./../data/formatted_zone/barcelona.db'\n",
    "driver = \"org.duckdb.DuckDBDriver\"\n",
    "\n",
    "# SparkSession inicialitzation\n",
    "spark = SparkSession.builder\\\n",
    "    .config(\"spark.jars\", \"duckdb.jar\") \\\n",
    "    .appName(\"DataExploration\") \\\n",
    "    .getOrCreate()"
   ]
  },
  {
   "cell_type": "markdown",
   "metadata": {},
   "source": [
    "<div style=\"background-color:#F2F2F2; padding: 10px;\">\n",
    "    <div style=\"text-align: center;\">\n",
    "        <span style=\"font-family: 'Playfair Display', serif; font-size: 20px; font-weight: bold; color: black;\">\n",
    "            Criminal Dataset\n",
    "        </span>\n",
    "    </div>\n",
    "</div>\n",
    "\n",
    "\n",
    "\n",
    "#### DataFrame Schema\n",
    "\n",
    "<div class=\"alert alert-block alert-info\" style=\"color: #01571B; background-color: #C8E5C6;\">\n",
    "    \n",
    "The DataFrame comprises various groups of columns, each providing distinct details related to property listings:\n",
    "\n",
    "- The DataFrame has **2289 rows** and **16 columns**. \n",
    "\n",
    "\n",
    " - **any**: decimal(20,0) (nullable = true)\n",
    " - **num_mes**: decimal(20,0) (nullable = true)\n",
    " - **nom_mes**: string (nullable = true)\n",
    " - **regio_policial**: string (nullable = true)\n",
    " - **area_basica_policial**: string (nullable = true)\n",
    " - **provincia**: string (nullable = true)\n",
    " - **comarca**: string (nullable = true)\n",
    " - **municipi**: string (nullable = true)\n",
    " - **tipus_de_lloc_dels_fets**: string (nullable = true)\n",
    " - **canal_dels_fets**: string (nullable = true)\n",
    " - **tipus_de_fet**: string (nullable = true)\n",
    " - **titol_del_fet_codi_penal**: string (nullable = true)\n",
    " - **tipus_de_fet_codi_penal**: string (nullable = true)\n",
    " - **ambit_fet**: string (nullable = true)\n",
    " - **nombre_fets_o_infraccions**: decimal(20,0) (nullable = true)\n",
    " - **nombre_victimes**: double (nullable = true)\n",
    "</div>"
   ]
  },
  {
   "cell_type": "code",
   "execution_count": 62,
   "metadata": {},
   "outputs": [
    {
     "name": "stdout",
     "output_type": "stream",
     "text": [
      "The DataFrame has 2289 rows and 16 columns. \n",
      "\n"
     ]
    }
   ],
   "source": [
    "df_criminal = spark.read \\\n",
    "  .format(\"jdbc\") \\\n",
    "  .option(\"url\", jdbc_url) \\\n",
    "  .option(\"driver\", driver) \\\n",
    "  .option(\"query\", \"SELECT * FROM df_criminal_dataset\") \\\n",
    "  .load()\n",
    "\n",
    "exprs = [f\"`{col_name}` as `{col_name.replace('.', '_')}`\" for col_name in df_criminal.columns]\n",
    "df_criminal= df_criminal.selectExpr(exprs)\n",
    "print(\"The DataFrame has {} rows and {} columns. \\n\".format(df_criminal.count(), len(df_criminal.columns)))"
   ]
  },
  {
   "cell_type": "code",
   "execution_count": 63,
   "metadata": {},
   "outputs": [
    {
     "data": {
      "text/html": [
       "<div>\n",
       "<style scoped>\n",
       "    .dataframe tbody tr th:only-of-type {\n",
       "        vertical-align: middle;\n",
       "    }\n",
       "\n",
       "    .dataframe tbody tr th {\n",
       "        vertical-align: top;\n",
       "    }\n",
       "\n",
       "    .dataframe thead th {\n",
       "        text-align: right;\n",
       "    }\n",
       "</style>\n",
       "<table border=\"1\" class=\"dataframe\">\n",
       "  <thead>\n",
       "    <tr style=\"text-align: right;\">\n",
       "      <th></th>\n",
       "      <th>any</th>\n",
       "      <th>n_m_mes</th>\n",
       "      <th>nom_mes</th>\n",
       "      <th>regi_policial_rp</th>\n",
       "      <th>rea_b_sica_policial_abp</th>\n",
       "      <th>prov_ncia</th>\n",
       "      <th>comarca</th>\n",
       "      <th>municipi</th>\n",
       "      <th>tipus_de_lloc_dels_fets</th>\n",
       "      <th>canal_dels_fets</th>\n",
       "      <th>tipus_de_fet</th>\n",
       "      <th>t_tol_del_fet_codi_penal</th>\n",
       "      <th>tipus_de_fet_codi_penal_o</th>\n",
       "      <th>mbit_fet</th>\n",
       "      <th>nombre_fets_o_infraccions</th>\n",
       "      <th>nombre_v_ctimes</th>\n",
       "    </tr>\n",
       "  </thead>\n",
       "  <tbody>\n",
       "    <tr>\n",
       "      <th>0</th>\n",
       "      <td>2021</td>\n",
       "      <td>12</td>\n",
       "      <td>Desembre</td>\n",
       "      <td>RP  Metropolitana Nord</td>\n",
       "      <td>ABP Badalona</td>\n",
       "      <td>Barcelona</td>\n",
       "      <td>Barcelonès</td>\n",
       "      <td>Badalona</td>\n",
       "      <td>Via pública urbana</td>\n",
       "      <td>Presencial</td>\n",
       "      <td>Delictes</td>\n",
       "      <td>De les lesions</td>\n",
       "      <td>Lesions</td>\n",
       "      <td>Sexisme</td>\n",
       "      <td>1</td>\n",
       "      <td>1.0</td>\n",
       "    </tr>\n",
       "  </tbody>\n",
       "</table>\n",
       "</div>"
      ],
      "text/plain": [
       "    any n_m_mes   nom_mes        regi_policial_rp rea_b_sica_policial_abp  \\\n",
       "0  2021      12  Desembre  RP  Metropolitana Nord            ABP Badalona   \n",
       "\n",
       "   prov_ncia     comarca  municipi tipus_de_lloc_dels_fets canal_dels_fets  \\\n",
       "0  Barcelona  Barcelonès  Badalona      Via pública urbana      Presencial   \n",
       "\n",
       "  tipus_de_fet t_tol_del_fet_codi_penal tipus_de_fet_codi_penal_o mbit_fet  \\\n",
       "0     Delictes           De les lesions                   Lesions  Sexisme   \n",
       "\n",
       "  nombre_fets_o_infraccions  nombre_v_ctimes  \n",
       "0                         1              1.0  "
      ]
     },
     "execution_count": 63,
     "metadata": {},
     "output_type": "execute_result"
    }
   ],
   "source": [
    "df_criminal.limit(1).toPandas() "
   ]
  },
  {
   "cell_type": "markdown",
   "metadata": {},
   "source": [
    "Correct Column names: \n",
    "\n",
    "- `n_m_mes` -> `num_mes`\n",
    "\n",
    "- `regi_policial_rp` -> `regio_policial`\n",
    "\n",
    "- `rea_b_sica_policial_abp` -> `area_basica_policial`\n",
    "\n",
    "- `t_tol_del_fet_codi_penal` -> `titol_del_fet_codi_penal`\n",
    "\n",
    "- `tipus_de_fet_codi_penal_o` -> `tipus_de_fet_codi_penal`\n",
    "\n",
    "- `mbit_fet` -> `ambit_fet`\n",
    "\n",
    "- `prov_ncia` -> `provincia`"
   ]
  },
  {
   "cell_type": "code",
   "execution_count": 64,
   "metadata": {},
   "outputs": [],
   "source": [
    "df_criminal = df_criminal.withColumnRenamed(\"n_m_mes\", \"num_mes\") \\\n",
    "       .withColumnRenamed(\"regi_policial_rp\", \"regio_policial\") \\\n",
    "       .withColumnRenamed(\"rea_b_sica_policial_abp\", \"area_basica_policial\") \\\n",
    "       .withColumnRenamed(\"t_tol_del_fet_codi_penal\", \"titol_del_fet_codi_penal\") \\\n",
    "       .withColumnRenamed(\"tipus_de_fet_codi_penal_o\", \"tipus_de_fet_codi_penal\") \\\n",
    "       .withColumnRenamed(\"mbit_fet\", \"ambit_fet\") \\\n",
    "       .withColumnRenamed(\"prov_ncia\", \"provincia\") \\\n",
    "       .withColumnRenamed(\"nombre_v_ctimes\", \"nombre_victimes\")"
   ]
  },
  {
   "cell_type": "markdown",
   "metadata": {},
   "source": [
    "Summary Observations of the dataset:\n",
    "\n",
    "<div class=\"alert alert-block alert-info\" style=\"color: #01579B; background-color: #E1F5FE; border-color: #01579B;\">\n",
    "\n",
    "- **Count**: 2289 records for all columns except for \"tipus_de_lloc_dels_fets\" which has 2288 records.\n",
    "- **num_mes**: The mean value of approximately 6.71, indicating that the data spans multiple months.\n",
    "- **nombre_victimes**: There are 863 records with values, suggesting incidents involving victims.\n",
    "</div>"
   ]
  },
  {
   "cell_type": "code",
   "execution_count": 65,
   "metadata": {},
   "outputs": [
    {
     "name": "stderr",
     "output_type": "stream",
     "text": [
      "                                                                                \r"
     ]
    },
    {
     "data": {
      "text/html": [
       "<div>\n",
       "<style scoped>\n",
       "    .dataframe tbody tr th:only-of-type {\n",
       "        vertical-align: middle;\n",
       "    }\n",
       "\n",
       "    .dataframe tbody tr th {\n",
       "        vertical-align: top;\n",
       "    }\n",
       "\n",
       "    .dataframe thead th {\n",
       "        text-align: right;\n",
       "    }\n",
       "</style>\n",
       "<table border=\"1\" class=\"dataframe\">\n",
       "  <thead>\n",
       "    <tr style=\"text-align: right;\">\n",
       "      <th></th>\n",
       "      <th>summary</th>\n",
       "      <th>any</th>\n",
       "      <th>num_mes</th>\n",
       "      <th>nom_mes</th>\n",
       "      <th>regio_policial</th>\n",
       "      <th>area_basica_policial</th>\n",
       "      <th>provincia</th>\n",
       "      <th>comarca</th>\n",
       "      <th>municipi</th>\n",
       "      <th>tipus_de_lloc_dels_fets</th>\n",
       "      <th>canal_dels_fets</th>\n",
       "      <th>tipus_de_fet</th>\n",
       "      <th>titol_del_fet_codi_penal</th>\n",
       "      <th>tipus_de_fet_codi_penal</th>\n",
       "      <th>ambit_fet</th>\n",
       "      <th>nombre_fets_o_infraccions</th>\n",
       "      <th>nombre_victimes</th>\n",
       "    </tr>\n",
       "  </thead>\n",
       "  <tbody>\n",
       "    <tr>\n",
       "      <th>0</th>\n",
       "      <td>count</td>\n",
       "      <td>2289</td>\n",
       "      <td>2289</td>\n",
       "      <td>2289</td>\n",
       "      <td>2289</td>\n",
       "      <td>2289</td>\n",
       "      <td>2289</td>\n",
       "      <td>2289</td>\n",
       "      <td>2289</td>\n",
       "      <td>2288</td>\n",
       "      <td>2289</td>\n",
       "      <td>2289</td>\n",
       "      <td>2289</td>\n",
       "      <td>2289</td>\n",
       "      <td>2289</td>\n",
       "      <td>2289</td>\n",
       "      <td>863</td>\n",
       "    </tr>\n",
       "    <tr>\n",
       "      <th>1</th>\n",
       "      <td>mean</td>\n",
       "      <td>2021.7741</td>\n",
       "      <td>6.7051</td>\n",
       "      <td>None</td>\n",
       "      <td>None</td>\n",
       "      <td>None</td>\n",
       "      <td>None</td>\n",
       "      <td>None</td>\n",
       "      <td>None</td>\n",
       "      <td>None</td>\n",
       "      <td>None</td>\n",
       "      <td>None</td>\n",
       "      <td>None</td>\n",
       "      <td>None</td>\n",
       "      <td>None</td>\n",
       "      <td>1.0000</td>\n",
       "      <td>1.2966396292004636</td>\n",
       "    </tr>\n",
       "    <tr>\n",
       "      <th>2</th>\n",
       "      <td>stddev</td>\n",
       "      <td>1.0871606296548673</td>\n",
       "      <td>3.2524835989513767</td>\n",
       "      <td>None</td>\n",
       "      <td>None</td>\n",
       "      <td>None</td>\n",
       "      <td>None</td>\n",
       "      <td>None</td>\n",
       "      <td>None</td>\n",
       "      <td>None</td>\n",
       "      <td>None</td>\n",
       "      <td>None</td>\n",
       "      <td>None</td>\n",
       "      <td>None</td>\n",
       "      <td>None</td>\n",
       "      <td>0.0</td>\n",
       "      <td>0.7321425942635059</td>\n",
       "    </tr>\n",
       "    <tr>\n",
       "      <th>3</th>\n",
       "      <td>min</td>\n",
       "      <td>2020</td>\n",
       "      <td>1</td>\n",
       "      <td>Abril</td>\n",
       "      <td>RP  Metropolitana Nord</td>\n",
       "      <td>ABP Alt Camp - C. de Barberà</td>\n",
       "      <td>Barcelona</td>\n",
       "      <td>ABP Tarragonès</td>\n",
       "      <td>ABP el Prat de Llobregat</td>\n",
       "      <td>AERO - Altres comerços T1-Arribades</td>\n",
       "      <td>Int. i/o Xarxes</td>\n",
       "      <td>ALTRES</td>\n",
       "      <td>01.-DE L'HOMICIDI I LES SEVES FORMES</td>\n",
       "      <td>Abusos sexuals</td>\n",
       "      <td>Antigitanisme</td>\n",
       "      <td>1</td>\n",
       "      <td>0.0</td>\n",
       "    </tr>\n",
       "    <tr>\n",
       "      <th>4</th>\n",
       "      <td>max</td>\n",
       "      <td>2023</td>\n",
       "      <td>12</td>\n",
       "      <td>setembre</td>\n",
       "      <td>RP Terres de l'Ebre</td>\n",
       "      <td>Unitat d'informació RPMB</td>\n",
       "      <td>Tarragona</td>\n",
       "      <td>Vic</td>\n",
       "      <td>Àger</td>\n",
       "      <td>Zona/Eix comercial</td>\n",
       "      <td>Presencial</td>\n",
       "      <td>Infracció administrativa</td>\n",
       "      <td>NORMATIVA ESPORT: DLEG 1/00 I LLEIS 10/90 I 19/07</td>\n",
       "      <td>Violència física o psíquica habitual en l'àmbi...</td>\n",
       "      <td>Ètnic/origen nacional/origen racial</td>\n",
       "      <td>1</td>\n",
       "      <td>7.0</td>\n",
       "    </tr>\n",
       "  </tbody>\n",
       "</table>\n",
       "</div>"
      ],
      "text/plain": [
       "  summary                 any             num_mes   nom_mes  \\\n",
       "0   count                2289                2289      2289   \n",
       "1    mean           2021.7741              6.7051      None   \n",
       "2  stddev  1.0871606296548673  3.2524835989513767      None   \n",
       "3     min                2020                   1     Abril   \n",
       "4     max                2023                  12  setembre   \n",
       "\n",
       "           regio_policial          area_basica_policial  provincia  \\\n",
       "0                    2289                          2289       2289   \n",
       "1                    None                          None       None   \n",
       "2                    None                          None       None   \n",
       "3  RP  Metropolitana Nord  ABP Alt Camp - C. de Barberà  Barcelona   \n",
       "4     RP Terres de l'Ebre      Unitat d'informació RPMB  Tarragona   \n",
       "\n",
       "          comarca                  municipi  \\\n",
       "0            2289                      2289   \n",
       "1            None                      None   \n",
       "2            None                      None   \n",
       "3  ABP Tarragonès  ABP el Prat de Llobregat   \n",
       "4             Vic                      Àger   \n",
       "\n",
       "               tipus_de_lloc_dels_fets  canal_dels_fets  \\\n",
       "0                                 2288             2289   \n",
       "1                                 None             None   \n",
       "2                                 None             None   \n",
       "3  AERO - Altres comerços T1-Arribades  Int. i/o Xarxes   \n",
       "4                   Zona/Eix comercial       Presencial   \n",
       "\n",
       "               tipus_de_fet  \\\n",
       "0                      2289   \n",
       "1                      None   \n",
       "2                      None   \n",
       "3                    ALTRES   \n",
       "4  Infracció administrativa   \n",
       "\n",
       "                            titol_del_fet_codi_penal  \\\n",
       "0                                               2289   \n",
       "1                                               None   \n",
       "2                                               None   \n",
       "3               01.-DE L'HOMICIDI I LES SEVES FORMES   \n",
       "4  NORMATIVA ESPORT: DLEG 1/00 I LLEIS 10/90 I 19/07   \n",
       "\n",
       "                             tipus_de_fet_codi_penal  \\\n",
       "0                                               2289   \n",
       "1                                               None   \n",
       "2                                               None   \n",
       "3                                     Abusos sexuals   \n",
       "4  Violència física o psíquica habitual en l'àmbi...   \n",
       "\n",
       "                             ambit_fet nombre_fets_o_infraccions  \\\n",
       "0                                 2289                      2289   \n",
       "1                                 None                    1.0000   \n",
       "2                                 None                       0.0   \n",
       "3                        Antigitanisme                         1   \n",
       "4  Ètnic/origen nacional/origen racial                         1   \n",
       "\n",
       "      nombre_victimes  \n",
       "0                 863  \n",
       "1  1.2966396292004636  \n",
       "2  0.7321425942635059  \n",
       "3                 0.0  \n",
       "4                 7.0  "
      ]
     },
     "execution_count": 65,
     "metadata": {},
     "output_type": "execute_result"
    }
   ],
   "source": [
    "df_criminal.describe().toPandas() "
   ]
  },
  {
   "cell_type": "markdown",
   "metadata": {},
   "source": [
    "Null Values\n",
    "\n",
    "<div class=\"alert alert-block alert-warning\" style=\"color: #C23B22; background-color: #f8c3c0;\">\n",
    "\n",
    "+ No Null Values detected: No need to apply changes\n",
    "</div>"
   ]
  },
  {
   "cell_type": "code",
   "execution_count": 66,
   "metadata": {},
   "outputs": [
    {
     "data": {
      "text/html": [
       "<div>\n",
       "<style scoped>\n",
       "    .dataframe tbody tr th:only-of-type {\n",
       "        vertical-align: middle;\n",
       "    }\n",
       "\n",
       "    .dataframe tbody tr th {\n",
       "        vertical-align: top;\n",
       "    }\n",
       "\n",
       "    .dataframe thead th {\n",
       "        text-align: right;\n",
       "    }\n",
       "</style>\n",
       "<table border=\"1\" class=\"dataframe\">\n",
       "  <thead>\n",
       "    <tr style=\"text-align: right;\">\n",
       "      <th></th>\n",
       "      <th>any</th>\n",
       "      <th>num_mes</th>\n",
       "      <th>nom_mes</th>\n",
       "      <th>regio_policial</th>\n",
       "      <th>area_basica_policial</th>\n",
       "      <th>provincia</th>\n",
       "      <th>comarca</th>\n",
       "      <th>municipi</th>\n",
       "      <th>tipus_de_lloc_dels_fets</th>\n",
       "      <th>canal_dels_fets</th>\n",
       "      <th>tipus_de_fet</th>\n",
       "      <th>titol_del_fet_codi_penal</th>\n",
       "      <th>tipus_de_fet_codi_penal</th>\n",
       "      <th>ambit_fet</th>\n",
       "      <th>nombre_fets_o_infraccions</th>\n",
       "      <th>nombre_victimes</th>\n",
       "    </tr>\n",
       "  </thead>\n",
       "  <tbody>\n",
       "    <tr>\n",
       "      <th>0</th>\n",
       "      <td>0</td>\n",
       "      <td>0</td>\n",
       "      <td>0</td>\n",
       "      <td>0</td>\n",
       "      <td>0</td>\n",
       "      <td>0</td>\n",
       "      <td>0</td>\n",
       "      <td>0</td>\n",
       "      <td>0</td>\n",
       "      <td>0</td>\n",
       "      <td>0</td>\n",
       "      <td>0</td>\n",
       "      <td>0</td>\n",
       "      <td>0</td>\n",
       "      <td>0</td>\n",
       "      <td>0</td>\n",
       "    </tr>\n",
       "  </tbody>\n",
       "</table>\n",
       "</div>"
      ],
      "text/plain": [
       "   any  num_mes  nom_mes  regio_policial  area_basica_policial  provincia  \\\n",
       "0    0        0        0               0                     0          0   \n",
       "\n",
       "   comarca  municipi  tipus_de_lloc_dels_fets  canal_dels_fets  tipus_de_fet  \\\n",
       "0        0         0                        0                0             0   \n",
       "\n",
       "   titol_del_fet_codi_penal  tipus_de_fet_codi_penal  ambit_fet  \\\n",
       "0                         0                        0          0   \n",
       "\n",
       "   nombre_fets_o_infraccions  nombre_victimes  \n",
       "0                          0                0  "
      ]
     },
     "execution_count": 66,
     "metadata": {},
     "output_type": "execute_result"
    }
   ],
   "source": [
    "# Counting the NaN values\n",
    "nan_counts = df_criminal.select([count(when(isnan(c), c)).alias(c) for c in df_criminal.columns])\n",
    "nan_counts.toPandas()"
   ]
  },
  {
   "cell_type": "markdown",
   "metadata": {},
   "source": [
    "Filter by region in Barcelona: \n",
    "\n",
    "+ **area_basica_policial**: Variable that defines the barcelona neighbourhood where the crime has taken place. \n",
    "    \n",
    "    + The name will be change to **neighbourhood** to a more comprensive vision. \n",
    "    + IMPORTANT: Only the rows with neighbourhood value situated in Barcelona will be collected. "
   ]
  },
  {
   "cell_type": "code",
   "execution_count": 67,
   "metadata": {},
   "outputs": [
    {
     "data": {
      "text/plain": [
       "['CD Caldes de Montbui',\n",
       " 'ABP Hospitalet de Llobregat',\n",
       " 'ABP Horta-Guinardó',\n",
       " 'ABP Berguedà',\n",
       " 'ABP Barcelona',\n",
       " 'ABP Les Corts',\n",
       " 'ABP Premià de Mar',\n",
       " 'ABP Tarragona',\n",
       " 'ABP Sant Feliu de Llobregat',\n",
       " 'ABP Girona',\n",
       " 'ABP Selva Litoral',\n",
       " 'ABP Terrassa',\n",
       " 'ABP Solsonès',\n",
       " 'ABP Sant Boi de Llobregat',\n",
       " 'ABP Sant Vicenç dels Horts',\n",
       " 'ABP Tortosa',\n",
       " \"Unitat d'informació RPMB\",\n",
       " 'ABP Osona',\n",
       " 'ABP Pineda de Mar',\n",
       " 'ABP Vendrell',\n",
       " 'ABP Anoia',\n",
       " 'ABP Eixample',\n",
       " 'ABP Lloret de Mar',\n",
       " 'ABP Arenys de Mar',\n",
       " 'ABP Sants-Montjuïc',\n",
       " \"ABP Gironès - Pla de l'Estany\",\n",
       " 'ABP Noguera',\n",
       " 'ABP Rubí',\n",
       " 'ABP Badalona',\n",
       " 'ABP Tarragonès',\n",
       " 'ABP Baix Empordà - La Bisbal',\n",
       " 'GUB Badalona',\n",
       " 'ABP Alt Penedès',\n",
       " 'ABP Segarra - Urgell',\n",
       " 'ABP Martorell',\n",
       " 'ABP Granollers',\n",
       " 'ABP el Prat de Llobregat',\n",
       " \"ABP Segrià - Garrigues - Pla d'Urgell\",\n",
       " 'ABP Cornellà de Llobregat',\n",
       " 'GUB Lleida',\n",
       " \"ABP Terra Alta - Ribera d'Ebre\",\n",
       " 'UI Martorell',\n",
       " 'ABP Bages',\n",
       " 'ABP Garraf',\n",
       " 'ABP Gavà',\n",
       " 'ABP Esplugues de Llobregat',\n",
       " 'ABP Sant Adrià del Besòs',\n",
       " 'ABP Sant Andreu',\n",
       " 'ABP Ripollès',\n",
       " 'ABP Cambrils',\n",
       " 'ABP Pallars Jussà - Pallars Sobirà',\n",
       " 'ABP CIUTAT VELLA',\n",
       " 'ABP Santa Coloma de Gramenet',\n",
       " 'ABP Selva Interior',\n",
       " 'ABP Alt Empordà - Figueres',\n",
       " 'Pl Mataró',\n",
       " 'ABP Lleida',\n",
       " 'ABP Sant Feliu de Guixols',\n",
       " 'ABP Mollet del Vallès',\n",
       " 'ABP Sabadell',\n",
       " 'PL Girona',\n",
       " 'ABP Alt Empordà - Roses',\n",
       " 'ABP Montcada i Reixac',\n",
       " 'ABP Cerdanya',\n",
       " 'ABP Cornellà',\n",
       " 'ABP Sant Martí',\n",
       " 'ABP Nou Barris',\n",
       " 'UINF Girona',\n",
       " 'ABP TORTOSA',\n",
       " 'ABP Berga',\n",
       " 'ABP Ciutat Vella',\n",
       " \"ABP l'Hospitalet de Llobregat\",\n",
       " \"ABP Vall d'Aran - Alta Ribagorça\",\n",
       " 'ABP Mataró',\n",
       " 'ABP Cerdanyola',\n",
       " 'ABP Gràcia',\n",
       " 'ABP Garrotxa',\n",
       " 'ABP Baix Penedès',\n",
       " 'ABP Baix Empordà - Sant Feliu',\n",
       " 'PL Granollers',\n",
       " 'Fet fora de Catalunya',\n",
       " 'ABP Sarrià-Sant Gervasi',\n",
       " 'ABP Alt Camp - C. de Barberà',\n",
       " 'ABP Baix Camp - Priorat',\n",
       " 'ABP Montsià',\n",
       " 'ABP Alt Urgell',\n",
       " 'ABP Baix Ebre',\n",
       " 'ABP Manresa']"
      ]
     },
     "execution_count": 67,
     "metadata": {},
     "output_type": "execute_result"
    }
   ],
   "source": [
    "[row['area_basica_policial'] for row in df_criminal.select('area_basica_policial').distinct().collect()]"
   ]
  },
  {
   "cell_type": "code",
   "execution_count": 68,
   "metadata": {},
   "outputs": [
    {
     "data": {
      "text/html": [
       "<div>\n",
       "<style scoped>\n",
       "    .dataframe tbody tr th:only-of-type {\n",
       "        vertical-align: middle;\n",
       "    }\n",
       "\n",
       "    .dataframe tbody tr th {\n",
       "        vertical-align: top;\n",
       "    }\n",
       "\n",
       "    .dataframe thead th {\n",
       "        text-align: right;\n",
       "    }\n",
       "</style>\n",
       "<table border=\"1\" class=\"dataframe\">\n",
       "  <thead>\n",
       "    <tr style=\"text-align: right;\">\n",
       "      <th></th>\n",
       "      <th>any</th>\n",
       "      <th>num_mes</th>\n",
       "      <th>nom_mes</th>\n",
       "      <th>regio_policial</th>\n",
       "      <th>neighbourhood</th>\n",
       "      <th>provincia</th>\n",
       "      <th>comarca</th>\n",
       "      <th>municipi</th>\n",
       "      <th>tipus_de_lloc_dels_fets</th>\n",
       "      <th>canal_dels_fets</th>\n",
       "      <th>tipus_de_fet</th>\n",
       "      <th>titol_del_fet_codi_penal</th>\n",
       "      <th>tipus_de_fet_codi_penal</th>\n",
       "      <th>ambit_fet</th>\n",
       "      <th>nombre_fets_o_infraccions</th>\n",
       "      <th>nombre_victimes</th>\n",
       "    </tr>\n",
       "  </thead>\n",
       "  <tbody>\n",
       "    <tr>\n",
       "      <th>0</th>\n",
       "      <td>2021</td>\n",
       "      <td>6</td>\n",
       "      <td>Juny</td>\n",
       "      <td>RP Metropolitana Barcelona</td>\n",
       "      <td>Nou Barris</td>\n",
       "      <td>Barcelona</td>\n",
       "      <td>Barcelonès</td>\n",
       "      <td>Barcelona</td>\n",
       "      <td>Via pública urbana</td>\n",
       "      <td>Presencial</td>\n",
       "      <td>Delictes</td>\n",
       "      <td>Delictes contra la llibertat</td>\n",
       "      <td>Amenaces</td>\n",
       "      <td>Orientació política</td>\n",
       "      <td>1</td>\n",
       "      <td>1.0</td>\n",
       "    </tr>\n",
       "  </tbody>\n",
       "</table>\n",
       "</div>"
      ],
      "text/plain": [
       "    any num_mes nom_mes              regio_policial neighbourhood  provincia  \\\n",
       "0  2021       6    Juny  RP Metropolitana Barcelona    Nou Barris  Barcelona   \n",
       "\n",
       "      comarca   municipi tipus_de_lloc_dels_fets canal_dels_fets tipus_de_fet  \\\n",
       "0  Barcelonès  Barcelona      Via pública urbana      Presencial     Delictes   \n",
       "\n",
       "       titol_del_fet_codi_penal tipus_de_fet_codi_penal            ambit_fet  \\\n",
       "0  Delictes contra la llibertat                Amenaces  Orientació política   \n",
       "\n",
       "  nombre_fets_o_infraccions  nombre_victimes  \n",
       "0                         1              1.0  "
      ]
     },
     "execution_count": 68,
     "metadata": {},
     "output_type": "execute_result"
    }
   ],
   "source": [
    "df_criminal = df_criminal.filter(df_criminal[\"area_basica_policial\"].isin(\"ABP Eixample\", \"ABP Sants-Montjuïc\", \"ABP Les Corts\", \"ABP Horta-Guinardó\", \n",
    "                                                        \"ABP Sant Martí\", \"ABP Nou Barris\", \"ABP Sarrià-Sant Gervasi\",\"ABP Gràcia\", \"ABP Sant Andreu\", \"ABP CIUTAT VELLA\", \"ABP Ciutat Vella\"))\n",
    "\n",
    "df_criminal = df_criminal.withColumn(\"area_basica_policial\", regexp_replace(\"area_basica_policial\", \"^ABP \", \"\"))\n",
    "df_criminal = df_criminal.withColumnRenamed(\"area_basica_policial\", \"neighbourhood\")\n",
    "df_criminal.limit(1).toPandas()"
   ]
  },
  {
   "cell_type": "markdown",
   "metadata": {},
   "source": [
    "Numeric Features Distributions Insights:\n",
    "\n",
    "<div class=\"alert alert-block alert-info\" style=\"color: #01579B; background-color: #E1F5FE; border-color: #01579B;\">\n",
    "\n",
    "- **nombre_fets_o_infraccions**: All the values concentrated in 1\n",
    "- **nombre_victimes**: Replace None Values with 0. \n",
    "  - We assume that there is not a victim in the crime. \n",
    "\n",
    "- More criminality acts in 2023:\n",
    "  - May and July: Months with more criminal acts in Barcelona. \n",
    "  - December: Month with less criminal acts in Barcelona. \n",
    "  - Most criminal cases have 1 victim and a maximum of 7 victims with a low concentration.\n",
    "</div>"
   ]
  },
  {
   "cell_type": "code",
   "execution_count": 69,
   "metadata": {},
   "outputs": [],
   "source": [
    "# Replace each None -> 1 victims (minimum per dencuncia)\n",
    "df_criminal = df_criminal.withColumn('nombre_victimes', when(col('nombre_victimes').isNull(), 1).otherwise(col('nombre_victimes')))"
   ]
  },
  {
   "cell_type": "code",
   "execution_count": 70,
   "metadata": {},
   "outputs": [
    {
     "name": "stderr",
     "output_type": "stream",
     "text": [
      "                                                                                \r"
     ]
    },
    {
     "data": {
      "image/png": "[encoded data removed]",
      "text/plain": [
       "<Figure size 864x720 with 4 Axes>"
      ]
     },
     "metadata": {
      "needs_background": "light"
     },
     "output_type": "display_data"
    }
   ],
   "source": [
    "numeric_columns = ['any', 'num_mes', 'nombre_fets_o_infraccions', 'nombre_victimes']\n",
    "utils.plot_numeric_histograms(df_criminal, numeric_columns)"
   ]
  },
  {
   "cell_type": "markdown",
   "metadata": {},
   "source": [
    "Categorical Features Distributions Insights:\n",
    "\n",
    "<div class=\"alert alert-block alert-info\" style=\"color: #01579B; background-color: #E1F5FE; border-color: #01579B;\">\n",
    "\n",
    "+ **neighbourhood**: \n",
    "    - Technical data cleaning improvements where the `Ciutat Vella` basic police area is inconsistently spelled in uppercase and lowercase → unify.\n",
    "    - Interestingly, `Eixample` and `Ciutat Vella` are the regions where hate crimes occur most frequently.\n",
    "    \n",
    "- **tipus_de_fet**: The majority of incidents are crimes, but the variable itself is redundant for our study → drop.\n",
    "- **ambit_fet**: Indicates the type of crime, with hate crimes based on LGTBI-fobia standing out significantly with a much higher ratio than others.\n",
    "    - The name will be change to **type_crime** to a more comprensive vision. \n",
    "- **canal_dels_fets**: Indicates whether incidents were reported through social channels or in person. Since our study focuses on street incidents in Barcelona, non-face-to-face criminal acts will not be considered.\n",
    "</div>"
   ]
  },
  {
   "cell_type": "code",
   "execution_count": 71,
   "metadata": {},
   "outputs": [
    {
     "data": {
      "image/png": "[encoded data removed]",
      "text/plain": [
       "<Figure size 648x720 with 4 Axes>"
      ]
     },
     "metadata": {
      "needs_background": "light"
     },
     "output_type": "display_data"
    }
   ],
   "source": [
    "# Categorical features \n",
    "categorical_columns = ['neighbourhood', 'tipus_de_fet', 'ambit_fet', 'canal_dels_fets']\n",
    "\n",
    "fig, axs = plt.subplots(2, 2, figsize=(9, 10))  \n",
    "axs = axs.flatten()  # Aplanar la matriz de subplots\n",
    "color_palette = ['skyblue', 'salmon', 'lightgreen', 'orange'] # Paleta de colores\n",
    "\n",
    "for i, column in enumerate(categorical_columns):\n",
    "    ax = axs[i]  \n",
    "    color = color_palette[i % len(color_palette)]  \n",
    "    utils.plot_categorical_distribution(df_criminal, column, ax, color)\n",
    "\n",
    "plt.tight_layout()\n",
    "plt.show()"
   ]
  },
  {
   "cell_type": "code",
   "execution_count": 72,
   "metadata": {
    "scrolled": true
   },
   "outputs": [
    {
     "name": "stdout",
     "output_type": "stream",
     "text": [
      "+--------------------+\n",
      "|           ambit_fet|\n",
      "+--------------------+\n",
      "|Discapacitat psíq...|\n",
      "|Discapacitat inte...|\n",
      "| Orientació política|\n",
      "|Ètnic/origen naci...|\n",
      "|             Sexisme|\n",
      "|Discapacitat físi...|\n",
      "|          Aporofòbia|\n",
      "|Discapacitat físi...|\n",
      "|         Islamofòbia|\n",
      "|Ètnia/origen naci...|\n",
      "|Etnic/origen naci...|\n",
      "|          Antisemita|\n",
      "|         LGTBI-fòbia|\n",
      "|       Antigitanisme|\n",
      "|Ètnic, origen nac...|\n",
      "|            Malaltia|\n",
      "|            Religiós|\n",
      "+--------------------+\n",
      "\n",
      "+--------------------+\n",
      "|           ambit_fet|\n",
      "+--------------------+\n",
      "|Ethnic/national/r...|\n",
      "|        Antisemitism|\n",
      "|        Islamophobia|\n",
      "|Intellectual disa...|\n",
      "|Political orienta...|\n",
      "|        LGBTI-phobia|\n",
      "|       Anti-gypsyism|\n",
      "|Psychological dis...|\n",
      "|         Aporophobia|\n",
      "|           Religious|\n",
      "|Physical/sensory ...|\n",
      "|             Illness|\n",
      "|              Sexism|\n",
      "+--------------------+\n",
      "\n"
     ]
    }
   ],
   "source": [
    "## Unify the col values in English for visualization\n",
    "df_criminal.select(\"ambit_fet\").distinct().show()\n",
    "\n",
    "value_translation = {\n",
    "    \"Discapacitat psíquica/mental\": \"Psychological disability\",\n",
    "    \"Discapacitat intel·lectual/mental\": \"Intellectual disability\",\n",
    "    \"Orientació política\": \"Political orientation\",\n",
    "    \"Ètnic/origen nacional/origen racial\": \"Ethnic/national/racial origin\",\n",
    "    \"Sexisme\": \"Sexism\",\n",
    "    \"Discapacitat física/sensorial\": \"Physical/sensory disability\",\n",
    "    \"Discapacitat físic/sensorial\": \"Physical/sensory disability\",    \n",
    "    \"Aporofòbia\": \"Aporophobia\",\n",
    "    \"Discapacitat física/sensorial\": \"Physical/sensory disability\",\n",
    "    \"Islamofòbia\": \"Islamophobia\",\n",
    "    \"Ètnia/origen nacional/origen racial\": \"Ethnic/national/racial origin\",\n",
    "    \"Etnic/origen nacional/origen racial\": \"Ethnic/national/racial origin\",\n",
    "    \"Antisemita\": \"Antisemitism\",\n",
    "    \"LGTBI-fòbia\": \"LGBTI-phobia\",\n",
    "    \"Antigitanisme\": \"Anti-gypsyism\",\n",
    "    \"Ètnic, origen nacional i/o racial\": \"Ethnic/national/racial origin\",\n",
    "    \"Malaltia\": \"Illness\",\n",
    "    \"Religiós\": \"Religious\"\n",
    "}\n",
    "\n",
    "for original, translated in value_translation.items():\n",
    "    df_criminal = df_criminal.withColumn(\"ambit_fet\", when(df_criminal[\"ambit_fet\"] == original, translated).otherwise(df_criminal[\"ambit_fet\"]))\n",
    "df_criminal.select(\"ambit_fet\").distinct().show()\n",
    "df_criminal = df_criminal.withColumnRenamed(\"ambit_fet\", \"type_crime\")\n"
   ]
  },
  {
   "cell_type": "markdown",
   "metadata": {},
   "source": [
    "Categorical Data Cleaning\n",
    "\n",
    "+ canal_dels_fets: Take the ones that have happened presential. \n",
    "\n",
    "+  Word Cloud: \n",
    "    - **titol_de_fet_codi_penal**: Not relevant for visualizing the results for our study -- Legislative.\n",
    "+ **Tipus_de_codi_penal**: Requires preprocessing before the variable can be useful for the study.\n",
    "+ **Tipus_de_lloc_dels_fets**: It highlights that the majority of crimes occur in public places, also inside residential premises (apartments, houses), as well as in building entrances or public transport.\n",
    "\n"
   ]
  },
  {
   "cell_type": "code",
   "execution_count": 73,
   "metadata": {},
   "outputs": [],
   "source": [
    "# Replace Ciutat Vella uppercase\n",
    "df_criminal = df_criminal.withColumn(\"neighbourhood\", regexp_replace(df_criminal[\"neighbourhood\"], \"CIUTAT VELLA\", \"Ciutat Vella\"))"
   ]
  },
  {
   "cell_type": "code",
   "execution_count": 74,
   "metadata": {},
   "outputs": [
    {
     "data": {
      "text/plain": [
       "'# Textual cols\\ncolumns_and_titles = {\\n    \"tipus_de_fet_codi_penal\": \"Word Cloud for tipus_de_fet_codi_penal\",\\n    \"titol_del_fet_codi_penal\": \"Word Cloud for titol_del_fet_codi_penal\",\\n    \"tipus_de_lloc_dels_fets\": \"Word Cloud for tipus_de_lloc_dels_fets\"\\n}\\n\\nfor column, title in columns_and_titles.items():\\n    values = df_criminal.select(column).rdd.flatMap(lambda x: x).filter(lambda x: x is not None).collect()\\n    utils.generate_word_cloud(values, title)'"
      ]
     },
     "execution_count": 74,
     "metadata": {},
     "output_type": "execute_result"
    }
   ],
   "source": [
    "\"\"\"# Textual cols\n",
    "columns_and_titles = {\n",
    "    \"tipus_de_fet_codi_penal\": \"Word Cloud for tipus_de_fet_codi_penal\",\n",
    "    \"titol_del_fet_codi_penal\": \"Word Cloud for titol_del_fet_codi_penal\",\n",
    "    \"tipus_de_lloc_dels_fets\": \"Word Cloud for tipus_de_lloc_dels_fets\"\n",
    "}\n",
    "\n",
    "for column, title in columns_and_titles.items():\n",
    "    values = df_criminal.select(column).rdd.flatMap(lambda x: x).filter(lambda x: x is not None).collect()\n",
    "    utils.generate_word_cloud(values, title)\"\"\""
   ]
  },
  {
   "cell_type": "code",
   "execution_count": 75,
   "metadata": {},
   "outputs": [
    {
     "data": {
      "text/plain": [
       "[None]"
      ]
     },
     "execution_count": 75,
     "metadata": {},
     "output_type": "execute_result"
    }
   ],
   "source": [
    "# Preprocessing --> tipus_de_lloc_dels_fets\n",
    "tipus_de_lloc_dels_fets_values = df_criminal.select(\"tipus_de_lloc_dels_fets\").rdd.flatMap(lambda x: x).filter(lambda x: x is  None).collect()\n",
    "tipus_de_lloc_dels_fets_values # Nomes hi ha un none drop la mostra"
   ]
  },
  {
   "cell_type": "code",
   "execution_count": 76,
   "metadata": {},
   "outputs": [],
   "source": [
    "df_criminal = df_criminal.filter(df_criminal.tipus_de_lloc_dels_fets.isNotNull())"
   ]
  },
  {
   "cell_type": "code",
   "execution_count": 77,
   "metadata": {},
   "outputs": [
    {
     "name": "stdout",
     "output_type": "stream",
     "text": [
      "root\n",
      " |-- any: decimal(20,0) (nullable = true)\n",
      " |-- num_mes: decimal(20,0) (nullable = true)\n",
      " |-- nom_mes: string (nullable = true)\n",
      " |-- regio_policial: string (nullable = true)\n",
      " |-- neighbourhood: string (nullable = true)\n",
      " |-- provincia: string (nullable = true)\n",
      " |-- comarca: string (nullable = true)\n",
      " |-- municipi: string (nullable = true)\n",
      " |-- tipus_de_lloc_dels_fets: string (nullable = true)\n",
      " |-- canal_dels_fets: string (nullable = true)\n",
      " |-- tipus_de_fet: string (nullable = true)\n",
      " |-- titol_del_fet_codi_penal: string (nullable = true)\n",
      " |-- tipus_de_fet_codi_penal: string (nullable = true)\n",
      " |-- type_crime: string (nullable = true)\n",
      " |-- nombre_fets_o_infraccions: decimal(20,0) (nullable = true)\n",
      " |-- nombre_victimes: double (nullable = true)\n",
      "\n"
     ]
    },
    {
     "data": {
      "text/html": [
       "<div>\n",
       "<style scoped>\n",
       "    .dataframe tbody tr th:only-of-type {\n",
       "        vertical-align: middle;\n",
       "    }\n",
       "\n",
       "    .dataframe tbody tr th {\n",
       "        vertical-align: top;\n",
       "    }\n",
       "\n",
       "    .dataframe thead th {\n",
       "        text-align: right;\n",
       "    }\n",
       "</style>\n",
       "<table border=\"1\" class=\"dataframe\">\n",
       "  <thead>\n",
       "    <tr style=\"text-align: right;\">\n",
       "      <th></th>\n",
       "      <th>any</th>\n",
       "      <th>num_mes</th>\n",
       "      <th>nom_mes</th>\n",
       "      <th>regio_policial</th>\n",
       "      <th>neighbourhood</th>\n",
       "      <th>provincia</th>\n",
       "      <th>comarca</th>\n",
       "      <th>municipi</th>\n",
       "      <th>tipus_de_lloc_dels_fets</th>\n",
       "      <th>canal_dels_fets</th>\n",
       "      <th>tipus_de_fet</th>\n",
       "      <th>titol_del_fet_codi_penal</th>\n",
       "      <th>tipus_de_fet_codi_penal</th>\n",
       "      <th>type_crime</th>\n",
       "      <th>nombre_fets_o_infraccions</th>\n",
       "      <th>nombre_victimes</th>\n",
       "    </tr>\n",
       "  </thead>\n",
       "  <tbody>\n",
       "    <tr>\n",
       "      <th>0</th>\n",
       "      <td>2021</td>\n",
       "      <td>6</td>\n",
       "      <td>Juny</td>\n",
       "      <td>RP Metropolitana Barcelona</td>\n",
       "      <td>Nou Barris</td>\n",
       "      <td>Barcelona</td>\n",
       "      <td>Barcelonès</td>\n",
       "      <td>Barcelona</td>\n",
       "      <td>Via pública urbana</td>\n",
       "      <td>Presencial</td>\n",
       "      <td>Delictes</td>\n",
       "      <td>Delictes contra la llibertat</td>\n",
       "      <td>Amenaces</td>\n",
       "      <td>Political orientation</td>\n",
       "      <td>1</td>\n",
       "      <td>1.0</td>\n",
       "    </tr>\n",
       "  </tbody>\n",
       "</table>\n",
       "</div>"
      ],
      "text/plain": [
       "    any num_mes nom_mes              regio_policial neighbourhood  provincia  \\\n",
       "0  2021       6    Juny  RP Metropolitana Barcelona    Nou Barris  Barcelona   \n",
       "\n",
       "      comarca   municipi tipus_de_lloc_dels_fets canal_dels_fets tipus_de_fet  \\\n",
       "0  Barcelonès  Barcelona      Via pública urbana      Presencial     Delictes   \n",
       "\n",
       "       titol_del_fet_codi_penal tipus_de_fet_codi_penal  \\\n",
       "0  Delictes contra la llibertat                Amenaces   \n",
       "\n",
       "              type_crime nombre_fets_o_infraccions  nombre_victimes  \n",
       "0  Political orientation                         1              1.0  "
      ]
     },
     "execution_count": 77,
     "metadata": {},
     "output_type": "execute_result"
    }
   ],
   "source": [
    "# ----------------- Final Schema and instance example -----------------\n",
    "df_criminal.printSchema()\n",
    "df_criminal.limit(1).toPandas() "
   ]
  },
  {
   "cell_type": "markdown",
   "metadata": {},
   "source": [
    "<div style=\"background-color:#F2F2F2; padding: 10px;\">\n",
    "    <div style=\"text-align: center;\">\n",
    "        <span style=\"font-family: 'Playfair Display', serif; font-size: 20px; font-weight: bold; color: black;\">\n",
    "            Airbnb Dataset\n",
    "        </span>\n",
    "    </div>\n",
    "</div>\n",
    "\n",
    "#### DataFrame Schema\n",
    "\n",
    "<div class=\"alert alert-block alert-info\" style=\"color: #01571B; background-color: #C8E5C6;\">\n",
    "    \n",
    "The DataFrame comprises various groups of columns, each providing distinct details related to property listings:\n",
    "\n",
    "- The DataFrame has **9999 rows** and **54 columns**.\n",
    "\n",
    "**Property Information:**\n",
    "- **name:** A string indicating the name of the property.\n",
    "- **summary:** A string providing a brief overview of the property.\n",
    "- **space:** A string describing the available space within the property.\n",
    "- **neighborhood_overview:** A string offering insights into the neighborhood surrounding the property.\n",
    "- **notes:** Additional notes or remarks about the property.\n",
    "\n",
    "**Host Information:**\n",
    "- **host_id:** An identifier for the host of the property.\n",
    "- **host_name:** The name of the host.\n",
    "- **host_since:** The date when the host joined the platform.\n",
    "- **host_location:** The location of the host.\n",
    "- **host_about:** Information or description about the host.\n",
    "\n",
    "**Host Response Details:**\n",
    "- **host_response_time:** The typical response time of the host.\n",
    "- **host_response_rate:** The rate of responses from the host, represented as a double.\n",
    "- **host_verifications:** Methods used to verify the host's identity.\n",
    "\n",
    "**Location Details:**\n",
    "- **street:** The street address of the property.\n",
    "- **neighbourhood:** The name of the neighborhood where the property is located.\n",
    "- **latitude:** The latitude coordinate of the property.\n",
    "- **longitude:** The longitude coordinate of the property.\n",
    "\n",
    "**Property Details:**\n",
    "- **property_type:** The type or category of the property.\n",
    "- **room_type:** The type of room available in the property (e.g., entire home, private room, shared room).\n",
    "- **accommodates:** The maximum number of guests the property can accommodate, represented as a decimal.\n",
    "- **bathrooms:** The number of bathrooms in the property, represented as a double.\n",
    "- **bedrooms:** The number of bedrooms in the property, represented as a double.\n",
    "- **beds:** The number of beds available in the property, represented as a double.\n",
    "- **bed_type:** The type of bed(s) available in the property.\n",
    "</div>\n",
    "\n",
    "\n",
    "Remove Columns:\n",
    "\n",
    "These following columns are being removed due to their limited relevance in predicting Airbnb rental prices, as they either provide redundant information:\n",
    "\n",
    "- neighbourhood: The neighborhood is being removed due to redundancy with Latitude and Longitude.\n",
    "- Name: Name does not provide relevant information.\n",
    "- summary, space, neighborhood_overview, notes, access, interaction, house_rules: These attributes are subjective and difficult to quantify, making them unsuitable as predictors of rental price.\n",
    "- host_id, host_name, host_since, host_location, host_about, host_response_time, host_response_rate, host_verifications: Host information does not directly influence rental price.\n",
    "street: The specific property address is not a direct predictor of rental price.\n",
    "weekly_price, monthly_price, minimum_nights, maximum_nights, availability_30, availability_60, availability_90, availability_365, number_of_reviews, review_scores_rating, review_scores_accuracy, review_scores_cleanliness, review_scores_checkin, review_scores_communication, review_scores_value, reviews_per_month: These attributes are not relevant for predicting rental price or are difficult to quantify.\n",
    "- features, id: They do not provide relevant information for predicting rental price.\n"
   ]
  },
  {
   "cell_type": "code",
   "execution_count": 78,
   "metadata": {},
   "outputs": [
    {
     "data": {
      "text/html": [
       "<div>\n",
       "<style scoped>\n",
       "    .dataframe tbody tr th:only-of-type {\n",
       "        vertical-align: middle;\n",
       "    }\n",
       "\n",
       "    .dataframe tbody tr th {\n",
       "        vertical-align: top;\n",
       "    }\n",
       "\n",
       "    .dataframe thead th {\n",
       "        text-align: right;\n",
       "    }\n",
       "</style>\n",
       "<table border=\"1\" class=\"dataframe\">\n",
       "  <thead>\n",
       "    <tr style=\"text-align: right;\">\n",
       "      <th></th>\n",
       "      <th>id</th>\n",
       "      <th>listing_url</th>\n",
       "      <th>scrape_id</th>\n",
       "      <th>last_scraped</th>\n",
       "      <th>name</th>\n",
       "      <th>summary</th>\n",
       "      <th>space</th>\n",
       "      <th>description</th>\n",
       "      <th>experiences_offered</th>\n",
       "      <th>neighborhood_overview</th>\n",
       "      <th>...</th>\n",
       "      <th>review_scores_value</th>\n",
       "      <th>license</th>\n",
       "      <th>jurisdiction_names</th>\n",
       "      <th>cancellation_policy</th>\n",
       "      <th>calculated_host_listings_count</th>\n",
       "      <th>reviews_per_month</th>\n",
       "      <th>features</th>\n",
       "      <th>geolocation.lon</th>\n",
       "      <th>geolocation.lat</th>\n",
       "      <th>__index_level_0__</th>\n",
       "    </tr>\n",
       "  </thead>\n",
       "  <tbody>\n",
       "    <tr>\n",
       "      <th>0</th>\n",
       "      <td>14618223</td>\n",
       "      <td>https://www.airbnb.com/rooms/14618223</td>\n",
       "      <td>20170407214050</td>\n",
       "      <td>2017-04-08</td>\n",
       "      <td>Piso cerca del Cam Nou</td>\n",
       "      <td>Acogedor y juvenil piso bien comunicado y en u...</td>\n",
       "      <td>Somos 2 chicos jóvenes y trabajadores que segu...</td>\n",
       "      <td>Acogedor y juvenil piso bien comunicado y en u...</td>\n",
       "      <td>none</td>\n",
       "      <td>None</td>\n",
       "      <td>...</td>\n",
       "      <td>10.0</td>\n",
       "      <td>None</td>\n",
       "      <td>NaN</td>\n",
       "      <td>moderate</td>\n",
       "      <td>1</td>\n",
       "      <td>0.13</td>\n",
       "      <td>Host Has Profile Pic, Host Identity Verified, ...</td>\n",
       "      <td>2.122076</td>\n",
       "      <td>41.37815</td>\n",
       "      <td>0</td>\n",
       "    </tr>\n",
       "  </tbody>\n",
       "</table>\n",
       "<p>1 rows × 91 columns</p>\n",
       "</div>"
      ],
      "text/plain": [
       "         id                            listing_url       scrape_id  \\\n",
       "0  14618223  https://www.airbnb.com/rooms/14618223  20170407214050   \n",
       "\n",
       "  last_scraped                    name  \\\n",
       "0   2017-04-08  Piso cerca del Cam Nou   \n",
       "\n",
       "                                             summary  \\\n",
       "0  Acogedor y juvenil piso bien comunicado y en u...   \n",
       "\n",
       "                                               space  \\\n",
       "0  Somos 2 chicos jóvenes y trabajadores que segu...   \n",
       "\n",
       "                                         description experiences_offered  \\\n",
       "0  Acogedor y juvenil piso bien comunicado y en u...                none   \n",
       "\n",
       "  neighborhood_overview  ... review_scores_value license jurisdiction_names  \\\n",
       "0                  None  ...                10.0    None                NaN   \n",
       "\n",
       "  cancellation_policy calculated_host_listings_count reviews_per_month  \\\n",
       "0            moderate                              1              0.13   \n",
       "\n",
       "                                            features  geolocation.lon  \\\n",
       "0  Host Has Profile Pic, Host Identity Verified, ...         2.122076   \n",
       "\n",
       "  geolocation.lat __index_level_0__  \n",
       "0        41.37815                 0  \n",
       "\n",
       "[1 rows x 91 columns]"
      ]
     },
     "execution_count": 78,
     "metadata": {},
     "output_type": "execute_result"
    }
   ],
   "source": [
    "df_airbnb = spark.read \\\n",
    "  .format(\"jdbc\") \\\n",
    "  .option(\"url\", jdbc_url) \\\n",
    "  .option(\"driver\", driver) \\\n",
    "  .option(\"query\", \"SELECT * FROM df_airbnb_listings\") \\\n",
    "  .load()\n",
    "\n",
    "df_airbnb.limit(1).toPandas()"
   ]
  },
  {
   "cell_type": "code",
   "execution_count": 79,
   "metadata": {},
   "outputs": [
    {
     "data": {
      "text/html": [
       "<div>\n",
       "<style scoped>\n",
       "    .dataframe tbody tr th:only-of-type {\n",
       "        vertical-align: middle;\n",
       "    }\n",
       "\n",
       "    .dataframe tbody tr th {\n",
       "        vertical-align: top;\n",
       "    }\n",
       "\n",
       "    .dataframe thead th {\n",
       "        text-align: right;\n",
       "    }\n",
       "</style>\n",
       "<table border=\"1\" class=\"dataframe\">\n",
       "  <thead>\n",
       "    <tr style=\"text-align: right;\">\n",
       "      <th></th>\n",
       "      <th>name</th>\n",
       "      <th>summary</th>\n",
       "      <th>host_id</th>\n",
       "      <th>host_url</th>\n",
       "      <th>host_name</th>\n",
       "      <th>host_since</th>\n",
       "      <th>host_location</th>\n",
       "      <th>host_thumbnail_url</th>\n",
       "      <th>host_picture_url</th>\n",
       "      <th>host_listings_count</th>\n",
       "      <th>...</th>\n",
       "      <th>availability_30</th>\n",
       "      <th>availability_60</th>\n",
       "      <th>availability_90</th>\n",
       "      <th>availability_365</th>\n",
       "      <th>calendar_last_scraped</th>\n",
       "      <th>number_of_reviews</th>\n",
       "      <th>cancellation_policy</th>\n",
       "      <th>features</th>\n",
       "      <th>geolocation.lon</th>\n",
       "      <th>geolocation.lat</th>\n",
       "    </tr>\n",
       "  </thead>\n",
       "  <tbody>\n",
       "    <tr>\n",
       "      <th>0</th>\n",
       "      <td>Piso cerca del Cam Nou</td>\n",
       "      <td>Acogedor y juvenil piso bien comunicado y en u...</td>\n",
       "      <td>38925857</td>\n",
       "      <td>https://www.airbnb.com/users/show/38925857</td>\n",
       "      <td>Javier</td>\n",
       "      <td>2015-07-19</td>\n",
       "      <td>Toledo, Castile-La Mancha, Spain</td>\n",
       "      <td>https://a0.muscache.com/im/pictures/c4b46d10-2...</td>\n",
       "      <td>https://a0.muscache.com/im/pictures/c4b46d10-2...</td>\n",
       "      <td>1.0</td>\n",
       "      <td>...</td>\n",
       "      <td>0</td>\n",
       "      <td>4</td>\n",
       "      <td>34</td>\n",
       "      <td>309</td>\n",
       "      <td>2017-04-07</td>\n",
       "      <td>1</td>\n",
       "      <td>moderate</td>\n",
       "      <td>Host Has Profile Pic, Host Identity Verified, ...</td>\n",
       "      <td>2.122076</td>\n",
       "      <td>41.37815</td>\n",
       "    </tr>\n",
       "  </tbody>\n",
       "</table>\n",
       "<p>1 rows × 46 columns</p>\n",
       "</div>"
      ],
      "text/plain": [
       "                     name                                            summary  \\\n",
       "0  Piso cerca del Cam Nou  Acogedor y juvenil piso bien comunicado y en u...   \n",
       "\n",
       "    host_id                                    host_url host_name  host_since  \\\n",
       "0  38925857  https://www.airbnb.com/users/show/38925857    Javier  2015-07-19   \n",
       "\n",
       "                      host_location  \\\n",
       "0  Toledo, Castile-La Mancha, Spain   \n",
       "\n",
       "                                  host_thumbnail_url  \\\n",
       "0  https://a0.muscache.com/im/pictures/c4b46d10-2...   \n",
       "\n",
       "                                    host_picture_url  host_listings_count  \\\n",
       "0  https://a0.muscache.com/im/pictures/c4b46d10-2...                  1.0   \n",
       "\n",
       "   ...  availability_30 availability_60 availability_90 availability_365  \\\n",
       "0  ...                0               4              34              309   \n",
       "\n",
       "  calendar_last_scraped number_of_reviews cancellation_policy  \\\n",
       "0            2017-04-07                 1            moderate   \n",
       "\n",
       "                                            features geolocation.lon  \\\n",
       "0  Host Has Profile Pic, Host Identity Verified, ...        2.122076   \n",
       "\n",
       "  geolocation.lat  \n",
       "0        41.37815  \n",
       "\n",
       "[1 rows x 46 columns]"
      ]
     },
     "execution_count": 79,
     "metadata": {},
     "output_type": "execute_result"
    }
   ],
   "source": [
    "columns_to_drop = [ 'neighbourhood', \"space\", 'neighborhood_overview', 'transit', 'notes', 'access', 'interaction', 'house_rules', \n",
    "                    'host_about', 'host_response_time', 'host_response_rate', 'street', 'weekly_price', 'monthly_price', \n",
    "                    'review_scores_rating', 'review_scores_accuracy', 'review_scores_value', 'review_scores_cleanliness', \n",
    "                    'review_scores_checkin', 'review_scores_communication', 'reviews_per_month', 'id', \"listing_url\", 'amenities', \n",
    "                    'square_feet', \"Description\", \"experiences_offered\", \"scrape_id\", \"last_scraped\", \"jurisdiction_names\", \n",
    "                    \"thumbnail_url\", \"host_acceptance_rate\", \"xl_picture_url\",\"picture_url\",  \"host_neighbourhood\", \"medium_url\", \n",
    "                    \"__index_level_0__\", \"state\", \"license\", \"calculated_host_listings_count\", \"first_review\", \"last_review\", \n",
    "                    \"has_availability\", \"zipcode\", \"review_scores_location\"]\n",
    "\n",
    "df_airbnb = df_airbnb.drop(*columns_to_drop)\n",
    "df_airbnb.limit(1).toPandas() "
   ]
  },
  {
   "cell_type": "markdown",
   "metadata": {},
   "source": [
    "Location Features Unification\n",
    "\n",
    "<div class=\"alert alert-block alert-warning\" style=\"color: #FFB300; background-color: #FFF9C4;\">\n",
    "All the apartments are located in Barcelona. \n",
    "\n",
    "- Remove the redundant cols in location stage that are the same: `['market', \"city\", \"smart_location\", \"country\", \"country_code\", \"zipcode\", ]\n",
    "    \n",
    "    - **Market**: Remove the ones that are not in Barcelona.\n",
    "    - **Country**: Remove because they are the same. \n",
    "    - `Zip Code`: Redundance because it is the same as Geolocation data. \n",
    "    - `geolocation.lon`, `geolocation.lat`: Remove because has same information than `Latitud`, `Longitud`.\n",
    "        - Are the same values?  Relation data `neighbourhood` features & `criminal_dataset`\n",
    "    - `neighbourhood_cleansed`: Remove because has same informatin as `Latitud`, `Longitud`.\n",
    "    - `neighbourhood_group_cleansed`: Keep in order to match with criminal dataset. Change name to `neighbourhood`.\n",
    "</div>"
   ]
  },
  {
   "cell_type": "code",
   "execution_count": 80,
   "metadata": {},
   "outputs": [
    {
     "name": "stdout",
     "output_type": "stream",
     "text": [
      "+----------------+\n",
      "|          market|\n",
      "+----------------+\n",
      "|       Barcelona|\n",
      "|    Buenos Aires|\n",
      "|Costa Brava Nord|\n",
      "|        Valencia|\n",
      "|            NULL|\n",
      "+----------------+\n",
      "\n"
     ]
    }
   ],
   "source": [
    "# Remove instances market is not Barcelona\n",
    "df_airbnb.select(\"market\").distinct().show()\n",
    "df_airbnb = df_airbnb.filter(df_airbnb['market'] == 'Barcelona')"
   ]
  },
  {
   "cell_type": "code",
   "execution_count": 81,
   "metadata": {},
   "outputs": [
    {
     "name": "stdout",
     "output_type": "stream",
     "text": [
      "+------------------+------------------+------------------+------------------+\n",
      "|   geolocation_lon|   geolocation_lat|          latitude|         longitude|\n",
      "+------------------+------------------+------------------+------------------+\n",
      "| 2.122075545481956|41.378150177192396|41.378150177192396| 2.122075545481956|\n",
      "|2.1049250609405097|  41.4148655885311|  41.4148655885311|2.1049250609405097|\n",
      "|2.1407658129075626|41.410925919974986|41.410925919974986|2.1407658129075626|\n",
      "|2.1578867703448044| 41.40097836628479| 41.40097836628479|2.1578867703448044|\n",
      "| 2.208579360995987| 41.42119449770243| 41.42119449770243| 2.208579360995987|\n",
      "+------------------+------------------+------------------+------------------+\n",
      "\n"
     ]
    }
   ],
   "source": [
    "# Location change name -- solving text issues\n",
    "df_airbnb = df_airbnb.withColumnRenamed('neighbourhood_group_cleansed', 'neighbourhood')\n",
    "column_mapping = dict(zip(df_airbnb.columns[-2:], [\"geolocation_lon\", \"geolocation_lat\"]))\n",
    "\n",
    "for old_name, new_name in column_mapping.items():\n",
    "    df_airbnb = df_airbnb.withColumnRenamed(old_name, new_name)\n",
    "\n",
    "location = df_airbnb.select(\"geolocation_lon\", \"geolocation_lat\", \"latitude\", \"longitude\").limit(5)\n",
    "location.show()\n",
    "\n",
    "# Same values -- Drop geolocation_lon and geolocation_lon\n",
    "columns_to_drop = [\"geolocation_lon\", \"geolocation_lat\"]\n",
    "df_airbnb = df_airbnb.drop(*columns_to_drop)"
   ]
  },
  {
   "cell_type": "markdown",
   "metadata": {},
   "source": [
    "NULL Values \n",
    "\n",
    "<div class=\"alert alert-block alert-warning\" style=\"color: #C23B22; background-color: #f8c3c0;\">\n",
    "\n",
    "- **square_feet**: Remove because has a wide range of Null values.\n",
    "- **security_deposit** & **cleaning_fee**: Replace the NULL to 0 (assumed that there are 0).\n",
    "- **review_scores_location**: Replace Null Values with \n",
    "</div>\n"
   ]
  },
  {
   "cell_type": "code",
   "execution_count": 82,
   "metadata": {},
   "outputs": [
    {
     "name": "stderr",
     "output_type": "stream",
     "text": [
      "                                                                                \r"
     ]
    },
    {
     "data": {
      "text/html": [
       "<div>\n",
       "<style scoped>\n",
       "    .dataframe tbody tr th:only-of-type {\n",
       "        vertical-align: middle;\n",
       "    }\n",
       "\n",
       "    .dataframe tbody tr th {\n",
       "        vertical-align: top;\n",
       "    }\n",
       "\n",
       "    .dataframe thead th {\n",
       "        text-align: right;\n",
       "    }\n",
       "</style>\n",
       "<table border=\"1\" class=\"dataframe\">\n",
       "  <thead>\n",
       "    <tr style=\"text-align: right;\">\n",
       "      <th></th>\n",
       "      <th>name</th>\n",
       "      <th>summary</th>\n",
       "      <th>host_id</th>\n",
       "      <th>host_url</th>\n",
       "      <th>host_name</th>\n",
       "      <th>host_since</th>\n",
       "      <th>host_location</th>\n",
       "      <th>host_thumbnail_url</th>\n",
       "      <th>host_picture_url</th>\n",
       "      <th>host_listings_count</th>\n",
       "      <th>...</th>\n",
       "      <th>maximum_nights</th>\n",
       "      <th>calendar_updated</th>\n",
       "      <th>availability_30</th>\n",
       "      <th>availability_60</th>\n",
       "      <th>availability_90</th>\n",
       "      <th>availability_365</th>\n",
       "      <th>calendar_last_scraped</th>\n",
       "      <th>number_of_reviews</th>\n",
       "      <th>cancellation_policy</th>\n",
       "      <th>features</th>\n",
       "    </tr>\n",
       "  </thead>\n",
       "  <tbody>\n",
       "    <tr>\n",
       "      <th>0</th>\n",
       "      <td>1</td>\n",
       "      <td>0</td>\n",
       "      <td>0</td>\n",
       "      <td>0</td>\n",
       "      <td>4</td>\n",
       "      <td>4</td>\n",
       "      <td>30</td>\n",
       "      <td>4</td>\n",
       "      <td>4</td>\n",
       "      <td>4</td>\n",
       "      <td>...</td>\n",
       "      <td>0</td>\n",
       "      <td>0</td>\n",
       "      <td>0</td>\n",
       "      <td>0</td>\n",
       "      <td>0</td>\n",
       "      <td>0</td>\n",
       "      <td>0</td>\n",
       "      <td>0</td>\n",
       "      <td>0</td>\n",
       "      <td>0</td>\n",
       "    </tr>\n",
       "  </tbody>\n",
       "</table>\n",
       "<p>1 rows × 44 columns</p>\n",
       "</div>"
      ],
      "text/plain": [
       "   name  summary  host_id  host_url  host_name  host_since  host_location  \\\n",
       "0     1        0        0         0          4           4             30   \n",
       "\n",
       "   host_thumbnail_url  host_picture_url  host_listings_count  ...  \\\n",
       "0                   4                 4                    4  ...   \n",
       "\n",
       "   maximum_nights  calendar_updated  availability_30  availability_60  \\\n",
       "0               0                 0                0                0   \n",
       "\n",
       "   availability_90  availability_365  calendar_last_scraped  \\\n",
       "0                0                 0                      0   \n",
       "\n",
       "   number_of_reviews  cancellation_policy  features  \n",
       "0                  0                    0         0  \n",
       "\n",
       "[1 rows x 44 columns]"
      ]
     },
     "execution_count": 82,
     "metadata": {},
     "output_type": "execute_result"
    }
   ],
   "source": [
    "nan_counts = df_airbnb.select([count(when(isnan(c) | col(c).isNull(), c)).alias(c) for c in df_airbnb.columns])\n",
    "total_nan_count = sum(nan_counts.collect()[0])\n",
    "nan_counts.toPandas()"
   ]
  },
  {
   "cell_type": "code",
   "execution_count": 83,
   "metadata": {},
   "outputs": [],
   "source": [
    "df_airbnb = df_airbnb.filter(df_airbnb.host_name.isNotNull())\n",
    "df_airbnb = df_airbnb.filter(df_airbnb.name.isNotNull())\n",
    "df_airbnb = df_airbnb.filter(df_airbnb.host_thumbnail_url.isNotNull())\n",
    "df_airbnb = df_airbnb.filter(df_airbnb.host_picture_url.isNotNull())\n",
    "df_airbnb = df_airbnb.filter(df_airbnb.host_listings_count.isNotNull())\n",
    "df_airbnb = df_airbnb.filter(df_airbnb.host_total_listings_count.isNotNull())\n",
    "df_airbnb = df_airbnb.filter(df_airbnb.host_verifications.isNotNull())\n",
    "df_airbnb = df_airbnb.filter(df_airbnb.host_location.isNotNull())\n",
    "df_airbnb = df_airbnb.filter(df_airbnb.price.isNotNull())"
   ]
  },
  {
   "cell_type": "code",
   "execution_count": 84,
   "metadata": {},
   "outputs": [
    {
     "name": "stderr",
     "output_type": "stream",
     "text": [
      "                                                                                \r"
     ]
    },
    {
     "data": {
      "text/html": [
       "<div>\n",
       "<style scoped>\n",
       "    .dataframe tbody tr th:only-of-type {\n",
       "        vertical-align: middle;\n",
       "    }\n",
       "\n",
       "    .dataframe tbody tr th {\n",
       "        vertical-align: top;\n",
       "    }\n",
       "\n",
       "    .dataframe thead th {\n",
       "        text-align: right;\n",
       "    }\n",
       "</style>\n",
       "<table border=\"1\" class=\"dataframe\">\n",
       "  <thead>\n",
       "    <tr style=\"text-align: right;\">\n",
       "      <th></th>\n",
       "      <th>name</th>\n",
       "      <th>summary</th>\n",
       "      <th>host_id</th>\n",
       "      <th>host_url</th>\n",
       "      <th>host_name</th>\n",
       "      <th>host_since</th>\n",
       "      <th>host_location</th>\n",
       "      <th>host_thumbnail_url</th>\n",
       "      <th>host_picture_url</th>\n",
       "      <th>host_listings_count</th>\n",
       "      <th>...</th>\n",
       "      <th>maximum_nights</th>\n",
       "      <th>calendar_updated</th>\n",
       "      <th>availability_30</th>\n",
       "      <th>availability_60</th>\n",
       "      <th>availability_90</th>\n",
       "      <th>availability_365</th>\n",
       "      <th>calendar_last_scraped</th>\n",
       "      <th>number_of_reviews</th>\n",
       "      <th>cancellation_policy</th>\n",
       "      <th>features</th>\n",
       "    </tr>\n",
       "  </thead>\n",
       "  <tbody>\n",
       "    <tr>\n",
       "      <th>0</th>\n",
       "      <td>0</td>\n",
       "      <td>0</td>\n",
       "      <td>0</td>\n",
       "      <td>0</td>\n",
       "      <td>0</td>\n",
       "      <td>0</td>\n",
       "      <td>0</td>\n",
       "      <td>0</td>\n",
       "      <td>0</td>\n",
       "      <td>0</td>\n",
       "      <td>...</td>\n",
       "      <td>0</td>\n",
       "      <td>0</td>\n",
       "      <td>0</td>\n",
       "      <td>0</td>\n",
       "      <td>0</td>\n",
       "      <td>0</td>\n",
       "      <td>0</td>\n",
       "      <td>0</td>\n",
       "      <td>0</td>\n",
       "      <td>0</td>\n",
       "    </tr>\n",
       "  </tbody>\n",
       "</table>\n",
       "<p>1 rows × 44 columns</p>\n",
       "</div>"
      ],
      "text/plain": [
       "   name  summary  host_id  host_url  host_name  host_since  host_location  \\\n",
       "0     0        0        0         0          0           0              0   \n",
       "\n",
       "   host_thumbnail_url  host_picture_url  host_listings_count  ...  \\\n",
       "0                   0                 0                    0  ...   \n",
       "\n",
       "   maximum_nights  calendar_updated  availability_30  availability_60  \\\n",
       "0               0                 0                0                0   \n",
       "\n",
       "   availability_90  availability_365  calendar_last_scraped  \\\n",
       "0                0                 0                      0   \n",
       "\n",
       "   number_of_reviews  cancellation_policy  features  \n",
       "0                  0                    0         0  \n",
       "\n",
       "[1 rows x 44 columns]"
      ]
     },
     "execution_count": 84,
     "metadata": {},
     "output_type": "execute_result"
    }
   ],
   "source": [
    "nan_counts = df_airbnb.select([count(when(isnan(c) | col(c).isNull(), c)).alias(c) for c in df_airbnb.columns])\n",
    "total_nan_count = sum(nan_counts.collect()[0])\n",
    "nan_counts.toPandas()"
   ]
  },
  {
   "cell_type": "code",
   "execution_count": 85,
   "metadata": {},
   "outputs": [
    {
     "data": {
      "text/plain": [
       "Index(['bathrooms', 'bedrooms', 'beds', 'security_deposit', 'cleaning_fee'], dtype='object')"
      ]
     },
     "execution_count": 85,
     "metadata": {},
     "output_type": "execute_result"
    }
   ],
   "source": [
    "columns_with_values_greater_than_zero = nan_counts.toPandas().columns[nan_counts.toPandas().iloc[0] > 0]\n",
    "columns_with_values_greater_than_zero"
   ]
  },
  {
   "cell_type": "code",
   "execution_count": 86,
   "metadata": {},
   "outputs": [],
   "source": [
    "# Data Cleaning for NULL values\n",
    "df_airbnb = df_airbnb.fillna({'security_deposit': 0})\n",
    "df_airbnb = df_airbnb.fillna({'cleaning_fee': 0})"
   ]
  },
  {
   "cell_type": "code",
   "execution_count": 87,
   "metadata": {},
   "outputs": [
    {
     "name": "stderr",
     "output_type": "stream",
     "text": [
      "                                                                                \r"
     ]
    },
    {
     "data": {
      "text/html": [
       "<div>\n",
       "<style scoped>\n",
       "    .dataframe tbody tr th:only-of-type {\n",
       "        vertical-align: middle;\n",
       "    }\n",
       "\n",
       "    .dataframe tbody tr th {\n",
       "        vertical-align: top;\n",
       "    }\n",
       "\n",
       "    .dataframe thead th {\n",
       "        text-align: right;\n",
       "    }\n",
       "</style>\n",
       "<table border=\"1\" class=\"dataframe\">\n",
       "  <thead>\n",
       "    <tr style=\"text-align: right;\">\n",
       "      <th></th>\n",
       "      <th>name</th>\n",
       "      <th>summary</th>\n",
       "      <th>host_id</th>\n",
       "      <th>host_url</th>\n",
       "      <th>host_name</th>\n",
       "      <th>host_since</th>\n",
       "      <th>host_location</th>\n",
       "      <th>host_thumbnail_url</th>\n",
       "      <th>host_picture_url</th>\n",
       "      <th>host_listings_count</th>\n",
       "      <th>...</th>\n",
       "      <th>maximum_nights</th>\n",
       "      <th>calendar_updated</th>\n",
       "      <th>availability_30</th>\n",
       "      <th>availability_60</th>\n",
       "      <th>availability_90</th>\n",
       "      <th>availability_365</th>\n",
       "      <th>calendar_last_scraped</th>\n",
       "      <th>number_of_reviews</th>\n",
       "      <th>cancellation_policy</th>\n",
       "      <th>features</th>\n",
       "    </tr>\n",
       "  </thead>\n",
       "  <tbody>\n",
       "    <tr>\n",
       "      <th>0</th>\n",
       "      <td>0</td>\n",
       "      <td>0</td>\n",
       "      <td>0</td>\n",
       "      <td>0</td>\n",
       "      <td>0</td>\n",
       "      <td>0</td>\n",
       "      <td>0</td>\n",
       "      <td>0</td>\n",
       "      <td>0</td>\n",
       "      <td>0</td>\n",
       "      <td>...</td>\n",
       "      <td>0</td>\n",
       "      <td>0</td>\n",
       "      <td>0</td>\n",
       "      <td>0</td>\n",
       "      <td>0</td>\n",
       "      <td>0</td>\n",
       "      <td>0</td>\n",
       "      <td>0</td>\n",
       "      <td>0</td>\n",
       "      <td>0</td>\n",
       "    </tr>\n",
       "  </tbody>\n",
       "</table>\n",
       "<p>1 rows × 44 columns</p>\n",
       "</div>"
      ],
      "text/plain": [
       "   name  summary  host_id  host_url  host_name  host_since  host_location  \\\n",
       "0     0        0        0         0          0           0              0   \n",
       "\n",
       "   host_thumbnail_url  host_picture_url  host_listings_count  ...  \\\n",
       "0                   0                 0                    0  ...   \n",
       "\n",
       "   maximum_nights  calendar_updated  availability_30  availability_60  \\\n",
       "0               0                 0                0                0   \n",
       "\n",
       "   availability_90  availability_365  calendar_last_scraped  \\\n",
       "0                0                 0                      0   \n",
       "\n",
       "   number_of_reviews  cancellation_policy  features  \n",
       "0                  0                    0         0  \n",
       "\n",
       "[1 rows x 44 columns]"
      ]
     },
     "execution_count": 87,
     "metadata": {},
     "output_type": "execute_result"
    }
   ],
   "source": [
    "# Checking again the NULL values\n",
    "nan_counts = df_airbnb.select([count(when(isnan(c) | col(c).isNull(), c)).alias(c) for c in df_airbnb.columns])\n",
    "total_nan_count = sum(nan_counts.collect()[0])\n",
    "nan_counts.toPandas()"
   ]
  },
  {
   "cell_type": "markdown",
   "metadata": {},
   "source": [
    "<div class=\"alert alert-block alert-warning\" style=\"color: #C23B22; background-color: #f8c3c0;\">\n",
    "\n",
    "- **Majority of NULLs resolved**\n",
    "- `bedrooms` (9 samples) and `beds` (16 samples): Manual handling required.\n",
    "- `price` (7 samples): Manual handling required.\n",
    "</div>"
   ]
  },
  {
   "cell_type": "markdown",
   "metadata": {},
   "source": [
    "Handling Missing Values of `bathrooms`, `bedrooms` y `beds`\n",
    "\n",
    "<div class=\"alert alert-block alert-info\" style=\"color: #01571B; background-color: #C8E5C6;\">\n",
    "    \n",
    "+ Manual Processing for each feature looking to other values.\n",
    "</div>"
   ]
  },
  {
   "cell_type": "code",
   "execution_count": 88,
   "metadata": {},
   "outputs": [
    {
     "name": "stderr",
     "output_type": "stream",
     "text": [
      "                                                                                \r"
     ]
    },
    {
     "data": {
      "text/html": [
       "<div>\n",
       "<style scoped>\n",
       "    .dataframe tbody tr th:only-of-type {\n",
       "        vertical-align: middle;\n",
       "    }\n",
       "\n",
       "    .dataframe tbody tr th {\n",
       "        vertical-align: top;\n",
       "    }\n",
       "\n",
       "    .dataframe thead th {\n",
       "        text-align: right;\n",
       "    }\n",
       "</style>\n",
       "<table border=\"1\" class=\"dataframe\">\n",
       "  <thead>\n",
       "    <tr style=\"text-align: right;\">\n",
       "      <th></th>\n",
       "      <th>name</th>\n",
       "      <th>summary</th>\n",
       "      <th>host_id</th>\n",
       "      <th>host_url</th>\n",
       "      <th>host_name</th>\n",
       "      <th>host_since</th>\n",
       "      <th>host_location</th>\n",
       "      <th>host_thumbnail_url</th>\n",
       "      <th>host_picture_url</th>\n",
       "      <th>host_listings_count</th>\n",
       "      <th>...</th>\n",
       "      <th>maximum_nights</th>\n",
       "      <th>calendar_updated</th>\n",
       "      <th>availability_30</th>\n",
       "      <th>availability_60</th>\n",
       "      <th>availability_90</th>\n",
       "      <th>availability_365</th>\n",
       "      <th>calendar_last_scraped</th>\n",
       "      <th>number_of_reviews</th>\n",
       "      <th>cancellation_policy</th>\n",
       "      <th>features</th>\n",
       "    </tr>\n",
       "  </thead>\n",
       "  <tbody>\n",
       "    <tr>\n",
       "      <th>0</th>\n",
       "      <td>0</td>\n",
       "      <td>0</td>\n",
       "      <td>0</td>\n",
       "      <td>0</td>\n",
       "      <td>0</td>\n",
       "      <td>0</td>\n",
       "      <td>0</td>\n",
       "      <td>0</td>\n",
       "      <td>0</td>\n",
       "      <td>0</td>\n",
       "      <td>...</td>\n",
       "      <td>0</td>\n",
       "      <td>0</td>\n",
       "      <td>0</td>\n",
       "      <td>0</td>\n",
       "      <td>0</td>\n",
       "      <td>0</td>\n",
       "      <td>0</td>\n",
       "      <td>0</td>\n",
       "      <td>0</td>\n",
       "      <td>0</td>\n",
       "    </tr>\n",
       "  </tbody>\n",
       "</table>\n",
       "<p>1 rows × 44 columns</p>\n",
       "</div>"
      ],
      "text/plain": [
       "   name  summary  host_id  host_url  host_name  host_since  host_location  \\\n",
       "0     0        0        0         0          0           0              0   \n",
       "\n",
       "   host_thumbnail_url  host_picture_url  host_listings_count  ...  \\\n",
       "0                   0                 0                    0  ...   \n",
       "\n",
       "   maximum_nights  calendar_updated  availability_30  availability_60  \\\n",
       "0               0                 0                0                0   \n",
       "\n",
       "   availability_90  availability_365  calendar_last_scraped  \\\n",
       "0                0                 0                      0   \n",
       "\n",
       "   number_of_reviews  cancellation_policy  features  \n",
       "0                  0                    0         0  \n",
       "\n",
       "[1 rows x 44 columns]"
      ]
     },
     "execution_count": 88,
     "metadata": {},
     "output_type": "execute_result"
    }
   ],
   "source": [
    "# Checking again the NULL values\n",
    "nan_counts = df_airbnb.select([count(when(isnan(c) | col(c).isNull(), c)).alias(c) for c in df_airbnb.columns])\n",
    "total_nan_count = sum(nan_counts.collect()[0])\n",
    "nan_counts.toPandas()"
   ]
  },
  {
   "cell_type": "code",
   "execution_count": 89,
   "metadata": {},
   "outputs": [
    {
     "data": {
      "text/plain": [
       "Index(['bathrooms', 'bedrooms', 'beds'], dtype='object')"
      ]
     },
     "execution_count": 89,
     "metadata": {},
     "output_type": "execute_result"
    }
   ],
   "source": [
    "columns_with_values_greater_than_zero = nan_counts.toPandas().columns[nan_counts.toPandas().iloc[0] > 0]\n",
    "columns_with_values_greater_than_zero"
   ]
  },
  {
   "cell_type": "code",
   "execution_count": 90,
   "metadata": {},
   "outputs": [],
   "source": [
    "df_airbnb = df_airbnb.withColumn('bathrooms', when(col('bathrooms').isNull(), 1).otherwise(col('bathrooms')))\n",
    "df_airbnb = df_airbnb.withColumn('bedrooms', when(col('bedrooms').isNull(), 1).otherwise(col('bedrooms')))\n",
    "df_airbnb = df_airbnb.withColumn('beds', when(col('beds').isNull(), 1).otherwise(col('beds')))"
   ]
  },
  {
   "cell_type": "markdown",
   "metadata": {},
   "source": [
    "<div class=\"alert alert-block alert-info\" style=\"color: #01571B; background-color: #C8E5C6;\">\n",
    "    \n",
    "+ NULL values == 0\n",
    "</div>\n",
    "\n",
    "Categorical Features Distributions Insights\n",
    "\n",
    "<div class=\"alert alert-block alert-info\" style=\"color: #01579B; background-color: #E1F5FE; border-color: #01579B;\">\n",
    "\n",
    "+ All features have been processed; no further data cleaning is required.\n",
    "+ The majority of cancellation policies are strict.\n",
    "+ There are three types of accommodations: entire apartments, private rooms within an apartment (with a amount similar to entire apartments), and a few samples of shared rooms.\n",
    "</div>"
   ]
  },
  {
   "cell_type": "code",
   "execution_count": 91,
   "metadata": {},
   "outputs": [
    {
     "data": {
      "image/png": "[encoded data removed]",
      "text/plain": [
       "<Figure size 648x720 with 4 Axes>"
      ]
     },
     "metadata": {
      "needs_background": "light"
     },
     "output_type": "display_data"
    }
   ],
   "source": [
    "# Categorical features \n",
    "categorical_columns = ['property_type',\t'room_type','bed_type', 'cancellation_policy']\n",
    "\n",
    "fig, axs = plt.subplots(2, 2, figsize=(9, 10))  \n",
    "axs = axs.flatten() \n",
    "\n",
    "for i, column in enumerate(categorical_columns):\n",
    "    ax = axs[i]  \n",
    "    color = color_palette[i % len(color_palette)]  \n",
    "    utils.plot_categorical_distribution(df_airbnb, column, ax, color)\n",
    "\n",
    "plt.tight_layout()\n",
    "plt.show()"
   ]
  },
  {
   "cell_type": "markdown",
   "metadata": {},
   "source": [
    "Sampling and Mapping Airbnb Listings in Barcelona\n",
    "\n",
    "<div class=\"alert alert-block alert-info\" style=\"color: #01571B; background-color: #C8E5C6;\">\n",
    "\n",
    "+ A sample of the Airbnb dataset is being visualized on a map of Barcelona.\n",
    "    + Due to rendering constraints, only a subset of the data is displayed.\n",
    "+ Each marker represents a listing, with its location indicated by latitude and longitude coordinates.\n",
    "+ The map is centered on Barcelona, providing an overview of the spatial distribution of Airbnb listings in the city. Distibuted locations.\n",
    "</div>\n",
    "\n",
    "Replace Concellation_policy for dummy variable: \n",
    "\n",
    "- Unique values: [flexible, super_strict_60, strict, super_strict_30, moderate]"
   ]
  },
  {
   "cell_type": "code",
   "execution_count": 92,
   "metadata": {},
   "outputs": [
    {
     "data": {
      "text/plain": [
       "['Apartment',\n",
       " 'Bed & Breakfast',\n",
       " 'Guest suite',\n",
       " 'Timeshare',\n",
       " 'Camper/RV',\n",
       " 'Boutique hotel',\n",
       " 'Loft',\n",
       " 'Guesthouse',\n",
       " 'Hostel',\n",
       " 'Villa',\n",
       " 'Other',\n",
       " 'Nature lodge',\n",
       " 'Dorm',\n",
       " 'Condominium',\n",
       " 'House',\n",
       " 'Tent',\n",
       " 'Train',\n",
       " 'Boat',\n",
       " 'Casa particular',\n",
       " 'Cabin']"
      ]
     },
     "execution_count": 92,
     "metadata": {},
     "output_type": "execute_result"
    }
   ],
   "source": [
    "[row['property_type'] for row in df_airbnb.select('property_type').distinct().collect()]"
   ]
  },
  {
   "cell_type": "code",
   "execution_count": 93,
   "metadata": {},
   "outputs": [
    {
     "data": {
      "text/plain": [
       "['Airbed', 'Futon', 'Pull-out Sofa', 'Couch', 'Real Bed']"
      ]
     },
     "execution_count": 93,
     "metadata": {},
     "output_type": "execute_result"
    }
   ],
   "source": [
    "[row['bed_type'] for row in df_airbnb.select('bed_type').distinct().collect()]"
   ]
  },
  {
   "cell_type": "code",
   "execution_count": 94,
   "metadata": {},
   "outputs": [
    {
     "name": "stdout",
     "output_type": "stream",
     "text": [
      "root\n",
      " |-- name: string (nullable = true)\n",
      " |-- summary: string (nullable = true)\n",
      " |-- host_id: string (nullable = true)\n",
      " |-- host_url: string (nullable = true)\n",
      " |-- host_name: string (nullable = true)\n",
      " |-- host_since: string (nullable = true)\n",
      " |-- host_location: string (nullable = true)\n",
      " |-- host_thumbnail_url: string (nullable = true)\n",
      " |-- host_picture_url: string (nullable = true)\n",
      " |-- host_listings_count: double (nullable = true)\n",
      " |-- host_total_listings_count: double (nullable = true)\n",
      " |-- host_verifications: string (nullable = true)\n",
      " |-- neighbourhood_cleansed: string (nullable = true)\n",
      " |-- neighbourhood: string (nullable = true)\n",
      " |-- city: string (nullable = true)\n",
      " |-- market: string (nullable = true)\n",
      " |-- smart_location: string (nullable = true)\n",
      " |-- country_code: string (nullable = true)\n",
      " |-- country: string (nullable = true)\n",
      " |-- latitude: string (nullable = true)\n",
      " |-- longitude: string (nullable = true)\n",
      " |-- property_type: string (nullable = true)\n",
      " |-- room_type: string (nullable = true)\n",
      " |-- accommodates: decimal(20,0) (nullable = true)\n",
      " |-- bathrooms: double (nullable = true)\n",
      " |-- bedrooms: double (nullable = true)\n",
      " |-- beds: double (nullable = true)\n",
      " |-- bed_type: string (nullable = true)\n",
      " |-- price: double (nullable = true)\n",
      " |-- security_deposit: double (nullable = false)\n",
      " |-- cleaning_fee: double (nullable = false)\n",
      " |-- guests_included: decimal(20,0) (nullable = true)\n",
      " |-- extra_people: decimal(20,0) (nullable = true)\n",
      " |-- minimum_nights: decimal(20,0) (nullable = true)\n",
      " |-- maximum_nights: decimal(20,0) (nullable = true)\n",
      " |-- calendar_updated: string (nullable = true)\n",
      " |-- availability_30: decimal(20,0) (nullable = true)\n",
      " |-- availability_60: decimal(20,0) (nullable = true)\n",
      " |-- availability_90: decimal(20,0) (nullable = true)\n",
      " |-- availability_365: decimal(20,0) (nullable = true)\n",
      " |-- calendar_last_scraped: string (nullable = true)\n",
      " |-- number_of_reviews: decimal(20,0) (nullable = true)\n",
      " |-- cancellation_policy: string (nullable = true)\n",
      " |-- features: string (nullable = true)\n",
      "\n"
     ]
    },
    {
     "data": {
      "text/html": [
       "<div>\n",
       "<style scoped>\n",
       "    .dataframe tbody tr th:only-of-type {\n",
       "        vertical-align: middle;\n",
       "    }\n",
       "\n",
       "    .dataframe tbody tr th {\n",
       "        vertical-align: top;\n",
       "    }\n",
       "\n",
       "    .dataframe thead th {\n",
       "        text-align: right;\n",
       "    }\n",
       "</style>\n",
       "<table border=\"1\" class=\"dataframe\">\n",
       "  <thead>\n",
       "    <tr style=\"text-align: right;\">\n",
       "      <th></th>\n",
       "      <th>name</th>\n",
       "      <th>summary</th>\n",
       "      <th>host_id</th>\n",
       "      <th>host_url</th>\n",
       "      <th>host_name</th>\n",
       "      <th>host_since</th>\n",
       "      <th>host_location</th>\n",
       "      <th>host_thumbnail_url</th>\n",
       "      <th>host_picture_url</th>\n",
       "      <th>host_listings_count</th>\n",
       "      <th>...</th>\n",
       "      <th>maximum_nights</th>\n",
       "      <th>calendar_updated</th>\n",
       "      <th>availability_30</th>\n",
       "      <th>availability_60</th>\n",
       "      <th>availability_90</th>\n",
       "      <th>availability_365</th>\n",
       "      <th>calendar_last_scraped</th>\n",
       "      <th>number_of_reviews</th>\n",
       "      <th>cancellation_policy</th>\n",
       "      <th>features</th>\n",
       "    </tr>\n",
       "  </thead>\n",
       "  <tbody>\n",
       "    <tr>\n",
       "      <th>0</th>\n",
       "      <td>Piso cerca del Cam Nou</td>\n",
       "      <td>Acogedor y juvenil piso bien comunicado y en u...</td>\n",
       "      <td>38925857</td>\n",
       "      <td>https://www.airbnb.com/users/show/38925857</td>\n",
       "      <td>Javier</td>\n",
       "      <td>2015-07-19</td>\n",
       "      <td>Toledo, Castile-La Mancha, Spain</td>\n",
       "      <td>https://a0.muscache.com/im/pictures/c4b46d10-2...</td>\n",
       "      <td>https://a0.muscache.com/im/pictures/c4b46d10-2...</td>\n",
       "      <td>1.0</td>\n",
       "      <td>...</td>\n",
       "      <td>1125</td>\n",
       "      <td>yesterday</td>\n",
       "      <td>0</td>\n",
       "      <td>4</td>\n",
       "      <td>34</td>\n",
       "      <td>309</td>\n",
       "      <td>2017-04-07</td>\n",
       "      <td>1</td>\n",
       "      <td>moderate</td>\n",
       "      <td>Host Has Profile Pic, Host Identity Verified, ...</td>\n",
       "    </tr>\n",
       "  </tbody>\n",
       "</table>\n",
       "<p>1 rows × 44 columns</p>\n",
       "</div>"
      ],
      "text/plain": [
       "                     name                                            summary  \\\n",
       "0  Piso cerca del Cam Nou  Acogedor y juvenil piso bien comunicado y en u...   \n",
       "\n",
       "    host_id                                    host_url host_name  host_since  \\\n",
       "0  38925857  https://www.airbnb.com/users/show/38925857    Javier  2015-07-19   \n",
       "\n",
       "                      host_location  \\\n",
       "0  Toledo, Castile-La Mancha, Spain   \n",
       "\n",
       "                                  host_thumbnail_url  \\\n",
       "0  https://a0.muscache.com/im/pictures/c4b46d10-2...   \n",
       "\n",
       "                                    host_picture_url  host_listings_count  \\\n",
       "0  https://a0.muscache.com/im/pictures/c4b46d10-2...                  1.0   \n",
       "\n",
       "   ...  maximum_nights calendar_updated availability_30 availability_60  \\\n",
       "0  ...            1125        yesterday               0               4   \n",
       "\n",
       "  availability_90 availability_365 calendar_last_scraped number_of_reviews  \\\n",
       "0              34              309            2017-04-07                 1   \n",
       "\n",
       "  cancellation_policy                                           features  \n",
       "0            moderate  Host Has Profile Pic, Host Identity Verified, ...  \n",
       "\n",
       "[1 rows x 44 columns]"
      ]
     },
     "execution_count": 94,
     "metadata": {},
     "output_type": "execute_result"
    }
   ],
   "source": [
    "df_airbnb.printSchema()\n",
    "df_airbnb.limit(1).toPandas()"
   ]
  },
  {
   "cell_type": "markdown",
   "metadata": {},
   "source": [
    "<div style=\"background-color:#F2F2F2; padding: 10px;\">\n",
    "    <div style=\"text-align: center;\">\n",
    "        <span style=\"font-family: 'Playfair Display', serif; font-size: 20px; font-weight: bold; color: black;\">\n",
    "            TripAdvisor Locations Dataset\n",
    "        </span>\n",
    "    </div>\n",
    "</div>\n",
    "\n",
    "\n",
    "#### DataFrame Schema\n",
    "\n",
    "<div class=\"alert alert-block alert-info\" style=\"color: #01571B; background-color: #C8E5C6;\">\n",
    "    \n",
    "The DataFrame comprises various columns, each providing distinct details related to property listings:\n",
    "\n",
    "The DataFrame has **2493 rows** and **14 columns**. \n",
    "\n",
    "- **location_id**: string (nullable = true)\n",
    "- **name**: string (nullable = true)\n",
    "- **distance**: string (nullable = true)\n",
    "- **bearing**: string (nullable = true)\n",
    "- **address_obj.street1**: string (nullable = true)\n",
    "- **address_obj.city**: string (nullable = true)\n",
    "- **address_obj.state**: string (nullable = true)\n",
    "- **address_obj.country**: string (nullable = true)\n",
    "- **address_obj.postalcode**: string (nullable = true)\n",
    "- **address_obj.address_string**: string (nullable = true)\n",
    "- **address_obj.street2**: string (nullable = true)\n",
    "- **type**: string (nullable = true)\n",
    "- **district**: string (nullable = true)\n",
    "- **__index_level_0__**: decimal(20,0) (nullable = true)\n",
    "</div>"
   ]
  },
  {
   "cell_type": "code",
   "execution_count": 95,
   "metadata": {},
   "outputs": [],
   "source": [
    "df_locations = spark.read \\\n",
    "  .format(\"jdbc\") \\\n",
    "  .option(\"url\", jdbc_url) \\\n",
    "  .option(\"driver\", driver) \\\n",
    "  .option(\"query\", \"SELECT * FROM df_tripadvisor_locations\") \\\n",
    "  .load()"
   ]
  },
  {
   "cell_type": "markdown",
   "metadata": {},
   "source": [
    "Replace names with points"
   ]
  },
  {
   "cell_type": "code",
   "execution_count": 96,
   "metadata": {},
   "outputs": [
    {
     "name": "stdout",
     "output_type": "stream",
     "text": [
      "The DataFrame has 2493 rows and 14 columns. \n",
      "\n"
     ]
    }
   ],
   "source": [
    "exprs = [f\"`{col_name}` as `{col_name.replace('.', '_')}`\" for col_name in df_locations.columns]\n",
    "df_locations = df_locations.selectExpr(exprs)\n",
    "\n",
    "print(\"The DataFrame has {} rows and {} columns. \\n\".format(df_locations.count(), len(df_locations.columns)))"
   ]
  },
  {
   "cell_type": "markdown",
   "metadata": {},
   "source": [
    "Count Null Values"
   ]
  },
  {
   "cell_type": "code",
   "execution_count": 97,
   "metadata": {},
   "outputs": [
    {
     "name": "stderr",
     "output_type": "stream",
     "text": [
      "                                                                                \r"
     ]
    },
    {
     "data": {
      "text/html": [
       "<div>\n",
       "<style scoped>\n",
       "    .dataframe tbody tr th:only-of-type {\n",
       "        vertical-align: middle;\n",
       "    }\n",
       "\n",
       "    .dataframe tbody tr th {\n",
       "        vertical-align: top;\n",
       "    }\n",
       "\n",
       "    .dataframe thead th {\n",
       "        text-align: right;\n",
       "    }\n",
       "</style>\n",
       "<table border=\"1\" class=\"dataframe\">\n",
       "  <thead>\n",
       "    <tr style=\"text-align: right;\">\n",
       "      <th></th>\n",
       "      <th>location_id</th>\n",
       "      <th>name</th>\n",
       "      <th>distance</th>\n",
       "      <th>bearing</th>\n",
       "      <th>address_obj_street1</th>\n",
       "      <th>address_obj_city</th>\n",
       "      <th>address_obj_state</th>\n",
       "      <th>address_obj_country</th>\n",
       "      <th>address_obj_postalcode</th>\n",
       "      <th>address_obj_address_string</th>\n",
       "      <th>address_obj_street2</th>\n",
       "      <th>type</th>\n",
       "      <th>district</th>\n",
       "      <th>__index_level_0__</th>\n",
       "    </tr>\n",
       "  </thead>\n",
       "  <tbody>\n",
       "    <tr>\n",
       "      <th>0</th>\n",
       "      <td>0</td>\n",
       "      <td>0</td>\n",
       "      <td>0</td>\n",
       "      <td>0</td>\n",
       "      <td>47</td>\n",
       "      <td>0</td>\n",
       "      <td>1</td>\n",
       "      <td>0</td>\n",
       "      <td>106</td>\n",
       "      <td>0</td>\n",
       "      <td>1864</td>\n",
       "      <td>0</td>\n",
       "      <td>0</td>\n",
       "      <td>0</td>\n",
       "    </tr>\n",
       "  </tbody>\n",
       "</table>\n",
       "</div>"
      ],
      "text/plain": [
       "   location_id  name  distance  bearing  address_obj_street1  \\\n",
       "0            0     0         0        0                   47   \n",
       "\n",
       "   address_obj_city  address_obj_state  address_obj_country  \\\n",
       "0                 0                  1                    0   \n",
       "\n",
       "   address_obj_postalcode  address_obj_address_string  address_obj_street2  \\\n",
       "0                     106                           0                 1864   \n",
       "\n",
       "   type  district  __index_level_0__  \n",
       "0     0         0                  0  "
      ]
     },
     "execution_count": 97,
     "metadata": {},
     "output_type": "execute_result"
    }
   ],
   "source": [
    "nan_counts = df_locations.select([count(when(isnan(c) | col(c).isNull(), c)).alias(c) for c in df_locations.columns])\n",
    "total_nan_count = sum(nan_counts.collect()[0])\n",
    "nan_counts.toPandas()"
   ]
  },
  {
   "cell_type": "markdown",
   "metadata": {},
   "source": [
    "The columns that have directly unimputable NA will be simply removed from the data. We will do not want to use them anyway. \n",
    "<div class=\"alert alert-block alert-warning\" style=\"color: #FFB300; background-color: #FFF9C4;\">\n",
    "\n",
    "+ adress_obj_street1, address_obj_postalcode, address_obj_street2 -> These are niether useful or complete; since we will be using coordinates for localization in the future, they will be erased\n",
    "</div>\n",
    "\n"
   ]
  },
  {
   "cell_type": "code",
   "execution_count": 98,
   "metadata": {},
   "outputs": [],
   "source": [
    "columns_to_drop = [\"address_obj_street2\", \"address_obj_postalcode\", \"address_obj_street1\"]\n",
    "df_locations = df_locations.drop(*columns_to_drop)"
   ]
  },
  {
   "cell_type": "markdown",
   "metadata": {},
   "source": [
    "<div class=\"alert alert-block alert-info\" style=\"color: #01571B; background-color: #C8E5C6;\">\n",
    "We know that all restaurants are in the Province of Barcelona, so the 1 NA value we have in the address_obj_state column can be filled with this information\n",
    "\n",
    "</div>"
   ]
  },
  {
   "cell_type": "code",
   "execution_count": 99,
   "metadata": {},
   "outputs": [],
   "source": [
    "df_locations = df_locations.fillna({\"address_obj_state\": \"Province of Barcelona\"})\n"
   ]
  },
  {
   "cell_type": "markdown",
   "metadata": {},
   "source": [
    "<div class=\"alert alert-block alert-info\" style=\"color: #01571B; background-color: #C8E5C6;\">\n",
    "For some reason, the TripAdvisor API also included come cities which were not in Barcelona, we will remove those instances\n",
    "</div>\n"
   ]
  },
  {
   "cell_type": "code",
   "execution_count": 100,
   "metadata": {},
   "outputs": [
    {
     "name": "stdout",
     "output_type": "stream",
     "text": [
      "+--------------------+\n",
      "|    address_obj_city|\n",
      "+--------------------+\n",
      "|              Xativa|\n",
      "|          Ibiza Town|\n",
      "|             Peguera|\n",
      "|Sant Cugat del Va...|\n",
      "|Sant Andreu de la...|\n",
      "|            Sabadell|\n",
      "|           Barcelona|\n",
      "|   Montcada i Reixac|\n",
      "|              Sitges|\n",
      "|L'Hospitalet de L...|\n",
      "|          La Bordeta|\n",
      "|            Valencia|\n",
      "|         Los Abrigos|\n",
      "|               Cadiz|\n",
      "|Sant Feliu de Llo...|\n",
      "+--------------------+\n",
      "\n"
     ]
    }
   ],
   "source": [
    "df_locations.select(\"address_obj_city\").distinct().show()\n",
    "df_locations = df_locations.filter(df_locations['address_obj_city'] == 'Barcelona')"
   ]
  },
  {
   "cell_type": "markdown",
   "metadata": {},
   "source": [
    "Geolocalization function. Since the adress is not complete in all cases and we want to place all locations in a map, we will also be using data from google maps to exactly localize each establishment. This is probably a step that should be done in the data collection pipeline but since it is a problem we have faced along the way, we will be adressing it here.\n",
    "\n",
    "<div class=\"alert alert-block alert-info\" style=\"color: #1E88E5; background-color: #B2EBF2;\">\n",
    "\n",
    "+ We've crafted a geolocation function called `geolocalization_with_retry` to pinpoint addresses using the **Google Maps API** and `address_obj_address_string` feature. This function has the ability to retry geolocation several times in case of initial failure due to errors or timeouts. If successful, it returns the latitude and longitude coordinates of the provided address.\n",
    "\n",
    "+ We've implemented a mechanism to avoid re-executing the geolocation code for addresses that have already been matched. This is achieved by saving the geolocation results to a file (`coordinates_dict.pkl`) and loading them from there for subsequent executions, preventing unnecessary repetition of the geocoding process.\n",
    "\n",
    "\n",
    "+ We plotted the geolocations to visually identify any outliers. Then, we defined a square area to limit the zone of Barcelona, excluding any points that fall outside of this area.\n",
    "\n",
    "</div>\n"
   ]
  },
  {
   "cell_type": "code",
   "execution_count": 101,
   "metadata": {},
   "outputs": [],
   "source": [
    "# As it takes too long, it will be saved to a file for separate loading\n",
    "import requests\n",
    "import time\n",
    "\n",
    "def geolocalization_with_retry(address, retries=3, sleep_time=5):\n",
    "    api_key = '{your_key ;)}'\n",
    "    url = f\"https://maps.googleapis.com/maps/api/geocode/json?address={address}&key={api_key}\"\n",
    "\n",
    "    for attempt in range(retries):\n",
    "        response = requests.get(url)\n",
    "        if response.status_code == 200:\n",
    "            data = response.json()\n",
    "            if data['status'] == 'OK':\n",
    "                lat = data['results'][0]['geometry']['location']['lat']\n",
    "                lng = data['results'][0]['geometry']['location']['lng']\n",
    "                return (lat, lng)\n",
    "        time.sleep(sleep_time)  # Espera antes de reintentar\n",
    "    return None"
   ]
  },
  {
   "cell_type": "code",
   "execution_count": 102,
   "metadata": {},
   "outputs": [],
   "source": [
    "file_name = \"coordinates_dict.pkl\"\n",
    "\n",
    "# Load de retrieved dict\n",
    "with open(file_name, \"rb\") as file:\n",
    "    coordinates_dict = pickle.load(file)"
   ]
  },
  {
   "cell_type": "code",
   "execution_count": 103,
   "metadata": {},
   "outputs": [],
   "source": [
    "df_coordenadas = spark.createDataFrame(list(coordinates_dict.items()), ['location_id', 'coordinates'])\n",
    "df_locations = df_locations.join(df_coordenadas, on='location_id', how='left')"
   ]
  },
  {
   "cell_type": "code",
   "execution_count": 104,
   "metadata": {},
   "outputs": [
    {
     "data": {
      "text/html": [
       "<div>\n",
       "<style scoped>\n",
       "    .dataframe tbody tr th:only-of-type {\n",
       "        vertical-align: middle;\n",
       "    }\n",
       "\n",
       "    .dataframe tbody tr th {\n",
       "        vertical-align: top;\n",
       "    }\n",
       "\n",
       "    .dataframe thead th {\n",
       "        text-align: right;\n",
       "    }\n",
       "</style>\n",
       "<table border=\"1\" class=\"dataframe\">\n",
       "  <thead>\n",
       "    <tr style=\"text-align: right;\">\n",
       "      <th></th>\n",
       "      <th>location_id</th>\n",
       "      <th>name</th>\n",
       "      <th>distance</th>\n",
       "      <th>bearing</th>\n",
       "      <th>address_obj_city</th>\n",
       "      <th>address_obj_state</th>\n",
       "      <th>address_obj_country</th>\n",
       "      <th>address_obj_address_string</th>\n",
       "      <th>type</th>\n",
       "      <th>district</th>\n",
       "      <th>__index_level_0__</th>\n",
       "      <th>latitude</th>\n",
       "      <th>longitude</th>\n",
       "    </tr>\n",
       "  </thead>\n",
       "  <tbody>\n",
       "    <tr>\n",
       "      <th>0</th>\n",
       "      <td>27200794</td>\n",
       "      <td>Anna Subirats Xarcuteria</td>\n",
       "      <td>0.03857963183663804</td>\n",
       "      <td>east</td>\n",
       "      <td>Barcelona</td>\n",
       "      <td>Province of Barcelona</td>\n",
       "      <td>Spain</td>\n",
       "      <td>Carrer De Sepulveda, 167, 08011 Barcelona Spain</td>\n",
       "      <td>restaurant</td>\n",
       "      <td>Eixample</td>\n",
       "      <td>190</td>\n",
       "      <td>41.383205</td>\n",
       "      <td>2.162197</td>\n",
       "    </tr>\n",
       "    <tr>\n",
       "      <th>1</th>\n",
       "      <td>27326644</td>\n",
       "      <td>Rincon Del Cazador</td>\n",
       "      <td>0.15956806976023746</td>\n",
       "      <td>south</td>\n",
       "      <td>Barcelona</td>\n",
       "      <td>Province of Barcelona</td>\n",
       "      <td>Spain</td>\n",
       "      <td>Passeig De La Mare De Deu Del Coll, 68, 08023 ...</td>\n",
       "      <td>restaurant</td>\n",
       "      <td>Gràcia</td>\n",
       "      <td>212</td>\n",
       "      <td>41.417217</td>\n",
       "      <td>2.147516</td>\n",
       "    </tr>\n",
       "  </tbody>\n",
       "</table>\n",
       "</div>"
      ],
      "text/plain": [
       "  location_id                      name             distance bearing  \\\n",
       "0    27200794  Anna Subirats Xarcuteria  0.03857963183663804    east   \n",
       "1    27326644        Rincon Del Cazador  0.15956806976023746   south   \n",
       "\n",
       "  address_obj_city      address_obj_state address_obj_country  \\\n",
       "0        Barcelona  Province of Barcelona               Spain   \n",
       "1        Barcelona  Province of Barcelona               Spain   \n",
       "\n",
       "                          address_obj_address_string        type  district  \\\n",
       "0    Carrer De Sepulveda, 167, 08011 Barcelona Spain  restaurant  Eixample   \n",
       "1  Passeig De La Mare De Deu Del Coll, 68, 08023 ...  restaurant    Gràcia   \n",
       "\n",
       "  __index_level_0__   latitude  longitude  \n",
       "0               190  41.383205   2.162197  \n",
       "1               212  41.417217   2.147516  "
      ]
     },
     "execution_count": 104,
     "metadata": {},
     "output_type": "execute_result"
    }
   ],
   "source": [
    "df_locations = df_locations \\\n",
    "    .withColumn('coordinates_str', concat_ws(',', col('coordinates._1'), col('coordinates._2'))) \\\n",
    "    .withColumn('latitude', split(col('coordinates_str'), ',').getItem(0).cast('float')) \\\n",
    "    .withColumn('longitude', split(col('coordinates_str'), ',').getItem(1).cast('float')) \\\n",
    "    .drop(*['coordinates_str', 'coordinates'])  \n",
    "\n",
    "df_locations.limit(2).toPandas()"
   ]
  },
  {
   "cell_type": "code",
   "execution_count": 105,
   "metadata": {},
   "outputs": [
    {
     "data": {
      "text/html": [
       "<div style=\"width:100%;\"><div style=\"position:relative;width:100%;height:0;padding-bottom:60%;\"><span style=\"color:#565656\">Make this Notebook Trusted to load map: File -> Trust Notebook</span><iframe srcdoc=\"&lt;!DOCTYPE html&gt;\n",
       "&lt;html&gt;\n",
       "&lt;head&gt;\n",
       "    \n",
       "    &lt;meta http-equiv=&quot;content-type&quot; content=&quot;text/html; charset=UTF-8&quot; /&gt;\n",
       "    \n",
       "        &lt;script&gt;\n",
       "            L_NO_TOUCH = false;\n",
       "            L_DISABLE_3D = false;\n",
       "        &lt;/script&gt;\n",
       "    \n",
       "    &lt;style&gt;html, body {width: 100%;height: 100%;margin: 0;padding: 0;}&lt;/style&gt;\n",
       "    &lt;style&gt;#map {position:absolute;top:0;bottom:0;right:0;left:0;}&lt;/style&gt;\n",
       "    &lt;script src=&quot;https://cdn.jsdelivr.net/npm/leaflet@1.9.3/dist/leaflet.js&quot;&gt;&lt;/script&gt;\n",
       "    &lt;script src=&quot;https://code.jquery.com/jquery-3.7.1.min.js&quot;&gt;&lt;/script&gt;\n",
       "    &lt;script src=&quot;https://cdn.jsdelivr.net/npm/bootstrap@5.2.2/dist/js/bootstrap.bundle.min.js&quot;&gt;&lt;/script&gt;\n",
       "    &lt;script src=&quot;https://cdnjs.cloudflare.com/ajax/libs/Leaflet.awesome-markers/2.0.2/leaflet.awesome-markers.js&quot;&gt;&lt;/script&gt;\n",
       "    &lt;link rel=&quot;stylesheet&quot; href=&quot;https://cdn.jsdelivr.net/npm/leaflet@1.9.3/dist/leaflet.css&quot;/&gt;\n",
       "    &lt;link rel=&quot;stylesheet&quot; href=&quot;https://cdn.jsdelivr.net/npm/bootstrap@5.2.2/dist/css/bootstrap.min.css&quot;/&gt;\n",
       "    &lt;link rel=&quot;stylesheet&quot; href=&quot;https://netdna.bootstrapcdn.com/bootstrap/3.0.0/css/bootstrap.min.css&quot;/&gt;\n",
       "    &lt;link rel=&quot;stylesheet&quot; href=&quot;https://cdn.jsdelivr.net/npm/@fortawesome/fontawesome-free@6.2.0/css/all.min.css&quot;/&gt;\n",
       "    &lt;link rel=&quot;stylesheet&quot; href=&quot;https://cdnjs.cloudflare.com/ajax/libs/Leaflet.awesome-markers/2.0.2/leaflet.awesome-markers.css&quot;/&gt;\n",
       "    &lt;link rel=&quot;stylesheet&quot; href=&quot;https://cdn.jsdelivr.net/gh/python-visualization/folium/folium/templates/leaflet.awesome.rotate.min.css&quot;/&gt;\n",
       "    \n",
       "            &lt;meta name=&quot;viewport&quot; content=&quot;width=device-width,\n",
       "                initial-scale=1.0, maximum-scale=1.0, user-scalable=no&quot; /&gt;\n",
       "            &lt;style&gt;\n",
       "                #map_642698f13e9aa64b2dce1b75430046ac {\n",
       "                    position: relative;\n",
       "                    width: 100.0%;\n",
       "                    height: 100.0%;\n",
       "                    left: 0.0%;\n",
       "                    top: 0.0%;\n",
       "                }\n",
       "                .leaflet-container { font-size: 1rem; }\n",
       "            &lt;/style&gt;\n",
       "        \n",
       "&lt;/head&gt;\n",
       "&lt;body&gt;\n",
       "    \n",
       "    \n",
       "            &lt;div class=&quot;folium-map&quot; id=&quot;map_642698f13e9aa64b2dce1b75430046ac&quot; &gt;&lt;/div&gt;\n",
       "        \n",
       "&lt;/body&gt;\n",
       "&lt;script&gt;\n",
       "    \n",
       "    \n",
       "            var map_642698f13e9aa64b2dce1b75430046ac = L.map(\n",
       "                &quot;map_642698f13e9aa64b2dce1b75430046ac&quot;,\n",
       "                {\n",
       "                    center: [41.39, 2.17],\n",
       "                    crs: L.CRS.EPSG3857,\n",
       "                    zoom: 12,\n",
       "                    zoomControl: true,\n",
       "                    preferCanvas: false,\n",
       "                }\n",
       "            );\n",
       "\n",
       "            \n",
       "\n",
       "        \n",
       "    \n",
       "            var tile_layer_e00f382a5c97e627f1d3367da5ae64da = L.tileLayer(\n",
       "                &quot;https://tile.openstreetmap.org/{z}/{x}/{y}.png&quot;,\n",
       "                {&quot;attribution&quot;: &quot;\\u0026copy; \\u003ca href=\\&quot;https://www.openstreetmap.org/copyright\\&quot;\\u003eOpenStreetMap\\u003c/a\\u003e contributors&quot;, &quot;detectRetina&quot;: false, &quot;maxNativeZoom&quot;: 19, &quot;maxZoom&quot;: 19, &quot;minZoom&quot;: 0, &quot;noWrap&quot;: false, &quot;opacity&quot;: 1, &quot;subdomains&quot;: &quot;abc&quot;, &quot;tms&quot;: false}\n",
       "            );\n",
       "        \n",
       "    \n",
       "            tile_layer_e00f382a5c97e627f1d3367da5ae64da.addTo(map_642698f13e9aa64b2dce1b75430046ac);\n",
       "        \n",
       "    \n",
       "            var polygon_1050ac4b1f75283842ea5dccd496eb99 = L.polygon(\n",
       "                [[41.33, 2.1], [41.33, 2.24], [41.45, 2.24], [41.45, 2.1], [41.33, 2.1]],\n",
       "                {&quot;bubblingMouseEvents&quot;: true, &quot;color&quot;: &quot;red&quot;, &quot;dashArray&quot;: null, &quot;dashOffset&quot;: null, &quot;fill&quot;: true, &quot;fillColor&quot;: &quot;red&quot;, &quot;fillOpacity&quot;: 0.5, &quot;fillRule&quot;: &quot;evenodd&quot;, &quot;lineCap&quot;: &quot;round&quot;, &quot;lineJoin&quot;: &quot;round&quot;, &quot;noClip&quot;: false, &quot;opacity&quot;: 1.0, &quot;smoothFactor&quot;: 1.0, &quot;stroke&quot;: true, &quot;weight&quot;: 3}\n",
       "            ).addTo(map_642698f13e9aa64b2dce1b75430046ac);\n",
       "        \n",
       "&lt;/script&gt;\n",
       "&lt;/html&gt;\" style=\"position:absolute;width:100%;height:100%;left:0;top:0;border:none !important;\" allowfullscreen webkitallowfullscreen mozallowfullscreen></iframe></div></div>"
      ],
      "text/plain": [
       "<folium.folium.Map at 0x1280905b0>"
      ]
     },
     "execution_count": 105,
     "metadata": {},
     "output_type": "execute_result"
    }
   ],
   "source": [
    "# Limits of Barcelona\n",
    "barcelona_lat_min = 41.33\n",
    "barcelona_lat_max = 41.45\n",
    "barcelona_lng_min = 2.10\n",
    "barcelona_lng_max = 2.24\n",
    "\n",
    "map_barcelona = folium.Map(location=[(barcelona_lat_min + barcelona_lat_max) / 2,\n",
    "                                     (barcelona_lng_min + barcelona_lng_max) / 2], zoom_start=12)\n",
    "\n",
    "# Square to paint\n",
    "bounds = [(barcelona_lat_min, barcelona_lng_min),\n",
    "          (barcelona_lat_min, barcelona_lng_max),\n",
    "          (barcelona_lat_max, barcelona_lng_max),\n",
    "          (barcelona_lat_max, barcelona_lng_min),\n",
    "          (barcelona_lat_min, barcelona_lng_min)]\n",
    "\n",
    "folium.Polygon(bounds, color='red', fill=True, fill_color='red', fill_opacity=0.5).add_to(map_barcelona)\n",
    "map_barcelona"
   ]
  },
  {
   "cell_type": "code",
   "execution_count": 106,
   "metadata": {},
   "outputs": [],
   "source": [
    "# Apply the square\n",
    "df_locations = df_locations[(df_locations['latitude'] >= barcelona_lat_min) & \n",
    "                            (df_locations['latitude'] <= barcelona_lat_max) &\n",
    "                            (df_locations['longitude'] >= barcelona_lng_min) & \n",
    "                            (df_locations['longitude'] <= barcelona_lng_max)]"
   ]
  },
  {
   "cell_type": "code",
   "execution_count": 107,
   "metadata": {},
   "outputs": [
    {
     "name": "stdout",
     "output_type": "stream",
     "text": [
      "+----------+\n",
      "|      type|\n",
      "+----------+\n",
      "|attraction|\n",
      "|restaurant|\n",
      "+----------+\n",
      "\n"
     ]
    },
    {
     "name": "stderr",
     "output_type": "stream",
     "text": [
      "                                                                                \r"
     ]
    },
    {
     "name": "stdout",
     "output_type": "stream",
     "text": [
      "+-------------------+\n",
      "|           district|\n",
      "+-------------------+\n",
      "|             Gràcia|\n",
      "|         Sant Martí|\n",
      "|     Horta-Guinardó|\n",
      "|          Les Corts|\n",
      "|     Sants-Montjuïc|\n",
      "|         Nou Barris|\n",
      "|Sarrià-Sant Gervasi|\n",
      "|           Eixample|\n",
      "|        Sant Andreu|\n",
      "|       Ciutat Vella|\n",
      "+-------------------+\n",
      "\n"
     ]
    }
   ],
   "source": [
    "df_locations.select(\"type\").distinct().show()\n",
    "df_locations.select(\"district\").distinct().show()\n",
    "# rename district to match to the other dfs\n",
    "df_locations = df_locations.withColumnRenamed(\"district\", \"neighbourhood\")"
   ]
  },
  {
   "cell_type": "markdown",
   "metadata": {},
   "source": [
    "Categorical Features Distributions Insights\n",
    "<div class=\"alert alert-block alert-info\" style=\"color: #01579B; background-color: #E1F5FE; border-color: #01579B;\">\n",
    "\n",
    "+ The majority of restaurants and attractions are located between Ciutat Vella and Example, where the highest volume of tourists is found.\n",
    "+ We have slightly more restaurants than attractions, but the difference is fairly balanced.\n",
    "</div>"
   ]
  },
  {
   "cell_type": "code",
   "execution_count": 108,
   "metadata": {},
   "outputs": [
    {
     "name": "stderr",
     "output_type": "stream",
     "text": [
      "                                                                                \r"
     ]
    },
    {
     "data": {
      "image/png": "[encoded data removed]",
      "text/plain": [
       "<Figure size 648x360 with 2 Axes>"
      ]
     },
     "metadata": {
      "needs_background": "light"
     },
     "output_type": "display_data"
    }
   ],
   "source": [
    "fig, axs = plt.subplots(1, 2, figsize=(9, 5))  \n",
    "axs = axs.flatten() \n",
    "\n",
    "for i, column in enumerate([\"neighbourhood\", \"type\"]):\n",
    "    ax = axs[i]  \n",
    "    color = color_palette[i % len(color_palette)]  \n",
    "    utils.plot_categorical_distribution(df_locations, column, ax, color)\n",
    "\n",
    "plt.tight_layout()\n",
    "plt.show()"
   ]
  },
  {
   "cell_type": "code",
   "execution_count": 109,
   "metadata": {},
   "outputs": [
    {
     "name": "stderr",
     "output_type": "stream",
     "text": [
      "                                                                                \r"
     ]
    },
    {
     "data": {
      "text/html": [
       "<div>\n",
       "<style scoped>\n",
       "    .dataframe tbody tr th:only-of-type {\n",
       "        vertical-align: middle;\n",
       "    }\n",
       "\n",
       "    .dataframe tbody tr th {\n",
       "        vertical-align: top;\n",
       "    }\n",
       "\n",
       "    .dataframe thead th {\n",
       "        text-align: right;\n",
       "    }\n",
       "</style>\n",
       "<table border=\"1\" class=\"dataframe\">\n",
       "  <thead>\n",
       "    <tr style=\"text-align: right;\">\n",
       "      <th></th>\n",
       "      <th>location_id</th>\n",
       "      <th>name</th>\n",
       "      <th>distance</th>\n",
       "      <th>bearing</th>\n",
       "      <th>address_obj_city</th>\n",
       "      <th>address_obj_state</th>\n",
       "      <th>address_obj_country</th>\n",
       "      <th>address_obj_address_string</th>\n",
       "      <th>type</th>\n",
       "      <th>neighbourhood</th>\n",
       "      <th>__index_level_0__</th>\n",
       "      <th>latitude</th>\n",
       "      <th>longitude</th>\n",
       "    </tr>\n",
       "  </thead>\n",
       "  <tbody>\n",
       "    <tr>\n",
       "      <th>0</th>\n",
       "      <td>0</td>\n",
       "      <td>0</td>\n",
       "      <td>0</td>\n",
       "      <td>0</td>\n",
       "      <td>0</td>\n",
       "      <td>0</td>\n",
       "      <td>0</td>\n",
       "      <td>0</td>\n",
       "      <td>0</td>\n",
       "      <td>0</td>\n",
       "      <td>0</td>\n",
       "      <td>0</td>\n",
       "      <td>0</td>\n",
       "    </tr>\n",
       "  </tbody>\n",
       "</table>\n",
       "</div>"
      ],
      "text/plain": [
       "   location_id  name  distance  bearing  address_obj_city  address_obj_state  \\\n",
       "0            0     0         0        0                 0                  0   \n",
       "\n",
       "   address_obj_country  address_obj_address_string  type  neighbourhood  \\\n",
       "0                    0                           0     0              0   \n",
       "\n",
       "   __index_level_0__  latitude  longitude  \n",
       "0                  0         0          0  "
      ]
     },
     "execution_count": 109,
     "metadata": {},
     "output_type": "execute_result"
    }
   ],
   "source": [
    "nan_counts = df_locations.select([count(when(isnan(c) | col(c).isNull(), c)).alias(c) for c in df_locations.columns])\n",
    "total_nan_count = sum(nan_counts.collect()[0])\n",
    "nan_counts.toPandas()"
   ]
  },
  {
   "cell_type": "code",
   "execution_count": 110,
   "metadata": {},
   "outputs": [
    {
     "name": "stdout",
     "output_type": "stream",
     "text": [
      "root\n",
      " |-- location_id: string (nullable = true)\n",
      " |-- name: string (nullable = true)\n",
      " |-- distance: string (nullable = true)\n",
      " |-- bearing: string (nullable = true)\n",
      " |-- address_obj_city: string (nullable = true)\n",
      " |-- address_obj_state: string (nullable = false)\n",
      " |-- address_obj_country: string (nullable = true)\n",
      " |-- address_obj_address_string: string (nullable = true)\n",
      " |-- type: string (nullable = true)\n",
      " |-- neighbourhood: string (nullable = true)\n",
      " |-- __index_level_0__: decimal(20,0) (nullable = true)\n",
      " |-- latitude: float (nullable = true)\n",
      " |-- longitude: float (nullable = true)\n",
      "\n"
     ]
    },
    {
     "data": {
      "text/html": [
       "<div>\n",
       "<style scoped>\n",
       "    .dataframe tbody tr th:only-of-type {\n",
       "        vertical-align: middle;\n",
       "    }\n",
       "\n",
       "    .dataframe tbody tr th {\n",
       "        vertical-align: top;\n",
       "    }\n",
       "\n",
       "    .dataframe thead th {\n",
       "        text-align: right;\n",
       "    }\n",
       "</style>\n",
       "<table border=\"1\" class=\"dataframe\">\n",
       "  <thead>\n",
       "    <tr style=\"text-align: right;\">\n",
       "      <th></th>\n",
       "      <th>location_id</th>\n",
       "      <th>name</th>\n",
       "      <th>distance</th>\n",
       "      <th>bearing</th>\n",
       "      <th>address_obj_city</th>\n",
       "      <th>address_obj_state</th>\n",
       "      <th>address_obj_country</th>\n",
       "      <th>address_obj_address_string</th>\n",
       "      <th>type</th>\n",
       "      <th>neighbourhood</th>\n",
       "      <th>__index_level_0__</th>\n",
       "      <th>latitude</th>\n",
       "      <th>longitude</th>\n",
       "    </tr>\n",
       "  </thead>\n",
       "  <tbody>\n",
       "    <tr>\n",
       "      <th>0</th>\n",
       "      <td>27200794</td>\n",
       "      <td>Anna Subirats Xarcuteria</td>\n",
       "      <td>0.03857963183663804</td>\n",
       "      <td>east</td>\n",
       "      <td>Barcelona</td>\n",
       "      <td>Province of Barcelona</td>\n",
       "      <td>Spain</td>\n",
       "      <td>Carrer De Sepulveda, 167, 08011 Barcelona Spain</td>\n",
       "      <td>restaurant</td>\n",
       "      <td>Eixample</td>\n",
       "      <td>190</td>\n",
       "      <td>41.383205</td>\n",
       "      <td>2.162197</td>\n",
       "    </tr>\n",
       "  </tbody>\n",
       "</table>\n",
       "</div>"
      ],
      "text/plain": [
       "  location_id                      name             distance bearing  \\\n",
       "0    27200794  Anna Subirats Xarcuteria  0.03857963183663804    east   \n",
       "\n",
       "  address_obj_city      address_obj_state address_obj_country  \\\n",
       "0        Barcelona  Province of Barcelona               Spain   \n",
       "\n",
       "                        address_obj_address_string        type neighbourhood  \\\n",
       "0  Carrer De Sepulveda, 167, 08011 Barcelona Spain  restaurant      Eixample   \n",
       "\n",
       "  __index_level_0__   latitude  longitude  \n",
       "0               190  41.383205   2.162197  "
      ]
     },
     "execution_count": 110,
     "metadata": {},
     "output_type": "execute_result"
    }
   ],
   "source": [
    "df_locations.printSchema()\n",
    "df_locations.limit(1).toPandas() "
   ]
  },
  {
   "cell_type": "markdown",
   "metadata": {},
   "source": [
    "<div style=\"background-color:#F2F2F2; padding: 10px;\">\n",
    "    <div style=\"text-align: center;\">\n",
    "        <span style=\"font-family: 'Playfair Display', serif; font-size: 20px; font-weight: bold; color: black;\">\n",
    "            TripAdvisor Reviews Datasets\n",
    "        </span>\n",
    "    </div>\n",
    "</div>\n",
    "\n",
    "\n",
    "\n",
    "#### DataFrame Schema\n",
    "\n",
    "<div class=\"alert alert-block alert-info\" style=\"color: #01571B; background-color: #C8E5C6;\">\n",
    "    \n",
    "The DataFrame comprises various columns, each providing distinct details related to property listings:\n",
    "\n",
    "- The DataFrame has **5449 rows** and **48 columns**. \n",
    "\n",
    "- **location_id**: decimal(20,0) (nullable = true)\n",
    "- **id**: decimal(20,0) (nullable = true)\n",
    "- **lang**: string (nullable = true)\n",
    "- **published_date**: string (nullable = true)\n",
    "- **rating**: decimal(20,0) (nullable = true)\n",
    "- **helpful_votes**: decimal(20,0) (nullable = true)\n",
    "- **rating_image_url**: string (nullable = true)\n",
    "- **url**: string (nullable = true)\n",
    "- **text**: string (nullable = true)\n",
    "- **title**: string (nullable = true)\n",
    "- **trip_type**: string (nullable = true)\n",
    "- **travel_date**: string (nullable = true)\n",
    "- **user_username**: string (nullable = true)\n",
    "- **user_user_location_id**: string (nullable = true)\n",
    "- **user_avatar_thumbnail**: string (nullable = true)\n",
    "- **user_avatar_small**: string (nullable = true)\n",
    "- **user_avatar_medium**: string (nullable = true)\n",
    "- **user_avatar_large**: string (nullable = true)\n",
    "- **user_avatar_original**: string (nullable = true)\n",
    "- **name**: string (nullable = true)\n",
    "- **address_obj_address_string**: string (nullable = true)\n",
    "- **type**: string (nullable = true)\n",
    "- **neighbourhood**: string (nullable = true)\n",
    "- **latitude**: float (nullable = true)\n",
    "- **longitude**: float (nullable = true)\n",
    "</div>\n"
   ]
  },
  {
   "cell_type": "code",
   "execution_count": 111,
   "metadata": {},
   "outputs": [],
   "source": [
    "df_reviews = spark.read \\\n",
    "  .format(\"jdbc\") \\\n",
    "  .option(\"url\", jdbc_url) \\\n",
    "  .option(\"driver\", driver) \\\n",
    "  .option(\"query\", \"SELECT * FROM df_tripadvisor_reviews\") \\\n",
    "  .load()"
   ]
  },
  {
   "cell_type": "markdown",
   "metadata": {},
   "source": [
    "Replace names with points"
   ]
  },
  {
   "cell_type": "code",
   "execution_count": 112,
   "metadata": {},
   "outputs": [],
   "source": [
    "exprs = [f\"`{col_name}` as `{col_name.replace('.', '_')}`\" for col_name in df_reviews.columns]\n",
    "df_reviews = df_reviews.selectExpr(exprs)"
   ]
  },
  {
   "cell_type": "markdown",
   "metadata": {},
   "source": [
    "Explanation for Join Operation\n",
    "\n",
    "<div class=\"alert alert-block alert-info\" style=\"color: #01579B; background-color: #E1F5FE; border-color: #01579B;\">\n",
    "\n",
    "We are performing a join operation between `df_reviews` and `df_locations` DataFrames on the 'location_id' column. This is done to filter `df_reviews` to only include rows corresponding to locations that are present in `df_locations`. By using an inner join (`how='inner'`), we ensure that only matching rows from both DataFrames are retained, effectively restricting our analysis to reviews for locations within Barcelona.\n",
    "</div>\n"
   ]
  },
  {
   "cell_type": "code",
   "execution_count": null,
   "metadata": {},
   "outputs": [],
   "source": []
  },
  {
   "cell_type": "markdown",
   "metadata": {},
   "source": [
    "Count the Null Values"
   ]
  },
  {
   "cell_type": "code",
   "execution_count": 113,
   "metadata": {},
   "outputs": [
    {
     "name": "stderr",
     "output_type": "stream",
     "text": [
      "                                                                                \r"
     ]
    },
    {
     "data": {
      "text/html": [
       "<div>\n",
       "<style scoped>\n",
       "    .dataframe tbody tr th:only-of-type {\n",
       "        vertical-align: middle;\n",
       "    }\n",
       "\n",
       "    .dataframe tbody tr th {\n",
       "        vertical-align: top;\n",
       "    }\n",
       "\n",
       "    .dataframe thead th {\n",
       "        text-align: right;\n",
       "    }\n",
       "</style>\n",
       "<table border=\"1\" class=\"dataframe\">\n",
       "  <thead>\n",
       "    <tr style=\"text-align: right;\">\n",
       "      <th></th>\n",
       "      <th>id</th>\n",
       "      <th>lang</th>\n",
       "      <th>location_id</th>\n",
       "      <th>published_date</th>\n",
       "      <th>rating</th>\n",
       "      <th>helpful_votes</th>\n",
       "      <th>rating_image_url</th>\n",
       "      <th>url</th>\n",
       "      <th>text</th>\n",
       "      <th>title</th>\n",
       "      <th>...</th>\n",
       "      <th>subratings_3_name</th>\n",
       "      <th>subratings_3_rating_image_url</th>\n",
       "      <th>subratings_3_value</th>\n",
       "      <th>subratings_3_localized_name</th>\n",
       "      <th>owner_response_id</th>\n",
       "      <th>owner_response_title</th>\n",
       "      <th>owner_response_text</th>\n",
       "      <th>owner_response_lang</th>\n",
       "      <th>owner_response_author</th>\n",
       "      <th>owner_response_published_date</th>\n",
       "    </tr>\n",
       "  </thead>\n",
       "  <tbody>\n",
       "    <tr>\n",
       "      <th>0</th>\n",
       "      <td>0</td>\n",
       "      <td>0</td>\n",
       "      <td>0</td>\n",
       "      <td>0</td>\n",
       "      <td>0</td>\n",
       "      <td>0</td>\n",
       "      <td>0</td>\n",
       "      <td>0</td>\n",
       "      <td>0</td>\n",
       "      <td>0</td>\n",
       "      <td>...</td>\n",
       "      <td>5105</td>\n",
       "      <td>5105</td>\n",
       "      <td>5105</td>\n",
       "      <td>5105</td>\n",
       "      <td>5003</td>\n",
       "      <td>5003</td>\n",
       "      <td>5003</td>\n",
       "      <td>5003</td>\n",
       "      <td>5003</td>\n",
       "      <td>5003</td>\n",
       "    </tr>\n",
       "  </tbody>\n",
       "</table>\n",
       "<p>1 rows × 42 columns</p>\n",
       "</div>"
      ],
      "text/plain": [
       "   id  lang  location_id  published_date  rating  helpful_votes  \\\n",
       "0   0     0            0               0       0              0   \n",
       "\n",
       "   rating_image_url  url  text  title  ...  subratings_3_name  \\\n",
       "0                 0    0     0      0  ...               5105   \n",
       "\n",
       "   subratings_3_rating_image_url  subratings_3_value  \\\n",
       "0                           5105                5105   \n",
       "\n",
       "   subratings_3_localized_name  owner_response_id  owner_response_title  \\\n",
       "0                         5105               5003                  5003   \n",
       "\n",
       "   owner_response_text  owner_response_lang  owner_response_author  \\\n",
       "0                 5003                 5003                   5003   \n",
       "\n",
       "   owner_response_published_date  \n",
       "0                           5003  \n",
       "\n",
       "[1 rows x 42 columns]"
      ]
     },
     "execution_count": 113,
     "metadata": {},
     "output_type": "execute_result"
    }
   ],
   "source": [
    "nan_counts = df_reviews.select([count(when(isnan(c) | col(c).isNull(), c)).alias(c) for c in df_reviews.columns])\n",
    "total_nan_count = sum(nan_counts.collect()[0])\n",
    "nan_counts.toPandas()"
   ]
  },
  {
   "cell_type": "markdown",
   "metadata": {},
   "source": [
    "Remove redundant columns\n",
    "\n",
    "<div class=\"alert alert-block alert-info\" style=\"color: #01579B; background-color: #E1F5FE; border-color: #01579B;\">\n",
    "\n",
    "+ Values with lots of NaN --> drop\n",
    "\n",
    "We mainly will be only using the scoring of the reviews.\n",
    "</div>"
   ]
  },
  {
   "cell_type": "code",
   "execution_count": 114,
   "metadata": {},
   "outputs": [],
   "source": [
    "columns_to_drop = [\n",
    "    \"subratings_0_name\",\n",
    "    \"subratings_0_rating_image_url\",\n",
    "    \"subratings_0_value\",\n",
    "    \"subratings_0_localized_name\",\n",
    "    \"subratings_1_name\",\n",
    "    \"subratings_1_rating_image_url\",\n",
    "    \"subratings_1_value\",\n",
    "    \"subratings_1_localized_name\",\n",
    "    \"subratings_2_name\",\n",
    "    \"subratings_2_rating_image_url\",\n",
    "    \"subratings_2_value\",\n",
    "    \"subratings_2_localized_name\",\n",
    "    \"subratings_3_name\",\n",
    "    \"subratings_3_rating_image_url\",\n",
    "    \"subratings_3_value\",\n",
    "    \"subratings_3_localized_name\",\n",
    "    \"owner_response_id\",\n",
    "    \"owner_response_title\",\n",
    "    \"owner_response_text\",\n",
    "    \"owner_response_lang\",\n",
    "    \"owner_response_author\",\n",
    "    \"owner_response_published_date\",\n",
    "    \"user_user_location_name\"\n",
    "]\n",
    "df_reviews = df_reviews.drop(*columns_to_drop)"
   ]
  },
  {
   "cell_type": "markdown",
   "metadata": {},
   "source": [
    "<div class=\"alert alert-block alert-info\" style=\"color: #01579B; background-color: #E1F5FE; border-color: #01579B;\">\n",
    "\n",
    "Some of the other ones could be saved and imputed. For instance \"user.user_location.name\" could go look the name of the location on the location table. But since we will not be using those, the easiest way to deal with those is by removing them.\n",
    "</div>"
   ]
  },
  {
   "cell_type": "code",
   "execution_count": 115,
   "metadata": {},
   "outputs": [],
   "source": [
    "columns_to_drop = [\n",
    "'trip_type',\n",
    "'travel_date',\n",
    "'user.user_location.name',\n",
    "'user_avatar_thumbnail',\n",
    "'user_avatar_small',\n",
    "'user_avatar_medium',\n",
    "'user_avatar_large',\n",
    "'user_avatar_original',\n",
    "]\n",
    "df_reviews = df_reviews.drop(*columns_to_drop)"
   ]
  },
  {
   "cell_type": "code",
   "execution_count": 116,
   "metadata": {},
   "outputs": [
    {
     "name": "stderr",
     "output_type": "stream",
     "text": [
      "                                                                                \r"
     ]
    },
    {
     "data": {
      "text/plain": [
       "Index([], dtype='object')"
      ]
     },
     "execution_count": 116,
     "metadata": {},
     "output_type": "execute_result"
    }
   ],
   "source": [
    "# Checking again the NULL values\n",
    "nan_counts = df_locations.select([count(when(isnan(c) | col(c).isNull(), c)).alias(c) for c in df_locations.columns])\n",
    "total_nan_count = sum(nan_counts.collect()[0])\n",
    "nan_counts.toPandas()\n",
    "columns_with_values_greater_than_zero = nan_counts.toPandas().columns[nan_counts.toPandas().iloc[0] > 0]\n",
    "columns_with_values_greater_than_zero"
   ]
  },
  {
   "cell_type": "code",
   "execution_count": 117,
   "metadata": {},
   "outputs": [
    {
     "name": "stdout",
     "output_type": "stream",
     "text": [
      "root\n",
      " |-- id: decimal(20,0) (nullable = true)\n",
      " |-- lang: string (nullable = true)\n",
      " |-- location_id: decimal(20,0) (nullable = true)\n",
      " |-- published_date: string (nullable = true)\n",
      " |-- rating: decimal(20,0) (nullable = true)\n",
      " |-- helpful_votes: decimal(20,0) (nullable = true)\n",
      " |-- rating_image_url: string (nullable = true)\n",
      " |-- url: string (nullable = true)\n",
      " |-- text: string (nullable = true)\n",
      " |-- title: string (nullable = true)\n",
      " |-- user_username: string (nullable = true)\n",
      " |-- user_user_location_id: string (nullable = true)\n",
      "\n"
     ]
    },
    {
     "data": {
      "text/html": [
       "<div>\n",
       "<style scoped>\n",
       "    .dataframe tbody tr th:only-of-type {\n",
       "        vertical-align: middle;\n",
       "    }\n",
       "\n",
       "    .dataframe tbody tr th {\n",
       "        vertical-align: top;\n",
       "    }\n",
       "\n",
       "    .dataframe thead th {\n",
       "        text-align: right;\n",
       "    }\n",
       "</style>\n",
       "<table border=\"1\" class=\"dataframe\">\n",
       "  <thead>\n",
       "    <tr style=\"text-align: right;\">\n",
       "      <th></th>\n",
       "      <th>id</th>\n",
       "      <th>lang</th>\n",
       "      <th>location_id</th>\n",
       "      <th>published_date</th>\n",
       "      <th>rating</th>\n",
       "      <th>helpful_votes</th>\n",
       "      <th>rating_image_url</th>\n",
       "      <th>url</th>\n",
       "      <th>text</th>\n",
       "      <th>title</th>\n",
       "      <th>user_username</th>\n",
       "      <th>user_user_location_id</th>\n",
       "    </tr>\n",
       "  </thead>\n",
       "  <tbody>\n",
       "    <tr>\n",
       "      <th>0</th>\n",
       "      <td>903790935</td>\n",
       "      <td>en</td>\n",
       "      <td>8821646</td>\n",
       "      <td>2023-07-17T19:52:18Z</td>\n",
       "      <td>5</td>\n",
       "      <td>0</td>\n",
       "      <td>https://www.tripadvisor.com/img/cdsi/img2/rati...</td>\n",
       "      <td>https://www.tripadvisor.com/ShowUserReviews-g1...</td>\n",
       "      <td>Stopped for a light bites chicken, chips, rice...</td>\n",
       "      <td>Good value tasty food.</td>\n",
       "      <td>Wager47</td>\n",
       "      <td>255093</td>\n",
       "    </tr>\n",
       "  </tbody>\n",
       "</table>\n",
       "</div>"
      ],
      "text/plain": [
       "          id lang location_id        published_date rating helpful_votes  \\\n",
       "0  903790935   en     8821646  2023-07-17T19:52:18Z      5             0   \n",
       "\n",
       "                                    rating_image_url  \\\n",
       "0  https://www.tripadvisor.com/img/cdsi/img2/rati...   \n",
       "\n",
       "                                                 url  \\\n",
       "0  https://www.tripadvisor.com/ShowUserReviews-g1...   \n",
       "\n",
       "                                                text                   title  \\\n",
       "0  Stopped for a light bites chicken, chips, rice...  Good value tasty food.   \n",
       "\n",
       "  user_username user_user_location_id  \n",
       "0       Wager47                255093  "
      ]
     },
     "execution_count": 117,
     "metadata": {},
     "output_type": "execute_result"
    }
   ],
   "source": [
    "df_reviews.printSchema()\n",
    "df_reviews.limit(1).toPandas()"
   ]
  },
  {
   "cell_type": "code",
   "execution_count": 118,
   "metadata": {},
   "outputs": [
    {
     "name": "stdout",
     "output_type": "stream",
     "text": [
      "Writting tables...\n",
      "    - Criminal table\n"
     ]
    },
    {
     "name": "stderr",
     "output_type": "stream",
     "text": [
      "                                                                                \r"
     ]
    },
    {
     "name": "stdout",
     "output_type": "stream",
     "text": [
      "    - Aribnb table\n"
     ]
    },
    {
     "name": "stderr",
     "output_type": "stream",
     "text": [
      "                                                                                \r"
     ]
    },
    {
     "name": "stdout",
     "output_type": "stream",
     "text": [
      "    - Tripadvisor Locations table\n"
     ]
    },
    {
     "name": "stderr",
     "output_type": "stream",
     "text": [
      "                                                                                \r"
     ]
    },
    {
     "name": "stdout",
     "output_type": "stream",
     "text": [
      "    - Tripadvisor Reviews table\n"
     ]
    },
    {
     "name": "stderr",
     "output_type": "stream",
     "text": [
      "                                                                                \r"
     ]
    }
   ],
   "source": [
    "# Prepare the DuckDB connection\n",
    "con = duckdb.connect(database='./../data/trusted_zone/barcelona_processed.db', read_only=False)\n",
    "con.close()\n",
    "\n",
    "## Write on the tables \n",
    "print('Writting tables...')\n",
    "jdbc_url = 'jdbc:duckdb:./../data/trusted_zone/barcelona_processed.db'\n",
    "driver = \"org.duckdb.DuckDBDriver\"\n",
    "\n",
    "print('    - Criminal table')\n",
    "df_criminal.write \\\n",
    "    .format(\"jdbc\") \\\n",
    "    .option(\"url\", jdbc_url) \\\n",
    "    .option(\"dbtable\", \"df_criminal_dataset\") \\\n",
    "    .option(\"driver\", driver) \\\n",
    "    .mode(\"overwrite\") \\\n",
    "    .save()\n",
    "\n",
    "print('    - Aribnb table')\n",
    "df_airbnb.write \\\n",
    "    .format(\"jdbc\") \\\n",
    "    .option(\"url\", jdbc_url) \\\n",
    "    .option(\"dbtable\", \"df_airbnb_listings\") \\\n",
    "    .option(\"driver\", driver) \\\n",
    "    .mode(\"overwrite\") \\\n",
    "    .save()\n",
    "\n",
    "print('    - Tripadvisor Locations table')\n",
    "df_locations.write \\\n",
    "    .format(\"jdbc\") \\\n",
    "    .option(\"url\", jdbc_url) \\\n",
    "    .option(\"dbtable\", \"df_tripadvisor_locations\") \\\n",
    "    .option(\"driver\", driver) \\\n",
    "    .mode(\"overwrite\") \\\n",
    "    .save()\n",
    "\n",
    "print('    - Tripadvisor Reviews table')\n",
    "df_reviews.write \\\n",
    "    .format(\"jdbc\") \\\n",
    "    .option(\"url\", jdbc_url) \\\n",
    "    .option(\"dbtable\", \"df_tripadvisor_reviews\") \\\n",
    "    .option(\"driver\", driver) \\\n",
    "    .mode(\"overwrite\") \\\n",
    "    .save()\n",
    "\n",
    "spark.stop()\n",
    "con.close()"
   ]
  }
 ],
 "metadata": {
  "kernelspec": {
   "display_name": "Python 3 (ipykernel)",
   "language": "python",
   "name": "python3"
  },
  "language_info": {
   "codemirror_mode": {
    "name": "ipython",
    "version": 3
   },
   "file_extension": ".py",
   "mimetype": "text/x-python",
   "name": "python",
   "nbconvert_exporter": "python",
   "pygments_lexer": "ipython3",
   "version": "3.9.7"
  }
 },
 "nbformat": 4,
 "nbformat_minor": 4
}
