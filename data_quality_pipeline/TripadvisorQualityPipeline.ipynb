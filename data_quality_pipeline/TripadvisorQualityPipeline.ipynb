{
 "cells": [
  {
   "cell_type": "markdown",
   "metadata": {},
   "source": [
    "___\n",
    "\n",
    "<div style=\"text-align: center;\">\n",
    "  <span style=\"font-family: 'Playfair Display', serif; font-size: 24px; font-weight: bold;\">\n",
    "Dataset Exploration\n",
    "  </span>\n",
    "</div>\n",
    "\n",
    "___\n",
    "\n",
    "\n",
    "In this notebook, we will explore four datasets stored in DuckDB using PySpark. The datasets include the Criminal Dataset, Airbnb Listings, TripAdvisor Attractions, and Restaurants. \n",
    "\n",
    "The exploration will involve:\n",
    "\n",
    "<li>Identification of Data Quality rules on the datasets</li>\n",
    "<li>Assessment of the Quality of the Data</li>\n",
    "<li>Application of Data Cleaning processes (individually per dataset)</li>\n",
    "<li>Expression of Data quality rules as Denial Constraints</li>\n",
    "<li>Storage of the improved quality tables in the Trusted Zone, mirroring the tables in the Formatted Zone</li>"
   ]
  },
  {
   "cell_type": "code",
   "execution_count": 1,
   "metadata": {},
   "outputs": [],
   "source": [
    "#%pip install duckdb pyspark folium geopy wordcloud unidecode rdflib \n",
    "#!sudo -u postgres psql -U postgres -c \"ALTER USER postgres PASSWORD 'postgres';\"\n",
    "#!sudo -u postgres psql -U postgres -c 'DROP DATABASE IF EXISTS pyspark_postgres;'\n",
    "#!sudo -u postgres psql -U postgres -c 'CREATE DATABASE pyspark_postgres;'\n",
    "#!wget -O \"postgresql.jar\" \"https://repo1.maven.org/maven2/org/postgresql/postgresql/42.7.3/postgresql-42.7.3.jar\"\n",
    "#!wget -O \"duckdb.jar\" \"https://repo1.maven.org/maven2/org/duckdb/duckdb_jdbc/0.10.1/duckdb_jdbc-0.10.1.jar\""
   ]
  },
  {
   "cell_type": "code",
   "execution_count": 2,
   "metadata": {},
   "outputs": [
    {
     "name": "stderr",
     "output_type": "stream",
     "text": [
      "24/06/03 17:46:31 WARN NativeCodeLoader: Unable to load native-hadoop library for your platform... using builtin-java classes where applicable\n",
      "Setting default log level to \"WARN\".\n",
      "To adjust logging level use sc.setLogLevel(newLevel). For SparkR, use setLogLevel(newLevel).\n",
      "24/06/03 17:46:32 WARN Utils: Service 'SparkUI' could not bind on port 4040. Attempting port 4041.\n"
     ]
    }
   ],
   "source": [
    "## Imports\n",
    "import duckdb\n",
    "import pickle\n",
    "import folium\n",
    "import warnings\n",
    "import matplotlib.pyplot as plt\n",
    "from pyspark.sql import SparkSession\n",
    "from pyspark.sql.functions import isnan, concat_ws, split, col, count, isnan, when\n",
    "warnings.filterwarnings(\"ignore\")\n",
    "\n",
    "import sys\n",
    "import os\n",
    "\n",
    "current_dir = os.path.dirname(os.path.abspath('__file__'))\n",
    "parent_dir = os.path.abspath(os.path.join(current_dir, os.pardir))\n",
    "\n",
    "# Agregate the dic to sys.path\n",
    "if parent_dir not in sys.path:\n",
    "    sys.path.append(parent_dir)\n",
    "import utils\n",
    "\n",
    "## Connection to formatted database\n",
    "jdbc_url = 'jdbc:duckdb:./../data/formatted_zone/barcelona.db'\n",
    "driver = \"org.duckdb.DuckDBDriver\"\n",
    "\n",
    "# SparkSession inicialitzation\n",
    "spark = SparkSession.builder \\\n",
    "    .config(\"spark.jars\", \"./../lib/duckdb.jar\") \\\n",
    "    .appName(\"DataExploration\") \\\n",
    "    .getOrCreate()"
   ]
  },
  {
   "cell_type": "markdown",
   "metadata": {},
   "source": [
    "<div style=\"background-color:#F2F2F2; padding: 10px;\">\n",
    "    <div style=\"text-align: center;\">\n",
    "        <span style=\"font-family: 'Playfair Display', serif; font-size: 20px; font-weight: bold; color: black;\">\n",
    "            TripAdvisor Locations Dataset\n",
    "        </span>\n",
    "    </div>\n",
    "</div>\n",
    "\n",
    "\n",
    "#### DataFrame Schema\n",
    "\n",
    "<div class=\"alert alert-block alert-info\" style=\"color: #01571B; background-color: #C8E5C6;\">\n",
    "    \n",
    "The DataFrame comprises various columns, each providing distinct details related to property listings:\n",
    "\n",
    "The DataFrame has **2493 rows** and **14 columns**. \n",
    "\n",
    "- **location_id**: string (nullable = true)\n",
    "- **name**: string (nullable = true)\n",
    "- **distance**: string (nullable = true)\n",
    "- **bearing**: string (nullable = true)\n",
    "- **address_obj.street1**: string (nullable = true)\n",
    "- **address_obj.city**: string (nullable = true)\n",
    "- **address_obj.state**: string (nullable = true)\n",
    "- **address_obj.country**: string (nullable = true)\n",
    "- **address_obj.postalcode**: string (nullable = true)\n",
    "- **address_obj.address_string**: string (nullable = true)\n",
    "- **address_obj.street2**: string (nullable = true)\n",
    "- **type**: string (nullable = true)\n",
    "- **district**: string (nullable = true)\n",
    "- **__index_level_0__**: decimal(20,0) (nullable = true)\n",
    "</div>"
   ]
  },
  {
   "cell_type": "code",
   "execution_count": 3,
   "metadata": {},
   "outputs": [],
   "source": [
    "df_locations = spark.read \\\n",
    "  .format(\"jdbc\") \\\n",
    "  .option(\"url\", jdbc_url) \\\n",
    "  .option(\"driver\", driver) \\\n",
    "  .option(\"query\", \"SELECT * FROM df_tripadvisor_locations\") \\\n",
    "  .load()"
   ]
  },
  {
   "cell_type": "markdown",
   "metadata": {},
   "source": [
    "Replace names with points"
   ]
  },
  {
   "cell_type": "code",
   "execution_count": 4,
   "metadata": {},
   "outputs": [
    {
     "name": "stderr",
     "output_type": "stream",
     "text": [
      "[Stage 0:>                                                          (0 + 1) / 1]\r"
     ]
    },
    {
     "name": "stdout",
     "output_type": "stream",
     "text": [
      "The DataFrame has 2493 rows and 14 columns. \n",
      "\n"
     ]
    },
    {
     "name": "stderr",
     "output_type": "stream",
     "text": [
      "                                                                                \r"
     ]
    }
   ],
   "source": [
    "exprs = [f\"`{col_name}` as `{col_name.replace('.', '_')}`\" for col_name in df_locations.columns]\n",
    "df_locations = df_locations.selectExpr(exprs)\n",
    "\n",
    "print(\"The DataFrame has {} rows and {} columns. \\n\".format(df_locations.count(), len(df_locations.columns)))"
   ]
  },
  {
   "cell_type": "markdown",
   "metadata": {},
   "source": [
    "Count Null Values"
   ]
  },
  {
   "cell_type": "code",
   "execution_count": 5,
   "metadata": {},
   "outputs": [
    {
     "data": {
      "text/html": [
       "<div>\n",
       "<style scoped>\n",
       "    .dataframe tbody tr th:only-of-type {\n",
       "        vertical-align: middle;\n",
       "    }\n",
       "\n",
       "    .dataframe tbody tr th {\n",
       "        vertical-align: top;\n",
       "    }\n",
       "\n",
       "    .dataframe thead th {\n",
       "        text-align: right;\n",
       "    }\n",
       "</style>\n",
       "<table border=\"1\" class=\"dataframe\">\n",
       "  <thead>\n",
       "    <tr style=\"text-align: right;\">\n",
       "      <th></th>\n",
       "      <th>location_id</th>\n",
       "      <th>name</th>\n",
       "      <th>distance</th>\n",
       "      <th>bearing</th>\n",
       "      <th>address_obj_street1</th>\n",
       "      <th>address_obj_city</th>\n",
       "      <th>address_obj_state</th>\n",
       "      <th>address_obj_country</th>\n",
       "      <th>address_obj_postalcode</th>\n",
       "      <th>address_obj_address_string</th>\n",
       "      <th>address_obj_street2</th>\n",
       "      <th>type</th>\n",
       "      <th>district</th>\n",
       "      <th>__index_level_0__</th>\n",
       "    </tr>\n",
       "  </thead>\n",
       "  <tbody>\n",
       "    <tr>\n",
       "      <th>0</th>\n",
       "      <td>0</td>\n",
       "      <td>0</td>\n",
       "      <td>0</td>\n",
       "      <td>0</td>\n",
       "      <td>47</td>\n",
       "      <td>0</td>\n",
       "      <td>1</td>\n",
       "      <td>0</td>\n",
       "      <td>106</td>\n",
       "      <td>0</td>\n",
       "      <td>1864</td>\n",
       "      <td>0</td>\n",
       "      <td>0</td>\n",
       "      <td>0</td>\n",
       "    </tr>\n",
       "  </tbody>\n",
       "</table>\n",
       "</div>"
      ],
      "text/plain": [
       "   location_id  name  distance  bearing  address_obj_street1  \\\n",
       "0            0     0         0        0                   47   \n",
       "\n",
       "   address_obj_city  address_obj_state  address_obj_country  \\\n",
       "0                 0                  1                    0   \n",
       "\n",
       "   address_obj_postalcode  address_obj_address_string  address_obj_street2  \\\n",
       "0                     106                           0                 1864   \n",
       "\n",
       "   type  district  __index_level_0__  \n",
       "0     0         0                  0  "
      ]
     },
     "execution_count": 5,
     "metadata": {},
     "output_type": "execute_result"
    }
   ],
   "source": [
    "nan_counts = df_locations.select([count(when(isnan(c) | col(c).isNull(), c)).alias(c) for c in df_locations.columns])\n",
    "total_nan_count = sum(nan_counts.collect()[0])\n",
    "nan_counts.toPandas()"
   ]
  },
  {
   "cell_type": "markdown",
   "metadata": {},
   "source": [
    "The columns that have directly unimputable NA will be simply removed from the data. We will do not want to use them anyway. \n",
    "<div class=\"alert alert-block alert-warning\" style=\"color: #FFB300; background-color: #FFF9C4;\">\n",
    "\n",
    "+ adress_obj_street1, address_obj_postalcode, address_obj_street2 -> These are niether useful or complete; since we will be using coordinates for localization in the future, they will be erased\n",
    "</div>\n",
    "\n"
   ]
  },
  {
   "cell_type": "code",
   "execution_count": 6,
   "metadata": {},
   "outputs": [],
   "source": [
    "columns_to_drop = [\"address_obj_street2\", \"address_obj_postalcode\", \"address_obj_street1\"]\n",
    "df_locations = df_locations.drop(*columns_to_drop)"
   ]
  },
  {
   "cell_type": "markdown",
   "metadata": {},
   "source": [
    "<div class=\"alert alert-block alert-info\" style=\"color: #01571B; background-color: #C8E5C6;\">\n",
    "We know that all restaurants are in the Province of Barcelona, so the 1 NA value we have in the address_obj_state column can be filled with this information\n",
    "\n",
    "</div>"
   ]
  },
  {
   "cell_type": "code",
   "execution_count": 7,
   "metadata": {},
   "outputs": [],
   "source": [
    "df_locations = df_locations.fillna({\"address_obj_state\": \"Province of Barcelona\"})\n"
   ]
  },
  {
   "cell_type": "markdown",
   "metadata": {},
   "source": [
    "<div class=\"alert alert-block alert-info\" style=\"color: #01571B; background-color: #C8E5C6;\">\n",
    "For some reason, the TripAdvisor API also included come cities which were not in Barcelona, we will remove those instances\n",
    "</div>\n"
   ]
  },
  {
   "cell_type": "code",
   "execution_count": 8,
   "metadata": {},
   "outputs": [
    {
     "name": "stdout",
     "output_type": "stream",
     "text": [
      "+--------------------+\n",
      "|    address_obj_city|\n",
      "+--------------------+\n",
      "|              Xativa|\n",
      "|          Ibiza Town|\n",
      "|             Peguera|\n",
      "|Sant Cugat del Va...|\n",
      "|Sant Andreu de la...|\n",
      "|            Sabadell|\n",
      "|           Barcelona|\n",
      "|   Montcada i Reixac|\n",
      "|              Sitges|\n",
      "|L'Hospitalet de L...|\n",
      "|          La Bordeta|\n",
      "|            Valencia|\n",
      "|         Los Abrigos|\n",
      "|               Cadiz|\n",
      "|Sant Feliu de Llo...|\n",
      "+--------------------+\n",
      "\n"
     ]
    }
   ],
   "source": [
    "df_locations.select(\"address_obj_city\").distinct().show()\n",
    "df_locations = df_locations.filter(df_locations['address_obj_city'] == 'Barcelona')"
   ]
  },
  {
   "cell_type": "markdown",
   "metadata": {},
   "source": [
    "Geolocalization function. Since the adress is not complete in all cases and we want to place all locations in a map, we will also be using data from google maps to exactly localize each establishment. This is probably a step that should be done in the data collection pipeline but since it is a problem we have faced along the way, we will be adressing it here.\n",
    "\n",
    "<div class=\"alert alert-block alert-info\" style=\"color: #1E88E5; background-color: #B2EBF2;\">\n",
    "\n",
    "+ We've crafted a geolocation function called `geolocalization_with_retry` to pinpoint addresses using the **Google Maps API** and `address_obj_address_string` feature. This function has the ability to retry geolocation several times in case of initial failure due to errors or timeouts. If successful, it returns the latitude and longitude coordinates of the provided address.\n",
    "\n",
    "+ We've implemented a mechanism to avoid re-executing the geolocation code for addresses that have already been matched. This is achieved by saving the geolocation results to a file (`coordinates_dict.pkl`) and loading them from there for subsequent executions, preventing unnecessary repetition of the geocoding process.\n",
    "\n",
    "\n",
    "+ We plotted the geolocations to visually identify any outliers. Then, we defined a square area to limit the zone of Barcelona, excluding any points that fall outside of this area.\n",
    "\n",
    "</div>\n"
   ]
  },
  {
   "cell_type": "code",
   "execution_count": 9,
   "metadata": {},
   "outputs": [],
   "source": [
    "# As it takes too long, it will be saved to a file for separate loading\n",
    "import requests\n",
    "import time\n",
    "\n",
    "def geolocalization_with_retry(address, retries=3, sleep_time=5):\n",
    "    api_key = '{your_key ;)}'\n",
    "    url = f\"https://maps.googleapis.com/maps/api/geocode/json?address={address}&key={api_key}\"\n",
    "\n",
    "    for attempt in range(retries):\n",
    "        response = requests.get(url)\n",
    "        if response.status_code == 200:\n",
    "            data = response.json()\n",
    "            if data['status'] == 'OK':\n",
    "                lat = data['results'][0]['geometry']['location']['lat']\n",
    "                lng = data['results'][0]['geometry']['location']['lng']\n",
    "                return (lat, lng)\n",
    "        time.sleep(sleep_time)  # Espera antes de reintentar\n",
    "    return None"
   ]
  },
  {
   "cell_type": "code",
   "execution_count": 10,
   "metadata": {},
   "outputs": [],
   "source": [
    "file_name = \"coordinates_dict.pkl\"\n",
    "\n",
    "# Load de retrieved dict\n",
    "with open(file_name, \"rb\") as file:\n",
    "    coordinates_dict = pickle.load(file)"
   ]
  },
  {
   "cell_type": "code",
   "execution_count": 11,
   "metadata": {},
   "outputs": [],
   "source": [
    "df_coordenadas = spark.createDataFrame(list(coordinates_dict.items()), ['location_id', 'coordinates'])\n",
    "df_locations = df_locations.join(df_coordenadas, on='location_id', how='left')"
   ]
  },
  {
   "cell_type": "code",
   "execution_count": 12,
   "metadata": {},
   "outputs": [
    {
     "name": "stderr",
     "output_type": "stream",
     "text": [
      "                                                                                \r"
     ]
    },
    {
     "data": {
      "text/html": [
       "<div>\n",
       "<style scoped>\n",
       "    .dataframe tbody tr th:only-of-type {\n",
       "        vertical-align: middle;\n",
       "    }\n",
       "\n",
       "    .dataframe tbody tr th {\n",
       "        vertical-align: top;\n",
       "    }\n",
       "\n",
       "    .dataframe thead th {\n",
       "        text-align: right;\n",
       "    }\n",
       "</style>\n",
       "<table border=\"1\" class=\"dataframe\">\n",
       "  <thead>\n",
       "    <tr style=\"text-align: right;\">\n",
       "      <th></th>\n",
       "      <th>location_id</th>\n",
       "      <th>name</th>\n",
       "      <th>distance</th>\n",
       "      <th>bearing</th>\n",
       "      <th>address_obj_city</th>\n",
       "      <th>address_obj_state</th>\n",
       "      <th>address_obj_country</th>\n",
       "      <th>address_obj_address_string</th>\n",
       "      <th>type</th>\n",
       "      <th>district</th>\n",
       "      <th>__index_level_0__</th>\n",
       "      <th>latitude</th>\n",
       "      <th>longitude</th>\n",
       "    </tr>\n",
       "  </thead>\n",
       "  <tbody>\n",
       "    <tr>\n",
       "      <th>0</th>\n",
       "      <td>27200794</td>\n",
       "      <td>Anna Subirats Xarcuteria</td>\n",
       "      <td>0.03857963183663804</td>\n",
       "      <td>east</td>\n",
       "      <td>Barcelona</td>\n",
       "      <td>Province of Barcelona</td>\n",
       "      <td>Spain</td>\n",
       "      <td>Carrer De Sepulveda, 167, 08011 Barcelona Spain</td>\n",
       "      <td>restaurant</td>\n",
       "      <td>Eixample</td>\n",
       "      <td>190</td>\n",
       "      <td>41.383205</td>\n",
       "      <td>2.162197</td>\n",
       "    </tr>\n",
       "    <tr>\n",
       "      <th>1</th>\n",
       "      <td>27326644</td>\n",
       "      <td>Rincon Del Cazador</td>\n",
       "      <td>0.15956806976023746</td>\n",
       "      <td>south</td>\n",
       "      <td>Barcelona</td>\n",
       "      <td>Province of Barcelona</td>\n",
       "      <td>Spain</td>\n",
       "      <td>Passeig De La Mare De Deu Del Coll, 68, 08023 ...</td>\n",
       "      <td>restaurant</td>\n",
       "      <td>Gràcia</td>\n",
       "      <td>212</td>\n",
       "      <td>41.417217</td>\n",
       "      <td>2.147516</td>\n",
       "    </tr>\n",
       "  </tbody>\n",
       "</table>\n",
       "</div>"
      ],
      "text/plain": [
       "  location_id                      name             distance bearing  \\\n",
       "0    27200794  Anna Subirats Xarcuteria  0.03857963183663804    east   \n",
       "1    27326644        Rincon Del Cazador  0.15956806976023746   south   \n",
       "\n",
       "  address_obj_city      address_obj_state address_obj_country  \\\n",
       "0        Barcelona  Province of Barcelona               Spain   \n",
       "1        Barcelona  Province of Barcelona               Spain   \n",
       "\n",
       "                          address_obj_address_string        type  district  \\\n",
       "0    Carrer De Sepulveda, 167, 08011 Barcelona Spain  restaurant  Eixample   \n",
       "1  Passeig De La Mare De Deu Del Coll, 68, 08023 ...  restaurant    Gràcia   \n",
       "\n",
       "  __index_level_0__   latitude  longitude  \n",
       "0               190  41.383205   2.162197  \n",
       "1               212  41.417217   2.147516  "
      ]
     },
     "execution_count": 12,
     "metadata": {},
     "output_type": "execute_result"
    }
   ],
   "source": [
    "df_locations = df_locations \\\n",
    "    .withColumn('coordinates_str', concat_ws(',', col('coordinates._1'), col('coordinates._2'))) \\\n",
    "    .withColumn('latitude', split(col('coordinates_str'), ',').getItem(0).cast('float')) \\\n",
    "    .withColumn('longitude', split(col('coordinates_str'), ',').getItem(1).cast('float')) \\\n",
    "    .drop(*['coordinates_str', 'coordinates'])  \n",
    "\n",
    "df_locations.limit(2).toPandas()"
   ]
  },
  {
   "cell_type": "code",
   "execution_count": 13,
   "metadata": {},
   "outputs": [
    {
     "data": {
      "text/html": [
       "<div style=\"width:100%;\"><div style=\"position:relative;width:100%;height:0;padding-bottom:60%;\"><span style=\"color:#565656\">Make this Notebook Trusted to load map: File -> Trust Notebook</span><iframe srcdoc=\"&lt;!DOCTYPE html&gt;\n",
       "&lt;html&gt;\n",
       "&lt;head&gt;\n",
       "    \n",
       "    &lt;meta http-equiv=&quot;content-type&quot; content=&quot;text/html; charset=UTF-8&quot; /&gt;\n",
       "    \n",
       "        &lt;script&gt;\n",
       "            L_NO_TOUCH = false;\n",
       "            L_DISABLE_3D = false;\n",
       "        &lt;/script&gt;\n",
       "    \n",
       "    &lt;style&gt;html, body {width: 100%;height: 100%;margin: 0;padding: 0;}&lt;/style&gt;\n",
       "    &lt;style&gt;#map {position:absolute;top:0;bottom:0;right:0;left:0;}&lt;/style&gt;\n",
       "    &lt;script src=&quot;https://cdn.jsdelivr.net/npm/leaflet@1.9.3/dist/leaflet.js&quot;&gt;&lt;/script&gt;\n",
       "    &lt;script src=&quot;https://code.jquery.com/jquery-3.7.1.min.js&quot;&gt;&lt;/script&gt;\n",
       "    &lt;script src=&quot;https://cdn.jsdelivr.net/npm/bootstrap@5.2.2/dist/js/bootstrap.bundle.min.js&quot;&gt;&lt;/script&gt;\n",
       "    &lt;script src=&quot;https://cdnjs.cloudflare.com/ajax/libs/Leaflet.awesome-markers/2.0.2/leaflet.awesome-markers.js&quot;&gt;&lt;/script&gt;\n",
       "    &lt;link rel=&quot;stylesheet&quot; href=&quot;https://cdn.jsdelivr.net/npm/leaflet@1.9.3/dist/leaflet.css&quot;/&gt;\n",
       "    &lt;link rel=&quot;stylesheet&quot; href=&quot;https://cdn.jsdelivr.net/npm/bootstrap@5.2.2/dist/css/bootstrap.min.css&quot;/&gt;\n",
       "    &lt;link rel=&quot;stylesheet&quot; href=&quot;https://netdna.bootstrapcdn.com/bootstrap/3.0.0/css/bootstrap.min.css&quot;/&gt;\n",
       "    &lt;link rel=&quot;stylesheet&quot; href=&quot;https://cdn.jsdelivr.net/npm/@fortawesome/fontawesome-free@6.2.0/css/all.min.css&quot;/&gt;\n",
       "    &lt;link rel=&quot;stylesheet&quot; href=&quot;https://cdnjs.cloudflare.com/ajax/libs/Leaflet.awesome-markers/2.0.2/leaflet.awesome-markers.css&quot;/&gt;\n",
       "    &lt;link rel=&quot;stylesheet&quot; href=&quot;https://cdn.jsdelivr.net/gh/python-visualization/folium/folium/templates/leaflet.awesome.rotate.min.css&quot;/&gt;\n",
       "    \n",
       "            &lt;meta name=&quot;viewport&quot; content=&quot;width=device-width,\n",
       "                initial-scale=1.0, maximum-scale=1.0, user-scalable=no&quot; /&gt;\n",
       "            &lt;style&gt;\n",
       "                #map_b63fd7dce0c79de4b40dc3e5f7699f49 {\n",
       "                    position: relative;\n",
       "                    width: 100.0%;\n",
       "                    height: 100.0%;\n",
       "                    left: 0.0%;\n",
       "                    top: 0.0%;\n",
       "                }\n",
       "                .leaflet-container { font-size: 1rem; }\n",
       "            &lt;/style&gt;\n",
       "        \n",
       "&lt;/head&gt;\n",
       "&lt;body&gt;\n",
       "    \n",
       "    \n",
       "            &lt;div class=&quot;folium-map&quot; id=&quot;map_b63fd7dce0c79de4b40dc3e5f7699f49&quot; &gt;&lt;/div&gt;\n",
       "        \n",
       "&lt;/body&gt;\n",
       "&lt;script&gt;\n",
       "    \n",
       "    \n",
       "            var map_b63fd7dce0c79de4b40dc3e5f7699f49 = L.map(\n",
       "                &quot;map_b63fd7dce0c79de4b40dc3e5f7699f49&quot;,\n",
       "                {\n",
       "                    center: [41.39, 2.17],\n",
       "                    crs: L.CRS.EPSG3857,\n",
       "                    zoom: 12,\n",
       "                    zoomControl: true,\n",
       "                    preferCanvas: false,\n",
       "                }\n",
       "            );\n",
       "\n",
       "            \n",
       "\n",
       "        \n",
       "    \n",
       "            var tile_layer_73bbcb6ad6e28408c35b208dc8426e5c = L.tileLayer(\n",
       "                &quot;https://tile.openstreetmap.org/{z}/{x}/{y}.png&quot;,\n",
       "                {&quot;attribution&quot;: &quot;\\u0026copy; \\u003ca href=\\&quot;https://www.openstreetmap.org/copyright\\&quot;\\u003eOpenStreetMap\\u003c/a\\u003e contributors&quot;, &quot;detectRetina&quot;: false, &quot;maxNativeZoom&quot;: 19, &quot;maxZoom&quot;: 19, &quot;minZoom&quot;: 0, &quot;noWrap&quot;: false, &quot;opacity&quot;: 1, &quot;subdomains&quot;: &quot;abc&quot;, &quot;tms&quot;: false}\n",
       "            );\n",
       "        \n",
       "    \n",
       "            tile_layer_73bbcb6ad6e28408c35b208dc8426e5c.addTo(map_b63fd7dce0c79de4b40dc3e5f7699f49);\n",
       "        \n",
       "    \n",
       "            var polygon_81529bde8831cbedd76bb5251f65311e = L.polygon(\n",
       "                [[41.33, 2.1], [41.33, 2.24], [41.45, 2.24], [41.45, 2.1], [41.33, 2.1]],\n",
       "                {&quot;bubblingMouseEvents&quot;: true, &quot;color&quot;: &quot;red&quot;, &quot;dashArray&quot;: null, &quot;dashOffset&quot;: null, &quot;fill&quot;: true, &quot;fillColor&quot;: &quot;red&quot;, &quot;fillOpacity&quot;: 0.5, &quot;fillRule&quot;: &quot;evenodd&quot;, &quot;lineCap&quot;: &quot;round&quot;, &quot;lineJoin&quot;: &quot;round&quot;, &quot;noClip&quot;: false, &quot;opacity&quot;: 1.0, &quot;smoothFactor&quot;: 1.0, &quot;stroke&quot;: true, &quot;weight&quot;: 3}\n",
       "            ).addTo(map_b63fd7dce0c79de4b40dc3e5f7699f49);\n",
       "        \n",
       "&lt;/script&gt;\n",
       "&lt;/html&gt;\" style=\"position:absolute;width:100%;height:100%;left:0;top:0;border:none !important;\" allowfullscreen webkitallowfullscreen mozallowfullscreen></iframe></div></div>"
      ],
      "text/plain": [
       "<folium.folium.Map at 0x1292552e0>"
      ]
     },
     "execution_count": 13,
     "metadata": {},
     "output_type": "execute_result"
    }
   ],
   "source": [
    "# Limits of Barcelona\n",
    "barcelona_lat_min = 41.33\n",
    "barcelona_lat_max = 41.45\n",
    "barcelona_lng_min = 2.10\n",
    "barcelona_lng_max = 2.24\n",
    "\n",
    "map_barcelona = folium.Map(location=[(barcelona_lat_min + barcelona_lat_max) / 2,\n",
    "                                     (barcelona_lng_min + barcelona_lng_max) / 2], zoom_start=12)\n",
    "\n",
    "# Square to paint\n",
    "bounds = [(barcelona_lat_min, barcelona_lng_min),\n",
    "          (barcelona_lat_min, barcelona_lng_max),\n",
    "          (barcelona_lat_max, barcelona_lng_max),\n",
    "          (barcelona_lat_max, barcelona_lng_min),\n",
    "          (barcelona_lat_min, barcelona_lng_min)]\n",
    "\n",
    "folium.Polygon(bounds, color='red', fill=True, fill_color='red', fill_opacity=0.5).add_to(map_barcelona)\n",
    "map_barcelona"
   ]
  },
  {
   "cell_type": "code",
   "execution_count": 14,
   "metadata": {},
   "outputs": [],
   "source": [
    "# Apply the square\n",
    "df_locations = df_locations[(df_locations['latitude'] >= barcelona_lat_min) & \n",
    "                            (df_locations['latitude'] <= barcelona_lat_max) &\n",
    "                            (df_locations['longitude'] >= barcelona_lng_min) & \n",
    "                            (df_locations['longitude'] <= barcelona_lng_max)]"
   ]
  },
  {
   "cell_type": "code",
   "execution_count": 15,
   "metadata": {},
   "outputs": [
    {
     "name": "stderr",
     "output_type": "stream",
     "text": [
      "                                                                                \r"
     ]
    },
    {
     "name": "stdout",
     "output_type": "stream",
     "text": [
      "+----------+\n",
      "|      type|\n",
      "+----------+\n",
      "|attraction|\n",
      "|restaurant|\n",
      "+----------+\n",
      "\n",
      "+-------------------+\n",
      "|           district|\n",
      "+-------------------+\n",
      "|             Gràcia|\n",
      "|         Sant Martí|\n",
      "|     Horta-Guinardó|\n",
      "|          Les Corts|\n",
      "|     Sants-Montjuïc|\n",
      "|         Nou Barris|\n",
      "|Sarrià-Sant Gervasi|\n",
      "|           Eixample|\n",
      "|        Sant Andreu|\n",
      "|       Ciutat Vella|\n",
      "+-------------------+\n",
      "\n"
     ]
    },
    {
     "name": "stderr",
     "output_type": "stream",
     "text": [
      "                                                                                \r"
     ]
    }
   ],
   "source": [
    "df_locations.select(\"type\").distinct().show()\n",
    "df_locations.select(\"district\").distinct().show()\n",
    "# rename district to match to the other dfs\n",
    "df_locations = df_locations.withColumnRenamed(\"district\", \"neighbourhood\")"
   ]
  },
  {
   "cell_type": "markdown",
   "metadata": {},
   "source": [
    "Categorical Features Distributions Insights\n",
    "<div class=\"alert alert-block alert-info\" style=\"color: #01579B; background-color: #E1F5FE; border-color: #01579B;\">\n",
    "\n",
    "+ The majority of restaurants and attractions are located between Ciutat Vella and Example, where the highest volume of tourists is found.\n",
    "+ We have slightly more restaurants than attractions, but the difference is fairly balanced.\n",
    "</div>"
   ]
  },
  {
   "cell_type": "code",
   "execution_count": 18,
   "metadata": {},
   "outputs": [
    {
     "data": {
      "image/png": "[encoded data removed]",
      "text/plain": [
       "<Figure size 648x360 with 2 Axes>"
      ]
     },
     "metadata": {
      "needs_background": "light"
     },
     "output_type": "display_data"
    }
   ],
   "source": [
    "color_palette = ['skyblue', 'salmon', 'lightgreen', 'orange'] # Paleta de colores\n",
    "fig, axs = plt.subplots(1, 2, figsize=(9, 5))  \n",
    "axs = axs.flatten() \n",
    "\n",
    "for i, column in enumerate([\"neighbourhood\", \"type\"]):\n",
    "    ax = axs[i]  \n",
    "    color = color_palette[i % len(color_palette)]  \n",
    "    utils.plot_categorical_distribution(df_locations, column, ax, color)\n",
    "\n",
    "plt.tight_layout()\n",
    "plt.show()"
   ]
  },
  {
   "cell_type": "code",
   "execution_count": 19,
   "metadata": {},
   "outputs": [
    {
     "name": "stderr",
     "output_type": "stream",
     "text": [
      "                                                                                \r"
     ]
    },
    {
     "data": {
      "text/html": [
       "<div>\n",
       "<style scoped>\n",
       "    .dataframe tbody tr th:only-of-type {\n",
       "        vertical-align: middle;\n",
       "    }\n",
       "\n",
       "    .dataframe tbody tr th {\n",
       "        vertical-align: top;\n",
       "    }\n",
       "\n",
       "    .dataframe thead th {\n",
       "        text-align: right;\n",
       "    }\n",
       "</style>\n",
       "<table border=\"1\" class=\"dataframe\">\n",
       "  <thead>\n",
       "    <tr style=\"text-align: right;\">\n",
       "      <th></th>\n",
       "      <th>location_id</th>\n",
       "      <th>name</th>\n",
       "      <th>distance</th>\n",
       "      <th>bearing</th>\n",
       "      <th>address_obj_city</th>\n",
       "      <th>address_obj_state</th>\n",
       "      <th>address_obj_country</th>\n",
       "      <th>address_obj_address_string</th>\n",
       "      <th>type</th>\n",
       "      <th>neighbourhood</th>\n",
       "      <th>__index_level_0__</th>\n",
       "      <th>latitude</th>\n",
       "      <th>longitude</th>\n",
       "    </tr>\n",
       "  </thead>\n",
       "  <tbody>\n",
       "    <tr>\n",
       "      <th>0</th>\n",
       "      <td>0</td>\n",
       "      <td>0</td>\n",
       "      <td>0</td>\n",
       "      <td>0</td>\n",
       "      <td>0</td>\n",
       "      <td>0</td>\n",
       "      <td>0</td>\n",
       "      <td>0</td>\n",
       "      <td>0</td>\n",
       "      <td>0</td>\n",
       "      <td>0</td>\n",
       "      <td>0</td>\n",
       "      <td>0</td>\n",
       "    </tr>\n",
       "  </tbody>\n",
       "</table>\n",
       "</div>"
      ],
      "text/plain": [
       "   location_id  name  distance  bearing  address_obj_city  address_obj_state  \\\n",
       "0            0     0         0        0                 0                  0   \n",
       "\n",
       "   address_obj_country  address_obj_address_string  type  neighbourhood  \\\n",
       "0                    0                           0     0              0   \n",
       "\n",
       "   __index_level_0__  latitude  longitude  \n",
       "0                  0         0          0  "
      ]
     },
     "execution_count": 19,
     "metadata": {},
     "output_type": "execute_result"
    }
   ],
   "source": [
    "nan_counts = df_locations.select([count(when(isnan(c) | col(c).isNull(), c)).alias(c) for c in df_locations.columns])\n",
    "total_nan_count = sum(nan_counts.collect()[0])\n",
    "nan_counts.toPandas()"
   ]
  },
  {
   "cell_type": "code",
   "execution_count": 20,
   "metadata": {},
   "outputs": [
    {
     "name": "stdout",
     "output_type": "stream",
     "text": [
      "root\n",
      " |-- location_id: string (nullable = true)\n",
      " |-- name: string (nullable = true)\n",
      " |-- distance: string (nullable = true)\n",
      " |-- bearing: string (nullable = true)\n",
      " |-- address_obj_city: string (nullable = true)\n",
      " |-- address_obj_state: string (nullable = false)\n",
      " |-- address_obj_country: string (nullable = true)\n",
      " |-- address_obj_address_string: string (nullable = true)\n",
      " |-- type: string (nullable = true)\n",
      " |-- neighbourhood: string (nullable = true)\n",
      " |-- __index_level_0__: decimal(20,0) (nullable = true)\n",
      " |-- latitude: float (nullable = true)\n",
      " |-- longitude: float (nullable = true)\n",
      "\n"
     ]
    },
    {
     "name": "stderr",
     "output_type": "stream",
     "text": [
      "                                                                                \r"
     ]
    },
    {
     "data": {
      "text/html": [
       "<div>\n",
       "<style scoped>\n",
       "    .dataframe tbody tr th:only-of-type {\n",
       "        vertical-align: middle;\n",
       "    }\n",
       "\n",
       "    .dataframe tbody tr th {\n",
       "        vertical-align: top;\n",
       "    }\n",
       "\n",
       "    .dataframe thead th {\n",
       "        text-align: right;\n",
       "    }\n",
       "</style>\n",
       "<table border=\"1\" class=\"dataframe\">\n",
       "  <thead>\n",
       "    <tr style=\"text-align: right;\">\n",
       "      <th></th>\n",
       "      <th>location_id</th>\n",
       "      <th>name</th>\n",
       "      <th>distance</th>\n",
       "      <th>bearing</th>\n",
       "      <th>address_obj_city</th>\n",
       "      <th>address_obj_state</th>\n",
       "      <th>address_obj_country</th>\n",
       "      <th>address_obj_address_string</th>\n",
       "      <th>type</th>\n",
       "      <th>neighbourhood</th>\n",
       "      <th>__index_level_0__</th>\n",
       "      <th>latitude</th>\n",
       "      <th>longitude</th>\n",
       "    </tr>\n",
       "  </thead>\n",
       "  <tbody>\n",
       "    <tr>\n",
       "      <th>0</th>\n",
       "      <td>27200794</td>\n",
       "      <td>Anna Subirats Xarcuteria</td>\n",
       "      <td>0.03857963183663804</td>\n",
       "      <td>east</td>\n",
       "      <td>Barcelona</td>\n",
       "      <td>Province of Barcelona</td>\n",
       "      <td>Spain</td>\n",
       "      <td>Carrer De Sepulveda, 167, 08011 Barcelona Spain</td>\n",
       "      <td>restaurant</td>\n",
       "      <td>Eixample</td>\n",
       "      <td>190</td>\n",
       "      <td>41.383205</td>\n",
       "      <td>2.162197</td>\n",
       "    </tr>\n",
       "  </tbody>\n",
       "</table>\n",
       "</div>"
      ],
      "text/plain": [
       "  location_id                      name             distance bearing  \\\n",
       "0    27200794  Anna Subirats Xarcuteria  0.03857963183663804    east   \n",
       "\n",
       "  address_obj_city      address_obj_state address_obj_country  \\\n",
       "0        Barcelona  Province of Barcelona               Spain   \n",
       "\n",
       "                        address_obj_address_string        type neighbourhood  \\\n",
       "0  Carrer De Sepulveda, 167, 08011 Barcelona Spain  restaurant      Eixample   \n",
       "\n",
       "  __index_level_0__   latitude  longitude  \n",
       "0               190  41.383205   2.162197  "
      ]
     },
     "execution_count": 20,
     "metadata": {},
     "output_type": "execute_result"
    }
   ],
   "source": [
    "df_locations.printSchema()\n",
    "df_locations.limit(1).toPandas() "
   ]
  },
  {
   "cell_type": "markdown",
   "metadata": {},
   "source": [
    "<div style=\"background-color:#F2F2F2; padding: 10px;\">\n",
    "    <div style=\"text-align: center;\">\n",
    "        <span style=\"font-family: 'Playfair Display', serif; font-size: 20px; font-weight: bold; color: black;\">\n",
    "            TripAdvisor Reviews Datasets\n",
    "        </span>\n",
    "    </div>\n",
    "</div>\n",
    "\n",
    "\n",
    "\n",
    "#### DataFrame Schema\n",
    "\n",
    "<div class=\"alert alert-block alert-info\" style=\"color: #01571B; background-color: #C8E5C6;\">\n",
    "    \n",
    "The DataFrame comprises various columns, each providing distinct details related to property listings:\n",
    "\n",
    "- The DataFrame has **5449 rows** and **48 columns**. \n",
    "\n",
    "- **location_id**: decimal(20,0) (nullable = true)\n",
    "- **id**: decimal(20,0) (nullable = true)\n",
    "- **lang**: string (nullable = true)\n",
    "- **published_date**: string (nullable = true)\n",
    "- **rating**: decimal(20,0) (nullable = true)\n",
    "- **helpful_votes**: decimal(20,0) (nullable = true)\n",
    "- **rating_image_url**: string (nullable = true)\n",
    "- **url**: string (nullable = true)\n",
    "- **text**: string (nullable = true)\n",
    "- **title**: string (nullable = true)\n",
    "- **trip_type**: string (nullable = true)\n",
    "- **travel_date**: string (nullable = true)\n",
    "- **user_username**: string (nullable = true)\n",
    "- **user_user_location_id**: string (nullable = true)\n",
    "- **user_avatar_thumbnail**: string (nullable = true)\n",
    "- **user_avatar_small**: string (nullable = true)\n",
    "- **user_avatar_medium**: string (nullable = true)\n",
    "- **user_avatar_large**: string (nullable = true)\n",
    "- **user_avatar_original**: string (nullable = true)\n",
    "- **name**: string (nullable = true)\n",
    "- **address_obj_address_string**: string (nullable = true)\n",
    "- **type**: string (nullable = true)\n",
    "- **neighbourhood**: string (nullable = true)\n",
    "- **latitude**: float (nullable = true)\n",
    "- **longitude**: float (nullable = true)\n",
    "</div>\n"
   ]
  },
  {
   "cell_type": "code",
   "execution_count": 21,
   "metadata": {},
   "outputs": [],
   "source": [
    "df_reviews = spark.read \\\n",
    "  .format(\"jdbc\") \\\n",
    "  .option(\"url\", jdbc_url) \\\n",
    "  .option(\"driver\", driver) \\\n",
    "  .option(\"query\", \"SELECT * FROM df_tripadvisor_reviews\") \\\n",
    "  .load()"
   ]
  },
  {
   "cell_type": "markdown",
   "metadata": {},
   "source": [
    "Replace names with points"
   ]
  },
  {
   "cell_type": "code",
   "execution_count": 22,
   "metadata": {},
   "outputs": [],
   "source": [
    "exprs = [f\"`{col_name}` as `{col_name.replace('.', '_')}`\" for col_name in df_reviews.columns]\n",
    "df_reviews = df_reviews.selectExpr(exprs)"
   ]
  },
  {
   "cell_type": "markdown",
   "metadata": {},
   "source": [
    "Explanation for Join Operation\n",
    "\n",
    "<div class=\"alert alert-block alert-info\" style=\"color: #01579B; background-color: #E1F5FE; border-color: #01579B;\">\n",
    "\n",
    "We are performing a join operation between `df_reviews` and `df_locations` DataFrames on the 'location_id' column. This is done to filter `df_reviews` to only include rows corresponding to locations that are present in `df_locations`. By using an inner join (`how='inner'`), we ensure that only matching rows from both DataFrames are retained, effectively restricting our analysis to reviews for locations within Barcelona.\n",
    "</div>\n"
   ]
  },
  {
   "cell_type": "code",
   "execution_count": null,
   "metadata": {},
   "outputs": [],
   "source": []
  },
  {
   "cell_type": "markdown",
   "metadata": {},
   "source": [
    "Count the Null Values"
   ]
  },
  {
   "cell_type": "code",
   "execution_count": 23,
   "metadata": {},
   "outputs": [
    {
     "name": "stderr",
     "output_type": "stream",
     "text": [
      "24/06/03 17:47:39 WARN SparkStringUtils: Truncated the string representation of a plan since it was too large. This behavior can be adjusted by setting 'spark.sql.debug.maxToStringFields'.\n",
      "                                                                                \r"
     ]
    },
    {
     "data": {
      "text/html": [
       "<div>\n",
       "<style scoped>\n",
       "    .dataframe tbody tr th:only-of-type {\n",
       "        vertical-align: middle;\n",
       "    }\n",
       "\n",
       "    .dataframe tbody tr th {\n",
       "        vertical-align: top;\n",
       "    }\n",
       "\n",
       "    .dataframe thead th {\n",
       "        text-align: right;\n",
       "    }\n",
       "</style>\n",
       "<table border=\"1\" class=\"dataframe\">\n",
       "  <thead>\n",
       "    <tr style=\"text-align: right;\">\n",
       "      <th></th>\n",
       "      <th>id</th>\n",
       "      <th>lang</th>\n",
       "      <th>location_id</th>\n",
       "      <th>published_date</th>\n",
       "      <th>rating</th>\n",
       "      <th>helpful_votes</th>\n",
       "      <th>rating_image_url</th>\n",
       "      <th>url</th>\n",
       "      <th>text</th>\n",
       "      <th>title</th>\n",
       "      <th>...</th>\n",
       "      <th>subratings_3_name</th>\n",
       "      <th>subratings_3_rating_image_url</th>\n",
       "      <th>subratings_3_value</th>\n",
       "      <th>subratings_3_localized_name</th>\n",
       "      <th>owner_response_id</th>\n",
       "      <th>owner_response_title</th>\n",
       "      <th>owner_response_text</th>\n",
       "      <th>owner_response_lang</th>\n",
       "      <th>owner_response_author</th>\n",
       "      <th>owner_response_published_date</th>\n",
       "    </tr>\n",
       "  </thead>\n",
       "  <tbody>\n",
       "    <tr>\n",
       "      <th>0</th>\n",
       "      <td>0</td>\n",
       "      <td>0</td>\n",
       "      <td>0</td>\n",
       "      <td>0</td>\n",
       "      <td>0</td>\n",
       "      <td>0</td>\n",
       "      <td>0</td>\n",
       "      <td>0</td>\n",
       "      <td>0</td>\n",
       "      <td>0</td>\n",
       "      <td>...</td>\n",
       "      <td>5105</td>\n",
       "      <td>5105</td>\n",
       "      <td>5105</td>\n",
       "      <td>5105</td>\n",
       "      <td>5003</td>\n",
       "      <td>5003</td>\n",
       "      <td>5003</td>\n",
       "      <td>5003</td>\n",
       "      <td>5003</td>\n",
       "      <td>5003</td>\n",
       "    </tr>\n",
       "  </tbody>\n",
       "</table>\n",
       "<p>1 rows × 42 columns</p>\n",
       "</div>"
      ],
      "text/plain": [
       "   id  lang  location_id  published_date  rating  helpful_votes  \\\n",
       "0   0     0            0               0       0              0   \n",
       "\n",
       "   rating_image_url  url  text  title  ...  subratings_3_name  \\\n",
       "0                 0    0     0      0  ...               5105   \n",
       "\n",
       "   subratings_3_rating_image_url  subratings_3_value  \\\n",
       "0                           5105                5105   \n",
       "\n",
       "   subratings_3_localized_name  owner_response_id  owner_response_title  \\\n",
       "0                         5105               5003                  5003   \n",
       "\n",
       "   owner_response_text  owner_response_lang  owner_response_author  \\\n",
       "0                 5003                 5003                   5003   \n",
       "\n",
       "   owner_response_published_date  \n",
       "0                           5003  \n",
       "\n",
       "[1 rows x 42 columns]"
      ]
     },
     "execution_count": 23,
     "metadata": {},
     "output_type": "execute_result"
    }
   ],
   "source": [
    "nan_counts = df_reviews.select([count(when(isnan(c) | col(c).isNull(), c)).alias(c) for c in df_reviews.columns])\n",
    "total_nan_count = sum(nan_counts.collect()[0])\n",
    "nan_counts.toPandas()"
   ]
  },
  {
   "cell_type": "markdown",
   "metadata": {},
   "source": [
    "Remove redundant columns\n",
    "\n",
    "<div class=\"alert alert-block alert-info\" style=\"color: #01579B; background-color: #E1F5FE; border-color: #01579B;\">\n",
    "\n",
    "+ Values with lots of NaN --> drop\n",
    "\n",
    "We mainly will be only using the scoring of the reviews.\n",
    "</div>"
   ]
  },
  {
   "cell_type": "code",
   "execution_count": 24,
   "metadata": {},
   "outputs": [],
   "source": [
    "columns_to_drop = [\n",
    "    \"subratings_0_name\",\n",
    "    \"subratings_0_rating_image_url\",\n",
    "    \"subratings_0_value\",\n",
    "    \"subratings_0_localized_name\",\n",
    "    \"subratings_1_name\",\n",
    "    \"subratings_1_rating_image_url\",\n",
    "    \"subratings_1_value\",\n",
    "    \"subratings_1_localized_name\",\n",
    "    \"subratings_2_name\",\n",
    "    \"subratings_2_rating_image_url\",\n",
    "    \"subratings_2_value\",\n",
    "    \"subratings_2_localized_name\",\n",
    "    \"subratings_3_name\",\n",
    "    \"subratings_3_rating_image_url\",\n",
    "    \"subratings_3_value\",\n",
    "    \"subratings_3_localized_name\",\n",
    "    \"owner_response_id\",\n",
    "    \"owner_response_title\",\n",
    "    \"owner_response_text\",\n",
    "    \"owner_response_lang\",\n",
    "    \"owner_response_author\",\n",
    "    \"owner_response_published_date\",\n",
    "    \"user_user_location_name\"\n",
    "]\n",
    "df_reviews = df_reviews.drop(*columns_to_drop)"
   ]
  },
  {
   "cell_type": "markdown",
   "metadata": {},
   "source": [
    "<div class=\"alert alert-block alert-info\" style=\"color: #01579B; background-color: #E1F5FE; border-color: #01579B;\">\n",
    "\n",
    "Some of the other ones could be saved and imputed. For instance \"user.user_location.name\" could go look the name of the location on the location table. But since we will not be using those, the easiest way to deal with those is by removing them.\n",
    "</div>"
   ]
  },
  {
   "cell_type": "code",
   "execution_count": 25,
   "metadata": {},
   "outputs": [],
   "source": [
    "columns_to_drop = [\n",
    "'trip_type',\n",
    "'travel_date',\n",
    "'user.user_location.name',\n",
    "'user_avatar_thumbnail',\n",
    "'user_avatar_small',\n",
    "'user_avatar_medium',\n",
    "'user_avatar_large',\n",
    "'user_avatar_original',\n",
    "]\n",
    "df_reviews = df_reviews.drop(*columns_to_drop)"
   ]
  },
  {
   "cell_type": "code",
   "execution_count": 26,
   "metadata": {},
   "outputs": [
    {
     "data": {
      "text/plain": [
       "Index([], dtype='object')"
      ]
     },
     "execution_count": 26,
     "metadata": {},
     "output_type": "execute_result"
    }
   ],
   "source": [
    "# Checking again the NULL values\n",
    "nan_counts = df_locations.select([count(when(isnan(c) | col(c).isNull(), c)).alias(c) for c in df_locations.columns])\n",
    "total_nan_count = sum(nan_counts.collect()[0])\n",
    "nan_counts.toPandas()\n",
    "columns_with_values_greater_than_zero = nan_counts.toPandas().columns[nan_counts.toPandas().iloc[0] > 0]\n",
    "columns_with_values_greater_than_zero"
   ]
  },
  {
   "cell_type": "code",
   "execution_count": 27,
   "metadata": {},
   "outputs": [
    {
     "name": "stdout",
     "output_type": "stream",
     "text": [
      "root\n",
      " |-- id: decimal(20,0) (nullable = true)\n",
      " |-- lang: string (nullable = true)\n",
      " |-- location_id: decimal(20,0) (nullable = true)\n",
      " |-- published_date: string (nullable = true)\n",
      " |-- rating: decimal(20,0) (nullable = true)\n",
      " |-- helpful_votes: decimal(20,0) (nullable = true)\n",
      " |-- rating_image_url: string (nullable = true)\n",
      " |-- url: string (nullable = true)\n",
      " |-- text: string (nullable = true)\n",
      " |-- title: string (nullable = true)\n",
      " |-- user_username: string (nullable = true)\n",
      " |-- user_user_location_id: string (nullable = true)\n",
      "\n"
     ]
    },
    {
     "data": {
      "text/html": [
       "<div>\n",
       "<style scoped>\n",
       "    .dataframe tbody tr th:only-of-type {\n",
       "        vertical-align: middle;\n",
       "    }\n",
       "\n",
       "    .dataframe tbody tr th {\n",
       "        vertical-align: top;\n",
       "    }\n",
       "\n",
       "    .dataframe thead th {\n",
       "        text-align: right;\n",
       "    }\n",
       "</style>\n",
       "<table border=\"1\" class=\"dataframe\">\n",
       "  <thead>\n",
       "    <tr style=\"text-align: right;\">\n",
       "      <th></th>\n",
       "      <th>id</th>\n",
       "      <th>lang</th>\n",
       "      <th>location_id</th>\n",
       "      <th>published_date</th>\n",
       "      <th>rating</th>\n",
       "      <th>helpful_votes</th>\n",
       "      <th>rating_image_url</th>\n",
       "      <th>url</th>\n",
       "      <th>text</th>\n",
       "      <th>title</th>\n",
       "      <th>user_username</th>\n",
       "      <th>user_user_location_id</th>\n",
       "    </tr>\n",
       "  </thead>\n",
       "  <tbody>\n",
       "    <tr>\n",
       "      <th>0</th>\n",
       "      <td>903790935</td>\n",
       "      <td>en</td>\n",
       "      <td>8821646</td>\n",
       "      <td>2023-07-17T19:52:18Z</td>\n",
       "      <td>5</td>\n",
       "      <td>0</td>\n",
       "      <td>https://www.tripadvisor.com/img/cdsi/img2/rati...</td>\n",
       "      <td>https://www.tripadvisor.com/ShowUserReviews-g1...</td>\n",
       "      <td>Stopped for a light bites chicken, chips, rice...</td>\n",
       "      <td>Good value tasty food.</td>\n",
       "      <td>Wager47</td>\n",
       "      <td>255093</td>\n",
       "    </tr>\n",
       "  </tbody>\n",
       "</table>\n",
       "</div>"
      ],
      "text/plain": [
       "          id lang location_id        published_date rating helpful_votes  \\\n",
       "0  903790935   en     8821646  2023-07-17T19:52:18Z      5             0   \n",
       "\n",
       "                                    rating_image_url  \\\n",
       "0  https://www.tripadvisor.com/img/cdsi/img2/rati...   \n",
       "\n",
       "                                                 url  \\\n",
       "0  https://www.tripadvisor.com/ShowUserReviews-g1...   \n",
       "\n",
       "                                                text                   title  \\\n",
       "0  Stopped for a light bites chicken, chips, rice...  Good value tasty food.   \n",
       "\n",
       "  user_username user_user_location_id  \n",
       "0       Wager47                255093  "
      ]
     },
     "execution_count": 27,
     "metadata": {},
     "output_type": "execute_result"
    }
   ],
   "source": [
    "df_reviews.printSchema()\n",
    "df_reviews.limit(1).toPandas()"
   ]
  },
  {
   "cell_type": "code",
   "execution_count": 28,
   "metadata": {},
   "outputs": [
    {
     "name": "stdout",
     "output_type": "stream",
     "text": [
      "Writting tables...\n",
      "    - Tripadvisor Locations table\n"
     ]
    },
    {
     "name": "stderr",
     "output_type": "stream",
     "text": [
      "                                                                                \r"
     ]
    },
    {
     "name": "stdout",
     "output_type": "stream",
     "text": [
      "    - Tripadvisor Reviews table\n"
     ]
    },
    {
     "name": "stderr",
     "output_type": "stream",
     "text": [
      "                                                                                \r"
     ]
    }
   ],
   "source": [
    "# Prepare the DuckDB connection\n",
    "con = duckdb.connect(database='./../data/trusted_zone/barcelona_processed.db', read_only=False)\n",
    "con.close()\n",
    "\n",
    "## Write on the tables \n",
    "print('Writting tables...')\n",
    "jdbc_url = 'jdbc:duckdb:./../data/trusted_zone/barcelona_processed.db'\n",
    "driver = \"org.duckdb.DuckDBDriver\"\n",
    "\n",
    "print('    - Tripadvisor Locations table')\n",
    "df_locations.write \\\n",
    "    .format(\"jdbc\") \\\n",
    "    .option(\"url\", jdbc_url) \\\n",
    "    .option(\"dbtable\", \"df_tripadvisor_locations\") \\\n",
    "    .option(\"driver\", driver) \\\n",
    "    .mode(\"overwrite\") \\\n",
    "    .save()\n",
    "\n",
    "print('    - Tripadvisor Reviews table')\n",
    "df_reviews.write \\\n",
    "    .format(\"jdbc\") \\\n",
    "    .option(\"url\", jdbc_url) \\\n",
    "    .option(\"dbtable\", \"df_tripadvisor_reviews\") \\\n",
    "    .option(\"driver\", driver) \\\n",
    "    .mode(\"overwrite\") \\\n",
    "    .save()\n",
    "\n",
    "spark.stop()\n",
    "con.close()"
   ]
  }
 ],
 "metadata": {
  "kernelspec": {
   "display_name": "Python 3 (ipykernel)",
   "language": "python",
   "name": "python3"
  },
  "language_info": {
   "codemirror_mode": {
    "name": "ipython",
    "version": 3
   },
   "file_extension": ".py",
   "mimetype": "text/x-python",
   "name": "python",
   "nbconvert_exporter": "python",
   "pygments_lexer": "ipython3",
   "version": "3.9.7"
  }
 },
 "nbformat": 4,
 "nbformat_minor": 4
}
